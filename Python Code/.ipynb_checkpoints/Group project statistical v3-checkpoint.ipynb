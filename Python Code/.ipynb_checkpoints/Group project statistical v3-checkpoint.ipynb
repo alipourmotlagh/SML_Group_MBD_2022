{
 "cells": [
  {
   "cell_type": "markdown",
   "id": "76d138e6",
   "metadata": {
    "lines_to_next_cell": 2
   },
   "source": [
    "\n",
    "# Group project"
   ]
  },
  {
   "cell_type": "markdown",
   "id": "5932b9a4",
   "metadata": {
    "lines_to_next_cell": 2
   },
   "source": [
    "\n",
    "###### Group members: \n",
    "\n",
    "- Fajartri Anggoro\n",
    "- Mohammad Hadi Alipour Motlagh\n",
    "- Jeanne Harling"
   ]
  },
  {
   "cell_type": "markdown",
   "id": "a2fa4595",
   "metadata": {
    "lines_to_next_cell": 2
   },
   "source": [
    "\n",
    "### Importing libraries and data"
   ]
  },
  {
   "cell_type": "code",
   "execution_count": 1,
   "id": "abe6a2b3",
   "metadata": {
    "lines_to_next_cell": 2
   },
   "outputs": [
    {
     "name": "stderr",
     "output_type": "stream",
     "text": [
      "Loading required package: ParamHelpers\n",
      "\n",
      "Warning message: 'mlr' is in 'maintenance-only' mode since July 2019.\n",
      "Future development will only happen in 'mlr3'\n",
      "(<https://mlr3.mlr-org.com>). Due to the focus on 'mlr3' there might be\n",
      "uncaught bugs meanwhile in {mlr} - please consider switching.\n",
      "\n",
      "Loading required package: ggplot2\n",
      "\n",
      "Loading required package: lattice\n",
      "\n",
      "\n",
      "Attaching package: 'caret'\n",
      "\n",
      "\n",
      "The following object is masked from 'package:mlr':\n",
      "\n",
      "    train\n",
      "\n",
      "\n",
      "\n",
      "Attaching package: 'rgl'\n",
      "\n",
      "\n",
      "The following object is masked from 'package:plotrix':\n",
      "\n",
      "    mtext3d\n",
      "\n",
      "\n",
      "-- \u001b[1mAttaching packages\u001b[22m ------------------------------------------------------------------------------- tidyverse 1.3.1 --\n",
      "\n",
      "\u001b[32mv\u001b[39m \u001b[34mtibble \u001b[39m 3.1.6     \u001b[32mv\u001b[39m \u001b[34mdplyr  \u001b[39m 1.0.7\n",
      "\u001b[32mv\u001b[39m \u001b[34mtidyr  \u001b[39m 1.1.4     \u001b[32mv\u001b[39m \u001b[34mstringr\u001b[39m 1.4.0\n",
      "\u001b[32mv\u001b[39m \u001b[34mreadr  \u001b[39m 2.1.1     \u001b[32mv\u001b[39m \u001b[34mforcats\u001b[39m 0.5.1\n",
      "\u001b[32mv\u001b[39m \u001b[34mpurrr  \u001b[39m 0.3.4     \n",
      "\n",
      "-- \u001b[1mConflicts\u001b[22m ---------------------------------------------------------------------------------- tidyverse_conflicts() --\n",
      "\u001b[31mx\u001b[39m \u001b[34mdplyr\u001b[39m::\u001b[32mbetween()\u001b[39m   masks \u001b[34mdata.table\u001b[39m::between()\n",
      "\u001b[31mx\u001b[39m \u001b[34mdplyr\u001b[39m::\u001b[32mfilter()\u001b[39m    masks \u001b[34mstats\u001b[39m::filter()\n",
      "\u001b[31mx\u001b[39m \u001b[34mdplyr\u001b[39m::\u001b[32mfirst()\u001b[39m     masks \u001b[34mdata.table\u001b[39m::first()\n",
      "\u001b[31mx\u001b[39m \u001b[34mdplyr\u001b[39m::\u001b[32mlag()\u001b[39m       masks \u001b[34mstats\u001b[39m::lag()\n",
      "\u001b[31mx\u001b[39m \u001b[34mdplyr\u001b[39m::\u001b[32mlast()\u001b[39m      masks \u001b[34mdata.table\u001b[39m::last()\n",
      "\u001b[31mx\u001b[39m \u001b[34mpurrr\u001b[39m::\u001b[32mlift()\u001b[39m      masks \u001b[34mcaret\u001b[39m::lift()\n",
      "\u001b[31mx\u001b[39m \u001b[34mpurrr\u001b[39m::\u001b[32mtranspose()\u001b[39m masks \u001b[34mdata.table\u001b[39m::transpose()\n",
      "\n"
     ]
    },
    {
     "ename": "ERROR",
     "evalue": "Error in library(tracerer): there is no package called 'tracerer'\n",
     "output_type": "error",
     "traceback": [
      "Error in library(tracerer): there is no package called 'tracerer'\nTraceback:\n",
      "1. library(tracerer)"
     ]
    }
   ],
   "source": [
    "# Import libraries\n",
    "library(data.table)  # Data manipulate\n",
    "library(mlr)         # ML toolkit\n",
    "library(caret)       # ML toolkit\n",
    "library(ggplot2)     # Visualization\n",
    "library(plotrix)     # Draw circle\n",
    "library(rgl)         # 3D plots\n",
    "library(tidyverse)\n",
    "library(tracerer)\n",
    "library(ggplot2)\n",
    "library(corrplot)\n",
    "library(DataExplorer)\n",
    "library(randomForest)\n",
    "library(tree)\n",
    "library(e1071)  \n",
    "library(MASS)\n",
    "library(ROCR)\n",
    "library(Hmisc)\n",
    "library(correlation)"
   ]
  },
  {
   "cell_type": "code",
   "execution_count": 72,
   "id": "b766557d",
   "metadata": {
    "lines_to_next_cell": 2
   },
   "outputs": [],
   "source": [
    "# Importing datasets\n",
    "\n",
    "train <- read.csv(\"C:/Users/jharling/OneDrive - IESEG/Documents/GitHub/SML_Group_MBD_2022/Data/bank_mkt_train.csv\")\n",
    "test <- read.csv(\"C:/Users/jharling/OneDrive - IESEG/Documents/GitHub/SML_Group_MBD_2022/Data/bank_mkt_test.csv\")"
   ]
  },
  {
   "cell_type": "code",
   "execution_count": 6,
   "id": "e750d8b9",
   "metadata": {
    "lines_to_next_cell": 2
   },
   "outputs": [
    {
     "data": {
      "text/html": [
       "<table class=\"dataframe\">\n",
       "<caption>A data.frame: 20000 × 21</caption>\n",
       "<thead>\n",
       "\t<tr><th scope=col>client_id</th><th scope=col>age</th><th scope=col>job</th><th scope=col>marital</th><th scope=col>education</th><th scope=col>default</th><th scope=col>housing</th><th scope=col>loan</th><th scope=col>contact</th><th scope=col>month</th><th scope=col>⋯</th><th scope=col>campaign</th><th scope=col>pdays</th><th scope=col>previous</th><th scope=col>poutcome</th><th scope=col>emp.var.rate</th><th scope=col>cons.price.idx</th><th scope=col>cons.conf.idx</th><th scope=col>euribor3m</th><th scope=col>nr.employed</th><th scope=col>subscribe</th></tr>\n",
       "\t<tr><th scope=col>&lt;int&gt;</th><th scope=col>&lt;int&gt;</th><th scope=col>&lt;chr&gt;</th><th scope=col>&lt;chr&gt;</th><th scope=col>&lt;chr&gt;</th><th scope=col>&lt;chr&gt;</th><th scope=col>&lt;chr&gt;</th><th scope=col>&lt;chr&gt;</th><th scope=col>&lt;chr&gt;</th><th scope=col>&lt;chr&gt;</th><th scope=col>⋯</th><th scope=col>&lt;int&gt;</th><th scope=col>&lt;int&gt;</th><th scope=col>&lt;int&gt;</th><th scope=col>&lt;chr&gt;</th><th scope=col>&lt;dbl&gt;</th><th scope=col>&lt;dbl&gt;</th><th scope=col>&lt;dbl&gt;</th><th scope=col>&lt;dbl&gt;</th><th scope=col>&lt;dbl&gt;</th><th scope=col>&lt;int&gt;</th></tr>\n",
       "</thead>\n",
       "<tbody>\n",
       "\t<tr><td>29925</td><td>42</td><td>management  </td><td>married </td><td>basic.9y           </td><td>no     </td><td>no     </td><td>no     </td><td>cellular </td><td>jul</td><td>⋯</td><td>1</td><td>999</td><td>0</td><td>nonexistent</td><td> 1.4</td><td>93.918</td><td>-42.7</td><td>4.968</td><td>5228.1</td><td>0</td></tr>\n",
       "\t<tr><td>37529</td><td>35</td><td>unemployed  </td><td>married </td><td>university.degree  </td><td>no     </td><td>yes    </td><td>no     </td><td>telephone</td><td>jun</td><td>⋯</td><td>4</td><td>999</td><td>0</td><td>nonexistent</td><td> 1.4</td><td>94.465</td><td>-41.8</td><td>4.960</td><td>5228.1</td><td>0</td></tr>\n",
       "\t<tr><td> 2757</td><td>44</td><td>technician  </td><td>married </td><td>basic.9y           </td><td>no     </td><td>yes    </td><td>yes    </td><td>cellular </td><td>may</td><td>⋯</td><td>1</td><td>999</td><td>0</td><td>nonexistent</td><td>-1.8</td><td>92.893</td><td>-46.2</td><td>1.264</td><td>5099.1</td><td>0</td></tr>\n",
       "\t<tr><td> 9642</td><td>45</td><td>services    </td><td>married </td><td>high.school        </td><td>no     </td><td>yes    </td><td>no     </td><td>cellular </td><td>apr</td><td>⋯</td><td>1</td><td>999</td><td>0</td><td>nonexistent</td><td>-1.8</td><td>93.075</td><td>-47.1</td><td>1.453</td><td>5099.1</td><td>0</td></tr>\n",
       "\t<tr><td>14183</td><td>45</td><td>unknown     </td><td>married </td><td>unknown            </td><td>unknown</td><td>unknown</td><td>unknown</td><td>telephone</td><td>may</td><td>⋯</td><td>1</td><td>999</td><td>0</td><td>nonexistent</td><td> 1.1</td><td>93.994</td><td>-36.4</td><td>4.859</td><td>5191.0</td><td>0</td></tr>\n",
       "\t<tr><td>15180</td><td>38</td><td>technician  </td><td>married </td><td>professional.course</td><td>no     </td><td>no     </td><td>no     </td><td>telephone</td><td>may</td><td>⋯</td><td>2</td><td>999</td><td>0</td><td>nonexistent</td><td> 1.1</td><td>93.994</td><td>-36.4</td><td>4.858</td><td>5191.0</td><td>0</td></tr>\n",
       "\t<tr><td>27168</td><td>33</td><td>technician  </td><td>married </td><td>professional.course</td><td>no     </td><td>no     </td><td>yes    </td><td>cellular </td><td>apr</td><td>⋯</td><td>1</td><td> NA</td><td>1</td><td>failure    </td><td>-1.8</td><td>93.075</td><td>-47.1</td><td>1.405</td><td>5099.1</td><td>1</td></tr>\n",
       "\t<tr><td> 9097</td><td>38</td><td>blue-collar </td><td>single  </td><td>basic.9y           </td><td>unknown</td><td>yes    </td><td>no     </td><td>telephone</td><td>may</td><td>⋯</td><td>1</td><td>999</td><td>0</td><td>nonexistent</td><td> 1.1</td><td>93.994</td><td>-36.4</td><td>4.857</td><td>5191.0</td><td>0</td></tr>\n",
       "\t<tr><td>30538</td><td>29</td><td>blue-collar </td><td>single  </td><td>unknown            </td><td>no     </td><td>yes    </td><td>no     </td><td>cellular </td><td>may</td><td>⋯</td><td>1</td><td>999</td><td>1</td><td>failure    </td><td>-1.8</td><td>92.893</td><td>-46.2</td><td>1.250</td><td>5099.1</td><td>0</td></tr>\n",
       "\t<tr><td>28981</td><td>34</td><td>admin.      </td><td>divorced</td><td>university.degree  </td><td>no     </td><td>yes    </td><td>yes    </td><td>cellular </td><td>aug</td><td>⋯</td><td>1</td><td>999</td><td>0</td><td>nonexistent</td><td> 1.4</td><td>93.444</td><td>-36.1</td><td>4.965</td><td>5228.1</td><td>0</td></tr>\n",
       "\t<tr><td> 7989</td><td>47</td><td>blue-collar </td><td>married </td><td>high.school        </td><td>unknown</td><td>yes    </td><td>no     </td><td>telephone</td><td>jun</td><td>⋯</td><td>3</td><td>999</td><td>0</td><td>nonexistent</td><td> 1.4</td><td>94.465</td><td>-41.8</td><td>4.961</td><td>5228.1</td><td>0</td></tr>\n",
       "\t<tr><td>13536</td><td>30</td><td>blue-collar </td><td>single  </td><td>basic.9y           </td><td>no     </td><td>yes    </td><td>no     </td><td>cellular </td><td>jul</td><td>⋯</td><td>1</td><td>999</td><td>0</td><td>nonexistent</td><td> 1.4</td><td>93.918</td><td>-42.7</td><td>4.963</td><td>5228.1</td><td>0</td></tr>\n",
       "\t<tr><td>24541</td><td>30</td><td>admin.      </td><td>married </td><td>basic.6y           </td><td>no     </td><td>yes    </td><td>no     </td><td>cellular </td><td>jul</td><td>⋯</td><td>1</td><td>999</td><td>0</td><td>nonexistent</td><td> 1.4</td><td>93.918</td><td>-42.7</td><td>4.958</td><td>5228.1</td><td>0</td></tr>\n",
       "\t<tr><td> 6216</td><td>35</td><td>services    </td><td>married </td><td>basic.6y           </td><td>unknown</td><td>yes    </td><td>no     </td><td>cellular </td><td>may</td><td>⋯</td><td>2</td><td>999</td><td>0</td><td>nonexistent</td><td>-1.8</td><td>92.893</td><td>-46.2</td><td>1.344</td><td>5099.1</td><td>0</td></tr>\n",
       "\t<tr><td>17983</td><td>45</td><td>management  </td><td>married </td><td>professional.course</td><td>no     </td><td>no     </td><td>no     </td><td>cellular </td><td>nov</td><td>⋯</td><td>1</td><td>999</td><td>0</td><td>nonexistent</td><td>-0.1</td><td>93.200</td><td>-42.0</td><td>4.076</td><td>5195.8</td><td>1</td></tr>\n",
       "\t<tr><td>29394</td><td>37</td><td>entrepreneur</td><td>married </td><td>university.degree  </td><td>unknown</td><td>yes    </td><td>no     </td><td>cellular </td><td>nov</td><td>⋯</td><td>2</td><td>999</td><td>1</td><td>failure    </td><td>-0.1</td><td>93.200</td><td>-42.0</td><td>4.191</td><td>5195.8</td><td>0</td></tr>\n",
       "\t<tr><td>28825</td><td>48</td><td>blue-collar </td><td>married </td><td>basic.6y           </td><td>no     </td><td>no     </td><td>no     </td><td>telephone</td><td>jun</td><td>⋯</td><td>2</td><td>999</td><td>0</td><td>nonexistent</td><td> 1.4</td><td>94.465</td><td>-41.8</td><td>4.866</td><td>5228.1</td><td>0</td></tr>\n",
       "\t<tr><td>   41</td><td>47</td><td>admin.      </td><td>married </td><td>basic.6y           </td><td>unknown</td><td>yes    </td><td>no     </td><td>cellular </td><td>apr</td><td>⋯</td><td>2</td><td>999</td><td>1</td><td>failure    </td><td>-1.8</td><td>93.075</td><td>-47.1</td><td>1.410</td><td>5099.1</td><td>0</td></tr>\n",
       "\t<tr><td> 7284</td><td>35</td><td>blue-collar </td><td>married </td><td>basic.9y           </td><td>no     </td><td>yes    </td><td>no     </td><td>telephone</td><td>may</td><td>⋯</td><td>1</td><td>999</td><td>0</td><td>nonexistent</td><td> 1.1</td><td>93.994</td><td>-36.4</td><td>4.858</td><td>5191.0</td><td>0</td></tr>\n",
       "\t<tr><td>28502</td><td>34</td><td>technician  </td><td>married </td><td>professional.course</td><td>no     </td><td>no     </td><td>no     </td><td>cellular </td><td>apr</td><td>⋯</td><td>3</td><td>999</td><td>0</td><td>nonexistent</td><td>-1.8</td><td>93.075</td><td>-47.1</td><td>1.405</td><td>5099.1</td><td>0</td></tr>\n",
       "\t<tr><td>11473</td><td>60</td><td>technician  </td><td>married </td><td>university.degree  </td><td>unknown</td><td>yes    </td><td>no     </td><td>telephone</td><td>may</td><td>⋯</td><td>5</td><td>999</td><td>0</td><td>nonexistent</td><td> 1.1</td><td>93.994</td><td>-36.4</td><td>4.855</td><td>5191.0</td><td>0</td></tr>\n",
       "\t<tr><td> 6134</td><td>35</td><td>services    </td><td>single  </td><td>high.school        </td><td>no     </td><td>no     </td><td>no     </td><td>cellular </td><td>may</td><td>⋯</td><td>2</td><td>999</td><td>1</td><td>failure    </td><td>-1.8</td><td>92.893</td><td>-46.2</td><td>1.334</td><td>5099.1</td><td>0</td></tr>\n",
       "\t<tr><td>33523</td><td>32</td><td>technician  </td><td>married </td><td>university.degree  </td><td>no     </td><td>yes    </td><td>no     </td><td>cellular </td><td>may</td><td>⋯</td><td>1</td><td>999</td><td>0</td><td>nonexistent</td><td>-1.8</td><td>92.893</td><td>-46.2</td><td>1.281</td><td>5099.1</td><td>0</td></tr>\n",
       "\t<tr><td>21812</td><td>49</td><td>blue-collar </td><td>married </td><td>unknown            </td><td>unknown</td><td>yes    </td><td>no     </td><td>telephone</td><td>may</td><td>⋯</td><td>1</td><td>999</td><td>0</td><td>nonexistent</td><td> 1.1</td><td>93.994</td><td>-36.4</td><td>4.856</td><td>5191.0</td><td>0</td></tr>\n",
       "\t<tr><td>39895</td><td>45</td><td>technician  </td><td>single  </td><td>professional.course</td><td>no     </td><td>no     </td><td>no     </td><td>telephone</td><td>may</td><td>⋯</td><td>2</td><td>999</td><td>0</td><td>nonexistent</td><td> 1.1</td><td>93.994</td><td>-36.4</td><td>4.856</td><td>5191.0</td><td>0</td></tr>\n",
       "\t<tr><td> 9326</td><td>33</td><td>blue-collar </td><td>single  </td><td>basic.9y           </td><td>unknown</td><td>yes    </td><td>no     </td><td>telephone</td><td>jun</td><td>⋯</td><td>4</td><td>999</td><td>0</td><td>nonexistent</td><td> 1.4</td><td>94.465</td><td>-41.8</td><td>4.865</td><td>5228.1</td><td>0</td></tr>\n",
       "\t<tr><td>26510</td><td>34</td><td>management  </td><td>single  </td><td>university.degree  </td><td>no     </td><td>unknown</td><td>unknown</td><td>telephone</td><td>nov</td><td>⋯</td><td>5</td><td>999</td><td>0</td><td>nonexistent</td><td>-0.1</td><td>93.200</td><td>-42.0</td><td>4.021</td><td>5195.8</td><td>0</td></tr>\n",
       "\t<tr><td>20960</td><td>57</td><td>retired     </td><td>married </td><td>university.degree  </td><td>no     </td><td>yes    </td><td>no     </td><td>telephone</td><td>may</td><td>⋯</td><td>1</td><td>999</td><td>0</td><td>nonexistent</td><td> 1.1</td><td>93.994</td><td>-36.4</td><td>4.856</td><td>5191.0</td><td>0</td></tr>\n",
       "\t<tr><td>14403</td><td>50</td><td>technician  </td><td>single  </td><td>professional.course</td><td>no     </td><td>no     </td><td>yes    </td><td>cellular </td><td>jul</td><td>⋯</td><td>8</td><td>999</td><td>0</td><td>nonexistent</td><td> 1.4</td><td>93.918</td><td>-42.7</td><td>4.962</td><td>5228.1</td><td>0</td></tr>\n",
       "\t<tr><td>28799</td><td>49</td><td>housemaid   </td><td>married </td><td>university.degree  </td><td>no     </td><td>yes    </td><td>no     </td><td>cellular </td><td>aug</td><td>⋯</td><td>2</td><td>999</td><td>0</td><td>nonexistent</td><td> 1.4</td><td>93.444</td><td>-36.1</td><td>4.967</td><td>5228.1</td><td>0</td></tr>\n",
       "\t<tr><td>⋮</td><td>⋮</td><td>⋮</td><td>⋮</td><td>⋮</td><td>⋮</td><td>⋮</td><td>⋮</td><td>⋮</td><td>⋮</td><td>⋱</td><td>⋮</td><td>⋮</td><td>⋮</td><td>⋮</td><td>⋮</td><td>⋮</td><td>⋮</td><td>⋮</td><td>⋮</td><td>⋮</td></tr>\n",
       "\t<tr><td> 3036</td><td>33</td><td>self-employed</td><td>married </td><td>university.degree  </td><td>no     </td><td>no     </td><td>no     </td><td>cellular </td><td>aug</td><td>⋯</td><td> 3</td><td>999</td><td> 0</td><td>nonexistent</td><td> 1.4</td><td>93.444</td><td>-36.1</td><td>4.965</td><td>5228.1</td><td>0</td></tr>\n",
       "\t<tr><td>19102</td><td>31</td><td>admin.       </td><td>single  </td><td>university.degree  </td><td>unknown</td><td>yes    </td><td>no     </td><td>cellular </td><td>aug</td><td>⋯</td><td> 1</td><td>999</td><td> 0</td><td>nonexistent</td><td> 1.4</td><td>93.444</td><td>-36.1</td><td>4.964</td><td>5228.1</td><td>0</td></tr>\n",
       "\t<tr><td>37729</td><td>46</td><td>technician   </td><td>married </td><td>professional.course</td><td>no     </td><td>no     </td><td>no     </td><td>telephone</td><td>may</td><td>⋯</td><td> 1</td><td>999</td><td> 0</td><td>nonexistent</td><td> 1.1</td><td>93.994</td><td>-36.4</td><td>4.860</td><td>5191.0</td><td>0</td></tr>\n",
       "\t<tr><td>20186</td><td>50</td><td>self-employed</td><td>married </td><td>unknown            </td><td>no     </td><td>unknown</td><td>unknown</td><td>cellular </td><td>jul</td><td>⋯</td><td> 2</td><td>999</td><td> 0</td><td>nonexistent</td><td>-2.9</td><td>92.469</td><td>-33.6</td><td>0.914</td><td>5076.2</td><td>0</td></tr>\n",
       "\t<tr><td>38059</td><td>43</td><td>admin.       </td><td>divorced</td><td>university.degree  </td><td>unknown</td><td>no     </td><td>no     </td><td>cellular </td><td>aug</td><td>⋯</td><td> 2</td><td>999</td><td> 0</td><td>nonexistent</td><td> 1.4</td><td>93.444</td><td>-36.1</td><td>4.966</td><td>5228.1</td><td>0</td></tr>\n",
       "\t<tr><td> 8099</td><td>32</td><td>technician   </td><td>divorced</td><td>professional.course</td><td>no     </td><td>no     </td><td>no     </td><td>cellular </td><td>nov</td><td>⋯</td><td> 1</td><td>999</td><td> 0</td><td>nonexistent</td><td>-0.1</td><td>93.200</td><td>-42.0</td><td>4.153</td><td>5195.8</td><td>0</td></tr>\n",
       "\t<tr><td>15178</td><td>37</td><td>housemaid    </td><td>married </td><td>basic.4y           </td><td>unknown</td><td>no     </td><td>yes    </td><td>cellular </td><td>aug</td><td>⋯</td><td> 2</td><td>999</td><td> 0</td><td>nonexistent</td><td> 1.4</td><td>93.444</td><td>-36.1</td><td>4.965</td><td>5228.1</td><td>0</td></tr>\n",
       "\t<tr><td>18920</td><td>47</td><td>technician   </td><td>divorced</td><td>high.school        </td><td>no     </td><td>yes    </td><td>no     </td><td>telephone</td><td>jun</td><td>⋯</td><td> 2</td><td>999</td><td>NA</td><td>nonexistent</td><td> 1.4</td><td>94.465</td><td>-41.8</td><td>4.865</td><td>5228.1</td><td>0</td></tr>\n",
       "\t<tr><td>19757</td><td>31</td><td>admin.       </td><td>single  </td><td>university.degree  </td><td>no     </td><td>yes    </td><td>no     </td><td>cellular </td><td>aug</td><td>⋯</td><td> 1</td><td>999</td><td> 0</td><td>nonexistent</td><td> 1.4</td><td>93.444</td><td>-36.1</td><td>4.965</td><td>5228.1</td><td>0</td></tr>\n",
       "\t<tr><td> 9327</td><td>31</td><td>admin.       </td><td>single  </td><td>university.degree  </td><td>unknown</td><td>no     </td><td>yes    </td><td>cellular </td><td>aug</td><td>⋯</td><td> 1</td><td>999</td><td> 0</td><td>nonexistent</td><td> 1.4</td><td>93.444</td><td>-36.1</td><td>4.968</td><td>5228.1</td><td>0</td></tr>\n",
       "\t<tr><td>16641</td><td>51</td><td>technician   </td><td>married </td><td>professional.course</td><td>no     </td><td>yes    </td><td>no     </td><td>cellular </td><td>oct</td><td>⋯</td><td> 6</td><td>  6</td><td> 3</td><td>failure    </td><td>-3.4</td><td>92.431</td><td>-26.9</td><td>0.754</td><td>5017.5</td><td>0</td></tr>\n",
       "\t<tr><td> 9656</td><td>30</td><td>admin.       </td><td>married </td><td>university.degree  </td><td>no     </td><td>yes    </td><td>no     </td><td>cellular </td><td>aug</td><td>⋯</td><td> 3</td><td>999</td><td> 0</td><td>nonexistent</td><td> 1.4</td><td>93.444</td><td>-36.1</td><td>4.963</td><td>5228.1</td><td>0</td></tr>\n",
       "\t<tr><td>37330</td><td>42</td><td>technician   </td><td>married </td><td>professional.course</td><td>unknown</td><td>yes    </td><td>no     </td><td>telephone</td><td>may</td><td>⋯</td><td> 3</td><td>999</td><td> 0</td><td>nonexistent</td><td> 1.1</td><td>93.994</td><td>-36.4</td><td>4.864</td><td>5191.0</td><td>0</td></tr>\n",
       "\t<tr><td>34568</td><td>32</td><td>blue-collar  </td><td>married </td><td>basic.6y           </td><td>no     </td><td>yes    </td><td>no     </td><td>telephone</td><td>may</td><td>⋯</td><td> 3</td><td>999</td><td> 0</td><td>nonexistent</td><td> 1.1</td><td>93.994</td><td>-36.4</td><td>4.860</td><td>5191.0</td><td>0</td></tr>\n",
       "\t<tr><td>23095</td><td>41</td><td>blue-collar  </td><td>married </td><td>basic.6y           </td><td>no     </td><td>yes    </td><td>no     </td><td>cellular </td><td>jul</td><td>⋯</td><td> 3</td><td>999</td><td> 0</td><td>nonexistent</td><td> 1.4</td><td>93.918</td><td>-42.7</td><td>4.968</td><td>5228.1</td><td>0</td></tr>\n",
       "\t<tr><td>25383</td><td>48</td><td>admin.       </td><td>divorced</td><td>high.school        </td><td>no     </td><td>no     </td><td>yes    </td><td>telephone</td><td>may</td><td>⋯</td><td> 2</td><td>999</td><td> 0</td><td>nonexistent</td><td> 1.1</td><td>93.994</td><td>-36.4</td><td>4.856</td><td>5191.0</td><td>0</td></tr>\n",
       "\t<tr><td>16918</td><td>31</td><td>admin.       </td><td>NA      </td><td>university.degree  </td><td>no     </td><td>yes    </td><td>yes    </td><td>cellular </td><td>sep</td><td>⋯</td><td> 1</td><td>999</td><td> 0</td><td>nonexistent</td><td>-1.1</td><td>94.199</td><td>-37.5</td><td>0.877</td><td>4963.6</td><td>1</td></tr>\n",
       "\t<tr><td> 4245</td><td>35</td><td>blue-collar  </td><td>single  </td><td>unknown            </td><td>no     </td><td>yes    </td><td>no     </td><td>telephone</td><td>jul</td><td>⋯</td><td>NA</td><td>999</td><td> 0</td><td>nonexistent</td><td> 1.4</td><td>93.918</td><td>-42.7</td><td>4.960</td><td>5228.1</td><td>0</td></tr>\n",
       "\t<tr><td>21920</td><td>39</td><td>blue-collar  </td><td>married </td><td>basic.4y           </td><td>unknown</td><td>yes    </td><td>no     </td><td>telephone</td><td>may</td><td>⋯</td><td> 1</td><td>999</td><td> 0</td><td>nonexistent</td><td> 1.1</td><td>    NA</td><td>-36.4</td><td>4.859</td><td>5191.0</td><td>0</td></tr>\n",
       "\t<tr><td>29000</td><td>21</td><td>student      </td><td>single  </td><td>high.school        </td><td>no     </td><td>no     </td><td>no     </td><td>cellular </td><td>oct</td><td>⋯</td><td> 1</td><td>999</td><td> 0</td><td>nonexistent</td><td>-3.4</td><td>92.431</td><td>   NA</td><td>0.728</td><td>5017.5</td><td>1</td></tr>\n",
       "\t<tr><td> 6627</td><td>28</td><td>admin.       </td><td>single  </td><td>university.degree  </td><td>no     </td><td>yes    </td><td>no     </td><td>cellular </td><td>sep</td><td>⋯</td><td> 1</td><td>  1</td><td> 3</td><td>success    </td><td>-3.4</td><td>92.379</td><td>-29.8</td><td>0.773</td><td>5017.5</td><td>1</td></tr>\n",
       "\t<tr><td>35702</td><td>29</td><td>admin.       </td><td>single  </td><td>university.degree  </td><td>no     </td><td>yes    </td><td>no     </td><td>cellular </td><td>aug</td><td>⋯</td><td> 1</td><td>999</td><td> 0</td><td>nonexistent</td><td> 1.4</td><td>93.444</td><td>-36.1</td><td>4.963</td><td>5228.1</td><td>0</td></tr>\n",
       "\t<tr><td>38555</td><td>49</td><td>services     </td><td>married </td><td>basic.4y           </td><td>unknown</td><td>no     </td><td>no     </td><td>cellular </td><td>aug</td><td>⋯</td><td> 2</td><td>999</td><td> 0</td><td>nonexistent</td><td> 1.4</td><td>93.444</td><td>-36.1</td><td>4.963</td><td>5228.1</td><td>1</td></tr>\n",
       "\t<tr><td>23289</td><td>38</td><td>blue-collar  </td><td>divorced</td><td>high.school        </td><td>no     </td><td>yes    </td><td>no     </td><td>cellular </td><td>may</td><td>⋯</td><td> 6</td><td>999</td><td> 1</td><td>failure    </td><td>-1.8</td><td>92.893</td><td>-46.2</td><td>1.344</td><td>5099.1</td><td>0</td></tr>\n",
       "\t<tr><td> 2969</td><td>36</td><td>blue-collar  </td><td>single  </td><td>high.school        </td><td>no     </td><td>yes    </td><td>no     </td><td>cellular </td><td>jul</td><td>⋯</td><td>24</td><td>999</td><td> 0</td><td>nonexistent</td><td> 1.4</td><td>93.918</td><td>-42.7</td><td>4.968</td><td>5228.1</td><td>0</td></tr>\n",
       "\t<tr><td>13724</td><td>45</td><td>unknown      </td><td>unknown </td><td>unknown            </td><td>no     </td><td>yes    </td><td>yes    </td><td>cellular </td><td>jul</td><td>⋯</td><td> 1</td><td>999</td><td> 0</td><td>nonexistent</td><td> 1.4</td><td>93.918</td><td>-42.7</td><td>4.957</td><td>5228.1</td><td>1</td></tr>\n",
       "\t<tr><td>29863</td><td>26</td><td>admin.       </td><td>single  </td><td>university.degree  </td><td>no     </td><td>yes    </td><td>no     </td><td>cellular </td><td>may</td><td>⋯</td><td> 2</td><td>999</td><td> 1</td><td>failure    </td><td>-1.8</td><td>92.893</td><td>-46.2</td><td>1.299</td><td>5099.1</td><td>0</td></tr>\n",
       "\t<tr><td> 9841</td><td>33</td><td>admin.       </td><td>married </td><td>high.school        </td><td>no     </td><td>yes    </td><td>yes    </td><td>cellular </td><td>may</td><td>⋯</td><td> 1</td><td>999</td><td> 1</td><td>failure    </td><td>-1.8</td><td>92.893</td><td>-46.2</td><td>1.299</td><td>5099.1</td><td>0</td></tr>\n",
       "\t<tr><td>36432</td><td>43</td><td>admin.       </td><td>married </td><td>high.school        </td><td>no     </td><td>yes    </td><td>no     </td><td>telephone</td><td>jul</td><td>⋯</td><td>10</td><td>999</td><td> 0</td><td>nonexistent</td><td> 1.4</td><td>93.918</td><td>-42.7</td><td>4.960</td><td>5228.1</td><td>0</td></tr>\n",
       "\t<tr><td>15639</td><td>55</td><td>blue-collar  </td><td>married </td><td>basic.9y           </td><td>no     </td><td>yes    </td><td>yes    </td><td>cellular </td><td>aug</td><td>⋯</td><td> 3</td><td>999</td><td> 0</td><td>nonexistent</td><td> 1.4</td><td>93.444</td><td>-36.1</td><td>4.963</td><td>5228.1</td><td>0</td></tr>\n",
       "</tbody>\n",
       "</table>\n"
      ],
      "text/latex": [
       "A data.frame: 20000 × 21\n",
       "\\begin{tabular}{lllllllllllllllllllll}\n",
       " client\\_id & age & job & marital & education & default & housing & loan & contact & month & ⋯ & campaign & pdays & previous & poutcome & emp.var.rate & cons.price.idx & cons.conf.idx & euribor3m & nr.employed & subscribe\\\\\n",
       " <int> & <int> & <chr> & <chr> & <chr> & <chr> & <chr> & <chr> & <chr> & <chr> & ⋯ & <int> & <int> & <int> & <chr> & <dbl> & <dbl> & <dbl> & <dbl> & <dbl> & <int>\\\\\n",
       "\\hline\n",
       "\t 29925 & 42 & management   & married  & basic.9y            & no      & no      & no      & cellular  & jul & ⋯ & 1 & 999 & 0 & nonexistent &  1.4 & 93.918 & -42.7 & 4.968 & 5228.1 & 0\\\\\n",
       "\t 37529 & 35 & unemployed   & married  & university.degree   & no      & yes     & no      & telephone & jun & ⋯ & 4 & 999 & 0 & nonexistent &  1.4 & 94.465 & -41.8 & 4.960 & 5228.1 & 0\\\\\n",
       "\t  2757 & 44 & technician   & married  & basic.9y            & no      & yes     & yes     & cellular  & may & ⋯ & 1 & 999 & 0 & nonexistent & -1.8 & 92.893 & -46.2 & 1.264 & 5099.1 & 0\\\\\n",
       "\t  9642 & 45 & services     & married  & high.school         & no      & yes     & no      & cellular  & apr & ⋯ & 1 & 999 & 0 & nonexistent & -1.8 & 93.075 & -47.1 & 1.453 & 5099.1 & 0\\\\\n",
       "\t 14183 & 45 & unknown      & married  & unknown             & unknown & unknown & unknown & telephone & may & ⋯ & 1 & 999 & 0 & nonexistent &  1.1 & 93.994 & -36.4 & 4.859 & 5191.0 & 0\\\\\n",
       "\t 15180 & 38 & technician   & married  & professional.course & no      & no      & no      & telephone & may & ⋯ & 2 & 999 & 0 & nonexistent &  1.1 & 93.994 & -36.4 & 4.858 & 5191.0 & 0\\\\\n",
       "\t 27168 & 33 & technician   & married  & professional.course & no      & no      & yes     & cellular  & apr & ⋯ & 1 &  NA & 1 & failure     & -1.8 & 93.075 & -47.1 & 1.405 & 5099.1 & 1\\\\\n",
       "\t  9097 & 38 & blue-collar  & single   & basic.9y            & unknown & yes     & no      & telephone & may & ⋯ & 1 & 999 & 0 & nonexistent &  1.1 & 93.994 & -36.4 & 4.857 & 5191.0 & 0\\\\\n",
       "\t 30538 & 29 & blue-collar  & single   & unknown             & no      & yes     & no      & cellular  & may & ⋯ & 1 & 999 & 1 & failure     & -1.8 & 92.893 & -46.2 & 1.250 & 5099.1 & 0\\\\\n",
       "\t 28981 & 34 & admin.       & divorced & university.degree   & no      & yes     & yes     & cellular  & aug & ⋯ & 1 & 999 & 0 & nonexistent &  1.4 & 93.444 & -36.1 & 4.965 & 5228.1 & 0\\\\\n",
       "\t  7989 & 47 & blue-collar  & married  & high.school         & unknown & yes     & no      & telephone & jun & ⋯ & 3 & 999 & 0 & nonexistent &  1.4 & 94.465 & -41.8 & 4.961 & 5228.1 & 0\\\\\n",
       "\t 13536 & 30 & blue-collar  & single   & basic.9y            & no      & yes     & no      & cellular  & jul & ⋯ & 1 & 999 & 0 & nonexistent &  1.4 & 93.918 & -42.7 & 4.963 & 5228.1 & 0\\\\\n",
       "\t 24541 & 30 & admin.       & married  & basic.6y            & no      & yes     & no      & cellular  & jul & ⋯ & 1 & 999 & 0 & nonexistent &  1.4 & 93.918 & -42.7 & 4.958 & 5228.1 & 0\\\\\n",
       "\t  6216 & 35 & services     & married  & basic.6y            & unknown & yes     & no      & cellular  & may & ⋯ & 2 & 999 & 0 & nonexistent & -1.8 & 92.893 & -46.2 & 1.344 & 5099.1 & 0\\\\\n",
       "\t 17983 & 45 & management   & married  & professional.course & no      & no      & no      & cellular  & nov & ⋯ & 1 & 999 & 0 & nonexistent & -0.1 & 93.200 & -42.0 & 4.076 & 5195.8 & 1\\\\\n",
       "\t 29394 & 37 & entrepreneur & married  & university.degree   & unknown & yes     & no      & cellular  & nov & ⋯ & 2 & 999 & 1 & failure     & -0.1 & 93.200 & -42.0 & 4.191 & 5195.8 & 0\\\\\n",
       "\t 28825 & 48 & blue-collar  & married  & basic.6y            & no      & no      & no      & telephone & jun & ⋯ & 2 & 999 & 0 & nonexistent &  1.4 & 94.465 & -41.8 & 4.866 & 5228.1 & 0\\\\\n",
       "\t    41 & 47 & admin.       & married  & basic.6y            & unknown & yes     & no      & cellular  & apr & ⋯ & 2 & 999 & 1 & failure     & -1.8 & 93.075 & -47.1 & 1.410 & 5099.1 & 0\\\\\n",
       "\t  7284 & 35 & blue-collar  & married  & basic.9y            & no      & yes     & no      & telephone & may & ⋯ & 1 & 999 & 0 & nonexistent &  1.1 & 93.994 & -36.4 & 4.858 & 5191.0 & 0\\\\\n",
       "\t 28502 & 34 & technician   & married  & professional.course & no      & no      & no      & cellular  & apr & ⋯ & 3 & 999 & 0 & nonexistent & -1.8 & 93.075 & -47.1 & 1.405 & 5099.1 & 0\\\\\n",
       "\t 11473 & 60 & technician   & married  & university.degree   & unknown & yes     & no      & telephone & may & ⋯ & 5 & 999 & 0 & nonexistent &  1.1 & 93.994 & -36.4 & 4.855 & 5191.0 & 0\\\\\n",
       "\t  6134 & 35 & services     & single   & high.school         & no      & no      & no      & cellular  & may & ⋯ & 2 & 999 & 1 & failure     & -1.8 & 92.893 & -46.2 & 1.334 & 5099.1 & 0\\\\\n",
       "\t 33523 & 32 & technician   & married  & university.degree   & no      & yes     & no      & cellular  & may & ⋯ & 1 & 999 & 0 & nonexistent & -1.8 & 92.893 & -46.2 & 1.281 & 5099.1 & 0\\\\\n",
       "\t 21812 & 49 & blue-collar  & married  & unknown             & unknown & yes     & no      & telephone & may & ⋯ & 1 & 999 & 0 & nonexistent &  1.1 & 93.994 & -36.4 & 4.856 & 5191.0 & 0\\\\\n",
       "\t 39895 & 45 & technician   & single   & professional.course & no      & no      & no      & telephone & may & ⋯ & 2 & 999 & 0 & nonexistent &  1.1 & 93.994 & -36.4 & 4.856 & 5191.0 & 0\\\\\n",
       "\t  9326 & 33 & blue-collar  & single   & basic.9y            & unknown & yes     & no      & telephone & jun & ⋯ & 4 & 999 & 0 & nonexistent &  1.4 & 94.465 & -41.8 & 4.865 & 5228.1 & 0\\\\\n",
       "\t 26510 & 34 & management   & single   & university.degree   & no      & unknown & unknown & telephone & nov & ⋯ & 5 & 999 & 0 & nonexistent & -0.1 & 93.200 & -42.0 & 4.021 & 5195.8 & 0\\\\\n",
       "\t 20960 & 57 & retired      & married  & university.degree   & no      & yes     & no      & telephone & may & ⋯ & 1 & 999 & 0 & nonexistent &  1.1 & 93.994 & -36.4 & 4.856 & 5191.0 & 0\\\\\n",
       "\t 14403 & 50 & technician   & single   & professional.course & no      & no      & yes     & cellular  & jul & ⋯ & 8 & 999 & 0 & nonexistent &  1.4 & 93.918 & -42.7 & 4.962 & 5228.1 & 0\\\\\n",
       "\t 28799 & 49 & housemaid    & married  & university.degree   & no      & yes     & no      & cellular  & aug & ⋯ & 2 & 999 & 0 & nonexistent &  1.4 & 93.444 & -36.1 & 4.967 & 5228.1 & 0\\\\\n",
       "\t ⋮ & ⋮ & ⋮ & ⋮ & ⋮ & ⋮ & ⋮ & ⋮ & ⋮ & ⋮ & ⋱ & ⋮ & ⋮ & ⋮ & ⋮ & ⋮ & ⋮ & ⋮ & ⋮ & ⋮ & ⋮\\\\\n",
       "\t  3036 & 33 & self-employed & married  & university.degree   & no      & no      & no      & cellular  & aug & ⋯ &  3 & 999 &  0 & nonexistent &  1.4 & 93.444 & -36.1 & 4.965 & 5228.1 & 0\\\\\n",
       "\t 19102 & 31 & admin.        & single   & university.degree   & unknown & yes     & no      & cellular  & aug & ⋯ &  1 & 999 &  0 & nonexistent &  1.4 & 93.444 & -36.1 & 4.964 & 5228.1 & 0\\\\\n",
       "\t 37729 & 46 & technician    & married  & professional.course & no      & no      & no      & telephone & may & ⋯ &  1 & 999 &  0 & nonexistent &  1.1 & 93.994 & -36.4 & 4.860 & 5191.0 & 0\\\\\n",
       "\t 20186 & 50 & self-employed & married  & unknown             & no      & unknown & unknown & cellular  & jul & ⋯ &  2 & 999 &  0 & nonexistent & -2.9 & 92.469 & -33.6 & 0.914 & 5076.2 & 0\\\\\n",
       "\t 38059 & 43 & admin.        & divorced & university.degree   & unknown & no      & no      & cellular  & aug & ⋯ &  2 & 999 &  0 & nonexistent &  1.4 & 93.444 & -36.1 & 4.966 & 5228.1 & 0\\\\\n",
       "\t  8099 & 32 & technician    & divorced & professional.course & no      & no      & no      & cellular  & nov & ⋯ &  1 & 999 &  0 & nonexistent & -0.1 & 93.200 & -42.0 & 4.153 & 5195.8 & 0\\\\\n",
       "\t 15178 & 37 & housemaid     & married  & basic.4y            & unknown & no      & yes     & cellular  & aug & ⋯ &  2 & 999 &  0 & nonexistent &  1.4 & 93.444 & -36.1 & 4.965 & 5228.1 & 0\\\\\n",
       "\t 18920 & 47 & technician    & divorced & high.school         & no      & yes     & no      & telephone & jun & ⋯ &  2 & 999 & NA & nonexistent &  1.4 & 94.465 & -41.8 & 4.865 & 5228.1 & 0\\\\\n",
       "\t 19757 & 31 & admin.        & single   & university.degree   & no      & yes     & no      & cellular  & aug & ⋯ &  1 & 999 &  0 & nonexistent &  1.4 & 93.444 & -36.1 & 4.965 & 5228.1 & 0\\\\\n",
       "\t  9327 & 31 & admin.        & single   & university.degree   & unknown & no      & yes     & cellular  & aug & ⋯ &  1 & 999 &  0 & nonexistent &  1.4 & 93.444 & -36.1 & 4.968 & 5228.1 & 0\\\\\n",
       "\t 16641 & 51 & technician    & married  & professional.course & no      & yes     & no      & cellular  & oct & ⋯ &  6 &   6 &  3 & failure     & -3.4 & 92.431 & -26.9 & 0.754 & 5017.5 & 0\\\\\n",
       "\t  9656 & 30 & admin.        & married  & university.degree   & no      & yes     & no      & cellular  & aug & ⋯ &  3 & 999 &  0 & nonexistent &  1.4 & 93.444 & -36.1 & 4.963 & 5228.1 & 0\\\\\n",
       "\t 37330 & 42 & technician    & married  & professional.course & unknown & yes     & no      & telephone & may & ⋯ &  3 & 999 &  0 & nonexistent &  1.1 & 93.994 & -36.4 & 4.864 & 5191.0 & 0\\\\\n",
       "\t 34568 & 32 & blue-collar   & married  & basic.6y            & no      & yes     & no      & telephone & may & ⋯ &  3 & 999 &  0 & nonexistent &  1.1 & 93.994 & -36.4 & 4.860 & 5191.0 & 0\\\\\n",
       "\t 23095 & 41 & blue-collar   & married  & basic.6y            & no      & yes     & no      & cellular  & jul & ⋯ &  3 & 999 &  0 & nonexistent &  1.4 & 93.918 & -42.7 & 4.968 & 5228.1 & 0\\\\\n",
       "\t 25383 & 48 & admin.        & divorced & high.school         & no      & no      & yes     & telephone & may & ⋯ &  2 & 999 &  0 & nonexistent &  1.1 & 93.994 & -36.4 & 4.856 & 5191.0 & 0\\\\\n",
       "\t 16918 & 31 & admin.        & NA       & university.degree   & no      & yes     & yes     & cellular  & sep & ⋯ &  1 & 999 &  0 & nonexistent & -1.1 & 94.199 & -37.5 & 0.877 & 4963.6 & 1\\\\\n",
       "\t  4245 & 35 & blue-collar   & single   & unknown             & no      & yes     & no      & telephone & jul & ⋯ & NA & 999 &  0 & nonexistent &  1.4 & 93.918 & -42.7 & 4.960 & 5228.1 & 0\\\\\n",
       "\t 21920 & 39 & blue-collar   & married  & basic.4y            & unknown & yes     & no      & telephone & may & ⋯ &  1 & 999 &  0 & nonexistent &  1.1 &     NA & -36.4 & 4.859 & 5191.0 & 0\\\\\n",
       "\t 29000 & 21 & student       & single   & high.school         & no      & no      & no      & cellular  & oct & ⋯ &  1 & 999 &  0 & nonexistent & -3.4 & 92.431 &    NA & 0.728 & 5017.5 & 1\\\\\n",
       "\t  6627 & 28 & admin.        & single   & university.degree   & no      & yes     & no      & cellular  & sep & ⋯ &  1 &   1 &  3 & success     & -3.4 & 92.379 & -29.8 & 0.773 & 5017.5 & 1\\\\\n",
       "\t 35702 & 29 & admin.        & single   & university.degree   & no      & yes     & no      & cellular  & aug & ⋯ &  1 & 999 &  0 & nonexistent &  1.4 & 93.444 & -36.1 & 4.963 & 5228.1 & 0\\\\\n",
       "\t 38555 & 49 & services      & married  & basic.4y            & unknown & no      & no      & cellular  & aug & ⋯ &  2 & 999 &  0 & nonexistent &  1.4 & 93.444 & -36.1 & 4.963 & 5228.1 & 1\\\\\n",
       "\t 23289 & 38 & blue-collar   & divorced & high.school         & no      & yes     & no      & cellular  & may & ⋯ &  6 & 999 &  1 & failure     & -1.8 & 92.893 & -46.2 & 1.344 & 5099.1 & 0\\\\\n",
       "\t  2969 & 36 & blue-collar   & single   & high.school         & no      & yes     & no      & cellular  & jul & ⋯ & 24 & 999 &  0 & nonexistent &  1.4 & 93.918 & -42.7 & 4.968 & 5228.1 & 0\\\\\n",
       "\t 13724 & 45 & unknown       & unknown  & unknown             & no      & yes     & yes     & cellular  & jul & ⋯ &  1 & 999 &  0 & nonexistent &  1.4 & 93.918 & -42.7 & 4.957 & 5228.1 & 1\\\\\n",
       "\t 29863 & 26 & admin.        & single   & university.degree   & no      & yes     & no      & cellular  & may & ⋯ &  2 & 999 &  1 & failure     & -1.8 & 92.893 & -46.2 & 1.299 & 5099.1 & 0\\\\\n",
       "\t  9841 & 33 & admin.        & married  & high.school         & no      & yes     & yes     & cellular  & may & ⋯ &  1 & 999 &  1 & failure     & -1.8 & 92.893 & -46.2 & 1.299 & 5099.1 & 0\\\\\n",
       "\t 36432 & 43 & admin.        & married  & high.school         & no      & yes     & no      & telephone & jul & ⋯ & 10 & 999 &  0 & nonexistent &  1.4 & 93.918 & -42.7 & 4.960 & 5228.1 & 0\\\\\n",
       "\t 15639 & 55 & blue-collar   & married  & basic.9y            & no      & yes     & yes     & cellular  & aug & ⋯ &  3 & 999 &  0 & nonexistent &  1.4 & 93.444 & -36.1 & 4.963 & 5228.1 & 0\\\\\n",
       "\\end{tabular}\n"
      ],
      "text/markdown": [
       "\n",
       "A data.frame: 20000 × 21\n",
       "\n",
       "| client_id &lt;int&gt; | age &lt;int&gt; | job &lt;chr&gt; | marital &lt;chr&gt; | education &lt;chr&gt; | default &lt;chr&gt; | housing &lt;chr&gt; | loan &lt;chr&gt; | contact &lt;chr&gt; | month &lt;chr&gt; | ⋯ ⋯ | campaign &lt;int&gt; | pdays &lt;int&gt; | previous &lt;int&gt; | poutcome &lt;chr&gt; | emp.var.rate &lt;dbl&gt; | cons.price.idx &lt;dbl&gt; | cons.conf.idx &lt;dbl&gt; | euribor3m &lt;dbl&gt; | nr.employed &lt;dbl&gt; | subscribe &lt;int&gt; |\n",
       "|---|---|---|---|---|---|---|---|---|---|---|---|---|---|---|---|---|---|---|---|---|\n",
       "| 29925 | 42 | management   | married  | basic.9y            | no      | no      | no      | cellular  | jul | ⋯ | 1 | 999 | 0 | nonexistent |  1.4 | 93.918 | -42.7 | 4.968 | 5228.1 | 0 |\n",
       "| 37529 | 35 | unemployed   | married  | university.degree   | no      | yes     | no      | telephone | jun | ⋯ | 4 | 999 | 0 | nonexistent |  1.4 | 94.465 | -41.8 | 4.960 | 5228.1 | 0 |\n",
       "|  2757 | 44 | technician   | married  | basic.9y            | no      | yes     | yes     | cellular  | may | ⋯ | 1 | 999 | 0 | nonexistent | -1.8 | 92.893 | -46.2 | 1.264 | 5099.1 | 0 |\n",
       "|  9642 | 45 | services     | married  | high.school         | no      | yes     | no      | cellular  | apr | ⋯ | 1 | 999 | 0 | nonexistent | -1.8 | 93.075 | -47.1 | 1.453 | 5099.1 | 0 |\n",
       "| 14183 | 45 | unknown      | married  | unknown             | unknown | unknown | unknown | telephone | may | ⋯ | 1 | 999 | 0 | nonexistent |  1.1 | 93.994 | -36.4 | 4.859 | 5191.0 | 0 |\n",
       "| 15180 | 38 | technician   | married  | professional.course | no      | no      | no      | telephone | may | ⋯ | 2 | 999 | 0 | nonexistent |  1.1 | 93.994 | -36.4 | 4.858 | 5191.0 | 0 |\n",
       "| 27168 | 33 | technician   | married  | professional.course | no      | no      | yes     | cellular  | apr | ⋯ | 1 |  NA | 1 | failure     | -1.8 | 93.075 | -47.1 | 1.405 | 5099.1 | 1 |\n",
       "|  9097 | 38 | blue-collar  | single   | basic.9y            | unknown | yes     | no      | telephone | may | ⋯ | 1 | 999 | 0 | nonexistent |  1.1 | 93.994 | -36.4 | 4.857 | 5191.0 | 0 |\n",
       "| 30538 | 29 | blue-collar  | single   | unknown             | no      | yes     | no      | cellular  | may | ⋯ | 1 | 999 | 1 | failure     | -1.8 | 92.893 | -46.2 | 1.250 | 5099.1 | 0 |\n",
       "| 28981 | 34 | admin.       | divorced | university.degree   | no      | yes     | yes     | cellular  | aug | ⋯ | 1 | 999 | 0 | nonexistent |  1.4 | 93.444 | -36.1 | 4.965 | 5228.1 | 0 |\n",
       "|  7989 | 47 | blue-collar  | married  | high.school         | unknown | yes     | no      | telephone | jun | ⋯ | 3 | 999 | 0 | nonexistent |  1.4 | 94.465 | -41.8 | 4.961 | 5228.1 | 0 |\n",
       "| 13536 | 30 | blue-collar  | single   | basic.9y            | no      | yes     | no      | cellular  | jul | ⋯ | 1 | 999 | 0 | nonexistent |  1.4 | 93.918 | -42.7 | 4.963 | 5228.1 | 0 |\n",
       "| 24541 | 30 | admin.       | married  | basic.6y            | no      | yes     | no      | cellular  | jul | ⋯ | 1 | 999 | 0 | nonexistent |  1.4 | 93.918 | -42.7 | 4.958 | 5228.1 | 0 |\n",
       "|  6216 | 35 | services     | married  | basic.6y            | unknown | yes     | no      | cellular  | may | ⋯ | 2 | 999 | 0 | nonexistent | -1.8 | 92.893 | -46.2 | 1.344 | 5099.1 | 0 |\n",
       "| 17983 | 45 | management   | married  | professional.course | no      | no      | no      | cellular  | nov | ⋯ | 1 | 999 | 0 | nonexistent | -0.1 | 93.200 | -42.0 | 4.076 | 5195.8 | 1 |\n",
       "| 29394 | 37 | entrepreneur | married  | university.degree   | unknown | yes     | no      | cellular  | nov | ⋯ | 2 | 999 | 1 | failure     | -0.1 | 93.200 | -42.0 | 4.191 | 5195.8 | 0 |\n",
       "| 28825 | 48 | blue-collar  | married  | basic.6y            | no      | no      | no      | telephone | jun | ⋯ | 2 | 999 | 0 | nonexistent |  1.4 | 94.465 | -41.8 | 4.866 | 5228.1 | 0 |\n",
       "|    41 | 47 | admin.       | married  | basic.6y            | unknown | yes     | no      | cellular  | apr | ⋯ | 2 | 999 | 1 | failure     | -1.8 | 93.075 | -47.1 | 1.410 | 5099.1 | 0 |\n",
       "|  7284 | 35 | blue-collar  | married  | basic.9y            | no      | yes     | no      | telephone | may | ⋯ | 1 | 999 | 0 | nonexistent |  1.1 | 93.994 | -36.4 | 4.858 | 5191.0 | 0 |\n",
       "| 28502 | 34 | technician   | married  | professional.course | no      | no      | no      | cellular  | apr | ⋯ | 3 | 999 | 0 | nonexistent | -1.8 | 93.075 | -47.1 | 1.405 | 5099.1 | 0 |\n",
       "| 11473 | 60 | technician   | married  | university.degree   | unknown | yes     | no      | telephone | may | ⋯ | 5 | 999 | 0 | nonexistent |  1.1 | 93.994 | -36.4 | 4.855 | 5191.0 | 0 |\n",
       "|  6134 | 35 | services     | single   | high.school         | no      | no      | no      | cellular  | may | ⋯ | 2 | 999 | 1 | failure     | -1.8 | 92.893 | -46.2 | 1.334 | 5099.1 | 0 |\n",
       "| 33523 | 32 | technician   | married  | university.degree   | no      | yes     | no      | cellular  | may | ⋯ | 1 | 999 | 0 | nonexistent | -1.8 | 92.893 | -46.2 | 1.281 | 5099.1 | 0 |\n",
       "| 21812 | 49 | blue-collar  | married  | unknown             | unknown | yes     | no      | telephone | may | ⋯ | 1 | 999 | 0 | nonexistent |  1.1 | 93.994 | -36.4 | 4.856 | 5191.0 | 0 |\n",
       "| 39895 | 45 | technician   | single   | professional.course | no      | no      | no      | telephone | may | ⋯ | 2 | 999 | 0 | nonexistent |  1.1 | 93.994 | -36.4 | 4.856 | 5191.0 | 0 |\n",
       "|  9326 | 33 | blue-collar  | single   | basic.9y            | unknown | yes     | no      | telephone | jun | ⋯ | 4 | 999 | 0 | nonexistent |  1.4 | 94.465 | -41.8 | 4.865 | 5228.1 | 0 |\n",
       "| 26510 | 34 | management   | single   | university.degree   | no      | unknown | unknown | telephone | nov | ⋯ | 5 | 999 | 0 | nonexistent | -0.1 | 93.200 | -42.0 | 4.021 | 5195.8 | 0 |\n",
       "| 20960 | 57 | retired      | married  | university.degree   | no      | yes     | no      | telephone | may | ⋯ | 1 | 999 | 0 | nonexistent |  1.1 | 93.994 | -36.4 | 4.856 | 5191.0 | 0 |\n",
       "| 14403 | 50 | technician   | single   | professional.course | no      | no      | yes     | cellular  | jul | ⋯ | 8 | 999 | 0 | nonexistent |  1.4 | 93.918 | -42.7 | 4.962 | 5228.1 | 0 |\n",
       "| 28799 | 49 | housemaid    | married  | university.degree   | no      | yes     | no      | cellular  | aug | ⋯ | 2 | 999 | 0 | nonexistent |  1.4 | 93.444 | -36.1 | 4.967 | 5228.1 | 0 |\n",
       "| ⋮ | ⋮ | ⋮ | ⋮ | ⋮ | ⋮ | ⋮ | ⋮ | ⋮ | ⋮ | ⋱ | ⋮ | ⋮ | ⋮ | ⋮ | ⋮ | ⋮ | ⋮ | ⋮ | ⋮ | ⋮ |\n",
       "|  3036 | 33 | self-employed | married  | university.degree   | no      | no      | no      | cellular  | aug | ⋯ |  3 | 999 |  0 | nonexistent |  1.4 | 93.444 | -36.1 | 4.965 | 5228.1 | 0 |\n",
       "| 19102 | 31 | admin.        | single   | university.degree   | unknown | yes     | no      | cellular  | aug | ⋯ |  1 | 999 |  0 | nonexistent |  1.4 | 93.444 | -36.1 | 4.964 | 5228.1 | 0 |\n",
       "| 37729 | 46 | technician    | married  | professional.course | no      | no      | no      | telephone | may | ⋯ |  1 | 999 |  0 | nonexistent |  1.1 | 93.994 | -36.4 | 4.860 | 5191.0 | 0 |\n",
       "| 20186 | 50 | self-employed | married  | unknown             | no      | unknown | unknown | cellular  | jul | ⋯ |  2 | 999 |  0 | nonexistent | -2.9 | 92.469 | -33.6 | 0.914 | 5076.2 | 0 |\n",
       "| 38059 | 43 | admin.        | divorced | university.degree   | unknown | no      | no      | cellular  | aug | ⋯ |  2 | 999 |  0 | nonexistent |  1.4 | 93.444 | -36.1 | 4.966 | 5228.1 | 0 |\n",
       "|  8099 | 32 | technician    | divorced | professional.course | no      | no      | no      | cellular  | nov | ⋯ |  1 | 999 |  0 | nonexistent | -0.1 | 93.200 | -42.0 | 4.153 | 5195.8 | 0 |\n",
       "| 15178 | 37 | housemaid     | married  | basic.4y            | unknown | no      | yes     | cellular  | aug | ⋯ |  2 | 999 |  0 | nonexistent |  1.4 | 93.444 | -36.1 | 4.965 | 5228.1 | 0 |\n",
       "| 18920 | 47 | technician    | divorced | high.school         | no      | yes     | no      | telephone | jun | ⋯ |  2 | 999 | NA | nonexistent |  1.4 | 94.465 | -41.8 | 4.865 | 5228.1 | 0 |\n",
       "| 19757 | 31 | admin.        | single   | university.degree   | no      | yes     | no      | cellular  | aug | ⋯ |  1 | 999 |  0 | nonexistent |  1.4 | 93.444 | -36.1 | 4.965 | 5228.1 | 0 |\n",
       "|  9327 | 31 | admin.        | single   | university.degree   | unknown | no      | yes     | cellular  | aug | ⋯ |  1 | 999 |  0 | nonexistent |  1.4 | 93.444 | -36.1 | 4.968 | 5228.1 | 0 |\n",
       "| 16641 | 51 | technician    | married  | professional.course | no      | yes     | no      | cellular  | oct | ⋯ |  6 |   6 |  3 | failure     | -3.4 | 92.431 | -26.9 | 0.754 | 5017.5 | 0 |\n",
       "|  9656 | 30 | admin.        | married  | university.degree   | no      | yes     | no      | cellular  | aug | ⋯ |  3 | 999 |  0 | nonexistent |  1.4 | 93.444 | -36.1 | 4.963 | 5228.1 | 0 |\n",
       "| 37330 | 42 | technician    | married  | professional.course | unknown | yes     | no      | telephone | may | ⋯ |  3 | 999 |  0 | nonexistent |  1.1 | 93.994 | -36.4 | 4.864 | 5191.0 | 0 |\n",
       "| 34568 | 32 | blue-collar   | married  | basic.6y            | no      | yes     | no      | telephone | may | ⋯ |  3 | 999 |  0 | nonexistent |  1.1 | 93.994 | -36.4 | 4.860 | 5191.0 | 0 |\n",
       "| 23095 | 41 | blue-collar   | married  | basic.6y            | no      | yes     | no      | cellular  | jul | ⋯ |  3 | 999 |  0 | nonexistent |  1.4 | 93.918 | -42.7 | 4.968 | 5228.1 | 0 |\n",
       "| 25383 | 48 | admin.        | divorced | high.school         | no      | no      | yes     | telephone | may | ⋯ |  2 | 999 |  0 | nonexistent |  1.1 | 93.994 | -36.4 | 4.856 | 5191.0 | 0 |\n",
       "| 16918 | 31 | admin.        | NA       | university.degree   | no      | yes     | yes     | cellular  | sep | ⋯ |  1 | 999 |  0 | nonexistent | -1.1 | 94.199 | -37.5 | 0.877 | 4963.6 | 1 |\n",
       "|  4245 | 35 | blue-collar   | single   | unknown             | no      | yes     | no      | telephone | jul | ⋯ | NA | 999 |  0 | nonexistent |  1.4 | 93.918 | -42.7 | 4.960 | 5228.1 | 0 |\n",
       "| 21920 | 39 | blue-collar   | married  | basic.4y            | unknown | yes     | no      | telephone | may | ⋯ |  1 | 999 |  0 | nonexistent |  1.1 |     NA | -36.4 | 4.859 | 5191.0 | 0 |\n",
       "| 29000 | 21 | student       | single   | high.school         | no      | no      | no      | cellular  | oct | ⋯ |  1 | 999 |  0 | nonexistent | -3.4 | 92.431 |    NA | 0.728 | 5017.5 | 1 |\n",
       "|  6627 | 28 | admin.        | single   | university.degree   | no      | yes     | no      | cellular  | sep | ⋯ |  1 |   1 |  3 | success     | -3.4 | 92.379 | -29.8 | 0.773 | 5017.5 | 1 |\n",
       "| 35702 | 29 | admin.        | single   | university.degree   | no      | yes     | no      | cellular  | aug | ⋯ |  1 | 999 |  0 | nonexistent |  1.4 | 93.444 | -36.1 | 4.963 | 5228.1 | 0 |\n",
       "| 38555 | 49 | services      | married  | basic.4y            | unknown | no      | no      | cellular  | aug | ⋯ |  2 | 999 |  0 | nonexistent |  1.4 | 93.444 | -36.1 | 4.963 | 5228.1 | 1 |\n",
       "| 23289 | 38 | blue-collar   | divorced | high.school         | no      | yes     | no      | cellular  | may | ⋯ |  6 | 999 |  1 | failure     | -1.8 | 92.893 | -46.2 | 1.344 | 5099.1 | 0 |\n",
       "|  2969 | 36 | blue-collar   | single   | high.school         | no      | yes     | no      | cellular  | jul | ⋯ | 24 | 999 |  0 | nonexistent |  1.4 | 93.918 | -42.7 | 4.968 | 5228.1 | 0 |\n",
       "| 13724 | 45 | unknown       | unknown  | unknown             | no      | yes     | yes     | cellular  | jul | ⋯ |  1 | 999 |  0 | nonexistent |  1.4 | 93.918 | -42.7 | 4.957 | 5228.1 | 1 |\n",
       "| 29863 | 26 | admin.        | single   | university.degree   | no      | yes     | no      | cellular  | may | ⋯ |  2 | 999 |  1 | failure     | -1.8 | 92.893 | -46.2 | 1.299 | 5099.1 | 0 |\n",
       "|  9841 | 33 | admin.        | married  | high.school         | no      | yes     | yes     | cellular  | may | ⋯ |  1 | 999 |  1 | failure     | -1.8 | 92.893 | -46.2 | 1.299 | 5099.1 | 0 |\n",
       "| 36432 | 43 | admin.        | married  | high.school         | no      | yes     | no      | telephone | jul | ⋯ | 10 | 999 |  0 | nonexistent |  1.4 | 93.918 | -42.7 | 4.960 | 5228.1 | 0 |\n",
       "| 15639 | 55 | blue-collar   | married  | basic.9y            | no      | yes     | yes     | cellular  | aug | ⋯ |  3 | 999 |  0 | nonexistent |  1.4 | 93.444 | -36.1 | 4.963 | 5228.1 | 0 |\n",
       "\n"
      ],
      "text/plain": [
       "      client_id age job           marital  education           default housing\n",
       "1     29925     42  management    married  basic.9y            no      no     \n",
       "2     37529     35  unemployed    married  university.degree   no      yes    \n",
       "3      2757     44  technician    married  basic.9y            no      yes    \n",
       "4      9642     45  services      married  high.school         no      yes    \n",
       "5     14183     45  unknown       married  unknown             unknown unknown\n",
       "6     15180     38  technician    married  professional.course no      no     \n",
       "7     27168     33  technician    married  professional.course no      no     \n",
       "8      9097     38  blue-collar   single   basic.9y            unknown yes    \n",
       "9     30538     29  blue-collar   single   unknown             no      yes    \n",
       "10    28981     34  admin.        divorced university.degree   no      yes    \n",
       "11     7989     47  blue-collar   married  high.school         unknown yes    \n",
       "12    13536     30  blue-collar   single   basic.9y            no      yes    \n",
       "13    24541     30  admin.        married  basic.6y            no      yes    \n",
       "14     6216     35  services      married  basic.6y            unknown yes    \n",
       "15    17983     45  management    married  professional.course no      no     \n",
       "16    29394     37  entrepreneur  married  university.degree   unknown yes    \n",
       "17    28825     48  blue-collar   married  basic.6y            no      no     \n",
       "18       41     47  admin.        married  basic.6y            unknown yes    \n",
       "19     7284     35  blue-collar   married  basic.9y            no      yes    \n",
       "20    28502     34  technician    married  professional.course no      no     \n",
       "21    11473     60  technician    married  university.degree   unknown yes    \n",
       "22     6134     35  services      single   high.school         no      no     \n",
       "23    33523     32  technician    married  university.degree   no      yes    \n",
       "24    21812     49  blue-collar   married  unknown             unknown yes    \n",
       "25    39895     45  technician    single   professional.course no      no     \n",
       "26     9326     33  blue-collar   single   basic.9y            unknown yes    \n",
       "27    26510     34  management    single   university.degree   no      unknown\n",
       "28    20960     57  retired       married  university.degree   no      yes    \n",
       "29    14403     50  technician    single   professional.course no      no     \n",
       "30    28799     49  housemaid     married  university.degree   no      yes    \n",
       "<U+22EE>     <U+22EE>  <U+22EE> <U+22EE>      <U+22EE> <U+22EE>            <U+22EE> <U+22EE>\n",
       "19971  3036     33  self-employed married  university.degree   no      no     \n",
       "19972 19102     31  admin.        single   university.degree   unknown yes    \n",
       "19973 37729     46  technician    married  professional.course no      no     \n",
       "19974 20186     50  self-employed married  unknown             no      unknown\n",
       "19975 38059     43  admin.        divorced university.degree   unknown no     \n",
       "19976  8099     32  technician    divorced professional.course no      no     \n",
       "19977 15178     37  housemaid     married  basic.4y            unknown no     \n",
       "19978 18920     47  technician    divorced high.school         no      yes    \n",
       "19979 19757     31  admin.        single   university.degree   no      yes    \n",
       "19980  9327     31  admin.        single   university.degree   unknown no     \n",
       "19981 16641     51  technician    married  professional.course no      yes    \n",
       "19982  9656     30  admin.        married  university.degree   no      yes    \n",
       "19983 37330     42  technician    married  professional.course unknown yes    \n",
       "19984 34568     32  blue-collar   married  basic.6y            no      yes    \n",
       "19985 23095     41  blue-collar   married  basic.6y            no      yes    \n",
       "19986 25383     48  admin.        divorced high.school         no      no     \n",
       "19987 16918     31  admin.        NA       university.degree   no      yes    \n",
       "19988  4245     35  blue-collar   single   unknown             no      yes    \n",
       "19989 21920     39  blue-collar   married  basic.4y            unknown yes    \n",
       "19990 29000     21  student       single   high.school         no      no     \n",
       "19991  6627     28  admin.        single   university.degree   no      yes    \n",
       "19992 35702     29  admin.        single   university.degree   no      yes    \n",
       "19993 38555     49  services      married  basic.4y            unknown no     \n",
       "19994 23289     38  blue-collar   divorced high.school         no      yes    \n",
       "19995  2969     36  blue-collar   single   high.school         no      yes    \n",
       "19996 13724     45  unknown       unknown  unknown             no      yes    \n",
       "19997 29863     26  admin.        single   university.degree   no      yes    \n",
       "19998  9841     33  admin.        married  high.school         no      yes    \n",
       "19999 36432     43  admin.        married  high.school         no      yes    \n",
       "20000 15639     55  blue-collar   married  basic.9y            no      yes    \n",
       "      loan    contact   month <U+22EF>        campaign pdays previous poutcome   \n",
       "1     no      cellular  jul   <U+22EF> 1        999   0        nonexistent\n",
       "2     no      telephone jun   <U+22EF> 4        999   0        nonexistent\n",
       "3     yes     cellular  may   <U+22EF> 1        999   0        nonexistent\n",
       "4     no      cellular  apr   <U+22EF> 1        999   0        nonexistent\n",
       "5     unknown telephone may   <U+22EF> 1        999   0        nonexistent\n",
       "6     no      telephone may   <U+22EF> 2        999   0        nonexistent\n",
       "7     yes     cellular  apr   <U+22EF> 1         NA   1        failure    \n",
       "8     no      telephone may   <U+22EF> 1        999   0        nonexistent\n",
       "9     no      cellular  may   <U+22EF> 1        999   1        failure    \n",
       "10    yes     cellular  aug   <U+22EF> 1        999   0        nonexistent\n",
       "11    no      telephone jun   <U+22EF> 3        999   0        nonexistent\n",
       "12    no      cellular  jul   <U+22EF> 1        999   0        nonexistent\n",
       "13    no      cellular  jul   <U+22EF> 1        999   0        nonexistent\n",
       "14    no      cellular  may   <U+22EF> 2        999   0        nonexistent\n",
       "15    no      cellular  nov   <U+22EF> 1        999   0        nonexistent\n",
       "16    no      cellular  nov   <U+22EF> 2        999   1        failure    \n",
       "17    no      telephone jun   <U+22EF> 2        999   0        nonexistent\n",
       "18    no      cellular  apr   <U+22EF> 2        999   1        failure    \n",
       "19    no      telephone may   <U+22EF> 1        999   0        nonexistent\n",
       "20    no      cellular  apr   <U+22EF> 3        999   0        nonexistent\n",
       "21    no      telephone may   <U+22EF> 5        999   0        nonexistent\n",
       "22    no      cellular  may   <U+22EF> 2        999   1        failure    \n",
       "23    no      cellular  may   <U+22EF> 1        999   0        nonexistent\n",
       "24    no      telephone may   <U+22EF> 1        999   0        nonexistent\n",
       "25    no      telephone may   <U+22EF> 2        999   0        nonexistent\n",
       "26    no      telephone jun   <U+22EF> 4        999   0        nonexistent\n",
       "27    unknown telephone nov   <U+22EF> 5        999   0        nonexistent\n",
       "28    no      telephone may   <U+22EF> 1        999   0        nonexistent\n",
       "29    yes     cellular  jul   <U+22EF> 8        999   0        nonexistent\n",
       "30    no      cellular  aug   <U+22EF> 2        999   0        nonexistent\n",
       "<U+22EE>     <U+22EE> <U+22EE>  <U+22EE> <U+22F1> <U+22EE> <U+22EE> <U+22EE> <U+22EE>   \n",
       "19971 no      cellular  aug   <U+22EF>  3       999    0       nonexistent\n",
       "19972 no      cellular  aug   <U+22EF>  1       999    0       nonexistent\n",
       "19973 no      telephone may   <U+22EF>  1       999    0       nonexistent\n",
       "19974 unknown cellular  jul   <U+22EF>  2       999    0       nonexistent\n",
       "19975 no      cellular  aug   <U+22EF>  2       999    0       nonexistent\n",
       "19976 no      cellular  nov   <U+22EF>  1       999    0       nonexistent\n",
       "19977 yes     cellular  aug   <U+22EF>  2       999    0       nonexistent\n",
       "19978 no      telephone jun   <U+22EF>  2       999   NA       nonexistent\n",
       "19979 no      cellular  aug   <U+22EF>  1       999    0       nonexistent\n",
       "19980 yes     cellular  aug   <U+22EF>  1       999    0       nonexistent\n",
       "19981 no      cellular  oct   <U+22EF>  6         6    3       failure    \n",
       "19982 no      cellular  aug   <U+22EF>  3       999    0       nonexistent\n",
       "19983 no      telephone may   <U+22EF>  3       999    0       nonexistent\n",
       "19984 no      telephone may   <U+22EF>  3       999    0       nonexistent\n",
       "19985 no      cellular  jul   <U+22EF>  3       999    0       nonexistent\n",
       "19986 yes     telephone may   <U+22EF>  2       999    0       nonexistent\n",
       "19987 yes     cellular  sep   <U+22EF>  1       999    0       nonexistent\n",
       "19988 no      telephone jul   <U+22EF> NA       999    0       nonexistent\n",
       "19989 no      telephone may   <U+22EF>  1       999    0       nonexistent\n",
       "19990 no      cellular  oct   <U+22EF>  1       999    0       nonexistent\n",
       "19991 no      cellular  sep   <U+22EF>  1         1    3       success    \n",
       "19992 no      cellular  aug   <U+22EF>  1       999    0       nonexistent\n",
       "19993 no      cellular  aug   <U+22EF>  2       999    0       nonexistent\n",
       "19994 no      cellular  may   <U+22EF>  6       999    1       failure    \n",
       "19995 no      cellular  jul   <U+22EF> 24       999    0       nonexistent\n",
       "19996 yes     cellular  jul   <U+22EF>  1       999    0       nonexistent\n",
       "19997 no      cellular  may   <U+22EF>  2       999    1       failure    \n",
       "19998 yes     cellular  may   <U+22EF>  1       999    1       failure    \n",
       "19999 no      telephone jul   <U+22EF> 10       999    0       nonexistent\n",
       "20000 yes     cellular  aug   <U+22EF>  3       999    0       nonexistent\n",
       "      emp.var.rate cons.price.idx cons.conf.idx euribor3m nr.employed subscribe\n",
       "1      1.4         93.918         -42.7         4.968     5228.1      0        \n",
       "2      1.4         94.465         -41.8         4.960     5228.1      0        \n",
       "3     -1.8         92.893         -46.2         1.264     5099.1      0        \n",
       "4     -1.8         93.075         -47.1         1.453     5099.1      0        \n",
       "5      1.1         93.994         -36.4         4.859     5191.0      0        \n",
       "6      1.1         93.994         -36.4         4.858     5191.0      0        \n",
       "7     -1.8         93.075         -47.1         1.405     5099.1      1        \n",
       "8      1.1         93.994         -36.4         4.857     5191.0      0        \n",
       "9     -1.8         92.893         -46.2         1.250     5099.1      0        \n",
       "10     1.4         93.444         -36.1         4.965     5228.1      0        \n",
       "11     1.4         94.465         -41.8         4.961     5228.1      0        \n",
       "12     1.4         93.918         -42.7         4.963     5228.1      0        \n",
       "13     1.4         93.918         -42.7         4.958     5228.1      0        \n",
       "14    -1.8         92.893         -46.2         1.344     5099.1      0        \n",
       "15    -0.1         93.200         -42.0         4.076     5195.8      1        \n",
       "16    -0.1         93.200         -42.0         4.191     5195.8      0        \n",
       "17     1.4         94.465         -41.8         4.866     5228.1      0        \n",
       "18    -1.8         93.075         -47.1         1.410     5099.1      0        \n",
       "19     1.1         93.994         -36.4         4.858     5191.0      0        \n",
       "20    -1.8         93.075         -47.1         1.405     5099.1      0        \n",
       "21     1.1         93.994         -36.4         4.855     5191.0      0        \n",
       "22    -1.8         92.893         -46.2         1.334     5099.1      0        \n",
       "23    -1.8         92.893         -46.2         1.281     5099.1      0        \n",
       "24     1.1         93.994         -36.4         4.856     5191.0      0        \n",
       "25     1.1         93.994         -36.4         4.856     5191.0      0        \n",
       "26     1.4         94.465         -41.8         4.865     5228.1      0        \n",
       "27    -0.1         93.200         -42.0         4.021     5195.8      0        \n",
       "28     1.1         93.994         -36.4         4.856     5191.0      0        \n",
       "29     1.4         93.918         -42.7         4.962     5228.1      0        \n",
       "30     1.4         93.444         -36.1         4.967     5228.1      0        \n",
       "<U+22EE>     <U+22EE>     <U+22EE>       <U+22EE>      <U+22EE>  <U+22EE>    <U+22EE> \n",
       "19971  1.4         93.444         -36.1         4.965     5228.1      0        \n",
       "19972  1.4         93.444         -36.1         4.964     5228.1      0        \n",
       "19973  1.1         93.994         -36.4         4.860     5191.0      0        \n",
       "19974 -2.9         92.469         -33.6         0.914     5076.2      0        \n",
       "19975  1.4         93.444         -36.1         4.966     5228.1      0        \n",
       "19976 -0.1         93.200         -42.0         4.153     5195.8      0        \n",
       "19977  1.4         93.444         -36.1         4.965     5228.1      0        \n",
       "19978  1.4         94.465         -41.8         4.865     5228.1      0        \n",
       "19979  1.4         93.444         -36.1         4.965     5228.1      0        \n",
       "19980  1.4         93.444         -36.1         4.968     5228.1      0        \n",
       "19981 -3.4         92.431         -26.9         0.754     5017.5      0        \n",
       "19982  1.4         93.444         -36.1         4.963     5228.1      0        \n",
       "19983  1.1         93.994         -36.4         4.864     5191.0      0        \n",
       "19984  1.1         93.994         -36.4         4.860     5191.0      0        \n",
       "19985  1.4         93.918         -42.7         4.968     5228.1      0        \n",
       "19986  1.1         93.994         -36.4         4.856     5191.0      0        \n",
       "19987 -1.1         94.199         -37.5         0.877     4963.6      1        \n",
       "19988  1.4         93.918         -42.7         4.960     5228.1      0        \n",
       "19989  1.1             NA         -36.4         4.859     5191.0      0        \n",
       "19990 -3.4         92.431            NA         0.728     5017.5      1        \n",
       "19991 -3.4         92.379         -29.8         0.773     5017.5      1        \n",
       "19992  1.4         93.444         -36.1         4.963     5228.1      0        \n",
       "19993  1.4         93.444         -36.1         4.963     5228.1      1        \n",
       "19994 -1.8         92.893         -46.2         1.344     5099.1      0        \n",
       "19995  1.4         93.918         -42.7         4.968     5228.1      0        \n",
       "19996  1.4         93.918         -42.7         4.957     5228.1      1        \n",
       "19997 -1.8         92.893         -46.2         1.299     5099.1      0        \n",
       "19998 -1.8         92.893         -46.2         1.299     5099.1      0        \n",
       "19999  1.4         93.918         -42.7         4.960     5228.1      0        \n",
       "20000  1.4         93.444         -36.1         4.963     5228.1      0        "
      ]
     },
     "metadata": {},
     "output_type": "display_data"
    }
   ],
   "source": [
    "# Checking how the table looks like \n",
    "# We have 20k rows and 21  variables\n",
    "train"
   ]
  },
  {
   "cell_type": "markdown",
   "id": "9e74f64f",
   "metadata": {
    "lines_to_next_cell": 2
   },
   "source": [
    "\n",
    "### Cleaning Train Table"
   ]
  },
  {
   "cell_type": "code",
   "execution_count": 7,
   "id": "327307a7",
   "metadata": {
    "lines_to_next_cell": 2
   },
   "outputs": [
    {
     "data": {
      "text/html": [
       "3664"
      ],
      "text/latex": [
       "3664"
      ],
      "text/markdown": [
       "3664"
      ],
      "text/plain": [
       "[1] 3664"
      ]
     },
     "metadata": {},
     "output_type": "display_data"
    }
   ],
   "source": [
    "# Sum of missing values in train bank marketing data set\n",
    "sum(is.na(train))"
   ]
  },
  {
   "cell_type": "code",
   "execution_count": 8,
   "id": "ac6d05ad",
   "metadata": {
    "lines_to_next_cell": 2
   },
   "outputs": [
    {
     "data": {
      "text/html": [
       "<style>\n",
       ".dl-inline {width: auto; margin:0; padding: 0}\n",
       ".dl-inline>dt, .dl-inline>dd {float: none; width: auto; display: inline-block}\n",
       ".dl-inline>dt::after {content: \":\\0020\"; padding-right: .5ex}\n",
       ".dl-inline>dt:not(:first-of-type) {padding-left: .5ex}\n",
       "</style><dl class=dl-inline><dt>client_id</dt><dd>0</dd><dt>age</dt><dd>202</dd><dt>job</dt><dd>161</dd><dt>marital</dt><dd>199</dd><dt>education</dt><dd>170</dd><dt>default</dt><dd>214</dd><dt>housing</dt><dd>195</dd><dt>loan</dt><dd>219</dd><dt>contact</dt><dd>217</dd><dt>month</dt><dd>199</dd><dt>day_of_week</dt><dd>185</dd><dt>campaign</dt><dd>203</dd><dt>pdays</dt><dd>185</dd><dt>previous</dt><dd>209</dd><dt>poutcome</dt><dd>175</dd><dt>emp.var.rate</dt><dd>165</dd><dt>cons.price.idx</dt><dd>181</dd><dt>cons.conf.idx</dt><dd>197</dd><dt>euribor3m</dt><dd>204</dd><dt>nr.employed</dt><dd>184</dd><dt>subscribe</dt><dd>0</dd></dl>\n"
      ],
      "text/latex": [
       "\\begin{description*}\n",
       "\\item[client\\textbackslash{}\\_id] 0\n",
       "\\item[age] 202\n",
       "\\item[job] 161\n",
       "\\item[marital] 199\n",
       "\\item[education] 170\n",
       "\\item[default] 214\n",
       "\\item[housing] 195\n",
       "\\item[loan] 219\n",
       "\\item[contact] 217\n",
       "\\item[month] 199\n",
       "\\item[day\\textbackslash{}\\_of\\textbackslash{}\\_week] 185\n",
       "\\item[campaign] 203\n",
       "\\item[pdays] 185\n",
       "\\item[previous] 209\n",
       "\\item[poutcome] 175\n",
       "\\item[emp.var.rate] 165\n",
       "\\item[cons.price.idx] 181\n",
       "\\item[cons.conf.idx] 197\n",
       "\\item[euribor3m] 204\n",
       "\\item[nr.employed] 184\n",
       "\\item[subscribe] 0\n",
       "\\end{description*}\n"
      ],
      "text/markdown": [
       "client_id\n",
       ":   0age\n",
       ":   202job\n",
       ":   161marital\n",
       ":   199education\n",
       ":   170default\n",
       ":   214housing\n",
       ":   195loan\n",
       ":   219contact\n",
       ":   217month\n",
       ":   199day_of_week\n",
       ":   185campaign\n",
       ":   203pdays\n",
       ":   185previous\n",
       ":   209poutcome\n",
       ":   175emp.var.rate\n",
       ":   165cons.price.idx\n",
       ":   181cons.conf.idx\n",
       ":   197euribor3m\n",
       ":   204nr.employed\n",
       ":   184subscribe\n",
       ":   0\n",
       "\n"
      ],
      "text/plain": [
       "     client_id            age            job        marital      education \n",
       "             0            202            161            199            170 \n",
       "       default        housing           loan        contact          month \n",
       "           214            195            219            217            199 \n",
       "   day_of_week       campaign          pdays       previous       poutcome \n",
       "           185            203            185            209            175 \n",
       "  emp.var.rate cons.price.idx  cons.conf.idx      euribor3m    nr.employed \n",
       "           165            181            197            204            184 \n",
       "     subscribe \n",
       "             0 "
      ]
     },
     "metadata": {},
     "output_type": "display_data"
    }
   ],
   "source": [
    "# Missing values per variable in train\n",
    "missing_values <- sapply(train, function(x) sum(is.na(x)))\n",
    "missing_values"
   ]
  },
  {
   "cell_type": "markdown",
   "id": "05add52e",
   "metadata": {
    "lines_to_next_cell": 2
   },
   "source": [
    "\n",
    "As our missing data represent only a maximum of 1% of the total observation in each variable, it is possible to drop them. In order to check if our dropping idea was right we will check how many observations has been deleted in total. If the dropping will result in more than 10% lose of observations then we will keep and replace the missing values."
   ]
  },
  {
   "cell_type": "code",
   "execution_count": 9,
   "id": "b59a5612",
   "metadata": {
    "lines_to_next_cell": 2
   },
   "outputs": [
    {
     "data": {
      "text/html": [
       "16633"
      ],
      "text/latex": [
       "16633"
      ],
      "text/markdown": [
       "16633"
      ],
      "text/plain": [
       "[1] 16633"
      ]
     },
     "metadata": {},
     "output_type": "display_data"
    }
   ],
   "source": [
    "# Dropping all na\n",
    "\n",
    "traindrop <- train %>% drop_na()\n",
    "nrow(traindrop)"
   ]
  },
  {
   "cell_type": "markdown",
   "id": "f5e09386",
   "metadata": {
    "lines_to_next_cell": 2
   },
   "source": [
    "\n",
    "We can see that this technique would lead to a huge lose of data, more than 16% of our total observations. We will then keep and replace our missing data.  \n",
    "- With a new category 'other' for categorical data unless this category already exists\n",
    "- With a new category 'other' for logical data (as missing data represents less than 5% of observations)\n",
    "- With the median or mean for numerical values\n",
    "\n",
    "We will need to create indicators variable for numerical to track the missing data as it can be correlated to our target as well. We will also need to process with the same cleaning steps for both train and test data. "
   ]
  },
  {
   "cell_type": "markdown",
   "id": "88152983",
   "metadata": {
    "lines_to_next_cell": 2
   },
   "source": [
    "\n",
    " #### 1. Categorical data \n",
    "It represents job, marital status, education, contact, month, day_of_week and poutcome"
   ]
  },
  {
   "cell_type": "code",
   "execution_count": 10,
   "id": "37760fc4",
   "metadata": {
    "lines_to_next_cell": 2
   },
   "outputs": [],
   "source": [
    "# Replacing NA for categorical data\n",
    "\n",
    "# NA for job: As an 'unknown' category already exists then we replace the missing value with it\n",
    "train$job = train$job %>% replace_na('unknown')\n",
    "\n",
    "# NA for marital status: As an 'unknown' category already exists then we replace the missing value with it\n",
    "train$marital = train$marital %>% replace_na('unknown')\n",
    "\n",
    "# NA for education: As an 'unknown' category already exists then we replace the missing value with it\n",
    "train$education = train$education %>% replace_na('unknown')\n",
    "\n",
    "# NA for contact: As 'unknown' category doesn't exist yet we create it\n",
    "train$contact = train$contact %>% replace_na('unknown')\n",
    "\n",
    "# NA for month: As 'unknown' category doesn't exist yet we create it\n",
    "train$month = train$month %>% replace_na('unknown')\n",
    "\n",
    "# NA for day_of_week: As 'unknown' category doesn't exist yet we create it\n",
    "train$day_of_week = train$day_of_week %>% replace_na('unknown')\n",
    "\n",
    "# NA for poutcome: As an 'nonexistent' category already exists then we replace the missing value with it\n",
    "train$poutcome = train$poutcome %>% replace_na('nonexistent')"
   ]
  },
  {
   "cell_type": "markdown",
   "id": "d3a4a80e",
   "metadata": {
    "lines_to_next_cell": 2
   },
   "source": [
    "\n",
    "#### 2. Logical data\n",
    "It represents default, housing, loan and subscribe (target)"
   ]
  },
  {
   "cell_type": "code",
   "execution_count": 11,
   "id": "6d7a1eb4",
   "metadata": {
    "lines_to_next_cell": 2
   },
   "outputs": [],
   "source": [
    "# Dealing with NA for logical data\n",
    "\n",
    "# NA for default: As an 'unknown' category already exists then we replace the missing value with it\n",
    "train$default = train$default %>% replace_na('unknown')\n",
    "\n",
    "# NA for housing: As an 'unknown' category already exists then we replace the missing value with it\n",
    "train$housing= train$housing %>% replace_na('unknown')\n",
    "\n",
    "# NA for loan: As an 'unknown' category already exists then we replace the missing value with it\n",
    "train$loan = train$loan %>% replace_na('unknown')\n",
    "\n",
    "# Subscribe doesn't have any missing value"
   ]
  },
  {
   "cell_type": "markdown",
   "id": "500699dd",
   "metadata": {
    "lines_to_next_cell": 2
   },
   "source": [
    "\n",
    "#### 3. Numerical data \n",
    "\n",
    "*For numerical data we need to create indicators to track the imputation*\n",
    "\n",
    "- age will be replaced by the median\n",
    "- campaign: the higher the better, it is not categorical\n",
    "- Pdays: replacing 999 by zero and creating a new variable (or checking how many zeros first)\n",
    "- previous: replacing by the median\n",
    "- emp.var.rate, cons.price.idx, cons.conf.idx, euribor3m, nr.employed will be replaced by the mean"
   ]
  },
  {
   "cell_type": "code",
   "execution_count": 12,
   "id": "b278bd9b",
   "metadata": {
    "lines_to_next_cell": 2
   },
   "outputs": [],
   "source": [
    "# We will replace age by the median\n",
    "# -> we can also create categorical variable for the age depending of our model result\n",
    "\n",
    "# First step: creating a new variable \n",
    "train$missing_age <- ifelse(is.na(train$age) == TRUE, 1, 0)\n",
    "\n",
    "# Second step: replacing by the median\n",
    "train$age[is.na(train$age)]<-mean(train$age,na.rm=TRUE)"
   ]
  },
  {
   "cell_type": "code",
   "execution_count": 13,
   "id": "0d09b735",
   "metadata": {
    "lines_to_next_cell": 2
   },
   "outputs": [],
   "source": [
    "# For campaign variable\n",
    "\n",
    "# We create a new 'campaign_missing' variable: 1 for missing and 0 otherwise\n",
    "train$missing_campaign <- ifelse(is.na(train$campaign) == TRUE, 1, 0)\n",
    "\n",
    "# We will replace campaign missing value by the median \n",
    "train$campaign[is.na(train$campaign)]<-mean(train$campaign,na.rm=TRUE)"
   ]
  },
  {
   "cell_type": "code",
   "execution_count": null,
   "id": "a70424fd",
   "metadata": {
    "lines_to_next_cell": 2
   },
   "outputs": [],
   "source": [
    "# Checking if it was correctly assign \n",
    "#checkingmissing = train[,c('campaign','missing_campaign')]\n",
    "#checkingmissing[order(checkingmissing$campaign),]"
   ]
  },
  {
   "cell_type": "code",
   "execution_count": 14,
   "id": "a3cc8552",
   "metadata": {
    "lines_to_next_cell": 2
   },
   "outputs": [
    {
     "data": {
      "text/html": [
       "<table class=\"dataframe\">\n",
       "<caption>A data.frame: 25 × 2</caption>\n",
       "<thead>\n",
       "\t<tr><th scope=col>Var1</th><th scope=col>Freq</th></tr>\n",
       "\t<tr><th scope=col>&lt;fct&gt;</th><th scope=col>&lt;int&gt;</th></tr>\n",
       "</thead>\n",
       "<tbody>\n",
       "\t<tr><td>0  </td><td>    8</td></tr>\n",
       "\t<tr><td>1  </td><td>    9</td></tr>\n",
       "\t<tr><td>2  </td><td>   30</td></tr>\n",
       "\t<tr><td>3  </td><td>  221</td></tr>\n",
       "\t<tr><td>4  </td><td>   62</td></tr>\n",
       "\t<tr><td>5  </td><td>   21</td></tr>\n",
       "\t<tr><td>6  </td><td>  209</td></tr>\n",
       "\t<tr><td>7  </td><td>   28</td></tr>\n",
       "\t<tr><td>8  </td><td>   11</td></tr>\n",
       "\t<tr><td>9  </td><td>   33</td></tr>\n",
       "\t<tr><td>10 </td><td>   27</td></tr>\n",
       "\t<tr><td>11 </td><td>   12</td></tr>\n",
       "\t<tr><td>12 </td><td>   27</td></tr>\n",
       "\t<tr><td>13 </td><td>   14</td></tr>\n",
       "\t<tr><td>14 </td><td>    7</td></tr>\n",
       "\t<tr><td>15 </td><td>   12</td></tr>\n",
       "\t<tr><td>16 </td><td>    5</td></tr>\n",
       "\t<tr><td>17 </td><td>    3</td></tr>\n",
       "\t<tr><td>18 </td><td>    4</td></tr>\n",
       "\t<tr><td>19 </td><td>    1</td></tr>\n",
       "\t<tr><td>21 </td><td>    1</td></tr>\n",
       "\t<tr><td>22 </td><td>    3</td></tr>\n",
       "\t<tr><td>26 </td><td>    1</td></tr>\n",
       "\t<tr><td>27 </td><td>    1</td></tr>\n",
       "\t<tr><td>999</td><td>19065</td></tr>\n",
       "</tbody>\n",
       "</table>\n"
      ],
      "text/latex": [
       "A data.frame: 25 × 2\n",
       "\\begin{tabular}{ll}\n",
       " Var1 & Freq\\\\\n",
       " <fct> & <int>\\\\\n",
       "\\hline\n",
       "\t 0   &     8\\\\\n",
       "\t 1   &     9\\\\\n",
       "\t 2   &    30\\\\\n",
       "\t 3   &   221\\\\\n",
       "\t 4   &    62\\\\\n",
       "\t 5   &    21\\\\\n",
       "\t 6   &   209\\\\\n",
       "\t 7   &    28\\\\\n",
       "\t 8   &    11\\\\\n",
       "\t 9   &    33\\\\\n",
       "\t 10  &    27\\\\\n",
       "\t 11  &    12\\\\\n",
       "\t 12  &    27\\\\\n",
       "\t 13  &    14\\\\\n",
       "\t 14  &     7\\\\\n",
       "\t 15  &    12\\\\\n",
       "\t 16  &     5\\\\\n",
       "\t 17  &     3\\\\\n",
       "\t 18  &     4\\\\\n",
       "\t 19  &     1\\\\\n",
       "\t 21  &     1\\\\\n",
       "\t 22  &     3\\\\\n",
       "\t 26  &     1\\\\\n",
       "\t 27  &     1\\\\\n",
       "\t 999 & 19065\\\\\n",
       "\\end{tabular}\n"
      ],
      "text/markdown": [
       "\n",
       "A data.frame: 25 × 2\n",
       "\n",
       "| Var1 &lt;fct&gt; | Freq &lt;int&gt; |\n",
       "|---|---|\n",
       "| 0   |     8 |\n",
       "| 1   |     9 |\n",
       "| 2   |    30 |\n",
       "| 3   |   221 |\n",
       "| 4   |    62 |\n",
       "| 5   |    21 |\n",
       "| 6   |   209 |\n",
       "| 7   |    28 |\n",
       "| 8   |    11 |\n",
       "| 9   |    33 |\n",
       "| 10  |    27 |\n",
       "| 11  |    12 |\n",
       "| 12  |    27 |\n",
       "| 13  |    14 |\n",
       "| 14  |     7 |\n",
       "| 15  |    12 |\n",
       "| 16  |     5 |\n",
       "| 17  |     3 |\n",
       "| 18  |     4 |\n",
       "| 19  |     1 |\n",
       "| 21  |     1 |\n",
       "| 22  |     3 |\n",
       "| 26  |     1 |\n",
       "| 27  |     1 |\n",
       "| 999 | 19065 |\n",
       "\n"
      ],
      "text/plain": [
       "   Var1 Freq \n",
       "1  0        8\n",
       "2  1        9\n",
       "3  2       30\n",
       "4  3      221\n",
       "5  4       62\n",
       "6  5       21\n",
       "7  6      209\n",
       "8  7       28\n",
       "9  8       11\n",
       "10 9       33\n",
       "11 10      27\n",
       "12 11      12\n",
       "13 12      27\n",
       "14 13      14\n",
       "15 14       7\n",
       "16 15      12\n",
       "17 16       5\n",
       "18 17       3\n",
       "19 18       4\n",
       "20 19       1\n",
       "21 21       1\n",
       "22 22       3\n",
       "23 26       1\n",
       "24 27       1\n",
       "25 999  19065"
      ]
     },
     "metadata": {},
     "output_type": "display_data"
    }
   ],
   "source": [
    "# Checking how many people with 0. \n",
    "#We do not have a lot of data in zero, we can assign a 1 instead of 0 for these clients\n",
    "# -> We can also assign categorical variable instead of numerical later on\n",
    "as.data.frame(table(train$pdays))"
   ]
  },
  {
   "cell_type": "code",
   "execution_count": 15,
   "id": "0ba2363d",
   "metadata": {
    "lines_to_next_cell": 2
   },
   "outputs": [],
   "source": [
    "# For pdays variable\n",
    "\n",
    "# First we replace pdays 0 values with 1 (the difference in days for 0 and 1 is not huge)\n",
    "train[\"pdays\"][train[\"pdays\"] == 0] <- 1\n",
    "\n",
    "# We create a new indicator variable for '999' to track the replacement\n",
    "train$replace999 <- ifelse(train$pdays == 999, 1, 0)\n",
    "train$replace999 <- ifelse(is.na(train$replace999) == TRUE, 1, 0)\n",
    "\n",
    "# We replace pdays 999 values with zero (So the zero is more significant for people without contact)\n",
    "train[\"pdays\"][train[\"pdays\"] == 999] <- 0\n",
    "\n",
    "# We track the NA values as a new variable\n",
    "train$missing_pdays <- ifelse(is.na(train$pdays) == TRUE, 1, 0)\n",
    "\n",
    "# We can finally replace the NA values by zero \n",
    "train$pdays = train$pdays %>% replace_na(0)"
   ]
  },
  {
   "cell_type": "code",
   "execution_count": 16,
   "id": "33dbd01e",
   "metadata": {
    "lines_to_next_cell": 2
   },
   "outputs": [
    {
     "data": {
      "text/html": [
       "<table class=\"dataframe\">\n",
       "<caption>A data.frame: 20000 × 25</caption>\n",
       "<thead>\n",
       "\t<tr><th scope=col>client_id</th><th scope=col>age</th><th scope=col>job</th><th scope=col>marital</th><th scope=col>education</th><th scope=col>default</th><th scope=col>housing</th><th scope=col>loan</th><th scope=col>contact</th><th scope=col>month</th><th scope=col>⋯</th><th scope=col>emp.var.rate</th><th scope=col>cons.price.idx</th><th scope=col>cons.conf.idx</th><th scope=col>euribor3m</th><th scope=col>nr.employed</th><th scope=col>subscribe</th><th scope=col>missing_age</th><th scope=col>missing_campaign</th><th scope=col>replace999</th><th scope=col>missing_pdays</th></tr>\n",
       "\t<tr><th scope=col>&lt;int&gt;</th><th scope=col>&lt;dbl&gt;</th><th scope=col>&lt;chr&gt;</th><th scope=col>&lt;chr&gt;</th><th scope=col>&lt;chr&gt;</th><th scope=col>&lt;chr&gt;</th><th scope=col>&lt;chr&gt;</th><th scope=col>&lt;chr&gt;</th><th scope=col>&lt;chr&gt;</th><th scope=col>&lt;chr&gt;</th><th scope=col>⋯</th><th scope=col>&lt;dbl&gt;</th><th scope=col>&lt;dbl&gt;</th><th scope=col>&lt;dbl&gt;</th><th scope=col>&lt;dbl&gt;</th><th scope=col>&lt;dbl&gt;</th><th scope=col>&lt;int&gt;</th><th scope=col>&lt;dbl&gt;</th><th scope=col>&lt;dbl&gt;</th><th scope=col>&lt;dbl&gt;</th><th scope=col>&lt;dbl&gt;</th></tr>\n",
       "</thead>\n",
       "<tbody>\n",
       "\t<tr><td>29925</td><td>42</td><td>management  </td><td>married </td><td>basic.9y           </td><td>no     </td><td>no     </td><td>no     </td><td>cellular </td><td>jul</td><td>⋯</td><td> 1.4</td><td>93.918</td><td>-42.7</td><td>4.968</td><td>5228.1</td><td>0</td><td>0</td><td>0</td><td>0</td><td>0</td></tr>\n",
       "\t<tr><td>37529</td><td>35</td><td>unemployed  </td><td>married </td><td>university.degree  </td><td>no     </td><td>yes    </td><td>no     </td><td>telephone</td><td>jun</td><td>⋯</td><td> 1.4</td><td>94.465</td><td>-41.8</td><td>4.960</td><td>5228.1</td><td>0</td><td>0</td><td>0</td><td>0</td><td>0</td></tr>\n",
       "\t<tr><td> 2757</td><td>44</td><td>technician  </td><td>married </td><td>basic.9y           </td><td>no     </td><td>yes    </td><td>yes    </td><td>cellular </td><td>may</td><td>⋯</td><td>-1.8</td><td>92.893</td><td>-46.2</td><td>1.264</td><td>5099.1</td><td>0</td><td>0</td><td>0</td><td>0</td><td>0</td></tr>\n",
       "\t<tr><td> 9642</td><td>45</td><td>services    </td><td>married </td><td>high.school        </td><td>no     </td><td>yes    </td><td>no     </td><td>cellular </td><td>apr</td><td>⋯</td><td>-1.8</td><td>93.075</td><td>-47.1</td><td>1.453</td><td>5099.1</td><td>0</td><td>0</td><td>0</td><td>0</td><td>0</td></tr>\n",
       "\t<tr><td>14183</td><td>45</td><td>unknown     </td><td>married </td><td>unknown            </td><td>unknown</td><td>unknown</td><td>unknown</td><td>telephone</td><td>may</td><td>⋯</td><td> 1.1</td><td>93.994</td><td>-36.4</td><td>4.859</td><td>5191.0</td><td>0</td><td>0</td><td>0</td><td>0</td><td>0</td></tr>\n",
       "\t<tr><td>15180</td><td>38</td><td>technician  </td><td>married </td><td>professional.course</td><td>no     </td><td>no     </td><td>no     </td><td>telephone</td><td>may</td><td>⋯</td><td> 1.1</td><td>93.994</td><td>-36.4</td><td>4.858</td><td>5191.0</td><td>0</td><td>0</td><td>0</td><td>0</td><td>0</td></tr>\n",
       "\t<tr><td>27168</td><td>33</td><td>technician  </td><td>married </td><td>professional.course</td><td>no     </td><td>no     </td><td>yes    </td><td>cellular </td><td>apr</td><td>⋯</td><td>-1.8</td><td>93.075</td><td>-47.1</td><td>1.405</td><td>5099.1</td><td>1</td><td>0</td><td>0</td><td>1</td><td>1</td></tr>\n",
       "\t<tr><td> 9097</td><td>38</td><td>blue-collar </td><td>single  </td><td>basic.9y           </td><td>unknown</td><td>yes    </td><td>no     </td><td>telephone</td><td>may</td><td>⋯</td><td> 1.1</td><td>93.994</td><td>-36.4</td><td>4.857</td><td>5191.0</td><td>0</td><td>0</td><td>0</td><td>0</td><td>0</td></tr>\n",
       "\t<tr><td>30538</td><td>29</td><td>blue-collar </td><td>single  </td><td>unknown            </td><td>no     </td><td>yes    </td><td>no     </td><td>cellular </td><td>may</td><td>⋯</td><td>-1.8</td><td>92.893</td><td>-46.2</td><td>1.250</td><td>5099.1</td><td>0</td><td>0</td><td>0</td><td>0</td><td>0</td></tr>\n",
       "\t<tr><td>28981</td><td>34</td><td>admin.      </td><td>divorced</td><td>university.degree  </td><td>no     </td><td>yes    </td><td>yes    </td><td>cellular </td><td>aug</td><td>⋯</td><td> 1.4</td><td>93.444</td><td>-36.1</td><td>4.965</td><td>5228.1</td><td>0</td><td>0</td><td>0</td><td>0</td><td>0</td></tr>\n",
       "\t<tr><td> 7989</td><td>47</td><td>blue-collar </td><td>married </td><td>high.school        </td><td>unknown</td><td>yes    </td><td>no     </td><td>telephone</td><td>jun</td><td>⋯</td><td> 1.4</td><td>94.465</td><td>-41.8</td><td>4.961</td><td>5228.1</td><td>0</td><td>0</td><td>0</td><td>0</td><td>0</td></tr>\n",
       "\t<tr><td>13536</td><td>30</td><td>blue-collar </td><td>single  </td><td>basic.9y           </td><td>no     </td><td>yes    </td><td>no     </td><td>cellular </td><td>jul</td><td>⋯</td><td> 1.4</td><td>93.918</td><td>-42.7</td><td>4.963</td><td>5228.1</td><td>0</td><td>0</td><td>0</td><td>0</td><td>0</td></tr>\n",
       "\t<tr><td>24541</td><td>30</td><td>admin.      </td><td>married </td><td>basic.6y           </td><td>no     </td><td>yes    </td><td>no     </td><td>cellular </td><td>jul</td><td>⋯</td><td> 1.4</td><td>93.918</td><td>-42.7</td><td>4.958</td><td>5228.1</td><td>0</td><td>0</td><td>0</td><td>0</td><td>0</td></tr>\n",
       "\t<tr><td> 6216</td><td>35</td><td>services    </td><td>married </td><td>basic.6y           </td><td>unknown</td><td>yes    </td><td>no     </td><td>cellular </td><td>may</td><td>⋯</td><td>-1.8</td><td>92.893</td><td>-46.2</td><td>1.344</td><td>5099.1</td><td>0</td><td>0</td><td>0</td><td>0</td><td>0</td></tr>\n",
       "\t<tr><td>17983</td><td>45</td><td>management  </td><td>married </td><td>professional.course</td><td>no     </td><td>no     </td><td>no     </td><td>cellular </td><td>nov</td><td>⋯</td><td>-0.1</td><td>93.200</td><td>-42.0</td><td>4.076</td><td>5195.8</td><td>1</td><td>0</td><td>0</td><td>0</td><td>0</td></tr>\n",
       "\t<tr><td>29394</td><td>37</td><td>entrepreneur</td><td>married </td><td>university.degree  </td><td>unknown</td><td>yes    </td><td>no     </td><td>cellular </td><td>nov</td><td>⋯</td><td>-0.1</td><td>93.200</td><td>-42.0</td><td>4.191</td><td>5195.8</td><td>0</td><td>0</td><td>0</td><td>0</td><td>0</td></tr>\n",
       "\t<tr><td>28825</td><td>48</td><td>blue-collar </td><td>married </td><td>basic.6y           </td><td>no     </td><td>no     </td><td>no     </td><td>telephone</td><td>jun</td><td>⋯</td><td> 1.4</td><td>94.465</td><td>-41.8</td><td>4.866</td><td>5228.1</td><td>0</td><td>0</td><td>0</td><td>0</td><td>0</td></tr>\n",
       "\t<tr><td>   41</td><td>47</td><td>admin.      </td><td>married </td><td>basic.6y           </td><td>unknown</td><td>yes    </td><td>no     </td><td>cellular </td><td>apr</td><td>⋯</td><td>-1.8</td><td>93.075</td><td>-47.1</td><td>1.410</td><td>5099.1</td><td>0</td><td>0</td><td>0</td><td>0</td><td>0</td></tr>\n",
       "\t<tr><td> 7284</td><td>35</td><td>blue-collar </td><td>married </td><td>basic.9y           </td><td>no     </td><td>yes    </td><td>no     </td><td>telephone</td><td>may</td><td>⋯</td><td> 1.1</td><td>93.994</td><td>-36.4</td><td>4.858</td><td>5191.0</td><td>0</td><td>0</td><td>0</td><td>0</td><td>0</td></tr>\n",
       "\t<tr><td>28502</td><td>34</td><td>technician  </td><td>married </td><td>professional.course</td><td>no     </td><td>no     </td><td>no     </td><td>cellular </td><td>apr</td><td>⋯</td><td>-1.8</td><td>93.075</td><td>-47.1</td><td>1.405</td><td>5099.1</td><td>0</td><td>0</td><td>0</td><td>0</td><td>0</td></tr>\n",
       "\t<tr><td>11473</td><td>60</td><td>technician  </td><td>married </td><td>university.degree  </td><td>unknown</td><td>yes    </td><td>no     </td><td>telephone</td><td>may</td><td>⋯</td><td> 1.1</td><td>93.994</td><td>-36.4</td><td>4.855</td><td>5191.0</td><td>0</td><td>0</td><td>0</td><td>0</td><td>0</td></tr>\n",
       "\t<tr><td> 6134</td><td>35</td><td>services    </td><td>single  </td><td>high.school        </td><td>no     </td><td>no     </td><td>no     </td><td>cellular </td><td>may</td><td>⋯</td><td>-1.8</td><td>92.893</td><td>-46.2</td><td>1.334</td><td>5099.1</td><td>0</td><td>0</td><td>0</td><td>0</td><td>0</td></tr>\n",
       "\t<tr><td>33523</td><td>32</td><td>technician  </td><td>married </td><td>university.degree  </td><td>no     </td><td>yes    </td><td>no     </td><td>cellular </td><td>may</td><td>⋯</td><td>-1.8</td><td>92.893</td><td>-46.2</td><td>1.281</td><td>5099.1</td><td>0</td><td>0</td><td>0</td><td>0</td><td>0</td></tr>\n",
       "\t<tr><td>21812</td><td>49</td><td>blue-collar </td><td>married </td><td>unknown            </td><td>unknown</td><td>yes    </td><td>no     </td><td>telephone</td><td>may</td><td>⋯</td><td> 1.1</td><td>93.994</td><td>-36.4</td><td>4.856</td><td>5191.0</td><td>0</td><td>0</td><td>0</td><td>0</td><td>0</td></tr>\n",
       "\t<tr><td>39895</td><td>45</td><td>technician  </td><td>single  </td><td>professional.course</td><td>no     </td><td>no     </td><td>no     </td><td>telephone</td><td>may</td><td>⋯</td><td> 1.1</td><td>93.994</td><td>-36.4</td><td>4.856</td><td>5191.0</td><td>0</td><td>0</td><td>0</td><td>0</td><td>0</td></tr>\n",
       "\t<tr><td> 9326</td><td>33</td><td>blue-collar </td><td>single  </td><td>basic.9y           </td><td>unknown</td><td>yes    </td><td>no     </td><td>telephone</td><td>jun</td><td>⋯</td><td> 1.4</td><td>94.465</td><td>-41.8</td><td>4.865</td><td>5228.1</td><td>0</td><td>0</td><td>0</td><td>0</td><td>0</td></tr>\n",
       "\t<tr><td>26510</td><td>34</td><td>management  </td><td>single  </td><td>university.degree  </td><td>no     </td><td>unknown</td><td>unknown</td><td>telephone</td><td>nov</td><td>⋯</td><td>-0.1</td><td>93.200</td><td>-42.0</td><td>4.021</td><td>5195.8</td><td>0</td><td>0</td><td>0</td><td>0</td><td>0</td></tr>\n",
       "\t<tr><td>20960</td><td>57</td><td>retired     </td><td>married </td><td>university.degree  </td><td>no     </td><td>yes    </td><td>no     </td><td>telephone</td><td>may</td><td>⋯</td><td> 1.1</td><td>93.994</td><td>-36.4</td><td>4.856</td><td>5191.0</td><td>0</td><td>0</td><td>0</td><td>0</td><td>0</td></tr>\n",
       "\t<tr><td>14403</td><td>50</td><td>technician  </td><td>single  </td><td>professional.course</td><td>no     </td><td>no     </td><td>yes    </td><td>cellular </td><td>jul</td><td>⋯</td><td> 1.4</td><td>93.918</td><td>-42.7</td><td>4.962</td><td>5228.1</td><td>0</td><td>0</td><td>0</td><td>0</td><td>0</td></tr>\n",
       "\t<tr><td>28799</td><td>49</td><td>housemaid   </td><td>married </td><td>university.degree  </td><td>no     </td><td>yes    </td><td>no     </td><td>cellular </td><td>aug</td><td>⋯</td><td> 1.4</td><td>93.444</td><td>-36.1</td><td>4.967</td><td>5228.1</td><td>0</td><td>0</td><td>0</td><td>0</td><td>0</td></tr>\n",
       "\t<tr><td>⋮</td><td>⋮</td><td>⋮</td><td>⋮</td><td>⋮</td><td>⋮</td><td>⋮</td><td>⋮</td><td>⋮</td><td>⋮</td><td>⋱</td><td>⋮</td><td>⋮</td><td>⋮</td><td>⋮</td><td>⋮</td><td>⋮</td><td>⋮</td><td>⋮</td><td>⋮</td><td>⋮</td></tr>\n",
       "\t<tr><td> 3036</td><td>33</td><td>self-employed</td><td>married </td><td>university.degree  </td><td>no     </td><td>no     </td><td>no     </td><td>cellular </td><td>aug</td><td>⋯</td><td> 1.4</td><td>93.444</td><td>-36.1</td><td>4.965</td><td>5228.1</td><td>0</td><td>0</td><td>0</td><td>0</td><td>0</td></tr>\n",
       "\t<tr><td>19102</td><td>31</td><td>admin.       </td><td>single  </td><td>university.degree  </td><td>unknown</td><td>yes    </td><td>no     </td><td>cellular </td><td>aug</td><td>⋯</td><td> 1.4</td><td>93.444</td><td>-36.1</td><td>4.964</td><td>5228.1</td><td>0</td><td>0</td><td>0</td><td>0</td><td>0</td></tr>\n",
       "\t<tr><td>37729</td><td>46</td><td>technician   </td><td>married </td><td>professional.course</td><td>no     </td><td>no     </td><td>no     </td><td>telephone</td><td>may</td><td>⋯</td><td> 1.1</td><td>93.994</td><td>-36.4</td><td>4.860</td><td>5191.0</td><td>0</td><td>0</td><td>0</td><td>0</td><td>0</td></tr>\n",
       "\t<tr><td>20186</td><td>50</td><td>self-employed</td><td>married </td><td>unknown            </td><td>no     </td><td>unknown</td><td>unknown</td><td>cellular </td><td>jul</td><td>⋯</td><td>-2.9</td><td>92.469</td><td>-33.6</td><td>0.914</td><td>5076.2</td><td>0</td><td>0</td><td>0</td><td>0</td><td>0</td></tr>\n",
       "\t<tr><td>38059</td><td>43</td><td>admin.       </td><td>divorced</td><td>university.degree  </td><td>unknown</td><td>no     </td><td>no     </td><td>cellular </td><td>aug</td><td>⋯</td><td> 1.4</td><td>93.444</td><td>-36.1</td><td>4.966</td><td>5228.1</td><td>0</td><td>0</td><td>0</td><td>0</td><td>0</td></tr>\n",
       "\t<tr><td> 8099</td><td>32</td><td>technician   </td><td>divorced</td><td>professional.course</td><td>no     </td><td>no     </td><td>no     </td><td>cellular </td><td>nov</td><td>⋯</td><td>-0.1</td><td>93.200</td><td>-42.0</td><td>4.153</td><td>5195.8</td><td>0</td><td>0</td><td>0</td><td>0</td><td>0</td></tr>\n",
       "\t<tr><td>15178</td><td>37</td><td>housemaid    </td><td>married </td><td>basic.4y           </td><td>unknown</td><td>no     </td><td>yes    </td><td>cellular </td><td>aug</td><td>⋯</td><td> 1.4</td><td>93.444</td><td>-36.1</td><td>4.965</td><td>5228.1</td><td>0</td><td>0</td><td>0</td><td>0</td><td>0</td></tr>\n",
       "\t<tr><td>18920</td><td>47</td><td>technician   </td><td>divorced</td><td>high.school        </td><td>no     </td><td>yes    </td><td>no     </td><td>telephone</td><td>jun</td><td>⋯</td><td> 1.4</td><td>94.465</td><td>-41.8</td><td>4.865</td><td>5228.1</td><td>0</td><td>0</td><td>0</td><td>0</td><td>0</td></tr>\n",
       "\t<tr><td>19757</td><td>31</td><td>admin.       </td><td>single  </td><td>university.degree  </td><td>no     </td><td>yes    </td><td>no     </td><td>cellular </td><td>aug</td><td>⋯</td><td> 1.4</td><td>93.444</td><td>-36.1</td><td>4.965</td><td>5228.1</td><td>0</td><td>0</td><td>0</td><td>0</td><td>0</td></tr>\n",
       "\t<tr><td> 9327</td><td>31</td><td>admin.       </td><td>single  </td><td>university.degree  </td><td>unknown</td><td>no     </td><td>yes    </td><td>cellular </td><td>aug</td><td>⋯</td><td> 1.4</td><td>93.444</td><td>-36.1</td><td>4.968</td><td>5228.1</td><td>0</td><td>0</td><td>0</td><td>0</td><td>0</td></tr>\n",
       "\t<tr><td>16641</td><td>51</td><td>technician   </td><td>married </td><td>professional.course</td><td>no     </td><td>yes    </td><td>no     </td><td>cellular </td><td>oct</td><td>⋯</td><td>-3.4</td><td>92.431</td><td>-26.9</td><td>0.754</td><td>5017.5</td><td>0</td><td>0</td><td>0</td><td>0</td><td>0</td></tr>\n",
       "\t<tr><td> 9656</td><td>30</td><td>admin.       </td><td>married </td><td>university.degree  </td><td>no     </td><td>yes    </td><td>no     </td><td>cellular </td><td>aug</td><td>⋯</td><td> 1.4</td><td>93.444</td><td>-36.1</td><td>4.963</td><td>5228.1</td><td>0</td><td>0</td><td>0</td><td>0</td><td>0</td></tr>\n",
       "\t<tr><td>37330</td><td>42</td><td>technician   </td><td>married </td><td>professional.course</td><td>unknown</td><td>yes    </td><td>no     </td><td>telephone</td><td>may</td><td>⋯</td><td> 1.1</td><td>93.994</td><td>-36.4</td><td>4.864</td><td>5191.0</td><td>0</td><td>0</td><td>0</td><td>0</td><td>0</td></tr>\n",
       "\t<tr><td>34568</td><td>32</td><td>blue-collar  </td><td>married </td><td>basic.6y           </td><td>no     </td><td>yes    </td><td>no     </td><td>telephone</td><td>may</td><td>⋯</td><td> 1.1</td><td>93.994</td><td>-36.4</td><td>4.860</td><td>5191.0</td><td>0</td><td>0</td><td>0</td><td>0</td><td>0</td></tr>\n",
       "\t<tr><td>23095</td><td>41</td><td>blue-collar  </td><td>married </td><td>basic.6y           </td><td>no     </td><td>yes    </td><td>no     </td><td>cellular </td><td>jul</td><td>⋯</td><td> 1.4</td><td>93.918</td><td>-42.7</td><td>4.968</td><td>5228.1</td><td>0</td><td>0</td><td>0</td><td>0</td><td>0</td></tr>\n",
       "\t<tr><td>25383</td><td>48</td><td>admin.       </td><td>divorced</td><td>high.school        </td><td>no     </td><td>no     </td><td>yes    </td><td>telephone</td><td>may</td><td>⋯</td><td> 1.1</td><td>93.994</td><td>-36.4</td><td>4.856</td><td>5191.0</td><td>0</td><td>0</td><td>0</td><td>0</td><td>0</td></tr>\n",
       "\t<tr><td>16918</td><td>31</td><td>admin.       </td><td>unknown </td><td>university.degree  </td><td>no     </td><td>yes    </td><td>yes    </td><td>cellular </td><td>sep</td><td>⋯</td><td>-1.1</td><td>94.199</td><td>-37.5</td><td>0.877</td><td>4963.6</td><td>1</td><td>0</td><td>0</td><td>0</td><td>0</td></tr>\n",
       "\t<tr><td> 4245</td><td>35</td><td>blue-collar  </td><td>single  </td><td>unknown            </td><td>no     </td><td>yes    </td><td>no     </td><td>telephone</td><td>jul</td><td>⋯</td><td> 1.4</td><td>93.918</td><td>-42.7</td><td>4.960</td><td>5228.1</td><td>0</td><td>0</td><td>1</td><td>0</td><td>0</td></tr>\n",
       "\t<tr><td>21920</td><td>39</td><td>blue-collar  </td><td>married </td><td>basic.4y           </td><td>unknown</td><td>yes    </td><td>no     </td><td>telephone</td><td>may</td><td>⋯</td><td> 1.1</td><td>    NA</td><td>-36.4</td><td>4.859</td><td>5191.0</td><td>0</td><td>0</td><td>0</td><td>0</td><td>0</td></tr>\n",
       "\t<tr><td>29000</td><td>21</td><td>student      </td><td>single  </td><td>high.school        </td><td>no     </td><td>no     </td><td>no     </td><td>cellular </td><td>oct</td><td>⋯</td><td>-3.4</td><td>92.431</td><td>   NA</td><td>0.728</td><td>5017.5</td><td>1</td><td>0</td><td>0</td><td>0</td><td>0</td></tr>\n",
       "\t<tr><td> 6627</td><td>28</td><td>admin.       </td><td>single  </td><td>university.degree  </td><td>no     </td><td>yes    </td><td>no     </td><td>cellular </td><td>sep</td><td>⋯</td><td>-3.4</td><td>92.379</td><td>-29.8</td><td>0.773</td><td>5017.5</td><td>1</td><td>0</td><td>0</td><td>0</td><td>0</td></tr>\n",
       "\t<tr><td>35702</td><td>29</td><td>admin.       </td><td>single  </td><td>university.degree  </td><td>no     </td><td>yes    </td><td>no     </td><td>cellular </td><td>aug</td><td>⋯</td><td> 1.4</td><td>93.444</td><td>-36.1</td><td>4.963</td><td>5228.1</td><td>0</td><td>0</td><td>0</td><td>0</td><td>0</td></tr>\n",
       "\t<tr><td>38555</td><td>49</td><td>services     </td><td>married </td><td>basic.4y           </td><td>unknown</td><td>no     </td><td>no     </td><td>cellular </td><td>aug</td><td>⋯</td><td> 1.4</td><td>93.444</td><td>-36.1</td><td>4.963</td><td>5228.1</td><td>1</td><td>0</td><td>0</td><td>0</td><td>0</td></tr>\n",
       "\t<tr><td>23289</td><td>38</td><td>blue-collar  </td><td>divorced</td><td>high.school        </td><td>no     </td><td>yes    </td><td>no     </td><td>cellular </td><td>may</td><td>⋯</td><td>-1.8</td><td>92.893</td><td>-46.2</td><td>1.344</td><td>5099.1</td><td>0</td><td>0</td><td>0</td><td>0</td><td>0</td></tr>\n",
       "\t<tr><td> 2969</td><td>36</td><td>blue-collar  </td><td>single  </td><td>high.school        </td><td>no     </td><td>yes    </td><td>no     </td><td>cellular </td><td>jul</td><td>⋯</td><td> 1.4</td><td>93.918</td><td>-42.7</td><td>4.968</td><td>5228.1</td><td>0</td><td>0</td><td>0</td><td>0</td><td>0</td></tr>\n",
       "\t<tr><td>13724</td><td>45</td><td>unknown      </td><td>unknown </td><td>unknown            </td><td>no     </td><td>yes    </td><td>yes    </td><td>cellular </td><td>jul</td><td>⋯</td><td> 1.4</td><td>93.918</td><td>-42.7</td><td>4.957</td><td>5228.1</td><td>1</td><td>0</td><td>0</td><td>0</td><td>0</td></tr>\n",
       "\t<tr><td>29863</td><td>26</td><td>admin.       </td><td>single  </td><td>university.degree  </td><td>no     </td><td>yes    </td><td>no     </td><td>cellular </td><td>may</td><td>⋯</td><td>-1.8</td><td>92.893</td><td>-46.2</td><td>1.299</td><td>5099.1</td><td>0</td><td>0</td><td>0</td><td>0</td><td>0</td></tr>\n",
       "\t<tr><td> 9841</td><td>33</td><td>admin.       </td><td>married </td><td>high.school        </td><td>no     </td><td>yes    </td><td>yes    </td><td>cellular </td><td>may</td><td>⋯</td><td>-1.8</td><td>92.893</td><td>-46.2</td><td>1.299</td><td>5099.1</td><td>0</td><td>0</td><td>0</td><td>0</td><td>0</td></tr>\n",
       "\t<tr><td>36432</td><td>43</td><td>admin.       </td><td>married </td><td>high.school        </td><td>no     </td><td>yes    </td><td>no     </td><td>telephone</td><td>jul</td><td>⋯</td><td> 1.4</td><td>93.918</td><td>-42.7</td><td>4.960</td><td>5228.1</td><td>0</td><td>0</td><td>0</td><td>0</td><td>0</td></tr>\n",
       "\t<tr><td>15639</td><td>55</td><td>blue-collar  </td><td>married </td><td>basic.9y           </td><td>no     </td><td>yes    </td><td>yes    </td><td>cellular </td><td>aug</td><td>⋯</td><td> 1.4</td><td>93.444</td><td>-36.1</td><td>4.963</td><td>5228.1</td><td>0</td><td>0</td><td>0</td><td>0</td><td>0</td></tr>\n",
       "</tbody>\n",
       "</table>\n"
      ],
      "text/latex": [
       "A data.frame: 20000 × 25\n",
       "\\begin{tabular}{lllllllllllllllllllll}\n",
       " client\\_id & age & job & marital & education & default & housing & loan & contact & month & ⋯ & emp.var.rate & cons.price.idx & cons.conf.idx & euribor3m & nr.employed & subscribe & missing\\_age & missing\\_campaign & replace999 & missing\\_pdays\\\\\n",
       " <int> & <dbl> & <chr> & <chr> & <chr> & <chr> & <chr> & <chr> & <chr> & <chr> & ⋯ & <dbl> & <dbl> & <dbl> & <dbl> & <dbl> & <int> & <dbl> & <dbl> & <dbl> & <dbl>\\\\\n",
       "\\hline\n",
       "\t 29925 & 42 & management   & married  & basic.9y            & no      & no      & no      & cellular  & jul & ⋯ &  1.4 & 93.918 & -42.7 & 4.968 & 5228.1 & 0 & 0 & 0 & 0 & 0\\\\\n",
       "\t 37529 & 35 & unemployed   & married  & university.degree   & no      & yes     & no      & telephone & jun & ⋯ &  1.4 & 94.465 & -41.8 & 4.960 & 5228.1 & 0 & 0 & 0 & 0 & 0\\\\\n",
       "\t  2757 & 44 & technician   & married  & basic.9y            & no      & yes     & yes     & cellular  & may & ⋯ & -1.8 & 92.893 & -46.2 & 1.264 & 5099.1 & 0 & 0 & 0 & 0 & 0\\\\\n",
       "\t  9642 & 45 & services     & married  & high.school         & no      & yes     & no      & cellular  & apr & ⋯ & -1.8 & 93.075 & -47.1 & 1.453 & 5099.1 & 0 & 0 & 0 & 0 & 0\\\\\n",
       "\t 14183 & 45 & unknown      & married  & unknown             & unknown & unknown & unknown & telephone & may & ⋯ &  1.1 & 93.994 & -36.4 & 4.859 & 5191.0 & 0 & 0 & 0 & 0 & 0\\\\\n",
       "\t 15180 & 38 & technician   & married  & professional.course & no      & no      & no      & telephone & may & ⋯ &  1.1 & 93.994 & -36.4 & 4.858 & 5191.0 & 0 & 0 & 0 & 0 & 0\\\\\n",
       "\t 27168 & 33 & technician   & married  & professional.course & no      & no      & yes     & cellular  & apr & ⋯ & -1.8 & 93.075 & -47.1 & 1.405 & 5099.1 & 1 & 0 & 0 & 1 & 1\\\\\n",
       "\t  9097 & 38 & blue-collar  & single   & basic.9y            & unknown & yes     & no      & telephone & may & ⋯ &  1.1 & 93.994 & -36.4 & 4.857 & 5191.0 & 0 & 0 & 0 & 0 & 0\\\\\n",
       "\t 30538 & 29 & blue-collar  & single   & unknown             & no      & yes     & no      & cellular  & may & ⋯ & -1.8 & 92.893 & -46.2 & 1.250 & 5099.1 & 0 & 0 & 0 & 0 & 0\\\\\n",
       "\t 28981 & 34 & admin.       & divorced & university.degree   & no      & yes     & yes     & cellular  & aug & ⋯ &  1.4 & 93.444 & -36.1 & 4.965 & 5228.1 & 0 & 0 & 0 & 0 & 0\\\\\n",
       "\t  7989 & 47 & blue-collar  & married  & high.school         & unknown & yes     & no      & telephone & jun & ⋯ &  1.4 & 94.465 & -41.8 & 4.961 & 5228.1 & 0 & 0 & 0 & 0 & 0\\\\\n",
       "\t 13536 & 30 & blue-collar  & single   & basic.9y            & no      & yes     & no      & cellular  & jul & ⋯ &  1.4 & 93.918 & -42.7 & 4.963 & 5228.1 & 0 & 0 & 0 & 0 & 0\\\\\n",
       "\t 24541 & 30 & admin.       & married  & basic.6y            & no      & yes     & no      & cellular  & jul & ⋯ &  1.4 & 93.918 & -42.7 & 4.958 & 5228.1 & 0 & 0 & 0 & 0 & 0\\\\\n",
       "\t  6216 & 35 & services     & married  & basic.6y            & unknown & yes     & no      & cellular  & may & ⋯ & -1.8 & 92.893 & -46.2 & 1.344 & 5099.1 & 0 & 0 & 0 & 0 & 0\\\\\n",
       "\t 17983 & 45 & management   & married  & professional.course & no      & no      & no      & cellular  & nov & ⋯ & -0.1 & 93.200 & -42.0 & 4.076 & 5195.8 & 1 & 0 & 0 & 0 & 0\\\\\n",
       "\t 29394 & 37 & entrepreneur & married  & university.degree   & unknown & yes     & no      & cellular  & nov & ⋯ & -0.1 & 93.200 & -42.0 & 4.191 & 5195.8 & 0 & 0 & 0 & 0 & 0\\\\\n",
       "\t 28825 & 48 & blue-collar  & married  & basic.6y            & no      & no      & no      & telephone & jun & ⋯ &  1.4 & 94.465 & -41.8 & 4.866 & 5228.1 & 0 & 0 & 0 & 0 & 0\\\\\n",
       "\t    41 & 47 & admin.       & married  & basic.6y            & unknown & yes     & no      & cellular  & apr & ⋯ & -1.8 & 93.075 & -47.1 & 1.410 & 5099.1 & 0 & 0 & 0 & 0 & 0\\\\\n",
       "\t  7284 & 35 & blue-collar  & married  & basic.9y            & no      & yes     & no      & telephone & may & ⋯ &  1.1 & 93.994 & -36.4 & 4.858 & 5191.0 & 0 & 0 & 0 & 0 & 0\\\\\n",
       "\t 28502 & 34 & technician   & married  & professional.course & no      & no      & no      & cellular  & apr & ⋯ & -1.8 & 93.075 & -47.1 & 1.405 & 5099.1 & 0 & 0 & 0 & 0 & 0\\\\\n",
       "\t 11473 & 60 & technician   & married  & university.degree   & unknown & yes     & no      & telephone & may & ⋯ &  1.1 & 93.994 & -36.4 & 4.855 & 5191.0 & 0 & 0 & 0 & 0 & 0\\\\\n",
       "\t  6134 & 35 & services     & single   & high.school         & no      & no      & no      & cellular  & may & ⋯ & -1.8 & 92.893 & -46.2 & 1.334 & 5099.1 & 0 & 0 & 0 & 0 & 0\\\\\n",
       "\t 33523 & 32 & technician   & married  & university.degree   & no      & yes     & no      & cellular  & may & ⋯ & -1.8 & 92.893 & -46.2 & 1.281 & 5099.1 & 0 & 0 & 0 & 0 & 0\\\\\n",
       "\t 21812 & 49 & blue-collar  & married  & unknown             & unknown & yes     & no      & telephone & may & ⋯ &  1.1 & 93.994 & -36.4 & 4.856 & 5191.0 & 0 & 0 & 0 & 0 & 0\\\\\n",
       "\t 39895 & 45 & technician   & single   & professional.course & no      & no      & no      & telephone & may & ⋯ &  1.1 & 93.994 & -36.4 & 4.856 & 5191.0 & 0 & 0 & 0 & 0 & 0\\\\\n",
       "\t  9326 & 33 & blue-collar  & single   & basic.9y            & unknown & yes     & no      & telephone & jun & ⋯ &  1.4 & 94.465 & -41.8 & 4.865 & 5228.1 & 0 & 0 & 0 & 0 & 0\\\\\n",
       "\t 26510 & 34 & management   & single   & university.degree   & no      & unknown & unknown & telephone & nov & ⋯ & -0.1 & 93.200 & -42.0 & 4.021 & 5195.8 & 0 & 0 & 0 & 0 & 0\\\\\n",
       "\t 20960 & 57 & retired      & married  & university.degree   & no      & yes     & no      & telephone & may & ⋯ &  1.1 & 93.994 & -36.4 & 4.856 & 5191.0 & 0 & 0 & 0 & 0 & 0\\\\\n",
       "\t 14403 & 50 & technician   & single   & professional.course & no      & no      & yes     & cellular  & jul & ⋯ &  1.4 & 93.918 & -42.7 & 4.962 & 5228.1 & 0 & 0 & 0 & 0 & 0\\\\\n",
       "\t 28799 & 49 & housemaid    & married  & university.degree   & no      & yes     & no      & cellular  & aug & ⋯ &  1.4 & 93.444 & -36.1 & 4.967 & 5228.1 & 0 & 0 & 0 & 0 & 0\\\\\n",
       "\t ⋮ & ⋮ & ⋮ & ⋮ & ⋮ & ⋮ & ⋮ & ⋮ & ⋮ & ⋮ & ⋱ & ⋮ & ⋮ & ⋮ & ⋮ & ⋮ & ⋮ & ⋮ & ⋮ & ⋮ & ⋮\\\\\n",
       "\t  3036 & 33 & self-employed & married  & university.degree   & no      & no      & no      & cellular  & aug & ⋯ &  1.4 & 93.444 & -36.1 & 4.965 & 5228.1 & 0 & 0 & 0 & 0 & 0\\\\\n",
       "\t 19102 & 31 & admin.        & single   & university.degree   & unknown & yes     & no      & cellular  & aug & ⋯ &  1.4 & 93.444 & -36.1 & 4.964 & 5228.1 & 0 & 0 & 0 & 0 & 0\\\\\n",
       "\t 37729 & 46 & technician    & married  & professional.course & no      & no      & no      & telephone & may & ⋯ &  1.1 & 93.994 & -36.4 & 4.860 & 5191.0 & 0 & 0 & 0 & 0 & 0\\\\\n",
       "\t 20186 & 50 & self-employed & married  & unknown             & no      & unknown & unknown & cellular  & jul & ⋯ & -2.9 & 92.469 & -33.6 & 0.914 & 5076.2 & 0 & 0 & 0 & 0 & 0\\\\\n",
       "\t 38059 & 43 & admin.        & divorced & university.degree   & unknown & no      & no      & cellular  & aug & ⋯ &  1.4 & 93.444 & -36.1 & 4.966 & 5228.1 & 0 & 0 & 0 & 0 & 0\\\\\n",
       "\t  8099 & 32 & technician    & divorced & professional.course & no      & no      & no      & cellular  & nov & ⋯ & -0.1 & 93.200 & -42.0 & 4.153 & 5195.8 & 0 & 0 & 0 & 0 & 0\\\\\n",
       "\t 15178 & 37 & housemaid     & married  & basic.4y            & unknown & no      & yes     & cellular  & aug & ⋯ &  1.4 & 93.444 & -36.1 & 4.965 & 5228.1 & 0 & 0 & 0 & 0 & 0\\\\\n",
       "\t 18920 & 47 & technician    & divorced & high.school         & no      & yes     & no      & telephone & jun & ⋯ &  1.4 & 94.465 & -41.8 & 4.865 & 5228.1 & 0 & 0 & 0 & 0 & 0\\\\\n",
       "\t 19757 & 31 & admin.        & single   & university.degree   & no      & yes     & no      & cellular  & aug & ⋯ &  1.4 & 93.444 & -36.1 & 4.965 & 5228.1 & 0 & 0 & 0 & 0 & 0\\\\\n",
       "\t  9327 & 31 & admin.        & single   & university.degree   & unknown & no      & yes     & cellular  & aug & ⋯ &  1.4 & 93.444 & -36.1 & 4.968 & 5228.1 & 0 & 0 & 0 & 0 & 0\\\\\n",
       "\t 16641 & 51 & technician    & married  & professional.course & no      & yes     & no      & cellular  & oct & ⋯ & -3.4 & 92.431 & -26.9 & 0.754 & 5017.5 & 0 & 0 & 0 & 0 & 0\\\\\n",
       "\t  9656 & 30 & admin.        & married  & university.degree   & no      & yes     & no      & cellular  & aug & ⋯ &  1.4 & 93.444 & -36.1 & 4.963 & 5228.1 & 0 & 0 & 0 & 0 & 0\\\\\n",
       "\t 37330 & 42 & technician    & married  & professional.course & unknown & yes     & no      & telephone & may & ⋯ &  1.1 & 93.994 & -36.4 & 4.864 & 5191.0 & 0 & 0 & 0 & 0 & 0\\\\\n",
       "\t 34568 & 32 & blue-collar   & married  & basic.6y            & no      & yes     & no      & telephone & may & ⋯ &  1.1 & 93.994 & -36.4 & 4.860 & 5191.0 & 0 & 0 & 0 & 0 & 0\\\\\n",
       "\t 23095 & 41 & blue-collar   & married  & basic.6y            & no      & yes     & no      & cellular  & jul & ⋯ &  1.4 & 93.918 & -42.7 & 4.968 & 5228.1 & 0 & 0 & 0 & 0 & 0\\\\\n",
       "\t 25383 & 48 & admin.        & divorced & high.school         & no      & no      & yes     & telephone & may & ⋯ &  1.1 & 93.994 & -36.4 & 4.856 & 5191.0 & 0 & 0 & 0 & 0 & 0\\\\\n",
       "\t 16918 & 31 & admin.        & unknown  & university.degree   & no      & yes     & yes     & cellular  & sep & ⋯ & -1.1 & 94.199 & -37.5 & 0.877 & 4963.6 & 1 & 0 & 0 & 0 & 0\\\\\n",
       "\t  4245 & 35 & blue-collar   & single   & unknown             & no      & yes     & no      & telephone & jul & ⋯ &  1.4 & 93.918 & -42.7 & 4.960 & 5228.1 & 0 & 0 & 1 & 0 & 0\\\\\n",
       "\t 21920 & 39 & blue-collar   & married  & basic.4y            & unknown & yes     & no      & telephone & may & ⋯ &  1.1 &     NA & -36.4 & 4.859 & 5191.0 & 0 & 0 & 0 & 0 & 0\\\\\n",
       "\t 29000 & 21 & student       & single   & high.school         & no      & no      & no      & cellular  & oct & ⋯ & -3.4 & 92.431 &    NA & 0.728 & 5017.5 & 1 & 0 & 0 & 0 & 0\\\\\n",
       "\t  6627 & 28 & admin.        & single   & university.degree   & no      & yes     & no      & cellular  & sep & ⋯ & -3.4 & 92.379 & -29.8 & 0.773 & 5017.5 & 1 & 0 & 0 & 0 & 0\\\\\n",
       "\t 35702 & 29 & admin.        & single   & university.degree   & no      & yes     & no      & cellular  & aug & ⋯ &  1.4 & 93.444 & -36.1 & 4.963 & 5228.1 & 0 & 0 & 0 & 0 & 0\\\\\n",
       "\t 38555 & 49 & services      & married  & basic.4y            & unknown & no      & no      & cellular  & aug & ⋯ &  1.4 & 93.444 & -36.1 & 4.963 & 5228.1 & 1 & 0 & 0 & 0 & 0\\\\\n",
       "\t 23289 & 38 & blue-collar   & divorced & high.school         & no      & yes     & no      & cellular  & may & ⋯ & -1.8 & 92.893 & -46.2 & 1.344 & 5099.1 & 0 & 0 & 0 & 0 & 0\\\\\n",
       "\t  2969 & 36 & blue-collar   & single   & high.school         & no      & yes     & no      & cellular  & jul & ⋯ &  1.4 & 93.918 & -42.7 & 4.968 & 5228.1 & 0 & 0 & 0 & 0 & 0\\\\\n",
       "\t 13724 & 45 & unknown       & unknown  & unknown             & no      & yes     & yes     & cellular  & jul & ⋯ &  1.4 & 93.918 & -42.7 & 4.957 & 5228.1 & 1 & 0 & 0 & 0 & 0\\\\\n",
       "\t 29863 & 26 & admin.        & single   & university.degree   & no      & yes     & no      & cellular  & may & ⋯ & -1.8 & 92.893 & -46.2 & 1.299 & 5099.1 & 0 & 0 & 0 & 0 & 0\\\\\n",
       "\t  9841 & 33 & admin.        & married  & high.school         & no      & yes     & yes     & cellular  & may & ⋯ & -1.8 & 92.893 & -46.2 & 1.299 & 5099.1 & 0 & 0 & 0 & 0 & 0\\\\\n",
       "\t 36432 & 43 & admin.        & married  & high.school         & no      & yes     & no      & telephone & jul & ⋯ &  1.4 & 93.918 & -42.7 & 4.960 & 5228.1 & 0 & 0 & 0 & 0 & 0\\\\\n",
       "\t 15639 & 55 & blue-collar   & married  & basic.9y            & no      & yes     & yes     & cellular  & aug & ⋯ &  1.4 & 93.444 & -36.1 & 4.963 & 5228.1 & 0 & 0 & 0 & 0 & 0\\\\\n",
       "\\end{tabular}\n"
      ],
      "text/markdown": [
       "\n",
       "A data.frame: 20000 × 25\n",
       "\n",
       "| client_id &lt;int&gt; | age &lt;dbl&gt; | job &lt;chr&gt; | marital &lt;chr&gt; | education &lt;chr&gt; | default &lt;chr&gt; | housing &lt;chr&gt; | loan &lt;chr&gt; | contact &lt;chr&gt; | month &lt;chr&gt; | ⋯ ⋯ | emp.var.rate &lt;dbl&gt; | cons.price.idx &lt;dbl&gt; | cons.conf.idx &lt;dbl&gt; | euribor3m &lt;dbl&gt; | nr.employed &lt;dbl&gt; | subscribe &lt;int&gt; | missing_age &lt;dbl&gt; | missing_campaign &lt;dbl&gt; | replace999 &lt;dbl&gt; | missing_pdays &lt;dbl&gt; |\n",
       "|---|---|---|---|---|---|---|---|---|---|---|---|---|---|---|---|---|---|---|---|---|\n",
       "| 29925 | 42 | management   | married  | basic.9y            | no      | no      | no      | cellular  | jul | ⋯ |  1.4 | 93.918 | -42.7 | 4.968 | 5228.1 | 0 | 0 | 0 | 0 | 0 |\n",
       "| 37529 | 35 | unemployed   | married  | university.degree   | no      | yes     | no      | telephone | jun | ⋯ |  1.4 | 94.465 | -41.8 | 4.960 | 5228.1 | 0 | 0 | 0 | 0 | 0 |\n",
       "|  2757 | 44 | technician   | married  | basic.9y            | no      | yes     | yes     | cellular  | may | ⋯ | -1.8 | 92.893 | -46.2 | 1.264 | 5099.1 | 0 | 0 | 0 | 0 | 0 |\n",
       "|  9642 | 45 | services     | married  | high.school         | no      | yes     | no      | cellular  | apr | ⋯ | -1.8 | 93.075 | -47.1 | 1.453 | 5099.1 | 0 | 0 | 0 | 0 | 0 |\n",
       "| 14183 | 45 | unknown      | married  | unknown             | unknown | unknown | unknown | telephone | may | ⋯ |  1.1 | 93.994 | -36.4 | 4.859 | 5191.0 | 0 | 0 | 0 | 0 | 0 |\n",
       "| 15180 | 38 | technician   | married  | professional.course | no      | no      | no      | telephone | may | ⋯ |  1.1 | 93.994 | -36.4 | 4.858 | 5191.0 | 0 | 0 | 0 | 0 | 0 |\n",
       "| 27168 | 33 | technician   | married  | professional.course | no      | no      | yes     | cellular  | apr | ⋯ | -1.8 | 93.075 | -47.1 | 1.405 | 5099.1 | 1 | 0 | 0 | 1 | 1 |\n",
       "|  9097 | 38 | blue-collar  | single   | basic.9y            | unknown | yes     | no      | telephone | may | ⋯ |  1.1 | 93.994 | -36.4 | 4.857 | 5191.0 | 0 | 0 | 0 | 0 | 0 |\n",
       "| 30538 | 29 | blue-collar  | single   | unknown             | no      | yes     | no      | cellular  | may | ⋯ | -1.8 | 92.893 | -46.2 | 1.250 | 5099.1 | 0 | 0 | 0 | 0 | 0 |\n",
       "| 28981 | 34 | admin.       | divorced | university.degree   | no      | yes     | yes     | cellular  | aug | ⋯ |  1.4 | 93.444 | -36.1 | 4.965 | 5228.1 | 0 | 0 | 0 | 0 | 0 |\n",
       "|  7989 | 47 | blue-collar  | married  | high.school         | unknown | yes     | no      | telephone | jun | ⋯ |  1.4 | 94.465 | -41.8 | 4.961 | 5228.1 | 0 | 0 | 0 | 0 | 0 |\n",
       "| 13536 | 30 | blue-collar  | single   | basic.9y            | no      | yes     | no      | cellular  | jul | ⋯ |  1.4 | 93.918 | -42.7 | 4.963 | 5228.1 | 0 | 0 | 0 | 0 | 0 |\n",
       "| 24541 | 30 | admin.       | married  | basic.6y            | no      | yes     | no      | cellular  | jul | ⋯ |  1.4 | 93.918 | -42.7 | 4.958 | 5228.1 | 0 | 0 | 0 | 0 | 0 |\n",
       "|  6216 | 35 | services     | married  | basic.6y            | unknown | yes     | no      | cellular  | may | ⋯ | -1.8 | 92.893 | -46.2 | 1.344 | 5099.1 | 0 | 0 | 0 | 0 | 0 |\n",
       "| 17983 | 45 | management   | married  | professional.course | no      | no      | no      | cellular  | nov | ⋯ | -0.1 | 93.200 | -42.0 | 4.076 | 5195.8 | 1 | 0 | 0 | 0 | 0 |\n",
       "| 29394 | 37 | entrepreneur | married  | university.degree   | unknown | yes     | no      | cellular  | nov | ⋯ | -0.1 | 93.200 | -42.0 | 4.191 | 5195.8 | 0 | 0 | 0 | 0 | 0 |\n",
       "| 28825 | 48 | blue-collar  | married  | basic.6y            | no      | no      | no      | telephone | jun | ⋯ |  1.4 | 94.465 | -41.8 | 4.866 | 5228.1 | 0 | 0 | 0 | 0 | 0 |\n",
       "|    41 | 47 | admin.       | married  | basic.6y            | unknown | yes     | no      | cellular  | apr | ⋯ | -1.8 | 93.075 | -47.1 | 1.410 | 5099.1 | 0 | 0 | 0 | 0 | 0 |\n",
       "|  7284 | 35 | blue-collar  | married  | basic.9y            | no      | yes     | no      | telephone | may | ⋯ |  1.1 | 93.994 | -36.4 | 4.858 | 5191.0 | 0 | 0 | 0 | 0 | 0 |\n",
       "| 28502 | 34 | technician   | married  | professional.course | no      | no      | no      | cellular  | apr | ⋯ | -1.8 | 93.075 | -47.1 | 1.405 | 5099.1 | 0 | 0 | 0 | 0 | 0 |\n",
       "| 11473 | 60 | technician   | married  | university.degree   | unknown | yes     | no      | telephone | may | ⋯ |  1.1 | 93.994 | -36.4 | 4.855 | 5191.0 | 0 | 0 | 0 | 0 | 0 |\n",
       "|  6134 | 35 | services     | single   | high.school         | no      | no      | no      | cellular  | may | ⋯ | -1.8 | 92.893 | -46.2 | 1.334 | 5099.1 | 0 | 0 | 0 | 0 | 0 |\n",
       "| 33523 | 32 | technician   | married  | university.degree   | no      | yes     | no      | cellular  | may | ⋯ | -1.8 | 92.893 | -46.2 | 1.281 | 5099.1 | 0 | 0 | 0 | 0 | 0 |\n",
       "| 21812 | 49 | blue-collar  | married  | unknown             | unknown | yes     | no      | telephone | may | ⋯ |  1.1 | 93.994 | -36.4 | 4.856 | 5191.0 | 0 | 0 | 0 | 0 | 0 |\n",
       "| 39895 | 45 | technician   | single   | professional.course | no      | no      | no      | telephone | may | ⋯ |  1.1 | 93.994 | -36.4 | 4.856 | 5191.0 | 0 | 0 | 0 | 0 | 0 |\n",
       "|  9326 | 33 | blue-collar  | single   | basic.9y            | unknown | yes     | no      | telephone | jun | ⋯ |  1.4 | 94.465 | -41.8 | 4.865 | 5228.1 | 0 | 0 | 0 | 0 | 0 |\n",
       "| 26510 | 34 | management   | single   | university.degree   | no      | unknown | unknown | telephone | nov | ⋯ | -0.1 | 93.200 | -42.0 | 4.021 | 5195.8 | 0 | 0 | 0 | 0 | 0 |\n",
       "| 20960 | 57 | retired      | married  | university.degree   | no      | yes     | no      | telephone | may | ⋯ |  1.1 | 93.994 | -36.4 | 4.856 | 5191.0 | 0 | 0 | 0 | 0 | 0 |\n",
       "| 14403 | 50 | technician   | single   | professional.course | no      | no      | yes     | cellular  | jul | ⋯ |  1.4 | 93.918 | -42.7 | 4.962 | 5228.1 | 0 | 0 | 0 | 0 | 0 |\n",
       "| 28799 | 49 | housemaid    | married  | university.degree   | no      | yes     | no      | cellular  | aug | ⋯ |  1.4 | 93.444 | -36.1 | 4.967 | 5228.1 | 0 | 0 | 0 | 0 | 0 |\n",
       "| ⋮ | ⋮ | ⋮ | ⋮ | ⋮ | ⋮ | ⋮ | ⋮ | ⋮ | ⋮ | ⋱ | ⋮ | ⋮ | ⋮ | ⋮ | ⋮ | ⋮ | ⋮ | ⋮ | ⋮ | ⋮ |\n",
       "|  3036 | 33 | self-employed | married  | university.degree   | no      | no      | no      | cellular  | aug | ⋯ |  1.4 | 93.444 | -36.1 | 4.965 | 5228.1 | 0 | 0 | 0 | 0 | 0 |\n",
       "| 19102 | 31 | admin.        | single   | university.degree   | unknown | yes     | no      | cellular  | aug | ⋯ |  1.4 | 93.444 | -36.1 | 4.964 | 5228.1 | 0 | 0 | 0 | 0 | 0 |\n",
       "| 37729 | 46 | technician    | married  | professional.course | no      | no      | no      | telephone | may | ⋯ |  1.1 | 93.994 | -36.4 | 4.860 | 5191.0 | 0 | 0 | 0 | 0 | 0 |\n",
       "| 20186 | 50 | self-employed | married  | unknown             | no      | unknown | unknown | cellular  | jul | ⋯ | -2.9 | 92.469 | -33.6 | 0.914 | 5076.2 | 0 | 0 | 0 | 0 | 0 |\n",
       "| 38059 | 43 | admin.        | divorced | university.degree   | unknown | no      | no      | cellular  | aug | ⋯ |  1.4 | 93.444 | -36.1 | 4.966 | 5228.1 | 0 | 0 | 0 | 0 | 0 |\n",
       "|  8099 | 32 | technician    | divorced | professional.course | no      | no      | no      | cellular  | nov | ⋯ | -0.1 | 93.200 | -42.0 | 4.153 | 5195.8 | 0 | 0 | 0 | 0 | 0 |\n",
       "| 15178 | 37 | housemaid     | married  | basic.4y            | unknown | no      | yes     | cellular  | aug | ⋯ |  1.4 | 93.444 | -36.1 | 4.965 | 5228.1 | 0 | 0 | 0 | 0 | 0 |\n",
       "| 18920 | 47 | technician    | divorced | high.school         | no      | yes     | no      | telephone | jun | ⋯ |  1.4 | 94.465 | -41.8 | 4.865 | 5228.1 | 0 | 0 | 0 | 0 | 0 |\n",
       "| 19757 | 31 | admin.        | single   | university.degree   | no      | yes     | no      | cellular  | aug | ⋯ |  1.4 | 93.444 | -36.1 | 4.965 | 5228.1 | 0 | 0 | 0 | 0 | 0 |\n",
       "|  9327 | 31 | admin.        | single   | university.degree   | unknown | no      | yes     | cellular  | aug | ⋯ |  1.4 | 93.444 | -36.1 | 4.968 | 5228.1 | 0 | 0 | 0 | 0 | 0 |\n",
       "| 16641 | 51 | technician    | married  | professional.course | no      | yes     | no      | cellular  | oct | ⋯ | -3.4 | 92.431 | -26.9 | 0.754 | 5017.5 | 0 | 0 | 0 | 0 | 0 |\n",
       "|  9656 | 30 | admin.        | married  | university.degree   | no      | yes     | no      | cellular  | aug | ⋯ |  1.4 | 93.444 | -36.1 | 4.963 | 5228.1 | 0 | 0 | 0 | 0 | 0 |\n",
       "| 37330 | 42 | technician    | married  | professional.course | unknown | yes     | no      | telephone | may | ⋯ |  1.1 | 93.994 | -36.4 | 4.864 | 5191.0 | 0 | 0 | 0 | 0 | 0 |\n",
       "| 34568 | 32 | blue-collar   | married  | basic.6y            | no      | yes     | no      | telephone | may | ⋯ |  1.1 | 93.994 | -36.4 | 4.860 | 5191.0 | 0 | 0 | 0 | 0 | 0 |\n",
       "| 23095 | 41 | blue-collar   | married  | basic.6y            | no      | yes     | no      | cellular  | jul | ⋯ |  1.4 | 93.918 | -42.7 | 4.968 | 5228.1 | 0 | 0 | 0 | 0 | 0 |\n",
       "| 25383 | 48 | admin.        | divorced | high.school         | no      | no      | yes     | telephone | may | ⋯ |  1.1 | 93.994 | -36.4 | 4.856 | 5191.0 | 0 | 0 | 0 | 0 | 0 |\n",
       "| 16918 | 31 | admin.        | unknown  | university.degree   | no      | yes     | yes     | cellular  | sep | ⋯ | -1.1 | 94.199 | -37.5 | 0.877 | 4963.6 | 1 | 0 | 0 | 0 | 0 |\n",
       "|  4245 | 35 | blue-collar   | single   | unknown             | no      | yes     | no      | telephone | jul | ⋯ |  1.4 | 93.918 | -42.7 | 4.960 | 5228.1 | 0 | 0 | 1 | 0 | 0 |\n",
       "| 21920 | 39 | blue-collar   | married  | basic.4y            | unknown | yes     | no      | telephone | may | ⋯ |  1.1 |     NA | -36.4 | 4.859 | 5191.0 | 0 | 0 | 0 | 0 | 0 |\n",
       "| 29000 | 21 | student       | single   | high.school         | no      | no      | no      | cellular  | oct | ⋯ | -3.4 | 92.431 |    NA | 0.728 | 5017.5 | 1 | 0 | 0 | 0 | 0 |\n",
       "|  6627 | 28 | admin.        | single   | university.degree   | no      | yes     | no      | cellular  | sep | ⋯ | -3.4 | 92.379 | -29.8 | 0.773 | 5017.5 | 1 | 0 | 0 | 0 | 0 |\n",
       "| 35702 | 29 | admin.        | single   | university.degree   | no      | yes     | no      | cellular  | aug | ⋯ |  1.4 | 93.444 | -36.1 | 4.963 | 5228.1 | 0 | 0 | 0 | 0 | 0 |\n",
       "| 38555 | 49 | services      | married  | basic.4y            | unknown | no      | no      | cellular  | aug | ⋯ |  1.4 | 93.444 | -36.1 | 4.963 | 5228.1 | 1 | 0 | 0 | 0 | 0 |\n",
       "| 23289 | 38 | blue-collar   | divorced | high.school         | no      | yes     | no      | cellular  | may | ⋯ | -1.8 | 92.893 | -46.2 | 1.344 | 5099.1 | 0 | 0 | 0 | 0 | 0 |\n",
       "|  2969 | 36 | blue-collar   | single   | high.school         | no      | yes     | no      | cellular  | jul | ⋯ |  1.4 | 93.918 | -42.7 | 4.968 | 5228.1 | 0 | 0 | 0 | 0 | 0 |\n",
       "| 13724 | 45 | unknown       | unknown  | unknown             | no      | yes     | yes     | cellular  | jul | ⋯ |  1.4 | 93.918 | -42.7 | 4.957 | 5228.1 | 1 | 0 | 0 | 0 | 0 |\n",
       "| 29863 | 26 | admin.        | single   | university.degree   | no      | yes     | no      | cellular  | may | ⋯ | -1.8 | 92.893 | -46.2 | 1.299 | 5099.1 | 0 | 0 | 0 | 0 | 0 |\n",
       "|  9841 | 33 | admin.        | married  | high.school         | no      | yes     | yes     | cellular  | may | ⋯ | -1.8 | 92.893 | -46.2 | 1.299 | 5099.1 | 0 | 0 | 0 | 0 | 0 |\n",
       "| 36432 | 43 | admin.        | married  | high.school         | no      | yes     | no      | telephone | jul | ⋯ |  1.4 | 93.918 | -42.7 | 4.960 | 5228.1 | 0 | 0 | 0 | 0 | 0 |\n",
       "| 15639 | 55 | blue-collar   | married  | basic.9y            | no      | yes     | yes     | cellular  | aug | ⋯ |  1.4 | 93.444 | -36.1 | 4.963 | 5228.1 | 0 | 0 | 0 | 0 | 0 |\n",
       "\n"
      ],
      "text/plain": [
       "      client_id age job           marital  education           default housing\n",
       "1     29925     42  management    married  basic.9y            no      no     \n",
       "2     37529     35  unemployed    married  university.degree   no      yes    \n",
       "3      2757     44  technician    married  basic.9y            no      yes    \n",
       "4      9642     45  services      married  high.school         no      yes    \n",
       "5     14183     45  unknown       married  unknown             unknown unknown\n",
       "6     15180     38  technician    married  professional.course no      no     \n",
       "7     27168     33  technician    married  professional.course no      no     \n",
       "8      9097     38  blue-collar   single   basic.9y            unknown yes    \n",
       "9     30538     29  blue-collar   single   unknown             no      yes    \n",
       "10    28981     34  admin.        divorced university.degree   no      yes    \n",
       "11     7989     47  blue-collar   married  high.school         unknown yes    \n",
       "12    13536     30  blue-collar   single   basic.9y            no      yes    \n",
       "13    24541     30  admin.        married  basic.6y            no      yes    \n",
       "14     6216     35  services      married  basic.6y            unknown yes    \n",
       "15    17983     45  management    married  professional.course no      no     \n",
       "16    29394     37  entrepreneur  married  university.degree   unknown yes    \n",
       "17    28825     48  blue-collar   married  basic.6y            no      no     \n",
       "18       41     47  admin.        married  basic.6y            unknown yes    \n",
       "19     7284     35  blue-collar   married  basic.9y            no      yes    \n",
       "20    28502     34  technician    married  professional.course no      no     \n",
       "21    11473     60  technician    married  university.degree   unknown yes    \n",
       "22     6134     35  services      single   high.school         no      no     \n",
       "23    33523     32  technician    married  university.degree   no      yes    \n",
       "24    21812     49  blue-collar   married  unknown             unknown yes    \n",
       "25    39895     45  technician    single   professional.course no      no     \n",
       "26     9326     33  blue-collar   single   basic.9y            unknown yes    \n",
       "27    26510     34  management    single   university.degree   no      unknown\n",
       "28    20960     57  retired       married  university.degree   no      yes    \n",
       "29    14403     50  technician    single   professional.course no      no     \n",
       "30    28799     49  housemaid     married  university.degree   no      yes    \n",
       "<U+22EE>     <U+22EE>  <U+22EE> <U+22EE>      <U+22EE> <U+22EE>            <U+22EE> <U+22EE>\n",
       "19971  3036     33  self-employed married  university.degree   no      no     \n",
       "19972 19102     31  admin.        single   university.degree   unknown yes    \n",
       "19973 37729     46  technician    married  professional.course no      no     \n",
       "19974 20186     50  self-employed married  unknown             no      unknown\n",
       "19975 38059     43  admin.        divorced university.degree   unknown no     \n",
       "19976  8099     32  technician    divorced professional.course no      no     \n",
       "19977 15178     37  housemaid     married  basic.4y            unknown no     \n",
       "19978 18920     47  technician    divorced high.school         no      yes    \n",
       "19979 19757     31  admin.        single   university.degree   no      yes    \n",
       "19980  9327     31  admin.        single   university.degree   unknown no     \n",
       "19981 16641     51  technician    married  professional.course no      yes    \n",
       "19982  9656     30  admin.        married  university.degree   no      yes    \n",
       "19983 37330     42  technician    married  professional.course unknown yes    \n",
       "19984 34568     32  blue-collar   married  basic.6y            no      yes    \n",
       "19985 23095     41  blue-collar   married  basic.6y            no      yes    \n",
       "19986 25383     48  admin.        divorced high.school         no      no     \n",
       "19987 16918     31  admin.        unknown  university.degree   no      yes    \n",
       "19988  4245     35  blue-collar   single   unknown             no      yes    \n",
       "19989 21920     39  blue-collar   married  basic.4y            unknown yes    \n",
       "19990 29000     21  student       single   high.school         no      no     \n",
       "19991  6627     28  admin.        single   university.degree   no      yes    \n",
       "19992 35702     29  admin.        single   university.degree   no      yes    \n",
       "19993 38555     49  services      married  basic.4y            unknown no     \n",
       "19994 23289     38  blue-collar   divorced high.school         no      yes    \n",
       "19995  2969     36  blue-collar   single   high.school         no      yes    \n",
       "19996 13724     45  unknown       unknown  unknown             no      yes    \n",
       "19997 29863     26  admin.        single   university.degree   no      yes    \n",
       "19998  9841     33  admin.        married  high.school         no      yes    \n",
       "19999 36432     43  admin.        married  high.school         no      yes    \n",
       "20000 15639     55  blue-collar   married  basic.9y            no      yes    \n",
       "      loan    contact   month <U+22EF>        emp.var.rate cons.price.idx\n",
       "1     no      cellular  jul   <U+22EF>  1.4         93.918        \n",
       "2     no      telephone jun   <U+22EF>  1.4         94.465        \n",
       "3     yes     cellular  may   <U+22EF> -1.8         92.893        \n",
       "4     no      cellular  apr   <U+22EF> -1.8         93.075        \n",
       "5     unknown telephone may   <U+22EF>  1.1         93.994        \n",
       "6     no      telephone may   <U+22EF>  1.1         93.994        \n",
       "7     yes     cellular  apr   <U+22EF> -1.8         93.075        \n",
       "8     no      telephone may   <U+22EF>  1.1         93.994        \n",
       "9     no      cellular  may   <U+22EF> -1.8         92.893        \n",
       "10    yes     cellular  aug   <U+22EF>  1.4         93.444        \n",
       "11    no      telephone jun   <U+22EF>  1.4         94.465        \n",
       "12    no      cellular  jul   <U+22EF>  1.4         93.918        \n",
       "13    no      cellular  jul   <U+22EF>  1.4         93.918        \n",
       "14    no      cellular  may   <U+22EF> -1.8         92.893        \n",
       "15    no      cellular  nov   <U+22EF> -0.1         93.200        \n",
       "16    no      cellular  nov   <U+22EF> -0.1         93.200        \n",
       "17    no      telephone jun   <U+22EF>  1.4         94.465        \n",
       "18    no      cellular  apr   <U+22EF> -1.8         93.075        \n",
       "19    no      telephone may   <U+22EF>  1.1         93.994        \n",
       "20    no      cellular  apr   <U+22EF> -1.8         93.075        \n",
       "21    no      telephone may   <U+22EF>  1.1         93.994        \n",
       "22    no      cellular  may   <U+22EF> -1.8         92.893        \n",
       "23    no      cellular  may   <U+22EF> -1.8         92.893        \n",
       "24    no      telephone may   <U+22EF>  1.1         93.994        \n",
       "25    no      telephone may   <U+22EF>  1.1         93.994        \n",
       "26    no      telephone jun   <U+22EF>  1.4         94.465        \n",
       "27    unknown telephone nov   <U+22EF> -0.1         93.200        \n",
       "28    no      telephone may   <U+22EF>  1.1         93.994        \n",
       "29    yes     cellular  jul   <U+22EF>  1.4         93.918        \n",
       "30    no      cellular  aug   <U+22EF>  1.4         93.444        \n",
       "<U+22EE>     <U+22EE> <U+22EE>  <U+22EE> <U+22F1> <U+22EE>     <U+22EE>      \n",
       "19971 no      cellular  aug   <U+22EF>  1.4         93.444        \n",
       "19972 no      cellular  aug   <U+22EF>  1.4         93.444        \n",
       "19973 no      telephone may   <U+22EF>  1.1         93.994        \n",
       "19974 unknown cellular  jul   <U+22EF> -2.9         92.469        \n",
       "19975 no      cellular  aug   <U+22EF>  1.4         93.444        \n",
       "19976 no      cellular  nov   <U+22EF> -0.1         93.200        \n",
       "19977 yes     cellular  aug   <U+22EF>  1.4         93.444        \n",
       "19978 no      telephone jun   <U+22EF>  1.4         94.465        \n",
       "19979 no      cellular  aug   <U+22EF>  1.4         93.444        \n",
       "19980 yes     cellular  aug   <U+22EF>  1.4         93.444        \n",
       "19981 no      cellular  oct   <U+22EF> -3.4         92.431        \n",
       "19982 no      cellular  aug   <U+22EF>  1.4         93.444        \n",
       "19983 no      telephone may   <U+22EF>  1.1         93.994        \n",
       "19984 no      telephone may   <U+22EF>  1.1         93.994        \n",
       "19985 no      cellular  jul   <U+22EF>  1.4         93.918        \n",
       "19986 yes     telephone may   <U+22EF>  1.1         93.994        \n",
       "19987 yes     cellular  sep   <U+22EF> -1.1         94.199        \n",
       "19988 no      telephone jul   <U+22EF>  1.4         93.918        \n",
       "19989 no      telephone may   <U+22EF>  1.1             NA        \n",
       "19990 no      cellular  oct   <U+22EF> -3.4         92.431        \n",
       "19991 no      cellular  sep   <U+22EF> -3.4         92.379        \n",
       "19992 no      cellular  aug   <U+22EF>  1.4         93.444        \n",
       "19993 no      cellular  aug   <U+22EF>  1.4         93.444        \n",
       "19994 no      cellular  may   <U+22EF> -1.8         92.893        \n",
       "19995 no      cellular  jul   <U+22EF>  1.4         93.918        \n",
       "19996 yes     cellular  jul   <U+22EF>  1.4         93.918        \n",
       "19997 no      cellular  may   <U+22EF> -1.8         92.893        \n",
       "19998 yes     cellular  may   <U+22EF> -1.8         92.893        \n",
       "19999 no      telephone jul   <U+22EF>  1.4         93.918        \n",
       "20000 yes     cellular  aug   <U+22EF>  1.4         93.444        \n",
       "      cons.conf.idx euribor3m nr.employed subscribe missing_age\n",
       "1     -42.7         4.968     5228.1      0         0          \n",
       "2     -41.8         4.960     5228.1      0         0          \n",
       "3     -46.2         1.264     5099.1      0         0          \n",
       "4     -47.1         1.453     5099.1      0         0          \n",
       "5     -36.4         4.859     5191.0      0         0          \n",
       "6     -36.4         4.858     5191.0      0         0          \n",
       "7     -47.1         1.405     5099.1      1         0          \n",
       "8     -36.4         4.857     5191.0      0         0          \n",
       "9     -46.2         1.250     5099.1      0         0          \n",
       "10    -36.1         4.965     5228.1      0         0          \n",
       "11    -41.8         4.961     5228.1      0         0          \n",
       "12    -42.7         4.963     5228.1      0         0          \n",
       "13    -42.7         4.958     5228.1      0         0          \n",
       "14    -46.2         1.344     5099.1      0         0          \n",
       "15    -42.0         4.076     5195.8      1         0          \n",
       "16    -42.0         4.191     5195.8      0         0          \n",
       "17    -41.8         4.866     5228.1      0         0          \n",
       "18    -47.1         1.410     5099.1      0         0          \n",
       "19    -36.4         4.858     5191.0      0         0          \n",
       "20    -47.1         1.405     5099.1      0         0          \n",
       "21    -36.4         4.855     5191.0      0         0          \n",
       "22    -46.2         1.334     5099.1      0         0          \n",
       "23    -46.2         1.281     5099.1      0         0          \n",
       "24    -36.4         4.856     5191.0      0         0          \n",
       "25    -36.4         4.856     5191.0      0         0          \n",
       "26    -41.8         4.865     5228.1      0         0          \n",
       "27    -42.0         4.021     5195.8      0         0          \n",
       "28    -36.4         4.856     5191.0      0         0          \n",
       "29    -42.7         4.962     5228.1      0         0          \n",
       "30    -36.1         4.967     5228.1      0         0          \n",
       "<U+22EE>     <U+22EE>      <U+22EE>  <U+22EE>    <U+22EE>  <U+22EE>   \n",
       "19971 -36.1         4.965     5228.1      0         0          \n",
       "19972 -36.1         4.964     5228.1      0         0          \n",
       "19973 -36.4         4.860     5191.0      0         0          \n",
       "19974 -33.6         0.914     5076.2      0         0          \n",
       "19975 -36.1         4.966     5228.1      0         0          \n",
       "19976 -42.0         4.153     5195.8      0         0          \n",
       "19977 -36.1         4.965     5228.1      0         0          \n",
       "19978 -41.8         4.865     5228.1      0         0          \n",
       "19979 -36.1         4.965     5228.1      0         0          \n",
       "19980 -36.1         4.968     5228.1      0         0          \n",
       "19981 -26.9         0.754     5017.5      0         0          \n",
       "19982 -36.1         4.963     5228.1      0         0          \n",
       "19983 -36.4         4.864     5191.0      0         0          \n",
       "19984 -36.4         4.860     5191.0      0         0          \n",
       "19985 -42.7         4.968     5228.1      0         0          \n",
       "19986 -36.4         4.856     5191.0      0         0          \n",
       "19987 -37.5         0.877     4963.6      1         0          \n",
       "19988 -42.7         4.960     5228.1      0         0          \n",
       "19989 -36.4         4.859     5191.0      0         0          \n",
       "19990    NA         0.728     5017.5      1         0          \n",
       "19991 -29.8         0.773     5017.5      1         0          \n",
       "19992 -36.1         4.963     5228.1      0         0          \n",
       "19993 -36.1         4.963     5228.1      1         0          \n",
       "19994 -46.2         1.344     5099.1      0         0          \n",
       "19995 -42.7         4.968     5228.1      0         0          \n",
       "19996 -42.7         4.957     5228.1      1         0          \n",
       "19997 -46.2         1.299     5099.1      0         0          \n",
       "19998 -46.2         1.299     5099.1      0         0          \n",
       "19999 -42.7         4.960     5228.1      0         0          \n",
       "20000 -36.1         4.963     5228.1      0         0          \n",
       "      missing_campaign replace999 missing_pdays\n",
       "1     0                0          0            \n",
       "2     0                0          0            \n",
       "3     0                0          0            \n",
       "4     0                0          0            \n",
       "5     0                0          0            \n",
       "6     0                0          0            \n",
       "7     0                1          1            \n",
       "8     0                0          0            \n",
       "9     0                0          0            \n",
       "10    0                0          0            \n",
       "11    0                0          0            \n",
       "12    0                0          0            \n",
       "13    0                0          0            \n",
       "14    0                0          0            \n",
       "15    0                0          0            \n",
       "16    0                0          0            \n",
       "17    0                0          0            \n",
       "18    0                0          0            \n",
       "19    0                0          0            \n",
       "20    0                0          0            \n",
       "21    0                0          0            \n",
       "22    0                0          0            \n",
       "23    0                0          0            \n",
       "24    0                0          0            \n",
       "25    0                0          0            \n",
       "26    0                0          0            \n",
       "27    0                0          0            \n",
       "28    0                0          0            \n",
       "29    0                0          0            \n",
       "30    0                0          0            \n",
       "<U+22EE>     <U+22EE>         <U+22EE>   <U+22EE>     \n",
       "19971 0                0          0            \n",
       "19972 0                0          0            \n",
       "19973 0                0          0            \n",
       "19974 0                0          0            \n",
       "19975 0                0          0            \n",
       "19976 0                0          0            \n",
       "19977 0                0          0            \n",
       "19978 0                0          0            \n",
       "19979 0                0          0            \n",
       "19980 0                0          0            \n",
       "19981 0                0          0            \n",
       "19982 0                0          0            \n",
       "19983 0                0          0            \n",
       "19984 0                0          0            \n",
       "19985 0                0          0            \n",
       "19986 0                0          0            \n",
       "19987 0                0          0            \n",
       "19988 1                0          0            \n",
       "19989 0                0          0            \n",
       "19990 0                0          0            \n",
       "19991 0                0          0            \n",
       "19992 0                0          0            \n",
       "19993 0                0          0            \n",
       "19994 0                0          0            \n",
       "19995 0                0          0            \n",
       "19996 0                0          0            \n",
       "19997 0                0          0            \n",
       "19998 0                0          0            \n",
       "19999 0                0          0            \n",
       "20000 0                0          0            "
      ]
     },
     "metadata": {},
     "output_type": "display_data"
    }
   ],
   "source": [
    "train"
   ]
  },
  {
   "cell_type": "code",
   "execution_count": 17,
   "id": "6d85af9c",
   "metadata": {
    "lines_to_next_cell": 2
   },
   "outputs": [
    {
     "data": {
      "text/html": [
       "<table class=\"dataframe\">\n",
       "<caption>A data.frame: 7 × 2</caption>\n",
       "<thead>\n",
       "\t<tr><th scope=col>Var1</th><th scope=col>Freq</th></tr>\n",
       "\t<tr><th scope=col>&lt;fct&gt;</th><th scope=col>&lt;int&gt;</th></tr>\n",
       "</thead>\n",
       "<tbody>\n",
       "\t<tr><td>0</td><td>17120</td></tr>\n",
       "\t<tr><td>1</td><td> 2152</td></tr>\n",
       "\t<tr><td>2</td><td>  371</td></tr>\n",
       "\t<tr><td>3</td><td>  103</td></tr>\n",
       "\t<tr><td>4</td><td>   31</td></tr>\n",
       "\t<tr><td>5</td><td>   12</td></tr>\n",
       "\t<tr><td>6</td><td>    2</td></tr>\n",
       "</tbody>\n",
       "</table>\n"
      ],
      "text/latex": [
       "A data.frame: 7 × 2\n",
       "\\begin{tabular}{ll}\n",
       " Var1 & Freq\\\\\n",
       " <fct> & <int>\\\\\n",
       "\\hline\n",
       "\t 0 & 17120\\\\\n",
       "\t 1 &  2152\\\\\n",
       "\t 2 &   371\\\\\n",
       "\t 3 &   103\\\\\n",
       "\t 4 &    31\\\\\n",
       "\t 5 &    12\\\\\n",
       "\t 6 &     2\\\\\n",
       "\\end{tabular}\n"
      ],
      "text/markdown": [
       "\n",
       "A data.frame: 7 × 2\n",
       "\n",
       "| Var1 &lt;fct&gt; | Freq &lt;int&gt; |\n",
       "|---|---|\n",
       "| 0 | 17120 |\n",
       "| 1 |  2152 |\n",
       "| 2 |   371 |\n",
       "| 3 |   103 |\n",
       "| 4 |    31 |\n",
       "| 5 |    12 |\n",
       "| 6 |     2 |\n",
       "\n"
      ],
      "text/plain": [
       "  Var1 Freq \n",
       "1 0    17120\n",
       "2 1     2152\n",
       "3 2      371\n",
       "4 3      103\n",
       "5 4       31\n",
       "6 5       12\n",
       "7 6        2"
      ]
     },
     "metadata": {},
     "output_type": "display_data"
    }
   ],
   "source": [
    "# For previous variable\n",
    "\n",
    "# We count the unique values frequency first\n",
    "as.data.frame(table(train$previous))"
   ]
  },
  {
   "cell_type": "code",
   "execution_count": 18,
   "id": "b3934312",
   "metadata": {
    "lines_to_next_cell": 2
   },
   "outputs": [],
   "source": [
    "# We can either replace missing values by the median + tracking missing or creating categorical variables with a new category\n",
    "# -> We will first try by assigning the median and tracking the missing data, we can improve this later for the modelling\n",
    "\n",
    "# First step: new variable \n",
    "train$missing_previous <- ifelse(is.na(train$previous) == TRUE, 1, 0)\n",
    "\n",
    "# Second step: replacing NA\n",
    "train$previous[is.na(train$previous)]<-median(train$previous,na.rm=TRUE)"
   ]
  },
  {
   "cell_type": "code",
   "execution_count": 19,
   "id": "31d9f24a",
   "metadata": {
    "lines_to_next_cell": 2
   },
   "outputs": [],
   "source": [
    "# Finally, emp.var.rate, cons.price.idx, cons.conf.idx, euribor3m, nr.employed will be replaced by the mean\n",
    "\n",
    "# First step: new variables \n",
    "train$missing_emp.var.rate <- ifelse(is.na(train$emp.var.rate) == TRUE, 1, 0)\n",
    "train$missing_cons.price.idx <- ifelse(is.na(train$cons.price.idx) == TRUE, 1, 0)\n",
    "train$missing_cons.conf.idx <- ifelse(is.na(train$cons.conf.idx) == TRUE, 1, 0)\n",
    "train$missing_euribor3m <- ifelse(is.na(train$euribor3m) == TRUE, 1, 0)\n",
    "train$missing_nr.employed <- ifelse(is.na(train$nr.employed) == TRUE, 1, 0)\n",
    "\n",
    "# Second step: replacing NA\n",
    "train$emp.var.rate[is.na(train$emp.var.rate)]<-mean(train$emp.var.rate,na.rm=TRUE)\n",
    "train$cons.price.idx[is.na(train$cons.price.idx)]<-mean(train$cons.price.idx,na.rm=TRUE)\n",
    "train$cons.conf.idx[is.na(train$cons.conf.idx)]<-mean(train$cons.conf.idx,na.rm=TRUE)\n",
    "train$euribor3m[is.na(train$euribor3m)]<-mean(train$euribor3m,na.rm=TRUE)\n",
    "train$nr.employed[is.na(train$nr.employed)]<-mean(train$nr.employed,na.rm=TRUE)"
   ]
  },
  {
   "cell_type": "code",
   "execution_count": 20,
   "id": "6bccf5d4",
   "metadata": {
    "lines_to_next_cell": 2
   },
   "outputs": [
    {
     "data": {
      "text/html": [
       "<style>\n",
       ".dl-inline {width: auto; margin:0; padding: 0}\n",
       ".dl-inline>dt, .dl-inline>dd {float: none; width: auto; display: inline-block}\n",
       ".dl-inline>dt::after {content: \":\\0020\"; padding-right: .5ex}\n",
       ".dl-inline>dt:not(:first-of-type) {padding-left: .5ex}\n",
       "</style><dl class=dl-inline><dt>client_id</dt><dd>0</dd><dt>age</dt><dd>0</dd><dt>job</dt><dd>0</dd><dt>marital</dt><dd>0</dd><dt>education</dt><dd>0</dd><dt>default</dt><dd>0</dd><dt>housing</dt><dd>0</dd><dt>loan</dt><dd>0</dd><dt>contact</dt><dd>0</dd><dt>month</dt><dd>0</dd><dt>day_of_week</dt><dd>0</dd><dt>campaign</dt><dd>0</dd><dt>pdays</dt><dd>0</dd><dt>previous</dt><dd>0</dd><dt>poutcome</dt><dd>0</dd><dt>emp.var.rate</dt><dd>0</dd><dt>cons.price.idx</dt><dd>0</dd><dt>cons.conf.idx</dt><dd>0</dd><dt>euribor3m</dt><dd>0</dd><dt>nr.employed</dt><dd>0</dd><dt>subscribe</dt><dd>0</dd><dt>missing_age</dt><dd>0</dd><dt>missing_campaign</dt><dd>0</dd><dt>replace999</dt><dd>0</dd><dt>missing_pdays</dt><dd>0</dd><dt>missing_previous</dt><dd>0</dd><dt>missing_emp.var.rate</dt><dd>0</dd><dt>missing_cons.price.idx</dt><dd>0</dd><dt>missing_cons.conf.idx</dt><dd>0</dd><dt>missing_euribor3m</dt><dd>0</dd><dt>missing_nr.employed</dt><dd>0</dd></dl>\n"
      ],
      "text/latex": [
       "\\begin{description*}\n",
       "\\item[client\\textbackslash{}\\_id] 0\n",
       "\\item[age] 0\n",
       "\\item[job] 0\n",
       "\\item[marital] 0\n",
       "\\item[education] 0\n",
       "\\item[default] 0\n",
       "\\item[housing] 0\n",
       "\\item[loan] 0\n",
       "\\item[contact] 0\n",
       "\\item[month] 0\n",
       "\\item[day\\textbackslash{}\\_of\\textbackslash{}\\_week] 0\n",
       "\\item[campaign] 0\n",
       "\\item[pdays] 0\n",
       "\\item[previous] 0\n",
       "\\item[poutcome] 0\n",
       "\\item[emp.var.rate] 0\n",
       "\\item[cons.price.idx] 0\n",
       "\\item[cons.conf.idx] 0\n",
       "\\item[euribor3m] 0\n",
       "\\item[nr.employed] 0\n",
       "\\item[subscribe] 0\n",
       "\\item[missing\\textbackslash{}\\_age] 0\n",
       "\\item[missing\\textbackslash{}\\_campaign] 0\n",
       "\\item[replace999] 0\n",
       "\\item[missing\\textbackslash{}\\_pdays] 0\n",
       "\\item[missing\\textbackslash{}\\_previous] 0\n",
       "\\item[missing\\textbackslash{}\\_emp.var.rate] 0\n",
       "\\item[missing\\textbackslash{}\\_cons.price.idx] 0\n",
       "\\item[missing\\textbackslash{}\\_cons.conf.idx] 0\n",
       "\\item[missing\\textbackslash{}\\_euribor3m] 0\n",
       "\\item[missing\\textbackslash{}\\_nr.employed] 0\n",
       "\\end{description*}\n"
      ],
      "text/markdown": [
       "client_id\n",
       ":   0age\n",
       ":   0job\n",
       ":   0marital\n",
       ":   0education\n",
       ":   0default\n",
       ":   0housing\n",
       ":   0loan\n",
       ":   0contact\n",
       ":   0month\n",
       ":   0day_of_week\n",
       ":   0campaign\n",
       ":   0pdays\n",
       ":   0previous\n",
       ":   0poutcome\n",
       ":   0emp.var.rate\n",
       ":   0cons.price.idx\n",
       ":   0cons.conf.idx\n",
       ":   0euribor3m\n",
       ":   0nr.employed\n",
       ":   0subscribe\n",
       ":   0missing_age\n",
       ":   0missing_campaign\n",
       ":   0replace999\n",
       ":   0missing_pdays\n",
       ":   0missing_previous\n",
       ":   0missing_emp.var.rate\n",
       ":   0missing_cons.price.idx\n",
       ":   0missing_cons.conf.idx\n",
       ":   0missing_euribor3m\n",
       ":   0missing_nr.employed\n",
       ":   0\n",
       "\n"
      ],
      "text/plain": [
       "             client_id                    age                    job \n",
       "                     0                      0                      0 \n",
       "               marital              education                default \n",
       "                     0                      0                      0 \n",
       "               housing                   loan                contact \n",
       "                     0                      0                      0 \n",
       "                 month            day_of_week               campaign \n",
       "                     0                      0                      0 \n",
       "                 pdays               previous               poutcome \n",
       "                     0                      0                      0 \n",
       "          emp.var.rate         cons.price.idx          cons.conf.idx \n",
       "                     0                      0                      0 \n",
       "             euribor3m            nr.employed              subscribe \n",
       "                     0                      0                      0 \n",
       "           missing_age       missing_campaign             replace999 \n",
       "                     0                      0                      0 \n",
       "         missing_pdays       missing_previous   missing_emp.var.rate \n",
       "                     0                      0                      0 \n",
       "missing_cons.price.idx  missing_cons.conf.idx      missing_euribor3m \n",
       "                     0                      0                      0 \n",
       "   missing_nr.employed \n",
       "                     0 "
      ]
     },
     "metadata": {},
     "output_type": "display_data"
    }
   ],
   "source": [
    "# Checking missing values per variables in train\n",
    "missing_values <- sapply(train, function(x) sum(is.na(x)))\n",
    "missing_values"
   ]
  },
  {
   "cell_type": "code",
   "execution_count": 21,
   "id": "d3c08019",
   "metadata": {
    "lines_to_next_cell": 2
   },
   "outputs": [
    {
     "name": "stdout",
     "output_type": "stream",
     "text": [
      "'data.frame':\t20000 obs. of  31 variables:\n",
      " $ client_id             : int  29925 37529 2757 9642 14183 15180 27168 9097 30538 28981 ...\n",
      " $ age                   : num  42 35 44 45 45 38 33 38 29 34 ...\n",
      " $ job                   : chr  \"management\" \"unemployed\" \"technician\" \"services\" ...\n",
      " $ marital               : chr  \"married\" \"married\" \"married\" \"married\" ...\n",
      " $ education             : chr  \"basic.9y\" \"university.degree\" \"basic.9y\" \"high.school\" ...\n",
      " $ default               : chr  \"no\" \"no\" \"no\" \"no\" ...\n",
      " $ housing               : chr  \"no\" \"yes\" \"yes\" \"yes\" ...\n",
      " $ loan                  : chr  \"no\" \"no\" \"yes\" \"no\" ...\n",
      " $ contact               : chr  \"cellular\" \"telephone\" \"cellular\" \"cellular\" ...\n",
      " $ month                 : chr  \"jul\" \"jun\" \"may\" \"apr\" ...\n",
      " $ day_of_week           : chr  \"thu\" \"mon\" \"mon\" \"tue\" ...\n",
      " $ campaign              : num  1 4 1 1 1 2 1 1 1 1 ...\n",
      " $ pdays                 : num  0 0 0 0 0 0 0 0 0 0 ...\n",
      " $ previous              : int  0 0 0 0 0 0 1 0 1 0 ...\n",
      " $ poutcome              : chr  \"nonexistent\" \"nonexistent\" \"nonexistent\" \"nonexistent\" ...\n",
      " $ emp.var.rate          : num  1.4 1.4 -1.8 -1.8 1.1 1.1 -1.8 1.1 -1.8 1.4 ...\n",
      " $ cons.price.idx        : num  93.9 94.5 92.9 93.1 94 ...\n",
      " $ cons.conf.idx         : num  -42.7 -41.8 -46.2 -47.1 -36.4 -36.4 -47.1 -36.4 -46.2 -36.1 ...\n",
      " $ euribor3m             : num  4.97 4.96 1.26 1.45 4.86 ...\n",
      " $ nr.employed           : num  5228 5228 5099 5099 5191 ...\n",
      " $ subscribe             : int  0 0 0 0 0 0 1 0 0 0 ...\n",
      " $ missing_age           : num  0 0 0 0 0 0 0 0 0 0 ...\n",
      " $ missing_campaign      : num  0 0 0 0 0 0 0 0 0 0 ...\n",
      " $ replace999            : num  0 0 0 0 0 0 1 0 0 0 ...\n",
      " $ missing_pdays         : num  0 0 0 0 0 0 1 0 0 0 ...\n",
      " $ missing_previous      : num  0 0 0 0 0 0 0 0 0 0 ...\n",
      " $ missing_emp.var.rate  : num  0 0 0 0 0 0 0 0 0 0 ...\n",
      " $ missing_cons.price.idx: num  0 0 0 0 0 0 0 0 0 0 ...\n",
      " $ missing_cons.conf.idx : num  0 0 0 0 0 0 0 0 0 0 ...\n",
      " $ missing_euribor3m     : num  0 0 0 0 0 0 0 0 0 0 ...\n",
      " $ missing_nr.employed   : num  0 0 0 0 0 0 0 0 0 0 ...\n"
     ]
    }
   ],
   "source": [
    "# See final train table \n",
    "\n",
    "str(train)"
   ]
  },
  {
   "cell_type": "markdown",
   "id": "23242afe",
   "metadata": {
    "lines_to_next_cell": 2
   },
   "source": [
    "\n",
    "## Correlation Matrix"
   ]
  },
  {
   "cell_type": "code",
   "execution_count": 22,
   "id": "1f486970",
   "metadata": {
    "lines_to_next_cell": 2
   },
   "outputs": [],
   "source": [
    "# Creating an atrain dataset for the analysis without the 'missing track variables' and without client_id\n",
    "atrain = subset(train, select=-c(client_id, missing_age, missing_campaign, replace999, missing_pdays, missing_previous, missing_emp.var.rate, missing_cons.price.idx, missing_cons.conf.idx, missing_euribor3m , missing_nr.employed))"
   ]
  },
  {
   "cell_type": "markdown",
   "id": "3c672d4e",
   "metadata": {
    "lines_to_next_cell": 2
   },
   "source": [
    "\n",
    "##### Correlation Matrix"
   ]
  },
  {
   "cell_type": "code",
   "execution_count": 23,
   "id": "7fde5162",
   "metadata": {
    "lines_to_next_cell": 2
   },
   "outputs": [
    {
     "name": "stderr",
     "output_type": "stream",
     "text": [
      "4 features with more than 5 categories ignored!\n",
      "job: 12 categories\n",
      "education: 8 categories\n",
      "month: 11 categories\n",
      "day_of_week: 6 categories\n",
      "\n",
      "\n"
     ]
    },
    {
     "data": {
      "image/png": "[encoded data removed]",
      "text/plain": [
       "plot without title"
      ]
     },
     "metadata": {
      "image/png": {
       "height": 420,
       "width": 420
      }
     },
     "output_type": "display_data"
    }
   ],
   "source": [
    "# Plotting correlation without job, education, month and day of the week\n",
    "\n",
    "plot_correlation(na.omit(atrain), maxcat = 5L)"
   ]
  },
  {
   "cell_type": "markdown",
   "id": "4c671c32",
   "metadata": {
    "lines_to_next_cell": 2
   },
   "source": [
    "According to our main correlation matrix we can conclude that the most important variables are pdays, previous, loan and poutcome. We can also notice a negative correlation with campaign, emp_var_rate, cons_price_idx, eurib, employed, poutcome nonexistent, as well as contact telephone. "
   ]
  },
  {
   "cell_type": "code",
   "execution_count": 24,
   "id": "bac42a73",
   "metadata": {
    "lines_to_next_cell": 2
   },
   "outputs": [
    {
     "data": {
      "image/png": "[encoded data removed]",
      "text/plain": [
       "plot without title"
      ]
     },
     "metadata": {
      "image/png": {
       "height": 420,
       "width": 420
      }
     },
     "output_type": "display_data"
    }
   ],
   "source": [
    "# Plotting correlation between subscribe and education\n",
    "\n",
    "educationmat = atrain[,c(\"subscribe\",\"education\")]\n",
    "plot_correlation(na.omit(educationmat), maxcat = 12L)"
   ]
  },
  {
   "cell_type": "markdown",
   "id": "09c43696",
   "metadata": {
    "lines_to_next_cell": 2
   },
   "source": [
    "Only university degree can be correlated with subscribe"
   ]
  },
  {
   "cell_type": "code",
   "execution_count": 25,
   "id": "fb550662",
   "metadata": {
    "lines_to_next_cell": 2
   },
   "outputs": [
    {
     "data": {
      "image/png": "[encoded data removed]",
      "text/plain": [
       "plot without title"
      ]
     },
     "metadata": {
      "image/png": {
       "height": 420,
       "width": 420
      }
     },
     "output_type": "display_data"
    }
   ],
   "source": [
    "# Plotting correlation between subscribe and job\n",
    "\n",
    "jobmat = atrain[,c(\"subscribe\",\"job\")]\n",
    "plot_correlation(na.omit(jobmat), maxcat = 12L)"
   ]
  },
  {
   "cell_type": "markdown",
   "id": "93372c48",
   "metadata": {
    "lines_to_next_cell": 2
   },
   "source": [
    "\n",
    "Some jobs can be related to subscribe"
   ]
  },
  {
   "cell_type": "code",
   "execution_count": 26,
   "id": "65e06c6c",
   "metadata": {
    "lines_to_next_cell": 2
   },
   "outputs": [
    {
     "data": {
      "image/png": "[encoded data removed]",
      "text/plain": [
       "plot without title"
      ]
     },
     "metadata": {
      "image/png": {
       "height": 420,
       "width": 420
      }
     },
     "output_type": "display_data"
    }
   ],
   "source": [
    "# Plotting correlation between subscribe and month\n",
    "\n",
    "monthmat = atrain[,c(\"subscribe\",\"month\")]\n",
    "plot_correlation(na.omit(monthmat), maxcat = 12L)"
   ]
  },
  {
   "cell_type": "markdown",
   "id": "403778b1",
   "metadata": {
    "lines_to_next_cell": 2
   },
   "source": [
    "\n",
    "Month can be related to subscribe "
   ]
  },
  {
   "cell_type": "code",
   "execution_count": 27,
   "id": "e9d5b7c3",
   "metadata": {
    "lines_to_next_cell": 2
   },
   "outputs": [
    {
     "data": {
      "image/png": "[encoded data removed]",
      "text/plain": [
       "plot without title"
      ]
     },
     "metadata": {
      "image/png": {
       "height": 420,
       "width": 420
      }
     },
     "output_type": "display_data"
    }
   ],
   "source": [
    "# Plotting correlation between subscribe and day\n",
    "\n",
    "daymat = atrain[,c(\"subscribe\",\"day_of_week\")]\n",
    "plot_correlation(na.omit(daymat), maxcat = 12L)"
   ]
  },
  {
   "cell_type": "markdown",
   "id": "70ef37fe",
   "metadata": {
    "lines_to_next_cell": 2
   },
   "source": [
    "\n",
    "Day is not correlated at all with our target variable"
   ]
  },
  {
   "cell_type": "code",
   "execution_count": 28,
   "id": "c7ed443d",
   "metadata": {
    "lines_to_next_cell": 2
   },
   "outputs": [
    {
     "data": {
      "image/png": "[encoded data removed]",
      "text/plain": [
       "plot without title"
      ]
     },
     "metadata": {
      "image/png": {
       "height": 420,
       "width": 420
      }
     },
     "output_type": "display_data"
    }
   ],
   "source": [
    "# Correlation with missing value from missing variables \n",
    "\n",
    "mtrain = train[,c(\"subscribe\", \"missing_age\", \"missing_campaign\", \"replace999\", \"missing_pdays\", \"missing_previous\", \"missing_emp.var.rate\", \"missing_cons.price.idx\", \"missing_cons.conf.idx\", \"missing_euribor3m\" , \"missing_nr.employed\")]\n",
    "plot_correlation(na.omit(mtrain), maxcat = 12L)"
   ]
  },
  {
   "cell_type": "markdown",
   "id": "80d51a68",
   "metadata": {
    "lines_to_next_cell": 2
   },
   "source": [
    "\n",
    "There is no correlation with subscribre and the missing or replacement tracker variables"
   ]
  },
  {
   "cell_type": "code",
   "execution_count": 29,
   "id": "6743791c",
   "metadata": {
    "lines_to_next_cell": 2
   },
   "outputs": [],
   "source": [
    "# We can already remove the less important variables such as client_id, day, loan and trackers variables\n",
    "\n",
    "train = subset(train, select=-c(client_id, loan, day_of_week, missing_age, missing_campaign, replace999, missing_pdays, missing_previous, missing_emp.var.rate, missing_cons.price.idx, missing_cons.conf.idx, missing_euribor3m , missing_nr.employed))"
   ]
  },
  {
   "cell_type": "markdown",
   "id": "1888c312",
   "metadata": {
    "lines_to_next_cell": 2
   },
   "source": [
    "\n",
    "### Last steps before Modeling "
   ]
  },
  {
   "cell_type": "code",
   "execution_count": 30,
   "id": "7879b3d8",
   "metadata": {
    "lines_to_next_cell": 2
   },
   "outputs": [
    {
     "name": "stdout",
     "output_type": "stream",
     "text": [
      "'data.frame':\t20000 obs. of  18 variables:\n",
      " $ age           : num  42 35 44 45 45 38 33 38 29 34 ...\n",
      " $ job           : chr  \"management\" \"unemployed\" \"technician\" \"services\" ...\n",
      " $ marital       : chr  \"married\" \"married\" \"married\" \"married\" ...\n",
      " $ education     : chr  \"basic.9y\" \"university.degree\" \"basic.9y\" \"high.school\" ...\n",
      " $ default       : chr  \"no\" \"no\" \"no\" \"no\" ...\n",
      " $ housing       : chr  \"no\" \"yes\" \"yes\" \"yes\" ...\n",
      " $ contact       : chr  \"cellular\" \"telephone\" \"cellular\" \"cellular\" ...\n",
      " $ month         : chr  \"jul\" \"jun\" \"may\" \"apr\" ...\n",
      " $ campaign      : num  1 4 1 1 1 2 1 1 1 1 ...\n",
      " $ pdays         : num  0 0 0 0 0 0 0 0 0 0 ...\n",
      " $ previous      : int  0 0 0 0 0 0 1 0 1 0 ...\n",
      " $ poutcome      : chr  \"nonexistent\" \"nonexistent\" \"nonexistent\" \"nonexistent\" ...\n",
      " $ emp.var.rate  : num  1.4 1.4 -1.8 -1.8 1.1 1.1 -1.8 1.1 -1.8 1.4 ...\n",
      " $ cons.price.idx: num  93.9 94.5 92.9 93.1 94 ...\n",
      " $ cons.conf.idx : num  -42.7 -41.8 -46.2 -47.1 -36.4 -36.4 -47.1 -36.4 -46.2 -36.1 ...\n",
      " $ euribor3m     : num  4.97 4.96 1.26 1.45 4.86 ...\n",
      " $ nr.employed   : num  5228 5228 5099 5099 5191 ...\n",
      " $ subscribe     : int  0 0 0 0 0 0 1 0 0 0 ...\n"
     ]
    }
   ],
   "source": [
    "str(train)"
   ]
  },
  {
   "cell_type": "markdown",
   "id": "3ce02fba",
   "metadata": {
    "lines_to_next_cell": 2
   },
   "source": [
    "\n",
    "#### 1. Replacing categorical string by numerical category"
   ]
  },
  {
   "cell_type": "markdown",
   "id": "f6dab8f4",
   "metadata": {
    "lines_to_next_cell": 2
   },
   "source": [
    "\n",
    "These variables are job, marital, education, default, housing, contact, month and poutcome "
   ]
  },
  {
   "cell_type": "code",
   "execution_count": 31,
   "id": "dc5b4d26",
   "metadata": {
    "lines_to_next_cell": 2
   },
   "outputs": [
    {
     "data": {
      "text/html": [
       "<style>\n",
       ".list-inline {list-style: none; margin:0; padding: 0}\n",
       ".list-inline>li {display: inline-block}\n",
       ".list-inline>li:not(:last-child)::after {content: \"\\00b7\"; padding: 0 .5ex}\n",
       "</style>\n",
       "<ol class=list-inline><li>'11'</li><li>'1'</li><li>'6'</li><li>'8'</li><li>'0'</li><li>'4'</li><li>'9'</li><li>'10'</li><li>'3'</li><li>'5'</li><li>'2'</li><li>'7'</li></ol>\n"
      ],
      "text/latex": [
       "\\begin{enumerate*}\n",
       "\\item '11'\n",
       "\\item '1'\n",
       "\\item '6'\n",
       "\\item '8'\n",
       "\\item '0'\n",
       "\\item '4'\n",
       "\\item '9'\n",
       "\\item '10'\n",
       "\\item '3'\n",
       "\\item '5'\n",
       "\\item '2'\n",
       "\\item '7'\n",
       "\\end{enumerate*}\n"
      ],
      "text/markdown": [
       "1. '11'\n",
       "2. '1'\n",
       "3. '6'\n",
       "4. '8'\n",
       "5. '0'\n",
       "6. '4'\n",
       "7. '9'\n",
       "8. '10'\n",
       "9. '3'\n",
       "10. '5'\n",
       "11. '2'\n",
       "12. '7'\n",
       "\n",
       "\n"
      ],
      "text/plain": [
       " [1] \"11\" \"1\"  \"6\"  \"8\"  \"0\"  \"4\"  \"9\"  \"10\" \"3\"  \"5\"  \"2\"  \"7\" "
      ]
     },
     "metadata": {},
     "output_type": "display_data"
    }
   ],
   "source": [
    "# Jobs\n",
    "\n",
    "# Replacing job category in numerical category\n",
    "\n",
    "train[\"job\"][train[\"job\"] == \"management\"] <- 11\n",
    "train[\"job\"][train[\"job\"] == \"entrepreneur\"] <- 10\n",
    "train[\"job\"][train[\"job\"] == \"admin.\"] <- 9\n",
    "train[\"job\"][train[\"job\"] == \"services\"] <- 8\n",
    "train[\"job\"][train[\"job\"] == \"self-employed\"] <- 7\n",
    "train[\"job\"][train[\"job\"] == \"technician\"] <- 6\n",
    "train[\"job\"][train[\"job\"] == \"housemaid\"] <- 5\n",
    "train[\"job\"][train[\"job\"] == \"blue-collar\"] <- 4\n",
    "train[\"job\"][train[\"job\"] == \"retired\"] <- 3\n",
    "train[\"job\"][train[\"job\"] == \"student\"] <- 2\n",
    "train[\"job\"][train[\"job\"] == \"unemployed\"] <- 1\n",
    "train[\"job\"][train[\"job\"] == \"unknown\"] <- 0\n",
    "\n",
    "# Checking for unique value \n",
    "unique(train$job)"
   ]
  },
  {
   "cell_type": "code",
   "execution_count": 32,
   "id": "1e0c84fe",
   "metadata": {
    "lines_to_next_cell": 2
   },
   "outputs": [
    {
     "data": {
      "text/html": [
       "<style>\n",
       ".list-inline {list-style: none; margin:0; padding: 0}\n",
       ".list-inline>li {display: inline-block}\n",
       ".list-inline>li:not(:last-child)::after {content: \"\\00b7\"; padding: 0 .5ex}\n",
       "</style>\n",
       "<ol class=list-inline><li>'3'</li><li>'1'</li><li>'2'</li><li>'0'</li></ol>\n"
      ],
      "text/latex": [
       "\\begin{enumerate*}\n",
       "\\item '3'\n",
       "\\item '1'\n",
       "\\item '2'\n",
       "\\item '0'\n",
       "\\end{enumerate*}\n"
      ],
      "text/markdown": [
       "1. '3'\n",
       "2. '1'\n",
       "3. '2'\n",
       "4. '0'\n",
       "\n",
       "\n"
      ],
      "text/plain": [
       "[1] \"3\" \"1\" \"2\" \"0\""
      ]
     },
     "metadata": {},
     "output_type": "display_data"
    }
   ],
   "source": [
    "# Marital\n",
    "\n",
    "# Replacing with numerical category\n",
    "train[\"marital\"][train[\"marital\"] == \"married\"] <- 3\n",
    "train[\"marital\"][train[\"marital\"] == \"divorced\"] <- 2\n",
    "train[\"marital\"][train[\"marital\"] == \"single\"] <- 1\n",
    "train[\"marital\"][train[\"marital\"] == \"unknown\"] <- 0\n",
    "\n",
    "# Checking for unique value \n",
    "unique(train$marital)"
   ]
  },
  {
   "cell_type": "code",
   "execution_count": 33,
   "id": "b2c5431e",
   "metadata": {
    "lines_to_next_cell": 2
   },
   "outputs": [
    {
     "data": {
      "text/html": [
       "<style>\n",
       ".list-inline {list-style: none; margin:0; padding: 0}\n",
       ".list-inline>li {display: inline-block}\n",
       ".list-inline>li:not(:last-child)::after {content: \"\\00b7\"; padding: 0 .5ex}\n",
       "</style>\n",
       "<ol class=list-inline><li>'4'</li><li>'6'</li><li>'5'</li><li>'0'</li><li>'7'</li><li>'3'</li><li>'2'</li><li>'1'</li></ol>\n"
      ],
      "text/latex": [
       "\\begin{enumerate*}\n",
       "\\item '4'\n",
       "\\item '6'\n",
       "\\item '5'\n",
       "\\item '0'\n",
       "\\item '7'\n",
       "\\item '3'\n",
       "\\item '2'\n",
       "\\item '1'\n",
       "\\end{enumerate*}\n"
      ],
      "text/markdown": [
       "1. '4'\n",
       "2. '6'\n",
       "3. '5'\n",
       "4. '0'\n",
       "5. '7'\n",
       "6. '3'\n",
       "7. '2'\n",
       "8. '1'\n",
       "\n",
       "\n"
      ],
      "text/plain": [
       "[1] \"4\" \"6\" \"5\" \"0\" \"7\" \"3\" \"2\" \"1\""
      ]
     },
     "metadata": {},
     "output_type": "display_data"
    }
   ],
   "source": [
    "# Education\n",
    "\n",
    "# Replacing with numerical category\n",
    "train[\"education\"][train[\"education\"] == \"professional.course\"] <- 7\n",
    "train[\"education\"][train[\"education\"] == \"university.degree\"] <- 6\n",
    "train[\"education\"][train[\"education\"] == \"high.school\"] <- 5\n",
    "train[\"education\"][train[\"education\"] == \"basic.9y\"] <- 4\n",
    "train[\"education\"][train[\"education\"] == \"basic.6y\"] <- 3\n",
    "train[\"education\"][train[\"education\"] == \"basic.4y\"] <- 2\n",
    "train[\"education\"][train[\"education\"] == \"illiterate\"] <- 1\n",
    "train[\"education\"][train[\"education\"] == \"unknown\"] <- 0\n",
    "\n",
    "# Checking for unique value \n",
    "unique(train$education)"
   ]
  },
  {
   "cell_type": "code",
   "execution_count": 34,
   "id": "3c052384",
   "metadata": {
    "lines_to_next_cell": 2
   },
   "outputs": [
    {
     "data": {
      "text/html": [
       "<style>\n",
       ".list-inline {list-style: none; margin:0; padding: 0}\n",
       ".list-inline>li {display: inline-block}\n",
       ".list-inline>li:not(:last-child)::after {content: \"\\00b7\"; padding: 0 .5ex}\n",
       "</style>\n",
       "<ol class=list-inline><li>'1'</li><li>'0'</li><li>'2'</li></ol>\n"
      ],
      "text/latex": [
       "\\begin{enumerate*}\n",
       "\\item '1'\n",
       "\\item '0'\n",
       "\\item '2'\n",
       "\\end{enumerate*}\n"
      ],
      "text/markdown": [
       "1. '1'\n",
       "2. '0'\n",
       "3. '2'\n",
       "\n",
       "\n"
      ],
      "text/plain": [
       "[1] \"1\" \"0\" \"2\""
      ]
     },
     "metadata": {},
     "output_type": "display_data"
    }
   ],
   "source": [
    "# Default\n",
    "\n",
    "# Replacing with numerical category\n",
    "train[\"default\"][train[\"default\"] == \"yes\"] <- 2\n",
    "train[\"default\"][train[\"default\"] == \"no\"] <- 1\n",
    "train[\"default\"][train[\"default\"] == \"unknown\"] <- 0\n",
    "\n",
    "# Checking for unique value \n",
    "unique(train$default)"
   ]
  },
  {
   "cell_type": "code",
   "execution_count": 35,
   "id": "4ed70ef2",
   "metadata": {
    "lines_to_next_cell": 2
   },
   "outputs": [
    {
     "data": {
      "text/html": [
       "<style>\n",
       ".list-inline {list-style: none; margin:0; padding: 0}\n",
       ".list-inline>li {display: inline-block}\n",
       ".list-inline>li:not(:last-child)::after {content: \"\\00b7\"; padding: 0 .5ex}\n",
       "</style>\n",
       "<ol class=list-inline><li>'1'</li><li>'2'</li><li>'0'</li></ol>\n"
      ],
      "text/latex": [
       "\\begin{enumerate*}\n",
       "\\item '1'\n",
       "\\item '2'\n",
       "\\item '0'\n",
       "\\end{enumerate*}\n"
      ],
      "text/markdown": [
       "1. '1'\n",
       "2. '2'\n",
       "3. '0'\n",
       "\n",
       "\n"
      ],
      "text/plain": [
       "[1] \"1\" \"2\" \"0\""
      ]
     },
     "metadata": {},
     "output_type": "display_data"
    }
   ],
   "source": [
    "# Housing\n",
    "\n",
    "# Replacing with numerical category\n",
    "train[\"housing\"][train[\"housing\"] == \"yes\"] <- 2\n",
    "train[\"housing\"][train[\"housing\"] == \"no\"] <- 1\n",
    "train[\"housing\"][train[\"housing\"] == \"unknown\"] <- 0\n",
    "\n",
    "# Checking for unique value \n",
    "unique(train$housing)"
   ]
  },
  {
   "cell_type": "code",
   "execution_count": 36,
   "id": "d775a0d3",
   "metadata": {
    "lines_to_next_cell": 2
   },
   "outputs": [
    {
     "data": {
      "text/html": [
       "<style>\n",
       ".list-inline {list-style: none; margin:0; padding: 0}\n",
       ".list-inline>li {display: inline-block}\n",
       ".list-inline>li:not(:last-child)::after {content: \"\\00b7\"; padding: 0 .5ex}\n",
       "</style>\n",
       "<ol class=list-inline><li>'2'</li><li>'1'</li><li>'0'</li></ol>\n"
      ],
      "text/latex": [
       "\\begin{enumerate*}\n",
       "\\item '2'\n",
       "\\item '1'\n",
       "\\item '0'\n",
       "\\end{enumerate*}\n"
      ],
      "text/markdown": [
       "1. '2'\n",
       "2. '1'\n",
       "3. '0'\n",
       "\n",
       "\n"
      ],
      "text/plain": [
       "[1] \"2\" \"1\" \"0\""
      ]
     },
     "metadata": {},
     "output_type": "display_data"
    }
   ],
   "source": [
    "# Contact\n",
    "\n",
    "# Replacing with numerical category\n",
    "train[\"contact\"][train[\"contact\"] == \"cellular\"] <- 2\n",
    "train[\"contact\"][train[\"contact\"] == \"telephone\"] <- 1\n",
    "train[\"contact\"][train[\"contact\"] == \"unknown\"] <- 0\n",
    "\n",
    "# Checking for unique value \n",
    "unique(train$contact)"
   ]
  },
  {
   "cell_type": "code",
   "execution_count": 37,
   "id": "22244a14",
   "metadata": {
    "lines_to_next_cell": 2
   },
   "outputs": [
    {
     "data": {
      "text/html": [
       "<style>\n",
       ".list-inline {list-style: none; margin:0; padding: 0}\n",
       ".list-inline>li {display: inline-block}\n",
       ".list-inline>li:not(:last-child)::after {content: \"\\00b7\"; padding: 0 .5ex}\n",
       "</style>\n",
       "<ol class=list-inline><li>'5'</li><li>'4'</li><li>'3'</li><li>'2'</li><li>'6'</li><li>'9'</li><li>'7'</li><li>'8'</li><li>'10'</li><li>'0'</li><li>'1'</li></ol>\n"
      ],
      "text/latex": [
       "\\begin{enumerate*}\n",
       "\\item '5'\n",
       "\\item '4'\n",
       "\\item '3'\n",
       "\\item '2'\n",
       "\\item '6'\n",
       "\\item '9'\n",
       "\\item '7'\n",
       "\\item '8'\n",
       "\\item '10'\n",
       "\\item '0'\n",
       "\\item '1'\n",
       "\\end{enumerate*}\n"
      ],
      "text/markdown": [
       "1. '5'\n",
       "2. '4'\n",
       "3. '3'\n",
       "4. '2'\n",
       "5. '6'\n",
       "6. '9'\n",
       "7. '7'\n",
       "8. '8'\n",
       "9. '10'\n",
       "10. '0'\n",
       "11. '1'\n",
       "\n",
       "\n"
      ],
      "text/plain": [
       " [1] \"5\"  \"4\"  \"3\"  \"2\"  \"6\"  \"9\"  \"7\"  \"8\"  \"10\" \"0\"  \"1\" "
      ]
     },
     "metadata": {},
     "output_type": "display_data"
    }
   ],
   "source": [
    "# Month\n",
    "\n",
    "# Replacing with numerical category\n",
    "train[\"month\"][train[\"month\"] == \"dec\"] <- 10\n",
    "train[\"month\"][train[\"month\"] == \"nov\"] <- 9\n",
    "train[\"month\"][train[\"month\"] == \"oct\"] <- 8\n",
    "train[\"month\"][train[\"month\"] == \"sep\"] <- 7\n",
    "train[\"month\"][train[\"month\"] == \"aug\"] <- 6\n",
    "train[\"month\"][train[\"month\"] == \"jul\"] <- 5\n",
    "train[\"month\"][train[\"month\"] == \"jun\"] <- 4\n",
    "train[\"month\"][train[\"month\"] == \"may\"] <- 3\n",
    "train[\"month\"][train[\"month\"] == \"apr\"] <- 2\n",
    "train[\"month\"][train[\"month\"] == \"mar\"] <- 1\n",
    "train[\"month\"][train[\"month\"] == \"unknown\"] <- 0\n",
    "\n",
    "# Checking for unique value \n",
    "unique(train$month)"
   ]
  },
  {
   "cell_type": "code",
   "execution_count": 38,
   "id": "feec8180",
   "metadata": {
    "lines_to_next_cell": 2
   },
   "outputs": [
    {
     "data": {
      "text/html": [
       "<style>\n",
       ".list-inline {list-style: none; margin:0; padding: 0}\n",
       ".list-inline>li {display: inline-block}\n",
       ".list-inline>li:not(:last-child)::after {content: \"\\00b7\"; padding: 0 .5ex}\n",
       "</style>\n",
       "<ol class=list-inline><li>'0'</li><li>'1'</li><li>'2'</li></ol>\n"
      ],
      "text/latex": [
       "\\begin{enumerate*}\n",
       "\\item '0'\n",
       "\\item '1'\n",
       "\\item '2'\n",
       "\\end{enumerate*}\n"
      ],
      "text/markdown": [
       "1. '0'\n",
       "2. '1'\n",
       "3. '2'\n",
       "\n",
       "\n"
      ],
      "text/plain": [
       "[1] \"0\" \"1\" \"2\""
      ]
     },
     "metadata": {},
     "output_type": "display_data"
    }
   ],
   "source": [
    "# Poutcome\n",
    "\n",
    "# Replacing with numerical category\n",
    "train[\"poutcome\"][train[\"poutcome\"] == \"success\"] <- 2\n",
    "train[\"poutcome\"][train[\"poutcome\"] == \"failure\"] <- 1\n",
    "train[\"poutcome\"][train[\"poutcome\"] == \"nonexistent\"] <- 0\n",
    "\n",
    "# Checking for unique value \n",
    "unique(train$poutcome)"
   ]
  },
  {
   "cell_type": "markdown",
   "id": "bf15406d",
   "metadata": {
    "lines_to_next_cell": 2
   },
   "source": [
    "\n",
    "##### 2. Factorization"
   ]
  },
  {
   "cell_type": "code",
   "execution_count": 39,
   "id": "cf0345ab",
   "metadata": {
    "lines_to_next_cell": 2
   },
   "outputs": [],
   "source": [
    "# Creating factors for our categorical data \n",
    "train$job = as.factor(train$job)\n",
    "train$marital = as.factor(train$marital)\n",
    "train$education = as.factor(train$education)\n",
    "train$contact = as.factor(train$contact)\n",
    "train$month = as.factor(train$month)\n",
    "train$poutcome = as.factor(train$poutcome)\n",
    "\n",
    "\n",
    "# Creating factors for our logical data \n",
    "train$default = as.factor(train$default)\n",
    "train$housing = as.factor(train$housing)\n",
    "train$subscribe = as.factor(train$subscribe)"
   ]
  },
  {
   "cell_type": "code",
   "execution_count": 40,
   "id": "77e8dc7f",
   "metadata": {
    "lines_to_next_cell": 2
   },
   "outputs": [
    {
     "name": "stdout",
     "output_type": "stream",
     "text": [
      "'data.frame':\t20000 obs. of  18 variables:\n",
      " $ age           : num  42 35 44 45 45 38 33 38 29 34 ...\n",
      " $ job           : Factor w/ 12 levels \"0\",\"1\",\"10\",\"11\",..: 4 2 9 11 1 9 9 7 7 12 ...\n",
      " $ marital       : Factor w/ 4 levels \"0\",\"1\",\"2\",\"3\": 4 4 4 4 4 4 4 2 2 3 ...\n",
      " $ education     : Factor w/ 8 levels \"0\",\"1\",\"2\",\"3\",..: 5 7 5 6 1 8 8 5 1 7 ...\n",
      " $ default       : Factor w/ 3 levels \"0\",\"1\",\"2\": 2 2 2 2 1 2 2 1 2 2 ...\n",
      " $ housing       : Factor w/ 3 levels \"0\",\"1\",\"2\": 2 3 3 3 1 2 2 3 3 3 ...\n",
      " $ contact       : Factor w/ 3 levels \"0\",\"1\",\"2\": 3 2 3 3 2 2 3 2 3 3 ...\n",
      " $ month         : Factor w/ 11 levels \"0\",\"1\",\"10\",\"2\",..: 7 6 5 4 5 5 4 5 5 8 ...\n",
      " $ campaign      : num  1 4 1 1 1 2 1 1 1 1 ...\n",
      " $ pdays         : num  0 0 0 0 0 0 0 0 0 0 ...\n",
      " $ previous      : int  0 0 0 0 0 0 1 0 1 0 ...\n",
      " $ poutcome      : Factor w/ 3 levels \"0\",\"1\",\"2\": 1 1 1 1 1 1 2 1 2 1 ...\n",
      " $ emp.var.rate  : num  1.4 1.4 -1.8 -1.8 1.1 1.1 -1.8 1.1 -1.8 1.4 ...\n",
      " $ cons.price.idx: num  93.9 94.5 92.9 93.1 94 ...\n",
      " $ cons.conf.idx : num  -42.7 -41.8 -46.2 -47.1 -36.4 -36.4 -47.1 -36.4 -46.2 -36.1 ...\n",
      " $ euribor3m     : num  4.97 4.96 1.26 1.45 4.86 ...\n",
      " $ nr.employed   : num  5228 5228 5099 5099 5191 ...\n",
      " $ subscribe     : Factor w/ 2 levels \"0\",\"1\": 1 1 1 1 1 1 2 1 1 1 ...\n"
     ]
    }
   ],
   "source": [
    "str(train)"
   ]
  },
  {
   "cell_type": "markdown",
   "id": "24e0b8c0",
   "metadata": {
    "lines_to_next_cell": 2
   },
   "source": [
    "\n",
    "# Modeling"
   ]
  },
  {
   "cell_type": "code",
   "execution_count": 41,
   "id": "620d803f",
   "metadata": {
    "lines_to_next_cell": 2
   },
   "outputs": [],
   "source": [
    "bank = train"
   ]
  },
  {
   "cell_type": "code",
   "execution_count": 44,
   "id": "daee4786",
   "metadata": {
    "lines_to_next_cell": 2
   },
   "outputs": [],
   "source": [
    "# Creating train and test data 80-20%\n",
    "\n",
    "mysample = sort(sample(nrow(bank),nrow(bank)*.8))\n",
    "\n",
    "train_data <- bank[mysample,]\n",
    "test_data <- bank[-mysample,]"
   ]
  },
  {
   "cell_type": "code",
   "execution_count": 46,
   "id": "84c96753",
   "metadata": {
    "lines_to_next_cell": 2
   },
   "outputs": [
    {
     "data": {
      "text/plain": [
       "\n",
       "        0         1 \n",
       "0.8865625 0.1134375 "
      ]
     },
     "metadata": {},
     "output_type": "display_data"
    },
    {
     "data": {
      "text/plain": [
       "\n",
       "    0     1 \n",
       "0.886 0.114 "
      ]
     },
     "metadata": {},
     "output_type": "display_data"
    }
   ],
   "source": [
    "# Checking proportion of 0 and 1 in train and test\n",
    "\n",
    "# Training set\n",
    "prop.table(table(train_data$subscribe))\n",
    "\n",
    "# Test set\n",
    "prop.table(table(test_data$subscribe))"
   ]
  },
  {
   "cell_type": "code",
   "execution_count": null,
   "id": "f0f4e6ff",
   "metadata": {
    "lines_to_next_cell": 2
   },
   "outputs": [],
   "source": [
    "# => We can do a smote or stratified here "
   ]
  },
  {
   "cell_type": "markdown",
   "id": "4f9d436f",
   "metadata": {
    "lines_to_next_cell": 2
   },
   "source": [
    "### 1. Random Forest"
   ]
  },
  {
   "cell_type": "code",
   "execution_count": 102,
   "id": "62191480",
   "metadata": {
    "lines_to_next_cell": 2
   },
   "outputs": [
    {
     "data": {
      "text/plain": [
       "                Length Class  Mode     \n",
       "call                4  -none- call     \n",
       "type                1  -none- character\n",
       "predicted       16000  factor numeric  \n",
       "err.rate           30  -none- numeric  \n",
       "confusion           6  -none- numeric  \n",
       "votes           32000  matrix numeric  \n",
       "oob.times       16000  -none- numeric  \n",
       "classes             2  -none- character\n",
       "importance         17  -none- numeric  \n",
       "importanceSD        0  -none- NULL     \n",
       "localImportance     0  -none- NULL     \n",
       "proximity           0  -none- NULL     \n",
       "ntree               1  -none- numeric  \n",
       "mtry                1  -none- numeric  \n",
       "forest             14  -none- list     \n",
       "y               16000  factor numeric  \n",
       "test                0  -none- NULL     \n",
       "inbag               0  -none- NULL     \n",
       "terms               3  terms  call     "
      ]
     },
     "metadata": {},
     "output_type": "display_data"
    }
   ],
   "source": [
    "# Fitting the random forest to our training set\n",
    "\n",
    "randomforestmodel = randomForest(formula = subscribe ~., \n",
    "                           data = train_data, ntree = 10)\n",
    "\n",
    "summary(randomforestmodel)"
   ]
  },
  {
   "cell_type": "code",
   "execution_count": 103,
   "id": "efce1147",
   "metadata": {},
   "outputs": [
    {
     "data": {
      "text/html": [
       "<table class=\"dataframe\">\n",
       "<caption>A matrix: 17 × 1 of type dbl</caption>\n",
       "<thead>\n",
       "\t<tr><th></th><th scope=col>MeanDecreaseGini</th></tr>\n",
       "</thead>\n",
       "<tbody>\n",
       "\t<tr><th scope=row>age</th><td>401.87782</td></tr>\n",
       "\t<tr><th scope=row>job</th><td>264.88922</td></tr>\n",
       "\t<tr><th scope=row>marital</th><td>107.87557</td></tr>\n",
       "\t<tr><th scope=row>education</th><td>209.19255</td></tr>\n",
       "\t<tr><th scope=row>default</th><td> 43.35844</td></tr>\n",
       "\t<tr><th scope=row>housing</th><td>103.01565</td></tr>\n",
       "\t<tr><th scope=row>contact</th><td> 50.09789</td></tr>\n",
       "\t<tr><th scope=row>month</th><td> 97.40208</td></tr>\n",
       "\t<tr><th scope=row>campaign</th><td>203.36509</td></tr>\n",
       "\t<tr><th scope=row>pdays</th><td>138.14546</td></tr>\n",
       "\t<tr><th scope=row>previous</th><td> 52.13180</td></tr>\n",
       "\t<tr><th scope=row>poutcome</th><td>149.68443</td></tr>\n",
       "\t<tr><th scope=row>emp.var.rate</th><td>116.12998</td></tr>\n",
       "\t<tr><th scope=row>cons.price.idx</th><td> 87.00690</td></tr>\n",
       "\t<tr><th scope=row>cons.conf.idx</th><td> 84.61620</td></tr>\n",
       "\t<tr><th scope=row>euribor3m</th><td>424.56953</td></tr>\n",
       "\t<tr><th scope=row>nr.employed</th><td>133.09651</td></tr>\n",
       "</tbody>\n",
       "</table>\n"
      ],
      "text/latex": [
       "A matrix: 17 × 1 of type dbl\n",
       "\\begin{tabular}{r|l}\n",
       "  & MeanDecreaseGini\\\\\n",
       "\\hline\n",
       "\tage & 401.87782\\\\\n",
       "\tjob & 264.88922\\\\\n",
       "\tmarital & 107.87557\\\\\n",
       "\teducation & 209.19255\\\\\n",
       "\tdefault &  43.35844\\\\\n",
       "\thousing & 103.01565\\\\\n",
       "\tcontact &  50.09789\\\\\n",
       "\tmonth &  97.40208\\\\\n",
       "\tcampaign & 203.36509\\\\\n",
       "\tpdays & 138.14546\\\\\n",
       "\tprevious &  52.13180\\\\\n",
       "\tpoutcome & 149.68443\\\\\n",
       "\temp.var.rate & 116.12998\\\\\n",
       "\tcons.price.idx &  87.00690\\\\\n",
       "\tcons.conf.idx &  84.61620\\\\\n",
       "\teuribor3m & 424.56953\\\\\n",
       "\tnr.employed & 133.09651\\\\\n",
       "\\end{tabular}\n"
      ],
      "text/markdown": [
       "\n",
       "A matrix: 17 × 1 of type dbl\n",
       "\n",
       "| <!--/--> | MeanDecreaseGini |\n",
       "|---|---|\n",
       "| age | 401.87782 |\n",
       "| job | 264.88922 |\n",
       "| marital | 107.87557 |\n",
       "| education | 209.19255 |\n",
       "| default |  43.35844 |\n",
       "| housing | 103.01565 |\n",
       "| contact |  50.09789 |\n",
       "| month |  97.40208 |\n",
       "| campaign | 203.36509 |\n",
       "| pdays | 138.14546 |\n",
       "| previous |  52.13180 |\n",
       "| poutcome | 149.68443 |\n",
       "| emp.var.rate | 116.12998 |\n",
       "| cons.price.idx |  87.00690 |\n",
       "| cons.conf.idx |  84.61620 |\n",
       "| euribor3m | 424.56953 |\n",
       "| nr.employed | 133.09651 |\n",
       "\n"
      ],
      "text/plain": [
       "               MeanDecreaseGini\n",
       "age            401.87782       \n",
       "job            264.88922       \n",
       "marital        107.87557       \n",
       "education      209.19255       \n",
       "default         43.35844       \n",
       "housing        103.01565       \n",
       "contact         50.09789       \n",
       "month           97.40208       \n",
       "campaign       203.36509       \n",
       "pdays          138.14546       \n",
       "previous        52.13180       \n",
       "poutcome       149.68443       \n",
       "emp.var.rate   116.12998       \n",
       "cons.price.idx  87.00690       \n",
       "cons.conf.idx   84.61620       \n",
       "euribor3m      424.56953       \n",
       "nr.employed    133.09651       "
      ]
     },
     "metadata": {},
     "output_type": "display_data"
    }
   ],
   "source": [
    "# Feature importance\n",
    "\n",
    "importance(randomforestmodel)"
   ]
  },
  {
   "cell_type": "code",
   "execution_count": 104,
   "id": "25fba2c8",
   "metadata": {},
   "outputs": [
    {
     "data": {
      "image/png": "[encoded data removed]",
      "text/plain": [
       "Plot with title \"Variable Importance - RF\""
      ]
     },
     "metadata": {
      "image/png": {
       "height": 390,
       "width": 360
      }
     },
     "output_type": "display_data"
    }
   ],
   "source": [
    "# Plotting feature importance\n",
    "\n",
    "options(repr.plot.width=6, repr.plot.height=6.5)\n",
    "varImpPlot(randomforestmodel, type=2, main='Variable Importance - RF')"
   ]
  },
  {
   "cell_type": "code",
   "execution_count": 105,
   "id": "949a53e0",
   "metadata": {},
   "outputs": [],
   "source": [
    "# Predictions\n",
    "\n",
    "RF_prediction = predict(randomforestmodel, newdata = test_data, type = \"class\")"
   ]
  },
  {
   "cell_type": "code",
   "execution_count": 106,
   "id": "89d3171d",
   "metadata": {},
   "outputs": [
    {
     "data": {
      "text/plain": [
       "Confusion Matrix and Statistics\n",
       "\n",
       "          Reference\n",
       "Prediction    0    1\n",
       "         0 3431  322\n",
       "         1  113  134\n",
       "                                          \n",
       "               Accuracy : 0.8912          \n",
       "                 95% CI : (0.8812, 0.9007)\n",
       "    No Information Rate : 0.886           \n",
       "    P-Value [Acc > NIR] : 0.1538          \n",
       "                                          \n",
       "                  Kappa : 0.3273          \n",
       "                                          \n",
       " Mcnemar's Test P-Value : <2e-16          \n",
       "                                          \n",
       "            Sensitivity : 0.9681          \n",
       "            Specificity : 0.2939          \n",
       "         Pos Pred Value : 0.9142          \n",
       "         Neg Pred Value : 0.5425          \n",
       "             Prevalence : 0.8860          \n",
       "         Detection Rate : 0.8578          \n",
       "   Detection Prevalence : 0.9383          \n",
       "      Balanced Accuracy : 0.6310          \n",
       "                                          \n",
       "       'Positive' Class : 0               \n",
       "                                          "
      ]
     },
     "metadata": {},
     "output_type": "display_data"
    }
   ],
   "source": [
    "# Evaluation \n",
    "\n",
    "confusionMatrix(RF_prediction, test_data$subscribe)"
   ]
  },
  {
   "cell_type": "code",
   "execution_count": 107,
   "id": "1db5c92f",
   "metadata": {},
   "outputs": [],
   "source": [
    "# AUC \n",
    "\n",
    "#To get AUC i need probability so i change type to \"prob\"\n",
    "\n",
    "RF_predictions = predict(randomforestmodel, newdata = test_data, type = \"prob\")\n",
    "\n",
    "# keeping only probability of the second column, corresponding to the '1'\n",
    "\n",
    "RF_predictions = RF_predictions[,2]"
   ]
  },
  {
   "cell_type": "code",
   "execution_count": 110,
   "id": "b7c6d852",
   "metadata": {},
   "outputs": [
    {
     "name": "stderr",
     "output_type": "stream",
     "text": [
      "Setting levels: control = 0, case = 1\n",
      "\n",
      "Setting direction: controls < cases\n",
      "\n"
     ]
    },
    {
     "name": "stdout",
     "output_type": "stream",
     "text": [
      "[1] \"AUC = 0.752477315254841\"\n"
     ]
    }
   ],
   "source": [
    "# Printing AUC\n",
    "print(paste0('AUC = ', pROC::auc(pROC::roc(test_data$subscribe, RF_predictions))))"
   ]
  },
  {
   "cell_type": "code",
   "execution_count": 108,
   "id": "20d592d0",
   "metadata": {},
   "outputs": [],
   "source": [
    "# Using K-fold cross validation\n",
    "\n",
    "folds = createFolds(y = train_data$subscribe, k = 10)\n",
    "\n",
    "RF_crossvalidation = lapply(folds, function(var){\n",
    "  train_fold = train_data[-var, ]\n",
    "  test_fold = train_data[var, ]\n",
    "  \n",
    "  RF_classify = randomForest(formula = subscribe ~., \n",
    "                               data = train_fold, ntree = 20)\n",
    "  RF_prediction_folds = predict(RF_classify, newdata = test_fold, type = \"class\")\n",
    "  \n",
    "  randomforest_folds = confusionMatrix(RF_prediction_folds, test_fold$subscribe)\n",
    "  accuracy = randomforest_folds$overall[1]\n",
    "  \n",
    "  return(accuracy)\n",
    "})"
   ]
  },
  {
   "cell_type": "code",
   "execution_count": 109,
   "id": "af499179",
   "metadata": {},
   "outputs": [
    {
     "data": {
      "text/html": [
       "0.893374826464776"
      ],
      "text/latex": [
       "0.893374826464776"
      ],
      "text/markdown": [
       "0.893374826464776"
      ],
      "text/plain": [
       "[1] 0.8933748"
      ]
     },
     "metadata": {},
     "output_type": "display_data"
    }
   ],
   "source": [
    "# Checking the accuracy after k-fold cross validation\n",
    "\n",
    "mean(as.numeric(RF_crossvalidation))"
   ]
  },
  {
   "cell_type": "markdown",
   "id": "f868aa0f",
   "metadata": {
    "lines_to_next_cell": 2
   },
   "source": [
    "### 2. Decision Tree"
   ]
  },
  {
   "cell_type": "code",
   "execution_count": null,
   "id": "492daca3",
   "metadata": {
    "lines_to_next_cell": 2
   },
   "outputs": [],
   "source": []
  },
  {
   "cell_type": "markdown",
   "id": "05ec9659",
   "metadata": {
    "lines_to_next_cell": 2
   },
   "source": [
    "### 3. Logistic Regression"
   ]
  },
  {
   "cell_type": "code",
   "execution_count": null,
   "id": "d41ee4cc",
   "metadata": {
    "lines_to_next_cell": 2
   },
   "outputs": [],
   "source": []
  },
  {
   "cell_type": "markdown",
   "id": "f4c12757",
   "metadata": {
    "lines_to_next_cell": 2
   },
   "source": [
    "### 4. LDA or Others ..."
   ]
  },
  {
   "cell_type": "code",
   "execution_count": null,
   "id": "f46f6aca",
   "metadata": {
    "lines_to_next_cell": 2
   },
   "outputs": [],
   "source": []
  },
  {
   "cell_type": "markdown",
   "id": "77fd3002",
   "metadata": {
    "lines_to_next_cell": 2
   },
   "source": [
    "## Cleaning the Test Data \n",
    "We clean the test data with the same process as the train data before sending our final submission"
   ]
  },
  {
   "cell_type": "code",
   "execution_count": 73,
   "id": "7faaa17b",
   "metadata": {},
   "outputs": [
    {
     "data": {
      "text/html": [
       "<table class=\"dataframe\">\n",
       "<caption>A data.frame: 1 × 1</caption>\n",
       "<thead>\n",
       "\t<tr><th scope=col>n</th></tr>\n",
       "\t<tr><th scope=col>&lt;int&gt;</th></tr>\n",
       "</thead>\n",
       "<tbody>\n",
       "\t<tr><td>10000</td></tr>\n",
       "</tbody>\n",
       "</table>\n"
      ],
      "text/latex": [
       "A data.frame: 1 × 1\n",
       "\\begin{tabular}{l}\n",
       " n\\\\\n",
       " <int>\\\\\n",
       "\\hline\n",
       "\t 10000\\\\\n",
       "\\end{tabular}\n"
      ],
      "text/markdown": [
       "\n",
       "A data.frame: 1 × 1\n",
       "\n",
       "| n &lt;int&gt; |\n",
       "|---|\n",
       "| 10000 |\n",
       "\n"
      ],
      "text/plain": [
       "  n    \n",
       "1 10000"
      ]
     },
     "metadata": {},
     "output_type": "display_data"
    }
   ],
   "source": [
    "# Checking number of observations\n",
    "count(test)"
   ]
  },
  {
   "cell_type": "code",
   "execution_count": 74,
   "id": "2acedb0a",
   "metadata": {},
   "outputs": [
    {
     "data": {
      "text/html": [
       "20"
      ],
      "text/latex": [
       "20"
      ],
      "text/markdown": [
       "20"
      ],
      "text/plain": [
       "[1] 20"
      ]
     },
     "metadata": {},
     "output_type": "display_data"
    }
   ],
   "source": [
    "# Checking length: we have the same variables except 'subscribe'\n",
    "length(test)"
   ]
  },
  {
   "cell_type": "code",
   "execution_count": 75,
   "id": "86a4d1bf",
   "metadata": {
    "lines_to_next_cell": 2
   },
   "outputs": [
    {
     "data": {
      "text/html": [
       "1975"
      ],
      "text/latex": [
       "1975"
      ],
      "text/markdown": [
       "1975"
      ],
      "text/plain": [
       "[1] 1975"
      ]
     },
     "metadata": {},
     "output_type": "display_data"
    }
   ],
   "source": [
    "# Sum of missing values in test bank marketing data set\n",
    "sum(is.na(test))"
   ]
  },
  {
   "cell_type": "code",
   "execution_count": 76,
   "id": "fda09494",
   "metadata": {
    "lines_to_next_cell": 2
   },
   "outputs": [
    {
     "data": {
      "text/html": [
       "<style>\n",
       ".dl-inline {width: auto; margin:0; padding: 0}\n",
       ".dl-inline>dt, .dl-inline>dd {float: none; width: auto; display: inline-block}\n",
       ".dl-inline>dt::after {content: \":\\0020\"; padding-right: .5ex}\n",
       ".dl-inline>dt:not(:first-of-type) {padding-left: .5ex}\n",
       "</style><dl class=dl-inline><dt>client_id</dt><dd>0</dd><dt>age</dt><dd>105</dd><dt>job</dt><dd>111</dd><dt>marital</dt><dd>95</dd><dt>education</dt><dd>97</dd><dt>default</dt><dd>124</dd><dt>housing</dt><dd>103</dd><dt>loan</dt><dd>109</dd><dt>contact</dt><dd>87</dd><dt>month</dt><dd>120</dd><dt>day_of_week</dt><dd>106</dd><dt>campaign</dt><dd>88</dd><dt>pdays</dt><dd>100</dd><dt>previous</dt><dd>105</dd><dt>poutcome</dt><dd>105</dd><dt>emp.var.rate</dt><dd>105</dd><dt>cons.price.idx</dt><dd>101</dd><dt>cons.conf.idx</dt><dd>104</dd><dt>euribor3m</dt><dd>88</dd><dt>nr.employed</dt><dd>122</dd></dl>\n"
      ],
      "text/latex": [
       "\\begin{description*}\n",
       "\\item[client\\textbackslash{}\\_id] 0\n",
       "\\item[age] 105\n",
       "\\item[job] 111\n",
       "\\item[marital] 95\n",
       "\\item[education] 97\n",
       "\\item[default] 124\n",
       "\\item[housing] 103\n",
       "\\item[loan] 109\n",
       "\\item[contact] 87\n",
       "\\item[month] 120\n",
       "\\item[day\\textbackslash{}\\_of\\textbackslash{}\\_week] 106\n",
       "\\item[campaign] 88\n",
       "\\item[pdays] 100\n",
       "\\item[previous] 105\n",
       "\\item[poutcome] 105\n",
       "\\item[emp.var.rate] 105\n",
       "\\item[cons.price.idx] 101\n",
       "\\item[cons.conf.idx] 104\n",
       "\\item[euribor3m] 88\n",
       "\\item[nr.employed] 122\n",
       "\\end{description*}\n"
      ],
      "text/markdown": [
       "client_id\n",
       ":   0age\n",
       ":   105job\n",
       ":   111marital\n",
       ":   95education\n",
       ":   97default\n",
       ":   124housing\n",
       ":   103loan\n",
       ":   109contact\n",
       ":   87month\n",
       ":   120day_of_week\n",
       ":   106campaign\n",
       ":   88pdays\n",
       ":   100previous\n",
       ":   105poutcome\n",
       ":   105emp.var.rate\n",
       ":   105cons.price.idx\n",
       ":   101cons.conf.idx\n",
       ":   104euribor3m\n",
       ":   88nr.employed\n",
       ":   122\n",
       "\n"
      ],
      "text/plain": [
       "     client_id            age            job        marital      education \n",
       "             0            105            111             95             97 \n",
       "       default        housing           loan        contact          month \n",
       "           124            103            109             87            120 \n",
       "   day_of_week       campaign          pdays       previous       poutcome \n",
       "           106             88            100            105            105 \n",
       "  emp.var.rate cons.price.idx  cons.conf.idx      euribor3m    nr.employed \n",
       "           105            101            104             88            122 "
      ]
     },
     "metadata": {},
     "output_type": "display_data"
    }
   ],
   "source": [
    "# Missing values per variable in test\n",
    "missing_values <- sapply(test, function(x) sum(is.na(x)))\n",
    "missing_values"
   ]
  },
  {
   "cell_type": "markdown",
   "id": "3b464daa",
   "metadata": {
    "lines_to_next_cell": 2
   },
   "source": [
    "\n",
    "As in train cleaning we will keep and replace our missing values: \n",
    "\n",
    "- With a new category 'other' for categorical data unless this category already exists\n",
    "- With a new category 'other' for logical data (as missing data represents less than 5% of observations)\n",
    "- With the median or mean for numerical values\n",
    "\n",
    "We will need to create indicators variable for numerical to track the missing data as it can be correlated to our target as well."
   ]
  },
  {
   "cell_type": "markdown",
   "id": "f5bf3492",
   "metadata": {
    "lines_to_next_cell": 2
   },
   "source": [
    "\n",
    " #### 1. Categorical data \n",
    "It represents job, marital status, education, contact, month, day_of_week and poutcome"
   ]
  },
  {
   "cell_type": "code",
   "execution_count": 77,
   "id": "1cbc8681",
   "metadata": {
    "lines_to_next_cell": 2
   },
   "outputs": [],
   "source": [
    "# Replacing NA for categorical data\n",
    "\n",
    "# NA for job: As an 'unknown' category already exists then we replace the missing value with it\n",
    "test$job = test$job %>% replace_na('unknown')\n",
    "\n",
    "# NA for marital status: As an 'unknown' category already exists then we replace the missing value with it\n",
    "test$marital = test$marital %>% replace_na('unknown')\n",
    "\n",
    "# NA for education: As an 'unknown' category already exists then we replace the missing value with it\n",
    "test$education = test$education %>% replace_na('unknown')\n",
    "\n",
    "# NA for contact: As 'unknown' category doesn't exist yet we create it\n",
    "test$contact = test$contact %>% replace_na('unknown')\n",
    "\n",
    "# NA for month: As 'unknown' category doesn't exist yet we create it\n",
    "test$month = test$month %>% replace_na('unknown')\n",
    "\n",
    "# NA for day_of_week: As 'unknown' category doesn't exist yet we create it\n",
    "test$day_of_week = test$day_of_week %>% replace_na('unknown')\n",
    "\n",
    "# NA for poutcome: As an 'nonexistent' category already exists then we replace the missing value with it\n",
    "test$poutcome = test$poutcome %>% replace_na('nonexistent')"
   ]
  },
  {
   "cell_type": "markdown",
   "id": "47d358aa",
   "metadata": {
    "lines_to_next_cell": 2
   },
   "source": [
    "#### 2. Logical data\n",
    "It represents default, housing and loan"
   ]
  },
  {
   "cell_type": "code",
   "execution_count": 78,
   "id": "9ed09f0b",
   "metadata": {
    "lines_to_next_cell": 2
   },
   "outputs": [],
   "source": [
    "# Dealing with NA for logical data\n",
    "\n",
    "# NA for default: As an 'unknown' category already exists then we replace the missing value with it\n",
    "test$default = test$default %>% replace_na('unknown')\n",
    "\n",
    "# NA for housing: As an 'unknown' category already exists then we replace the missing value with it\n",
    "test$housing= test$housing %>% replace_na('unknown')\n",
    "\n",
    "# NA for loan: As an 'unknown' category already exists then we replace the missing value with it\n",
    "test$loan = test$loan %>% replace_na('unknown')\n"
   ]
  },
  {
   "cell_type": "markdown",
   "id": "bacec7f6",
   "metadata": {
    "lines_to_next_cell": 2
   },
   "source": [
    "\n",
    "#### 3. Numerical data \n",
    "\n",
    "*For numerical data we need to create indicators to track the imputation*\n",
    "\n",
    "- age will be replaced by the median\n",
    "- campaign: the higher the better, it is not categorical\n",
    "- Pdays: replacing 999 by zero and creating a new variable (or checking how many zeros first)\n",
    "- previous: replacing by the median\n",
    "- emp.var.rate, cons.price.idx, cons.conf.idx, euribor3m, nr.employed will be replaced by the mean"
   ]
  },
  {
   "cell_type": "code",
   "execution_count": 79,
   "id": "ee261f1c",
   "metadata": {
    "lines_to_next_cell": 2
   },
   "outputs": [],
   "source": [
    "# We will replace age by the median\n",
    "# -> we can also create categorical variable for the age depending of our model result\n",
    "\n",
    "# First step: creating a new variable \n",
    "test$missing_age <- ifelse(is.na(test$age) == TRUE, 1, 0)\n",
    "\n",
    "# Second step: replacing by the median\n",
    "test$age[is.na(test$age)]<-mean(test$age,na.rm=TRUE)"
   ]
  },
  {
   "cell_type": "code",
   "execution_count": 80,
   "id": "6e2224df",
   "metadata": {
    "lines_to_next_cell": 2
   },
   "outputs": [],
   "source": [
    "# For campaign variable\n",
    "\n",
    "# We create a new 'campaign_missing' variable: 1 for missing and 0 otherwise\n",
    "test$missing_campaign <- ifelse(is.na(test$campaign) == TRUE, 1, 0)\n",
    "\n",
    "# We will replace campaign missing value by the median \n",
    "test$campaign[is.na(test$campaign)]<-mean(test$campaign,na.rm=TRUE)"
   ]
  },
  {
   "cell_type": "code",
   "execution_count": 81,
   "id": "f279b7d5",
   "metadata": {
    "lines_to_next_cell": 2
   },
   "outputs": [],
   "source": [
    "# Checking if it was correctly assign \n",
    "#checkingmissing = test[,c('campaign','missing_campaign')]\n",
    "#checkingmissing[order(checkingmissing$campaign),]"
   ]
  },
  {
   "cell_type": "code",
   "execution_count": 82,
   "id": "cf42e1a0",
   "metadata": {
    "lines_to_next_cell": 2
   },
   "outputs": [
    {
     "data": {
      "text/html": [
       "<table class=\"dataframe\">\n",
       "<caption>A data.frame: 23 × 2</caption>\n",
       "<thead>\n",
       "\t<tr><th scope=col>Var1</th><th scope=col>Freq</th></tr>\n",
       "\t<tr><th scope=col>&lt;fct&gt;</th><th scope=col>&lt;int&gt;</th></tr>\n",
       "</thead>\n",
       "<tbody>\n",
       "\t<tr><td>0  </td><td>   2</td></tr>\n",
       "\t<tr><td>1  </td><td>   5</td></tr>\n",
       "\t<tr><td>2  </td><td>  13</td></tr>\n",
       "\t<tr><td>3  </td><td> 122</td></tr>\n",
       "\t<tr><td>4  </td><td>  34</td></tr>\n",
       "\t<tr><td>5  </td><td>  13</td></tr>\n",
       "\t<tr><td>6  </td><td>  85</td></tr>\n",
       "\t<tr><td>7  </td><td>  16</td></tr>\n",
       "\t<tr><td>8  </td><td>   3</td></tr>\n",
       "\t<tr><td>9  </td><td>  12</td></tr>\n",
       "\t<tr><td>10 </td><td>  15</td></tr>\n",
       "\t<tr><td>11 </td><td>  11</td></tr>\n",
       "\t<tr><td>12 </td><td>  14</td></tr>\n",
       "\t<tr><td>13 </td><td>   8</td></tr>\n",
       "\t<tr><td>14 </td><td>   6</td></tr>\n",
       "\t<tr><td>15 </td><td>   1</td></tr>\n",
       "\t<tr><td>16 </td><td>   5</td></tr>\n",
       "\t<tr><td>17 </td><td>   2</td></tr>\n",
       "\t<tr><td>18 </td><td>   1</td></tr>\n",
       "\t<tr><td>19 </td><td>   1</td></tr>\n",
       "\t<tr><td>20 </td><td>   1</td></tr>\n",
       "\t<tr><td>21 </td><td>   1</td></tr>\n",
       "\t<tr><td>999</td><td>9529</td></tr>\n",
       "</tbody>\n",
       "</table>\n"
      ],
      "text/latex": [
       "A data.frame: 23 × 2\n",
       "\\begin{tabular}{ll}\n",
       " Var1 & Freq\\\\\n",
       " <fct> & <int>\\\\\n",
       "\\hline\n",
       "\t 0   &    2\\\\\n",
       "\t 1   &    5\\\\\n",
       "\t 2   &   13\\\\\n",
       "\t 3   &  122\\\\\n",
       "\t 4   &   34\\\\\n",
       "\t 5   &   13\\\\\n",
       "\t 6   &   85\\\\\n",
       "\t 7   &   16\\\\\n",
       "\t 8   &    3\\\\\n",
       "\t 9   &   12\\\\\n",
       "\t 10  &   15\\\\\n",
       "\t 11  &   11\\\\\n",
       "\t 12  &   14\\\\\n",
       "\t 13  &    8\\\\\n",
       "\t 14  &    6\\\\\n",
       "\t 15  &    1\\\\\n",
       "\t 16  &    5\\\\\n",
       "\t 17  &    2\\\\\n",
       "\t 18  &    1\\\\\n",
       "\t 19  &    1\\\\\n",
       "\t 20  &    1\\\\\n",
       "\t 21  &    1\\\\\n",
       "\t 999 & 9529\\\\\n",
       "\\end{tabular}\n"
      ],
      "text/markdown": [
       "\n",
       "A data.frame: 23 × 2\n",
       "\n",
       "| Var1 &lt;fct&gt; | Freq &lt;int&gt; |\n",
       "|---|---|\n",
       "| 0   |    2 |\n",
       "| 1   |    5 |\n",
       "| 2   |   13 |\n",
       "| 3   |  122 |\n",
       "| 4   |   34 |\n",
       "| 5   |   13 |\n",
       "| 6   |   85 |\n",
       "| 7   |   16 |\n",
       "| 8   |    3 |\n",
       "| 9   |   12 |\n",
       "| 10  |   15 |\n",
       "| 11  |   11 |\n",
       "| 12  |   14 |\n",
       "| 13  |    8 |\n",
       "| 14  |    6 |\n",
       "| 15  |    1 |\n",
       "| 16  |    5 |\n",
       "| 17  |    2 |\n",
       "| 18  |    1 |\n",
       "| 19  |    1 |\n",
       "| 20  |    1 |\n",
       "| 21  |    1 |\n",
       "| 999 | 9529 |\n",
       "\n"
      ],
      "text/plain": [
       "   Var1 Freq\n",
       "1  0       2\n",
       "2  1       5\n",
       "3  2      13\n",
       "4  3     122\n",
       "5  4      34\n",
       "6  5      13\n",
       "7  6      85\n",
       "8  7      16\n",
       "9  8       3\n",
       "10 9      12\n",
       "11 10     15\n",
       "12 11     11\n",
       "13 12     14\n",
       "14 13      8\n",
       "15 14      6\n",
       "16 15      1\n",
       "17 16      5\n",
       "18 17      2\n",
       "19 18      1\n",
       "20 19      1\n",
       "21 20      1\n",
       "22 21      1\n",
       "23 999  9529"
      ]
     },
     "metadata": {},
     "output_type": "display_data"
    }
   ],
   "source": [
    "# Checking how many people with 0. \n",
    "#We do not have a lot of data in zero, we can assign a 1 instead of 0 for these clients\n",
    "# -> We can also assign categorical variable instead of numerical later on\n",
    "as.data.frame(table(test$pdays))"
   ]
  },
  {
   "cell_type": "code",
   "execution_count": 83,
   "id": "915492f0",
   "metadata": {
    "lines_to_next_cell": 2
   },
   "outputs": [],
   "source": [
    "# For pdays variable\n",
    "\n",
    "# First we replace pdays 0 values with 1 (the difference in days for 0 and 1 is not huge)\n",
    "test[\"pdays\"][test[\"pdays\"] == 0] <- 1\n",
    "\n",
    "# We create a new indicator variable for '999' to track the replacement\n",
    "test$replace999 <- ifelse(test$pdays == 999, 1, 0)\n",
    "test$replace999 <- ifelse(is.na(test$replace999) == TRUE, 1, 0)\n",
    "\n",
    "# We replace pdays 999 values with zero (So the zero is more significant for people without contact)\n",
    "test[\"pdays\"][test[\"pdays\"] == 999] <- 0\n",
    "\n",
    "# We track the NA values as a new variable\n",
    "test$missing_pdays <- ifelse(is.na(test$pdays) == TRUE, 1, 0)\n",
    "\n",
    "# We can finally replace the NA values by zero \n",
    "test$pdays = test$pdays %>% replace_na(0)"
   ]
  },
  {
   "cell_type": "code",
   "execution_count": 84,
   "id": "60edfcdb",
   "metadata": {
    "lines_to_next_cell": 2
   },
   "outputs": [
    {
     "data": {
      "text/html": [
       "<table class=\"dataframe\">\n",
       "<caption>A data.frame: 10000 × 24</caption>\n",
       "<thead>\n",
       "\t<tr><th scope=col>client_id</th><th scope=col>age</th><th scope=col>job</th><th scope=col>marital</th><th scope=col>education</th><th scope=col>default</th><th scope=col>housing</th><th scope=col>loan</th><th scope=col>contact</th><th scope=col>month</th><th scope=col>⋯</th><th scope=col>poutcome</th><th scope=col>emp.var.rate</th><th scope=col>cons.price.idx</th><th scope=col>cons.conf.idx</th><th scope=col>euribor3m</th><th scope=col>nr.employed</th><th scope=col>missing_age</th><th scope=col>missing_campaign</th><th scope=col>replace999</th><th scope=col>missing_pdays</th></tr>\n",
       "\t<tr><th scope=col>&lt;int&gt;</th><th scope=col>&lt;dbl&gt;</th><th scope=col>&lt;chr&gt;</th><th scope=col>&lt;chr&gt;</th><th scope=col>&lt;chr&gt;</th><th scope=col>&lt;chr&gt;</th><th scope=col>&lt;chr&gt;</th><th scope=col>&lt;chr&gt;</th><th scope=col>&lt;chr&gt;</th><th scope=col>&lt;chr&gt;</th><th scope=col>⋯</th><th scope=col>&lt;chr&gt;</th><th scope=col>&lt;dbl&gt;</th><th scope=col>&lt;dbl&gt;</th><th scope=col>&lt;dbl&gt;</th><th scope=col>&lt;dbl&gt;</th><th scope=col>&lt;dbl&gt;</th><th scope=col>&lt;dbl&gt;</th><th scope=col>&lt;dbl&gt;</th><th scope=col>&lt;dbl&gt;</th><th scope=col>&lt;dbl&gt;</th></tr>\n",
       "</thead>\n",
       "<tbody>\n",
       "\t<tr><td> 2986</td><td>53.00000</td><td>technician   </td><td>single  </td><td>professional.course</td><td>no     </td><td>no     </td><td>no     </td><td>cellular </td><td>jul</td><td>⋯</td><td>nonexistent</td><td> 1.4</td><td>93.918</td><td>-42.7</td><td>4.961</td><td>5228.1</td><td>0</td><td>0</td><td>0</td><td>0</td></tr>\n",
       "\t<tr><td>29710</td><td>32.00000</td><td>blue-collar  </td><td>married </td><td>basic.6y           </td><td>no     </td><td>yes    </td><td>no     </td><td>telephone</td><td>jul</td><td>⋯</td><td>nonexistent</td><td> 1.4</td><td>93.918</td><td>-42.7</td><td>4.963</td><td>5228.1</td><td>0</td><td>0</td><td>0</td><td>0</td></tr>\n",
       "\t<tr><td>38938</td><td>70.00000</td><td>retired      </td><td>married </td><td>high.school        </td><td>no     </td><td>yes    </td><td>no     </td><td>cellular </td><td>aug</td><td>⋯</td><td>nonexistent</td><td>-2.9</td><td>92.201</td><td>-31.4</td><td>0.883</td><td>5076.2</td><td>0</td><td>0</td><td>0</td><td>0</td></tr>\n",
       "\t<tr><td>31313</td><td>46.00000</td><td>services     </td><td>married </td><td>high.school        </td><td>no     </td><td>no     </td><td>no     </td><td>cellular </td><td>apr</td><td>⋯</td><td>failure    </td><td>-1.8</td><td>93.075</td><td>-47.1</td><td>1.405</td><td>5099.1</td><td>0</td><td>0</td><td>0</td><td>0</td></tr>\n",
       "\t<tr><td>24173</td><td>35.00000</td><td>technician   </td><td>single  </td><td>unknown            </td><td>no     </td><td>no     </td><td>no     </td><td>cellular </td><td>may</td><td>⋯</td><td>failure    </td><td>-1.8</td><td>92.893</td><td>-46.2</td><td>1.266</td><td>5099.1</td><td>0</td><td>0</td><td>0</td><td>0</td></tr>\n",
       "\t<tr><td>14426</td><td>24.00000</td><td>student      </td><td>single  </td><td>high.school        </td><td>no     </td><td>yes    </td><td>no     </td><td>cellular </td><td>may</td><td>⋯</td><td>success    </td><td>-1.8</td><td>93.876</td><td>-40.0</td><td>0.668</td><td>5008.7</td><td>0</td><td>0</td><td>0</td><td>0</td></tr>\n",
       "\t<tr><td>40159</td><td>33.00000</td><td>admin.       </td><td>divorced</td><td>high.school        </td><td>no     </td><td>no     </td><td>no     </td><td>telephone</td><td>apr</td><td>⋯</td><td>nonexistent</td><td>-1.8</td><td>93.075</td><td>-47.1</td><td>1.405</td><td>5099.1</td><td>0</td><td>0</td><td>0</td><td>0</td></tr>\n",
       "\t<tr><td>12301</td><td>38.00000</td><td>admin.       </td><td>married </td><td>high.school        </td><td>no     </td><td>yes    </td><td>no     </td><td>telephone</td><td>jul</td><td>⋯</td><td>nonexistent</td><td> 1.4</td><td>93.918</td><td>-42.7</td><td>4.968</td><td>5228.1</td><td>0</td><td>0</td><td>0</td><td>0</td></tr>\n",
       "\t<tr><td> 9640</td><td>37.00000</td><td>blue-collar  </td><td>single  </td><td>basic.9y           </td><td>unknown</td><td>no     </td><td>no     </td><td>telephone</td><td>may</td><td>⋯</td><td>nonexistent</td><td> 1.1</td><td>93.994</td><td>-36.4</td><td>4.860</td><td>5191.0</td><td>0</td><td>0</td><td>0</td><td>0</td></tr>\n",
       "\t<tr><td>19742</td><td>36.00000</td><td>technician   </td><td>married </td><td>university.degree  </td><td>no     </td><td>no     </td><td>no     </td><td>cellular </td><td>jun</td><td>⋯</td><td>success    </td><td>-2.9</td><td>92.963</td><td>-40.8</td><td>1.266</td><td>5076.2</td><td>0</td><td>0</td><td>0</td><td>0</td></tr>\n",
       "\t<tr><td> 5967</td><td>41.00000</td><td>blue-collar  </td><td>divorced</td><td>basic.9y           </td><td>unknown</td><td>no     </td><td>no     </td><td>telephone</td><td>may</td><td>⋯</td><td>nonexistent</td><td> 1.1</td><td>93.994</td><td>-36.4</td><td>4.857</td><td>5191.0</td><td>0</td><td>0</td><td>0</td><td>0</td></tr>\n",
       "\t<tr><td>25559</td><td>44.00000</td><td>management   </td><td>married </td><td>professional.course</td><td>no     </td><td>no     </td><td>no     </td><td>cellular </td><td>apr</td><td>⋯</td><td>failure    </td><td>-1.8</td><td>93.075</td><td>-47.1</td><td>1.405</td><td>5099.1</td><td>0</td><td>0</td><td>0</td><td>0</td></tr>\n",
       "\t<tr><td>34976</td><td>33.00000</td><td>technician   </td><td>married </td><td>high.school        </td><td>no     </td><td>yes    </td><td>yes    </td><td>cellular </td><td>aug</td><td>⋯</td><td>nonexistent</td><td> 1.4</td><td>93.444</td><td>-36.1</td><td>4.965</td><td>5228.1</td><td>0</td><td>0</td><td>0</td><td>0</td></tr>\n",
       "\t<tr><td>38126</td><td>27.00000</td><td>self-employed</td><td>single  </td><td>university.degree  </td><td>no     </td><td>no     </td><td>no     </td><td>telephone</td><td>oct</td><td>⋯</td><td>nonexistent</td><td>-1.1</td><td>94.601</td><td>-49.5</td><td>1.029</td><td>4963.6</td><td>0</td><td>0</td><td>0</td><td>0</td></tr>\n",
       "\t<tr><td>17369</td><td>41.00000</td><td>blue-collar  </td><td>married </td><td>basic.4y           </td><td>no     </td><td>no     </td><td>yes    </td><td>telephone</td><td>jun</td><td>⋯</td><td>nonexistent</td><td> 1.4</td><td>94.465</td><td>-41.8</td><td>4.864</td><td>5228.1</td><td>0</td><td>0</td><td>0</td><td>0</td></tr>\n",
       "\t<tr><td>40632</td><td>34.00000</td><td>services     </td><td>married </td><td>high.school        </td><td>no     </td><td>no     </td><td>no     </td><td>telephone</td><td>jun</td><td>⋯</td><td>nonexistent</td><td> 1.4</td><td>94.465</td><td>-41.8</td><td>4.958</td><td>5228.1</td><td>0</td><td>0</td><td>0</td><td>0</td></tr>\n",
       "\t<tr><td>37544</td><td>44.00000</td><td>blue-collar  </td><td>married </td><td>basic.4y           </td><td>no     </td><td>yes    </td><td>no     </td><td>cellular </td><td>jul</td><td>⋯</td><td>nonexistent</td><td> 1.4</td><td>93.918</td><td>-42.7</td><td>4.962</td><td>5228.1</td><td>0</td><td>0</td><td>0</td><td>0</td></tr>\n",
       "\t<tr><td>11284</td><td>32.00000</td><td>admin.       </td><td>single  </td><td>university.degree  </td><td>no     </td><td>yes    </td><td>no     </td><td>cellular </td><td>aug</td><td>⋯</td><td>nonexistent</td><td> 1.4</td><td>93.444</td><td>-36.1</td><td>4.963</td><td>5228.1</td><td>0</td><td>0</td><td>0</td><td>0</td></tr>\n",
       "\t<tr><td>36717</td><td>39.93562</td><td>technician   </td><td>married </td><td>professional.course</td><td>no     </td><td>yes    </td><td>no     </td><td>telephone</td><td>may</td><td>⋯</td><td>failure    </td><td>-1.8</td><td>92.893</td><td>-46.2</td><td>1.281</td><td>5099.1</td><td>1</td><td>0</td><td>0</td><td>0</td></tr>\n",
       "\t<tr><td>14536</td><td>32.00000</td><td>blue-collar  </td><td>single  </td><td>high.school        </td><td>no     </td><td>unknown</td><td>unknown</td><td>cellular </td><td>nov</td><td>⋯</td><td>nonexistent</td><td>-0.1</td><td>93.200</td><td>-42.0</td><td>4.120</td><td>5195.8</td><td>0</td><td>0</td><td>0</td><td>0</td></tr>\n",
       "\t<tr><td>26503</td><td>41.00000</td><td>blue-collar  </td><td>married </td><td>professional.course</td><td>no     </td><td>yes    </td><td>no     </td><td>telephone</td><td>jun</td><td>⋯</td><td>nonexistent</td><td> 1.4</td><td>94.465</td><td>-41.8</td><td>4.959</td><td>5228.1</td><td>0</td><td>0</td><td>0</td><td>0</td></tr>\n",
       "\t<tr><td>22763</td><td>46.00000</td><td>services     </td><td>married </td><td>high.school        </td><td>no     </td><td>yes    </td><td>yes    </td><td>telephone</td><td>jul</td><td>⋯</td><td>nonexistent</td><td> 1.4</td><td>93.918</td><td>-42.7</td><td>4.963</td><td>5228.1</td><td>0</td><td>0</td><td>0</td><td>0</td></tr>\n",
       "\t<tr><td>32953</td><td>30.00000</td><td>blue-collar  </td><td>married </td><td>basic.9y           </td><td>no     </td><td>yes    </td><td>no     </td><td>cellular </td><td>nov</td><td>⋯</td><td>failure    </td><td>-0.1</td><td>93.200</td><td>-42.0</td><td>4.021</td><td>5195.8</td><td>0</td><td>0</td><td>0</td><td>0</td></tr>\n",
       "\t<tr><td>  413</td><td>47.00000</td><td>management   </td><td>married </td><td>basic.9y           </td><td>no     </td><td>no     </td><td>no     </td><td>cellular </td><td>jun</td><td>⋯</td><td>nonexistent</td><td>-2.9</td><td>92.963</td><td>-40.8</td><td>1.262</td><td>5076.2</td><td>0</td><td>0</td><td>0</td><td>0</td></tr>\n",
       "\t<tr><td>10762</td><td>39.00000</td><td>admin.       </td><td>married </td><td>university.degree  </td><td>unknown</td><td>yes    </td><td>no     </td><td>cellular </td><td>aug</td><td>⋯</td><td>nonexistent</td><td> 1.4</td><td>93.444</td><td>-36.1</td><td>4.964</td><td>5228.1</td><td>0</td><td>0</td><td>0</td><td>0</td></tr>\n",
       "\t<tr><td>14745</td><td>29.00000</td><td>entrepreneur </td><td>married </td><td>basic.9y           </td><td>no     </td><td>yes    </td><td>no     </td><td>cellular </td><td>nov</td><td>⋯</td><td>nonexistent</td><td>-0.1</td><td>93.200</td><td>-42.0</td><td>4.120</td><td>5195.8</td><td>0</td><td>0</td><td>0</td><td>0</td></tr>\n",
       "\t<tr><td>25946</td><td>72.00000</td><td>retired      </td><td>divorced</td><td>basic.4y           </td><td>no     </td><td>yes    </td><td>yes    </td><td>cellular </td><td>aug</td><td>⋯</td><td>failure    </td><td>-2.9</td><td>92.201</td><td>-31.4</td><td>0.873</td><td>5076.2</td><td>0</td><td>0</td><td>0</td><td>0</td></tr>\n",
       "\t<tr><td>14804</td><td>32.00000</td><td>unemployed   </td><td>single  </td><td>professional.course</td><td>no     </td><td>yes    </td><td>yes    </td><td>cellular </td><td>jun</td><td>⋯</td><td>nonexistent</td><td>-1.7</td><td>94.055</td><td>-39.8</td><td>0.704</td><td>4991.6</td><td>0</td><td>0</td><td>0</td><td>0</td></tr>\n",
       "\t<tr><td> 6790</td><td>32.00000</td><td>blue-collar  </td><td>married </td><td>basic.9y           </td><td>no     </td><td>no     </td><td>no     </td><td>telephone</td><td>may</td><td>⋯</td><td>nonexistent</td><td> 1.1</td><td>93.994</td><td>-36.4</td><td>4.857</td><td>5191.0</td><td>0</td><td>0</td><td>0</td><td>0</td></tr>\n",
       "\t<tr><td>30453</td><td>45.00000</td><td>technician   </td><td>single  </td><td>university.degree  </td><td>unknown</td><td>no     </td><td>no     </td><td>cellular </td><td>aug</td><td>⋯</td><td>nonexistent</td><td> 1.4</td><td>93.444</td><td>-36.1</td><td>4.963</td><td>5228.1</td><td>0</td><td>0</td><td>0</td><td>0</td></tr>\n",
       "\t<tr><td>⋮</td><td>⋮</td><td>⋮</td><td>⋮</td><td>⋮</td><td>⋮</td><td>⋮</td><td>⋮</td><td>⋮</td><td>⋮</td><td>⋱</td><td>⋮</td><td>⋮</td><td>⋮</td><td>⋮</td><td>⋮</td><td>⋮</td><td>⋮</td><td>⋮</td><td>⋮</td><td>⋮</td></tr>\n",
       "\t<tr><td> 3688</td><td>43</td><td>admin.       </td><td>married </td><td>university.degree  </td><td>no     </td><td>yes    </td><td>yes</td><td>cellular </td><td>aug</td><td>⋯</td><td>nonexistent</td><td> 1.4</td><td>93.444</td><td>-36.1</td><td>4.970</td><td>5228.1</td><td>0</td><td>0</td><td>0</td><td>0</td></tr>\n",
       "\t<tr><td>13542</td><td>52</td><td>technician   </td><td>married </td><td>professional.course</td><td>no     </td><td>yes    </td><td>no </td><td>cellular </td><td>jul</td><td>⋯</td><td>nonexistent</td><td> 1.4</td><td>93.918</td><td>-42.7</td><td>4.958</td><td>5228.1</td><td>0</td><td>0</td><td>0</td><td>0</td></tr>\n",
       "\t<tr><td>21023</td><td>30</td><td>technician   </td><td>single  </td><td>professional.course</td><td>unknown</td><td>yes    </td><td>no </td><td>cellular </td><td>aug</td><td>⋯</td><td>nonexistent</td><td> 1.4</td><td>93.444</td><td>-36.1</td><td>4.964</td><td>5228.1</td><td>0</td><td>0</td><td>0</td><td>0</td></tr>\n",
       "\t<tr><td> 5277</td><td>25</td><td>unemployed   </td><td>single  </td><td>high.school        </td><td>unknown</td><td>yes    </td><td>no </td><td>telephone</td><td>jun</td><td>⋯</td><td>nonexistent</td><td> 1.4</td><td>94.465</td><td>-41.8</td><td>4.960</td><td>5228.1</td><td>0</td><td>0</td><td>0</td><td>0</td></tr>\n",
       "\t<tr><td>15316</td><td>37</td><td>blue-collar  </td><td>married </td><td>basic.4y           </td><td>unknown</td><td>no     </td><td>no </td><td>telephone</td><td>may</td><td>⋯</td><td>nonexistent</td><td> 1.1</td><td>93.994</td><td>-36.4</td><td>4.857</td><td>5191.0</td><td>0</td><td>0</td><td>0</td><td>0</td></tr>\n",
       "\t<tr><td>  633</td><td>43</td><td>admin.       </td><td>divorced</td><td>university.degree  </td><td>no     </td><td>no     </td><td>no </td><td>cellular </td><td>jul</td><td>⋯</td><td>nonexistent</td><td> 1.4</td><td>93.918</td><td>-42.7</td><td>4.963</td><td>5228.1</td><td>0</td><td>0</td><td>0</td><td>0</td></tr>\n",
       "\t<tr><td> 8520</td><td>29</td><td>admin.       </td><td>single  </td><td>basic.9y           </td><td>unknown</td><td>no     </td><td>no </td><td>cellular </td><td>may</td><td>⋯</td><td>nonexistent</td><td>-1.8</td><td>92.893</td><td>-46.2</td><td>1.266</td><td>5099.1</td><td>0</td><td>0</td><td>0</td><td>0</td></tr>\n",
       "\t<tr><td>38410</td><td>35</td><td>unknown      </td><td>married </td><td>basic.9y           </td><td>no     </td><td>unknown</td><td>no </td><td>telephone</td><td>may</td><td>⋯</td><td>nonexistent</td><td> 1.1</td><td>93.994</td><td>-36.4</td><td>4.860</td><td>5191.0</td><td>0</td><td>0</td><td>0</td><td>0</td></tr>\n",
       "\t<tr><td>31552</td><td>45</td><td>services     </td><td>married </td><td>basic.9y           </td><td>no     </td><td>no     </td><td>yes</td><td>telephone</td><td>may</td><td>⋯</td><td>nonexistent</td><td> 1.1</td><td>93.994</td><td>-36.4</td><td>4.858</td><td>5191.0</td><td>0</td><td>0</td><td>0</td><td>0</td></tr>\n",
       "\t<tr><td>18572</td><td>28</td><td>blue-collar  </td><td>married </td><td>basic.4y           </td><td>no     </td><td>yes    </td><td>no </td><td>cellular </td><td>jul</td><td>⋯</td><td>nonexistent</td><td> 1.4</td><td>93.918</td><td>-42.7</td><td>4.960</td><td>5228.1</td><td>0</td><td>1</td><td>0</td><td>0</td></tr>\n",
       "\t<tr><td> 3054</td><td>49</td><td>admin.       </td><td>married </td><td>university.degree  </td><td>unknown</td><td>yes    </td><td>no </td><td>cellular </td><td>aug</td><td>⋯</td><td>nonexistent</td><td> 1.4</td><td>93.444</td><td>-36.1</td><td>   NA</td><td>5228.1</td><td>0</td><td>0</td><td>0</td><td>0</td></tr>\n",
       "\t<tr><td>14279</td><td>33</td><td>self-employed</td><td>married </td><td>basic.9y           </td><td>unknown</td><td>no     </td><td>no </td><td>cellular </td><td>aug</td><td>⋯</td><td>nonexistent</td><td> 1.4</td><td>93.444</td><td>-36.1</td><td>4.966</td><td>5228.1</td><td>0</td><td>0</td><td>0</td><td>0</td></tr>\n",
       "\t<tr><td> 5006</td><td>40</td><td>services     </td><td>married </td><td>high.school        </td><td>unknown</td><td>yes    </td><td>no </td><td>telephone</td><td>may</td><td>⋯</td><td>nonexistent</td><td> 1.1</td><td>93.994</td><td>-36.4</td><td>4.857</td><td>5191.0</td><td>0</td><td>0</td><td>0</td><td>0</td></tr>\n",
       "\t<tr><td>19290</td><td>31</td><td>admin.       </td><td>married </td><td>university.degree  </td><td>no     </td><td>no     </td><td>no </td><td>cellular </td><td>nov</td><td>⋯</td><td>nonexistent</td><td>-0.1</td><td>93.200</td><td>-42.0</td><td>4.076</td><td>5195.8</td><td>0</td><td>0</td><td>0</td><td>0</td></tr>\n",
       "\t<tr><td>27375</td><td>36</td><td>blue-collar  </td><td>married </td><td>basic.9y           </td><td>no     </td><td>no     </td><td>no </td><td>telephone</td><td>may</td><td>⋯</td><td>nonexistent</td><td> 1.1</td><td>93.994</td><td>-36.4</td><td>4.859</td><td>5191.0</td><td>0</td><td>0</td><td>0</td><td>0</td></tr>\n",
       "\t<tr><td> 8214</td><td>88</td><td>retired      </td><td>divorced</td><td>basic.4y           </td><td>no     </td><td>no     </td><td>no </td><td>cellular </td><td>oct</td><td>⋯</td><td>success    </td><td>-3.4</td><td>92.431</td><td>-26.9</td><td>0.735</td><td>5017.5</td><td>0</td><td>0</td><td>0</td><td>0</td></tr>\n",
       "\t<tr><td>39327</td><td>38</td><td>blue-collar  </td><td>married </td><td>basic.4y           </td><td>no     </td><td>yes    </td><td>no </td><td>cellular </td><td>nov</td><td>⋯</td><td>nonexistent</td><td>-0.1</td><td>93.200</td><td>-42.0</td><td>4.191</td><td>5195.8</td><td>0</td><td>0</td><td>0</td><td>0</td></tr>\n",
       "\t<tr><td>37751</td><td>51</td><td>admin.       </td><td>married </td><td>university.degree  </td><td>no     </td><td>yes    </td><td>no </td><td>cellular </td><td>aug</td><td>⋯</td><td>nonexistent</td><td> 1.4</td><td>93.444</td><td>-36.1</td><td>4.964</td><td>5228.1</td><td>0</td><td>0</td><td>0</td><td>0</td></tr>\n",
       "\t<tr><td>11511</td><td>36</td><td>admin.       </td><td>married </td><td>high.school        </td><td>no     </td><td>yes    </td><td>no </td><td>telephone</td><td>may</td><td>⋯</td><td>nonexistent</td><td> 1.1</td><td>93.994</td><td>-36.4</td><td>4.856</td><td>5191.0</td><td>0</td><td>0</td><td>0</td><td>0</td></tr>\n",
       "\t<tr><td>18459</td><td>53</td><td>services     </td><td>divorced</td><td>basic.9y           </td><td>no     </td><td>yes    </td><td>no </td><td>cellular </td><td>jul</td><td>⋯</td><td>nonexistent</td><td> 1.4</td><td>93.918</td><td>-42.7</td><td>4.957</td><td>5228.1</td><td>0</td><td>0</td><td>0</td><td>0</td></tr>\n",
       "\t<tr><td>18088</td><td>29</td><td>management   </td><td>single  </td><td>university.degree  </td><td>no     </td><td>no     </td><td>no </td><td>cellular </td><td>aug</td><td>⋯</td><td>nonexistent</td><td> 1.4</td><td>93.444</td><td>-36.1</td><td>4.963</td><td>5228.1</td><td>0</td><td>0</td><td>0</td><td>0</td></tr>\n",
       "\t<tr><td>29838</td><td>34</td><td>blue-collar  </td><td>married </td><td>professional.course</td><td>no     </td><td>no     </td><td>no </td><td>cellular </td><td>apr</td><td>⋯</td><td>nonexistent</td><td>-1.8</td><td>93.075</td><td>-47.1</td><td>1.405</td><td>5099.1</td><td>0</td><td>0</td><td>0</td><td>0</td></tr>\n",
       "\t<tr><td>15880</td><td>34</td><td>technician   </td><td>married </td><td>professional.course</td><td>no     </td><td>no     </td><td>no </td><td>cellular </td><td>aug</td><td>⋯</td><td>nonexistent</td><td> 1.4</td><td>93.444</td><td>-36.1</td><td>4.963</td><td>5228.1</td><td>0</td><td>0</td><td>0</td><td>0</td></tr>\n",
       "\t<tr><td>32002</td><td>49</td><td>admin.       </td><td>married </td><td>high.school        </td><td>no     </td><td>yes    </td><td>yes</td><td>cellular </td><td>jul</td><td>⋯</td><td>nonexistent</td><td> 1.4</td><td>93.918</td><td>-42.7</td><td>4.962</td><td>5228.1</td><td>0</td><td>0</td><td>0</td><td>0</td></tr>\n",
       "\t<tr><td>34275</td><td>31</td><td>services     </td><td>married </td><td>university.degree  </td><td>no     </td><td>yes    </td><td>no </td><td>cellular </td><td>aug</td><td>⋯</td><td>nonexistent</td><td> 1.4</td><td>93.444</td><td>-36.1</td><td>4.963</td><td>5228.1</td><td>0</td><td>0</td><td>0</td><td>0</td></tr>\n",
       "\t<tr><td>  880</td><td>31</td><td>admin.       </td><td>divorced</td><td>university.degree  </td><td>no     </td><td>yes    </td><td>yes</td><td>cellular </td><td>may</td><td>⋯</td><td>nonexistent</td><td>-1.8</td><td>92.893</td><td>-46.2</td><td>1.354</td><td>5099.1</td><td>0</td><td>0</td><td>0</td><td>0</td></tr>\n",
       "\t<tr><td>28072</td><td>21</td><td>self-employed</td><td>single  </td><td>university.degree  </td><td>no     </td><td>yes    </td><td>no </td><td>cellular </td><td>apr</td><td>⋯</td><td>nonexistent</td><td>-1.8</td><td>93.075</td><td>-47.1</td><td>1.405</td><td>5099.1</td><td>0</td><td>0</td><td>0</td><td>0</td></tr>\n",
       "\t<tr><td>40491</td><td>39</td><td>housemaid    </td><td>married </td><td>basic.4y           </td><td>no     </td><td>yes    </td><td>yes</td><td>cellular </td><td>aug</td><td>⋯</td><td>nonexistent</td><td> 1.4</td><td>93.444</td><td>-36.1</td><td>4.964</td><td>5228.1</td><td>0</td><td>0</td><td>0</td><td>0</td></tr>\n",
       "\t<tr><td> 5310</td><td>32</td><td>technician   </td><td>single  </td><td>university.degree  </td><td>no     </td><td>yes    </td><td>yes</td><td>cellular </td><td>aug</td><td>⋯</td><td>nonexistent</td><td> 1.4</td><td>93.444</td><td>-36.1</td><td>4.965</td><td>5228.1</td><td>0</td><td>0</td><td>0</td><td>0</td></tr>\n",
       "\t<tr><td> 6154</td><td>50</td><td>technician   </td><td>married </td><td>university.degree  </td><td>no     </td><td>no     </td><td>no </td><td>cellular </td><td>jul</td><td>⋯</td><td>nonexistent</td><td> 1.4</td><td>93.918</td><td>-42.7</td><td>4.962</td><td>5228.1</td><td>0</td><td>0</td><td>0</td><td>0</td></tr>\n",
       "</tbody>\n",
       "</table>\n"
      ],
      "text/latex": [
       "A data.frame: 10000 × 24\n",
       "\\begin{tabular}{lllllllllllllllllllll}\n",
       " client\\_id & age & job & marital & education & default & housing & loan & contact & month & ⋯ & poutcome & emp.var.rate & cons.price.idx & cons.conf.idx & euribor3m & nr.employed & missing\\_age & missing\\_campaign & replace999 & missing\\_pdays\\\\\n",
       " <int> & <dbl> & <chr> & <chr> & <chr> & <chr> & <chr> & <chr> & <chr> & <chr> & ⋯ & <chr> & <dbl> & <dbl> & <dbl> & <dbl> & <dbl> & <dbl> & <dbl> & <dbl> & <dbl>\\\\\n",
       "\\hline\n",
       "\t  2986 & 53.00000 & technician    & single   & professional.course & no      & no      & no      & cellular  & jul & ⋯ & nonexistent &  1.4 & 93.918 & -42.7 & 4.961 & 5228.1 & 0 & 0 & 0 & 0\\\\\n",
       "\t 29710 & 32.00000 & blue-collar   & married  & basic.6y            & no      & yes     & no      & telephone & jul & ⋯ & nonexistent &  1.4 & 93.918 & -42.7 & 4.963 & 5228.1 & 0 & 0 & 0 & 0\\\\\n",
       "\t 38938 & 70.00000 & retired       & married  & high.school         & no      & yes     & no      & cellular  & aug & ⋯ & nonexistent & -2.9 & 92.201 & -31.4 & 0.883 & 5076.2 & 0 & 0 & 0 & 0\\\\\n",
       "\t 31313 & 46.00000 & services      & married  & high.school         & no      & no      & no      & cellular  & apr & ⋯ & failure     & -1.8 & 93.075 & -47.1 & 1.405 & 5099.1 & 0 & 0 & 0 & 0\\\\\n",
       "\t 24173 & 35.00000 & technician    & single   & unknown             & no      & no      & no      & cellular  & may & ⋯ & failure     & -1.8 & 92.893 & -46.2 & 1.266 & 5099.1 & 0 & 0 & 0 & 0\\\\\n",
       "\t 14426 & 24.00000 & student       & single   & high.school         & no      & yes     & no      & cellular  & may & ⋯ & success     & -1.8 & 93.876 & -40.0 & 0.668 & 5008.7 & 0 & 0 & 0 & 0\\\\\n",
       "\t 40159 & 33.00000 & admin.        & divorced & high.school         & no      & no      & no      & telephone & apr & ⋯ & nonexistent & -1.8 & 93.075 & -47.1 & 1.405 & 5099.1 & 0 & 0 & 0 & 0\\\\\n",
       "\t 12301 & 38.00000 & admin.        & married  & high.school         & no      & yes     & no      & telephone & jul & ⋯ & nonexistent &  1.4 & 93.918 & -42.7 & 4.968 & 5228.1 & 0 & 0 & 0 & 0\\\\\n",
       "\t  9640 & 37.00000 & blue-collar   & single   & basic.9y            & unknown & no      & no      & telephone & may & ⋯ & nonexistent &  1.1 & 93.994 & -36.4 & 4.860 & 5191.0 & 0 & 0 & 0 & 0\\\\\n",
       "\t 19742 & 36.00000 & technician    & married  & university.degree   & no      & no      & no      & cellular  & jun & ⋯ & success     & -2.9 & 92.963 & -40.8 & 1.266 & 5076.2 & 0 & 0 & 0 & 0\\\\\n",
       "\t  5967 & 41.00000 & blue-collar   & divorced & basic.9y            & unknown & no      & no      & telephone & may & ⋯ & nonexistent &  1.1 & 93.994 & -36.4 & 4.857 & 5191.0 & 0 & 0 & 0 & 0\\\\\n",
       "\t 25559 & 44.00000 & management    & married  & professional.course & no      & no      & no      & cellular  & apr & ⋯ & failure     & -1.8 & 93.075 & -47.1 & 1.405 & 5099.1 & 0 & 0 & 0 & 0\\\\\n",
       "\t 34976 & 33.00000 & technician    & married  & high.school         & no      & yes     & yes     & cellular  & aug & ⋯ & nonexistent &  1.4 & 93.444 & -36.1 & 4.965 & 5228.1 & 0 & 0 & 0 & 0\\\\\n",
       "\t 38126 & 27.00000 & self-employed & single   & university.degree   & no      & no      & no      & telephone & oct & ⋯ & nonexistent & -1.1 & 94.601 & -49.5 & 1.029 & 4963.6 & 0 & 0 & 0 & 0\\\\\n",
       "\t 17369 & 41.00000 & blue-collar   & married  & basic.4y            & no      & no      & yes     & telephone & jun & ⋯ & nonexistent &  1.4 & 94.465 & -41.8 & 4.864 & 5228.1 & 0 & 0 & 0 & 0\\\\\n",
       "\t 40632 & 34.00000 & services      & married  & high.school         & no      & no      & no      & telephone & jun & ⋯ & nonexistent &  1.4 & 94.465 & -41.8 & 4.958 & 5228.1 & 0 & 0 & 0 & 0\\\\\n",
       "\t 37544 & 44.00000 & blue-collar   & married  & basic.4y            & no      & yes     & no      & cellular  & jul & ⋯ & nonexistent &  1.4 & 93.918 & -42.7 & 4.962 & 5228.1 & 0 & 0 & 0 & 0\\\\\n",
       "\t 11284 & 32.00000 & admin.        & single   & university.degree   & no      & yes     & no      & cellular  & aug & ⋯ & nonexistent &  1.4 & 93.444 & -36.1 & 4.963 & 5228.1 & 0 & 0 & 0 & 0\\\\\n",
       "\t 36717 & 39.93562 & technician    & married  & professional.course & no      & yes     & no      & telephone & may & ⋯ & failure     & -1.8 & 92.893 & -46.2 & 1.281 & 5099.1 & 1 & 0 & 0 & 0\\\\\n",
       "\t 14536 & 32.00000 & blue-collar   & single   & high.school         & no      & unknown & unknown & cellular  & nov & ⋯ & nonexistent & -0.1 & 93.200 & -42.0 & 4.120 & 5195.8 & 0 & 0 & 0 & 0\\\\\n",
       "\t 26503 & 41.00000 & blue-collar   & married  & professional.course & no      & yes     & no      & telephone & jun & ⋯ & nonexistent &  1.4 & 94.465 & -41.8 & 4.959 & 5228.1 & 0 & 0 & 0 & 0\\\\\n",
       "\t 22763 & 46.00000 & services      & married  & high.school         & no      & yes     & yes     & telephone & jul & ⋯ & nonexistent &  1.4 & 93.918 & -42.7 & 4.963 & 5228.1 & 0 & 0 & 0 & 0\\\\\n",
       "\t 32953 & 30.00000 & blue-collar   & married  & basic.9y            & no      & yes     & no      & cellular  & nov & ⋯ & failure     & -0.1 & 93.200 & -42.0 & 4.021 & 5195.8 & 0 & 0 & 0 & 0\\\\\n",
       "\t   413 & 47.00000 & management    & married  & basic.9y            & no      & no      & no      & cellular  & jun & ⋯ & nonexistent & -2.9 & 92.963 & -40.8 & 1.262 & 5076.2 & 0 & 0 & 0 & 0\\\\\n",
       "\t 10762 & 39.00000 & admin.        & married  & university.degree   & unknown & yes     & no      & cellular  & aug & ⋯ & nonexistent &  1.4 & 93.444 & -36.1 & 4.964 & 5228.1 & 0 & 0 & 0 & 0\\\\\n",
       "\t 14745 & 29.00000 & entrepreneur  & married  & basic.9y            & no      & yes     & no      & cellular  & nov & ⋯ & nonexistent & -0.1 & 93.200 & -42.0 & 4.120 & 5195.8 & 0 & 0 & 0 & 0\\\\\n",
       "\t 25946 & 72.00000 & retired       & divorced & basic.4y            & no      & yes     & yes     & cellular  & aug & ⋯ & failure     & -2.9 & 92.201 & -31.4 & 0.873 & 5076.2 & 0 & 0 & 0 & 0\\\\\n",
       "\t 14804 & 32.00000 & unemployed    & single   & professional.course & no      & yes     & yes     & cellular  & jun & ⋯ & nonexistent & -1.7 & 94.055 & -39.8 & 0.704 & 4991.6 & 0 & 0 & 0 & 0\\\\\n",
       "\t  6790 & 32.00000 & blue-collar   & married  & basic.9y            & no      & no      & no      & telephone & may & ⋯ & nonexistent &  1.1 & 93.994 & -36.4 & 4.857 & 5191.0 & 0 & 0 & 0 & 0\\\\\n",
       "\t 30453 & 45.00000 & technician    & single   & university.degree   & unknown & no      & no      & cellular  & aug & ⋯ & nonexistent &  1.4 & 93.444 & -36.1 & 4.963 & 5228.1 & 0 & 0 & 0 & 0\\\\\n",
       "\t ⋮ & ⋮ & ⋮ & ⋮ & ⋮ & ⋮ & ⋮ & ⋮ & ⋮ & ⋮ & ⋱ & ⋮ & ⋮ & ⋮ & ⋮ & ⋮ & ⋮ & ⋮ & ⋮ & ⋮ & ⋮\\\\\n",
       "\t  3688 & 43 & admin.        & married  & university.degree   & no      & yes     & yes & cellular  & aug & ⋯ & nonexistent &  1.4 & 93.444 & -36.1 & 4.970 & 5228.1 & 0 & 0 & 0 & 0\\\\\n",
       "\t 13542 & 52 & technician    & married  & professional.course & no      & yes     & no  & cellular  & jul & ⋯ & nonexistent &  1.4 & 93.918 & -42.7 & 4.958 & 5228.1 & 0 & 0 & 0 & 0\\\\\n",
       "\t 21023 & 30 & technician    & single   & professional.course & unknown & yes     & no  & cellular  & aug & ⋯ & nonexistent &  1.4 & 93.444 & -36.1 & 4.964 & 5228.1 & 0 & 0 & 0 & 0\\\\\n",
       "\t  5277 & 25 & unemployed    & single   & high.school         & unknown & yes     & no  & telephone & jun & ⋯ & nonexistent &  1.4 & 94.465 & -41.8 & 4.960 & 5228.1 & 0 & 0 & 0 & 0\\\\\n",
       "\t 15316 & 37 & blue-collar   & married  & basic.4y            & unknown & no      & no  & telephone & may & ⋯ & nonexistent &  1.1 & 93.994 & -36.4 & 4.857 & 5191.0 & 0 & 0 & 0 & 0\\\\\n",
       "\t   633 & 43 & admin.        & divorced & university.degree   & no      & no      & no  & cellular  & jul & ⋯ & nonexistent &  1.4 & 93.918 & -42.7 & 4.963 & 5228.1 & 0 & 0 & 0 & 0\\\\\n",
       "\t  8520 & 29 & admin.        & single   & basic.9y            & unknown & no      & no  & cellular  & may & ⋯ & nonexistent & -1.8 & 92.893 & -46.2 & 1.266 & 5099.1 & 0 & 0 & 0 & 0\\\\\n",
       "\t 38410 & 35 & unknown       & married  & basic.9y            & no      & unknown & no  & telephone & may & ⋯ & nonexistent &  1.1 & 93.994 & -36.4 & 4.860 & 5191.0 & 0 & 0 & 0 & 0\\\\\n",
       "\t 31552 & 45 & services      & married  & basic.9y            & no      & no      & yes & telephone & may & ⋯ & nonexistent &  1.1 & 93.994 & -36.4 & 4.858 & 5191.0 & 0 & 0 & 0 & 0\\\\\n",
       "\t 18572 & 28 & blue-collar   & married  & basic.4y            & no      & yes     & no  & cellular  & jul & ⋯ & nonexistent &  1.4 & 93.918 & -42.7 & 4.960 & 5228.1 & 0 & 1 & 0 & 0\\\\\n",
       "\t  3054 & 49 & admin.        & married  & university.degree   & unknown & yes     & no  & cellular  & aug & ⋯ & nonexistent &  1.4 & 93.444 & -36.1 &    NA & 5228.1 & 0 & 0 & 0 & 0\\\\\n",
       "\t 14279 & 33 & self-employed & married  & basic.9y            & unknown & no      & no  & cellular  & aug & ⋯ & nonexistent &  1.4 & 93.444 & -36.1 & 4.966 & 5228.1 & 0 & 0 & 0 & 0\\\\\n",
       "\t  5006 & 40 & services      & married  & high.school         & unknown & yes     & no  & telephone & may & ⋯ & nonexistent &  1.1 & 93.994 & -36.4 & 4.857 & 5191.0 & 0 & 0 & 0 & 0\\\\\n",
       "\t 19290 & 31 & admin.        & married  & university.degree   & no      & no      & no  & cellular  & nov & ⋯ & nonexistent & -0.1 & 93.200 & -42.0 & 4.076 & 5195.8 & 0 & 0 & 0 & 0\\\\\n",
       "\t 27375 & 36 & blue-collar   & married  & basic.9y            & no      & no      & no  & telephone & may & ⋯ & nonexistent &  1.1 & 93.994 & -36.4 & 4.859 & 5191.0 & 0 & 0 & 0 & 0\\\\\n",
       "\t  8214 & 88 & retired       & divorced & basic.4y            & no      & no      & no  & cellular  & oct & ⋯ & success     & -3.4 & 92.431 & -26.9 & 0.735 & 5017.5 & 0 & 0 & 0 & 0\\\\\n",
       "\t 39327 & 38 & blue-collar   & married  & basic.4y            & no      & yes     & no  & cellular  & nov & ⋯ & nonexistent & -0.1 & 93.200 & -42.0 & 4.191 & 5195.8 & 0 & 0 & 0 & 0\\\\\n",
       "\t 37751 & 51 & admin.        & married  & university.degree   & no      & yes     & no  & cellular  & aug & ⋯ & nonexistent &  1.4 & 93.444 & -36.1 & 4.964 & 5228.1 & 0 & 0 & 0 & 0\\\\\n",
       "\t 11511 & 36 & admin.        & married  & high.school         & no      & yes     & no  & telephone & may & ⋯ & nonexistent &  1.1 & 93.994 & -36.4 & 4.856 & 5191.0 & 0 & 0 & 0 & 0\\\\\n",
       "\t 18459 & 53 & services      & divorced & basic.9y            & no      & yes     & no  & cellular  & jul & ⋯ & nonexistent &  1.4 & 93.918 & -42.7 & 4.957 & 5228.1 & 0 & 0 & 0 & 0\\\\\n",
       "\t 18088 & 29 & management    & single   & university.degree   & no      & no      & no  & cellular  & aug & ⋯ & nonexistent &  1.4 & 93.444 & -36.1 & 4.963 & 5228.1 & 0 & 0 & 0 & 0\\\\\n",
       "\t 29838 & 34 & blue-collar   & married  & professional.course & no      & no      & no  & cellular  & apr & ⋯ & nonexistent & -1.8 & 93.075 & -47.1 & 1.405 & 5099.1 & 0 & 0 & 0 & 0\\\\\n",
       "\t 15880 & 34 & technician    & married  & professional.course & no      & no      & no  & cellular  & aug & ⋯ & nonexistent &  1.4 & 93.444 & -36.1 & 4.963 & 5228.1 & 0 & 0 & 0 & 0\\\\\n",
       "\t 32002 & 49 & admin.        & married  & high.school         & no      & yes     & yes & cellular  & jul & ⋯ & nonexistent &  1.4 & 93.918 & -42.7 & 4.962 & 5228.1 & 0 & 0 & 0 & 0\\\\\n",
       "\t 34275 & 31 & services      & married  & university.degree   & no      & yes     & no  & cellular  & aug & ⋯ & nonexistent &  1.4 & 93.444 & -36.1 & 4.963 & 5228.1 & 0 & 0 & 0 & 0\\\\\n",
       "\t   880 & 31 & admin.        & divorced & university.degree   & no      & yes     & yes & cellular  & may & ⋯ & nonexistent & -1.8 & 92.893 & -46.2 & 1.354 & 5099.1 & 0 & 0 & 0 & 0\\\\\n",
       "\t 28072 & 21 & self-employed & single   & university.degree   & no      & yes     & no  & cellular  & apr & ⋯ & nonexistent & -1.8 & 93.075 & -47.1 & 1.405 & 5099.1 & 0 & 0 & 0 & 0\\\\\n",
       "\t 40491 & 39 & housemaid     & married  & basic.4y            & no      & yes     & yes & cellular  & aug & ⋯ & nonexistent &  1.4 & 93.444 & -36.1 & 4.964 & 5228.1 & 0 & 0 & 0 & 0\\\\\n",
       "\t  5310 & 32 & technician    & single   & university.degree   & no      & yes     & yes & cellular  & aug & ⋯ & nonexistent &  1.4 & 93.444 & -36.1 & 4.965 & 5228.1 & 0 & 0 & 0 & 0\\\\\n",
       "\t  6154 & 50 & technician    & married  & university.degree   & no      & no      & no  & cellular  & jul & ⋯ & nonexistent &  1.4 & 93.918 & -42.7 & 4.962 & 5228.1 & 0 & 0 & 0 & 0\\\\\n",
       "\\end{tabular}\n"
      ],
      "text/markdown": [
       "\n",
       "A data.frame: 10000 × 24\n",
       "\n",
       "| client_id &lt;int&gt; | age &lt;dbl&gt; | job &lt;chr&gt; | marital &lt;chr&gt; | education &lt;chr&gt; | default &lt;chr&gt; | housing &lt;chr&gt; | loan &lt;chr&gt; | contact &lt;chr&gt; | month &lt;chr&gt; | ⋯ ⋯ | poutcome &lt;chr&gt; | emp.var.rate &lt;dbl&gt; | cons.price.idx &lt;dbl&gt; | cons.conf.idx &lt;dbl&gt; | euribor3m &lt;dbl&gt; | nr.employed &lt;dbl&gt; | missing_age &lt;dbl&gt; | missing_campaign &lt;dbl&gt; | replace999 &lt;dbl&gt; | missing_pdays &lt;dbl&gt; |\n",
       "|---|---|---|---|---|---|---|---|---|---|---|---|---|---|---|---|---|---|---|---|---|\n",
       "|  2986 | 53.00000 | technician    | single   | professional.course | no      | no      | no      | cellular  | jul | ⋯ | nonexistent |  1.4 | 93.918 | -42.7 | 4.961 | 5228.1 | 0 | 0 | 0 | 0 |\n",
       "| 29710 | 32.00000 | blue-collar   | married  | basic.6y            | no      | yes     | no      | telephone | jul | ⋯ | nonexistent |  1.4 | 93.918 | -42.7 | 4.963 | 5228.1 | 0 | 0 | 0 | 0 |\n",
       "| 38938 | 70.00000 | retired       | married  | high.school         | no      | yes     | no      | cellular  | aug | ⋯ | nonexistent | -2.9 | 92.201 | -31.4 | 0.883 | 5076.2 | 0 | 0 | 0 | 0 |\n",
       "| 31313 | 46.00000 | services      | married  | high.school         | no      | no      | no      | cellular  | apr | ⋯ | failure     | -1.8 | 93.075 | -47.1 | 1.405 | 5099.1 | 0 | 0 | 0 | 0 |\n",
       "| 24173 | 35.00000 | technician    | single   | unknown             | no      | no      | no      | cellular  | may | ⋯ | failure     | -1.8 | 92.893 | -46.2 | 1.266 | 5099.1 | 0 | 0 | 0 | 0 |\n",
       "| 14426 | 24.00000 | student       | single   | high.school         | no      | yes     | no      | cellular  | may | ⋯ | success     | -1.8 | 93.876 | -40.0 | 0.668 | 5008.7 | 0 | 0 | 0 | 0 |\n",
       "| 40159 | 33.00000 | admin.        | divorced | high.school         | no      | no      | no      | telephone | apr | ⋯ | nonexistent | -1.8 | 93.075 | -47.1 | 1.405 | 5099.1 | 0 | 0 | 0 | 0 |\n",
       "| 12301 | 38.00000 | admin.        | married  | high.school         | no      | yes     | no      | telephone | jul | ⋯ | nonexistent |  1.4 | 93.918 | -42.7 | 4.968 | 5228.1 | 0 | 0 | 0 | 0 |\n",
       "|  9640 | 37.00000 | blue-collar   | single   | basic.9y            | unknown | no      | no      | telephone | may | ⋯ | nonexistent |  1.1 | 93.994 | -36.4 | 4.860 | 5191.0 | 0 | 0 | 0 | 0 |\n",
       "| 19742 | 36.00000 | technician    | married  | university.degree   | no      | no      | no      | cellular  | jun | ⋯ | success     | -2.9 | 92.963 | -40.8 | 1.266 | 5076.2 | 0 | 0 | 0 | 0 |\n",
       "|  5967 | 41.00000 | blue-collar   | divorced | basic.9y            | unknown | no      | no      | telephone | may | ⋯ | nonexistent |  1.1 | 93.994 | -36.4 | 4.857 | 5191.0 | 0 | 0 | 0 | 0 |\n",
       "| 25559 | 44.00000 | management    | married  | professional.course | no      | no      | no      | cellular  | apr | ⋯ | failure     | -1.8 | 93.075 | -47.1 | 1.405 | 5099.1 | 0 | 0 | 0 | 0 |\n",
       "| 34976 | 33.00000 | technician    | married  | high.school         | no      | yes     | yes     | cellular  | aug | ⋯ | nonexistent |  1.4 | 93.444 | -36.1 | 4.965 | 5228.1 | 0 | 0 | 0 | 0 |\n",
       "| 38126 | 27.00000 | self-employed | single   | university.degree   | no      | no      | no      | telephone | oct | ⋯ | nonexistent | -1.1 | 94.601 | -49.5 | 1.029 | 4963.6 | 0 | 0 | 0 | 0 |\n",
       "| 17369 | 41.00000 | blue-collar   | married  | basic.4y            | no      | no      | yes     | telephone | jun | ⋯ | nonexistent |  1.4 | 94.465 | -41.8 | 4.864 | 5228.1 | 0 | 0 | 0 | 0 |\n",
       "| 40632 | 34.00000 | services      | married  | high.school         | no      | no      | no      | telephone | jun | ⋯ | nonexistent |  1.4 | 94.465 | -41.8 | 4.958 | 5228.1 | 0 | 0 | 0 | 0 |\n",
       "| 37544 | 44.00000 | blue-collar   | married  | basic.4y            | no      | yes     | no      | cellular  | jul | ⋯ | nonexistent |  1.4 | 93.918 | -42.7 | 4.962 | 5228.1 | 0 | 0 | 0 | 0 |\n",
       "| 11284 | 32.00000 | admin.        | single   | university.degree   | no      | yes     | no      | cellular  | aug | ⋯ | nonexistent |  1.4 | 93.444 | -36.1 | 4.963 | 5228.1 | 0 | 0 | 0 | 0 |\n",
       "| 36717 | 39.93562 | technician    | married  | professional.course | no      | yes     | no      | telephone | may | ⋯ | failure     | -1.8 | 92.893 | -46.2 | 1.281 | 5099.1 | 1 | 0 | 0 | 0 |\n",
       "| 14536 | 32.00000 | blue-collar   | single   | high.school         | no      | unknown | unknown | cellular  | nov | ⋯ | nonexistent | -0.1 | 93.200 | -42.0 | 4.120 | 5195.8 | 0 | 0 | 0 | 0 |\n",
       "| 26503 | 41.00000 | blue-collar   | married  | professional.course | no      | yes     | no      | telephone | jun | ⋯ | nonexistent |  1.4 | 94.465 | -41.8 | 4.959 | 5228.1 | 0 | 0 | 0 | 0 |\n",
       "| 22763 | 46.00000 | services      | married  | high.school         | no      | yes     | yes     | telephone | jul | ⋯ | nonexistent |  1.4 | 93.918 | -42.7 | 4.963 | 5228.1 | 0 | 0 | 0 | 0 |\n",
       "| 32953 | 30.00000 | blue-collar   | married  | basic.9y            | no      | yes     | no      | cellular  | nov | ⋯ | failure     | -0.1 | 93.200 | -42.0 | 4.021 | 5195.8 | 0 | 0 | 0 | 0 |\n",
       "|   413 | 47.00000 | management    | married  | basic.9y            | no      | no      | no      | cellular  | jun | ⋯ | nonexistent | -2.9 | 92.963 | -40.8 | 1.262 | 5076.2 | 0 | 0 | 0 | 0 |\n",
       "| 10762 | 39.00000 | admin.        | married  | university.degree   | unknown | yes     | no      | cellular  | aug | ⋯ | nonexistent |  1.4 | 93.444 | -36.1 | 4.964 | 5228.1 | 0 | 0 | 0 | 0 |\n",
       "| 14745 | 29.00000 | entrepreneur  | married  | basic.9y            | no      | yes     | no      | cellular  | nov | ⋯ | nonexistent | -0.1 | 93.200 | -42.0 | 4.120 | 5195.8 | 0 | 0 | 0 | 0 |\n",
       "| 25946 | 72.00000 | retired       | divorced | basic.4y            | no      | yes     | yes     | cellular  | aug | ⋯ | failure     | -2.9 | 92.201 | -31.4 | 0.873 | 5076.2 | 0 | 0 | 0 | 0 |\n",
       "| 14804 | 32.00000 | unemployed    | single   | professional.course | no      | yes     | yes     | cellular  | jun | ⋯ | nonexistent | -1.7 | 94.055 | -39.8 | 0.704 | 4991.6 | 0 | 0 | 0 | 0 |\n",
       "|  6790 | 32.00000 | blue-collar   | married  | basic.9y            | no      | no      | no      | telephone | may | ⋯ | nonexistent |  1.1 | 93.994 | -36.4 | 4.857 | 5191.0 | 0 | 0 | 0 | 0 |\n",
       "| 30453 | 45.00000 | technician    | single   | university.degree   | unknown | no      | no      | cellular  | aug | ⋯ | nonexistent |  1.4 | 93.444 | -36.1 | 4.963 | 5228.1 | 0 | 0 | 0 | 0 |\n",
       "| ⋮ | ⋮ | ⋮ | ⋮ | ⋮ | ⋮ | ⋮ | ⋮ | ⋮ | ⋮ | ⋱ | ⋮ | ⋮ | ⋮ | ⋮ | ⋮ | ⋮ | ⋮ | ⋮ | ⋮ | ⋮ |\n",
       "|  3688 | 43 | admin.        | married  | university.degree   | no      | yes     | yes | cellular  | aug | ⋯ | nonexistent |  1.4 | 93.444 | -36.1 | 4.970 | 5228.1 | 0 | 0 | 0 | 0 |\n",
       "| 13542 | 52 | technician    | married  | professional.course | no      | yes     | no  | cellular  | jul | ⋯ | nonexistent |  1.4 | 93.918 | -42.7 | 4.958 | 5228.1 | 0 | 0 | 0 | 0 |\n",
       "| 21023 | 30 | technician    | single   | professional.course | unknown | yes     | no  | cellular  | aug | ⋯ | nonexistent |  1.4 | 93.444 | -36.1 | 4.964 | 5228.1 | 0 | 0 | 0 | 0 |\n",
       "|  5277 | 25 | unemployed    | single   | high.school         | unknown | yes     | no  | telephone | jun | ⋯ | nonexistent |  1.4 | 94.465 | -41.8 | 4.960 | 5228.1 | 0 | 0 | 0 | 0 |\n",
       "| 15316 | 37 | blue-collar   | married  | basic.4y            | unknown | no      | no  | telephone | may | ⋯ | nonexistent |  1.1 | 93.994 | -36.4 | 4.857 | 5191.0 | 0 | 0 | 0 | 0 |\n",
       "|   633 | 43 | admin.        | divorced | university.degree   | no      | no      | no  | cellular  | jul | ⋯ | nonexistent |  1.4 | 93.918 | -42.7 | 4.963 | 5228.1 | 0 | 0 | 0 | 0 |\n",
       "|  8520 | 29 | admin.        | single   | basic.9y            | unknown | no      | no  | cellular  | may | ⋯ | nonexistent | -1.8 | 92.893 | -46.2 | 1.266 | 5099.1 | 0 | 0 | 0 | 0 |\n",
       "| 38410 | 35 | unknown       | married  | basic.9y            | no      | unknown | no  | telephone | may | ⋯ | nonexistent |  1.1 | 93.994 | -36.4 | 4.860 | 5191.0 | 0 | 0 | 0 | 0 |\n",
       "| 31552 | 45 | services      | married  | basic.9y            | no      | no      | yes | telephone | may | ⋯ | nonexistent |  1.1 | 93.994 | -36.4 | 4.858 | 5191.0 | 0 | 0 | 0 | 0 |\n",
       "| 18572 | 28 | blue-collar   | married  | basic.4y            | no      | yes     | no  | cellular  | jul | ⋯ | nonexistent |  1.4 | 93.918 | -42.7 | 4.960 | 5228.1 | 0 | 1 | 0 | 0 |\n",
       "|  3054 | 49 | admin.        | married  | university.degree   | unknown | yes     | no  | cellular  | aug | ⋯ | nonexistent |  1.4 | 93.444 | -36.1 |    NA | 5228.1 | 0 | 0 | 0 | 0 |\n",
       "| 14279 | 33 | self-employed | married  | basic.9y            | unknown | no      | no  | cellular  | aug | ⋯ | nonexistent |  1.4 | 93.444 | -36.1 | 4.966 | 5228.1 | 0 | 0 | 0 | 0 |\n",
       "|  5006 | 40 | services      | married  | high.school         | unknown | yes     | no  | telephone | may | ⋯ | nonexistent |  1.1 | 93.994 | -36.4 | 4.857 | 5191.0 | 0 | 0 | 0 | 0 |\n",
       "| 19290 | 31 | admin.        | married  | university.degree   | no      | no      | no  | cellular  | nov | ⋯ | nonexistent | -0.1 | 93.200 | -42.0 | 4.076 | 5195.8 | 0 | 0 | 0 | 0 |\n",
       "| 27375 | 36 | blue-collar   | married  | basic.9y            | no      | no      | no  | telephone | may | ⋯ | nonexistent |  1.1 | 93.994 | -36.4 | 4.859 | 5191.0 | 0 | 0 | 0 | 0 |\n",
       "|  8214 | 88 | retired       | divorced | basic.4y            | no      | no      | no  | cellular  | oct | ⋯ | success     | -3.4 | 92.431 | -26.9 | 0.735 | 5017.5 | 0 | 0 | 0 | 0 |\n",
       "| 39327 | 38 | blue-collar   | married  | basic.4y            | no      | yes     | no  | cellular  | nov | ⋯ | nonexistent | -0.1 | 93.200 | -42.0 | 4.191 | 5195.8 | 0 | 0 | 0 | 0 |\n",
       "| 37751 | 51 | admin.        | married  | university.degree   | no      | yes     | no  | cellular  | aug | ⋯ | nonexistent |  1.4 | 93.444 | -36.1 | 4.964 | 5228.1 | 0 | 0 | 0 | 0 |\n",
       "| 11511 | 36 | admin.        | married  | high.school         | no      | yes     | no  | telephone | may | ⋯ | nonexistent |  1.1 | 93.994 | -36.4 | 4.856 | 5191.0 | 0 | 0 | 0 | 0 |\n",
       "| 18459 | 53 | services      | divorced | basic.9y            | no      | yes     | no  | cellular  | jul | ⋯ | nonexistent |  1.4 | 93.918 | -42.7 | 4.957 | 5228.1 | 0 | 0 | 0 | 0 |\n",
       "| 18088 | 29 | management    | single   | university.degree   | no      | no      | no  | cellular  | aug | ⋯ | nonexistent |  1.4 | 93.444 | -36.1 | 4.963 | 5228.1 | 0 | 0 | 0 | 0 |\n",
       "| 29838 | 34 | blue-collar   | married  | professional.course | no      | no      | no  | cellular  | apr | ⋯ | nonexistent | -1.8 | 93.075 | -47.1 | 1.405 | 5099.1 | 0 | 0 | 0 | 0 |\n",
       "| 15880 | 34 | technician    | married  | professional.course | no      | no      | no  | cellular  | aug | ⋯ | nonexistent |  1.4 | 93.444 | -36.1 | 4.963 | 5228.1 | 0 | 0 | 0 | 0 |\n",
       "| 32002 | 49 | admin.        | married  | high.school         | no      | yes     | yes | cellular  | jul | ⋯ | nonexistent |  1.4 | 93.918 | -42.7 | 4.962 | 5228.1 | 0 | 0 | 0 | 0 |\n",
       "| 34275 | 31 | services      | married  | university.degree   | no      | yes     | no  | cellular  | aug | ⋯ | nonexistent |  1.4 | 93.444 | -36.1 | 4.963 | 5228.1 | 0 | 0 | 0 | 0 |\n",
       "|   880 | 31 | admin.        | divorced | university.degree   | no      | yes     | yes | cellular  | may | ⋯ | nonexistent | -1.8 | 92.893 | -46.2 | 1.354 | 5099.1 | 0 | 0 | 0 | 0 |\n",
       "| 28072 | 21 | self-employed | single   | university.degree   | no      | yes     | no  | cellular  | apr | ⋯ | nonexistent | -1.8 | 93.075 | -47.1 | 1.405 | 5099.1 | 0 | 0 | 0 | 0 |\n",
       "| 40491 | 39 | housemaid     | married  | basic.4y            | no      | yes     | yes | cellular  | aug | ⋯ | nonexistent |  1.4 | 93.444 | -36.1 | 4.964 | 5228.1 | 0 | 0 | 0 | 0 |\n",
       "|  5310 | 32 | technician    | single   | university.degree   | no      | yes     | yes | cellular  | aug | ⋯ | nonexistent |  1.4 | 93.444 | -36.1 | 4.965 | 5228.1 | 0 | 0 | 0 | 0 |\n",
       "|  6154 | 50 | technician    | married  | university.degree   | no      | no      | no  | cellular  | jul | ⋯ | nonexistent |  1.4 | 93.918 | -42.7 | 4.962 | 5228.1 | 0 | 0 | 0 | 0 |\n",
       "\n"
      ],
      "text/plain": [
       "      client_id age      job           marital  education           default\n",
       "1      2986     53.00000 technician    single   professional.course no     \n",
       "2     29710     32.00000 blue-collar   married  basic.6y            no     \n",
       "3     38938     70.00000 retired       married  high.school         no     \n",
       "4     31313     46.00000 services      married  high.school         no     \n",
       "5     24173     35.00000 technician    single   unknown             no     \n",
       "6     14426     24.00000 student       single   high.school         no     \n",
       "7     40159     33.00000 admin.        divorced high.school         no     \n",
       "8     12301     38.00000 admin.        married  high.school         no     \n",
       "9      9640     37.00000 blue-collar   single   basic.9y            unknown\n",
       "10    19742     36.00000 technician    married  university.degree   no     \n",
       "11     5967     41.00000 blue-collar   divorced basic.9y            unknown\n",
       "12    25559     44.00000 management    married  professional.course no     \n",
       "13    34976     33.00000 technician    married  high.school         no     \n",
       "14    38126     27.00000 self-employed single   university.degree   no     \n",
       "15    17369     41.00000 blue-collar   married  basic.4y            no     \n",
       "16    40632     34.00000 services      married  high.school         no     \n",
       "17    37544     44.00000 blue-collar   married  basic.4y            no     \n",
       "18    11284     32.00000 admin.        single   university.degree   no     \n",
       "19    36717     39.93562 technician    married  professional.course no     \n",
       "20    14536     32.00000 blue-collar   single   high.school         no     \n",
       "21    26503     41.00000 blue-collar   married  professional.course no     \n",
       "22    22763     46.00000 services      married  high.school         no     \n",
       "23    32953     30.00000 blue-collar   married  basic.9y            no     \n",
       "24      413     47.00000 management    married  basic.9y            no     \n",
       "25    10762     39.00000 admin.        married  university.degree   unknown\n",
       "26    14745     29.00000 entrepreneur  married  basic.9y            no     \n",
       "27    25946     72.00000 retired       divorced basic.4y            no     \n",
       "28    14804     32.00000 unemployed    single   professional.course no     \n",
       "29     6790     32.00000 blue-collar   married  basic.9y            no     \n",
       "30    30453     45.00000 technician    single   university.degree   unknown\n",
       "<U+22EE>     <U+22EE>  <U+22EE> <U+22EE>      <U+22EE> <U+22EE>            <U+22EE>\n",
       "9971   3688     43       admin.        married  university.degree   no     \n",
       "9972  13542     52       technician    married  professional.course no     \n",
       "9973  21023     30       technician    single   professional.course unknown\n",
       "9974   5277     25       unemployed    single   high.school         unknown\n",
       "9975  15316     37       blue-collar   married  basic.4y            unknown\n",
       "9976    633     43       admin.        divorced university.degree   no     \n",
       "9977   8520     29       admin.        single   basic.9y            unknown\n",
       "9978  38410     35       unknown       married  basic.9y            no     \n",
       "9979  31552     45       services      married  basic.9y            no     \n",
       "9980  18572     28       blue-collar   married  basic.4y            no     \n",
       "9981   3054     49       admin.        married  university.degree   unknown\n",
       "9982  14279     33       self-employed married  basic.9y            unknown\n",
       "9983   5006     40       services      married  high.school         unknown\n",
       "9984  19290     31       admin.        married  university.degree   no     \n",
       "9985  27375     36       blue-collar   married  basic.9y            no     \n",
       "9986   8214     88       retired       divorced basic.4y            no     \n",
       "9987  39327     38       blue-collar   married  basic.4y            no     \n",
       "9988  37751     51       admin.        married  university.degree   no     \n",
       "9989  11511     36       admin.        married  high.school         no     \n",
       "9990  18459     53       services      divorced basic.9y            no     \n",
       "9991  18088     29       management    single   university.degree   no     \n",
       "9992  29838     34       blue-collar   married  professional.course no     \n",
       "9993  15880     34       technician    married  professional.course no     \n",
       "9994  32002     49       admin.        married  high.school         no     \n",
       "9995  34275     31       services      married  university.degree   no     \n",
       "9996    880     31       admin.        divorced university.degree   no     \n",
       "9997  28072     21       self-employed single   university.degree   no     \n",
       "9998  40491     39       housemaid     married  basic.4y            no     \n",
       "9999   5310     32       technician    single   university.degree   no     \n",
       "10000  6154     50       technician    married  university.degree   no     \n",
       "      housing loan    contact   month <U+22EF>        poutcome    emp.var.rate\n",
       "1     no      no      cellular  jul   <U+22EF> nonexistent  1.4        \n",
       "2     yes     no      telephone jul   <U+22EF> nonexistent  1.4        \n",
       "3     yes     no      cellular  aug   <U+22EF> nonexistent -2.9        \n",
       "4     no      no      cellular  apr   <U+22EF> failure     -1.8        \n",
       "5     no      no      cellular  may   <U+22EF> failure     -1.8        \n",
       "6     yes     no      cellular  may   <U+22EF> success     -1.8        \n",
       "7     no      no      telephone apr   <U+22EF> nonexistent -1.8        \n",
       "8     yes     no      telephone jul   <U+22EF> nonexistent  1.4        \n",
       "9     no      no      telephone may   <U+22EF> nonexistent  1.1        \n",
       "10    no      no      cellular  jun   <U+22EF> success     -2.9        \n",
       "11    no      no      telephone may   <U+22EF> nonexistent  1.1        \n",
       "12    no      no      cellular  apr   <U+22EF> failure     -1.8        \n",
       "13    yes     yes     cellular  aug   <U+22EF> nonexistent  1.4        \n",
       "14    no      no      telephone oct   <U+22EF> nonexistent -1.1        \n",
       "15    no      yes     telephone jun   <U+22EF> nonexistent  1.4        \n",
       "16    no      no      telephone jun   <U+22EF> nonexistent  1.4        \n",
       "17    yes     no      cellular  jul   <U+22EF> nonexistent  1.4        \n",
       "18    yes     no      cellular  aug   <U+22EF> nonexistent  1.4        \n",
       "19    yes     no      telephone may   <U+22EF> failure     -1.8        \n",
       "20    unknown unknown cellular  nov   <U+22EF> nonexistent -0.1        \n",
       "21    yes     no      telephone jun   <U+22EF> nonexistent  1.4        \n",
       "22    yes     yes     telephone jul   <U+22EF> nonexistent  1.4        \n",
       "23    yes     no      cellular  nov   <U+22EF> failure     -0.1        \n",
       "24    no      no      cellular  jun   <U+22EF> nonexistent -2.9        \n",
       "25    yes     no      cellular  aug   <U+22EF> nonexistent  1.4        \n",
       "26    yes     no      cellular  nov   <U+22EF> nonexistent -0.1        \n",
       "27    yes     yes     cellular  aug   <U+22EF> failure     -2.9        \n",
       "28    yes     yes     cellular  jun   <U+22EF> nonexistent -1.7        \n",
       "29    no      no      telephone may   <U+22EF> nonexistent  1.1        \n",
       "30    no      no      cellular  aug   <U+22EF> nonexistent  1.4        \n",
       "<U+22EE>     <U+22EE> <U+22EE> <U+22EE>  <U+22EE> <U+22F1> <U+22EE>    <U+22EE>    \n",
       "9971  yes     yes     cellular  aug   <U+22EF> nonexistent  1.4        \n",
       "9972  yes     no      cellular  jul   <U+22EF> nonexistent  1.4        \n",
       "9973  yes     no      cellular  aug   <U+22EF> nonexistent  1.4        \n",
       "9974  yes     no      telephone jun   <U+22EF> nonexistent  1.4        \n",
       "9975  no      no      telephone may   <U+22EF> nonexistent  1.1        \n",
       "9976  no      no      cellular  jul   <U+22EF> nonexistent  1.4        \n",
       "9977  no      no      cellular  may   <U+22EF> nonexistent -1.8        \n",
       "9978  unknown no      telephone may   <U+22EF> nonexistent  1.1        \n",
       "9979  no      yes     telephone may   <U+22EF> nonexistent  1.1        \n",
       "9980  yes     no      cellular  jul   <U+22EF> nonexistent  1.4        \n",
       "9981  yes     no      cellular  aug   <U+22EF> nonexistent  1.4        \n",
       "9982  no      no      cellular  aug   <U+22EF> nonexistent  1.4        \n",
       "9983  yes     no      telephone may   <U+22EF> nonexistent  1.1        \n",
       "9984  no      no      cellular  nov   <U+22EF> nonexistent -0.1        \n",
       "9985  no      no      telephone may   <U+22EF> nonexistent  1.1        \n",
       "9986  no      no      cellular  oct   <U+22EF> success     -3.4        \n",
       "9987  yes     no      cellular  nov   <U+22EF> nonexistent -0.1        \n",
       "9988  yes     no      cellular  aug   <U+22EF> nonexistent  1.4        \n",
       "9989  yes     no      telephone may   <U+22EF> nonexistent  1.1        \n",
       "9990  yes     no      cellular  jul   <U+22EF> nonexistent  1.4        \n",
       "9991  no      no      cellular  aug   <U+22EF> nonexistent  1.4        \n",
       "9992  no      no      cellular  apr   <U+22EF> nonexistent -1.8        \n",
       "9993  no      no      cellular  aug   <U+22EF> nonexistent  1.4        \n",
       "9994  yes     yes     cellular  jul   <U+22EF> nonexistent  1.4        \n",
       "9995  yes     no      cellular  aug   <U+22EF> nonexistent  1.4        \n",
       "9996  yes     yes     cellular  may   <U+22EF> nonexistent -1.8        \n",
       "9997  yes     no      cellular  apr   <U+22EF> nonexistent -1.8        \n",
       "9998  yes     yes     cellular  aug   <U+22EF> nonexistent  1.4        \n",
       "9999  yes     yes     cellular  aug   <U+22EF> nonexistent  1.4        \n",
       "10000 no      no      cellular  jul   <U+22EF> nonexistent  1.4        \n",
       "      cons.price.idx cons.conf.idx euribor3m nr.employed missing_age\n",
       "1     93.918         -42.7         4.961     5228.1      0          \n",
       "2     93.918         -42.7         4.963     5228.1      0          \n",
       "3     92.201         -31.4         0.883     5076.2      0          \n",
       "4     93.075         -47.1         1.405     5099.1      0          \n",
       "5     92.893         -46.2         1.266     5099.1      0          \n",
       "6     93.876         -40.0         0.668     5008.7      0          \n",
       "7     93.075         -47.1         1.405     5099.1      0          \n",
       "8     93.918         -42.7         4.968     5228.1      0          \n",
       "9     93.994         -36.4         4.860     5191.0      0          \n",
       "10    92.963         -40.8         1.266     5076.2      0          \n",
       "11    93.994         -36.4         4.857     5191.0      0          \n",
       "12    93.075         -47.1         1.405     5099.1      0          \n",
       "13    93.444         -36.1         4.965     5228.1      0          \n",
       "14    94.601         -49.5         1.029     4963.6      0          \n",
       "15    94.465         -41.8         4.864     5228.1      0          \n",
       "16    94.465         -41.8         4.958     5228.1      0          \n",
       "17    93.918         -42.7         4.962     5228.1      0          \n",
       "18    93.444         -36.1         4.963     5228.1      0          \n",
       "19    92.893         -46.2         1.281     5099.1      1          \n",
       "20    93.200         -42.0         4.120     5195.8      0          \n",
       "21    94.465         -41.8         4.959     5228.1      0          \n",
       "22    93.918         -42.7         4.963     5228.1      0          \n",
       "23    93.200         -42.0         4.021     5195.8      0          \n",
       "24    92.963         -40.8         1.262     5076.2      0          \n",
       "25    93.444         -36.1         4.964     5228.1      0          \n",
       "26    93.200         -42.0         4.120     5195.8      0          \n",
       "27    92.201         -31.4         0.873     5076.2      0          \n",
       "28    94.055         -39.8         0.704     4991.6      0          \n",
       "29    93.994         -36.4         4.857     5191.0      0          \n",
       "30    93.444         -36.1         4.963     5228.1      0          \n",
       "<U+22EE>     <U+22EE>       <U+22EE>      <U+22EE>  <U+22EE>    <U+22EE>   \n",
       "9971  93.444         -36.1         4.970     5228.1      0          \n",
       "9972  93.918         -42.7         4.958     5228.1      0          \n",
       "9973  93.444         -36.1         4.964     5228.1      0          \n",
       "9974  94.465         -41.8         4.960     5228.1      0          \n",
       "9975  93.994         -36.4         4.857     5191.0      0          \n",
       "9976  93.918         -42.7         4.963     5228.1      0          \n",
       "9977  92.893         -46.2         1.266     5099.1      0          \n",
       "9978  93.994         -36.4         4.860     5191.0      0          \n",
       "9979  93.994         -36.4         4.858     5191.0      0          \n",
       "9980  93.918         -42.7         4.960     5228.1      0          \n",
       "9981  93.444         -36.1            NA     5228.1      0          \n",
       "9982  93.444         -36.1         4.966     5228.1      0          \n",
       "9983  93.994         -36.4         4.857     5191.0      0          \n",
       "9984  93.200         -42.0         4.076     5195.8      0          \n",
       "9985  93.994         -36.4         4.859     5191.0      0          \n",
       "9986  92.431         -26.9         0.735     5017.5      0          \n",
       "9987  93.200         -42.0         4.191     5195.8      0          \n",
       "9988  93.444         -36.1         4.964     5228.1      0          \n",
       "9989  93.994         -36.4         4.856     5191.0      0          \n",
       "9990  93.918         -42.7         4.957     5228.1      0          \n",
       "9991  93.444         -36.1         4.963     5228.1      0          \n",
       "9992  93.075         -47.1         1.405     5099.1      0          \n",
       "9993  93.444         -36.1         4.963     5228.1      0          \n",
       "9994  93.918         -42.7         4.962     5228.1      0          \n",
       "9995  93.444         -36.1         4.963     5228.1      0          \n",
       "9996  92.893         -46.2         1.354     5099.1      0          \n",
       "9997  93.075         -47.1         1.405     5099.1      0          \n",
       "9998  93.444         -36.1         4.964     5228.1      0          \n",
       "9999  93.444         -36.1         4.965     5228.1      0          \n",
       "10000 93.918         -42.7         4.962     5228.1      0          \n",
       "      missing_campaign replace999 missing_pdays\n",
       "1     0                0          0            \n",
       "2     0                0          0            \n",
       "3     0                0          0            \n",
       "4     0                0          0            \n",
       "5     0                0          0            \n",
       "6     0                0          0            \n",
       "7     0                0          0            \n",
       "8     0                0          0            \n",
       "9     0                0          0            \n",
       "10    0                0          0            \n",
       "11    0                0          0            \n",
       "12    0                0          0            \n",
       "13    0                0          0            \n",
       "14    0                0          0            \n",
       "15    0                0          0            \n",
       "16    0                0          0            \n",
       "17    0                0          0            \n",
       "18    0                0          0            \n",
       "19    0                0          0            \n",
       "20    0                0          0            \n",
       "21    0                0          0            \n",
       "22    0                0          0            \n",
       "23    0                0          0            \n",
       "24    0                0          0            \n",
       "25    0                0          0            \n",
       "26    0                0          0            \n",
       "27    0                0          0            \n",
       "28    0                0          0            \n",
       "29    0                0          0            \n",
       "30    0                0          0            \n",
       "<U+22EE>     <U+22EE>         <U+22EE>   <U+22EE>     \n",
       "9971  0                0          0            \n",
       "9972  0                0          0            \n",
       "9973  0                0          0            \n",
       "9974  0                0          0            \n",
       "9975  0                0          0            \n",
       "9976  0                0          0            \n",
       "9977  0                0          0            \n",
       "9978  0                0          0            \n",
       "9979  0                0          0            \n",
       "9980  1                0          0            \n",
       "9981  0                0          0            \n",
       "9982  0                0          0            \n",
       "9983  0                0          0            \n",
       "9984  0                0          0            \n",
       "9985  0                0          0            \n",
       "9986  0                0          0            \n",
       "9987  0                0          0            \n",
       "9988  0                0          0            \n",
       "9989  0                0          0            \n",
       "9990  0                0          0            \n",
       "9991  0                0          0            \n",
       "9992  0                0          0            \n",
       "9993  0                0          0            \n",
       "9994  0                0          0            \n",
       "9995  0                0          0            \n",
       "9996  0                0          0            \n",
       "9997  0                0          0            \n",
       "9998  0                0          0            \n",
       "9999  0                0          0            \n",
       "10000 0                0          0            "
      ]
     },
     "metadata": {},
     "output_type": "display_data"
    }
   ],
   "source": [
    "test"
   ]
  },
  {
   "cell_type": "code",
   "execution_count": 85,
   "id": "08c32ef0",
   "metadata": {
    "lines_to_next_cell": 2
   },
   "outputs": [
    {
     "data": {
      "text/html": [
       "<table class=\"dataframe\">\n",
       "<caption>A data.frame: 8 × 2</caption>\n",
       "<thead>\n",
       "\t<tr><th scope=col>Var1</th><th scope=col>Freq</th></tr>\n",
       "\t<tr><th scope=col>&lt;fct&gt;</th><th scope=col>&lt;int&gt;</th></tr>\n",
       "</thead>\n",
       "<tbody>\n",
       "\t<tr><td>0</td><td>8511</td></tr>\n",
       "\t<tr><td>1</td><td>1115</td></tr>\n",
       "\t<tr><td>2</td><td> 188</td></tr>\n",
       "\t<tr><td>3</td><td>  51</td></tr>\n",
       "\t<tr><td>4</td><td>  23</td></tr>\n",
       "\t<tr><td>5</td><td>   4</td></tr>\n",
       "\t<tr><td>6</td><td>   2</td></tr>\n",
       "\t<tr><td>7</td><td>   1</td></tr>\n",
       "</tbody>\n",
       "</table>\n"
      ],
      "text/latex": [
       "A data.frame: 8 × 2\n",
       "\\begin{tabular}{ll}\n",
       " Var1 & Freq\\\\\n",
       " <fct> & <int>\\\\\n",
       "\\hline\n",
       "\t 0 & 8511\\\\\n",
       "\t 1 & 1115\\\\\n",
       "\t 2 &  188\\\\\n",
       "\t 3 &   51\\\\\n",
       "\t 4 &   23\\\\\n",
       "\t 5 &    4\\\\\n",
       "\t 6 &    2\\\\\n",
       "\t 7 &    1\\\\\n",
       "\\end{tabular}\n"
      ],
      "text/markdown": [
       "\n",
       "A data.frame: 8 × 2\n",
       "\n",
       "| Var1 &lt;fct&gt; | Freq &lt;int&gt; |\n",
       "|---|---|\n",
       "| 0 | 8511 |\n",
       "| 1 | 1115 |\n",
       "| 2 |  188 |\n",
       "| 3 |   51 |\n",
       "| 4 |   23 |\n",
       "| 5 |    4 |\n",
       "| 6 |    2 |\n",
       "| 7 |    1 |\n",
       "\n"
      ],
      "text/plain": [
       "  Var1 Freq\n",
       "1 0    8511\n",
       "2 1    1115\n",
       "3 2     188\n",
       "4 3      51\n",
       "5 4      23\n",
       "6 5       4\n",
       "7 6       2\n",
       "8 7       1"
      ]
     },
     "metadata": {},
     "output_type": "display_data"
    }
   ],
   "source": [
    "# For previous variable\n",
    "\n",
    "# We count the unique values frequency first\n",
    "as.data.frame(table(test$previous))"
   ]
  },
  {
   "cell_type": "code",
   "execution_count": 86,
   "id": "f659d9fd",
   "metadata": {
    "lines_to_next_cell": 2
   },
   "outputs": [],
   "source": [
    "# We can either replace missing values by the median + tracking missing or creating categorical variables with a new category\n",
    "# -> We will first try by assigning the median and tracking the missing data, we can improve this later for the modelling\n",
    "\n",
    "# First step: new variable \n",
    "test$missing_previous <- ifelse(is.na(test$previous) == TRUE, 1, 0)\n",
    "\n",
    "# Second step: replacing NA\n",
    "test$previous[is.na(test$previous)]<-median(test$previous,na.rm=TRUE)"
   ]
  },
  {
   "cell_type": "code",
   "execution_count": 87,
   "id": "87d2a677",
   "metadata": {
    "lines_to_next_cell": 2
   },
   "outputs": [],
   "source": [
    "# Finally, emp.var.rate, cons.price.idx, cons.conf.idx, euribor3m, nr.employed will be replaced by the mean\n",
    "\n",
    "# First step: new variables \n",
    "test$missing_emp.var.rate <- ifelse(is.na(test$emp.var.rate) == TRUE, 1, 0)\n",
    "test$missing_cons.price.idx <- ifelse(is.na(test$cons.price.idx) == TRUE, 1, 0)\n",
    "test$missing_cons.conf.idx <- ifelse(is.na(test$cons.conf.idx) == TRUE, 1, 0)\n",
    "test$missing_euribor3m <- ifelse(is.na(test$euribor3m) == TRUE, 1, 0)\n",
    "test$missing_nr.employed <- ifelse(is.na(test$nr.employed) == TRUE, 1, 0)\n",
    "\n",
    "# Second step: replacing NA\n",
    "test$emp.var.rate[is.na(test$emp.var.rate)]<-mean(test$emp.var.rate,na.rm=TRUE)\n",
    "test$cons.price.idx[is.na(test$cons.price.idx)]<-mean(test$cons.price.idx,na.rm=TRUE)\n",
    "test$cons.conf.idx[is.na(test$cons.conf.idx)]<-mean(test$cons.conf.idx,na.rm=TRUE)\n",
    "test$euribor3m[is.na(test$euribor3m)]<-mean(test$euribor3m,na.rm=TRUE)\n",
    "test$nr.employed[is.na(test$nr.employed)]<-mean(test$nr.employed,na.rm=TRUE)"
   ]
  },
  {
   "cell_type": "code",
   "execution_count": 88,
   "id": "98192c6a",
   "metadata": {
    "lines_to_next_cell": 2
   },
   "outputs": [
    {
     "data": {
      "text/html": [
       "<style>\n",
       ".dl-inline {width: auto; margin:0; padding: 0}\n",
       ".dl-inline>dt, .dl-inline>dd {float: none; width: auto; display: inline-block}\n",
       ".dl-inline>dt::after {content: \":\\0020\"; padding-right: .5ex}\n",
       ".dl-inline>dt:not(:first-of-type) {padding-left: .5ex}\n",
       "</style><dl class=dl-inline><dt>client_id</dt><dd>0</dd><dt>age</dt><dd>0</dd><dt>job</dt><dd>0</dd><dt>marital</dt><dd>0</dd><dt>education</dt><dd>0</dd><dt>default</dt><dd>0</dd><dt>housing</dt><dd>0</dd><dt>loan</dt><dd>0</dd><dt>contact</dt><dd>0</dd><dt>month</dt><dd>0</dd><dt>day_of_week</dt><dd>0</dd><dt>campaign</dt><dd>0</dd><dt>pdays</dt><dd>0</dd><dt>previous</dt><dd>0</dd><dt>poutcome</dt><dd>0</dd><dt>emp.var.rate</dt><dd>0</dd><dt>cons.price.idx</dt><dd>0</dd><dt>cons.conf.idx</dt><dd>0</dd><dt>euribor3m</dt><dd>0</dd><dt>nr.employed</dt><dd>0</dd><dt>missing_age</dt><dd>0</dd><dt>missing_campaign</dt><dd>0</dd><dt>replace999</dt><dd>0</dd><dt>missing_pdays</dt><dd>0</dd><dt>missing_previous</dt><dd>0</dd><dt>missing_emp.var.rate</dt><dd>0</dd><dt>missing_cons.price.idx</dt><dd>0</dd><dt>missing_cons.conf.idx</dt><dd>0</dd><dt>missing_euribor3m</dt><dd>0</dd><dt>missing_nr.employed</dt><dd>0</dd></dl>\n"
      ],
      "text/latex": [
       "\\begin{description*}\n",
       "\\item[client\\textbackslash{}\\_id] 0\n",
       "\\item[age] 0\n",
       "\\item[job] 0\n",
       "\\item[marital] 0\n",
       "\\item[education] 0\n",
       "\\item[default] 0\n",
       "\\item[housing] 0\n",
       "\\item[loan] 0\n",
       "\\item[contact] 0\n",
       "\\item[month] 0\n",
       "\\item[day\\textbackslash{}\\_of\\textbackslash{}\\_week] 0\n",
       "\\item[campaign] 0\n",
       "\\item[pdays] 0\n",
       "\\item[previous] 0\n",
       "\\item[poutcome] 0\n",
       "\\item[emp.var.rate] 0\n",
       "\\item[cons.price.idx] 0\n",
       "\\item[cons.conf.idx] 0\n",
       "\\item[euribor3m] 0\n",
       "\\item[nr.employed] 0\n",
       "\\item[missing\\textbackslash{}\\_age] 0\n",
       "\\item[missing\\textbackslash{}\\_campaign] 0\n",
       "\\item[replace999] 0\n",
       "\\item[missing\\textbackslash{}\\_pdays] 0\n",
       "\\item[missing\\textbackslash{}\\_previous] 0\n",
       "\\item[missing\\textbackslash{}\\_emp.var.rate] 0\n",
       "\\item[missing\\textbackslash{}\\_cons.price.idx] 0\n",
       "\\item[missing\\textbackslash{}\\_cons.conf.idx] 0\n",
       "\\item[missing\\textbackslash{}\\_euribor3m] 0\n",
       "\\item[missing\\textbackslash{}\\_nr.employed] 0\n",
       "\\end{description*}\n"
      ],
      "text/markdown": [
       "client_id\n",
       ":   0age\n",
       ":   0job\n",
       ":   0marital\n",
       ":   0education\n",
       ":   0default\n",
       ":   0housing\n",
       ":   0loan\n",
       ":   0contact\n",
       ":   0month\n",
       ":   0day_of_week\n",
       ":   0campaign\n",
       ":   0pdays\n",
       ":   0previous\n",
       ":   0poutcome\n",
       ":   0emp.var.rate\n",
       ":   0cons.price.idx\n",
       ":   0cons.conf.idx\n",
       ":   0euribor3m\n",
       ":   0nr.employed\n",
       ":   0missing_age\n",
       ":   0missing_campaign\n",
       ":   0replace999\n",
       ":   0missing_pdays\n",
       ":   0missing_previous\n",
       ":   0missing_emp.var.rate\n",
       ":   0missing_cons.price.idx\n",
       ":   0missing_cons.conf.idx\n",
       ":   0missing_euribor3m\n",
       ":   0missing_nr.employed\n",
       ":   0\n",
       "\n"
      ],
      "text/plain": [
       "             client_id                    age                    job \n",
       "                     0                      0                      0 \n",
       "               marital              education                default \n",
       "                     0                      0                      0 \n",
       "               housing                   loan                contact \n",
       "                     0                      0                      0 \n",
       "                 month            day_of_week               campaign \n",
       "                     0                      0                      0 \n",
       "                 pdays               previous               poutcome \n",
       "                     0                      0                      0 \n",
       "          emp.var.rate         cons.price.idx          cons.conf.idx \n",
       "                     0                      0                      0 \n",
       "             euribor3m            nr.employed            missing_age \n",
       "                     0                      0                      0 \n",
       "      missing_campaign             replace999          missing_pdays \n",
       "                     0                      0                      0 \n",
       "      missing_previous   missing_emp.var.rate missing_cons.price.idx \n",
       "                     0                      0                      0 \n",
       " missing_cons.conf.idx      missing_euribor3m    missing_nr.employed \n",
       "                     0                      0                      0 "
      ]
     },
     "metadata": {},
     "output_type": "display_data"
    }
   ],
   "source": [
    "# Checking missing values per variables in test\n",
    "missing_values <- sapply(test, function(x) sum(is.na(x)))\n",
    "missing_values"
   ]
  },
  {
   "cell_type": "code",
   "execution_count": 89,
   "id": "aef12a8f",
   "metadata": {
    "lines_to_next_cell": 2
   },
   "outputs": [
    {
     "name": "stdout",
     "output_type": "stream",
     "text": [
      "'data.frame':\t10000 obs. of  30 variables:\n",
      " $ client_id             : int  2986 29710 38938 31313 24173 14426 40159 12301 9640 19742 ...\n",
      " $ age                   : num  53 32 70 46 35 24 33 38 37 36 ...\n",
      " $ job                   : chr  \"technician\" \"blue-collar\" \"retired\" \"services\" ...\n",
      " $ marital               : chr  \"single\" \"married\" \"married\" \"married\" ...\n",
      " $ education             : chr  \"professional.course\" \"basic.6y\" \"high.school\" \"high.school\" ...\n",
      " $ default               : chr  \"no\" \"no\" \"no\" \"no\" ...\n",
      " $ housing               : chr  \"no\" \"yes\" \"yes\" \"no\" ...\n",
      " $ loan                  : chr  \"no\" \"no\" \"no\" \"no\" ...\n",
      " $ contact               : chr  \"cellular\" \"telephone\" \"cellular\" \"cellular\" ...\n",
      " $ month                 : chr  \"jul\" \"jul\" \"aug\" \"apr\" ...\n",
      " $ day_of_week           : chr  \"tue\" \"wed\" \"tue\" \"mon\" ...\n",
      " $ campaign              : num  1 2 1 1 1 2 3 18 5 1 ...\n",
      " $ pdays                 : num  0 0 0 0 0 6 0 0 0 3 ...\n",
      " $ previous              : int  0 0 0 1 1 2 0 0 0 1 ...\n",
      " $ poutcome              : chr  \"nonexistent\" \"nonexistent\" \"nonexistent\" \"failure\" ...\n",
      " $ emp.var.rate          : num  1.4 1.4 -2.9 -1.8 -1.8 -1.8 -1.8 1.4 1.1 -2.9 ...\n",
      " $ cons.price.idx        : num  93.9 93.9 92.2 93.1 92.9 ...\n",
      " $ cons.conf.idx         : num  -42.7 -42.7 -31.4 -47.1 -46.2 -40 -47.1 -42.7 -36.4 -40.8 ...\n",
      " $ euribor3m             : num  4.961 4.963 0.883 1.405 1.266 ...\n",
      " $ nr.employed           : num  5228 5228 5076 5099 5099 ...\n",
      " $ missing_age           : num  0 0 0 0 0 0 0 0 0 0 ...\n",
      " $ missing_campaign      : num  0 0 0 0 0 0 0 0 0 0 ...\n",
      " $ replace999            : num  0 0 0 0 0 0 0 0 0 0 ...\n",
      " $ missing_pdays         : num  0 0 0 0 0 0 0 0 0 0 ...\n",
      " $ missing_previous      : num  0 0 0 0 0 0 0 0 0 0 ...\n",
      " $ missing_emp.var.rate  : num  0 0 0 0 0 0 0 0 0 0 ...\n",
      " $ missing_cons.price.idx: num  0 0 0 0 0 0 0 0 0 0 ...\n",
      " $ missing_cons.conf.idx : num  0 0 0 0 0 0 0 0 0 0 ...\n",
      " $ missing_euribor3m     : num  0 0 0 0 0 0 0 0 0 0 ...\n",
      " $ missing_nr.employed   : num  0 0 0 0 0 0 0 0 0 0 ...\n"
     ]
    }
   ],
   "source": [
    "# See final test table \n",
    "\n",
    "str(test)"
   ]
  },
  {
   "cell_type": "code",
   "execution_count": 90,
   "id": "87f4e931",
   "metadata": {
    "lines_to_next_cell": 2
   },
   "outputs": [],
   "source": [
    "# From the correlation in train set we decided to remove some variables not correlated to our target. We will also delete them for our test set. It was day, loan and trackers variables\n",
    "\n",
    "test = subset(test, select=-c(client_id, loan, day_of_week, missing_age, missing_campaign, replace999, missing_pdays, missing_previous, missing_emp.var.rate, missing_cons.price.idx, missing_cons.conf.idx, missing_euribor3m , missing_nr.employed))"
   ]
  },
  {
   "cell_type": "markdown",
   "id": "b090da7c",
   "metadata": {
    "lines_to_next_cell": 2
   },
   "source": [
    "\n",
    "### Last steps before Modeling Test"
   ]
  },
  {
   "cell_type": "code",
   "execution_count": 91,
   "id": "21647b1f",
   "metadata": {
    "lines_to_next_cell": 2
   },
   "outputs": [
    {
     "name": "stdout",
     "output_type": "stream",
     "text": [
      "'data.frame':\t10000 obs. of  17 variables:\n",
      " $ age           : num  53 32 70 46 35 24 33 38 37 36 ...\n",
      " $ job           : chr  \"technician\" \"blue-collar\" \"retired\" \"services\" ...\n",
      " $ marital       : chr  \"single\" \"married\" \"married\" \"married\" ...\n",
      " $ education     : chr  \"professional.course\" \"basic.6y\" \"high.school\" \"high.school\" ...\n",
      " $ default       : chr  \"no\" \"no\" \"no\" \"no\" ...\n",
      " $ housing       : chr  \"no\" \"yes\" \"yes\" \"no\" ...\n",
      " $ contact       : chr  \"cellular\" \"telephone\" \"cellular\" \"cellular\" ...\n",
      " $ month         : chr  \"jul\" \"jul\" \"aug\" \"apr\" ...\n",
      " $ campaign      : num  1 2 1 1 1 2 3 18 5 1 ...\n",
      " $ pdays         : num  0 0 0 0 0 6 0 0 0 3 ...\n",
      " $ previous      : int  0 0 0 1 1 2 0 0 0 1 ...\n",
      " $ poutcome      : chr  \"nonexistent\" \"nonexistent\" \"nonexistent\" \"failure\" ...\n",
      " $ emp.var.rate  : num  1.4 1.4 -2.9 -1.8 -1.8 -1.8 -1.8 1.4 1.1 -2.9 ...\n",
      " $ cons.price.idx: num  93.9 93.9 92.2 93.1 92.9 ...\n",
      " $ cons.conf.idx : num  -42.7 -42.7 -31.4 -47.1 -46.2 -40 -47.1 -42.7 -36.4 -40.8 ...\n",
      " $ euribor3m     : num  4.961 4.963 0.883 1.405 1.266 ...\n",
      " $ nr.employed   : num  5228 5228 5076 5099 5099 ...\n"
     ]
    }
   ],
   "source": [
    "str(test)"
   ]
  },
  {
   "cell_type": "markdown",
   "id": "aa9fda6c",
   "metadata": {
    "lines_to_next_cell": 2
   },
   "source": [
    "\n",
    "#### 1. Replacing categorical string by numerical category"
   ]
  },
  {
   "cell_type": "markdown",
   "id": "50af0095",
   "metadata": {
    "lines_to_next_cell": 2
   },
   "source": [
    "\n",
    "These variables are job, marital, education, default, housing, contact, month and poutcome "
   ]
  },
  {
   "cell_type": "code",
   "execution_count": 92,
   "id": "6a7f9bc2",
   "metadata": {
    "lines_to_next_cell": 2
   },
   "outputs": [
    {
     "data": {
      "text/html": [
       "<style>\n",
       ".list-inline {list-style: none; margin:0; padding: 0}\n",
       ".list-inline>li {display: inline-block}\n",
       ".list-inline>li:not(:last-child)::after {content: \"\\00b7\"; padding: 0 .5ex}\n",
       "</style>\n",
       "<ol class=list-inline><li>'6'</li><li>'4'</li><li>'3'</li><li>'8'</li><li>'2'</li><li>'9'</li><li>'11'</li><li>'7'</li><li>'10'</li><li>'1'</li><li>'5'</li><li>'0'</li></ol>\n"
      ],
      "text/latex": [
       "\\begin{enumerate*}\n",
       "\\item '6'\n",
       "\\item '4'\n",
       "\\item '3'\n",
       "\\item '8'\n",
       "\\item '2'\n",
       "\\item '9'\n",
       "\\item '11'\n",
       "\\item '7'\n",
       "\\item '10'\n",
       "\\item '1'\n",
       "\\item '5'\n",
       "\\item '0'\n",
       "\\end{enumerate*}\n"
      ],
      "text/markdown": [
       "1. '6'\n",
       "2. '4'\n",
       "3. '3'\n",
       "4. '8'\n",
       "5. '2'\n",
       "6. '9'\n",
       "7. '11'\n",
       "8. '7'\n",
       "9. '10'\n",
       "10. '1'\n",
       "11. '5'\n",
       "12. '0'\n",
       "\n",
       "\n"
      ],
      "text/plain": [
       " [1] \"6\"  \"4\"  \"3\"  \"8\"  \"2\"  \"9\"  \"11\" \"7\"  \"10\" \"1\"  \"5\"  \"0\" "
      ]
     },
     "metadata": {},
     "output_type": "display_data"
    }
   ],
   "source": [
    "# Jobs\n",
    "\n",
    "# Replacing job category in numerical category\n",
    "\n",
    "test[\"job\"][test[\"job\"] == \"management\"] <- 11\n",
    "test[\"job\"][test[\"job\"] == \"entrepreneur\"] <- 10\n",
    "test[\"job\"][test[\"job\"] == \"admin.\"] <- 9\n",
    "test[\"job\"][test[\"job\"] == \"services\"] <- 8\n",
    "test[\"job\"][test[\"job\"] == \"self-employed\"] <- 7\n",
    "test[\"job\"][test[\"job\"] == \"technician\"] <- 6\n",
    "test[\"job\"][test[\"job\"] == \"housemaid\"] <- 5\n",
    "test[\"job\"][test[\"job\"] == \"blue-collar\"] <- 4\n",
    "test[\"job\"][test[\"job\"] == \"retired\"] <- 3\n",
    "test[\"job\"][test[\"job\"] == \"student\"] <- 2\n",
    "test[\"job\"][test[\"job\"] == \"unemployed\"] <- 1\n",
    "test[\"job\"][test[\"job\"] == \"unknown\"] <- 0\n",
    "\n",
    "# Checking for unique value \n",
    "unique(test$job)"
   ]
  },
  {
   "cell_type": "code",
   "execution_count": 93,
   "id": "dd52d3a6",
   "metadata": {
    "lines_to_next_cell": 2
   },
   "outputs": [
    {
     "data": {
      "text/html": [
       "<style>\n",
       ".list-inline {list-style: none; margin:0; padding: 0}\n",
       ".list-inline>li {display: inline-block}\n",
       ".list-inline>li:not(:last-child)::after {content: \"\\00b7\"; padding: 0 .5ex}\n",
       "</style>\n",
       "<ol class=list-inline><li>'1'</li><li>'3'</li><li>'2'</li><li>'0'</li></ol>\n"
      ],
      "text/latex": [
       "\\begin{enumerate*}\n",
       "\\item '1'\n",
       "\\item '3'\n",
       "\\item '2'\n",
       "\\item '0'\n",
       "\\end{enumerate*}\n"
      ],
      "text/markdown": [
       "1. '1'\n",
       "2. '3'\n",
       "3. '2'\n",
       "4. '0'\n",
       "\n",
       "\n"
      ],
      "text/plain": [
       "[1] \"1\" \"3\" \"2\" \"0\""
      ]
     },
     "metadata": {},
     "output_type": "display_data"
    }
   ],
   "source": [
    "# Marital\n",
    "\n",
    "# Replacing with numerical category\n",
    "test[\"marital\"][test[\"marital\"] == \"married\"] <- 3\n",
    "test[\"marital\"][test[\"marital\"] == \"divorced\"] <- 2\n",
    "test[\"marital\"][test[\"marital\"] == \"single\"] <- 1\n",
    "test[\"marital\"][test[\"marital\"] == \"unknown\"] <- 0\n",
    "\n",
    "# Checking for unique value \n",
    "unique(test$marital)"
   ]
  },
  {
   "cell_type": "code",
   "execution_count": 94,
   "id": "5577a80f",
   "metadata": {
    "lines_to_next_cell": 2
   },
   "outputs": [
    {
     "data": {
      "text/html": [
       "<style>\n",
       ".list-inline {list-style: none; margin:0; padding: 0}\n",
       ".list-inline>li {display: inline-block}\n",
       ".list-inline>li:not(:last-child)::after {content: \"\\00b7\"; padding: 0 .5ex}\n",
       "</style>\n",
       "<ol class=list-inline><li>'7'</li><li>'3'</li><li>'5'</li><li>'0'</li><li>'4'</li><li>'6'</li><li>'2'</li><li>'1'</li></ol>\n"
      ],
      "text/latex": [
       "\\begin{enumerate*}\n",
       "\\item '7'\n",
       "\\item '3'\n",
       "\\item '5'\n",
       "\\item '0'\n",
       "\\item '4'\n",
       "\\item '6'\n",
       "\\item '2'\n",
       "\\item '1'\n",
       "\\end{enumerate*}\n"
      ],
      "text/markdown": [
       "1. '7'\n",
       "2. '3'\n",
       "3. '5'\n",
       "4. '0'\n",
       "5. '4'\n",
       "6. '6'\n",
       "7. '2'\n",
       "8. '1'\n",
       "\n",
       "\n"
      ],
      "text/plain": [
       "[1] \"7\" \"3\" \"5\" \"0\" \"4\" \"6\" \"2\" \"1\""
      ]
     },
     "metadata": {},
     "output_type": "display_data"
    }
   ],
   "source": [
    "# Education\n",
    "\n",
    "# Replacing with numerical category\n",
    "test[\"education\"][test[\"education\"] == \"professional.course\"] <- 7\n",
    "test[\"education\"][test[\"education\"] == \"university.degree\"] <- 6\n",
    "test[\"education\"][test[\"education\"] == \"high.school\"] <- 5\n",
    "test[\"education\"][test[\"education\"] == \"basic.9y\"] <- 4\n",
    "test[\"education\"][test[\"education\"] == \"basic.6y\"] <- 3\n",
    "test[\"education\"][test[\"education\"] == \"basic.4y\"] <- 2\n",
    "test[\"education\"][test[\"education\"] == \"illiterate\"] <- 1\n",
    "test[\"education\"][test[\"education\"] == \"unknown\"] <- 0\n",
    "\n",
    "# Checking for unique value \n",
    "unique(test$education)"
   ]
  },
  {
   "cell_type": "code",
   "execution_count": 95,
   "id": "d3806b70",
   "metadata": {
    "lines_to_next_cell": 2
   },
   "outputs": [
    {
     "data": {
      "text/html": [
       "<style>\n",
       ".list-inline {list-style: none; margin:0; padding: 0}\n",
       ".list-inline>li {display: inline-block}\n",
       ".list-inline>li:not(:last-child)::after {content: \"\\00b7\"; padding: 0 .5ex}\n",
       "</style>\n",
       "<ol class=list-inline><li>'1'</li><li>'0'</li></ol>\n"
      ],
      "text/latex": [
       "\\begin{enumerate*}\n",
       "\\item '1'\n",
       "\\item '0'\n",
       "\\end{enumerate*}\n"
      ],
      "text/markdown": [
       "1. '1'\n",
       "2. '0'\n",
       "\n",
       "\n"
      ],
      "text/plain": [
       "[1] \"1\" \"0\""
      ]
     },
     "metadata": {},
     "output_type": "display_data"
    }
   ],
   "source": [
    "# Default\n",
    "\n",
    "# Replacing with numerical category\n",
    "test[\"default\"][test[\"default\"] == \"yes\"] <- 2\n",
    "test[\"default\"][test[\"default\"] == \"no\"] <- 1\n",
    "test[\"default\"][test[\"default\"] == \"unknown\"] <- 0\n",
    "\n",
    "# Checking for unique value \n",
    "unique(test$default)"
   ]
  },
  {
   "cell_type": "code",
   "execution_count": 96,
   "id": "676fbd38",
   "metadata": {
    "lines_to_next_cell": 2
   },
   "outputs": [
    {
     "data": {
      "text/html": [
       "<style>\n",
       ".list-inline {list-style: none; margin:0; padding: 0}\n",
       ".list-inline>li {display: inline-block}\n",
       ".list-inline>li:not(:last-child)::after {content: \"\\00b7\"; padding: 0 .5ex}\n",
       "</style>\n",
       "<ol class=list-inline><li>'1'</li><li>'2'</li><li>'0'</li></ol>\n"
      ],
      "text/latex": [
       "\\begin{enumerate*}\n",
       "\\item '1'\n",
       "\\item '2'\n",
       "\\item '0'\n",
       "\\end{enumerate*}\n"
      ],
      "text/markdown": [
       "1. '1'\n",
       "2. '2'\n",
       "3. '0'\n",
       "\n",
       "\n"
      ],
      "text/plain": [
       "[1] \"1\" \"2\" \"0\""
      ]
     },
     "metadata": {},
     "output_type": "display_data"
    }
   ],
   "source": [
    "# Housing\n",
    "\n",
    "# Replacing with numerical category\n",
    "test[\"housing\"][test[\"housing\"] == \"yes\"] <- 2\n",
    "test[\"housing\"][test[\"housing\"] == \"no\"] <- 1\n",
    "test[\"housing\"][test[\"housing\"] == \"unknown\"] <- 0\n",
    "\n",
    "# Checking for unique value \n",
    "unique(test$housing)"
   ]
  },
  {
   "cell_type": "code",
   "execution_count": 97,
   "id": "548d8cf0",
   "metadata": {
    "lines_to_next_cell": 2
   },
   "outputs": [
    {
     "data": {
      "text/html": [
       "<style>\n",
       ".list-inline {list-style: none; margin:0; padding: 0}\n",
       ".list-inline>li {display: inline-block}\n",
       ".list-inline>li:not(:last-child)::after {content: \"\\00b7\"; padding: 0 .5ex}\n",
       "</style>\n",
       "<ol class=list-inline><li>'2'</li><li>'1'</li><li>'0'</li></ol>\n"
      ],
      "text/latex": [
       "\\begin{enumerate*}\n",
       "\\item '2'\n",
       "\\item '1'\n",
       "\\item '0'\n",
       "\\end{enumerate*}\n"
      ],
      "text/markdown": [
       "1. '2'\n",
       "2. '1'\n",
       "3. '0'\n",
       "\n",
       "\n"
      ],
      "text/plain": [
       "[1] \"2\" \"1\" \"0\""
      ]
     },
     "metadata": {},
     "output_type": "display_data"
    }
   ],
   "source": [
    "# Contact\n",
    "\n",
    "# Replacing with numerical category\n",
    "test[\"contact\"][test[\"contact\"] == \"cellular\"] <- 2\n",
    "test[\"contact\"][test[\"contact\"] == \"telephone\"] <- 1\n",
    "test[\"contact\"][test[\"contact\"] == \"unknown\"] <- 0\n",
    "\n",
    "# Checking for unique value \n",
    "unique(test$contact)"
   ]
  },
  {
   "cell_type": "code",
   "execution_count": 98,
   "id": "e499a848",
   "metadata": {
    "lines_to_next_cell": 2
   },
   "outputs": [
    {
     "data": {
      "text/html": [
       "<style>\n",
       ".list-inline {list-style: none; margin:0; padding: 0}\n",
       ".list-inline>li {display: inline-block}\n",
       ".list-inline>li:not(:last-child)::after {content: \"\\00b7\"; padding: 0 .5ex}\n",
       "</style>\n",
       "<ol class=list-inline><li>'5'</li><li>'6'</li><li>'2'</li><li>'3'</li><li>'4'</li><li>'8'</li><li>'9'</li><li>'0'</li><li>'1'</li><li>'10'</li><li>'7'</li></ol>\n"
      ],
      "text/latex": [
       "\\begin{enumerate*}\n",
       "\\item '5'\n",
       "\\item '6'\n",
       "\\item '2'\n",
       "\\item '3'\n",
       "\\item '4'\n",
       "\\item '8'\n",
       "\\item '9'\n",
       "\\item '0'\n",
       "\\item '1'\n",
       "\\item '10'\n",
       "\\item '7'\n",
       "\\end{enumerate*}\n"
      ],
      "text/markdown": [
       "1. '5'\n",
       "2. '6'\n",
       "3. '2'\n",
       "4. '3'\n",
       "5. '4'\n",
       "6. '8'\n",
       "7. '9'\n",
       "8. '0'\n",
       "9. '1'\n",
       "10. '10'\n",
       "11. '7'\n",
       "\n",
       "\n"
      ],
      "text/plain": [
       " [1] \"5\"  \"6\"  \"2\"  \"3\"  \"4\"  \"8\"  \"9\"  \"0\"  \"1\"  \"10\" \"7\" "
      ]
     },
     "metadata": {},
     "output_type": "display_data"
    }
   ],
   "source": [
    "# Month\n",
    "\n",
    "# Replacing with numerical category\n",
    "test[\"month\"][test[\"month\"] == \"dec\"] <- 10\n",
    "test[\"month\"][test[\"month\"] == \"nov\"] <- 9\n",
    "test[\"month\"][test[\"month\"] == \"oct\"] <- 8\n",
    "test[\"month\"][test[\"month\"] == \"sep\"] <- 7\n",
    "test[\"month\"][test[\"month\"] == \"aug\"] <- 6\n",
    "test[\"month\"][test[\"month\"] == \"jul\"] <- 5\n",
    "test[\"month\"][test[\"month\"] == \"jun\"] <- 4\n",
    "test[\"month\"][test[\"month\"] == \"may\"] <- 3\n",
    "test[\"month\"][test[\"month\"] == \"apr\"] <- 2\n",
    "test[\"month\"][test[\"month\"] == \"mar\"] <- 1\n",
    "test[\"month\"][test[\"month\"] == \"unknown\"] <- 0\n",
    "\n",
    "# Checking for unique value \n",
    "unique(test$month)"
   ]
  },
  {
   "cell_type": "code",
   "execution_count": 99,
   "id": "b7bdf9ab",
   "metadata": {
    "lines_to_next_cell": 2
   },
   "outputs": [
    {
     "data": {
      "text/html": [
       "<style>\n",
       ".list-inline {list-style: none; margin:0; padding: 0}\n",
       ".list-inline>li {display: inline-block}\n",
       ".list-inline>li:not(:last-child)::after {content: \"\\00b7\"; padding: 0 .5ex}\n",
       "</style>\n",
       "<ol class=list-inline><li>'0'</li><li>'1'</li><li>'2'</li></ol>\n"
      ],
      "text/latex": [
       "\\begin{enumerate*}\n",
       "\\item '0'\n",
       "\\item '1'\n",
       "\\item '2'\n",
       "\\end{enumerate*}\n"
      ],
      "text/markdown": [
       "1. '0'\n",
       "2. '1'\n",
       "3. '2'\n",
       "\n",
       "\n"
      ],
      "text/plain": [
       "[1] \"0\" \"1\" \"2\""
      ]
     },
     "metadata": {},
     "output_type": "display_data"
    }
   ],
   "source": [
    "# Poutcome\n",
    "\n",
    "# Replacing with numerical category\n",
    "test[\"poutcome\"][test[\"poutcome\"] == \"success\"] <- 2\n",
    "test[\"poutcome\"][test[\"poutcome\"] == \"failure\"] <- 1\n",
    "test[\"poutcome\"][test[\"poutcome\"] == \"nonexistent\"] <- 0\n",
    "\n",
    "# Checking for unique value \n",
    "unique(test$poutcome)"
   ]
  },
  {
   "cell_type": "markdown",
   "id": "c1407a09",
   "metadata": {
    "lines_to_next_cell": 2
   },
   "source": [
    "\n",
    "##### 2. Factorization"
   ]
  },
  {
   "cell_type": "code",
   "execution_count": 100,
   "id": "99f53843",
   "metadata": {
    "lines_to_next_cell": 2
   },
   "outputs": [],
   "source": [
    "# Creating factors for our categorical data \n",
    "test$job = as.factor(test$job)\n",
    "test$marital = as.factor(test$marital)\n",
    "test$education = as.factor(test$education)\n",
    "test$contact = as.factor(test$contact)\n",
    "test$month = as.factor(test$month)\n",
    "test$poutcome = as.factor(test$poutcome)\n",
    "\n",
    "\n",
    "# Creating factors for our logical data \n",
    "test$default = as.factor(test$default)\n",
    "test$housing = as.factor(test$housing)"
   ]
  },
  {
   "cell_type": "code",
   "execution_count": 101,
   "id": "e1ebd43c",
   "metadata": {
    "lines_to_next_cell": 0
   },
   "outputs": [
    {
     "name": "stdout",
     "output_type": "stream",
     "text": [
      "'data.frame':\t10000 obs. of  17 variables:\n",
      " $ age           : num  53 32 70 46 35 24 33 38 37 36 ...\n",
      " $ job           : Factor w/ 12 levels \"0\",\"1\",\"10\",\"11\",..: 9 7 6 11 9 5 12 12 7 9 ...\n",
      " $ marital       : Factor w/ 4 levels \"0\",\"1\",\"2\",\"3\": 2 4 4 4 2 2 3 4 2 4 ...\n",
      " $ education     : Factor w/ 8 levels \"0\",\"1\",\"2\",\"3\",..: 8 4 6 6 1 6 6 6 5 7 ...\n",
      " $ default       : Factor w/ 2 levels \"0\",\"1\": 2 2 2 2 2 2 2 2 1 2 ...\n",
      " $ housing       : Factor w/ 3 levels \"0\",\"1\",\"2\": 2 3 3 2 2 3 2 3 2 2 ...\n",
      " $ contact       : Factor w/ 3 levels \"0\",\"1\",\"2\": 3 2 3 3 3 3 2 2 2 3 ...\n",
      " $ month         : Factor w/ 11 levels \"0\",\"1\",\"10\",\"2\",..: 7 7 8 4 5 5 4 7 5 6 ...\n",
      " $ campaign      : num  1 2 1 1 1 2 3 18 5 1 ...\n",
      " $ pdays         : num  0 0 0 0 0 6 0 0 0 3 ...\n",
      " $ previous      : int  0 0 0 1 1 2 0 0 0 1 ...\n",
      " $ poutcome      : Factor w/ 3 levels \"0\",\"1\",\"2\": 1 1 1 2 2 3 1 1 1 3 ...\n",
      " $ emp.var.rate  : num  1.4 1.4 -2.9 -1.8 -1.8 -1.8 -1.8 1.4 1.1 -2.9 ...\n",
      " $ cons.price.idx: num  93.9 93.9 92.2 93.1 92.9 ...\n",
      " $ cons.conf.idx : num  -42.7 -42.7 -31.4 -47.1 -46.2 -40 -47.1 -42.7 -36.4 -40.8 ...\n",
      " $ euribor3m     : num  4.961 4.963 0.883 1.405 1.266 ...\n",
      " $ nr.employed   : num  5228 5228 5076 5099 5099 ...\n"
     ]
    }
   ],
   "source": [
    "str(test)"
   ]
  },
  {
   "cell_type": "markdown",
   "id": "dc961a72",
   "metadata": {},
   "source": [
    "### Creating the 'subscribe' target variable and assigning prediction to it"
   ]
  },
  {
   "cell_type": "markdown",
   "id": "d3c0a62f",
   "metadata": {},
   "source": [
    "We will use our best algorithm in terms of AUC and accuracy from the train table models"
   ]
  },
  {
   "cell_type": "code",
   "execution_count": null,
   "id": "727cb9a4",
   "metadata": {},
   "outputs": [],
   "source": []
  }
 ],
 "metadata": {
  "jupytext": {
   "cell_metadata_filter": "-all",
   "main_language": "R",
   "notebook_metadata_filter": "-all"
  },
  "kernelspec": {
   "display_name": "R",
   "language": "R",
   "name": "ir"
  },
  "language_info": {
   "codemirror_mode": "r",
   "file_extension": ".r",
   "mimetype": "text/x-r-source",
   "name": "R",
   "pygments_lexer": "r",
   "version": "4.0.5"
  }
 },
 "nbformat": 4,
 "nbformat_minor": 5
}
