{
 "cells": [
  {
   "cell_type": "markdown",
   "id": "a6843b70",
   "metadata": {},
   "source": [
    "# Statistical - Group Project"
   ]
  },
  {
   "cell_type": "markdown",
   "id": "f3d669a3",
   "metadata": {},
   "source": [
    "###### Group members : \n",
    "\n",
    "- Fajartri Anggoro\n",
    "- Mohammad Hadi Alipour Motlagh\n",
    "- Jeanne Harling"
   ]
  },
  {
   "cell_type": "markdown",
   "id": "4ea3d981",
   "metadata": {},
   "source": [
    "### Importing libraries and data"
   ]
  },
  {
   "cell_type": "code",
   "execution_count": null,
   "id": "b667f3bc",
   "metadata": {},
   "outputs": [],
   "source": []
  }
 ],
 "metadata": {
  "kernelspec": {
   "display_name": "R",
   "language": "R",
   "name": "ir"
  },
  "language_info": {
   "codemirror_mode": "r",
   "file_extension": ".r",
   "mimetype": "text/x-r-source",
   "name": "R",
   "pygments_lexer": "r",
   "version": "4.0.5"
  }
 },
 "nbformat": 4,
 "nbformat_minor": 5
}
