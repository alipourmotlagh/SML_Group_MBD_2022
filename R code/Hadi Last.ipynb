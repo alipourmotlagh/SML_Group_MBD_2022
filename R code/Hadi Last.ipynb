{
 "cells": [
  {
   "cell_type": "markdown",
   "id": "76d138e6",
   "metadata": {
    "lines_to_next_cell": 2
   },
   "source": [
    "\n",
    "# Group project"
   ]
  },
  {
   "cell_type": "markdown",
   "id": "5932b9a4",
   "metadata": {
    "lines_to_next_cell": 2
   },
   "source": [
    "\n",
    "###### Group members: \n",
    "\n",
    "- Fajartri Anggoro\n",
    "- Mohammad Hadi Alipour Motlagh\n",
    "- Jeanne Harling"
   ]
  },
  {
   "cell_type": "markdown",
   "id": "a2fa4595",
   "metadata": {
    "lines_to_next_cell": 2
   },
   "source": [
    "\n",
    "### Importing libraries and data"
   ]
  },
  {
   "cell_type": "code",
   "execution_count": 1,
   "id": "abe6a2b3",
   "metadata": {
    "lines_to_next_cell": 2
   },
   "outputs": [
    {
     "name": "stderr",
     "output_type": "stream",
     "text": [
      "Loading required package: ParamHelpers\n",
      "\n",
      "Warning message: 'mlr' is in 'maintenance-only' mode since July 2019.\n",
      "Future development will only happen in 'mlr3'\n",
      "(<https://mlr3.mlr-org.com>). Due to the focus on 'mlr3' there might be\n",
      "uncaught bugs meanwhile in {mlr} - please consider switching.\n",
      "\n",
      "Loading required package: ggplot2\n",
      "\n",
      "Loading required package: lattice\n",
      "\n",
      "\n",
      "Attaching package: 'caret'\n",
      "\n",
      "\n",
      "The following object is masked from 'package:mlr':\n",
      "\n",
      "    train\n",
      "\n",
      "\n",
      "\n",
      "Attaching package: 'rgl'\n",
      "\n",
      "\n",
      "The following object is masked from 'package:plotrix':\n",
      "\n",
      "    mtext3d\n",
      "\n",
      "\n",
      "-- \u001b[1mAttaching packages\u001b[22m ------------------------------------------------------------------------------- tidyverse 1.3.1 --\n",
      "\n",
      "\u001b[32mv\u001b[39m \u001b[34mtibble \u001b[39m 3.1.6     \u001b[32mv\u001b[39m \u001b[34mdplyr  \u001b[39m 1.0.7\n",
      "\u001b[32mv\u001b[39m \u001b[34mtidyr  \u001b[39m 1.1.4     \u001b[32mv\u001b[39m \u001b[34mstringr\u001b[39m 1.4.0\n",
      "\u001b[32mv\u001b[39m \u001b[34mreadr  \u001b[39m 2.1.1     \u001b[32mv\u001b[39m \u001b[34mforcats\u001b[39m 0.5.1\n",
      "\u001b[32mv\u001b[39m \u001b[34mpurrr  \u001b[39m 0.3.4     \n",
      "\n",
      "-- \u001b[1mConflicts\u001b[22m ---------------------------------------------------------------------------------- tidyverse_conflicts() --\n",
      "\u001b[31mx\u001b[39m \u001b[34mdplyr\u001b[39m::\u001b[32mbetween()\u001b[39m   masks \u001b[34mdata.table\u001b[39m::between()\n",
      "\u001b[31mx\u001b[39m \u001b[34mdplyr\u001b[39m::\u001b[32mfilter()\u001b[39m    masks \u001b[34mstats\u001b[39m::filter()\n",
      "\u001b[31mx\u001b[39m \u001b[34mdplyr\u001b[39m::\u001b[32mfirst()\u001b[39m     masks \u001b[34mdata.table\u001b[39m::first()\n",
      "\u001b[31mx\u001b[39m \u001b[34mdplyr\u001b[39m::\u001b[32mlag()\u001b[39m       masks \u001b[34mstats\u001b[39m::lag()\n",
      "\u001b[31mx\u001b[39m \u001b[34mdplyr\u001b[39m::\u001b[32mlast()\u001b[39m      masks \u001b[34mdata.table\u001b[39m::last()\n",
      "\u001b[31mx\u001b[39m \u001b[34mpurrr\u001b[39m::\u001b[32mlift()\u001b[39m      masks \u001b[34mcaret\u001b[39m::lift()\n",
      "\u001b[31mx\u001b[39m \u001b[34mpurrr\u001b[39m::\u001b[32mtranspose()\u001b[39m masks \u001b[34mdata.table\u001b[39m::transpose()\n",
      "\n",
      "Loading required package: tracerer\n",
      "\n",
      "Loading required package: corrplot\n",
      "\n",
      "corrplot 0.92 loaded\n",
      "\n",
      "Loading required package: DataExplorer\n",
      "\n",
      "randomForest 4.6-14\n",
      "\n",
      "Type rfNews() to see new features/changes/bug fixes.\n",
      "\n",
      "\n",
      "Attaching package: 'randomForest'\n",
      "\n",
      "\n",
      "The following object is masked from 'package:dplyr':\n",
      "\n",
      "    combine\n",
      "\n",
      "\n",
      "The following object is masked from 'package:ggplot2':\n",
      "\n",
      "    margin\n",
      "\n",
      "\n",
      "Registered S3 method overwritten by 'tree':\n",
      "  method     from\n",
      "  print.tree cli \n",
      "\n",
      "\n",
      "Attaching package: 'e1071'\n",
      "\n",
      "\n",
      "The following object is masked from 'package:mlr':\n",
      "\n",
      "    impute\n",
      "\n",
      "\n",
      "\n",
      "Attaching package: 'MASS'\n",
      "\n",
      "\n",
      "The following object is masked from 'package:dplyr':\n",
      "\n",
      "    select\n",
      "\n",
      "\n",
      "Loading required package: ROCR\n",
      "\n",
      "\n",
      "Attaching package: 'ROCR'\n",
      "\n",
      "\n",
      "The following object is masked from 'package:mlr':\n",
      "\n",
      "    performance\n",
      "\n",
      "\n",
      "Loading required package: Hmisc\n",
      "\n",
      "Loading required package: survival\n",
      "\n",
      "\n",
      "Attaching package: 'survival'\n",
      "\n",
      "\n",
      "The following object is masked from 'package:caret':\n",
      "\n",
      "    cluster\n",
      "\n",
      "\n",
      "Loading required package: Formula\n",
      "\n",
      "\n",
      "Attaching package: 'Hmisc'\n",
      "\n",
      "\n",
      "The following object is masked from 'package:e1071':\n",
      "\n",
      "    impute\n",
      "\n",
      "\n",
      "The following objects are masked from 'package:dplyr':\n",
      "\n",
      "    src, summarize\n",
      "\n",
      "\n",
      "The following object is masked from 'package:mlr':\n",
      "\n",
      "    impute\n",
      "\n",
      "\n",
      "The following objects are masked from 'package:base':\n",
      "\n",
      "    format.pval, units\n",
      "\n",
      "\n",
      "Loading required package: correlation\n",
      "\n"
     ]
    }
   ],
   "source": [
    "# Import libraries\n",
    "library(data.table)  # Data manipulate\n",
    "library(mlr)         # ML toolkit\n",
    "library(caret)       # ML toolkit\n",
    "library(ggplot2)     # Visualization\n",
    "library(plotrix)     # Draw circle\n",
    "library(rgl)         # 3D plots\n",
    "library(tidyverse)\n",
    "if(!require(\"tracerer\")) install.packages(\"tracerer\"); library(\"tracerer\")\n",
    "library(ggplot2)\n",
    "if(!require(\"corrplot\")) install.packages(\"corrplot\"); library(\"corrplot\")\n",
    "if(!require(\"DataExplorer\")) install.packages(\"DataExplorer\"); library(\"DataExplorer\")\n",
    "#if(!require(\"DMwR\")) install.packages(\"DMwR\"); library(\"DMwR\")\n",
    "library(randomForest)\n",
    "library(tree)\n",
    "library(e1071)  \n",
    "library(MASS)\n",
    "if(!require(\"ROCR\")) install.packages(\"ROCR\"); library(\"ROCR\")\n",
    "if(!require(\"Hmisc\")) install.packages(\"Hmisc\"); library(\"Hmisc\")\n",
    "if(!require(\"correlation\")) install.packages(\"correlation\"); library(\"correlation\")"
   ]
  },
  {
   "cell_type": "code",
   "execution_count": 2,
   "id": "b766557d",
   "metadata": {
    "lines_to_next_cell": 2
   },
   "outputs": [],
   "source": [
    "# Importing datasets\n",
    "\n",
    "train <- read.csv(\"../Data/bank_mkt_train.csv\")\n"
   ]
  },
  {
   "cell_type": "code",
   "execution_count": 3,
   "id": "f53a566b",
   "metadata": {},
   "outputs": [],
   "source": [
    "test <- read.csv(\"../Data/bank_mkt_test.csv\")"
   ]
  },
  {
   "cell_type": "code",
   "execution_count": 4,
   "id": "be4866d5",
   "metadata": {},
   "outputs": [
    {
     "name": "stdout",
     "output_type": "stream",
     "text": [
      "'data.frame':\t10000 obs. of  20 variables:\n",
      " $ client_id     : int  2986 29710 38938 31313 24173 14426 40159 12301 9640 19742 ...\n",
      " $ age           : int  53 32 70 46 35 24 33 38 37 36 ...\n",
      " $ job           : chr  \"technician\" \"blue-collar\" \"retired\" \"services\" ...\n",
      " $ marital       : chr  \"single\" \"married\" \"married\" \"married\" ...\n",
      " $ education     : chr  \"professional.course\" \"basic.6y\" \"high.school\" \"high.school\" ...\n",
      " $ default       : chr  \"no\" \"no\" \"no\" \"no\" ...\n",
      " $ housing       : chr  \"no\" \"yes\" \"yes\" \"no\" ...\n",
      " $ loan          : chr  \"no\" \"no\" \"no\" \"no\" ...\n",
      " $ contact       : chr  \"cellular\" \"telephone\" \"cellular\" \"cellular\" ...\n",
      " $ month         : chr  \"jul\" \"jul\" \"aug\" \"apr\" ...\n",
      " $ day_of_week   : chr  \"tue\" \"wed\" \"tue\" \"mon\" ...\n",
      " $ campaign      : int  1 2 1 1 1 2 3 18 5 1 ...\n",
      " $ pdays         : int  999 999 999 999 999 6 999 999 999 3 ...\n",
      " $ previous      : int  0 0 0 1 1 2 0 0 0 1 ...\n",
      " $ poutcome      : chr  \"nonexistent\" \"nonexistent\" \"nonexistent\" \"failure\" ...\n",
      " $ emp.var.rate  : num  1.4 1.4 -2.9 -1.8 -1.8 -1.8 -1.8 1.4 1.1 -2.9 ...\n",
      " $ cons.price.idx: num  93.9 93.9 92.2 93.1 92.9 ...\n",
      " $ cons.conf.idx : num  -42.7 -42.7 -31.4 -47.1 -46.2 -40 -47.1 -42.7 -36.4 -40.8 ...\n",
      " $ euribor3m     : num  4.961 4.963 0.883 1.405 1.266 ...\n",
      " $ nr.employed   : num  5228 5228 5076 5099 5099 ...\n"
     ]
    }
   ],
   "source": [
    "str(test)"
   ]
  },
  {
   "cell_type": "code",
   "execution_count": 5,
   "id": "fc0b52ce",
   "metadata": {},
   "outputs": [
    {
     "data": {
      "text/html": [
       "<style>\n",
       ".list-inline {list-style: none; margin:0; padding: 0}\n",
       ".list-inline>li {display: inline-block}\n",
       ".list-inline>li:not(:last-child)::after {content: \"\\00b7\"; padding: 0 .5ex}\n",
       "</style>\n",
       "<ol class=list-inline><li>'no'</li><li>'unknown'</li><li>NA</li></ol>\n"
      ],
      "text/latex": [
       "\\begin{enumerate*}\n",
       "\\item 'no'\n",
       "\\item 'unknown'\n",
       "\\item NA\n",
       "\\end{enumerate*}\n"
      ],
      "text/markdown": [
       "1. 'no'\n",
       "2. 'unknown'\n",
       "3. NA\n",
       "\n",
       "\n"
      ],
      "text/plain": [
       "[1] \"no\"      \"unknown\" NA       "
      ]
     },
     "metadata": {},
     "output_type": "display_data"
    }
   ],
   "source": [
    "unique(test$default)"
   ]
  },
  {
   "cell_type": "code",
   "execution_count": 6,
   "id": "e750d8b9",
   "metadata": {
    "lines_to_next_cell": 2
   },
   "outputs": [
    {
     "data": {
      "text/html": [
       "<table class=\"dataframe\">\n",
       "<caption>A data.frame: 20000 × 21</caption>\n",
       "<thead>\n",
       "\t<tr><th scope=col>client_id</th><th scope=col>age</th><th scope=col>job</th><th scope=col>marital</th><th scope=col>education</th><th scope=col>default</th><th scope=col>housing</th><th scope=col>loan</th><th scope=col>contact</th><th scope=col>month</th><th scope=col>⋯</th><th scope=col>campaign</th><th scope=col>pdays</th><th scope=col>previous</th><th scope=col>poutcome</th><th scope=col>emp.var.rate</th><th scope=col>cons.price.idx</th><th scope=col>cons.conf.idx</th><th scope=col>euribor3m</th><th scope=col>nr.employed</th><th scope=col>subscribe</th></tr>\n",
       "\t<tr><th scope=col>&lt;int&gt;</th><th scope=col>&lt;int&gt;</th><th scope=col>&lt;chr&gt;</th><th scope=col>&lt;chr&gt;</th><th scope=col>&lt;chr&gt;</th><th scope=col>&lt;chr&gt;</th><th scope=col>&lt;chr&gt;</th><th scope=col>&lt;chr&gt;</th><th scope=col>&lt;chr&gt;</th><th scope=col>&lt;chr&gt;</th><th scope=col>⋯</th><th scope=col>&lt;int&gt;</th><th scope=col>&lt;int&gt;</th><th scope=col>&lt;int&gt;</th><th scope=col>&lt;chr&gt;</th><th scope=col>&lt;dbl&gt;</th><th scope=col>&lt;dbl&gt;</th><th scope=col>&lt;dbl&gt;</th><th scope=col>&lt;dbl&gt;</th><th scope=col>&lt;dbl&gt;</th><th scope=col>&lt;int&gt;</th></tr>\n",
       "</thead>\n",
       "<tbody>\n",
       "\t<tr><td>29925</td><td>42</td><td>management  </td><td>married </td><td>basic.9y           </td><td>no     </td><td>no     </td><td>no     </td><td>cellular </td><td>jul</td><td>⋯</td><td>1</td><td>999</td><td>0</td><td>nonexistent</td><td> 1.4</td><td>93.918</td><td>-42.7</td><td>4.968</td><td>5228.1</td><td>0</td></tr>\n",
       "\t<tr><td>37529</td><td>35</td><td>unemployed  </td><td>married </td><td>university.degree  </td><td>no     </td><td>yes    </td><td>no     </td><td>telephone</td><td>jun</td><td>⋯</td><td>4</td><td>999</td><td>0</td><td>nonexistent</td><td> 1.4</td><td>94.465</td><td>-41.8</td><td>4.960</td><td>5228.1</td><td>0</td></tr>\n",
       "\t<tr><td> 2757</td><td>44</td><td>technician  </td><td>married </td><td>basic.9y           </td><td>no     </td><td>yes    </td><td>yes    </td><td>cellular </td><td>may</td><td>⋯</td><td>1</td><td>999</td><td>0</td><td>nonexistent</td><td>-1.8</td><td>92.893</td><td>-46.2</td><td>1.264</td><td>5099.1</td><td>0</td></tr>\n",
       "\t<tr><td> 9642</td><td>45</td><td>services    </td><td>married </td><td>high.school        </td><td>no     </td><td>yes    </td><td>no     </td><td>cellular </td><td>apr</td><td>⋯</td><td>1</td><td>999</td><td>0</td><td>nonexistent</td><td>-1.8</td><td>93.075</td><td>-47.1</td><td>1.453</td><td>5099.1</td><td>0</td></tr>\n",
       "\t<tr><td>14183</td><td>45</td><td>unknown     </td><td>married </td><td>unknown            </td><td>unknown</td><td>unknown</td><td>unknown</td><td>telephone</td><td>may</td><td>⋯</td><td>1</td><td>999</td><td>0</td><td>nonexistent</td><td> 1.1</td><td>93.994</td><td>-36.4</td><td>4.859</td><td>5191.0</td><td>0</td></tr>\n",
       "\t<tr><td>15180</td><td>38</td><td>technician  </td><td>married </td><td>professional.course</td><td>no     </td><td>no     </td><td>no     </td><td>telephone</td><td>may</td><td>⋯</td><td>2</td><td>999</td><td>0</td><td>nonexistent</td><td> 1.1</td><td>93.994</td><td>-36.4</td><td>4.858</td><td>5191.0</td><td>0</td></tr>\n",
       "\t<tr><td>27168</td><td>33</td><td>technician  </td><td>married </td><td>professional.course</td><td>no     </td><td>no     </td><td>yes    </td><td>cellular </td><td>apr</td><td>⋯</td><td>1</td><td> NA</td><td>1</td><td>failure    </td><td>-1.8</td><td>93.075</td><td>-47.1</td><td>1.405</td><td>5099.1</td><td>1</td></tr>\n",
       "\t<tr><td> 9097</td><td>38</td><td>blue-collar </td><td>single  </td><td>basic.9y           </td><td>unknown</td><td>yes    </td><td>no     </td><td>telephone</td><td>may</td><td>⋯</td><td>1</td><td>999</td><td>0</td><td>nonexistent</td><td> 1.1</td><td>93.994</td><td>-36.4</td><td>4.857</td><td>5191.0</td><td>0</td></tr>\n",
       "\t<tr><td>30538</td><td>29</td><td>blue-collar </td><td>single  </td><td>unknown            </td><td>no     </td><td>yes    </td><td>no     </td><td>cellular </td><td>may</td><td>⋯</td><td>1</td><td>999</td><td>1</td><td>failure    </td><td>-1.8</td><td>92.893</td><td>-46.2</td><td>1.250</td><td>5099.1</td><td>0</td></tr>\n",
       "\t<tr><td>28981</td><td>34</td><td>admin.      </td><td>divorced</td><td>university.degree  </td><td>no     </td><td>yes    </td><td>yes    </td><td>cellular </td><td>aug</td><td>⋯</td><td>1</td><td>999</td><td>0</td><td>nonexistent</td><td> 1.4</td><td>93.444</td><td>-36.1</td><td>4.965</td><td>5228.1</td><td>0</td></tr>\n",
       "\t<tr><td> 7989</td><td>47</td><td>blue-collar </td><td>married </td><td>high.school        </td><td>unknown</td><td>yes    </td><td>no     </td><td>telephone</td><td>jun</td><td>⋯</td><td>3</td><td>999</td><td>0</td><td>nonexistent</td><td> 1.4</td><td>94.465</td><td>-41.8</td><td>4.961</td><td>5228.1</td><td>0</td></tr>\n",
       "\t<tr><td>13536</td><td>30</td><td>blue-collar </td><td>single  </td><td>basic.9y           </td><td>no     </td><td>yes    </td><td>no     </td><td>cellular </td><td>jul</td><td>⋯</td><td>1</td><td>999</td><td>0</td><td>nonexistent</td><td> 1.4</td><td>93.918</td><td>-42.7</td><td>4.963</td><td>5228.1</td><td>0</td></tr>\n",
       "\t<tr><td>24541</td><td>30</td><td>admin.      </td><td>married </td><td>basic.6y           </td><td>no     </td><td>yes    </td><td>no     </td><td>cellular </td><td>jul</td><td>⋯</td><td>1</td><td>999</td><td>0</td><td>nonexistent</td><td> 1.4</td><td>93.918</td><td>-42.7</td><td>4.958</td><td>5228.1</td><td>0</td></tr>\n",
       "\t<tr><td> 6216</td><td>35</td><td>services    </td><td>married </td><td>basic.6y           </td><td>unknown</td><td>yes    </td><td>no     </td><td>cellular </td><td>may</td><td>⋯</td><td>2</td><td>999</td><td>0</td><td>nonexistent</td><td>-1.8</td><td>92.893</td><td>-46.2</td><td>1.344</td><td>5099.1</td><td>0</td></tr>\n",
       "\t<tr><td>17983</td><td>45</td><td>management  </td><td>married </td><td>professional.course</td><td>no     </td><td>no     </td><td>no     </td><td>cellular </td><td>nov</td><td>⋯</td><td>1</td><td>999</td><td>0</td><td>nonexistent</td><td>-0.1</td><td>93.200</td><td>-42.0</td><td>4.076</td><td>5195.8</td><td>1</td></tr>\n",
       "\t<tr><td>29394</td><td>37</td><td>entrepreneur</td><td>married </td><td>university.degree  </td><td>unknown</td><td>yes    </td><td>no     </td><td>cellular </td><td>nov</td><td>⋯</td><td>2</td><td>999</td><td>1</td><td>failure    </td><td>-0.1</td><td>93.200</td><td>-42.0</td><td>4.191</td><td>5195.8</td><td>0</td></tr>\n",
       "\t<tr><td>28825</td><td>48</td><td>blue-collar </td><td>married </td><td>basic.6y           </td><td>no     </td><td>no     </td><td>no     </td><td>telephone</td><td>jun</td><td>⋯</td><td>2</td><td>999</td><td>0</td><td>nonexistent</td><td> 1.4</td><td>94.465</td><td>-41.8</td><td>4.866</td><td>5228.1</td><td>0</td></tr>\n",
       "\t<tr><td>   41</td><td>47</td><td>admin.      </td><td>married </td><td>basic.6y           </td><td>unknown</td><td>yes    </td><td>no     </td><td>cellular </td><td>apr</td><td>⋯</td><td>2</td><td>999</td><td>1</td><td>failure    </td><td>-1.8</td><td>93.075</td><td>-47.1</td><td>1.410</td><td>5099.1</td><td>0</td></tr>\n",
       "\t<tr><td> 7284</td><td>35</td><td>blue-collar </td><td>married </td><td>basic.9y           </td><td>no     </td><td>yes    </td><td>no     </td><td>telephone</td><td>may</td><td>⋯</td><td>1</td><td>999</td><td>0</td><td>nonexistent</td><td> 1.1</td><td>93.994</td><td>-36.4</td><td>4.858</td><td>5191.0</td><td>0</td></tr>\n",
       "\t<tr><td>28502</td><td>34</td><td>technician  </td><td>married </td><td>professional.course</td><td>no     </td><td>no     </td><td>no     </td><td>cellular </td><td>apr</td><td>⋯</td><td>3</td><td>999</td><td>0</td><td>nonexistent</td><td>-1.8</td><td>93.075</td><td>-47.1</td><td>1.405</td><td>5099.1</td><td>0</td></tr>\n",
       "\t<tr><td>11473</td><td>60</td><td>technician  </td><td>married </td><td>university.degree  </td><td>unknown</td><td>yes    </td><td>no     </td><td>telephone</td><td>may</td><td>⋯</td><td>5</td><td>999</td><td>0</td><td>nonexistent</td><td> 1.1</td><td>93.994</td><td>-36.4</td><td>4.855</td><td>5191.0</td><td>0</td></tr>\n",
       "\t<tr><td> 6134</td><td>35</td><td>services    </td><td>single  </td><td>high.school        </td><td>no     </td><td>no     </td><td>no     </td><td>cellular </td><td>may</td><td>⋯</td><td>2</td><td>999</td><td>1</td><td>failure    </td><td>-1.8</td><td>92.893</td><td>-46.2</td><td>1.334</td><td>5099.1</td><td>0</td></tr>\n",
       "\t<tr><td>33523</td><td>32</td><td>technician  </td><td>married </td><td>university.degree  </td><td>no     </td><td>yes    </td><td>no     </td><td>cellular </td><td>may</td><td>⋯</td><td>1</td><td>999</td><td>0</td><td>nonexistent</td><td>-1.8</td><td>92.893</td><td>-46.2</td><td>1.281</td><td>5099.1</td><td>0</td></tr>\n",
       "\t<tr><td>21812</td><td>49</td><td>blue-collar </td><td>married </td><td>unknown            </td><td>unknown</td><td>yes    </td><td>no     </td><td>telephone</td><td>may</td><td>⋯</td><td>1</td><td>999</td><td>0</td><td>nonexistent</td><td> 1.1</td><td>93.994</td><td>-36.4</td><td>4.856</td><td>5191.0</td><td>0</td></tr>\n",
       "\t<tr><td>39895</td><td>45</td><td>technician  </td><td>single  </td><td>professional.course</td><td>no     </td><td>no     </td><td>no     </td><td>telephone</td><td>may</td><td>⋯</td><td>2</td><td>999</td><td>0</td><td>nonexistent</td><td> 1.1</td><td>93.994</td><td>-36.4</td><td>4.856</td><td>5191.0</td><td>0</td></tr>\n",
       "\t<tr><td> 9326</td><td>33</td><td>blue-collar </td><td>single  </td><td>basic.9y           </td><td>unknown</td><td>yes    </td><td>no     </td><td>telephone</td><td>jun</td><td>⋯</td><td>4</td><td>999</td><td>0</td><td>nonexistent</td><td> 1.4</td><td>94.465</td><td>-41.8</td><td>4.865</td><td>5228.1</td><td>0</td></tr>\n",
       "\t<tr><td>26510</td><td>34</td><td>management  </td><td>single  </td><td>university.degree  </td><td>no     </td><td>unknown</td><td>unknown</td><td>telephone</td><td>nov</td><td>⋯</td><td>5</td><td>999</td><td>0</td><td>nonexistent</td><td>-0.1</td><td>93.200</td><td>-42.0</td><td>4.021</td><td>5195.8</td><td>0</td></tr>\n",
       "\t<tr><td>20960</td><td>57</td><td>retired     </td><td>married </td><td>university.degree  </td><td>no     </td><td>yes    </td><td>no     </td><td>telephone</td><td>may</td><td>⋯</td><td>1</td><td>999</td><td>0</td><td>nonexistent</td><td> 1.1</td><td>93.994</td><td>-36.4</td><td>4.856</td><td>5191.0</td><td>0</td></tr>\n",
       "\t<tr><td>14403</td><td>50</td><td>technician  </td><td>single  </td><td>professional.course</td><td>no     </td><td>no     </td><td>yes    </td><td>cellular </td><td>jul</td><td>⋯</td><td>8</td><td>999</td><td>0</td><td>nonexistent</td><td> 1.4</td><td>93.918</td><td>-42.7</td><td>4.962</td><td>5228.1</td><td>0</td></tr>\n",
       "\t<tr><td>28799</td><td>49</td><td>housemaid   </td><td>married </td><td>university.degree  </td><td>no     </td><td>yes    </td><td>no     </td><td>cellular </td><td>aug</td><td>⋯</td><td>2</td><td>999</td><td>0</td><td>nonexistent</td><td> 1.4</td><td>93.444</td><td>-36.1</td><td>4.967</td><td>5228.1</td><td>0</td></tr>\n",
       "\t<tr><td>⋮</td><td>⋮</td><td>⋮</td><td>⋮</td><td>⋮</td><td>⋮</td><td>⋮</td><td>⋮</td><td>⋮</td><td>⋮</td><td>⋱</td><td>⋮</td><td>⋮</td><td>⋮</td><td>⋮</td><td>⋮</td><td>⋮</td><td>⋮</td><td>⋮</td><td>⋮</td><td>⋮</td></tr>\n",
       "\t<tr><td> 3036</td><td>33</td><td>self-employed</td><td>married </td><td>university.degree  </td><td>no     </td><td>no     </td><td>no     </td><td>cellular </td><td>aug</td><td>⋯</td><td> 3</td><td>999</td><td> 0</td><td>nonexistent</td><td> 1.4</td><td>93.444</td><td>-36.1</td><td>4.965</td><td>5228.1</td><td>0</td></tr>\n",
       "\t<tr><td>19102</td><td>31</td><td>admin.       </td><td>single  </td><td>university.degree  </td><td>unknown</td><td>yes    </td><td>no     </td><td>cellular </td><td>aug</td><td>⋯</td><td> 1</td><td>999</td><td> 0</td><td>nonexistent</td><td> 1.4</td><td>93.444</td><td>-36.1</td><td>4.964</td><td>5228.1</td><td>0</td></tr>\n",
       "\t<tr><td>37729</td><td>46</td><td>technician   </td><td>married </td><td>professional.course</td><td>no     </td><td>no     </td><td>no     </td><td>telephone</td><td>may</td><td>⋯</td><td> 1</td><td>999</td><td> 0</td><td>nonexistent</td><td> 1.1</td><td>93.994</td><td>-36.4</td><td>4.860</td><td>5191.0</td><td>0</td></tr>\n",
       "\t<tr><td>20186</td><td>50</td><td>self-employed</td><td>married </td><td>unknown            </td><td>no     </td><td>unknown</td><td>unknown</td><td>cellular </td><td>jul</td><td>⋯</td><td> 2</td><td>999</td><td> 0</td><td>nonexistent</td><td>-2.9</td><td>92.469</td><td>-33.6</td><td>0.914</td><td>5076.2</td><td>0</td></tr>\n",
       "\t<tr><td>38059</td><td>43</td><td>admin.       </td><td>divorced</td><td>university.degree  </td><td>unknown</td><td>no     </td><td>no     </td><td>cellular </td><td>aug</td><td>⋯</td><td> 2</td><td>999</td><td> 0</td><td>nonexistent</td><td> 1.4</td><td>93.444</td><td>-36.1</td><td>4.966</td><td>5228.1</td><td>0</td></tr>\n",
       "\t<tr><td> 8099</td><td>32</td><td>technician   </td><td>divorced</td><td>professional.course</td><td>no     </td><td>no     </td><td>no     </td><td>cellular </td><td>nov</td><td>⋯</td><td> 1</td><td>999</td><td> 0</td><td>nonexistent</td><td>-0.1</td><td>93.200</td><td>-42.0</td><td>4.153</td><td>5195.8</td><td>0</td></tr>\n",
       "\t<tr><td>15178</td><td>37</td><td>housemaid    </td><td>married </td><td>basic.4y           </td><td>unknown</td><td>no     </td><td>yes    </td><td>cellular </td><td>aug</td><td>⋯</td><td> 2</td><td>999</td><td> 0</td><td>nonexistent</td><td> 1.4</td><td>93.444</td><td>-36.1</td><td>4.965</td><td>5228.1</td><td>0</td></tr>\n",
       "\t<tr><td>18920</td><td>47</td><td>technician   </td><td>divorced</td><td>high.school        </td><td>no     </td><td>yes    </td><td>no     </td><td>telephone</td><td>jun</td><td>⋯</td><td> 2</td><td>999</td><td>NA</td><td>nonexistent</td><td> 1.4</td><td>94.465</td><td>-41.8</td><td>4.865</td><td>5228.1</td><td>0</td></tr>\n",
       "\t<tr><td>19757</td><td>31</td><td>admin.       </td><td>single  </td><td>university.degree  </td><td>no     </td><td>yes    </td><td>no     </td><td>cellular </td><td>aug</td><td>⋯</td><td> 1</td><td>999</td><td> 0</td><td>nonexistent</td><td> 1.4</td><td>93.444</td><td>-36.1</td><td>4.965</td><td>5228.1</td><td>0</td></tr>\n",
       "\t<tr><td> 9327</td><td>31</td><td>admin.       </td><td>single  </td><td>university.degree  </td><td>unknown</td><td>no     </td><td>yes    </td><td>cellular </td><td>aug</td><td>⋯</td><td> 1</td><td>999</td><td> 0</td><td>nonexistent</td><td> 1.4</td><td>93.444</td><td>-36.1</td><td>4.968</td><td>5228.1</td><td>0</td></tr>\n",
       "\t<tr><td>16641</td><td>51</td><td>technician   </td><td>married </td><td>professional.course</td><td>no     </td><td>yes    </td><td>no     </td><td>cellular </td><td>oct</td><td>⋯</td><td> 6</td><td>  6</td><td> 3</td><td>failure    </td><td>-3.4</td><td>92.431</td><td>-26.9</td><td>0.754</td><td>5017.5</td><td>0</td></tr>\n",
       "\t<tr><td> 9656</td><td>30</td><td>admin.       </td><td>married </td><td>university.degree  </td><td>no     </td><td>yes    </td><td>no     </td><td>cellular </td><td>aug</td><td>⋯</td><td> 3</td><td>999</td><td> 0</td><td>nonexistent</td><td> 1.4</td><td>93.444</td><td>-36.1</td><td>4.963</td><td>5228.1</td><td>0</td></tr>\n",
       "\t<tr><td>37330</td><td>42</td><td>technician   </td><td>married </td><td>professional.course</td><td>unknown</td><td>yes    </td><td>no     </td><td>telephone</td><td>may</td><td>⋯</td><td> 3</td><td>999</td><td> 0</td><td>nonexistent</td><td> 1.1</td><td>93.994</td><td>-36.4</td><td>4.864</td><td>5191.0</td><td>0</td></tr>\n",
       "\t<tr><td>34568</td><td>32</td><td>blue-collar  </td><td>married </td><td>basic.6y           </td><td>no     </td><td>yes    </td><td>no     </td><td>telephone</td><td>may</td><td>⋯</td><td> 3</td><td>999</td><td> 0</td><td>nonexistent</td><td> 1.1</td><td>93.994</td><td>-36.4</td><td>4.860</td><td>5191.0</td><td>0</td></tr>\n",
       "\t<tr><td>23095</td><td>41</td><td>blue-collar  </td><td>married </td><td>basic.6y           </td><td>no     </td><td>yes    </td><td>no     </td><td>cellular </td><td>jul</td><td>⋯</td><td> 3</td><td>999</td><td> 0</td><td>nonexistent</td><td> 1.4</td><td>93.918</td><td>-42.7</td><td>4.968</td><td>5228.1</td><td>0</td></tr>\n",
       "\t<tr><td>25383</td><td>48</td><td>admin.       </td><td>divorced</td><td>high.school        </td><td>no     </td><td>no     </td><td>yes    </td><td>telephone</td><td>may</td><td>⋯</td><td> 2</td><td>999</td><td> 0</td><td>nonexistent</td><td> 1.1</td><td>93.994</td><td>-36.4</td><td>4.856</td><td>5191.0</td><td>0</td></tr>\n",
       "\t<tr><td>16918</td><td>31</td><td>admin.       </td><td>NA      </td><td>university.degree  </td><td>no     </td><td>yes    </td><td>yes    </td><td>cellular </td><td>sep</td><td>⋯</td><td> 1</td><td>999</td><td> 0</td><td>nonexistent</td><td>-1.1</td><td>94.199</td><td>-37.5</td><td>0.877</td><td>4963.6</td><td>1</td></tr>\n",
       "\t<tr><td> 4245</td><td>35</td><td>blue-collar  </td><td>single  </td><td>unknown            </td><td>no     </td><td>yes    </td><td>no     </td><td>telephone</td><td>jul</td><td>⋯</td><td>NA</td><td>999</td><td> 0</td><td>nonexistent</td><td> 1.4</td><td>93.918</td><td>-42.7</td><td>4.960</td><td>5228.1</td><td>0</td></tr>\n",
       "\t<tr><td>21920</td><td>39</td><td>blue-collar  </td><td>married </td><td>basic.4y           </td><td>unknown</td><td>yes    </td><td>no     </td><td>telephone</td><td>may</td><td>⋯</td><td> 1</td><td>999</td><td> 0</td><td>nonexistent</td><td> 1.1</td><td>    NA</td><td>-36.4</td><td>4.859</td><td>5191.0</td><td>0</td></tr>\n",
       "\t<tr><td>29000</td><td>21</td><td>student      </td><td>single  </td><td>high.school        </td><td>no     </td><td>no     </td><td>no     </td><td>cellular </td><td>oct</td><td>⋯</td><td> 1</td><td>999</td><td> 0</td><td>nonexistent</td><td>-3.4</td><td>92.431</td><td>   NA</td><td>0.728</td><td>5017.5</td><td>1</td></tr>\n",
       "\t<tr><td> 6627</td><td>28</td><td>admin.       </td><td>single  </td><td>university.degree  </td><td>no     </td><td>yes    </td><td>no     </td><td>cellular </td><td>sep</td><td>⋯</td><td> 1</td><td>  1</td><td> 3</td><td>success    </td><td>-3.4</td><td>92.379</td><td>-29.8</td><td>0.773</td><td>5017.5</td><td>1</td></tr>\n",
       "\t<tr><td>35702</td><td>29</td><td>admin.       </td><td>single  </td><td>university.degree  </td><td>no     </td><td>yes    </td><td>no     </td><td>cellular </td><td>aug</td><td>⋯</td><td> 1</td><td>999</td><td> 0</td><td>nonexistent</td><td> 1.4</td><td>93.444</td><td>-36.1</td><td>4.963</td><td>5228.1</td><td>0</td></tr>\n",
       "\t<tr><td>38555</td><td>49</td><td>services     </td><td>married </td><td>basic.4y           </td><td>unknown</td><td>no     </td><td>no     </td><td>cellular </td><td>aug</td><td>⋯</td><td> 2</td><td>999</td><td> 0</td><td>nonexistent</td><td> 1.4</td><td>93.444</td><td>-36.1</td><td>4.963</td><td>5228.1</td><td>1</td></tr>\n",
       "\t<tr><td>23289</td><td>38</td><td>blue-collar  </td><td>divorced</td><td>high.school        </td><td>no     </td><td>yes    </td><td>no     </td><td>cellular </td><td>may</td><td>⋯</td><td> 6</td><td>999</td><td> 1</td><td>failure    </td><td>-1.8</td><td>92.893</td><td>-46.2</td><td>1.344</td><td>5099.1</td><td>0</td></tr>\n",
       "\t<tr><td> 2969</td><td>36</td><td>blue-collar  </td><td>single  </td><td>high.school        </td><td>no     </td><td>yes    </td><td>no     </td><td>cellular </td><td>jul</td><td>⋯</td><td>24</td><td>999</td><td> 0</td><td>nonexistent</td><td> 1.4</td><td>93.918</td><td>-42.7</td><td>4.968</td><td>5228.1</td><td>0</td></tr>\n",
       "\t<tr><td>13724</td><td>45</td><td>unknown      </td><td>unknown </td><td>unknown            </td><td>no     </td><td>yes    </td><td>yes    </td><td>cellular </td><td>jul</td><td>⋯</td><td> 1</td><td>999</td><td> 0</td><td>nonexistent</td><td> 1.4</td><td>93.918</td><td>-42.7</td><td>4.957</td><td>5228.1</td><td>1</td></tr>\n",
       "\t<tr><td>29863</td><td>26</td><td>admin.       </td><td>single  </td><td>university.degree  </td><td>no     </td><td>yes    </td><td>no     </td><td>cellular </td><td>may</td><td>⋯</td><td> 2</td><td>999</td><td> 1</td><td>failure    </td><td>-1.8</td><td>92.893</td><td>-46.2</td><td>1.299</td><td>5099.1</td><td>0</td></tr>\n",
       "\t<tr><td> 9841</td><td>33</td><td>admin.       </td><td>married </td><td>high.school        </td><td>no     </td><td>yes    </td><td>yes    </td><td>cellular </td><td>may</td><td>⋯</td><td> 1</td><td>999</td><td> 1</td><td>failure    </td><td>-1.8</td><td>92.893</td><td>-46.2</td><td>1.299</td><td>5099.1</td><td>0</td></tr>\n",
       "\t<tr><td>36432</td><td>43</td><td>admin.       </td><td>married </td><td>high.school        </td><td>no     </td><td>yes    </td><td>no     </td><td>telephone</td><td>jul</td><td>⋯</td><td>10</td><td>999</td><td> 0</td><td>nonexistent</td><td> 1.4</td><td>93.918</td><td>-42.7</td><td>4.960</td><td>5228.1</td><td>0</td></tr>\n",
       "\t<tr><td>15639</td><td>55</td><td>blue-collar  </td><td>married </td><td>basic.9y           </td><td>no     </td><td>yes    </td><td>yes    </td><td>cellular </td><td>aug</td><td>⋯</td><td> 3</td><td>999</td><td> 0</td><td>nonexistent</td><td> 1.4</td><td>93.444</td><td>-36.1</td><td>4.963</td><td>5228.1</td><td>0</td></tr>\n",
       "</tbody>\n",
       "</table>\n"
      ],
      "text/latex": [
       "A data.frame: 20000 × 21\n",
       "\\begin{tabular}{lllllllllllllllllllll}\n",
       " client\\_id & age & job & marital & education & default & housing & loan & contact & month & ⋯ & campaign & pdays & previous & poutcome & emp.var.rate & cons.price.idx & cons.conf.idx & euribor3m & nr.employed & subscribe\\\\\n",
       " <int> & <int> & <chr> & <chr> & <chr> & <chr> & <chr> & <chr> & <chr> & <chr> & ⋯ & <int> & <int> & <int> & <chr> & <dbl> & <dbl> & <dbl> & <dbl> & <dbl> & <int>\\\\\n",
       "\\hline\n",
       "\t 29925 & 42 & management   & married  & basic.9y            & no      & no      & no      & cellular  & jul & ⋯ & 1 & 999 & 0 & nonexistent &  1.4 & 93.918 & -42.7 & 4.968 & 5228.1 & 0\\\\\n",
       "\t 37529 & 35 & unemployed   & married  & university.degree   & no      & yes     & no      & telephone & jun & ⋯ & 4 & 999 & 0 & nonexistent &  1.4 & 94.465 & -41.8 & 4.960 & 5228.1 & 0\\\\\n",
       "\t  2757 & 44 & technician   & married  & basic.9y            & no      & yes     & yes     & cellular  & may & ⋯ & 1 & 999 & 0 & nonexistent & -1.8 & 92.893 & -46.2 & 1.264 & 5099.1 & 0\\\\\n",
       "\t  9642 & 45 & services     & married  & high.school         & no      & yes     & no      & cellular  & apr & ⋯ & 1 & 999 & 0 & nonexistent & -1.8 & 93.075 & -47.1 & 1.453 & 5099.1 & 0\\\\\n",
       "\t 14183 & 45 & unknown      & married  & unknown             & unknown & unknown & unknown & telephone & may & ⋯ & 1 & 999 & 0 & nonexistent &  1.1 & 93.994 & -36.4 & 4.859 & 5191.0 & 0\\\\\n",
       "\t 15180 & 38 & technician   & married  & professional.course & no      & no      & no      & telephone & may & ⋯ & 2 & 999 & 0 & nonexistent &  1.1 & 93.994 & -36.4 & 4.858 & 5191.0 & 0\\\\\n",
       "\t 27168 & 33 & technician   & married  & professional.course & no      & no      & yes     & cellular  & apr & ⋯ & 1 &  NA & 1 & failure     & -1.8 & 93.075 & -47.1 & 1.405 & 5099.1 & 1\\\\\n",
       "\t  9097 & 38 & blue-collar  & single   & basic.9y            & unknown & yes     & no      & telephone & may & ⋯ & 1 & 999 & 0 & nonexistent &  1.1 & 93.994 & -36.4 & 4.857 & 5191.0 & 0\\\\\n",
       "\t 30538 & 29 & blue-collar  & single   & unknown             & no      & yes     & no      & cellular  & may & ⋯ & 1 & 999 & 1 & failure     & -1.8 & 92.893 & -46.2 & 1.250 & 5099.1 & 0\\\\\n",
       "\t 28981 & 34 & admin.       & divorced & university.degree   & no      & yes     & yes     & cellular  & aug & ⋯ & 1 & 999 & 0 & nonexistent &  1.4 & 93.444 & -36.1 & 4.965 & 5228.1 & 0\\\\\n",
       "\t  7989 & 47 & blue-collar  & married  & high.school         & unknown & yes     & no      & telephone & jun & ⋯ & 3 & 999 & 0 & nonexistent &  1.4 & 94.465 & -41.8 & 4.961 & 5228.1 & 0\\\\\n",
       "\t 13536 & 30 & blue-collar  & single   & basic.9y            & no      & yes     & no      & cellular  & jul & ⋯ & 1 & 999 & 0 & nonexistent &  1.4 & 93.918 & -42.7 & 4.963 & 5228.1 & 0\\\\\n",
       "\t 24541 & 30 & admin.       & married  & basic.6y            & no      & yes     & no      & cellular  & jul & ⋯ & 1 & 999 & 0 & nonexistent &  1.4 & 93.918 & -42.7 & 4.958 & 5228.1 & 0\\\\\n",
       "\t  6216 & 35 & services     & married  & basic.6y            & unknown & yes     & no      & cellular  & may & ⋯ & 2 & 999 & 0 & nonexistent & -1.8 & 92.893 & -46.2 & 1.344 & 5099.1 & 0\\\\\n",
       "\t 17983 & 45 & management   & married  & professional.course & no      & no      & no      & cellular  & nov & ⋯ & 1 & 999 & 0 & nonexistent & -0.1 & 93.200 & -42.0 & 4.076 & 5195.8 & 1\\\\\n",
       "\t 29394 & 37 & entrepreneur & married  & university.degree   & unknown & yes     & no      & cellular  & nov & ⋯ & 2 & 999 & 1 & failure     & -0.1 & 93.200 & -42.0 & 4.191 & 5195.8 & 0\\\\\n",
       "\t 28825 & 48 & blue-collar  & married  & basic.6y            & no      & no      & no      & telephone & jun & ⋯ & 2 & 999 & 0 & nonexistent &  1.4 & 94.465 & -41.8 & 4.866 & 5228.1 & 0\\\\\n",
       "\t    41 & 47 & admin.       & married  & basic.6y            & unknown & yes     & no      & cellular  & apr & ⋯ & 2 & 999 & 1 & failure     & -1.8 & 93.075 & -47.1 & 1.410 & 5099.1 & 0\\\\\n",
       "\t  7284 & 35 & blue-collar  & married  & basic.9y            & no      & yes     & no      & telephone & may & ⋯ & 1 & 999 & 0 & nonexistent &  1.1 & 93.994 & -36.4 & 4.858 & 5191.0 & 0\\\\\n",
       "\t 28502 & 34 & technician   & married  & professional.course & no      & no      & no      & cellular  & apr & ⋯ & 3 & 999 & 0 & nonexistent & -1.8 & 93.075 & -47.1 & 1.405 & 5099.1 & 0\\\\\n",
       "\t 11473 & 60 & technician   & married  & university.degree   & unknown & yes     & no      & telephone & may & ⋯ & 5 & 999 & 0 & nonexistent &  1.1 & 93.994 & -36.4 & 4.855 & 5191.0 & 0\\\\\n",
       "\t  6134 & 35 & services     & single   & high.school         & no      & no      & no      & cellular  & may & ⋯ & 2 & 999 & 1 & failure     & -1.8 & 92.893 & -46.2 & 1.334 & 5099.1 & 0\\\\\n",
       "\t 33523 & 32 & technician   & married  & university.degree   & no      & yes     & no      & cellular  & may & ⋯ & 1 & 999 & 0 & nonexistent & -1.8 & 92.893 & -46.2 & 1.281 & 5099.1 & 0\\\\\n",
       "\t 21812 & 49 & blue-collar  & married  & unknown             & unknown & yes     & no      & telephone & may & ⋯ & 1 & 999 & 0 & nonexistent &  1.1 & 93.994 & -36.4 & 4.856 & 5191.0 & 0\\\\\n",
       "\t 39895 & 45 & technician   & single   & professional.course & no      & no      & no      & telephone & may & ⋯ & 2 & 999 & 0 & nonexistent &  1.1 & 93.994 & -36.4 & 4.856 & 5191.0 & 0\\\\\n",
       "\t  9326 & 33 & blue-collar  & single   & basic.9y            & unknown & yes     & no      & telephone & jun & ⋯ & 4 & 999 & 0 & nonexistent &  1.4 & 94.465 & -41.8 & 4.865 & 5228.1 & 0\\\\\n",
       "\t 26510 & 34 & management   & single   & university.degree   & no      & unknown & unknown & telephone & nov & ⋯ & 5 & 999 & 0 & nonexistent & -0.1 & 93.200 & -42.0 & 4.021 & 5195.8 & 0\\\\\n",
       "\t 20960 & 57 & retired      & married  & university.degree   & no      & yes     & no      & telephone & may & ⋯ & 1 & 999 & 0 & nonexistent &  1.1 & 93.994 & -36.4 & 4.856 & 5191.0 & 0\\\\\n",
       "\t 14403 & 50 & technician   & single   & professional.course & no      & no      & yes     & cellular  & jul & ⋯ & 8 & 999 & 0 & nonexistent &  1.4 & 93.918 & -42.7 & 4.962 & 5228.1 & 0\\\\\n",
       "\t 28799 & 49 & housemaid    & married  & university.degree   & no      & yes     & no      & cellular  & aug & ⋯ & 2 & 999 & 0 & nonexistent &  1.4 & 93.444 & -36.1 & 4.967 & 5228.1 & 0\\\\\n",
       "\t ⋮ & ⋮ & ⋮ & ⋮ & ⋮ & ⋮ & ⋮ & ⋮ & ⋮ & ⋮ & ⋱ & ⋮ & ⋮ & ⋮ & ⋮ & ⋮ & ⋮ & ⋮ & ⋮ & ⋮ & ⋮\\\\\n",
       "\t  3036 & 33 & self-employed & married  & university.degree   & no      & no      & no      & cellular  & aug & ⋯ &  3 & 999 &  0 & nonexistent &  1.4 & 93.444 & -36.1 & 4.965 & 5228.1 & 0\\\\\n",
       "\t 19102 & 31 & admin.        & single   & university.degree   & unknown & yes     & no      & cellular  & aug & ⋯ &  1 & 999 &  0 & nonexistent &  1.4 & 93.444 & -36.1 & 4.964 & 5228.1 & 0\\\\\n",
       "\t 37729 & 46 & technician    & married  & professional.course & no      & no      & no      & telephone & may & ⋯ &  1 & 999 &  0 & nonexistent &  1.1 & 93.994 & -36.4 & 4.860 & 5191.0 & 0\\\\\n",
       "\t 20186 & 50 & self-employed & married  & unknown             & no      & unknown & unknown & cellular  & jul & ⋯ &  2 & 999 &  0 & nonexistent & -2.9 & 92.469 & -33.6 & 0.914 & 5076.2 & 0\\\\\n",
       "\t 38059 & 43 & admin.        & divorced & university.degree   & unknown & no      & no      & cellular  & aug & ⋯ &  2 & 999 &  0 & nonexistent &  1.4 & 93.444 & -36.1 & 4.966 & 5228.1 & 0\\\\\n",
       "\t  8099 & 32 & technician    & divorced & professional.course & no      & no      & no      & cellular  & nov & ⋯ &  1 & 999 &  0 & nonexistent & -0.1 & 93.200 & -42.0 & 4.153 & 5195.8 & 0\\\\\n",
       "\t 15178 & 37 & housemaid     & married  & basic.4y            & unknown & no      & yes     & cellular  & aug & ⋯ &  2 & 999 &  0 & nonexistent &  1.4 & 93.444 & -36.1 & 4.965 & 5228.1 & 0\\\\\n",
       "\t 18920 & 47 & technician    & divorced & high.school         & no      & yes     & no      & telephone & jun & ⋯ &  2 & 999 & NA & nonexistent &  1.4 & 94.465 & -41.8 & 4.865 & 5228.1 & 0\\\\\n",
       "\t 19757 & 31 & admin.        & single   & university.degree   & no      & yes     & no      & cellular  & aug & ⋯ &  1 & 999 &  0 & nonexistent &  1.4 & 93.444 & -36.1 & 4.965 & 5228.1 & 0\\\\\n",
       "\t  9327 & 31 & admin.        & single   & university.degree   & unknown & no      & yes     & cellular  & aug & ⋯ &  1 & 999 &  0 & nonexistent &  1.4 & 93.444 & -36.1 & 4.968 & 5228.1 & 0\\\\\n",
       "\t 16641 & 51 & technician    & married  & professional.course & no      & yes     & no      & cellular  & oct & ⋯ &  6 &   6 &  3 & failure     & -3.4 & 92.431 & -26.9 & 0.754 & 5017.5 & 0\\\\\n",
       "\t  9656 & 30 & admin.        & married  & university.degree   & no      & yes     & no      & cellular  & aug & ⋯ &  3 & 999 &  0 & nonexistent &  1.4 & 93.444 & -36.1 & 4.963 & 5228.1 & 0\\\\\n",
       "\t 37330 & 42 & technician    & married  & professional.course & unknown & yes     & no      & telephone & may & ⋯ &  3 & 999 &  0 & nonexistent &  1.1 & 93.994 & -36.4 & 4.864 & 5191.0 & 0\\\\\n",
       "\t 34568 & 32 & blue-collar   & married  & basic.6y            & no      & yes     & no      & telephone & may & ⋯ &  3 & 999 &  0 & nonexistent &  1.1 & 93.994 & -36.4 & 4.860 & 5191.0 & 0\\\\\n",
       "\t 23095 & 41 & blue-collar   & married  & basic.6y            & no      & yes     & no      & cellular  & jul & ⋯ &  3 & 999 &  0 & nonexistent &  1.4 & 93.918 & -42.7 & 4.968 & 5228.1 & 0\\\\\n",
       "\t 25383 & 48 & admin.        & divorced & high.school         & no      & no      & yes     & telephone & may & ⋯ &  2 & 999 &  0 & nonexistent &  1.1 & 93.994 & -36.4 & 4.856 & 5191.0 & 0\\\\\n",
       "\t 16918 & 31 & admin.        & NA       & university.degree   & no      & yes     & yes     & cellular  & sep & ⋯ &  1 & 999 &  0 & nonexistent & -1.1 & 94.199 & -37.5 & 0.877 & 4963.6 & 1\\\\\n",
       "\t  4245 & 35 & blue-collar   & single   & unknown             & no      & yes     & no      & telephone & jul & ⋯ & NA & 999 &  0 & nonexistent &  1.4 & 93.918 & -42.7 & 4.960 & 5228.1 & 0\\\\\n",
       "\t 21920 & 39 & blue-collar   & married  & basic.4y            & unknown & yes     & no      & telephone & may & ⋯ &  1 & 999 &  0 & nonexistent &  1.1 &     NA & -36.4 & 4.859 & 5191.0 & 0\\\\\n",
       "\t 29000 & 21 & student       & single   & high.school         & no      & no      & no      & cellular  & oct & ⋯ &  1 & 999 &  0 & nonexistent & -3.4 & 92.431 &    NA & 0.728 & 5017.5 & 1\\\\\n",
       "\t  6627 & 28 & admin.        & single   & university.degree   & no      & yes     & no      & cellular  & sep & ⋯ &  1 &   1 &  3 & success     & -3.4 & 92.379 & -29.8 & 0.773 & 5017.5 & 1\\\\\n",
       "\t 35702 & 29 & admin.        & single   & university.degree   & no      & yes     & no      & cellular  & aug & ⋯ &  1 & 999 &  0 & nonexistent &  1.4 & 93.444 & -36.1 & 4.963 & 5228.1 & 0\\\\\n",
       "\t 38555 & 49 & services      & married  & basic.4y            & unknown & no      & no      & cellular  & aug & ⋯ &  2 & 999 &  0 & nonexistent &  1.4 & 93.444 & -36.1 & 4.963 & 5228.1 & 1\\\\\n",
       "\t 23289 & 38 & blue-collar   & divorced & high.school         & no      & yes     & no      & cellular  & may & ⋯ &  6 & 999 &  1 & failure     & -1.8 & 92.893 & -46.2 & 1.344 & 5099.1 & 0\\\\\n",
       "\t  2969 & 36 & blue-collar   & single   & high.school         & no      & yes     & no      & cellular  & jul & ⋯ & 24 & 999 &  0 & nonexistent &  1.4 & 93.918 & -42.7 & 4.968 & 5228.1 & 0\\\\\n",
       "\t 13724 & 45 & unknown       & unknown  & unknown             & no      & yes     & yes     & cellular  & jul & ⋯ &  1 & 999 &  0 & nonexistent &  1.4 & 93.918 & -42.7 & 4.957 & 5228.1 & 1\\\\\n",
       "\t 29863 & 26 & admin.        & single   & university.degree   & no      & yes     & no      & cellular  & may & ⋯ &  2 & 999 &  1 & failure     & -1.8 & 92.893 & -46.2 & 1.299 & 5099.1 & 0\\\\\n",
       "\t  9841 & 33 & admin.        & married  & high.school         & no      & yes     & yes     & cellular  & may & ⋯ &  1 & 999 &  1 & failure     & -1.8 & 92.893 & -46.2 & 1.299 & 5099.1 & 0\\\\\n",
       "\t 36432 & 43 & admin.        & married  & high.school         & no      & yes     & no      & telephone & jul & ⋯ & 10 & 999 &  0 & nonexistent &  1.4 & 93.918 & -42.7 & 4.960 & 5228.1 & 0\\\\\n",
       "\t 15639 & 55 & blue-collar   & married  & basic.9y            & no      & yes     & yes     & cellular  & aug & ⋯ &  3 & 999 &  0 & nonexistent &  1.4 & 93.444 & -36.1 & 4.963 & 5228.1 & 0\\\\\n",
       "\\end{tabular}\n"
      ],
      "text/markdown": [
       "\n",
       "A data.frame: 20000 × 21\n",
       "\n",
       "| client_id &lt;int&gt; | age &lt;int&gt; | job &lt;chr&gt; | marital &lt;chr&gt; | education &lt;chr&gt; | default &lt;chr&gt; | housing &lt;chr&gt; | loan &lt;chr&gt; | contact &lt;chr&gt; | month &lt;chr&gt; | ⋯ ⋯ | campaign &lt;int&gt; | pdays &lt;int&gt; | previous &lt;int&gt; | poutcome &lt;chr&gt; | emp.var.rate &lt;dbl&gt; | cons.price.idx &lt;dbl&gt; | cons.conf.idx &lt;dbl&gt; | euribor3m &lt;dbl&gt; | nr.employed &lt;dbl&gt; | subscribe &lt;int&gt; |\n",
       "|---|---|---|---|---|---|---|---|---|---|---|---|---|---|---|---|---|---|---|---|---|\n",
       "| 29925 | 42 | management   | married  | basic.9y            | no      | no      | no      | cellular  | jul | ⋯ | 1 | 999 | 0 | nonexistent |  1.4 | 93.918 | -42.7 | 4.968 | 5228.1 | 0 |\n",
       "| 37529 | 35 | unemployed   | married  | university.degree   | no      | yes     | no      | telephone | jun | ⋯ | 4 | 999 | 0 | nonexistent |  1.4 | 94.465 | -41.8 | 4.960 | 5228.1 | 0 |\n",
       "|  2757 | 44 | technician   | married  | basic.9y            | no      | yes     | yes     | cellular  | may | ⋯ | 1 | 999 | 0 | nonexistent | -1.8 | 92.893 | -46.2 | 1.264 | 5099.1 | 0 |\n",
       "|  9642 | 45 | services     | married  | high.school         | no      | yes     | no      | cellular  | apr | ⋯ | 1 | 999 | 0 | nonexistent | -1.8 | 93.075 | -47.1 | 1.453 | 5099.1 | 0 |\n",
       "| 14183 | 45 | unknown      | married  | unknown             | unknown | unknown | unknown | telephone | may | ⋯ | 1 | 999 | 0 | nonexistent |  1.1 | 93.994 | -36.4 | 4.859 | 5191.0 | 0 |\n",
       "| 15180 | 38 | technician   | married  | professional.course | no      | no      | no      | telephone | may | ⋯ | 2 | 999 | 0 | nonexistent |  1.1 | 93.994 | -36.4 | 4.858 | 5191.0 | 0 |\n",
       "| 27168 | 33 | technician   | married  | professional.course | no      | no      | yes     | cellular  | apr | ⋯ | 1 |  NA | 1 | failure     | -1.8 | 93.075 | -47.1 | 1.405 | 5099.1 | 1 |\n",
       "|  9097 | 38 | blue-collar  | single   | basic.9y            | unknown | yes     | no      | telephone | may | ⋯ | 1 | 999 | 0 | nonexistent |  1.1 | 93.994 | -36.4 | 4.857 | 5191.0 | 0 |\n",
       "| 30538 | 29 | blue-collar  | single   | unknown             | no      | yes     | no      | cellular  | may | ⋯ | 1 | 999 | 1 | failure     | -1.8 | 92.893 | -46.2 | 1.250 | 5099.1 | 0 |\n",
       "| 28981 | 34 | admin.       | divorced | university.degree   | no      | yes     | yes     | cellular  | aug | ⋯ | 1 | 999 | 0 | nonexistent |  1.4 | 93.444 | -36.1 | 4.965 | 5228.1 | 0 |\n",
       "|  7989 | 47 | blue-collar  | married  | high.school         | unknown | yes     | no      | telephone | jun | ⋯ | 3 | 999 | 0 | nonexistent |  1.4 | 94.465 | -41.8 | 4.961 | 5228.1 | 0 |\n",
       "| 13536 | 30 | blue-collar  | single   | basic.9y            | no      | yes     | no      | cellular  | jul | ⋯ | 1 | 999 | 0 | nonexistent |  1.4 | 93.918 | -42.7 | 4.963 | 5228.1 | 0 |\n",
       "| 24541 | 30 | admin.       | married  | basic.6y            | no      | yes     | no      | cellular  | jul | ⋯ | 1 | 999 | 0 | nonexistent |  1.4 | 93.918 | -42.7 | 4.958 | 5228.1 | 0 |\n",
       "|  6216 | 35 | services     | married  | basic.6y            | unknown | yes     | no      | cellular  | may | ⋯ | 2 | 999 | 0 | nonexistent | -1.8 | 92.893 | -46.2 | 1.344 | 5099.1 | 0 |\n",
       "| 17983 | 45 | management   | married  | professional.course | no      | no      | no      | cellular  | nov | ⋯ | 1 | 999 | 0 | nonexistent | -0.1 | 93.200 | -42.0 | 4.076 | 5195.8 | 1 |\n",
       "| 29394 | 37 | entrepreneur | married  | university.degree   | unknown | yes     | no      | cellular  | nov | ⋯ | 2 | 999 | 1 | failure     | -0.1 | 93.200 | -42.0 | 4.191 | 5195.8 | 0 |\n",
       "| 28825 | 48 | blue-collar  | married  | basic.6y            | no      | no      | no      | telephone | jun | ⋯ | 2 | 999 | 0 | nonexistent |  1.4 | 94.465 | -41.8 | 4.866 | 5228.1 | 0 |\n",
       "|    41 | 47 | admin.       | married  | basic.6y            | unknown | yes     | no      | cellular  | apr | ⋯ | 2 | 999 | 1 | failure     | -1.8 | 93.075 | -47.1 | 1.410 | 5099.1 | 0 |\n",
       "|  7284 | 35 | blue-collar  | married  | basic.9y            | no      | yes     | no      | telephone | may | ⋯ | 1 | 999 | 0 | nonexistent |  1.1 | 93.994 | -36.4 | 4.858 | 5191.0 | 0 |\n",
       "| 28502 | 34 | technician   | married  | professional.course | no      | no      | no      | cellular  | apr | ⋯ | 3 | 999 | 0 | nonexistent | -1.8 | 93.075 | -47.1 | 1.405 | 5099.1 | 0 |\n",
       "| 11473 | 60 | technician   | married  | university.degree   | unknown | yes     | no      | telephone | may | ⋯ | 5 | 999 | 0 | nonexistent |  1.1 | 93.994 | -36.4 | 4.855 | 5191.0 | 0 |\n",
       "|  6134 | 35 | services     | single   | high.school         | no      | no      | no      | cellular  | may | ⋯ | 2 | 999 | 1 | failure     | -1.8 | 92.893 | -46.2 | 1.334 | 5099.1 | 0 |\n",
       "| 33523 | 32 | technician   | married  | university.degree   | no      | yes     | no      | cellular  | may | ⋯ | 1 | 999 | 0 | nonexistent | -1.8 | 92.893 | -46.2 | 1.281 | 5099.1 | 0 |\n",
       "| 21812 | 49 | blue-collar  | married  | unknown             | unknown | yes     | no      | telephone | may | ⋯ | 1 | 999 | 0 | nonexistent |  1.1 | 93.994 | -36.4 | 4.856 | 5191.0 | 0 |\n",
       "| 39895 | 45 | technician   | single   | professional.course | no      | no      | no      | telephone | may | ⋯ | 2 | 999 | 0 | nonexistent |  1.1 | 93.994 | -36.4 | 4.856 | 5191.0 | 0 |\n",
       "|  9326 | 33 | blue-collar  | single   | basic.9y            | unknown | yes     | no      | telephone | jun | ⋯ | 4 | 999 | 0 | nonexistent |  1.4 | 94.465 | -41.8 | 4.865 | 5228.1 | 0 |\n",
       "| 26510 | 34 | management   | single   | university.degree   | no      | unknown | unknown | telephone | nov | ⋯ | 5 | 999 | 0 | nonexistent | -0.1 | 93.200 | -42.0 | 4.021 | 5195.8 | 0 |\n",
       "| 20960 | 57 | retired      | married  | university.degree   | no      | yes     | no      | telephone | may | ⋯ | 1 | 999 | 0 | nonexistent |  1.1 | 93.994 | -36.4 | 4.856 | 5191.0 | 0 |\n",
       "| 14403 | 50 | technician   | single   | professional.course | no      | no      | yes     | cellular  | jul | ⋯ | 8 | 999 | 0 | nonexistent |  1.4 | 93.918 | -42.7 | 4.962 | 5228.1 | 0 |\n",
       "| 28799 | 49 | housemaid    | married  | university.degree   | no      | yes     | no      | cellular  | aug | ⋯ | 2 | 999 | 0 | nonexistent |  1.4 | 93.444 | -36.1 | 4.967 | 5228.1 | 0 |\n",
       "| ⋮ | ⋮ | ⋮ | ⋮ | ⋮ | ⋮ | ⋮ | ⋮ | ⋮ | ⋮ | ⋱ | ⋮ | ⋮ | ⋮ | ⋮ | ⋮ | ⋮ | ⋮ | ⋮ | ⋮ | ⋮ |\n",
       "|  3036 | 33 | self-employed | married  | university.degree   | no      | no      | no      | cellular  | aug | ⋯ |  3 | 999 |  0 | nonexistent |  1.4 | 93.444 | -36.1 | 4.965 | 5228.1 | 0 |\n",
       "| 19102 | 31 | admin.        | single   | university.degree   | unknown | yes     | no      | cellular  | aug | ⋯ |  1 | 999 |  0 | nonexistent |  1.4 | 93.444 | -36.1 | 4.964 | 5228.1 | 0 |\n",
       "| 37729 | 46 | technician    | married  | professional.course | no      | no      | no      | telephone | may | ⋯ |  1 | 999 |  0 | nonexistent |  1.1 | 93.994 | -36.4 | 4.860 | 5191.0 | 0 |\n",
       "| 20186 | 50 | self-employed | married  | unknown             | no      | unknown | unknown | cellular  | jul | ⋯ |  2 | 999 |  0 | nonexistent | -2.9 | 92.469 | -33.6 | 0.914 | 5076.2 | 0 |\n",
       "| 38059 | 43 | admin.        | divorced | university.degree   | unknown | no      | no      | cellular  | aug | ⋯ |  2 | 999 |  0 | nonexistent |  1.4 | 93.444 | -36.1 | 4.966 | 5228.1 | 0 |\n",
       "|  8099 | 32 | technician    | divorced | professional.course | no      | no      | no      | cellular  | nov | ⋯ |  1 | 999 |  0 | nonexistent | -0.1 | 93.200 | -42.0 | 4.153 | 5195.8 | 0 |\n",
       "| 15178 | 37 | housemaid     | married  | basic.4y            | unknown | no      | yes     | cellular  | aug | ⋯ |  2 | 999 |  0 | nonexistent |  1.4 | 93.444 | -36.1 | 4.965 | 5228.1 | 0 |\n",
       "| 18920 | 47 | technician    | divorced | high.school         | no      | yes     | no      | telephone | jun | ⋯ |  2 | 999 | NA | nonexistent |  1.4 | 94.465 | -41.8 | 4.865 | 5228.1 | 0 |\n",
       "| 19757 | 31 | admin.        | single   | university.degree   | no      | yes     | no      | cellular  | aug | ⋯ |  1 | 999 |  0 | nonexistent |  1.4 | 93.444 | -36.1 | 4.965 | 5228.1 | 0 |\n",
       "|  9327 | 31 | admin.        | single   | university.degree   | unknown | no      | yes     | cellular  | aug | ⋯ |  1 | 999 |  0 | nonexistent |  1.4 | 93.444 | -36.1 | 4.968 | 5228.1 | 0 |\n",
       "| 16641 | 51 | technician    | married  | professional.course | no      | yes     | no      | cellular  | oct | ⋯ |  6 |   6 |  3 | failure     | -3.4 | 92.431 | -26.9 | 0.754 | 5017.5 | 0 |\n",
       "|  9656 | 30 | admin.        | married  | university.degree   | no      | yes     | no      | cellular  | aug | ⋯ |  3 | 999 |  0 | nonexistent |  1.4 | 93.444 | -36.1 | 4.963 | 5228.1 | 0 |\n",
       "| 37330 | 42 | technician    | married  | professional.course | unknown | yes     | no      | telephone | may | ⋯ |  3 | 999 |  0 | nonexistent |  1.1 | 93.994 | -36.4 | 4.864 | 5191.0 | 0 |\n",
       "| 34568 | 32 | blue-collar   | married  | basic.6y            | no      | yes     | no      | telephone | may | ⋯ |  3 | 999 |  0 | nonexistent |  1.1 | 93.994 | -36.4 | 4.860 | 5191.0 | 0 |\n",
       "| 23095 | 41 | blue-collar   | married  | basic.6y            | no      | yes     | no      | cellular  | jul | ⋯ |  3 | 999 |  0 | nonexistent |  1.4 | 93.918 | -42.7 | 4.968 | 5228.1 | 0 |\n",
       "| 25383 | 48 | admin.        | divorced | high.school         | no      | no      | yes     | telephone | may | ⋯ |  2 | 999 |  0 | nonexistent |  1.1 | 93.994 | -36.4 | 4.856 | 5191.0 | 0 |\n",
       "| 16918 | 31 | admin.        | NA       | university.degree   | no      | yes     | yes     | cellular  | sep | ⋯ |  1 | 999 |  0 | nonexistent | -1.1 | 94.199 | -37.5 | 0.877 | 4963.6 | 1 |\n",
       "|  4245 | 35 | blue-collar   | single   | unknown             | no      | yes     | no      | telephone | jul | ⋯ | NA | 999 |  0 | nonexistent |  1.4 | 93.918 | -42.7 | 4.960 | 5228.1 | 0 |\n",
       "| 21920 | 39 | blue-collar   | married  | basic.4y            | unknown | yes     | no      | telephone | may | ⋯ |  1 | 999 |  0 | nonexistent |  1.1 |     NA | -36.4 | 4.859 | 5191.0 | 0 |\n",
       "| 29000 | 21 | student       | single   | high.school         | no      | no      | no      | cellular  | oct | ⋯ |  1 | 999 |  0 | nonexistent | -3.4 | 92.431 |    NA | 0.728 | 5017.5 | 1 |\n",
       "|  6627 | 28 | admin.        | single   | university.degree   | no      | yes     | no      | cellular  | sep | ⋯ |  1 |   1 |  3 | success     | -3.4 | 92.379 | -29.8 | 0.773 | 5017.5 | 1 |\n",
       "| 35702 | 29 | admin.        | single   | university.degree   | no      | yes     | no      | cellular  | aug | ⋯ |  1 | 999 |  0 | nonexistent |  1.4 | 93.444 | -36.1 | 4.963 | 5228.1 | 0 |\n",
       "| 38555 | 49 | services      | married  | basic.4y            | unknown | no      | no      | cellular  | aug | ⋯ |  2 | 999 |  0 | nonexistent |  1.4 | 93.444 | -36.1 | 4.963 | 5228.1 | 1 |\n",
       "| 23289 | 38 | blue-collar   | divorced | high.school         | no      | yes     | no      | cellular  | may | ⋯ |  6 | 999 |  1 | failure     | -1.8 | 92.893 | -46.2 | 1.344 | 5099.1 | 0 |\n",
       "|  2969 | 36 | blue-collar   | single   | high.school         | no      | yes     | no      | cellular  | jul | ⋯ | 24 | 999 |  0 | nonexistent |  1.4 | 93.918 | -42.7 | 4.968 | 5228.1 | 0 |\n",
       "| 13724 | 45 | unknown       | unknown  | unknown             | no      | yes     | yes     | cellular  | jul | ⋯ |  1 | 999 |  0 | nonexistent |  1.4 | 93.918 | -42.7 | 4.957 | 5228.1 | 1 |\n",
       "| 29863 | 26 | admin.        | single   | university.degree   | no      | yes     | no      | cellular  | may | ⋯ |  2 | 999 |  1 | failure     | -1.8 | 92.893 | -46.2 | 1.299 | 5099.1 | 0 |\n",
       "|  9841 | 33 | admin.        | married  | high.school         | no      | yes     | yes     | cellular  | may | ⋯ |  1 | 999 |  1 | failure     | -1.8 | 92.893 | -46.2 | 1.299 | 5099.1 | 0 |\n",
       "| 36432 | 43 | admin.        | married  | high.school         | no      | yes     | no      | telephone | jul | ⋯ | 10 | 999 |  0 | nonexistent |  1.4 | 93.918 | -42.7 | 4.960 | 5228.1 | 0 |\n",
       "| 15639 | 55 | blue-collar   | married  | basic.9y            | no      | yes     | yes     | cellular  | aug | ⋯ |  3 | 999 |  0 | nonexistent |  1.4 | 93.444 | -36.1 | 4.963 | 5228.1 | 0 |\n",
       "\n"
      ],
      "text/plain": [
       "      client_id age job           marital  education           default housing\n",
       "1     29925     42  management    married  basic.9y            no      no     \n",
       "2     37529     35  unemployed    married  university.degree   no      yes    \n",
       "3      2757     44  technician    married  basic.9y            no      yes    \n",
       "4      9642     45  services      married  high.school         no      yes    \n",
       "5     14183     45  unknown       married  unknown             unknown unknown\n",
       "6     15180     38  technician    married  professional.course no      no     \n",
       "7     27168     33  technician    married  professional.course no      no     \n",
       "8      9097     38  blue-collar   single   basic.9y            unknown yes    \n",
       "9     30538     29  blue-collar   single   unknown             no      yes    \n",
       "10    28981     34  admin.        divorced university.degree   no      yes    \n",
       "11     7989     47  blue-collar   married  high.school         unknown yes    \n",
       "12    13536     30  blue-collar   single   basic.9y            no      yes    \n",
       "13    24541     30  admin.        married  basic.6y            no      yes    \n",
       "14     6216     35  services      married  basic.6y            unknown yes    \n",
       "15    17983     45  management    married  professional.course no      no     \n",
       "16    29394     37  entrepreneur  married  university.degree   unknown yes    \n",
       "17    28825     48  blue-collar   married  basic.6y            no      no     \n",
       "18       41     47  admin.        married  basic.6y            unknown yes    \n",
       "19     7284     35  blue-collar   married  basic.9y            no      yes    \n",
       "20    28502     34  technician    married  professional.course no      no     \n",
       "21    11473     60  technician    married  university.degree   unknown yes    \n",
       "22     6134     35  services      single   high.school         no      no     \n",
       "23    33523     32  technician    married  university.degree   no      yes    \n",
       "24    21812     49  blue-collar   married  unknown             unknown yes    \n",
       "25    39895     45  technician    single   professional.course no      no     \n",
       "26     9326     33  blue-collar   single   basic.9y            unknown yes    \n",
       "27    26510     34  management    single   university.degree   no      unknown\n",
       "28    20960     57  retired       married  university.degree   no      yes    \n",
       "29    14403     50  technician    single   professional.course no      no     \n",
       "30    28799     49  housemaid     married  university.degree   no      yes    \n",
       "<U+22EE>     <U+22EE>  <U+22EE> <U+22EE>      <U+22EE> <U+22EE>            <U+22EE> <U+22EE>\n",
       "19971  3036     33  self-employed married  university.degree   no      no     \n",
       "19972 19102     31  admin.        single   university.degree   unknown yes    \n",
       "19973 37729     46  technician    married  professional.course no      no     \n",
       "19974 20186     50  self-employed married  unknown             no      unknown\n",
       "19975 38059     43  admin.        divorced university.degree   unknown no     \n",
       "19976  8099     32  technician    divorced professional.course no      no     \n",
       "19977 15178     37  housemaid     married  basic.4y            unknown no     \n",
       "19978 18920     47  technician    divorced high.school         no      yes    \n",
       "19979 19757     31  admin.        single   university.degree   no      yes    \n",
       "19980  9327     31  admin.        single   university.degree   unknown no     \n",
       "19981 16641     51  technician    married  professional.course no      yes    \n",
       "19982  9656     30  admin.        married  university.degree   no      yes    \n",
       "19983 37330     42  technician    married  professional.course unknown yes    \n",
       "19984 34568     32  blue-collar   married  basic.6y            no      yes    \n",
       "19985 23095     41  blue-collar   married  basic.6y            no      yes    \n",
       "19986 25383     48  admin.        divorced high.school         no      no     \n",
       "19987 16918     31  admin.        NA       university.degree   no      yes    \n",
       "19988  4245     35  blue-collar   single   unknown             no      yes    \n",
       "19989 21920     39  blue-collar   married  basic.4y            unknown yes    \n",
       "19990 29000     21  student       single   high.school         no      no     \n",
       "19991  6627     28  admin.        single   university.degree   no      yes    \n",
       "19992 35702     29  admin.        single   university.degree   no      yes    \n",
       "19993 38555     49  services      married  basic.4y            unknown no     \n",
       "19994 23289     38  blue-collar   divorced high.school         no      yes    \n",
       "19995  2969     36  blue-collar   single   high.school         no      yes    \n",
       "19996 13724     45  unknown       unknown  unknown             no      yes    \n",
       "19997 29863     26  admin.        single   university.degree   no      yes    \n",
       "19998  9841     33  admin.        married  high.school         no      yes    \n",
       "19999 36432     43  admin.        married  high.school         no      yes    \n",
       "20000 15639     55  blue-collar   married  basic.9y            no      yes    \n",
       "      loan    contact   month <U+22EF>        campaign pdays previous poutcome   \n",
       "1     no      cellular  jul   <U+22EF> 1        999   0        nonexistent\n",
       "2     no      telephone jun   <U+22EF> 4        999   0        nonexistent\n",
       "3     yes     cellular  may   <U+22EF> 1        999   0        nonexistent\n",
       "4     no      cellular  apr   <U+22EF> 1        999   0        nonexistent\n",
       "5     unknown telephone may   <U+22EF> 1        999   0        nonexistent\n",
       "6     no      telephone may   <U+22EF> 2        999   0        nonexistent\n",
       "7     yes     cellular  apr   <U+22EF> 1         NA   1        failure    \n",
       "8     no      telephone may   <U+22EF> 1        999   0        nonexistent\n",
       "9     no      cellular  may   <U+22EF> 1        999   1        failure    \n",
       "10    yes     cellular  aug   <U+22EF> 1        999   0        nonexistent\n",
       "11    no      telephone jun   <U+22EF> 3        999   0        nonexistent\n",
       "12    no      cellular  jul   <U+22EF> 1        999   0        nonexistent\n",
       "13    no      cellular  jul   <U+22EF> 1        999   0        nonexistent\n",
       "14    no      cellular  may   <U+22EF> 2        999   0        nonexistent\n",
       "15    no      cellular  nov   <U+22EF> 1        999   0        nonexistent\n",
       "16    no      cellular  nov   <U+22EF> 2        999   1        failure    \n",
       "17    no      telephone jun   <U+22EF> 2        999   0        nonexistent\n",
       "18    no      cellular  apr   <U+22EF> 2        999   1        failure    \n",
       "19    no      telephone may   <U+22EF> 1        999   0        nonexistent\n",
       "20    no      cellular  apr   <U+22EF> 3        999   0        nonexistent\n",
       "21    no      telephone may   <U+22EF> 5        999   0        nonexistent\n",
       "22    no      cellular  may   <U+22EF> 2        999   1        failure    \n",
       "23    no      cellular  may   <U+22EF> 1        999   0        nonexistent\n",
       "24    no      telephone may   <U+22EF> 1        999   0        nonexistent\n",
       "25    no      telephone may   <U+22EF> 2        999   0        nonexistent\n",
       "26    no      telephone jun   <U+22EF> 4        999   0        nonexistent\n",
       "27    unknown telephone nov   <U+22EF> 5        999   0        nonexistent\n",
       "28    no      telephone may   <U+22EF> 1        999   0        nonexistent\n",
       "29    yes     cellular  jul   <U+22EF> 8        999   0        nonexistent\n",
       "30    no      cellular  aug   <U+22EF> 2        999   0        nonexistent\n",
       "<U+22EE>     <U+22EE> <U+22EE>  <U+22EE> <U+22F1> <U+22EE> <U+22EE> <U+22EE> <U+22EE>   \n",
       "19971 no      cellular  aug   <U+22EF>  3       999    0       nonexistent\n",
       "19972 no      cellular  aug   <U+22EF>  1       999    0       nonexistent\n",
       "19973 no      telephone may   <U+22EF>  1       999    0       nonexistent\n",
       "19974 unknown cellular  jul   <U+22EF>  2       999    0       nonexistent\n",
       "19975 no      cellular  aug   <U+22EF>  2       999    0       nonexistent\n",
       "19976 no      cellular  nov   <U+22EF>  1       999    0       nonexistent\n",
       "19977 yes     cellular  aug   <U+22EF>  2       999    0       nonexistent\n",
       "19978 no      telephone jun   <U+22EF>  2       999   NA       nonexistent\n",
       "19979 no      cellular  aug   <U+22EF>  1       999    0       nonexistent\n",
       "19980 yes     cellular  aug   <U+22EF>  1       999    0       nonexistent\n",
       "19981 no      cellular  oct   <U+22EF>  6         6    3       failure    \n",
       "19982 no      cellular  aug   <U+22EF>  3       999    0       nonexistent\n",
       "19983 no      telephone may   <U+22EF>  3       999    0       nonexistent\n",
       "19984 no      telephone may   <U+22EF>  3       999    0       nonexistent\n",
       "19985 no      cellular  jul   <U+22EF>  3       999    0       nonexistent\n",
       "19986 yes     telephone may   <U+22EF>  2       999    0       nonexistent\n",
       "19987 yes     cellular  sep   <U+22EF>  1       999    0       nonexistent\n",
       "19988 no      telephone jul   <U+22EF> NA       999    0       nonexistent\n",
       "19989 no      telephone may   <U+22EF>  1       999    0       nonexistent\n",
       "19990 no      cellular  oct   <U+22EF>  1       999    0       nonexistent\n",
       "19991 no      cellular  sep   <U+22EF>  1         1    3       success    \n",
       "19992 no      cellular  aug   <U+22EF>  1       999    0       nonexistent\n",
       "19993 no      cellular  aug   <U+22EF>  2       999    0       nonexistent\n",
       "19994 no      cellular  may   <U+22EF>  6       999    1       failure    \n",
       "19995 no      cellular  jul   <U+22EF> 24       999    0       nonexistent\n",
       "19996 yes     cellular  jul   <U+22EF>  1       999    0       nonexistent\n",
       "19997 no      cellular  may   <U+22EF>  2       999    1       failure    \n",
       "19998 yes     cellular  may   <U+22EF>  1       999    1       failure    \n",
       "19999 no      telephone jul   <U+22EF> 10       999    0       nonexistent\n",
       "20000 yes     cellular  aug   <U+22EF>  3       999    0       nonexistent\n",
       "      emp.var.rate cons.price.idx cons.conf.idx euribor3m nr.employed subscribe\n",
       "1      1.4         93.918         -42.7         4.968     5228.1      0        \n",
       "2      1.4         94.465         -41.8         4.960     5228.1      0        \n",
       "3     -1.8         92.893         -46.2         1.264     5099.1      0        \n",
       "4     -1.8         93.075         -47.1         1.453     5099.1      0        \n",
       "5      1.1         93.994         -36.4         4.859     5191.0      0        \n",
       "6      1.1         93.994         -36.4         4.858     5191.0      0        \n",
       "7     -1.8         93.075         -47.1         1.405     5099.1      1        \n",
       "8      1.1         93.994         -36.4         4.857     5191.0      0        \n",
       "9     -1.8         92.893         -46.2         1.250     5099.1      0        \n",
       "10     1.4         93.444         -36.1         4.965     5228.1      0        \n",
       "11     1.4         94.465         -41.8         4.961     5228.1      0        \n",
       "12     1.4         93.918         -42.7         4.963     5228.1      0        \n",
       "13     1.4         93.918         -42.7         4.958     5228.1      0        \n",
       "14    -1.8         92.893         -46.2         1.344     5099.1      0        \n",
       "15    -0.1         93.200         -42.0         4.076     5195.8      1        \n",
       "16    -0.1         93.200         -42.0         4.191     5195.8      0        \n",
       "17     1.4         94.465         -41.8         4.866     5228.1      0        \n",
       "18    -1.8         93.075         -47.1         1.410     5099.1      0        \n",
       "19     1.1         93.994         -36.4         4.858     5191.0      0        \n",
       "20    -1.8         93.075         -47.1         1.405     5099.1      0        \n",
       "21     1.1         93.994         -36.4         4.855     5191.0      0        \n",
       "22    -1.8         92.893         -46.2         1.334     5099.1      0        \n",
       "23    -1.8         92.893         -46.2         1.281     5099.1      0        \n",
       "24     1.1         93.994         -36.4         4.856     5191.0      0        \n",
       "25     1.1         93.994         -36.4         4.856     5191.0      0        \n",
       "26     1.4         94.465         -41.8         4.865     5228.1      0        \n",
       "27    -0.1         93.200         -42.0         4.021     5195.8      0        \n",
       "28     1.1         93.994         -36.4         4.856     5191.0      0        \n",
       "29     1.4         93.918         -42.7         4.962     5228.1      0        \n",
       "30     1.4         93.444         -36.1         4.967     5228.1      0        \n",
       "<U+22EE>     <U+22EE>     <U+22EE>       <U+22EE>      <U+22EE>  <U+22EE>    <U+22EE> \n",
       "19971  1.4         93.444         -36.1         4.965     5228.1      0        \n",
       "19972  1.4         93.444         -36.1         4.964     5228.1      0        \n",
       "19973  1.1         93.994         -36.4         4.860     5191.0      0        \n",
       "19974 -2.9         92.469         -33.6         0.914     5076.2      0        \n",
       "19975  1.4         93.444         -36.1         4.966     5228.1      0        \n",
       "19976 -0.1         93.200         -42.0         4.153     5195.8      0        \n",
       "19977  1.4         93.444         -36.1         4.965     5228.1      0        \n",
       "19978  1.4         94.465         -41.8         4.865     5228.1      0        \n",
       "19979  1.4         93.444         -36.1         4.965     5228.1      0        \n",
       "19980  1.4         93.444         -36.1         4.968     5228.1      0        \n",
       "19981 -3.4         92.431         -26.9         0.754     5017.5      0        \n",
       "19982  1.4         93.444         -36.1         4.963     5228.1      0        \n",
       "19983  1.1         93.994         -36.4         4.864     5191.0      0        \n",
       "19984  1.1         93.994         -36.4         4.860     5191.0      0        \n",
       "19985  1.4         93.918         -42.7         4.968     5228.1      0        \n",
       "19986  1.1         93.994         -36.4         4.856     5191.0      0        \n",
       "19987 -1.1         94.199         -37.5         0.877     4963.6      1        \n",
       "19988  1.4         93.918         -42.7         4.960     5228.1      0        \n",
       "19989  1.1             NA         -36.4         4.859     5191.0      0        \n",
       "19990 -3.4         92.431            NA         0.728     5017.5      1        \n",
       "19991 -3.4         92.379         -29.8         0.773     5017.5      1        \n",
       "19992  1.4         93.444         -36.1         4.963     5228.1      0        \n",
       "19993  1.4         93.444         -36.1         4.963     5228.1      1        \n",
       "19994 -1.8         92.893         -46.2         1.344     5099.1      0        \n",
       "19995  1.4         93.918         -42.7         4.968     5228.1      0        \n",
       "19996  1.4         93.918         -42.7         4.957     5228.1      1        \n",
       "19997 -1.8         92.893         -46.2         1.299     5099.1      0        \n",
       "19998 -1.8         92.893         -46.2         1.299     5099.1      0        \n",
       "19999  1.4         93.918         -42.7         4.960     5228.1      0        \n",
       "20000  1.4         93.444         -36.1         4.963     5228.1      0        "
      ]
     },
     "metadata": {},
     "output_type": "display_data"
    }
   ],
   "source": [
    "# Checking how the table looks like \n",
    "# We have 20k rows and 21  variables\n",
    "train"
   ]
  },
  {
   "cell_type": "markdown",
   "id": "9e74f64f",
   "metadata": {
    "lines_to_next_cell": 2
   },
   "source": [
    "\n",
    "### Cleaning Train Table"
   ]
  },
  {
   "cell_type": "code",
   "execution_count": 7,
   "id": "327307a7",
   "metadata": {
    "lines_to_next_cell": 2
   },
   "outputs": [
    {
     "data": {
      "text/html": [
       "3664"
      ],
      "text/latex": [
       "3664"
      ],
      "text/markdown": [
       "3664"
      ],
      "text/plain": [
       "[1] 3664"
      ]
     },
     "metadata": {},
     "output_type": "display_data"
    }
   ],
   "source": [
    "# Sum of missing values in train bank marketing data set\n",
    "sum(is.na(train))"
   ]
  },
  {
   "cell_type": "code",
   "execution_count": 8,
   "id": "ac6d05ad",
   "metadata": {
    "lines_to_next_cell": 2
   },
   "outputs": [
    {
     "data": {
      "text/html": [
       "<style>\n",
       ".dl-inline {width: auto; margin:0; padding: 0}\n",
       ".dl-inline>dt, .dl-inline>dd {float: none; width: auto; display: inline-block}\n",
       ".dl-inline>dt::after {content: \":\\0020\"; padding-right: .5ex}\n",
       ".dl-inline>dt:not(:first-of-type) {padding-left: .5ex}\n",
       "</style><dl class=dl-inline><dt>client_id</dt><dd>0</dd><dt>age</dt><dd>202</dd><dt>job</dt><dd>161</dd><dt>marital</dt><dd>199</dd><dt>education</dt><dd>170</dd><dt>default</dt><dd>214</dd><dt>housing</dt><dd>195</dd><dt>loan</dt><dd>219</dd><dt>contact</dt><dd>217</dd><dt>month</dt><dd>199</dd><dt>day_of_week</dt><dd>185</dd><dt>campaign</dt><dd>203</dd><dt>pdays</dt><dd>185</dd><dt>previous</dt><dd>209</dd><dt>poutcome</dt><dd>175</dd><dt>emp.var.rate</dt><dd>165</dd><dt>cons.price.idx</dt><dd>181</dd><dt>cons.conf.idx</dt><dd>197</dd><dt>euribor3m</dt><dd>204</dd><dt>nr.employed</dt><dd>184</dd><dt>subscribe</dt><dd>0</dd></dl>\n"
      ],
      "text/latex": [
       "\\begin{description*}\n",
       "\\item[client\\textbackslash{}\\_id] 0\n",
       "\\item[age] 202\n",
       "\\item[job] 161\n",
       "\\item[marital] 199\n",
       "\\item[education] 170\n",
       "\\item[default] 214\n",
       "\\item[housing] 195\n",
       "\\item[loan] 219\n",
       "\\item[contact] 217\n",
       "\\item[month] 199\n",
       "\\item[day\\textbackslash{}\\_of\\textbackslash{}\\_week] 185\n",
       "\\item[campaign] 203\n",
       "\\item[pdays] 185\n",
       "\\item[previous] 209\n",
       "\\item[poutcome] 175\n",
       "\\item[emp.var.rate] 165\n",
       "\\item[cons.price.idx] 181\n",
       "\\item[cons.conf.idx] 197\n",
       "\\item[euribor3m] 204\n",
       "\\item[nr.employed] 184\n",
       "\\item[subscribe] 0\n",
       "\\end{description*}\n"
      ],
      "text/markdown": [
       "client_id\n",
       ":   0age\n",
       ":   202job\n",
       ":   161marital\n",
       ":   199education\n",
       ":   170default\n",
       ":   214housing\n",
       ":   195loan\n",
       ":   219contact\n",
       ":   217month\n",
       ":   199day_of_week\n",
       ":   185campaign\n",
       ":   203pdays\n",
       ":   185previous\n",
       ":   209poutcome\n",
       ":   175emp.var.rate\n",
       ":   165cons.price.idx\n",
       ":   181cons.conf.idx\n",
       ":   197euribor3m\n",
       ":   204nr.employed\n",
       ":   184subscribe\n",
       ":   0\n",
       "\n"
      ],
      "text/plain": [
       "     client_id            age            job        marital      education \n",
       "             0            202            161            199            170 \n",
       "       default        housing           loan        contact          month \n",
       "           214            195            219            217            199 \n",
       "   day_of_week       campaign          pdays       previous       poutcome \n",
       "           185            203            185            209            175 \n",
       "  emp.var.rate cons.price.idx  cons.conf.idx      euribor3m    nr.employed \n",
       "           165            181            197            204            184 \n",
       "     subscribe \n",
       "             0 "
      ]
     },
     "metadata": {},
     "output_type": "display_data"
    }
   ],
   "source": [
    "# Missing values per variable in train\n",
    "missing_values <- sapply(train, function(x) sum(is.na(x)))\n",
    "missing_values"
   ]
  },
  {
   "cell_type": "markdown",
   "id": "05add52e",
   "metadata": {
    "lines_to_next_cell": 2
   },
   "source": [
    "\n",
    "As our missing data represent only a maximum of 1% of the total observation in each variable, it is possible to drop them. In order to check if our dropping idea was right we will check how many observations has been deleted in total. If the dropping will result in more than 10% lose of observations then we will keep and replace the missing values."
   ]
  },
  {
   "cell_type": "code",
   "execution_count": 9,
   "id": "b59a5612",
   "metadata": {
    "lines_to_next_cell": 2
   },
   "outputs": [
    {
     "data": {
      "text/html": [
       "16633"
      ],
      "text/latex": [
       "16633"
      ],
      "text/markdown": [
       "16633"
      ],
      "text/plain": [
       "[1] 16633"
      ]
     },
     "metadata": {},
     "output_type": "display_data"
    }
   ],
   "source": [
    "# Dropping all na\n",
    "\n",
    "traindrop <- train %>% drop_na()\n",
    "nrow(traindrop)"
   ]
  },
  {
   "cell_type": "markdown",
   "id": "f5e09386",
   "metadata": {
    "lines_to_next_cell": 2
   },
   "source": [
    "\n",
    "We can see that this technique would lead to a huge lose of data, more than 16% of our total observations. We will then keep and replace our missing data.  \n",
    "- With a new category 'other' for categorical data unless this category already exists\n",
    "- With a new category 'other' for logical data (as missing data represents less than 5% of observations)\n",
    "- With the median or mean for numerical values\n",
    "\n",
    "We will need to create indicators variable for numerical to track the missing data as it can be correlated to our target as well. We will also need to process with the same cleaning steps for both train and test data. "
   ]
  },
  {
   "cell_type": "markdown",
   "id": "88152983",
   "metadata": {
    "lines_to_next_cell": 2
   },
   "source": [
    "\n",
    " #### 1. Categorical data \n",
    "It represents job, marital status, education, contact, month, day_of_week and poutcome"
   ]
  },
  {
   "cell_type": "code",
   "execution_count": 10,
   "id": "37760fc4",
   "metadata": {
    "lines_to_next_cell": 2
   },
   "outputs": [],
   "source": [
    "# Replacing NA for categorical data\n",
    "\n",
    "# NA for job: As an 'unknown' category already exists then we replace the missing value with it\n",
    "train$job = train$job %>% replace_na('unknown')\n",
    "\n",
    "# NA for marital status: As an 'unknown' category already exists then we replace the missing value with it\n",
    "train$marital = train$marital %>% replace_na('unknown')\n",
    "\n",
    "# NA for education: As an 'unknown' category already exists then we replace the missing value with it\n",
    "train$education = train$education %>% replace_na('unknown')\n",
    "\n",
    "# NA for contact: As 'unknown' category doesn't exist yet we create it\n",
    "train$contact = train$contact %>% replace_na('unknown')\n",
    "\n",
    "# NA for month: As 'unknown' category doesn't exist yet we create it\n",
    "train$month = train$month %>% replace_na('unknown')\n",
    "\n",
    "# NA for day_of_week: As 'unknown' category doesn't exist yet we create it\n",
    "train$day_of_week = train$day_of_week %>% replace_na('unknown')\n",
    "\n",
    "# NA for poutcome: As an 'nonexistent' category already exists then we replace the missing value with it\n",
    "train$poutcome = train$poutcome %>% replace_na('nonexistent')"
   ]
  },
  {
   "cell_type": "markdown",
   "id": "d3a4a80e",
   "metadata": {
    "lines_to_next_cell": 2
   },
   "source": [
    "\n",
    "#### 2. Logical data\n",
    "It represents default, housing, loan and subscribe (target)"
   ]
  },
  {
   "cell_type": "code",
   "execution_count": 11,
   "id": "6d7a1eb4",
   "metadata": {
    "lines_to_next_cell": 2
   },
   "outputs": [],
   "source": [
    "# Dealing with NA for logical data\n",
    "\n",
    "# NA for default: As an 'unknown' category already exists then we replace the missing value with it\n",
    "train$default = train$default %>% replace_na('unknown')\n",
    "\n",
    "# NA for housing: As an 'unknown' category already exists then we replace the missing value with it\n",
    "train$housing= train$housing %>% replace_na('unknown')\n",
    "\n",
    "# NA for loan: As an 'unknown' category already exists then we replace the missing value with it\n",
    "train$loan = train$loan %>% replace_na('unknown')\n",
    "\n",
    "# Subscribe doesn't have any missing value"
   ]
  },
  {
   "cell_type": "markdown",
   "id": "500699dd",
   "metadata": {
    "lines_to_next_cell": 2
   },
   "source": [
    "\n",
    "#### 3. Numerical data \n",
    "\n",
    "*For numerical data we need to create indicators to track the imputation*\n",
    "\n",
    "- age will be replaced by the median\n",
    "- campaign: the higher the better, it is not categorical\n",
    "- Pdays: replacing 999 by zero and creating a new variable (or checking how many zeros first)\n",
    "- previous: replacing by the median\n",
    "- emp.var.rate, cons.price.idx, cons.conf.idx, euribor3m, nr.employed will be replaced by the mean"
   ]
  },
  {
   "cell_type": "code",
   "execution_count": 12,
   "id": "b278bd9b",
   "metadata": {
    "lines_to_next_cell": 2
   },
   "outputs": [],
   "source": [
    "# We will replace age by the median\n",
    "# -> we can also create categorical variable for the age depending of our model result\n",
    "\n",
    "# First step: creating a new variable \n",
    "train$missing_age <- ifelse(is.na(train$age) == TRUE, 1, 0)\n",
    "\n",
    "# Second step: replacing by the median\n",
    "train$age[is.na(train$age)]<-mean(train$age,na.rm=TRUE)"
   ]
  },
  {
   "cell_type": "code",
   "execution_count": 13,
   "id": "0d09b735",
   "metadata": {
    "lines_to_next_cell": 2
   },
   "outputs": [],
   "source": [
    "# For campaign variable\n",
    "\n",
    "# We create a new 'campaign_missing' variable: 1 for missing and 0 otherwise\n",
    "train$missing_campaign <- ifelse(is.na(train$campaign) == TRUE, 1, 0)\n",
    "\n",
    "# We will replace campaign missing value by the median \n",
    "train$campaign[is.na(train$campaign)]<-mean(train$campaign,na.rm=TRUE)"
   ]
  },
  {
   "cell_type": "code",
   "execution_count": 14,
   "id": "a70424fd",
   "metadata": {
    "lines_to_next_cell": 2
   },
   "outputs": [],
   "source": [
    "# Checking if it was correctly assign \n",
    "#checkingmissing = train[,c('campaign','missing_campaign')]\n",
    "#checkingmissing[order(checkingmissing$campaign),]"
   ]
  },
  {
   "cell_type": "code",
   "execution_count": 15,
   "id": "a3cc8552",
   "metadata": {
    "lines_to_next_cell": 2
   },
   "outputs": [
    {
     "data": {
      "text/html": [
       "<table class=\"dataframe\">\n",
       "<caption>A data.frame: 25 × 2</caption>\n",
       "<thead>\n",
       "\t<tr><th scope=col>Var1</th><th scope=col>Freq</th></tr>\n",
       "\t<tr><th scope=col>&lt;fct&gt;</th><th scope=col>&lt;int&gt;</th></tr>\n",
       "</thead>\n",
       "<tbody>\n",
       "\t<tr><td>0  </td><td>    8</td></tr>\n",
       "\t<tr><td>1  </td><td>    9</td></tr>\n",
       "\t<tr><td>2  </td><td>   30</td></tr>\n",
       "\t<tr><td>3  </td><td>  221</td></tr>\n",
       "\t<tr><td>4  </td><td>   62</td></tr>\n",
       "\t<tr><td>5  </td><td>   21</td></tr>\n",
       "\t<tr><td>6  </td><td>  209</td></tr>\n",
       "\t<tr><td>7  </td><td>   28</td></tr>\n",
       "\t<tr><td>8  </td><td>   11</td></tr>\n",
       "\t<tr><td>9  </td><td>   33</td></tr>\n",
       "\t<tr><td>10 </td><td>   27</td></tr>\n",
       "\t<tr><td>11 </td><td>   12</td></tr>\n",
       "\t<tr><td>12 </td><td>   27</td></tr>\n",
       "\t<tr><td>13 </td><td>   14</td></tr>\n",
       "\t<tr><td>14 </td><td>    7</td></tr>\n",
       "\t<tr><td>15 </td><td>   12</td></tr>\n",
       "\t<tr><td>16 </td><td>    5</td></tr>\n",
       "\t<tr><td>17 </td><td>    3</td></tr>\n",
       "\t<tr><td>18 </td><td>    4</td></tr>\n",
       "\t<tr><td>19 </td><td>    1</td></tr>\n",
       "\t<tr><td>21 </td><td>    1</td></tr>\n",
       "\t<tr><td>22 </td><td>    3</td></tr>\n",
       "\t<tr><td>26 </td><td>    1</td></tr>\n",
       "\t<tr><td>27 </td><td>    1</td></tr>\n",
       "\t<tr><td>999</td><td>19065</td></tr>\n",
       "</tbody>\n",
       "</table>\n"
      ],
      "text/latex": [
       "A data.frame: 25 × 2\n",
       "\\begin{tabular}{ll}\n",
       " Var1 & Freq\\\\\n",
       " <fct> & <int>\\\\\n",
       "\\hline\n",
       "\t 0   &     8\\\\\n",
       "\t 1   &     9\\\\\n",
       "\t 2   &    30\\\\\n",
       "\t 3   &   221\\\\\n",
       "\t 4   &    62\\\\\n",
       "\t 5   &    21\\\\\n",
       "\t 6   &   209\\\\\n",
       "\t 7   &    28\\\\\n",
       "\t 8   &    11\\\\\n",
       "\t 9   &    33\\\\\n",
       "\t 10  &    27\\\\\n",
       "\t 11  &    12\\\\\n",
       "\t 12  &    27\\\\\n",
       "\t 13  &    14\\\\\n",
       "\t 14  &     7\\\\\n",
       "\t 15  &    12\\\\\n",
       "\t 16  &     5\\\\\n",
       "\t 17  &     3\\\\\n",
       "\t 18  &     4\\\\\n",
       "\t 19  &     1\\\\\n",
       "\t 21  &     1\\\\\n",
       "\t 22  &     3\\\\\n",
       "\t 26  &     1\\\\\n",
       "\t 27  &     1\\\\\n",
       "\t 999 & 19065\\\\\n",
       "\\end{tabular}\n"
      ],
      "text/markdown": [
       "\n",
       "A data.frame: 25 × 2\n",
       "\n",
       "| Var1 &lt;fct&gt; | Freq &lt;int&gt; |\n",
       "|---|---|\n",
       "| 0   |     8 |\n",
       "| 1   |     9 |\n",
       "| 2   |    30 |\n",
       "| 3   |   221 |\n",
       "| 4   |    62 |\n",
       "| 5   |    21 |\n",
       "| 6   |   209 |\n",
       "| 7   |    28 |\n",
       "| 8   |    11 |\n",
       "| 9   |    33 |\n",
       "| 10  |    27 |\n",
       "| 11  |    12 |\n",
       "| 12  |    27 |\n",
       "| 13  |    14 |\n",
       "| 14  |     7 |\n",
       "| 15  |    12 |\n",
       "| 16  |     5 |\n",
       "| 17  |     3 |\n",
       "| 18  |     4 |\n",
       "| 19  |     1 |\n",
       "| 21  |     1 |\n",
       "| 22  |     3 |\n",
       "| 26  |     1 |\n",
       "| 27  |     1 |\n",
       "| 999 | 19065 |\n",
       "\n"
      ],
      "text/plain": [
       "   Var1 Freq \n",
       "1  0        8\n",
       "2  1        9\n",
       "3  2       30\n",
       "4  3      221\n",
       "5  4       62\n",
       "6  5       21\n",
       "7  6      209\n",
       "8  7       28\n",
       "9  8       11\n",
       "10 9       33\n",
       "11 10      27\n",
       "12 11      12\n",
       "13 12      27\n",
       "14 13      14\n",
       "15 14       7\n",
       "16 15      12\n",
       "17 16       5\n",
       "18 17       3\n",
       "19 18       4\n",
       "20 19       1\n",
       "21 21       1\n",
       "22 22       3\n",
       "23 26       1\n",
       "24 27       1\n",
       "25 999  19065"
      ]
     },
     "metadata": {},
     "output_type": "display_data"
    }
   ],
   "source": [
    "# Checking how many people with 0. \n",
    "#We do not have a lot of data in zero, we can assign a 1 instead of 0 for these clients\n",
    "# -> We can also assign categorical variable instead of numerical later on\n",
    "as.data.frame(table(train$pdays))"
   ]
  },
  {
   "cell_type": "code",
   "execution_count": 16,
   "id": "0ba2363d",
   "metadata": {
    "lines_to_next_cell": 2
   },
   "outputs": [],
   "source": [
    "# For pdays variable\n",
    "\n",
    "# First we replace pdays 0 values with 1 (the difference in days for 0 and 1 is not huge)\n",
    "train[\"pdays\"][train[\"pdays\"] == 0] <- 1\n",
    "\n",
    "# We create a new indicator variable for '999' to track the replacement\n",
    "train$replace999 <- ifelse(train$pdays == 999, 1, 0)\n",
    "train$replace999 <- ifelse(is.na(train$replace999) == TRUE, 1, 0)\n",
    "\n",
    "# We replace pdays 999 values with zero (So the zero is more significant for people without contact)\n",
    "train[\"pdays\"][train[\"pdays\"] == 999] <- 0\n",
    "\n",
    "# We track the NA values as a new variable\n",
    "train$missing_pdays <- ifelse(is.na(train$pdays) == TRUE, 1, 0)\n",
    "\n",
    "# We can finally replace the NA values by zero \n",
    "train$pdays = train$pdays %>% replace_na(0)"
   ]
  },
  {
   "cell_type": "code",
   "execution_count": 17,
   "id": "33dbd01e",
   "metadata": {
    "lines_to_next_cell": 2
   },
   "outputs": [
    {
     "data": {
      "text/html": [
       "<table class=\"dataframe\">\n",
       "<caption>A data.frame: 20000 × 25</caption>\n",
       "<thead>\n",
       "\t<tr><th scope=col>client_id</th><th scope=col>age</th><th scope=col>job</th><th scope=col>marital</th><th scope=col>education</th><th scope=col>default</th><th scope=col>housing</th><th scope=col>loan</th><th scope=col>contact</th><th scope=col>month</th><th scope=col>⋯</th><th scope=col>emp.var.rate</th><th scope=col>cons.price.idx</th><th scope=col>cons.conf.idx</th><th scope=col>euribor3m</th><th scope=col>nr.employed</th><th scope=col>subscribe</th><th scope=col>missing_age</th><th scope=col>missing_campaign</th><th scope=col>replace999</th><th scope=col>missing_pdays</th></tr>\n",
       "\t<tr><th scope=col>&lt;int&gt;</th><th scope=col>&lt;dbl&gt;</th><th scope=col>&lt;chr&gt;</th><th scope=col>&lt;chr&gt;</th><th scope=col>&lt;chr&gt;</th><th scope=col>&lt;chr&gt;</th><th scope=col>&lt;chr&gt;</th><th scope=col>&lt;chr&gt;</th><th scope=col>&lt;chr&gt;</th><th scope=col>&lt;chr&gt;</th><th scope=col>⋯</th><th scope=col>&lt;dbl&gt;</th><th scope=col>&lt;dbl&gt;</th><th scope=col>&lt;dbl&gt;</th><th scope=col>&lt;dbl&gt;</th><th scope=col>&lt;dbl&gt;</th><th scope=col>&lt;int&gt;</th><th scope=col>&lt;dbl&gt;</th><th scope=col>&lt;dbl&gt;</th><th scope=col>&lt;dbl&gt;</th><th scope=col>&lt;dbl&gt;</th></tr>\n",
       "</thead>\n",
       "<tbody>\n",
       "\t<tr><td>29925</td><td>42</td><td>management  </td><td>married </td><td>basic.9y           </td><td>no     </td><td>no     </td><td>no     </td><td>cellular </td><td>jul</td><td>⋯</td><td> 1.4</td><td>93.918</td><td>-42.7</td><td>4.968</td><td>5228.1</td><td>0</td><td>0</td><td>0</td><td>0</td><td>0</td></tr>\n",
       "\t<tr><td>37529</td><td>35</td><td>unemployed  </td><td>married </td><td>university.degree  </td><td>no     </td><td>yes    </td><td>no     </td><td>telephone</td><td>jun</td><td>⋯</td><td> 1.4</td><td>94.465</td><td>-41.8</td><td>4.960</td><td>5228.1</td><td>0</td><td>0</td><td>0</td><td>0</td><td>0</td></tr>\n",
       "\t<tr><td> 2757</td><td>44</td><td>technician  </td><td>married </td><td>basic.9y           </td><td>no     </td><td>yes    </td><td>yes    </td><td>cellular </td><td>may</td><td>⋯</td><td>-1.8</td><td>92.893</td><td>-46.2</td><td>1.264</td><td>5099.1</td><td>0</td><td>0</td><td>0</td><td>0</td><td>0</td></tr>\n",
       "\t<tr><td> 9642</td><td>45</td><td>services    </td><td>married </td><td>high.school        </td><td>no     </td><td>yes    </td><td>no     </td><td>cellular </td><td>apr</td><td>⋯</td><td>-1.8</td><td>93.075</td><td>-47.1</td><td>1.453</td><td>5099.1</td><td>0</td><td>0</td><td>0</td><td>0</td><td>0</td></tr>\n",
       "\t<tr><td>14183</td><td>45</td><td>unknown     </td><td>married </td><td>unknown            </td><td>unknown</td><td>unknown</td><td>unknown</td><td>telephone</td><td>may</td><td>⋯</td><td> 1.1</td><td>93.994</td><td>-36.4</td><td>4.859</td><td>5191.0</td><td>0</td><td>0</td><td>0</td><td>0</td><td>0</td></tr>\n",
       "\t<tr><td>15180</td><td>38</td><td>technician  </td><td>married </td><td>professional.course</td><td>no     </td><td>no     </td><td>no     </td><td>telephone</td><td>may</td><td>⋯</td><td> 1.1</td><td>93.994</td><td>-36.4</td><td>4.858</td><td>5191.0</td><td>0</td><td>0</td><td>0</td><td>0</td><td>0</td></tr>\n",
       "\t<tr><td>27168</td><td>33</td><td>technician  </td><td>married </td><td>professional.course</td><td>no     </td><td>no     </td><td>yes    </td><td>cellular </td><td>apr</td><td>⋯</td><td>-1.8</td><td>93.075</td><td>-47.1</td><td>1.405</td><td>5099.1</td><td>1</td><td>0</td><td>0</td><td>1</td><td>1</td></tr>\n",
       "\t<tr><td> 9097</td><td>38</td><td>blue-collar </td><td>single  </td><td>basic.9y           </td><td>unknown</td><td>yes    </td><td>no     </td><td>telephone</td><td>may</td><td>⋯</td><td> 1.1</td><td>93.994</td><td>-36.4</td><td>4.857</td><td>5191.0</td><td>0</td><td>0</td><td>0</td><td>0</td><td>0</td></tr>\n",
       "\t<tr><td>30538</td><td>29</td><td>blue-collar </td><td>single  </td><td>unknown            </td><td>no     </td><td>yes    </td><td>no     </td><td>cellular </td><td>may</td><td>⋯</td><td>-1.8</td><td>92.893</td><td>-46.2</td><td>1.250</td><td>5099.1</td><td>0</td><td>0</td><td>0</td><td>0</td><td>0</td></tr>\n",
       "\t<tr><td>28981</td><td>34</td><td>admin.      </td><td>divorced</td><td>university.degree  </td><td>no     </td><td>yes    </td><td>yes    </td><td>cellular </td><td>aug</td><td>⋯</td><td> 1.4</td><td>93.444</td><td>-36.1</td><td>4.965</td><td>5228.1</td><td>0</td><td>0</td><td>0</td><td>0</td><td>0</td></tr>\n",
       "\t<tr><td> 7989</td><td>47</td><td>blue-collar </td><td>married </td><td>high.school        </td><td>unknown</td><td>yes    </td><td>no     </td><td>telephone</td><td>jun</td><td>⋯</td><td> 1.4</td><td>94.465</td><td>-41.8</td><td>4.961</td><td>5228.1</td><td>0</td><td>0</td><td>0</td><td>0</td><td>0</td></tr>\n",
       "\t<tr><td>13536</td><td>30</td><td>blue-collar </td><td>single  </td><td>basic.9y           </td><td>no     </td><td>yes    </td><td>no     </td><td>cellular </td><td>jul</td><td>⋯</td><td> 1.4</td><td>93.918</td><td>-42.7</td><td>4.963</td><td>5228.1</td><td>0</td><td>0</td><td>0</td><td>0</td><td>0</td></tr>\n",
       "\t<tr><td>24541</td><td>30</td><td>admin.      </td><td>married </td><td>basic.6y           </td><td>no     </td><td>yes    </td><td>no     </td><td>cellular </td><td>jul</td><td>⋯</td><td> 1.4</td><td>93.918</td><td>-42.7</td><td>4.958</td><td>5228.1</td><td>0</td><td>0</td><td>0</td><td>0</td><td>0</td></tr>\n",
       "\t<tr><td> 6216</td><td>35</td><td>services    </td><td>married </td><td>basic.6y           </td><td>unknown</td><td>yes    </td><td>no     </td><td>cellular </td><td>may</td><td>⋯</td><td>-1.8</td><td>92.893</td><td>-46.2</td><td>1.344</td><td>5099.1</td><td>0</td><td>0</td><td>0</td><td>0</td><td>0</td></tr>\n",
       "\t<tr><td>17983</td><td>45</td><td>management  </td><td>married </td><td>professional.course</td><td>no     </td><td>no     </td><td>no     </td><td>cellular </td><td>nov</td><td>⋯</td><td>-0.1</td><td>93.200</td><td>-42.0</td><td>4.076</td><td>5195.8</td><td>1</td><td>0</td><td>0</td><td>0</td><td>0</td></tr>\n",
       "\t<tr><td>29394</td><td>37</td><td>entrepreneur</td><td>married </td><td>university.degree  </td><td>unknown</td><td>yes    </td><td>no     </td><td>cellular </td><td>nov</td><td>⋯</td><td>-0.1</td><td>93.200</td><td>-42.0</td><td>4.191</td><td>5195.8</td><td>0</td><td>0</td><td>0</td><td>0</td><td>0</td></tr>\n",
       "\t<tr><td>28825</td><td>48</td><td>blue-collar </td><td>married </td><td>basic.6y           </td><td>no     </td><td>no     </td><td>no     </td><td>telephone</td><td>jun</td><td>⋯</td><td> 1.4</td><td>94.465</td><td>-41.8</td><td>4.866</td><td>5228.1</td><td>0</td><td>0</td><td>0</td><td>0</td><td>0</td></tr>\n",
       "\t<tr><td>   41</td><td>47</td><td>admin.      </td><td>married </td><td>basic.6y           </td><td>unknown</td><td>yes    </td><td>no     </td><td>cellular </td><td>apr</td><td>⋯</td><td>-1.8</td><td>93.075</td><td>-47.1</td><td>1.410</td><td>5099.1</td><td>0</td><td>0</td><td>0</td><td>0</td><td>0</td></tr>\n",
       "\t<tr><td> 7284</td><td>35</td><td>blue-collar </td><td>married </td><td>basic.9y           </td><td>no     </td><td>yes    </td><td>no     </td><td>telephone</td><td>may</td><td>⋯</td><td> 1.1</td><td>93.994</td><td>-36.4</td><td>4.858</td><td>5191.0</td><td>0</td><td>0</td><td>0</td><td>0</td><td>0</td></tr>\n",
       "\t<tr><td>28502</td><td>34</td><td>technician  </td><td>married </td><td>professional.course</td><td>no     </td><td>no     </td><td>no     </td><td>cellular </td><td>apr</td><td>⋯</td><td>-1.8</td><td>93.075</td><td>-47.1</td><td>1.405</td><td>5099.1</td><td>0</td><td>0</td><td>0</td><td>0</td><td>0</td></tr>\n",
       "\t<tr><td>11473</td><td>60</td><td>technician  </td><td>married </td><td>university.degree  </td><td>unknown</td><td>yes    </td><td>no     </td><td>telephone</td><td>may</td><td>⋯</td><td> 1.1</td><td>93.994</td><td>-36.4</td><td>4.855</td><td>5191.0</td><td>0</td><td>0</td><td>0</td><td>0</td><td>0</td></tr>\n",
       "\t<tr><td> 6134</td><td>35</td><td>services    </td><td>single  </td><td>high.school        </td><td>no     </td><td>no     </td><td>no     </td><td>cellular </td><td>may</td><td>⋯</td><td>-1.8</td><td>92.893</td><td>-46.2</td><td>1.334</td><td>5099.1</td><td>0</td><td>0</td><td>0</td><td>0</td><td>0</td></tr>\n",
       "\t<tr><td>33523</td><td>32</td><td>technician  </td><td>married </td><td>university.degree  </td><td>no     </td><td>yes    </td><td>no     </td><td>cellular </td><td>may</td><td>⋯</td><td>-1.8</td><td>92.893</td><td>-46.2</td><td>1.281</td><td>5099.1</td><td>0</td><td>0</td><td>0</td><td>0</td><td>0</td></tr>\n",
       "\t<tr><td>21812</td><td>49</td><td>blue-collar </td><td>married </td><td>unknown            </td><td>unknown</td><td>yes    </td><td>no     </td><td>telephone</td><td>may</td><td>⋯</td><td> 1.1</td><td>93.994</td><td>-36.4</td><td>4.856</td><td>5191.0</td><td>0</td><td>0</td><td>0</td><td>0</td><td>0</td></tr>\n",
       "\t<tr><td>39895</td><td>45</td><td>technician  </td><td>single  </td><td>professional.course</td><td>no     </td><td>no     </td><td>no     </td><td>telephone</td><td>may</td><td>⋯</td><td> 1.1</td><td>93.994</td><td>-36.4</td><td>4.856</td><td>5191.0</td><td>0</td><td>0</td><td>0</td><td>0</td><td>0</td></tr>\n",
       "\t<tr><td> 9326</td><td>33</td><td>blue-collar </td><td>single  </td><td>basic.9y           </td><td>unknown</td><td>yes    </td><td>no     </td><td>telephone</td><td>jun</td><td>⋯</td><td> 1.4</td><td>94.465</td><td>-41.8</td><td>4.865</td><td>5228.1</td><td>0</td><td>0</td><td>0</td><td>0</td><td>0</td></tr>\n",
       "\t<tr><td>26510</td><td>34</td><td>management  </td><td>single  </td><td>university.degree  </td><td>no     </td><td>unknown</td><td>unknown</td><td>telephone</td><td>nov</td><td>⋯</td><td>-0.1</td><td>93.200</td><td>-42.0</td><td>4.021</td><td>5195.8</td><td>0</td><td>0</td><td>0</td><td>0</td><td>0</td></tr>\n",
       "\t<tr><td>20960</td><td>57</td><td>retired     </td><td>married </td><td>university.degree  </td><td>no     </td><td>yes    </td><td>no     </td><td>telephone</td><td>may</td><td>⋯</td><td> 1.1</td><td>93.994</td><td>-36.4</td><td>4.856</td><td>5191.0</td><td>0</td><td>0</td><td>0</td><td>0</td><td>0</td></tr>\n",
       "\t<tr><td>14403</td><td>50</td><td>technician  </td><td>single  </td><td>professional.course</td><td>no     </td><td>no     </td><td>yes    </td><td>cellular </td><td>jul</td><td>⋯</td><td> 1.4</td><td>93.918</td><td>-42.7</td><td>4.962</td><td>5228.1</td><td>0</td><td>0</td><td>0</td><td>0</td><td>0</td></tr>\n",
       "\t<tr><td>28799</td><td>49</td><td>housemaid   </td><td>married </td><td>university.degree  </td><td>no     </td><td>yes    </td><td>no     </td><td>cellular </td><td>aug</td><td>⋯</td><td> 1.4</td><td>93.444</td><td>-36.1</td><td>4.967</td><td>5228.1</td><td>0</td><td>0</td><td>0</td><td>0</td><td>0</td></tr>\n",
       "\t<tr><td>⋮</td><td>⋮</td><td>⋮</td><td>⋮</td><td>⋮</td><td>⋮</td><td>⋮</td><td>⋮</td><td>⋮</td><td>⋮</td><td>⋱</td><td>⋮</td><td>⋮</td><td>⋮</td><td>⋮</td><td>⋮</td><td>⋮</td><td>⋮</td><td>⋮</td><td>⋮</td><td>⋮</td></tr>\n",
       "\t<tr><td> 3036</td><td>33</td><td>self-employed</td><td>married </td><td>university.degree  </td><td>no     </td><td>no     </td><td>no     </td><td>cellular </td><td>aug</td><td>⋯</td><td> 1.4</td><td>93.444</td><td>-36.1</td><td>4.965</td><td>5228.1</td><td>0</td><td>0</td><td>0</td><td>0</td><td>0</td></tr>\n",
       "\t<tr><td>19102</td><td>31</td><td>admin.       </td><td>single  </td><td>university.degree  </td><td>unknown</td><td>yes    </td><td>no     </td><td>cellular </td><td>aug</td><td>⋯</td><td> 1.4</td><td>93.444</td><td>-36.1</td><td>4.964</td><td>5228.1</td><td>0</td><td>0</td><td>0</td><td>0</td><td>0</td></tr>\n",
       "\t<tr><td>37729</td><td>46</td><td>technician   </td><td>married </td><td>professional.course</td><td>no     </td><td>no     </td><td>no     </td><td>telephone</td><td>may</td><td>⋯</td><td> 1.1</td><td>93.994</td><td>-36.4</td><td>4.860</td><td>5191.0</td><td>0</td><td>0</td><td>0</td><td>0</td><td>0</td></tr>\n",
       "\t<tr><td>20186</td><td>50</td><td>self-employed</td><td>married </td><td>unknown            </td><td>no     </td><td>unknown</td><td>unknown</td><td>cellular </td><td>jul</td><td>⋯</td><td>-2.9</td><td>92.469</td><td>-33.6</td><td>0.914</td><td>5076.2</td><td>0</td><td>0</td><td>0</td><td>0</td><td>0</td></tr>\n",
       "\t<tr><td>38059</td><td>43</td><td>admin.       </td><td>divorced</td><td>university.degree  </td><td>unknown</td><td>no     </td><td>no     </td><td>cellular </td><td>aug</td><td>⋯</td><td> 1.4</td><td>93.444</td><td>-36.1</td><td>4.966</td><td>5228.1</td><td>0</td><td>0</td><td>0</td><td>0</td><td>0</td></tr>\n",
       "\t<tr><td> 8099</td><td>32</td><td>technician   </td><td>divorced</td><td>professional.course</td><td>no     </td><td>no     </td><td>no     </td><td>cellular </td><td>nov</td><td>⋯</td><td>-0.1</td><td>93.200</td><td>-42.0</td><td>4.153</td><td>5195.8</td><td>0</td><td>0</td><td>0</td><td>0</td><td>0</td></tr>\n",
       "\t<tr><td>15178</td><td>37</td><td>housemaid    </td><td>married </td><td>basic.4y           </td><td>unknown</td><td>no     </td><td>yes    </td><td>cellular </td><td>aug</td><td>⋯</td><td> 1.4</td><td>93.444</td><td>-36.1</td><td>4.965</td><td>5228.1</td><td>0</td><td>0</td><td>0</td><td>0</td><td>0</td></tr>\n",
       "\t<tr><td>18920</td><td>47</td><td>technician   </td><td>divorced</td><td>high.school        </td><td>no     </td><td>yes    </td><td>no     </td><td>telephone</td><td>jun</td><td>⋯</td><td> 1.4</td><td>94.465</td><td>-41.8</td><td>4.865</td><td>5228.1</td><td>0</td><td>0</td><td>0</td><td>0</td><td>0</td></tr>\n",
       "\t<tr><td>19757</td><td>31</td><td>admin.       </td><td>single  </td><td>university.degree  </td><td>no     </td><td>yes    </td><td>no     </td><td>cellular </td><td>aug</td><td>⋯</td><td> 1.4</td><td>93.444</td><td>-36.1</td><td>4.965</td><td>5228.1</td><td>0</td><td>0</td><td>0</td><td>0</td><td>0</td></tr>\n",
       "\t<tr><td> 9327</td><td>31</td><td>admin.       </td><td>single  </td><td>university.degree  </td><td>unknown</td><td>no     </td><td>yes    </td><td>cellular </td><td>aug</td><td>⋯</td><td> 1.4</td><td>93.444</td><td>-36.1</td><td>4.968</td><td>5228.1</td><td>0</td><td>0</td><td>0</td><td>0</td><td>0</td></tr>\n",
       "\t<tr><td>16641</td><td>51</td><td>technician   </td><td>married </td><td>professional.course</td><td>no     </td><td>yes    </td><td>no     </td><td>cellular </td><td>oct</td><td>⋯</td><td>-3.4</td><td>92.431</td><td>-26.9</td><td>0.754</td><td>5017.5</td><td>0</td><td>0</td><td>0</td><td>0</td><td>0</td></tr>\n",
       "\t<tr><td> 9656</td><td>30</td><td>admin.       </td><td>married </td><td>university.degree  </td><td>no     </td><td>yes    </td><td>no     </td><td>cellular </td><td>aug</td><td>⋯</td><td> 1.4</td><td>93.444</td><td>-36.1</td><td>4.963</td><td>5228.1</td><td>0</td><td>0</td><td>0</td><td>0</td><td>0</td></tr>\n",
       "\t<tr><td>37330</td><td>42</td><td>technician   </td><td>married </td><td>professional.course</td><td>unknown</td><td>yes    </td><td>no     </td><td>telephone</td><td>may</td><td>⋯</td><td> 1.1</td><td>93.994</td><td>-36.4</td><td>4.864</td><td>5191.0</td><td>0</td><td>0</td><td>0</td><td>0</td><td>0</td></tr>\n",
       "\t<tr><td>34568</td><td>32</td><td>blue-collar  </td><td>married </td><td>basic.6y           </td><td>no     </td><td>yes    </td><td>no     </td><td>telephone</td><td>may</td><td>⋯</td><td> 1.1</td><td>93.994</td><td>-36.4</td><td>4.860</td><td>5191.0</td><td>0</td><td>0</td><td>0</td><td>0</td><td>0</td></tr>\n",
       "\t<tr><td>23095</td><td>41</td><td>blue-collar  </td><td>married </td><td>basic.6y           </td><td>no     </td><td>yes    </td><td>no     </td><td>cellular </td><td>jul</td><td>⋯</td><td> 1.4</td><td>93.918</td><td>-42.7</td><td>4.968</td><td>5228.1</td><td>0</td><td>0</td><td>0</td><td>0</td><td>0</td></tr>\n",
       "\t<tr><td>25383</td><td>48</td><td>admin.       </td><td>divorced</td><td>high.school        </td><td>no     </td><td>no     </td><td>yes    </td><td>telephone</td><td>may</td><td>⋯</td><td> 1.1</td><td>93.994</td><td>-36.4</td><td>4.856</td><td>5191.0</td><td>0</td><td>0</td><td>0</td><td>0</td><td>0</td></tr>\n",
       "\t<tr><td>16918</td><td>31</td><td>admin.       </td><td>unknown </td><td>university.degree  </td><td>no     </td><td>yes    </td><td>yes    </td><td>cellular </td><td>sep</td><td>⋯</td><td>-1.1</td><td>94.199</td><td>-37.5</td><td>0.877</td><td>4963.6</td><td>1</td><td>0</td><td>0</td><td>0</td><td>0</td></tr>\n",
       "\t<tr><td> 4245</td><td>35</td><td>blue-collar  </td><td>single  </td><td>unknown            </td><td>no     </td><td>yes    </td><td>no     </td><td>telephone</td><td>jul</td><td>⋯</td><td> 1.4</td><td>93.918</td><td>-42.7</td><td>4.960</td><td>5228.1</td><td>0</td><td>0</td><td>1</td><td>0</td><td>0</td></tr>\n",
       "\t<tr><td>21920</td><td>39</td><td>blue-collar  </td><td>married </td><td>basic.4y           </td><td>unknown</td><td>yes    </td><td>no     </td><td>telephone</td><td>may</td><td>⋯</td><td> 1.1</td><td>    NA</td><td>-36.4</td><td>4.859</td><td>5191.0</td><td>0</td><td>0</td><td>0</td><td>0</td><td>0</td></tr>\n",
       "\t<tr><td>29000</td><td>21</td><td>student      </td><td>single  </td><td>high.school        </td><td>no     </td><td>no     </td><td>no     </td><td>cellular </td><td>oct</td><td>⋯</td><td>-3.4</td><td>92.431</td><td>   NA</td><td>0.728</td><td>5017.5</td><td>1</td><td>0</td><td>0</td><td>0</td><td>0</td></tr>\n",
       "\t<tr><td> 6627</td><td>28</td><td>admin.       </td><td>single  </td><td>university.degree  </td><td>no     </td><td>yes    </td><td>no     </td><td>cellular </td><td>sep</td><td>⋯</td><td>-3.4</td><td>92.379</td><td>-29.8</td><td>0.773</td><td>5017.5</td><td>1</td><td>0</td><td>0</td><td>0</td><td>0</td></tr>\n",
       "\t<tr><td>35702</td><td>29</td><td>admin.       </td><td>single  </td><td>university.degree  </td><td>no     </td><td>yes    </td><td>no     </td><td>cellular </td><td>aug</td><td>⋯</td><td> 1.4</td><td>93.444</td><td>-36.1</td><td>4.963</td><td>5228.1</td><td>0</td><td>0</td><td>0</td><td>0</td><td>0</td></tr>\n",
       "\t<tr><td>38555</td><td>49</td><td>services     </td><td>married </td><td>basic.4y           </td><td>unknown</td><td>no     </td><td>no     </td><td>cellular </td><td>aug</td><td>⋯</td><td> 1.4</td><td>93.444</td><td>-36.1</td><td>4.963</td><td>5228.1</td><td>1</td><td>0</td><td>0</td><td>0</td><td>0</td></tr>\n",
       "\t<tr><td>23289</td><td>38</td><td>blue-collar  </td><td>divorced</td><td>high.school        </td><td>no     </td><td>yes    </td><td>no     </td><td>cellular </td><td>may</td><td>⋯</td><td>-1.8</td><td>92.893</td><td>-46.2</td><td>1.344</td><td>5099.1</td><td>0</td><td>0</td><td>0</td><td>0</td><td>0</td></tr>\n",
       "\t<tr><td> 2969</td><td>36</td><td>blue-collar  </td><td>single  </td><td>high.school        </td><td>no     </td><td>yes    </td><td>no     </td><td>cellular </td><td>jul</td><td>⋯</td><td> 1.4</td><td>93.918</td><td>-42.7</td><td>4.968</td><td>5228.1</td><td>0</td><td>0</td><td>0</td><td>0</td><td>0</td></tr>\n",
       "\t<tr><td>13724</td><td>45</td><td>unknown      </td><td>unknown </td><td>unknown            </td><td>no     </td><td>yes    </td><td>yes    </td><td>cellular </td><td>jul</td><td>⋯</td><td> 1.4</td><td>93.918</td><td>-42.7</td><td>4.957</td><td>5228.1</td><td>1</td><td>0</td><td>0</td><td>0</td><td>0</td></tr>\n",
       "\t<tr><td>29863</td><td>26</td><td>admin.       </td><td>single  </td><td>university.degree  </td><td>no     </td><td>yes    </td><td>no     </td><td>cellular </td><td>may</td><td>⋯</td><td>-1.8</td><td>92.893</td><td>-46.2</td><td>1.299</td><td>5099.1</td><td>0</td><td>0</td><td>0</td><td>0</td><td>0</td></tr>\n",
       "\t<tr><td> 9841</td><td>33</td><td>admin.       </td><td>married </td><td>high.school        </td><td>no     </td><td>yes    </td><td>yes    </td><td>cellular </td><td>may</td><td>⋯</td><td>-1.8</td><td>92.893</td><td>-46.2</td><td>1.299</td><td>5099.1</td><td>0</td><td>0</td><td>0</td><td>0</td><td>0</td></tr>\n",
       "\t<tr><td>36432</td><td>43</td><td>admin.       </td><td>married </td><td>high.school        </td><td>no     </td><td>yes    </td><td>no     </td><td>telephone</td><td>jul</td><td>⋯</td><td> 1.4</td><td>93.918</td><td>-42.7</td><td>4.960</td><td>5228.1</td><td>0</td><td>0</td><td>0</td><td>0</td><td>0</td></tr>\n",
       "\t<tr><td>15639</td><td>55</td><td>blue-collar  </td><td>married </td><td>basic.9y           </td><td>no     </td><td>yes    </td><td>yes    </td><td>cellular </td><td>aug</td><td>⋯</td><td> 1.4</td><td>93.444</td><td>-36.1</td><td>4.963</td><td>5228.1</td><td>0</td><td>0</td><td>0</td><td>0</td><td>0</td></tr>\n",
       "</tbody>\n",
       "</table>\n"
      ],
      "text/latex": [
       "A data.frame: 20000 × 25\n",
       "\\begin{tabular}{lllllllllllllllllllll}\n",
       " client\\_id & age & job & marital & education & default & housing & loan & contact & month & ⋯ & emp.var.rate & cons.price.idx & cons.conf.idx & euribor3m & nr.employed & subscribe & missing\\_age & missing\\_campaign & replace999 & missing\\_pdays\\\\\n",
       " <int> & <dbl> & <chr> & <chr> & <chr> & <chr> & <chr> & <chr> & <chr> & <chr> & ⋯ & <dbl> & <dbl> & <dbl> & <dbl> & <dbl> & <int> & <dbl> & <dbl> & <dbl> & <dbl>\\\\\n",
       "\\hline\n",
       "\t 29925 & 42 & management   & married  & basic.9y            & no      & no      & no      & cellular  & jul & ⋯ &  1.4 & 93.918 & -42.7 & 4.968 & 5228.1 & 0 & 0 & 0 & 0 & 0\\\\\n",
       "\t 37529 & 35 & unemployed   & married  & university.degree   & no      & yes     & no      & telephone & jun & ⋯ &  1.4 & 94.465 & -41.8 & 4.960 & 5228.1 & 0 & 0 & 0 & 0 & 0\\\\\n",
       "\t  2757 & 44 & technician   & married  & basic.9y            & no      & yes     & yes     & cellular  & may & ⋯ & -1.8 & 92.893 & -46.2 & 1.264 & 5099.1 & 0 & 0 & 0 & 0 & 0\\\\\n",
       "\t  9642 & 45 & services     & married  & high.school         & no      & yes     & no      & cellular  & apr & ⋯ & -1.8 & 93.075 & -47.1 & 1.453 & 5099.1 & 0 & 0 & 0 & 0 & 0\\\\\n",
       "\t 14183 & 45 & unknown      & married  & unknown             & unknown & unknown & unknown & telephone & may & ⋯ &  1.1 & 93.994 & -36.4 & 4.859 & 5191.0 & 0 & 0 & 0 & 0 & 0\\\\\n",
       "\t 15180 & 38 & technician   & married  & professional.course & no      & no      & no      & telephone & may & ⋯ &  1.1 & 93.994 & -36.4 & 4.858 & 5191.0 & 0 & 0 & 0 & 0 & 0\\\\\n",
       "\t 27168 & 33 & technician   & married  & professional.course & no      & no      & yes     & cellular  & apr & ⋯ & -1.8 & 93.075 & -47.1 & 1.405 & 5099.1 & 1 & 0 & 0 & 1 & 1\\\\\n",
       "\t  9097 & 38 & blue-collar  & single   & basic.9y            & unknown & yes     & no      & telephone & may & ⋯ &  1.1 & 93.994 & -36.4 & 4.857 & 5191.0 & 0 & 0 & 0 & 0 & 0\\\\\n",
       "\t 30538 & 29 & blue-collar  & single   & unknown             & no      & yes     & no      & cellular  & may & ⋯ & -1.8 & 92.893 & -46.2 & 1.250 & 5099.1 & 0 & 0 & 0 & 0 & 0\\\\\n",
       "\t 28981 & 34 & admin.       & divorced & university.degree   & no      & yes     & yes     & cellular  & aug & ⋯ &  1.4 & 93.444 & -36.1 & 4.965 & 5228.1 & 0 & 0 & 0 & 0 & 0\\\\\n",
       "\t  7989 & 47 & blue-collar  & married  & high.school         & unknown & yes     & no      & telephone & jun & ⋯ &  1.4 & 94.465 & -41.8 & 4.961 & 5228.1 & 0 & 0 & 0 & 0 & 0\\\\\n",
       "\t 13536 & 30 & blue-collar  & single   & basic.9y            & no      & yes     & no      & cellular  & jul & ⋯ &  1.4 & 93.918 & -42.7 & 4.963 & 5228.1 & 0 & 0 & 0 & 0 & 0\\\\\n",
       "\t 24541 & 30 & admin.       & married  & basic.6y            & no      & yes     & no      & cellular  & jul & ⋯ &  1.4 & 93.918 & -42.7 & 4.958 & 5228.1 & 0 & 0 & 0 & 0 & 0\\\\\n",
       "\t  6216 & 35 & services     & married  & basic.6y            & unknown & yes     & no      & cellular  & may & ⋯ & -1.8 & 92.893 & -46.2 & 1.344 & 5099.1 & 0 & 0 & 0 & 0 & 0\\\\\n",
       "\t 17983 & 45 & management   & married  & professional.course & no      & no      & no      & cellular  & nov & ⋯ & -0.1 & 93.200 & -42.0 & 4.076 & 5195.8 & 1 & 0 & 0 & 0 & 0\\\\\n",
       "\t 29394 & 37 & entrepreneur & married  & university.degree   & unknown & yes     & no      & cellular  & nov & ⋯ & -0.1 & 93.200 & -42.0 & 4.191 & 5195.8 & 0 & 0 & 0 & 0 & 0\\\\\n",
       "\t 28825 & 48 & blue-collar  & married  & basic.6y            & no      & no      & no      & telephone & jun & ⋯ &  1.4 & 94.465 & -41.8 & 4.866 & 5228.1 & 0 & 0 & 0 & 0 & 0\\\\\n",
       "\t    41 & 47 & admin.       & married  & basic.6y            & unknown & yes     & no      & cellular  & apr & ⋯ & -1.8 & 93.075 & -47.1 & 1.410 & 5099.1 & 0 & 0 & 0 & 0 & 0\\\\\n",
       "\t  7284 & 35 & blue-collar  & married  & basic.9y            & no      & yes     & no      & telephone & may & ⋯ &  1.1 & 93.994 & -36.4 & 4.858 & 5191.0 & 0 & 0 & 0 & 0 & 0\\\\\n",
       "\t 28502 & 34 & technician   & married  & professional.course & no      & no      & no      & cellular  & apr & ⋯ & -1.8 & 93.075 & -47.1 & 1.405 & 5099.1 & 0 & 0 & 0 & 0 & 0\\\\\n",
       "\t 11473 & 60 & technician   & married  & university.degree   & unknown & yes     & no      & telephone & may & ⋯ &  1.1 & 93.994 & -36.4 & 4.855 & 5191.0 & 0 & 0 & 0 & 0 & 0\\\\\n",
       "\t  6134 & 35 & services     & single   & high.school         & no      & no      & no      & cellular  & may & ⋯ & -1.8 & 92.893 & -46.2 & 1.334 & 5099.1 & 0 & 0 & 0 & 0 & 0\\\\\n",
       "\t 33523 & 32 & technician   & married  & university.degree   & no      & yes     & no      & cellular  & may & ⋯ & -1.8 & 92.893 & -46.2 & 1.281 & 5099.1 & 0 & 0 & 0 & 0 & 0\\\\\n",
       "\t 21812 & 49 & blue-collar  & married  & unknown             & unknown & yes     & no      & telephone & may & ⋯ &  1.1 & 93.994 & -36.4 & 4.856 & 5191.0 & 0 & 0 & 0 & 0 & 0\\\\\n",
       "\t 39895 & 45 & technician   & single   & professional.course & no      & no      & no      & telephone & may & ⋯ &  1.1 & 93.994 & -36.4 & 4.856 & 5191.0 & 0 & 0 & 0 & 0 & 0\\\\\n",
       "\t  9326 & 33 & blue-collar  & single   & basic.9y            & unknown & yes     & no      & telephone & jun & ⋯ &  1.4 & 94.465 & -41.8 & 4.865 & 5228.1 & 0 & 0 & 0 & 0 & 0\\\\\n",
       "\t 26510 & 34 & management   & single   & university.degree   & no      & unknown & unknown & telephone & nov & ⋯ & -0.1 & 93.200 & -42.0 & 4.021 & 5195.8 & 0 & 0 & 0 & 0 & 0\\\\\n",
       "\t 20960 & 57 & retired      & married  & university.degree   & no      & yes     & no      & telephone & may & ⋯ &  1.1 & 93.994 & -36.4 & 4.856 & 5191.0 & 0 & 0 & 0 & 0 & 0\\\\\n",
       "\t 14403 & 50 & technician   & single   & professional.course & no      & no      & yes     & cellular  & jul & ⋯ &  1.4 & 93.918 & -42.7 & 4.962 & 5228.1 & 0 & 0 & 0 & 0 & 0\\\\\n",
       "\t 28799 & 49 & housemaid    & married  & university.degree   & no      & yes     & no      & cellular  & aug & ⋯ &  1.4 & 93.444 & -36.1 & 4.967 & 5228.1 & 0 & 0 & 0 & 0 & 0\\\\\n",
       "\t ⋮ & ⋮ & ⋮ & ⋮ & ⋮ & ⋮ & ⋮ & ⋮ & ⋮ & ⋮ & ⋱ & ⋮ & ⋮ & ⋮ & ⋮ & ⋮ & ⋮ & ⋮ & ⋮ & ⋮ & ⋮\\\\\n",
       "\t  3036 & 33 & self-employed & married  & university.degree   & no      & no      & no      & cellular  & aug & ⋯ &  1.4 & 93.444 & -36.1 & 4.965 & 5228.1 & 0 & 0 & 0 & 0 & 0\\\\\n",
       "\t 19102 & 31 & admin.        & single   & university.degree   & unknown & yes     & no      & cellular  & aug & ⋯ &  1.4 & 93.444 & -36.1 & 4.964 & 5228.1 & 0 & 0 & 0 & 0 & 0\\\\\n",
       "\t 37729 & 46 & technician    & married  & professional.course & no      & no      & no      & telephone & may & ⋯ &  1.1 & 93.994 & -36.4 & 4.860 & 5191.0 & 0 & 0 & 0 & 0 & 0\\\\\n",
       "\t 20186 & 50 & self-employed & married  & unknown             & no      & unknown & unknown & cellular  & jul & ⋯ & -2.9 & 92.469 & -33.6 & 0.914 & 5076.2 & 0 & 0 & 0 & 0 & 0\\\\\n",
       "\t 38059 & 43 & admin.        & divorced & university.degree   & unknown & no      & no      & cellular  & aug & ⋯ &  1.4 & 93.444 & -36.1 & 4.966 & 5228.1 & 0 & 0 & 0 & 0 & 0\\\\\n",
       "\t  8099 & 32 & technician    & divorced & professional.course & no      & no      & no      & cellular  & nov & ⋯ & -0.1 & 93.200 & -42.0 & 4.153 & 5195.8 & 0 & 0 & 0 & 0 & 0\\\\\n",
       "\t 15178 & 37 & housemaid     & married  & basic.4y            & unknown & no      & yes     & cellular  & aug & ⋯ &  1.4 & 93.444 & -36.1 & 4.965 & 5228.1 & 0 & 0 & 0 & 0 & 0\\\\\n",
       "\t 18920 & 47 & technician    & divorced & high.school         & no      & yes     & no      & telephone & jun & ⋯ &  1.4 & 94.465 & -41.8 & 4.865 & 5228.1 & 0 & 0 & 0 & 0 & 0\\\\\n",
       "\t 19757 & 31 & admin.        & single   & university.degree   & no      & yes     & no      & cellular  & aug & ⋯ &  1.4 & 93.444 & -36.1 & 4.965 & 5228.1 & 0 & 0 & 0 & 0 & 0\\\\\n",
       "\t  9327 & 31 & admin.        & single   & university.degree   & unknown & no      & yes     & cellular  & aug & ⋯ &  1.4 & 93.444 & -36.1 & 4.968 & 5228.1 & 0 & 0 & 0 & 0 & 0\\\\\n",
       "\t 16641 & 51 & technician    & married  & professional.course & no      & yes     & no      & cellular  & oct & ⋯ & -3.4 & 92.431 & -26.9 & 0.754 & 5017.5 & 0 & 0 & 0 & 0 & 0\\\\\n",
       "\t  9656 & 30 & admin.        & married  & university.degree   & no      & yes     & no      & cellular  & aug & ⋯ &  1.4 & 93.444 & -36.1 & 4.963 & 5228.1 & 0 & 0 & 0 & 0 & 0\\\\\n",
       "\t 37330 & 42 & technician    & married  & professional.course & unknown & yes     & no      & telephone & may & ⋯ &  1.1 & 93.994 & -36.4 & 4.864 & 5191.0 & 0 & 0 & 0 & 0 & 0\\\\\n",
       "\t 34568 & 32 & blue-collar   & married  & basic.6y            & no      & yes     & no      & telephone & may & ⋯ &  1.1 & 93.994 & -36.4 & 4.860 & 5191.0 & 0 & 0 & 0 & 0 & 0\\\\\n",
       "\t 23095 & 41 & blue-collar   & married  & basic.6y            & no      & yes     & no      & cellular  & jul & ⋯ &  1.4 & 93.918 & -42.7 & 4.968 & 5228.1 & 0 & 0 & 0 & 0 & 0\\\\\n",
       "\t 25383 & 48 & admin.        & divorced & high.school         & no      & no      & yes     & telephone & may & ⋯ &  1.1 & 93.994 & -36.4 & 4.856 & 5191.0 & 0 & 0 & 0 & 0 & 0\\\\\n",
       "\t 16918 & 31 & admin.        & unknown  & university.degree   & no      & yes     & yes     & cellular  & sep & ⋯ & -1.1 & 94.199 & -37.5 & 0.877 & 4963.6 & 1 & 0 & 0 & 0 & 0\\\\\n",
       "\t  4245 & 35 & blue-collar   & single   & unknown             & no      & yes     & no      & telephone & jul & ⋯ &  1.4 & 93.918 & -42.7 & 4.960 & 5228.1 & 0 & 0 & 1 & 0 & 0\\\\\n",
       "\t 21920 & 39 & blue-collar   & married  & basic.4y            & unknown & yes     & no      & telephone & may & ⋯ &  1.1 &     NA & -36.4 & 4.859 & 5191.0 & 0 & 0 & 0 & 0 & 0\\\\\n",
       "\t 29000 & 21 & student       & single   & high.school         & no      & no      & no      & cellular  & oct & ⋯ & -3.4 & 92.431 &    NA & 0.728 & 5017.5 & 1 & 0 & 0 & 0 & 0\\\\\n",
       "\t  6627 & 28 & admin.        & single   & university.degree   & no      & yes     & no      & cellular  & sep & ⋯ & -3.4 & 92.379 & -29.8 & 0.773 & 5017.5 & 1 & 0 & 0 & 0 & 0\\\\\n",
       "\t 35702 & 29 & admin.        & single   & university.degree   & no      & yes     & no      & cellular  & aug & ⋯ &  1.4 & 93.444 & -36.1 & 4.963 & 5228.1 & 0 & 0 & 0 & 0 & 0\\\\\n",
       "\t 38555 & 49 & services      & married  & basic.4y            & unknown & no      & no      & cellular  & aug & ⋯ &  1.4 & 93.444 & -36.1 & 4.963 & 5228.1 & 1 & 0 & 0 & 0 & 0\\\\\n",
       "\t 23289 & 38 & blue-collar   & divorced & high.school         & no      & yes     & no      & cellular  & may & ⋯ & -1.8 & 92.893 & -46.2 & 1.344 & 5099.1 & 0 & 0 & 0 & 0 & 0\\\\\n",
       "\t  2969 & 36 & blue-collar   & single   & high.school         & no      & yes     & no      & cellular  & jul & ⋯ &  1.4 & 93.918 & -42.7 & 4.968 & 5228.1 & 0 & 0 & 0 & 0 & 0\\\\\n",
       "\t 13724 & 45 & unknown       & unknown  & unknown             & no      & yes     & yes     & cellular  & jul & ⋯ &  1.4 & 93.918 & -42.7 & 4.957 & 5228.1 & 1 & 0 & 0 & 0 & 0\\\\\n",
       "\t 29863 & 26 & admin.        & single   & university.degree   & no      & yes     & no      & cellular  & may & ⋯ & -1.8 & 92.893 & -46.2 & 1.299 & 5099.1 & 0 & 0 & 0 & 0 & 0\\\\\n",
       "\t  9841 & 33 & admin.        & married  & high.school         & no      & yes     & yes     & cellular  & may & ⋯ & -1.8 & 92.893 & -46.2 & 1.299 & 5099.1 & 0 & 0 & 0 & 0 & 0\\\\\n",
       "\t 36432 & 43 & admin.        & married  & high.school         & no      & yes     & no      & telephone & jul & ⋯ &  1.4 & 93.918 & -42.7 & 4.960 & 5228.1 & 0 & 0 & 0 & 0 & 0\\\\\n",
       "\t 15639 & 55 & blue-collar   & married  & basic.9y            & no      & yes     & yes     & cellular  & aug & ⋯ &  1.4 & 93.444 & -36.1 & 4.963 & 5228.1 & 0 & 0 & 0 & 0 & 0\\\\\n",
       "\\end{tabular}\n"
      ],
      "text/markdown": [
       "\n",
       "A data.frame: 20000 × 25\n",
       "\n",
       "| client_id &lt;int&gt; | age &lt;dbl&gt; | job &lt;chr&gt; | marital &lt;chr&gt; | education &lt;chr&gt; | default &lt;chr&gt; | housing &lt;chr&gt; | loan &lt;chr&gt; | contact &lt;chr&gt; | month &lt;chr&gt; | ⋯ ⋯ | emp.var.rate &lt;dbl&gt; | cons.price.idx &lt;dbl&gt; | cons.conf.idx &lt;dbl&gt; | euribor3m &lt;dbl&gt; | nr.employed &lt;dbl&gt; | subscribe &lt;int&gt; | missing_age &lt;dbl&gt; | missing_campaign &lt;dbl&gt; | replace999 &lt;dbl&gt; | missing_pdays &lt;dbl&gt; |\n",
       "|---|---|---|---|---|---|---|---|---|---|---|---|---|---|---|---|---|---|---|---|---|\n",
       "| 29925 | 42 | management   | married  | basic.9y            | no      | no      | no      | cellular  | jul | ⋯ |  1.4 | 93.918 | -42.7 | 4.968 | 5228.1 | 0 | 0 | 0 | 0 | 0 |\n",
       "| 37529 | 35 | unemployed   | married  | university.degree   | no      | yes     | no      | telephone | jun | ⋯ |  1.4 | 94.465 | -41.8 | 4.960 | 5228.1 | 0 | 0 | 0 | 0 | 0 |\n",
       "|  2757 | 44 | technician   | married  | basic.9y            | no      | yes     | yes     | cellular  | may | ⋯ | -1.8 | 92.893 | -46.2 | 1.264 | 5099.1 | 0 | 0 | 0 | 0 | 0 |\n",
       "|  9642 | 45 | services     | married  | high.school         | no      | yes     | no      | cellular  | apr | ⋯ | -1.8 | 93.075 | -47.1 | 1.453 | 5099.1 | 0 | 0 | 0 | 0 | 0 |\n",
       "| 14183 | 45 | unknown      | married  | unknown             | unknown | unknown | unknown | telephone | may | ⋯ |  1.1 | 93.994 | -36.4 | 4.859 | 5191.0 | 0 | 0 | 0 | 0 | 0 |\n",
       "| 15180 | 38 | technician   | married  | professional.course | no      | no      | no      | telephone | may | ⋯ |  1.1 | 93.994 | -36.4 | 4.858 | 5191.0 | 0 | 0 | 0 | 0 | 0 |\n",
       "| 27168 | 33 | technician   | married  | professional.course | no      | no      | yes     | cellular  | apr | ⋯ | -1.8 | 93.075 | -47.1 | 1.405 | 5099.1 | 1 | 0 | 0 | 1 | 1 |\n",
       "|  9097 | 38 | blue-collar  | single   | basic.9y            | unknown | yes     | no      | telephone | may | ⋯ |  1.1 | 93.994 | -36.4 | 4.857 | 5191.0 | 0 | 0 | 0 | 0 | 0 |\n",
       "| 30538 | 29 | blue-collar  | single   | unknown             | no      | yes     | no      | cellular  | may | ⋯ | -1.8 | 92.893 | -46.2 | 1.250 | 5099.1 | 0 | 0 | 0 | 0 | 0 |\n",
       "| 28981 | 34 | admin.       | divorced | university.degree   | no      | yes     | yes     | cellular  | aug | ⋯ |  1.4 | 93.444 | -36.1 | 4.965 | 5228.1 | 0 | 0 | 0 | 0 | 0 |\n",
       "|  7989 | 47 | blue-collar  | married  | high.school         | unknown | yes     | no      | telephone | jun | ⋯ |  1.4 | 94.465 | -41.8 | 4.961 | 5228.1 | 0 | 0 | 0 | 0 | 0 |\n",
       "| 13536 | 30 | blue-collar  | single   | basic.9y            | no      | yes     | no      | cellular  | jul | ⋯ |  1.4 | 93.918 | -42.7 | 4.963 | 5228.1 | 0 | 0 | 0 | 0 | 0 |\n",
       "| 24541 | 30 | admin.       | married  | basic.6y            | no      | yes     | no      | cellular  | jul | ⋯ |  1.4 | 93.918 | -42.7 | 4.958 | 5228.1 | 0 | 0 | 0 | 0 | 0 |\n",
       "|  6216 | 35 | services     | married  | basic.6y            | unknown | yes     | no      | cellular  | may | ⋯ | -1.8 | 92.893 | -46.2 | 1.344 | 5099.1 | 0 | 0 | 0 | 0 | 0 |\n",
       "| 17983 | 45 | management   | married  | professional.course | no      | no      | no      | cellular  | nov | ⋯ | -0.1 | 93.200 | -42.0 | 4.076 | 5195.8 | 1 | 0 | 0 | 0 | 0 |\n",
       "| 29394 | 37 | entrepreneur | married  | university.degree   | unknown | yes     | no      | cellular  | nov | ⋯ | -0.1 | 93.200 | -42.0 | 4.191 | 5195.8 | 0 | 0 | 0 | 0 | 0 |\n",
       "| 28825 | 48 | blue-collar  | married  | basic.6y            | no      | no      | no      | telephone | jun | ⋯ |  1.4 | 94.465 | -41.8 | 4.866 | 5228.1 | 0 | 0 | 0 | 0 | 0 |\n",
       "|    41 | 47 | admin.       | married  | basic.6y            | unknown | yes     | no      | cellular  | apr | ⋯ | -1.8 | 93.075 | -47.1 | 1.410 | 5099.1 | 0 | 0 | 0 | 0 | 0 |\n",
       "|  7284 | 35 | blue-collar  | married  | basic.9y            | no      | yes     | no      | telephone | may | ⋯ |  1.1 | 93.994 | -36.4 | 4.858 | 5191.0 | 0 | 0 | 0 | 0 | 0 |\n",
       "| 28502 | 34 | technician   | married  | professional.course | no      | no      | no      | cellular  | apr | ⋯ | -1.8 | 93.075 | -47.1 | 1.405 | 5099.1 | 0 | 0 | 0 | 0 | 0 |\n",
       "| 11473 | 60 | technician   | married  | university.degree   | unknown | yes     | no      | telephone | may | ⋯ |  1.1 | 93.994 | -36.4 | 4.855 | 5191.0 | 0 | 0 | 0 | 0 | 0 |\n",
       "|  6134 | 35 | services     | single   | high.school         | no      | no      | no      | cellular  | may | ⋯ | -1.8 | 92.893 | -46.2 | 1.334 | 5099.1 | 0 | 0 | 0 | 0 | 0 |\n",
       "| 33523 | 32 | technician   | married  | university.degree   | no      | yes     | no      | cellular  | may | ⋯ | -1.8 | 92.893 | -46.2 | 1.281 | 5099.1 | 0 | 0 | 0 | 0 | 0 |\n",
       "| 21812 | 49 | blue-collar  | married  | unknown             | unknown | yes     | no      | telephone | may | ⋯ |  1.1 | 93.994 | -36.4 | 4.856 | 5191.0 | 0 | 0 | 0 | 0 | 0 |\n",
       "| 39895 | 45 | technician   | single   | professional.course | no      | no      | no      | telephone | may | ⋯ |  1.1 | 93.994 | -36.4 | 4.856 | 5191.0 | 0 | 0 | 0 | 0 | 0 |\n",
       "|  9326 | 33 | blue-collar  | single   | basic.9y            | unknown | yes     | no      | telephone | jun | ⋯ |  1.4 | 94.465 | -41.8 | 4.865 | 5228.1 | 0 | 0 | 0 | 0 | 0 |\n",
       "| 26510 | 34 | management   | single   | university.degree   | no      | unknown | unknown | telephone | nov | ⋯ | -0.1 | 93.200 | -42.0 | 4.021 | 5195.8 | 0 | 0 | 0 | 0 | 0 |\n",
       "| 20960 | 57 | retired      | married  | university.degree   | no      | yes     | no      | telephone | may | ⋯ |  1.1 | 93.994 | -36.4 | 4.856 | 5191.0 | 0 | 0 | 0 | 0 | 0 |\n",
       "| 14403 | 50 | technician   | single   | professional.course | no      | no      | yes     | cellular  | jul | ⋯ |  1.4 | 93.918 | -42.7 | 4.962 | 5228.1 | 0 | 0 | 0 | 0 | 0 |\n",
       "| 28799 | 49 | housemaid    | married  | university.degree   | no      | yes     | no      | cellular  | aug | ⋯ |  1.4 | 93.444 | -36.1 | 4.967 | 5228.1 | 0 | 0 | 0 | 0 | 0 |\n",
       "| ⋮ | ⋮ | ⋮ | ⋮ | ⋮ | ⋮ | ⋮ | ⋮ | ⋮ | ⋮ | ⋱ | ⋮ | ⋮ | ⋮ | ⋮ | ⋮ | ⋮ | ⋮ | ⋮ | ⋮ | ⋮ |\n",
       "|  3036 | 33 | self-employed | married  | university.degree   | no      | no      | no      | cellular  | aug | ⋯ |  1.4 | 93.444 | -36.1 | 4.965 | 5228.1 | 0 | 0 | 0 | 0 | 0 |\n",
       "| 19102 | 31 | admin.        | single   | university.degree   | unknown | yes     | no      | cellular  | aug | ⋯ |  1.4 | 93.444 | -36.1 | 4.964 | 5228.1 | 0 | 0 | 0 | 0 | 0 |\n",
       "| 37729 | 46 | technician    | married  | professional.course | no      | no      | no      | telephone | may | ⋯ |  1.1 | 93.994 | -36.4 | 4.860 | 5191.0 | 0 | 0 | 0 | 0 | 0 |\n",
       "| 20186 | 50 | self-employed | married  | unknown             | no      | unknown | unknown | cellular  | jul | ⋯ | -2.9 | 92.469 | -33.6 | 0.914 | 5076.2 | 0 | 0 | 0 | 0 | 0 |\n",
       "| 38059 | 43 | admin.        | divorced | university.degree   | unknown | no      | no      | cellular  | aug | ⋯ |  1.4 | 93.444 | -36.1 | 4.966 | 5228.1 | 0 | 0 | 0 | 0 | 0 |\n",
       "|  8099 | 32 | technician    | divorced | professional.course | no      | no      | no      | cellular  | nov | ⋯ | -0.1 | 93.200 | -42.0 | 4.153 | 5195.8 | 0 | 0 | 0 | 0 | 0 |\n",
       "| 15178 | 37 | housemaid     | married  | basic.4y            | unknown | no      | yes     | cellular  | aug | ⋯ |  1.4 | 93.444 | -36.1 | 4.965 | 5228.1 | 0 | 0 | 0 | 0 | 0 |\n",
       "| 18920 | 47 | technician    | divorced | high.school         | no      | yes     | no      | telephone | jun | ⋯ |  1.4 | 94.465 | -41.8 | 4.865 | 5228.1 | 0 | 0 | 0 | 0 | 0 |\n",
       "| 19757 | 31 | admin.        | single   | university.degree   | no      | yes     | no      | cellular  | aug | ⋯ |  1.4 | 93.444 | -36.1 | 4.965 | 5228.1 | 0 | 0 | 0 | 0 | 0 |\n",
       "|  9327 | 31 | admin.        | single   | university.degree   | unknown | no      | yes     | cellular  | aug | ⋯ |  1.4 | 93.444 | -36.1 | 4.968 | 5228.1 | 0 | 0 | 0 | 0 | 0 |\n",
       "| 16641 | 51 | technician    | married  | professional.course | no      | yes     | no      | cellular  | oct | ⋯ | -3.4 | 92.431 | -26.9 | 0.754 | 5017.5 | 0 | 0 | 0 | 0 | 0 |\n",
       "|  9656 | 30 | admin.        | married  | university.degree   | no      | yes     | no      | cellular  | aug | ⋯ |  1.4 | 93.444 | -36.1 | 4.963 | 5228.1 | 0 | 0 | 0 | 0 | 0 |\n",
       "| 37330 | 42 | technician    | married  | professional.course | unknown | yes     | no      | telephone | may | ⋯ |  1.1 | 93.994 | -36.4 | 4.864 | 5191.0 | 0 | 0 | 0 | 0 | 0 |\n",
       "| 34568 | 32 | blue-collar   | married  | basic.6y            | no      | yes     | no      | telephone | may | ⋯ |  1.1 | 93.994 | -36.4 | 4.860 | 5191.0 | 0 | 0 | 0 | 0 | 0 |\n",
       "| 23095 | 41 | blue-collar   | married  | basic.6y            | no      | yes     | no      | cellular  | jul | ⋯ |  1.4 | 93.918 | -42.7 | 4.968 | 5228.1 | 0 | 0 | 0 | 0 | 0 |\n",
       "| 25383 | 48 | admin.        | divorced | high.school         | no      | no      | yes     | telephone | may | ⋯ |  1.1 | 93.994 | -36.4 | 4.856 | 5191.0 | 0 | 0 | 0 | 0 | 0 |\n",
       "| 16918 | 31 | admin.        | unknown  | university.degree   | no      | yes     | yes     | cellular  | sep | ⋯ | -1.1 | 94.199 | -37.5 | 0.877 | 4963.6 | 1 | 0 | 0 | 0 | 0 |\n",
       "|  4245 | 35 | blue-collar   | single   | unknown             | no      | yes     | no      | telephone | jul | ⋯ |  1.4 | 93.918 | -42.7 | 4.960 | 5228.1 | 0 | 0 | 1 | 0 | 0 |\n",
       "| 21920 | 39 | blue-collar   | married  | basic.4y            | unknown | yes     | no      | telephone | may | ⋯ |  1.1 |     NA | -36.4 | 4.859 | 5191.0 | 0 | 0 | 0 | 0 | 0 |\n",
       "| 29000 | 21 | student       | single   | high.school         | no      | no      | no      | cellular  | oct | ⋯ | -3.4 | 92.431 |    NA | 0.728 | 5017.5 | 1 | 0 | 0 | 0 | 0 |\n",
       "|  6627 | 28 | admin.        | single   | university.degree   | no      | yes     | no      | cellular  | sep | ⋯ | -3.4 | 92.379 | -29.8 | 0.773 | 5017.5 | 1 | 0 | 0 | 0 | 0 |\n",
       "| 35702 | 29 | admin.        | single   | university.degree   | no      | yes     | no      | cellular  | aug | ⋯ |  1.4 | 93.444 | -36.1 | 4.963 | 5228.1 | 0 | 0 | 0 | 0 | 0 |\n",
       "| 38555 | 49 | services      | married  | basic.4y            | unknown | no      | no      | cellular  | aug | ⋯ |  1.4 | 93.444 | -36.1 | 4.963 | 5228.1 | 1 | 0 | 0 | 0 | 0 |\n",
       "| 23289 | 38 | blue-collar   | divorced | high.school         | no      | yes     | no      | cellular  | may | ⋯ | -1.8 | 92.893 | -46.2 | 1.344 | 5099.1 | 0 | 0 | 0 | 0 | 0 |\n",
       "|  2969 | 36 | blue-collar   | single   | high.school         | no      | yes     | no      | cellular  | jul | ⋯ |  1.4 | 93.918 | -42.7 | 4.968 | 5228.1 | 0 | 0 | 0 | 0 | 0 |\n",
       "| 13724 | 45 | unknown       | unknown  | unknown             | no      | yes     | yes     | cellular  | jul | ⋯ |  1.4 | 93.918 | -42.7 | 4.957 | 5228.1 | 1 | 0 | 0 | 0 | 0 |\n",
       "| 29863 | 26 | admin.        | single   | university.degree   | no      | yes     | no      | cellular  | may | ⋯ | -1.8 | 92.893 | -46.2 | 1.299 | 5099.1 | 0 | 0 | 0 | 0 | 0 |\n",
       "|  9841 | 33 | admin.        | married  | high.school         | no      | yes     | yes     | cellular  | may | ⋯ | -1.8 | 92.893 | -46.2 | 1.299 | 5099.1 | 0 | 0 | 0 | 0 | 0 |\n",
       "| 36432 | 43 | admin.        | married  | high.school         | no      | yes     | no      | telephone | jul | ⋯ |  1.4 | 93.918 | -42.7 | 4.960 | 5228.1 | 0 | 0 | 0 | 0 | 0 |\n",
       "| 15639 | 55 | blue-collar   | married  | basic.9y            | no      | yes     | yes     | cellular  | aug | ⋯ |  1.4 | 93.444 | -36.1 | 4.963 | 5228.1 | 0 | 0 | 0 | 0 | 0 |\n",
       "\n"
      ],
      "text/plain": [
       "      client_id age job           marital  education           default housing\n",
       "1     29925     42  management    married  basic.9y            no      no     \n",
       "2     37529     35  unemployed    married  university.degree   no      yes    \n",
       "3      2757     44  technician    married  basic.9y            no      yes    \n",
       "4      9642     45  services      married  high.school         no      yes    \n",
       "5     14183     45  unknown       married  unknown             unknown unknown\n",
       "6     15180     38  technician    married  professional.course no      no     \n",
       "7     27168     33  technician    married  professional.course no      no     \n",
       "8      9097     38  blue-collar   single   basic.9y            unknown yes    \n",
       "9     30538     29  blue-collar   single   unknown             no      yes    \n",
       "10    28981     34  admin.        divorced university.degree   no      yes    \n",
       "11     7989     47  blue-collar   married  high.school         unknown yes    \n",
       "12    13536     30  blue-collar   single   basic.9y            no      yes    \n",
       "13    24541     30  admin.        married  basic.6y            no      yes    \n",
       "14     6216     35  services      married  basic.6y            unknown yes    \n",
       "15    17983     45  management    married  professional.course no      no     \n",
       "16    29394     37  entrepreneur  married  university.degree   unknown yes    \n",
       "17    28825     48  blue-collar   married  basic.6y            no      no     \n",
       "18       41     47  admin.        married  basic.6y            unknown yes    \n",
       "19     7284     35  blue-collar   married  basic.9y            no      yes    \n",
       "20    28502     34  technician    married  professional.course no      no     \n",
       "21    11473     60  technician    married  university.degree   unknown yes    \n",
       "22     6134     35  services      single   high.school         no      no     \n",
       "23    33523     32  technician    married  university.degree   no      yes    \n",
       "24    21812     49  blue-collar   married  unknown             unknown yes    \n",
       "25    39895     45  technician    single   professional.course no      no     \n",
       "26     9326     33  blue-collar   single   basic.9y            unknown yes    \n",
       "27    26510     34  management    single   university.degree   no      unknown\n",
       "28    20960     57  retired       married  university.degree   no      yes    \n",
       "29    14403     50  technician    single   professional.course no      no     \n",
       "30    28799     49  housemaid     married  university.degree   no      yes    \n",
       "<U+22EE>     <U+22EE>  <U+22EE> <U+22EE>      <U+22EE> <U+22EE>            <U+22EE> <U+22EE>\n",
       "19971  3036     33  self-employed married  university.degree   no      no     \n",
       "19972 19102     31  admin.        single   university.degree   unknown yes    \n",
       "19973 37729     46  technician    married  professional.course no      no     \n",
       "19974 20186     50  self-employed married  unknown             no      unknown\n",
       "19975 38059     43  admin.        divorced university.degree   unknown no     \n",
       "19976  8099     32  technician    divorced professional.course no      no     \n",
       "19977 15178     37  housemaid     married  basic.4y            unknown no     \n",
       "19978 18920     47  technician    divorced high.school         no      yes    \n",
       "19979 19757     31  admin.        single   university.degree   no      yes    \n",
       "19980  9327     31  admin.        single   university.degree   unknown no     \n",
       "19981 16641     51  technician    married  professional.course no      yes    \n",
       "19982  9656     30  admin.        married  university.degree   no      yes    \n",
       "19983 37330     42  technician    married  professional.course unknown yes    \n",
       "19984 34568     32  blue-collar   married  basic.6y            no      yes    \n",
       "19985 23095     41  blue-collar   married  basic.6y            no      yes    \n",
       "19986 25383     48  admin.        divorced high.school         no      no     \n",
       "19987 16918     31  admin.        unknown  university.degree   no      yes    \n",
       "19988  4245     35  blue-collar   single   unknown             no      yes    \n",
       "19989 21920     39  blue-collar   married  basic.4y            unknown yes    \n",
       "19990 29000     21  student       single   high.school         no      no     \n",
       "19991  6627     28  admin.        single   university.degree   no      yes    \n",
       "19992 35702     29  admin.        single   university.degree   no      yes    \n",
       "19993 38555     49  services      married  basic.4y            unknown no     \n",
       "19994 23289     38  blue-collar   divorced high.school         no      yes    \n",
       "19995  2969     36  blue-collar   single   high.school         no      yes    \n",
       "19996 13724     45  unknown       unknown  unknown             no      yes    \n",
       "19997 29863     26  admin.        single   university.degree   no      yes    \n",
       "19998  9841     33  admin.        married  high.school         no      yes    \n",
       "19999 36432     43  admin.        married  high.school         no      yes    \n",
       "20000 15639     55  blue-collar   married  basic.9y            no      yes    \n",
       "      loan    contact   month <U+22EF>        emp.var.rate cons.price.idx\n",
       "1     no      cellular  jul   <U+22EF>  1.4         93.918        \n",
       "2     no      telephone jun   <U+22EF>  1.4         94.465        \n",
       "3     yes     cellular  may   <U+22EF> -1.8         92.893        \n",
       "4     no      cellular  apr   <U+22EF> -1.8         93.075        \n",
       "5     unknown telephone may   <U+22EF>  1.1         93.994        \n",
       "6     no      telephone may   <U+22EF>  1.1         93.994        \n",
       "7     yes     cellular  apr   <U+22EF> -1.8         93.075        \n",
       "8     no      telephone may   <U+22EF>  1.1         93.994        \n",
       "9     no      cellular  may   <U+22EF> -1.8         92.893        \n",
       "10    yes     cellular  aug   <U+22EF>  1.4         93.444        \n",
       "11    no      telephone jun   <U+22EF>  1.4         94.465        \n",
       "12    no      cellular  jul   <U+22EF>  1.4         93.918        \n",
       "13    no      cellular  jul   <U+22EF>  1.4         93.918        \n",
       "14    no      cellular  may   <U+22EF> -1.8         92.893        \n",
       "15    no      cellular  nov   <U+22EF> -0.1         93.200        \n",
       "16    no      cellular  nov   <U+22EF> -0.1         93.200        \n",
       "17    no      telephone jun   <U+22EF>  1.4         94.465        \n",
       "18    no      cellular  apr   <U+22EF> -1.8         93.075        \n",
       "19    no      telephone may   <U+22EF>  1.1         93.994        \n",
       "20    no      cellular  apr   <U+22EF> -1.8         93.075        \n",
       "21    no      telephone may   <U+22EF>  1.1         93.994        \n",
       "22    no      cellular  may   <U+22EF> -1.8         92.893        \n",
       "23    no      cellular  may   <U+22EF> -1.8         92.893        \n",
       "24    no      telephone may   <U+22EF>  1.1         93.994        \n",
       "25    no      telephone may   <U+22EF>  1.1         93.994        \n",
       "26    no      telephone jun   <U+22EF>  1.4         94.465        \n",
       "27    unknown telephone nov   <U+22EF> -0.1         93.200        \n",
       "28    no      telephone may   <U+22EF>  1.1         93.994        \n",
       "29    yes     cellular  jul   <U+22EF>  1.4         93.918        \n",
       "30    no      cellular  aug   <U+22EF>  1.4         93.444        \n",
       "<U+22EE>     <U+22EE> <U+22EE>  <U+22EE> <U+22F1> <U+22EE>     <U+22EE>      \n",
       "19971 no      cellular  aug   <U+22EF>  1.4         93.444        \n",
       "19972 no      cellular  aug   <U+22EF>  1.4         93.444        \n",
       "19973 no      telephone may   <U+22EF>  1.1         93.994        \n",
       "19974 unknown cellular  jul   <U+22EF> -2.9         92.469        \n",
       "19975 no      cellular  aug   <U+22EF>  1.4         93.444        \n",
       "19976 no      cellular  nov   <U+22EF> -0.1         93.200        \n",
       "19977 yes     cellular  aug   <U+22EF>  1.4         93.444        \n",
       "19978 no      telephone jun   <U+22EF>  1.4         94.465        \n",
       "19979 no      cellular  aug   <U+22EF>  1.4         93.444        \n",
       "19980 yes     cellular  aug   <U+22EF>  1.4         93.444        \n",
       "19981 no      cellular  oct   <U+22EF> -3.4         92.431        \n",
       "19982 no      cellular  aug   <U+22EF>  1.4         93.444        \n",
       "19983 no      telephone may   <U+22EF>  1.1         93.994        \n",
       "19984 no      telephone may   <U+22EF>  1.1         93.994        \n",
       "19985 no      cellular  jul   <U+22EF>  1.4         93.918        \n",
       "19986 yes     telephone may   <U+22EF>  1.1         93.994        \n",
       "19987 yes     cellular  sep   <U+22EF> -1.1         94.199        \n",
       "19988 no      telephone jul   <U+22EF>  1.4         93.918        \n",
       "19989 no      telephone may   <U+22EF>  1.1             NA        \n",
       "19990 no      cellular  oct   <U+22EF> -3.4         92.431        \n",
       "19991 no      cellular  sep   <U+22EF> -3.4         92.379        \n",
       "19992 no      cellular  aug   <U+22EF>  1.4         93.444        \n",
       "19993 no      cellular  aug   <U+22EF>  1.4         93.444        \n",
       "19994 no      cellular  may   <U+22EF> -1.8         92.893        \n",
       "19995 no      cellular  jul   <U+22EF>  1.4         93.918        \n",
       "19996 yes     cellular  jul   <U+22EF>  1.4         93.918        \n",
       "19997 no      cellular  may   <U+22EF> -1.8         92.893        \n",
       "19998 yes     cellular  may   <U+22EF> -1.8         92.893        \n",
       "19999 no      telephone jul   <U+22EF>  1.4         93.918        \n",
       "20000 yes     cellular  aug   <U+22EF>  1.4         93.444        \n",
       "      cons.conf.idx euribor3m nr.employed subscribe missing_age\n",
       "1     -42.7         4.968     5228.1      0         0          \n",
       "2     -41.8         4.960     5228.1      0         0          \n",
       "3     -46.2         1.264     5099.1      0         0          \n",
       "4     -47.1         1.453     5099.1      0         0          \n",
       "5     -36.4         4.859     5191.0      0         0          \n",
       "6     -36.4         4.858     5191.0      0         0          \n",
       "7     -47.1         1.405     5099.1      1         0          \n",
       "8     -36.4         4.857     5191.0      0         0          \n",
       "9     -46.2         1.250     5099.1      0         0          \n",
       "10    -36.1         4.965     5228.1      0         0          \n",
       "11    -41.8         4.961     5228.1      0         0          \n",
       "12    -42.7         4.963     5228.1      0         0          \n",
       "13    -42.7         4.958     5228.1      0         0          \n",
       "14    -46.2         1.344     5099.1      0         0          \n",
       "15    -42.0         4.076     5195.8      1         0          \n",
       "16    -42.0         4.191     5195.8      0         0          \n",
       "17    -41.8         4.866     5228.1      0         0          \n",
       "18    -47.1         1.410     5099.1      0         0          \n",
       "19    -36.4         4.858     5191.0      0         0          \n",
       "20    -47.1         1.405     5099.1      0         0          \n",
       "21    -36.4         4.855     5191.0      0         0          \n",
       "22    -46.2         1.334     5099.1      0         0          \n",
       "23    -46.2         1.281     5099.1      0         0          \n",
       "24    -36.4         4.856     5191.0      0         0          \n",
       "25    -36.4         4.856     5191.0      0         0          \n",
       "26    -41.8         4.865     5228.1      0         0          \n",
       "27    -42.0         4.021     5195.8      0         0          \n",
       "28    -36.4         4.856     5191.0      0         0          \n",
       "29    -42.7         4.962     5228.1      0         0          \n",
       "30    -36.1         4.967     5228.1      0         0          \n",
       "<U+22EE>     <U+22EE>      <U+22EE>  <U+22EE>    <U+22EE>  <U+22EE>   \n",
       "19971 -36.1         4.965     5228.1      0         0          \n",
       "19972 -36.1         4.964     5228.1      0         0          \n",
       "19973 -36.4         4.860     5191.0      0         0          \n",
       "19974 -33.6         0.914     5076.2      0         0          \n",
       "19975 -36.1         4.966     5228.1      0         0          \n",
       "19976 -42.0         4.153     5195.8      0         0          \n",
       "19977 -36.1         4.965     5228.1      0         0          \n",
       "19978 -41.8         4.865     5228.1      0         0          \n",
       "19979 -36.1         4.965     5228.1      0         0          \n",
       "19980 -36.1         4.968     5228.1      0         0          \n",
       "19981 -26.9         0.754     5017.5      0         0          \n",
       "19982 -36.1         4.963     5228.1      0         0          \n",
       "19983 -36.4         4.864     5191.0      0         0          \n",
       "19984 -36.4         4.860     5191.0      0         0          \n",
       "19985 -42.7         4.968     5228.1      0         0          \n",
       "19986 -36.4         4.856     5191.0      0         0          \n",
       "19987 -37.5         0.877     4963.6      1         0          \n",
       "19988 -42.7         4.960     5228.1      0         0          \n",
       "19989 -36.4         4.859     5191.0      0         0          \n",
       "19990    NA         0.728     5017.5      1         0          \n",
       "19991 -29.8         0.773     5017.5      1         0          \n",
       "19992 -36.1         4.963     5228.1      0         0          \n",
       "19993 -36.1         4.963     5228.1      1         0          \n",
       "19994 -46.2         1.344     5099.1      0         0          \n",
       "19995 -42.7         4.968     5228.1      0         0          \n",
       "19996 -42.7         4.957     5228.1      1         0          \n",
       "19997 -46.2         1.299     5099.1      0         0          \n",
       "19998 -46.2         1.299     5099.1      0         0          \n",
       "19999 -42.7         4.960     5228.1      0         0          \n",
       "20000 -36.1         4.963     5228.1      0         0          \n",
       "      missing_campaign replace999 missing_pdays\n",
       "1     0                0          0            \n",
       "2     0                0          0            \n",
       "3     0                0          0            \n",
       "4     0                0          0            \n",
       "5     0                0          0            \n",
       "6     0                0          0            \n",
       "7     0                1          1            \n",
       "8     0                0          0            \n",
       "9     0                0          0            \n",
       "10    0                0          0            \n",
       "11    0                0          0            \n",
       "12    0                0          0            \n",
       "13    0                0          0            \n",
       "14    0                0          0            \n",
       "15    0                0          0            \n",
       "16    0                0          0            \n",
       "17    0                0          0            \n",
       "18    0                0          0            \n",
       "19    0                0          0            \n",
       "20    0                0          0            \n",
       "21    0                0          0            \n",
       "22    0                0          0            \n",
       "23    0                0          0            \n",
       "24    0                0          0            \n",
       "25    0                0          0            \n",
       "26    0                0          0            \n",
       "27    0                0          0            \n",
       "28    0                0          0            \n",
       "29    0                0          0            \n",
       "30    0                0          0            \n",
       "<U+22EE>     <U+22EE>         <U+22EE>   <U+22EE>     \n",
       "19971 0                0          0            \n",
       "19972 0                0          0            \n",
       "19973 0                0          0            \n",
       "19974 0                0          0            \n",
       "19975 0                0          0            \n",
       "19976 0                0          0            \n",
       "19977 0                0          0            \n",
       "19978 0                0          0            \n",
       "19979 0                0          0            \n",
       "19980 0                0          0            \n",
       "19981 0                0          0            \n",
       "19982 0                0          0            \n",
       "19983 0                0          0            \n",
       "19984 0                0          0            \n",
       "19985 0                0          0            \n",
       "19986 0                0          0            \n",
       "19987 0                0          0            \n",
       "19988 1                0          0            \n",
       "19989 0                0          0            \n",
       "19990 0                0          0            \n",
       "19991 0                0          0            \n",
       "19992 0                0          0            \n",
       "19993 0                0          0            \n",
       "19994 0                0          0            \n",
       "19995 0                0          0            \n",
       "19996 0                0          0            \n",
       "19997 0                0          0            \n",
       "19998 0                0          0            \n",
       "19999 0                0          0            \n",
       "20000 0                0          0            "
      ]
     },
     "metadata": {},
     "output_type": "display_data"
    }
   ],
   "source": [
    "train"
   ]
  },
  {
   "cell_type": "code",
   "execution_count": 18,
   "id": "6d85af9c",
   "metadata": {
    "lines_to_next_cell": 2
   },
   "outputs": [
    {
     "data": {
      "text/html": [
       "<table class=\"dataframe\">\n",
       "<caption>A data.frame: 7 × 2</caption>\n",
       "<thead>\n",
       "\t<tr><th scope=col>Var1</th><th scope=col>Freq</th></tr>\n",
       "\t<tr><th scope=col>&lt;fct&gt;</th><th scope=col>&lt;int&gt;</th></tr>\n",
       "</thead>\n",
       "<tbody>\n",
       "\t<tr><td>0</td><td>17120</td></tr>\n",
       "\t<tr><td>1</td><td> 2152</td></tr>\n",
       "\t<tr><td>2</td><td>  371</td></tr>\n",
       "\t<tr><td>3</td><td>  103</td></tr>\n",
       "\t<tr><td>4</td><td>   31</td></tr>\n",
       "\t<tr><td>5</td><td>   12</td></tr>\n",
       "\t<tr><td>6</td><td>    2</td></tr>\n",
       "</tbody>\n",
       "</table>\n"
      ],
      "text/latex": [
       "A data.frame: 7 × 2\n",
       "\\begin{tabular}{ll}\n",
       " Var1 & Freq\\\\\n",
       " <fct> & <int>\\\\\n",
       "\\hline\n",
       "\t 0 & 17120\\\\\n",
       "\t 1 &  2152\\\\\n",
       "\t 2 &   371\\\\\n",
       "\t 3 &   103\\\\\n",
       "\t 4 &    31\\\\\n",
       "\t 5 &    12\\\\\n",
       "\t 6 &     2\\\\\n",
       "\\end{tabular}\n"
      ],
      "text/markdown": [
       "\n",
       "A data.frame: 7 × 2\n",
       "\n",
       "| Var1 &lt;fct&gt; | Freq &lt;int&gt; |\n",
       "|---|---|\n",
       "| 0 | 17120 |\n",
       "| 1 |  2152 |\n",
       "| 2 |   371 |\n",
       "| 3 |   103 |\n",
       "| 4 |    31 |\n",
       "| 5 |    12 |\n",
       "| 6 |     2 |\n",
       "\n"
      ],
      "text/plain": [
       "  Var1 Freq \n",
       "1 0    17120\n",
       "2 1     2152\n",
       "3 2      371\n",
       "4 3      103\n",
       "5 4       31\n",
       "6 5       12\n",
       "7 6        2"
      ]
     },
     "metadata": {},
     "output_type": "display_data"
    }
   ],
   "source": [
    "# For previous variable\n",
    "\n",
    "# We count the unique values frequency first\n",
    "as.data.frame(table(train$previous))"
   ]
  },
  {
   "cell_type": "code",
   "execution_count": 19,
   "id": "b3934312",
   "metadata": {
    "lines_to_next_cell": 2
   },
   "outputs": [],
   "source": [
    "# We can either replace missing values by the median + tracking missing or creating categorical variables with a new category\n",
    "# -> We will first try by assigning the median and tracking the missing data, we can improve this later for the modelling\n",
    "\n",
    "# First step: new variable \n",
    "train$missing_previous <- ifelse(is.na(train$previous) == TRUE, 1, 0)\n",
    "\n",
    "# Second step: replacing NA\n",
    "train$previous[is.na(train$previous)]<-median(train$previous,na.rm=TRUE)"
   ]
  },
  {
   "cell_type": "code",
   "execution_count": 20,
   "id": "31d9f24a",
   "metadata": {
    "lines_to_next_cell": 2
   },
   "outputs": [],
   "source": [
    "# Finally, emp.var.rate, cons.price.idx, cons.conf.idx, euribor3m, nr.employed will be replaced by the mean\n",
    "\n",
    "# First step: new variables \n",
    "train$missing_emp.var.rate <- ifelse(is.na(train$emp.var.rate) == TRUE, 1, 0)\n",
    "train$missing_cons.price.idx <- ifelse(is.na(train$cons.price.idx) == TRUE, 1, 0)\n",
    "train$missing_cons.conf.idx <- ifelse(is.na(train$cons.conf.idx) == TRUE, 1, 0)\n",
    "train$missing_euribor3m <- ifelse(is.na(train$euribor3m) == TRUE, 1, 0)\n",
    "train$missing_nr.employed <- ifelse(is.na(train$nr.employed) == TRUE, 1, 0)\n",
    "\n",
    "# Second step: replacing NA\n",
    "train$emp.var.rate[is.na(train$emp.var.rate)]<-mean(train$emp.var.rate,na.rm=TRUE)\n",
    "train$cons.price.idx[is.na(train$cons.price.idx)]<-mean(train$cons.price.idx,na.rm=TRUE)\n",
    "train$cons.conf.idx[is.na(train$cons.conf.idx)]<-mean(train$cons.conf.idx,na.rm=TRUE)\n",
    "train$euribor3m[is.na(train$euribor3m)]<-mean(train$euribor3m,na.rm=TRUE)\n",
    "train$nr.employed[is.na(train$nr.employed)]<-mean(train$nr.employed,na.rm=TRUE)"
   ]
  },
  {
   "cell_type": "code",
   "execution_count": 21,
   "id": "6bccf5d4",
   "metadata": {
    "lines_to_next_cell": 2
   },
   "outputs": [
    {
     "data": {
      "text/html": [
       "<style>\n",
       ".dl-inline {width: auto; margin:0; padding: 0}\n",
       ".dl-inline>dt, .dl-inline>dd {float: none; width: auto; display: inline-block}\n",
       ".dl-inline>dt::after {content: \":\\0020\"; padding-right: .5ex}\n",
       ".dl-inline>dt:not(:first-of-type) {padding-left: .5ex}\n",
       "</style><dl class=dl-inline><dt>client_id</dt><dd>0</dd><dt>age</dt><dd>0</dd><dt>job</dt><dd>0</dd><dt>marital</dt><dd>0</dd><dt>education</dt><dd>0</dd><dt>default</dt><dd>0</dd><dt>housing</dt><dd>0</dd><dt>loan</dt><dd>0</dd><dt>contact</dt><dd>0</dd><dt>month</dt><dd>0</dd><dt>day_of_week</dt><dd>0</dd><dt>campaign</dt><dd>0</dd><dt>pdays</dt><dd>0</dd><dt>previous</dt><dd>0</dd><dt>poutcome</dt><dd>0</dd><dt>emp.var.rate</dt><dd>0</dd><dt>cons.price.idx</dt><dd>0</dd><dt>cons.conf.idx</dt><dd>0</dd><dt>euribor3m</dt><dd>0</dd><dt>nr.employed</dt><dd>0</dd><dt>subscribe</dt><dd>0</dd><dt>missing_age</dt><dd>0</dd><dt>missing_campaign</dt><dd>0</dd><dt>replace999</dt><dd>0</dd><dt>missing_pdays</dt><dd>0</dd><dt>missing_previous</dt><dd>0</dd><dt>missing_emp.var.rate</dt><dd>0</dd><dt>missing_cons.price.idx</dt><dd>0</dd><dt>missing_cons.conf.idx</dt><dd>0</dd><dt>missing_euribor3m</dt><dd>0</dd><dt>missing_nr.employed</dt><dd>0</dd></dl>\n"
      ],
      "text/latex": [
       "\\begin{description*}\n",
       "\\item[client\\textbackslash{}\\_id] 0\n",
       "\\item[age] 0\n",
       "\\item[job] 0\n",
       "\\item[marital] 0\n",
       "\\item[education] 0\n",
       "\\item[default] 0\n",
       "\\item[housing] 0\n",
       "\\item[loan] 0\n",
       "\\item[contact] 0\n",
       "\\item[month] 0\n",
       "\\item[day\\textbackslash{}\\_of\\textbackslash{}\\_week] 0\n",
       "\\item[campaign] 0\n",
       "\\item[pdays] 0\n",
       "\\item[previous] 0\n",
       "\\item[poutcome] 0\n",
       "\\item[emp.var.rate] 0\n",
       "\\item[cons.price.idx] 0\n",
       "\\item[cons.conf.idx] 0\n",
       "\\item[euribor3m] 0\n",
       "\\item[nr.employed] 0\n",
       "\\item[subscribe] 0\n",
       "\\item[missing\\textbackslash{}\\_age] 0\n",
       "\\item[missing\\textbackslash{}\\_campaign] 0\n",
       "\\item[replace999] 0\n",
       "\\item[missing\\textbackslash{}\\_pdays] 0\n",
       "\\item[missing\\textbackslash{}\\_previous] 0\n",
       "\\item[missing\\textbackslash{}\\_emp.var.rate] 0\n",
       "\\item[missing\\textbackslash{}\\_cons.price.idx] 0\n",
       "\\item[missing\\textbackslash{}\\_cons.conf.idx] 0\n",
       "\\item[missing\\textbackslash{}\\_euribor3m] 0\n",
       "\\item[missing\\textbackslash{}\\_nr.employed] 0\n",
       "\\end{description*}\n"
      ],
      "text/markdown": [
       "client_id\n",
       ":   0age\n",
       ":   0job\n",
       ":   0marital\n",
       ":   0education\n",
       ":   0default\n",
       ":   0housing\n",
       ":   0loan\n",
       ":   0contact\n",
       ":   0month\n",
       ":   0day_of_week\n",
       ":   0campaign\n",
       ":   0pdays\n",
       ":   0previous\n",
       ":   0poutcome\n",
       ":   0emp.var.rate\n",
       ":   0cons.price.idx\n",
       ":   0cons.conf.idx\n",
       ":   0euribor3m\n",
       ":   0nr.employed\n",
       ":   0subscribe\n",
       ":   0missing_age\n",
       ":   0missing_campaign\n",
       ":   0replace999\n",
       ":   0missing_pdays\n",
       ":   0missing_previous\n",
       ":   0missing_emp.var.rate\n",
       ":   0missing_cons.price.idx\n",
       ":   0missing_cons.conf.idx\n",
       ":   0missing_euribor3m\n",
       ":   0missing_nr.employed\n",
       ":   0\n",
       "\n"
      ],
      "text/plain": [
       "             client_id                    age                    job \n",
       "                     0                      0                      0 \n",
       "               marital              education                default \n",
       "                     0                      0                      0 \n",
       "               housing                   loan                contact \n",
       "                     0                      0                      0 \n",
       "                 month            day_of_week               campaign \n",
       "                     0                      0                      0 \n",
       "                 pdays               previous               poutcome \n",
       "                     0                      0                      0 \n",
       "          emp.var.rate         cons.price.idx          cons.conf.idx \n",
       "                     0                      0                      0 \n",
       "             euribor3m            nr.employed              subscribe \n",
       "                     0                      0                      0 \n",
       "           missing_age       missing_campaign             replace999 \n",
       "                     0                      0                      0 \n",
       "         missing_pdays       missing_previous   missing_emp.var.rate \n",
       "                     0                      0                      0 \n",
       "missing_cons.price.idx  missing_cons.conf.idx      missing_euribor3m \n",
       "                     0                      0                      0 \n",
       "   missing_nr.employed \n",
       "                     0 "
      ]
     },
     "metadata": {},
     "output_type": "display_data"
    }
   ],
   "source": [
    "# Checking missing values per variables in train\n",
    "missing_values <- sapply(train, function(x) sum(is.na(x)))\n",
    "missing_values"
   ]
  },
  {
   "cell_type": "code",
   "execution_count": 22,
   "id": "d3c08019",
   "metadata": {
    "lines_to_next_cell": 2
   },
   "outputs": [
    {
     "name": "stdout",
     "output_type": "stream",
     "text": [
      "'data.frame':\t20000 obs. of  31 variables:\n",
      " $ client_id             : int  29925 37529 2757 9642 14183 15180 27168 9097 30538 28981 ...\n",
      " $ age                   : num  42 35 44 45 45 38 33 38 29 34 ...\n",
      " $ job                   : chr  \"management\" \"unemployed\" \"technician\" \"services\" ...\n",
      " $ marital               : chr  \"married\" \"married\" \"married\" \"married\" ...\n",
      " $ education             : chr  \"basic.9y\" \"university.degree\" \"basic.9y\" \"high.school\" ...\n",
      " $ default               : chr  \"no\" \"no\" \"no\" \"no\" ...\n",
      " $ housing               : chr  \"no\" \"yes\" \"yes\" \"yes\" ...\n",
      " $ loan                  : chr  \"no\" \"no\" \"yes\" \"no\" ...\n",
      " $ contact               : chr  \"cellular\" \"telephone\" \"cellular\" \"cellular\" ...\n",
      " $ month                 : chr  \"jul\" \"jun\" \"may\" \"apr\" ...\n",
      " $ day_of_week           : chr  \"thu\" \"mon\" \"mon\" \"tue\" ...\n",
      " $ campaign              : num  1 4 1 1 1 2 1 1 1 1 ...\n",
      " $ pdays                 : num  0 0 0 0 0 0 0 0 0 0 ...\n",
      " $ previous              : int  0 0 0 0 0 0 1 0 1 0 ...\n",
      " $ poutcome              : chr  \"nonexistent\" \"nonexistent\" \"nonexistent\" \"nonexistent\" ...\n",
      " $ emp.var.rate          : num  1.4 1.4 -1.8 -1.8 1.1 1.1 -1.8 1.1 -1.8 1.4 ...\n",
      " $ cons.price.idx        : num  93.9 94.5 92.9 93.1 94 ...\n",
      " $ cons.conf.idx         : num  -42.7 -41.8 -46.2 -47.1 -36.4 -36.4 -47.1 -36.4 -46.2 -36.1 ...\n",
      " $ euribor3m             : num  4.97 4.96 1.26 1.45 4.86 ...\n",
      " $ nr.employed           : num  5228 5228 5099 5099 5191 ...\n",
      " $ subscribe             : int  0 0 0 0 0 0 1 0 0 0 ...\n",
      " $ missing_age           : num  0 0 0 0 0 0 0 0 0 0 ...\n",
      " $ missing_campaign      : num  0 0 0 0 0 0 0 0 0 0 ...\n",
      " $ replace999            : num  0 0 0 0 0 0 1 0 0 0 ...\n",
      " $ missing_pdays         : num  0 0 0 0 0 0 1 0 0 0 ...\n",
      " $ missing_previous      : num  0 0 0 0 0 0 0 0 0 0 ...\n",
      " $ missing_emp.var.rate  : num  0 0 0 0 0 0 0 0 0 0 ...\n",
      " $ missing_cons.price.idx: num  0 0 0 0 0 0 0 0 0 0 ...\n",
      " $ missing_cons.conf.idx : num  0 0 0 0 0 0 0 0 0 0 ...\n",
      " $ missing_euribor3m     : num  0 0 0 0 0 0 0 0 0 0 ...\n",
      " $ missing_nr.employed   : num  0 0 0 0 0 0 0 0 0 0 ...\n"
     ]
    }
   ],
   "source": [
    "# See final train table \n",
    "\n",
    "str(train)"
   ]
  },
  {
   "cell_type": "markdown",
   "id": "23242afe",
   "metadata": {
    "lines_to_next_cell": 2
   },
   "source": [
    "\n",
    "## Correlation Matrix"
   ]
  },
  {
   "cell_type": "code",
   "execution_count": 23,
   "id": "1f486970",
   "metadata": {
    "lines_to_next_cell": 2
   },
   "outputs": [],
   "source": [
    "# Creating an atrain dataset for the analysis without the 'missing track variables' and without client_id\n",
    "atrain = subset(train, select=-c(client_id, missing_age, missing_campaign, replace999, missing_pdays, missing_previous, missing_emp.var.rate, missing_cons.price.idx, missing_cons.conf.idx, missing_euribor3m , missing_nr.employed))"
   ]
  },
  {
   "cell_type": "markdown",
   "id": "3c672d4e",
   "metadata": {
    "lines_to_next_cell": 2
   },
   "source": [
    "\n",
    "##### Correlation Matrix"
   ]
  },
  {
   "cell_type": "code",
   "execution_count": 24,
   "id": "7fde5162",
   "metadata": {
    "lines_to_next_cell": 2
   },
   "outputs": [
    {
     "name": "stderr",
     "output_type": "stream",
     "text": [
      "4 features with more than 5 categories ignored!\n",
      "job: 12 categories\n",
      "education: 8 categories\n",
      "month: 11 categories\n",
      "day_of_week: 6 categories\n",
      "\n",
      "\n"
     ]
    },
    {
     "data": {
      "image/png": "[encoded data removed]",
      "text/plain": [
       "plot without title"
      ]
     },
     "metadata": {
      "image/png": {
       "height": 420,
       "width": 420
      }
     },
     "output_type": "display_data"
    }
   ],
   "source": [
    "# Plotting correlation without job, education, month and day of the week\n",
    "\n",
    "plot_correlation(na.omit(atrain), maxcat = 5L)"
   ]
  },
  {
   "cell_type": "markdown",
   "id": "4c671c32",
   "metadata": {
    "lines_to_next_cell": 2
   },
   "source": [
    "According to our main correlation matrix we can conclude that the most important variables are pdays, previous, loan and poutcome. We can also notice a negative correlation with campaign, emp_var_rate, cons_price_idx, eurib, employed, poutcome nonexistent, as well as contact telephone. "
   ]
  },
  {
   "cell_type": "code",
   "execution_count": 25,
   "id": "bac42a73",
   "metadata": {
    "lines_to_next_cell": 2
   },
   "outputs": [
    {
     "data": {
      "image/png": "[encoded data removed]",
      "text/plain": [
       "plot without title"
      ]
     },
     "metadata": {
      "image/png": {
       "height": 420,
       "width": 420
      }
     },
     "output_type": "display_data"
    }
   ],
   "source": [
    "# Plotting correlation between subscribe and education\n",
    "\n",
    "educationmat = atrain[,c(\"subscribe\",\"education\")]\n",
    "plot_correlation(na.omit(educationmat), maxcat = 12L)"
   ]
  },
  {
   "cell_type": "markdown",
   "id": "09c43696",
   "metadata": {
    "lines_to_next_cell": 2
   },
   "source": [
    "Only university degree can be correlated with subscribe"
   ]
  },
  {
   "cell_type": "code",
   "execution_count": 26,
   "id": "fb550662",
   "metadata": {
    "lines_to_next_cell": 2
   },
   "outputs": [
    {
     "data": {
      "image/png": "[encoded data removed]",
      "text/plain": [
       "plot without title"
      ]
     },
     "metadata": {
      "image/png": {
       "height": 420,
       "width": 420
      }
     },
     "output_type": "display_data"
    }
   ],
   "source": [
    "# Plotting correlation between subscribe and job\n",
    "\n",
    "jobmat = atrain[,c(\"subscribe\",\"job\")]\n",
    "plot_correlation(na.omit(jobmat), maxcat = 12L)"
   ]
  },
  {
   "cell_type": "markdown",
   "id": "93372c48",
   "metadata": {
    "lines_to_next_cell": 2
   },
   "source": [
    "\n",
    "Some jobs can be related to subscribe"
   ]
  },
  {
   "cell_type": "code",
   "execution_count": 27,
   "id": "65e06c6c",
   "metadata": {
    "lines_to_next_cell": 2
   },
   "outputs": [
    {
     "data": {
      "image/png": "[encoded data removed]",
      "text/plain": [
       "plot without title"
      ]
     },
     "metadata": {
      "image/png": {
       "height": 420,
       "width": 420
      }
     },
     "output_type": "display_data"
    }
   ],
   "source": [
    "# Plotting correlation between subscribe and month\n",
    "\n",
    "monthmat = atrain[,c(\"subscribe\",\"month\")]\n",
    "plot_correlation(na.omit(monthmat), maxcat = 12L)"
   ]
  },
  {
   "cell_type": "markdown",
   "id": "403778b1",
   "metadata": {
    "lines_to_next_cell": 2
   },
   "source": [
    "\n",
    "Month can be related to subscribe "
   ]
  },
  {
   "cell_type": "code",
   "execution_count": 28,
   "id": "e9d5b7c3",
   "metadata": {
    "lines_to_next_cell": 2
   },
   "outputs": [
    {
     "data": {
      "image/png": "[encoded data removed]",
      "text/plain": [
       "plot without title"
      ]
     },
     "metadata": {
      "image/png": {
       "height": 420,
       "width": 420
      }
     },
     "output_type": "display_data"
    }
   ],
   "source": [
    "# Plotting correlation between subscribe and day\n",
    "\n",
    "daymat = atrain[,c(\"subscribe\",\"day_of_week\")]\n",
    "plot_correlation(na.omit(daymat), maxcat = 12L)"
   ]
  },
  {
   "cell_type": "markdown",
   "id": "70ef37fe",
   "metadata": {
    "lines_to_next_cell": 2
   },
   "source": [
    "\n",
    "Day is not correlated at all with our target variable"
   ]
  },
  {
   "cell_type": "code",
   "execution_count": 29,
   "id": "c7ed443d",
   "metadata": {
    "lines_to_next_cell": 2
   },
   "outputs": [
    {
     "data": {
      "image/png": "[encoded data removed]",
      "text/plain": [
       "plot without title"
      ]
     },
     "metadata": {
      "image/png": {
       "height": 420,
       "width": 420
      }
     },
     "output_type": "display_data"
    }
   ],
   "source": [
    "# Correlation with missing value from missing variables \n",
    "\n",
    "mtrain = train[,c(\"subscribe\", \"missing_age\", \"missing_campaign\", \"replace999\", \"missing_pdays\", \"missing_previous\", \"missing_emp.var.rate\", \"missing_cons.price.idx\", \"missing_cons.conf.idx\", \"missing_euribor3m\" , \"missing_nr.employed\")]\n",
    "plot_correlation(na.omit(mtrain), maxcat = 12L)"
   ]
  },
  {
   "cell_type": "markdown",
   "id": "80d51a68",
   "metadata": {
    "lines_to_next_cell": 2
   },
   "source": [
    "\n",
    "There is no correlation with subscribre and the missing or replacement tracker variables"
   ]
  },
  {
   "cell_type": "code",
   "execution_count": 30,
   "id": "6743791c",
   "metadata": {
    "lines_to_next_cell": 2
   },
   "outputs": [],
   "source": [
    "# We can already remove the less important variables such as client_id, day, loan and trackers variables\n",
    "\n",
    "train = subset(train, select=-c(client_id, loan, day_of_week, missing_age, missing_campaign, replace999, missing_pdays, missing_previous, missing_emp.var.rate, missing_cons.price.idx, missing_cons.conf.idx, missing_euribor3m , missing_nr.employed))"
   ]
  },
  {
   "cell_type": "markdown",
   "id": "1888c312",
   "metadata": {
    "lines_to_next_cell": 2
   },
   "source": [
    "\n",
    "### Last steps before Modeling "
   ]
  },
  {
   "cell_type": "code",
   "execution_count": 31,
   "id": "7879b3d8",
   "metadata": {
    "lines_to_next_cell": 2
   },
   "outputs": [
    {
     "name": "stdout",
     "output_type": "stream",
     "text": [
      "'data.frame':\t20000 obs. of  18 variables:\n",
      " $ age           : num  42 35 44 45 45 38 33 38 29 34 ...\n",
      " $ job           : chr  \"management\" \"unemployed\" \"technician\" \"services\" ...\n",
      " $ marital       : chr  \"married\" \"married\" \"married\" \"married\" ...\n",
      " $ education     : chr  \"basic.9y\" \"university.degree\" \"basic.9y\" \"high.school\" ...\n",
      " $ default       : chr  \"no\" \"no\" \"no\" \"no\" ...\n",
      " $ housing       : chr  \"no\" \"yes\" \"yes\" \"yes\" ...\n",
      " $ contact       : chr  \"cellular\" \"telephone\" \"cellular\" \"cellular\" ...\n",
      " $ month         : chr  \"jul\" \"jun\" \"may\" \"apr\" ...\n",
      " $ campaign      : num  1 4 1 1 1 2 1 1 1 1 ...\n",
      " $ pdays         : num  0 0 0 0 0 0 0 0 0 0 ...\n",
      " $ previous      : int  0 0 0 0 0 0 1 0 1 0 ...\n",
      " $ poutcome      : chr  \"nonexistent\" \"nonexistent\" \"nonexistent\" \"nonexistent\" ...\n",
      " $ emp.var.rate  : num  1.4 1.4 -1.8 -1.8 1.1 1.1 -1.8 1.1 -1.8 1.4 ...\n",
      " $ cons.price.idx: num  93.9 94.5 92.9 93.1 94 ...\n",
      " $ cons.conf.idx : num  -42.7 -41.8 -46.2 -47.1 -36.4 -36.4 -47.1 -36.4 -46.2 -36.1 ...\n",
      " $ euribor3m     : num  4.97 4.96 1.26 1.45 4.86 ...\n",
      " $ nr.employed   : num  5228 5228 5099 5099 5191 ...\n",
      " $ subscribe     : int  0 0 0 0 0 0 1 0 0 0 ...\n"
     ]
    }
   ],
   "source": [
    "str(train)"
   ]
  },
  {
   "cell_type": "markdown",
   "id": "3ce02fba",
   "metadata": {
    "lines_to_next_cell": 2
   },
   "source": [
    "\n",
    "#### 1. Replacing categorical string by numerical category"
   ]
  },
  {
   "cell_type": "markdown",
   "id": "f6dab8f4",
   "metadata": {
    "lines_to_next_cell": 2
   },
   "source": [
    "\n",
    "These variables are job, marital, education, default, housing, contact, month and poutcome "
   ]
  },
  {
   "cell_type": "code",
   "execution_count": 32,
   "id": "dc5b4d26",
   "metadata": {
    "lines_to_next_cell": 2
   },
   "outputs": [
    {
     "data": {
      "text/html": [
       "<style>\n",
       ".list-inline {list-style: none; margin:0; padding: 0}\n",
       ".list-inline>li {display: inline-block}\n",
       ".list-inline>li:not(:last-child)::after {content: \"\\00b7\"; padding: 0 .5ex}\n",
       "</style>\n",
       "<ol class=list-inline><li>'11'</li><li>'1'</li><li>'6'</li><li>'8'</li><li>'0'</li><li>'4'</li><li>'9'</li><li>'10'</li><li>'3'</li><li>'5'</li><li>'2'</li><li>'7'</li></ol>\n"
      ],
      "text/latex": [
       "\\begin{enumerate*}\n",
       "\\item '11'\n",
       "\\item '1'\n",
       "\\item '6'\n",
       "\\item '8'\n",
       "\\item '0'\n",
       "\\item '4'\n",
       "\\item '9'\n",
       "\\item '10'\n",
       "\\item '3'\n",
       "\\item '5'\n",
       "\\item '2'\n",
       "\\item '7'\n",
       "\\end{enumerate*}\n"
      ],
      "text/markdown": [
       "1. '11'\n",
       "2. '1'\n",
       "3. '6'\n",
       "4. '8'\n",
       "5. '0'\n",
       "6. '4'\n",
       "7. '9'\n",
       "8. '10'\n",
       "9. '3'\n",
       "10. '5'\n",
       "11. '2'\n",
       "12. '7'\n",
       "\n",
       "\n"
      ],
      "text/plain": [
       " [1] \"11\" \"1\"  \"6\"  \"8\"  \"0\"  \"4\"  \"9\"  \"10\" \"3\"  \"5\"  \"2\"  \"7\" "
      ]
     },
     "metadata": {},
     "output_type": "display_data"
    }
   ],
   "source": [
    "# Jobs\n",
    "\n",
    "# Replacing job category in numerical category\n",
    "\n",
    "train[\"job\"][train[\"job\"] == \"management\"] <- 11\n",
    "train[\"job\"][train[\"job\"] == \"entrepreneur\"] <- 10\n",
    "train[\"job\"][train[\"job\"] == \"admin.\"] <- 9\n",
    "train[\"job\"][train[\"job\"] == \"services\"] <- 8\n",
    "train[\"job\"][train[\"job\"] == \"self-employed\"] <- 7\n",
    "train[\"job\"][train[\"job\"] == \"technician\"] <- 6\n",
    "train[\"job\"][train[\"job\"] == \"housemaid\"] <- 5\n",
    "train[\"job\"][train[\"job\"] == \"blue-collar\"] <- 4\n",
    "train[\"job\"][train[\"job\"] == \"retired\"] <- 3\n",
    "train[\"job\"][train[\"job\"] == \"student\"] <- 2\n",
    "train[\"job\"][train[\"job\"] == \"unemployed\"] <- 1\n",
    "train[\"job\"][train[\"job\"] == \"unknown\"] <- 0\n",
    "\n",
    "# Checking for unique value \n",
    "unique(train$job)"
   ]
  },
  {
   "cell_type": "code",
   "execution_count": 33,
   "id": "1e0c84fe",
   "metadata": {
    "lines_to_next_cell": 2
   },
   "outputs": [
    {
     "data": {
      "text/html": [
       "<style>\n",
       ".list-inline {list-style: none; margin:0; padding: 0}\n",
       ".list-inline>li {display: inline-block}\n",
       ".list-inline>li:not(:last-child)::after {content: \"\\00b7\"; padding: 0 .5ex}\n",
       "</style>\n",
       "<ol class=list-inline><li>'3'</li><li>'1'</li><li>'2'</li><li>'0'</li></ol>\n"
      ],
      "text/latex": [
       "\\begin{enumerate*}\n",
       "\\item '3'\n",
       "\\item '1'\n",
       "\\item '2'\n",
       "\\item '0'\n",
       "\\end{enumerate*}\n"
      ],
      "text/markdown": [
       "1. '3'\n",
       "2. '1'\n",
       "3. '2'\n",
       "4. '0'\n",
       "\n",
       "\n"
      ],
      "text/plain": [
       "[1] \"3\" \"1\" \"2\" \"0\""
      ]
     },
     "metadata": {},
     "output_type": "display_data"
    }
   ],
   "source": [
    "# Marital\n",
    "\n",
    "# Replacing with numerical category\n",
    "train[\"marital\"][train[\"marital\"] == \"married\"] <- 3\n",
    "train[\"marital\"][train[\"marital\"] == \"divorced\"] <- 2\n",
    "train[\"marital\"][train[\"marital\"] == \"single\"] <- 1\n",
    "train[\"marital\"][train[\"marital\"] == \"unknown\"] <- 0\n",
    "\n",
    "# Checking for unique value \n",
    "unique(train$marital)"
   ]
  },
  {
   "cell_type": "code",
   "execution_count": 34,
   "id": "b2c5431e",
   "metadata": {
    "lines_to_next_cell": 2
   },
   "outputs": [
    {
     "data": {
      "text/html": [
       "<style>\n",
       ".list-inline {list-style: none; margin:0; padding: 0}\n",
       ".list-inline>li {display: inline-block}\n",
       ".list-inline>li:not(:last-child)::after {content: \"\\00b7\"; padding: 0 .5ex}\n",
       "</style>\n",
       "<ol class=list-inline><li>'4'</li><li>'6'</li><li>'5'</li><li>'0'</li><li>'7'</li><li>'3'</li><li>'2'</li><li>'1'</li></ol>\n"
      ],
      "text/latex": [
       "\\begin{enumerate*}\n",
       "\\item '4'\n",
       "\\item '6'\n",
       "\\item '5'\n",
       "\\item '0'\n",
       "\\item '7'\n",
       "\\item '3'\n",
       "\\item '2'\n",
       "\\item '1'\n",
       "\\end{enumerate*}\n"
      ],
      "text/markdown": [
       "1. '4'\n",
       "2. '6'\n",
       "3. '5'\n",
       "4. '0'\n",
       "5. '7'\n",
       "6. '3'\n",
       "7. '2'\n",
       "8. '1'\n",
       "\n",
       "\n"
      ],
      "text/plain": [
       "[1] \"4\" \"6\" \"5\" \"0\" \"7\" \"3\" \"2\" \"1\""
      ]
     },
     "metadata": {},
     "output_type": "display_data"
    }
   ],
   "source": [
    "# Education\n",
    "\n",
    "# Replacing with numerical category\n",
    "train[\"education\"][train[\"education\"] == \"professional.course\"] <- 7\n",
    "train[\"education\"][train[\"education\"] == \"university.degree\"] <- 6\n",
    "train[\"education\"][train[\"education\"] == \"high.school\"] <- 5\n",
    "train[\"education\"][train[\"education\"] == \"basic.9y\"] <- 4\n",
    "train[\"education\"][train[\"education\"] == \"basic.6y\"] <- 3\n",
    "train[\"education\"][train[\"education\"] == \"basic.4y\"] <- 2\n",
    "train[\"education\"][train[\"education\"] == \"illiterate\"] <- 1\n",
    "train[\"education\"][train[\"education\"] == \"unknown\"] <- 0\n",
    "\n",
    "# Checking for unique value \n",
    "unique(train$education)"
   ]
  },
  {
   "cell_type": "code",
   "execution_count": 35,
   "id": "3c052384",
   "metadata": {
    "lines_to_next_cell": 2
   },
   "outputs": [
    {
     "data": {
      "text/html": [
       "<style>\n",
       ".list-inline {list-style: none; margin:0; padding: 0}\n",
       ".list-inline>li {display: inline-block}\n",
       ".list-inline>li:not(:last-child)::after {content: \"\\00b7\"; padding: 0 .5ex}\n",
       "</style>\n",
       "<ol class=list-inline><li>'1'</li><li>'0'</li><li>'2'</li></ol>\n"
      ],
      "text/latex": [
       "\\begin{enumerate*}\n",
       "\\item '1'\n",
       "\\item '0'\n",
       "\\item '2'\n",
       "\\end{enumerate*}\n"
      ],
      "text/markdown": [
       "1. '1'\n",
       "2. '0'\n",
       "3. '2'\n",
       "\n",
       "\n"
      ],
      "text/plain": [
       "[1] \"1\" \"0\" \"2\""
      ]
     },
     "metadata": {},
     "output_type": "display_data"
    }
   ],
   "source": [
    "# Default\n",
    "\n",
    "# Replacing with numerical category\n",
    "train[\"default\"][train[\"default\"] == \"yes\"] <- 2\n",
    "train[\"default\"][train[\"default\"] == \"no\"] <- 1\n",
    "train[\"default\"][train[\"default\"] == \"unknown\"] <- 0\n",
    "\n",
    "# Checking for unique value \n",
    "unique(train$default)"
   ]
  },
  {
   "cell_type": "code",
   "execution_count": 36,
   "id": "4ed70ef2",
   "metadata": {
    "lines_to_next_cell": 2
   },
   "outputs": [
    {
     "data": {
      "text/html": [
       "<style>\n",
       ".list-inline {list-style: none; margin:0; padding: 0}\n",
       ".list-inline>li {display: inline-block}\n",
       ".list-inline>li:not(:last-child)::after {content: \"\\00b7\"; padding: 0 .5ex}\n",
       "</style>\n",
       "<ol class=list-inline><li>'1'</li><li>'2'</li><li>'0'</li></ol>\n"
      ],
      "text/latex": [
       "\\begin{enumerate*}\n",
       "\\item '1'\n",
       "\\item '2'\n",
       "\\item '0'\n",
       "\\end{enumerate*}\n"
      ],
      "text/markdown": [
       "1. '1'\n",
       "2. '2'\n",
       "3. '0'\n",
       "\n",
       "\n"
      ],
      "text/plain": [
       "[1] \"1\" \"2\" \"0\""
      ]
     },
     "metadata": {},
     "output_type": "display_data"
    }
   ],
   "source": [
    "# Housing\n",
    "\n",
    "# Replacing with numerical category\n",
    "train[\"housing\"][train[\"housing\"] == \"yes\"] <- 2\n",
    "train[\"housing\"][train[\"housing\"] == \"no\"] <- 1\n",
    "train[\"housing\"][train[\"housing\"] == \"unknown\"] <- 0\n",
    "\n",
    "# Checking for unique value \n",
    "unique(train$housing)"
   ]
  },
  {
   "cell_type": "code",
   "execution_count": 37,
   "id": "d775a0d3",
   "metadata": {
    "lines_to_next_cell": 2
   },
   "outputs": [
    {
     "data": {
      "text/html": [
       "<style>\n",
       ".list-inline {list-style: none; margin:0; padding: 0}\n",
       ".list-inline>li {display: inline-block}\n",
       ".list-inline>li:not(:last-child)::after {content: \"\\00b7\"; padding: 0 .5ex}\n",
       "</style>\n",
       "<ol class=list-inline><li>'2'</li><li>'1'</li><li>'0'</li></ol>\n"
      ],
      "text/latex": [
       "\\begin{enumerate*}\n",
       "\\item '2'\n",
       "\\item '1'\n",
       "\\item '0'\n",
       "\\end{enumerate*}\n"
      ],
      "text/markdown": [
       "1. '2'\n",
       "2. '1'\n",
       "3. '0'\n",
       "\n",
       "\n"
      ],
      "text/plain": [
       "[1] \"2\" \"1\" \"0\""
      ]
     },
     "metadata": {},
     "output_type": "display_data"
    }
   ],
   "source": [
    "# Contact\n",
    "\n",
    "# Replacing with numerical category\n",
    "train[\"contact\"][train[\"contact\"] == \"cellular\"] <- 2\n",
    "train[\"contact\"][train[\"contact\"] == \"telephone\"] <- 1\n",
    "train[\"contact\"][train[\"contact\"] == \"unknown\"] <- 0\n",
    "\n",
    "# Checking for unique value \n",
    "unique(train$contact)"
   ]
  },
  {
   "cell_type": "code",
   "execution_count": 38,
   "id": "22244a14",
   "metadata": {
    "lines_to_next_cell": 2
   },
   "outputs": [
    {
     "data": {
      "text/html": [
       "<style>\n",
       ".list-inline {list-style: none; margin:0; padding: 0}\n",
       ".list-inline>li {display: inline-block}\n",
       ".list-inline>li:not(:last-child)::after {content: \"\\00b7\"; padding: 0 .5ex}\n",
       "</style>\n",
       "<ol class=list-inline><li>'5'</li><li>'4'</li><li>'3'</li><li>'2'</li><li>'6'</li><li>'9'</li><li>'7'</li><li>'8'</li><li>'10'</li><li>'0'</li><li>'1'</li></ol>\n"
      ],
      "text/latex": [
       "\\begin{enumerate*}\n",
       "\\item '5'\n",
       "\\item '4'\n",
       "\\item '3'\n",
       "\\item '2'\n",
       "\\item '6'\n",
       "\\item '9'\n",
       "\\item '7'\n",
       "\\item '8'\n",
       "\\item '10'\n",
       "\\item '0'\n",
       "\\item '1'\n",
       "\\end{enumerate*}\n"
      ],
      "text/markdown": [
       "1. '5'\n",
       "2. '4'\n",
       "3. '3'\n",
       "4. '2'\n",
       "5. '6'\n",
       "6. '9'\n",
       "7. '7'\n",
       "8. '8'\n",
       "9. '10'\n",
       "10. '0'\n",
       "11. '1'\n",
       "\n",
       "\n"
      ],
      "text/plain": [
       " [1] \"5\"  \"4\"  \"3\"  \"2\"  \"6\"  \"9\"  \"7\"  \"8\"  \"10\" \"0\"  \"1\" "
      ]
     },
     "metadata": {},
     "output_type": "display_data"
    }
   ],
   "source": [
    "# Month\n",
    "\n",
    "# Replacing with numerical category\n",
    "train[\"month\"][train[\"month\"] == \"dec\"] <- 10\n",
    "train[\"month\"][train[\"month\"] == \"nov\"] <- 9\n",
    "train[\"month\"][train[\"month\"] == \"oct\"] <- 8\n",
    "train[\"month\"][train[\"month\"] == \"sep\"] <- 7\n",
    "train[\"month\"][train[\"month\"] == \"aug\"] <- 6\n",
    "train[\"month\"][train[\"month\"] == \"jul\"] <- 5\n",
    "train[\"month\"][train[\"month\"] == \"jun\"] <- 4\n",
    "train[\"month\"][train[\"month\"] == \"may\"] <- 3\n",
    "train[\"month\"][train[\"month\"] == \"apr\"] <- 2\n",
    "train[\"month\"][train[\"month\"] == \"mar\"] <- 1\n",
    "train[\"month\"][train[\"month\"] == \"unknown\"] <- 0\n",
    "\n",
    "# Checking for unique value \n",
    "unique(train$month)"
   ]
  },
  {
   "cell_type": "code",
   "execution_count": 39,
   "id": "feec8180",
   "metadata": {
    "lines_to_next_cell": 2
   },
   "outputs": [
    {
     "data": {
      "text/html": [
       "<style>\n",
       ".list-inline {list-style: none; margin:0; padding: 0}\n",
       ".list-inline>li {display: inline-block}\n",
       ".list-inline>li:not(:last-child)::after {content: \"\\00b7\"; padding: 0 .5ex}\n",
       "</style>\n",
       "<ol class=list-inline><li>'0'</li><li>'1'</li><li>'2'</li></ol>\n"
      ],
      "text/latex": [
       "\\begin{enumerate*}\n",
       "\\item '0'\n",
       "\\item '1'\n",
       "\\item '2'\n",
       "\\end{enumerate*}\n"
      ],
      "text/markdown": [
       "1. '0'\n",
       "2. '1'\n",
       "3. '2'\n",
       "\n",
       "\n"
      ],
      "text/plain": [
       "[1] \"0\" \"1\" \"2\""
      ]
     },
     "metadata": {},
     "output_type": "display_data"
    }
   ],
   "source": [
    "# Poutcome\n",
    "\n",
    "# Replacing with numerical category\n",
    "train[\"poutcome\"][train[\"poutcome\"] == \"success\"] <- 2\n",
    "train[\"poutcome\"][train[\"poutcome\"] == \"failure\"] <- 1\n",
    "train[\"poutcome\"][train[\"poutcome\"] == \"nonexistent\"] <- 0\n",
    "\n",
    "# Checking for unique value \n",
    "unique(train$poutcome)"
   ]
  },
  {
   "cell_type": "markdown",
   "id": "bf15406d",
   "metadata": {
    "lines_to_next_cell": 2
   },
   "source": [
    "\n",
    "##### 2. Factorization"
   ]
  },
  {
   "cell_type": "code",
   "execution_count": 40,
   "id": "cf0345ab",
   "metadata": {
    "lines_to_next_cell": 2
   },
   "outputs": [],
   "source": [
    "# Creating factors for our categorical data \n",
    "train$job = as.factor(train$job)\n",
    "train$marital = as.factor(train$marital)\n",
    "train$education = as.factor(train$education)\n",
    "train$contact = as.factor(train$contact)\n",
    "train$month = as.factor(train$month)\n",
    "train$poutcome = as.factor(train$poutcome)\n",
    "\n",
    "\n",
    "# Creating factors for our logical data \n",
    "train$default = as.factor(train$default)\n",
    "train$housing = as.factor(train$housing)\n",
    "train$subscribe = as.factor(train$subscribe)"
   ]
  },
  {
   "cell_type": "code",
   "execution_count": 41,
   "id": "77e8dc7f",
   "metadata": {
    "lines_to_next_cell": 2
   },
   "outputs": [
    {
     "name": "stdout",
     "output_type": "stream",
     "text": [
      "'data.frame':\t20000 obs. of  18 variables:\n",
      " $ age           : num  42 35 44 45 45 38 33 38 29 34 ...\n",
      " $ job           : Factor w/ 12 levels \"0\",\"1\",\"10\",\"11\",..: 4 2 9 11 1 9 9 7 7 12 ...\n",
      " $ marital       : Factor w/ 4 levels \"0\",\"1\",\"2\",\"3\": 4 4 4 4 4 4 4 2 2 3 ...\n",
      " $ education     : Factor w/ 8 levels \"0\",\"1\",\"2\",\"3\",..: 5 7 5 6 1 8 8 5 1 7 ...\n",
      " $ default       : Factor w/ 3 levels \"0\",\"1\",\"2\": 2 2 2 2 1 2 2 1 2 2 ...\n",
      " $ housing       : Factor w/ 3 levels \"0\",\"1\",\"2\": 2 3 3 3 1 2 2 3 3 3 ...\n",
      " $ contact       : Factor w/ 3 levels \"0\",\"1\",\"2\": 3 2 3 3 2 2 3 2 3 3 ...\n",
      " $ month         : Factor w/ 11 levels \"0\",\"1\",\"10\",\"2\",..: 7 6 5 4 5 5 4 5 5 8 ...\n",
      " $ campaign      : num  1 4 1 1 1 2 1 1 1 1 ...\n",
      " $ pdays         : num  0 0 0 0 0 0 0 0 0 0 ...\n",
      " $ previous      : int  0 0 0 0 0 0 1 0 1 0 ...\n",
      " $ poutcome      : Factor w/ 3 levels \"0\",\"1\",\"2\": 1 1 1 1 1 1 2 1 2 1 ...\n",
      " $ emp.var.rate  : num  1.4 1.4 -1.8 -1.8 1.1 1.1 -1.8 1.1 -1.8 1.4 ...\n",
      " $ cons.price.idx: num  93.9 94.5 92.9 93.1 94 ...\n",
      " $ cons.conf.idx : num  -42.7 -41.8 -46.2 -47.1 -36.4 -36.4 -47.1 -36.4 -46.2 -36.1 ...\n",
      " $ euribor3m     : num  4.97 4.96 1.26 1.45 4.86 ...\n",
      " $ nr.employed   : num  5228 5228 5099 5099 5191 ...\n",
      " $ subscribe     : Factor w/ 2 levels \"0\",\"1\": 1 1 1 1 1 1 2 1 1 1 ...\n"
     ]
    }
   ],
   "source": [
    "str(train)"
   ]
  },
  {
   "cell_type": "code",
   "execution_count": 42,
   "id": "1707d1c0",
   "metadata": {},
   "outputs": [],
   "source": [
    "# Export Data into basetable\n",
    "write.csv(train,'../Data/basetable.csv', row.names = FALSE)"
   ]
  },
  {
   "cell_type": "markdown",
   "id": "24e0b8c0",
   "metadata": {
    "lines_to_next_cell": 2
   },
   "source": [
    "\n",
    "# Modeling"
   ]
  },
  {
   "cell_type": "code",
   "execution_count": 43,
   "id": "620d803f",
   "metadata": {
    "lines_to_next_cell": 2
   },
   "outputs": [],
   "source": [
    "bank = train"
   ]
  },
  {
   "cell_type": "code",
   "execution_count": 44,
   "id": "daee4786",
   "metadata": {
    "lines_to_next_cell": 2
   },
   "outputs": [],
   "source": [
    "# Creating train and test data 80-20% through stratified sampling\n",
    "\n",
    "#mysample = sort(sample(nrow(bank),nrow(bank)*.8))\n",
    "\n",
    "\n",
    "# Stratified sampling by creating Data Partition\n",
    "mysample <- createDataPartition(bank$subscribe, p = .8, list = FALSE)\n",
    "\n",
    "train_data <- bank[mysample,]\n",
    "test_data <- bank[-mysample,]"
   ]
  },
  {
   "cell_type": "code",
   "execution_count": 45,
   "id": "84c96753",
   "metadata": {
    "lines_to_next_cell": 2
   },
   "outputs": [
    {
     "data": {
      "text/plain": [
       "\n",
       "        0         1 \n",
       "0.8864446 0.1135554 "
      ]
     },
     "metadata": {},
     "output_type": "display_data"
    },
    {
     "data": {
      "text/plain": [
       "\n",
       "        0         1 \n",
       "0.8864716 0.1135284 "
      ]
     },
     "metadata": {},
     "output_type": "display_data"
    }
   ],
   "source": [
    "# Checking proportion of 0 and 1 in train and test\n",
    "\n",
    "# Training set\n",
    "prop.table(table(train_data$subscribe))\n",
    "\n",
    "# Test set\n",
    "prop.table(table(test_data$subscribe))"
   ]
  },
  {
   "cell_type": "code",
   "execution_count": 46,
   "id": "f0f4e6ff",
   "metadata": {
    "lines_to_next_cell": 2
   },
   "outputs": [
    {
     "name": "stdout",
     "output_type": "stream",
     "text": [
      "'data.frame':\t16001 obs. of  18 variables:\n",
      " $ age           : num  42 35 44 45 45 38 33 38 29 34 ...\n",
      " $ job           : Factor w/ 12 levels \"0\",\"1\",\"10\",\"11\",..: 4 2 9 11 1 9 9 7 7 12 ...\n",
      " $ marital       : Factor w/ 4 levels \"0\",\"1\",\"2\",\"3\": 4 4 4 4 4 4 4 2 2 3 ...\n",
      " $ education     : Factor w/ 8 levels \"0\",\"1\",\"2\",\"3\",..: 5 7 5 6 1 8 8 5 1 7 ...\n",
      " $ default       : Factor w/ 3 levels \"0\",\"1\",\"2\": 2 2 2 2 1 2 2 1 2 2 ...\n",
      " $ housing       : Factor w/ 3 levels \"0\",\"1\",\"2\": 2 3 3 3 1 2 2 3 3 3 ...\n",
      " $ contact       : Factor w/ 3 levels \"0\",\"1\",\"2\": 3 2 3 3 2 2 3 2 3 3 ...\n",
      " $ month         : Factor w/ 11 levels \"0\",\"1\",\"10\",\"2\",..: 7 6 5 4 5 5 4 5 5 8 ...\n",
      " $ campaign      : num  1 4 1 1 1 2 1 1 1 1 ...\n",
      " $ pdays         : num  0 0 0 0 0 0 0 0 0 0 ...\n",
      " $ previous      : int  0 0 0 0 0 0 1 0 1 0 ...\n",
      " $ poutcome      : Factor w/ 3 levels \"0\",\"1\",\"2\": 1 1 1 1 1 1 2 1 2 1 ...\n",
      " $ emp.var.rate  : num  1.4 1.4 -1.8 -1.8 1.1 1.1 -1.8 1.1 -1.8 1.4 ...\n",
      " $ cons.price.idx: num  93.9 94.5 92.9 93.1 94 ...\n",
      " $ cons.conf.idx : num  -42.7 -41.8 -46.2 -47.1 -36.4 -36.4 -47.1 -36.4 -46.2 -36.1 ...\n",
      " $ euribor3m     : num  4.97 4.96 1.26 1.45 4.86 ...\n",
      " $ nr.employed   : num  5228 5228 5099 5099 5191 ...\n",
      " $ subscribe     : Factor w/ 2 levels \"0\",\"1\": 1 1 1 1 1 1 2 1 1 1 ...\n"
     ]
    }
   ],
   "source": [
    "# => We can do a smote or stratified here \n",
    "str(train_data)"
   ]
  },
  {
   "cell_type": "code",
   "execution_count": 47,
   "id": "2c2adca7",
   "metadata": {},
   "outputs": [
    {
     "name": "stdout",
     "output_type": "stream",
     "text": [
      "'data.frame':\t10000 obs. of  20 variables:\n",
      " $ client_id     : int  2986 29710 38938 31313 24173 14426 40159 12301 9640 19742 ...\n",
      " $ age           : int  53 32 70 46 35 24 33 38 37 36 ...\n",
      " $ job           : chr  \"technician\" \"blue-collar\" \"retired\" \"services\" ...\n",
      " $ marital       : chr  \"single\" \"married\" \"married\" \"married\" ...\n",
      " $ education     : chr  \"professional.course\" \"basic.6y\" \"high.school\" \"high.school\" ...\n",
      " $ default       : chr  \"no\" \"no\" \"no\" \"no\" ...\n",
      " $ housing       : chr  \"no\" \"yes\" \"yes\" \"no\" ...\n",
      " $ loan          : chr  \"no\" \"no\" \"no\" \"no\" ...\n",
      " $ contact       : chr  \"cellular\" \"telephone\" \"cellular\" \"cellular\" ...\n",
      " $ month         : chr  \"jul\" \"jul\" \"aug\" \"apr\" ...\n",
      " $ day_of_week   : chr  \"tue\" \"wed\" \"tue\" \"mon\" ...\n",
      " $ campaign      : int  1 2 1 1 1 2 3 18 5 1 ...\n",
      " $ pdays         : int  999 999 999 999 999 6 999 999 999 3 ...\n",
      " $ previous      : int  0 0 0 1 1 2 0 0 0 1 ...\n",
      " $ poutcome      : chr  \"nonexistent\" \"nonexistent\" \"nonexistent\" \"failure\" ...\n",
      " $ emp.var.rate  : num  1.4 1.4 -2.9 -1.8 -1.8 -1.8 -1.8 1.4 1.1 -2.9 ...\n",
      " $ cons.price.idx: num  93.9 93.9 92.2 93.1 92.9 ...\n",
      " $ cons.conf.idx : num  -42.7 -42.7 -31.4 -47.1 -46.2 -40 -47.1 -42.7 -36.4 -40.8 ...\n",
      " $ euribor3m     : num  4.961 4.963 0.883 1.405 1.266 ...\n",
      " $ nr.employed   : num  5228 5228 5076 5099 5099 ...\n"
     ]
    }
   ],
   "source": [
    "str(test)"
   ]
  },
  {
   "cell_type": "markdown",
   "id": "4f9d436f",
   "metadata": {
    "lines_to_next_cell": 2
   },
   "source": [
    "### 1. Random Forest"
   ]
  },
  {
   "cell_type": "code",
   "execution_count": 48,
   "id": "62191480",
   "metadata": {
    "lines_to_next_cell": 2
   },
   "outputs": [
    {
     "data": {
      "text/plain": [
       "                Length Class  Mode     \n",
       "call                4  -none- call     \n",
       "type                1  -none- character\n",
       "predicted       16001  factor numeric  \n",
       "err.rate           30  -none- numeric  \n",
       "confusion           6  -none- numeric  \n",
       "votes           32002  matrix numeric  \n",
       "oob.times       16001  -none- numeric  \n",
       "classes             2  -none- character\n",
       "importance         17  -none- numeric  \n",
       "importanceSD        0  -none- NULL     \n",
       "localImportance     0  -none- NULL     \n",
       "proximity           0  -none- NULL     \n",
       "ntree               1  -none- numeric  \n",
       "mtry                1  -none- numeric  \n",
       "forest             14  -none- list     \n",
       "y               16001  factor numeric  \n",
       "test                0  -none- NULL     \n",
       "inbag               0  -none- NULL     \n",
       "terms               3  terms  call     "
      ]
     },
     "metadata": {},
     "output_type": "display_data"
    }
   ],
   "source": [
    "# Fitting the random forest to our training set\n",
    "\n",
    "randomforestmodel = randomForest(formula = subscribe ~., \n",
    "                           data = train_data, ntree = 10)\n",
    "\n",
    "summary(randomforestmodel)"
   ]
  },
  {
   "cell_type": "code",
   "execution_count": 49,
   "id": "efce1147",
   "metadata": {},
   "outputs": [
    {
     "data": {
      "text/html": [
       "<table class=\"dataframe\">\n",
       "<caption>A matrix: 17 × 1 of type dbl</caption>\n",
       "<thead>\n",
       "\t<tr><th></th><th scope=col>MeanDecreaseGini</th></tr>\n",
       "</thead>\n",
       "<tbody>\n",
       "\t<tr><th scope=row>age</th><td>390.58602</td></tr>\n",
       "\t<tr><th scope=row>job</th><td>282.79207</td></tr>\n",
       "\t<tr><th scope=row>marital</th><td>111.85282</td></tr>\n",
       "\t<tr><th scope=row>education</th><td>214.82758</td></tr>\n",
       "\t<tr><th scope=row>default</th><td> 38.08370</td></tr>\n",
       "\t<tr><th scope=row>housing</th><td>100.19942</td></tr>\n",
       "\t<tr><th scope=row>contact</th><td> 50.57289</td></tr>\n",
       "\t<tr><th scope=row>month</th><td>102.18005</td></tr>\n",
       "\t<tr><th scope=row>campaign</th><td>204.39163</td></tr>\n",
       "\t<tr><th scope=row>pdays</th><td>118.35334</td></tr>\n",
       "\t<tr><th scope=row>previous</th><td> 53.48323</td></tr>\n",
       "\t<tr><th scope=row>poutcome</th><td>141.53488</td></tr>\n",
       "\t<tr><th scope=row>emp.var.rate</th><td>118.66077</td></tr>\n",
       "\t<tr><th scope=row>cons.price.idx</th><td> 85.22570</td></tr>\n",
       "\t<tr><th scope=row>cons.conf.idx</th><td>105.17316</td></tr>\n",
       "\t<tr><th scope=row>euribor3m</th><td>394.21625</td></tr>\n",
       "\t<tr><th scope=row>nr.employed</th><td>186.71417</td></tr>\n",
       "</tbody>\n",
       "</table>\n"
      ],
      "text/latex": [
       "A matrix: 17 × 1 of type dbl\n",
       "\\begin{tabular}{r|l}\n",
       "  & MeanDecreaseGini\\\\\n",
       "\\hline\n",
       "\tage & 390.58602\\\\\n",
       "\tjob & 282.79207\\\\\n",
       "\tmarital & 111.85282\\\\\n",
       "\teducation & 214.82758\\\\\n",
       "\tdefault &  38.08370\\\\\n",
       "\thousing & 100.19942\\\\\n",
       "\tcontact &  50.57289\\\\\n",
       "\tmonth & 102.18005\\\\\n",
       "\tcampaign & 204.39163\\\\\n",
       "\tpdays & 118.35334\\\\\n",
       "\tprevious &  53.48323\\\\\n",
       "\tpoutcome & 141.53488\\\\\n",
       "\temp.var.rate & 118.66077\\\\\n",
       "\tcons.price.idx &  85.22570\\\\\n",
       "\tcons.conf.idx & 105.17316\\\\\n",
       "\teuribor3m & 394.21625\\\\\n",
       "\tnr.employed & 186.71417\\\\\n",
       "\\end{tabular}\n"
      ],
      "text/markdown": [
       "\n",
       "A matrix: 17 × 1 of type dbl\n",
       "\n",
       "| <!--/--> | MeanDecreaseGini |\n",
       "|---|---|\n",
       "| age | 390.58602 |\n",
       "| job | 282.79207 |\n",
       "| marital | 111.85282 |\n",
       "| education | 214.82758 |\n",
       "| default |  38.08370 |\n",
       "| housing | 100.19942 |\n",
       "| contact |  50.57289 |\n",
       "| month | 102.18005 |\n",
       "| campaign | 204.39163 |\n",
       "| pdays | 118.35334 |\n",
       "| previous |  53.48323 |\n",
       "| poutcome | 141.53488 |\n",
       "| emp.var.rate | 118.66077 |\n",
       "| cons.price.idx |  85.22570 |\n",
       "| cons.conf.idx | 105.17316 |\n",
       "| euribor3m | 394.21625 |\n",
       "| nr.employed | 186.71417 |\n",
       "\n"
      ],
      "text/plain": [
       "               MeanDecreaseGini\n",
       "age            390.58602       \n",
       "job            282.79207       \n",
       "marital        111.85282       \n",
       "education      214.82758       \n",
       "default         38.08370       \n",
       "housing        100.19942       \n",
       "contact         50.57289       \n",
       "month          102.18005       \n",
       "campaign       204.39163       \n",
       "pdays          118.35334       \n",
       "previous        53.48323       \n",
       "poutcome       141.53488       \n",
       "emp.var.rate   118.66077       \n",
       "cons.price.idx  85.22570       \n",
       "cons.conf.idx  105.17316       \n",
       "euribor3m      394.21625       \n",
       "nr.employed    186.71417       "
      ]
     },
     "metadata": {},
     "output_type": "display_data"
    }
   ],
   "source": [
    "# Feature importance\n",
    "\n",
    "importance(randomforestmodel)"
   ]
  },
  {
   "cell_type": "code",
   "execution_count": 50,
   "id": "25fba2c8",
   "metadata": {},
   "outputs": [
    {
     "data": {
      "image/png": "[encoded data removed]",
      "text/plain": [
       "Plot with title \"Variable Importance - RF\""
      ]
     },
     "metadata": {
      "image/png": {
       "height": 390,
       "width": 360
      }
     },
     "output_type": "display_data"
    }
   ],
   "source": [
    "# Plotting feature importance\n",
    "\n",
    "options(repr.plot.width=6, repr.plot.height=6.5)\n",
    "varImpPlot(randomforestmodel, type=2, main='Variable Importance - RF')"
   ]
  },
  {
   "cell_type": "code",
   "execution_count": 51,
   "id": "949a53e0",
   "metadata": {},
   "outputs": [],
   "source": [
    "# Predictions\n",
    "\n",
    "RF_prediction = predict(randomforestmodel, newdata = test_data, type = \"class\")"
   ]
  },
  {
   "cell_type": "code",
   "execution_count": 52,
   "id": "89d3171d",
   "metadata": {},
   "outputs": [
    {
     "data": {
      "text/plain": [
       "Confusion Matrix and Statistics\n",
       "\n",
       "          Reference\n",
       "Prediction    0    1\n",
       "         0 3433  328\n",
       "         1  112  126\n",
       "                                          \n",
       "               Accuracy : 0.89            \n",
       "                 95% CI : (0.8799, 0.8995)\n",
       "    No Information Rate : 0.8865          \n",
       "    P-Value [Acc > NIR] : 0.2516          \n",
       "                                          \n",
       "                  Kappa : 0.3103          \n",
       "                                          \n",
       " Mcnemar's Test P-Value : <2e-16          \n",
       "                                          \n",
       "            Sensitivity : 0.9684          \n",
       "            Specificity : 0.2775          \n",
       "         Pos Pred Value : 0.9128          \n",
       "         Neg Pred Value : 0.5294          \n",
       "             Prevalence : 0.8865          \n",
       "         Detection Rate : 0.8585          \n",
       "   Detection Prevalence : 0.9405          \n",
       "      Balanced Accuracy : 0.6230          \n",
       "                                          \n",
       "       'Positive' Class : 0               \n",
       "                                          "
      ]
     },
     "metadata": {},
     "output_type": "display_data"
    }
   ],
   "source": [
    "# Evaluation \n",
    "\n",
    "confusionMatrix(RF_prediction, test_data$subscribe)"
   ]
  },
  {
   "cell_type": "code",
   "execution_count": 53,
   "id": "1db5c92f",
   "metadata": {},
   "outputs": [],
   "source": [
    "# AUC \n",
    "\n",
    "#To get AUC i need probability so i change type to \"prob\"\n",
    "\n",
    "RF_predictions = predict(randomforestmodel, newdata = test_data, type = \"prob\")\n",
    "\n",
    "# keeping only probability of the second column, corresponding to the '1'\n",
    "\n",
    "RF_predictions = RF_predictions[,2]"
   ]
  },
  {
   "cell_type": "code",
   "execution_count": 54,
   "id": "b7c6d852",
   "metadata": {},
   "outputs": [
    {
     "name": "stderr",
     "output_type": "stream",
     "text": [
      "Setting levels: control = 0, case = 1\n",
      "\n",
      "Setting direction: controls < cases\n",
      "\n"
     ]
    },
    {
     "name": "stdout",
     "output_type": "stream",
     "text": [
      "[1] \"AUC = 0.746710947354032\"\n"
     ]
    }
   ],
   "source": [
    "# Printing AUC\n",
    "print(paste0('AUC = ', pROC::auc(pROC::roc(test_data$subscribe, RF_predictions))))"
   ]
  },
  {
   "cell_type": "code",
   "execution_count": 55,
   "id": "20d592d0",
   "metadata": {},
   "outputs": [],
   "source": [
    "# Using K-fold cross validation\n",
    "\n",
    "folds = createFolds(y = train_data$subscribe, k = 10)\n",
    "\n",
    "RF_crossvalidation = lapply(folds, function(var){\n",
    "  train_fold = train_data[-var, ]\n",
    "  test_fold = train_data[var, ]\n",
    "  \n",
    "  RF_classify = randomForest(formula = subscribe ~., \n",
    "                               data = train_fold, ntree = 20)\n",
    "  RF_prediction_folds = predict(RF_classify, newdata = test_fold, type = \"class\")\n",
    "  \n",
    "  randomforest_folds = confusionMatrix(RF_prediction_folds, test_fold$subscribe)\n",
    "  accuracy = randomforest_folds$overall[1]\n",
    "  \n",
    "  return(accuracy)\n",
    "})"
   ]
  },
  {
   "cell_type": "code",
   "execution_count": 56,
   "id": "af499179",
   "metadata": {},
   "outputs": [
    {
     "data": {
      "text/html": [
       "0.893445056838889"
      ],
      "text/latex": [
       "0.893445056838889"
      ],
      "text/markdown": [
       "0.893445056838889"
      ],
      "text/plain": [
       "[1] 0.8934451"
      ]
     },
     "metadata": {},
     "output_type": "display_data"
    }
   ],
   "source": [
    "# Checking the accuracy after k-fold cross validation\n",
    "\n",
    "mean(as.numeric(RF_crossvalidation))"
   ]
  },
  {
   "cell_type": "markdown",
   "id": "05ec9659",
   "metadata": {
    "lines_to_next_cell": 2
   },
   "source": [
    "### 2. Logistic Regression"
   ]
  },
  {
   "cell_type": "code",
   "execution_count": 57,
   "id": "d41ee4cc",
   "metadata": {
    "lines_to_next_cell": 2
   },
   "outputs": [
    {
     "data": {
      "text/plain": [
       "\n",
       "Call:\n",
       "glm(formula = subscribe ~ ., family = \"binomial\", data = train_data)\n",
       "\n",
       "Deviance Residuals: \n",
       "    Min       1Q   Median       3Q      Max  \n",
       "-2.2298  -0.3962  -0.3263  -0.2650   2.9597  \n",
       "\n",
       "Coefficients:\n",
       "                 Estimate Std. Error z value Pr(>|z|)    \n",
       "(Intercept)    -39.641793  25.697588  -1.543 0.122921    \n",
       "age              0.002627   0.003352   0.784 0.433307    \n",
       "job1             0.306896   0.276230   1.111 0.266562    \n",
       "job10           -0.017075   0.278137  -0.061 0.951047    \n",
       "job11            0.106172   0.250025   0.425 0.671096    \n",
       "job2             0.385915   0.272777   1.415 0.157138    \n",
       "job3             0.303887   0.259439   1.171 0.241468    \n",
       "job4            -0.192442   0.240147  -0.801 0.422928    \n",
       "job5             0.118744   0.291248   0.408 0.683487    \n",
       "job6             0.020788   0.239990   0.087 0.930972    \n",
       "job7            -0.154431   0.276900  -0.558 0.577041    \n",
       "job8            -0.066070   0.249496  -0.265 0.791151    \n",
       "job9             0.071686   0.233735   0.307 0.759073    \n",
       "marital1        -0.491145   0.220259  -2.230 0.025757 *  \n",
       "marital2        -0.611637   0.230694  -2.651 0.008019 ** \n",
       "marital3        -0.578652   0.216269  -2.676 0.007459 ** \n",
       "education1     -11.380389 221.012153  -0.051 0.958933    \n",
       "education2      -0.090687   0.163323  -0.555 0.578716    \n",
       "education3      -0.070480   0.193414  -0.364 0.715559    \n",
       "education4      -0.025111   0.154873  -0.162 0.871198    \n",
       "education5      -0.003237   0.143500  -0.023 0.982003    \n",
       "education6       0.005993   0.141399   0.042 0.966194    \n",
       "education7      -0.029150   0.156248  -0.187 0.852006    \n",
       "default1         0.242304   0.088075   2.751 0.005939 ** \n",
       "default2       -10.495331 378.457384  -0.028 0.977876    \n",
       "housing1        -0.153311   0.158344  -0.968 0.332937    \n",
       "housing2        -0.161696   0.157374  -1.027 0.304202    \n",
       "contact1        -0.388008   0.266594  -1.455 0.145550    \n",
       "contact2        -0.010634   0.257563  -0.041 0.967066    \n",
       "month1           1.681891   0.374253   4.494 6.99e-06 ***\n",
       "month10          0.643760   0.424190   1.518 0.129110    \n",
       "month2           0.482448   0.347738   1.387 0.165323    \n",
       "month3          -0.064191   0.340548  -0.188 0.850491    \n",
       "month4           0.370343   0.352638   1.050 0.293623    \n",
       "month5           0.656130   0.343964   1.908 0.056449 .  \n",
       "month6           0.529135   0.349244   1.515 0.129751    \n",
       "month7           0.328026   0.375669   0.873 0.382565    \n",
       "month8           0.491079   0.365408   1.344 0.178974    \n",
       "month9           0.257733   0.348172   0.740 0.459151    \n",
       "campaign        -0.042688   0.014452  -2.954 0.003140 ** \n",
       "pdays            0.020810   0.019794   1.051 0.293115    \n",
       "previous         0.071393   0.082509   0.865 0.386887    \n",
       "poutcome1       -0.554692   0.135830  -4.084 4.43e-05 ***\n",
       "poutcome2        1.191420   0.186098   6.402 1.53e-10 ***\n",
       "emp.var.rate    -0.438038   0.112985  -3.877 0.000106 ***\n",
       "cons.price.idx   0.610522   0.180183   3.388 0.000703 ***\n",
       "cons.conf.idx    0.022174   0.008263   2.683 0.007287 ** \n",
       "euribor3m       -0.029593   0.092222  -0.321 0.748294    \n",
       "nr.employed     -0.003591   0.002005  -1.790 0.073375 .  \n",
       "---\n",
       "Signif. codes:  0 '***' 0.001 '**' 0.01 '*' 0.05 '.' 0.1 ' ' 1\n",
       "\n",
       "(Dispersion parameter for binomial family taken to be 1)\n",
       "\n",
       "    Null deviance: 11325.0  on 16000  degrees of freedom\n",
       "Residual deviance:  8937.2  on 15952  degrees of freedom\n",
       "AIC: 9035.2\n",
       "\n",
       "Number of Fisher Scoring iterations: 12\n"
      ]
     },
     "metadata": {},
     "output_type": "display_data"
    }
   ],
   "source": [
    "# Build Logistic Model\n",
    "logreg <- glm(subscribe ~ ., family = \"binomial\", data = train_data)\n",
    "\n",
    "summary(logreg)"
   ]
  },
  {
   "cell_type": "code",
   "execution_count": 58,
   "id": "86cef744",
   "metadata": {},
   "outputs": [
    {
     "data": {
      "text/plain": [
       "Confusion Matrix and Statistics\n",
       "\n",
       "          Reference\n",
       "Prediction    0    1\n",
       "         0 3497  354\n",
       "         1   48  100\n",
       "                                          \n",
       "               Accuracy : 0.8995          \n",
       "                 95% CI : (0.8897, 0.9086)\n",
       "    No Information Rate : 0.8865          \n",
       "    P-Value [Acc > NIR] : 0.004593        \n",
       "                                          \n",
       "                  Kappa : 0.2927          \n",
       "                                          \n",
       " Mcnemar's Test P-Value : < 2.2e-16       \n",
       "                                          \n",
       "            Sensitivity : 0.22026         \n",
       "            Specificity : 0.98646         \n",
       "         Pos Pred Value : 0.67568         \n",
       "         Neg Pred Value : 0.90808         \n",
       "              Precision : 0.67568         \n",
       "                 Recall : 0.22026         \n",
       "                     F1 : 0.33223         \n",
       "             Prevalence : 0.11353         \n",
       "         Detection Rate : 0.02501         \n",
       "   Detection Prevalence : 0.03701         \n",
       "      Balanced Accuracy : 0.60336         \n",
       "                                          \n",
       "       'Positive' Class : 1               \n",
       "                                          "
      ]
     },
     "metadata": {},
     "output_type": "display_data"
    }
   ],
   "source": [
    "# Predictions\n",
    "LR_prediction <- predict(logreg, newdata = test_data, type = \"response\")\n",
    "\n",
    "#lr_pred <- rep(0, length(test_data))\n",
    "#lr_pred[LR_prediction > .5] <- 1\n",
    "lr_pred <- ifelse(LR_prediction > 0.5, 1, 0)\n",
    "lr_pred <- factor(lr_pred, levels=c(0, 1))\n",
    "\n",
    "# confusion Matrix \n",
    "confusionMatrix(lr_pred, test_data$subscribe, mode = \"everything\", positive=\"1\")"
   ]
  },
  {
   "cell_type": "code",
   "execution_count": 59,
   "id": "bc6ba5e8",
   "metadata": {},
   "outputs": [
    {
     "name": "stderr",
     "output_type": "stream",
     "text": [
      "Setting levels: control = 0, case = 1\n",
      "\n",
      "Setting direction: controls < cases\n",
      "\n"
     ]
    },
    {
     "name": "stdout",
     "output_type": "stream",
     "text": [
      "[1] \"AUC = 0.779489322306655\"\n"
     ]
    }
   ],
   "source": [
    "# Printing AUC\n",
    "print(paste0('AUC = ', pROC::auc(pROC::roc(test_data$subscribe, LR_prediction))))"
   ]
  },
  {
   "cell_type": "markdown",
   "id": "77fd3002",
   "metadata": {
    "lines_to_next_cell": 2
   },
   "source": [
    "## Cleaning the Test Data \n",
    "We clean the test data with the same process as the train data before sending our final submission"
   ]
  },
  {
   "cell_type": "code",
   "execution_count": 60,
   "id": "7faaa17b",
   "metadata": {},
   "outputs": [
    {
     "data": {
      "text/html": [
       "<table class=\"dataframe\">\n",
       "<caption>A data.frame: 1 × 1</caption>\n",
       "<thead>\n",
       "\t<tr><th scope=col>n</th></tr>\n",
       "\t<tr><th scope=col>&lt;int&gt;</th></tr>\n",
       "</thead>\n",
       "<tbody>\n",
       "\t<tr><td>10000</td></tr>\n",
       "</tbody>\n",
       "</table>\n"
      ],
      "text/latex": [
       "A data.frame: 1 × 1\n",
       "\\begin{tabular}{l}\n",
       " n\\\\\n",
       " <int>\\\\\n",
       "\\hline\n",
       "\t 10000\\\\\n",
       "\\end{tabular}\n"
      ],
      "text/markdown": [
       "\n",
       "A data.frame: 1 × 1\n",
       "\n",
       "| n &lt;int&gt; |\n",
       "|---|\n",
       "| 10000 |\n",
       "\n"
      ],
      "text/plain": [
       "  n    \n",
       "1 10000"
      ]
     },
     "metadata": {},
     "output_type": "display_data"
    }
   ],
   "source": [
    "# Checking number of observations\n",
    "count(test)"
   ]
  },
  {
   "cell_type": "code",
   "execution_count": 61,
   "id": "2acedb0a",
   "metadata": {},
   "outputs": [
    {
     "data": {
      "text/html": [
       "20"
      ],
      "text/latex": [
       "20"
      ],
      "text/markdown": [
       "20"
      ],
      "text/plain": [
       "[1] 20"
      ]
     },
     "metadata": {},
     "output_type": "display_data"
    }
   ],
   "source": [
    "# Checking length: we have the same variables except 'subscribe'\n",
    "length(test)"
   ]
  },
  {
   "cell_type": "code",
   "execution_count": 62,
   "id": "86a4d1bf",
   "metadata": {
    "lines_to_next_cell": 2
   },
   "outputs": [
    {
     "data": {
      "text/html": [
       "1975"
      ],
      "text/latex": [
       "1975"
      ],
      "text/markdown": [
       "1975"
      ],
      "text/plain": [
       "[1] 1975"
      ]
     },
     "metadata": {},
     "output_type": "display_data"
    }
   ],
   "source": [
    "# Sum of missing values in test bank marketing data set\n",
    "sum(is.na(test))"
   ]
  },
  {
   "cell_type": "code",
   "execution_count": 63,
   "id": "fda09494",
   "metadata": {
    "lines_to_next_cell": 2
   },
   "outputs": [
    {
     "data": {
      "text/html": [
       "<style>\n",
       ".dl-inline {width: auto; margin:0; padding: 0}\n",
       ".dl-inline>dt, .dl-inline>dd {float: none; width: auto; display: inline-block}\n",
       ".dl-inline>dt::after {content: \":\\0020\"; padding-right: .5ex}\n",
       ".dl-inline>dt:not(:first-of-type) {padding-left: .5ex}\n",
       "</style><dl class=dl-inline><dt>client_id</dt><dd>0</dd><dt>age</dt><dd>105</dd><dt>job</dt><dd>111</dd><dt>marital</dt><dd>95</dd><dt>education</dt><dd>97</dd><dt>default</dt><dd>124</dd><dt>housing</dt><dd>103</dd><dt>loan</dt><dd>109</dd><dt>contact</dt><dd>87</dd><dt>month</dt><dd>120</dd><dt>day_of_week</dt><dd>106</dd><dt>campaign</dt><dd>88</dd><dt>pdays</dt><dd>100</dd><dt>previous</dt><dd>105</dd><dt>poutcome</dt><dd>105</dd><dt>emp.var.rate</dt><dd>105</dd><dt>cons.price.idx</dt><dd>101</dd><dt>cons.conf.idx</dt><dd>104</dd><dt>euribor3m</dt><dd>88</dd><dt>nr.employed</dt><dd>122</dd></dl>\n"
      ],
      "text/latex": [
       "\\begin{description*}\n",
       "\\item[client\\textbackslash{}\\_id] 0\n",
       "\\item[age] 105\n",
       "\\item[job] 111\n",
       "\\item[marital] 95\n",
       "\\item[education] 97\n",
       "\\item[default] 124\n",
       "\\item[housing] 103\n",
       "\\item[loan] 109\n",
       "\\item[contact] 87\n",
       "\\item[month] 120\n",
       "\\item[day\\textbackslash{}\\_of\\textbackslash{}\\_week] 106\n",
       "\\item[campaign] 88\n",
       "\\item[pdays] 100\n",
       "\\item[previous] 105\n",
       "\\item[poutcome] 105\n",
       "\\item[emp.var.rate] 105\n",
       "\\item[cons.price.idx] 101\n",
       "\\item[cons.conf.idx] 104\n",
       "\\item[euribor3m] 88\n",
       "\\item[nr.employed] 122\n",
       "\\end{description*}\n"
      ],
      "text/markdown": [
       "client_id\n",
       ":   0age\n",
       ":   105job\n",
       ":   111marital\n",
       ":   95education\n",
       ":   97default\n",
       ":   124housing\n",
       ":   103loan\n",
       ":   109contact\n",
       ":   87month\n",
       ":   120day_of_week\n",
       ":   106campaign\n",
       ":   88pdays\n",
       ":   100previous\n",
       ":   105poutcome\n",
       ":   105emp.var.rate\n",
       ":   105cons.price.idx\n",
       ":   101cons.conf.idx\n",
       ":   104euribor3m\n",
       ":   88nr.employed\n",
       ":   122\n",
       "\n"
      ],
      "text/plain": [
       "     client_id            age            job        marital      education \n",
       "             0            105            111             95             97 \n",
       "       default        housing           loan        contact          month \n",
       "           124            103            109             87            120 \n",
       "   day_of_week       campaign          pdays       previous       poutcome \n",
       "           106             88            100            105            105 \n",
       "  emp.var.rate cons.price.idx  cons.conf.idx      euribor3m    nr.employed \n",
       "           105            101            104             88            122 "
      ]
     },
     "metadata": {},
     "output_type": "display_data"
    }
   ],
   "source": [
    "# Missing values per variable in test\n",
    "missing_values <- sapply(test, function(x) sum(is.na(x)))\n",
    "missing_values"
   ]
  },
  {
   "cell_type": "markdown",
   "id": "3b464daa",
   "metadata": {
    "lines_to_next_cell": 2
   },
   "source": [
    "\n",
    "As in train cleaning we will keep and replace our missing values: \n",
    "\n",
    "- With a new category 'other' for categorical data unless this category already exists\n",
    "- With a new category 'other' for logical data (as missing data represents less than 5% of observations)\n",
    "- With the median or mean for numerical values\n",
    "\n",
    "We will need to create indicators variable for numerical to track the missing data as it can be correlated to our target as well."
   ]
  },
  {
   "cell_type": "markdown",
   "id": "f5bf3492",
   "metadata": {
    "lines_to_next_cell": 2
   },
   "source": [
    "\n",
    " #### 1. Categorical data \n",
    "It represents job, marital status, education, contact, month, day_of_week and poutcome"
   ]
  },
  {
   "cell_type": "code",
   "execution_count": 64,
   "id": "1cbc8681",
   "metadata": {
    "lines_to_next_cell": 2
   },
   "outputs": [],
   "source": [
    "# Replacing NA for categorical data\n",
    "\n",
    "# NA for job: As an 'unknown' category already exists then we replace the missing value with it\n",
    "test$job = test$job %>% replace_na('unknown')\n",
    "\n",
    "# NA for marital status: As an 'unknown' category already exists then we replace the missing value with it\n",
    "test$marital = test$marital %>% replace_na('unknown')\n",
    "\n",
    "# NA for education: As an 'unknown' category already exists then we replace the missing value with it\n",
    "test$education = test$education %>% replace_na('unknown')\n",
    "\n",
    "# NA for contact: As 'unknown' category doesn't exist yet we create it\n",
    "test$contact = test$contact %>% replace_na('unknown')\n",
    "\n",
    "# NA for month: As 'unknown' category doesn't exist yet we create it\n",
    "test$month = test$month %>% replace_na('unknown')\n",
    "\n",
    "# NA for day_of_week: As 'unknown' category doesn't exist yet we create it\n",
    "test$day_of_week = test$day_of_week %>% replace_na('unknown')\n",
    "\n",
    "# NA for poutcome: As an 'nonexistent' category already exists then we replace the missing value with it\n",
    "test$poutcome = test$poutcome %>% replace_na('nonexistent')"
   ]
  },
  {
   "cell_type": "markdown",
   "id": "47d358aa",
   "metadata": {
    "lines_to_next_cell": 2
   },
   "source": [
    "#### 2. Logical data\n",
    "It represents default, housing and loan"
   ]
  },
  {
   "cell_type": "code",
   "execution_count": 65,
   "id": "9ed09f0b",
   "metadata": {
    "lines_to_next_cell": 2
   },
   "outputs": [],
   "source": [
    "# Dealing with NA for logical data\n",
    "\n",
    "# NA for default: As an 'unknown' category already exists then we replace the missing value with it\n",
    "test$default = test$default %>% replace_na('unknown')\n",
    "\n",
    "# NA for housing: As an 'unknown' category already exists then we replace the missing value with it\n",
    "test$housing= test$housing %>% replace_na('unknown')\n",
    "\n",
    "# NA for loan: As an 'unknown' category already exists then we replace the missing value with it\n",
    "test$loan = test$loan %>% replace_na('unknown')\n"
   ]
  },
  {
   "cell_type": "markdown",
   "id": "bacec7f6",
   "metadata": {
    "lines_to_next_cell": 2
   },
   "source": [
    "\n",
    "#### 3. Numerical data \n",
    "\n",
    "*For numerical data we need to create indicators to track the imputation*\n",
    "\n",
    "- age will be replaced by the median\n",
    "- campaign: the higher the better, it is not categorical\n",
    "- Pdays: replacing 999 by zero and creating a new variable (or checking how many zeros first)\n",
    "- previous: replacing by the median\n",
    "- emp.var.rate, cons.price.idx, cons.conf.idx, euribor3m, nr.employed will be replaced by the mean"
   ]
  },
  {
   "cell_type": "code",
   "execution_count": 66,
   "id": "ee261f1c",
   "metadata": {
    "lines_to_next_cell": 2
   },
   "outputs": [],
   "source": [
    "# We will replace age by the median\n",
    "# -> we can also create categorical variable for the age depending of our model result\n",
    "\n",
    "# First step: creating a new variable \n",
    "test$missing_age <- ifelse(is.na(test$age) == TRUE, 1, 0)\n",
    "\n",
    "# Second step: replacing by the median\n",
    "test$age[is.na(test$age)]<-mean(test$age,na.rm=TRUE)"
   ]
  },
  {
   "cell_type": "code",
   "execution_count": 67,
   "id": "6e2224df",
   "metadata": {
    "lines_to_next_cell": 2
   },
   "outputs": [],
   "source": [
    "# For campaign variable\n",
    "\n",
    "# We create a new 'campaign_missing' variable: 1 for missing and 0 otherwise\n",
    "test$missing_campaign <- ifelse(is.na(test$campaign) == TRUE, 1, 0)\n",
    "\n",
    "# We will replace campaign missing value by the median \n",
    "test$campaign[is.na(test$campaign)]<-mean(test$campaign,na.rm=TRUE)"
   ]
  },
  {
   "cell_type": "code",
   "execution_count": 68,
   "id": "f279b7d5",
   "metadata": {
    "lines_to_next_cell": 2
   },
   "outputs": [],
   "source": [
    "# Checking if it was correctly assign \n",
    "#checkingmissing = test[,c('campaign','missing_campaign')]\n",
    "#checkingmissing[order(checkingmissing$campaign),]"
   ]
  },
  {
   "cell_type": "code",
   "execution_count": 69,
   "id": "cf42e1a0",
   "metadata": {
    "lines_to_next_cell": 2
   },
   "outputs": [
    {
     "data": {
      "text/html": [
       "<table class=\"dataframe\">\n",
       "<caption>A data.frame: 23 × 2</caption>\n",
       "<thead>\n",
       "\t<tr><th scope=col>Var1</th><th scope=col>Freq</th></tr>\n",
       "\t<tr><th scope=col>&lt;fct&gt;</th><th scope=col>&lt;int&gt;</th></tr>\n",
       "</thead>\n",
       "<tbody>\n",
       "\t<tr><td>0  </td><td>   2</td></tr>\n",
       "\t<tr><td>1  </td><td>   5</td></tr>\n",
       "\t<tr><td>2  </td><td>  13</td></tr>\n",
       "\t<tr><td>3  </td><td> 122</td></tr>\n",
       "\t<tr><td>4  </td><td>  34</td></tr>\n",
       "\t<tr><td>5  </td><td>  13</td></tr>\n",
       "\t<tr><td>6  </td><td>  85</td></tr>\n",
       "\t<tr><td>7  </td><td>  16</td></tr>\n",
       "\t<tr><td>8  </td><td>   3</td></tr>\n",
       "\t<tr><td>9  </td><td>  12</td></tr>\n",
       "\t<tr><td>10 </td><td>  15</td></tr>\n",
       "\t<tr><td>11 </td><td>  11</td></tr>\n",
       "\t<tr><td>12 </td><td>  14</td></tr>\n",
       "\t<tr><td>13 </td><td>   8</td></tr>\n",
       "\t<tr><td>14 </td><td>   6</td></tr>\n",
       "\t<tr><td>15 </td><td>   1</td></tr>\n",
       "\t<tr><td>16 </td><td>   5</td></tr>\n",
       "\t<tr><td>17 </td><td>   2</td></tr>\n",
       "\t<tr><td>18 </td><td>   1</td></tr>\n",
       "\t<tr><td>19 </td><td>   1</td></tr>\n",
       "\t<tr><td>20 </td><td>   1</td></tr>\n",
       "\t<tr><td>21 </td><td>   1</td></tr>\n",
       "\t<tr><td>999</td><td>9529</td></tr>\n",
       "</tbody>\n",
       "</table>\n"
      ],
      "text/latex": [
       "A data.frame: 23 × 2\n",
       "\\begin{tabular}{ll}\n",
       " Var1 & Freq\\\\\n",
       " <fct> & <int>\\\\\n",
       "\\hline\n",
       "\t 0   &    2\\\\\n",
       "\t 1   &    5\\\\\n",
       "\t 2   &   13\\\\\n",
       "\t 3   &  122\\\\\n",
       "\t 4   &   34\\\\\n",
       "\t 5   &   13\\\\\n",
       "\t 6   &   85\\\\\n",
       "\t 7   &   16\\\\\n",
       "\t 8   &    3\\\\\n",
       "\t 9   &   12\\\\\n",
       "\t 10  &   15\\\\\n",
       "\t 11  &   11\\\\\n",
       "\t 12  &   14\\\\\n",
       "\t 13  &    8\\\\\n",
       "\t 14  &    6\\\\\n",
       "\t 15  &    1\\\\\n",
       "\t 16  &    5\\\\\n",
       "\t 17  &    2\\\\\n",
       "\t 18  &    1\\\\\n",
       "\t 19  &    1\\\\\n",
       "\t 20  &    1\\\\\n",
       "\t 21  &    1\\\\\n",
       "\t 999 & 9529\\\\\n",
       "\\end{tabular}\n"
      ],
      "text/markdown": [
       "\n",
       "A data.frame: 23 × 2\n",
       "\n",
       "| Var1 &lt;fct&gt; | Freq &lt;int&gt; |\n",
       "|---|---|\n",
       "| 0   |    2 |\n",
       "| 1   |    5 |\n",
       "| 2   |   13 |\n",
       "| 3   |  122 |\n",
       "| 4   |   34 |\n",
       "| 5   |   13 |\n",
       "| 6   |   85 |\n",
       "| 7   |   16 |\n",
       "| 8   |    3 |\n",
       "| 9   |   12 |\n",
       "| 10  |   15 |\n",
       "| 11  |   11 |\n",
       "| 12  |   14 |\n",
       "| 13  |    8 |\n",
       "| 14  |    6 |\n",
       "| 15  |    1 |\n",
       "| 16  |    5 |\n",
       "| 17  |    2 |\n",
       "| 18  |    1 |\n",
       "| 19  |    1 |\n",
       "| 20  |    1 |\n",
       "| 21  |    1 |\n",
       "| 999 | 9529 |\n",
       "\n"
      ],
      "text/plain": [
       "   Var1 Freq\n",
       "1  0       2\n",
       "2  1       5\n",
       "3  2      13\n",
       "4  3     122\n",
       "5  4      34\n",
       "6  5      13\n",
       "7  6      85\n",
       "8  7      16\n",
       "9  8       3\n",
       "10 9      12\n",
       "11 10     15\n",
       "12 11     11\n",
       "13 12     14\n",
       "14 13      8\n",
       "15 14      6\n",
       "16 15      1\n",
       "17 16      5\n",
       "18 17      2\n",
       "19 18      1\n",
       "20 19      1\n",
       "21 20      1\n",
       "22 21      1\n",
       "23 999  9529"
      ]
     },
     "metadata": {},
     "output_type": "display_data"
    }
   ],
   "source": [
    "# Checking how many people with 0. \n",
    "#We do not have a lot of data in zero, we can assign a 1 instead of 0 for these clients\n",
    "# -> We can also assign categorical variable instead of numerical later on\n",
    "as.data.frame(table(test$pdays))"
   ]
  },
  {
   "cell_type": "code",
   "execution_count": 70,
   "id": "915492f0",
   "metadata": {
    "lines_to_next_cell": 2
   },
   "outputs": [],
   "source": [
    "# For pdays variable\n",
    "\n",
    "# First we replace pdays 0 values with 1 (the difference in days for 0 and 1 is not huge)\n",
    "test[\"pdays\"][test[\"pdays\"] == 0] <- 1\n",
    "\n",
    "# We create a new indicator variable for '999' to track the replacement\n",
    "test$replace999 <- ifelse(test$pdays == 999, 1, 0)\n",
    "test$replace999 <- ifelse(is.na(test$replace999) == TRUE, 1, 0)\n",
    "\n",
    "# We replace pdays 999 values with zero (So the zero is more significant for people without contact)\n",
    "test[\"pdays\"][test[\"pdays\"] == 999] <- 0\n",
    "\n",
    "# We track the NA values as a new variable\n",
    "test$missing_pdays <- ifelse(is.na(test$pdays) == TRUE, 1, 0)\n",
    "\n",
    "# We can finally replace the NA values by zero \n",
    "test$pdays = test$pdays %>% replace_na(0)"
   ]
  },
  {
   "cell_type": "code",
   "execution_count": 71,
   "id": "60edfcdb",
   "metadata": {
    "lines_to_next_cell": 2
   },
   "outputs": [
    {
     "data": {
      "text/html": [
       "<table class=\"dataframe\">\n",
       "<caption>A data.frame: 10000 × 24</caption>\n",
       "<thead>\n",
       "\t<tr><th scope=col>client_id</th><th scope=col>age</th><th scope=col>job</th><th scope=col>marital</th><th scope=col>education</th><th scope=col>default</th><th scope=col>housing</th><th scope=col>loan</th><th scope=col>contact</th><th scope=col>month</th><th scope=col>⋯</th><th scope=col>poutcome</th><th scope=col>emp.var.rate</th><th scope=col>cons.price.idx</th><th scope=col>cons.conf.idx</th><th scope=col>euribor3m</th><th scope=col>nr.employed</th><th scope=col>missing_age</th><th scope=col>missing_campaign</th><th scope=col>replace999</th><th scope=col>missing_pdays</th></tr>\n",
       "\t<tr><th scope=col>&lt;int&gt;</th><th scope=col>&lt;dbl&gt;</th><th scope=col>&lt;chr&gt;</th><th scope=col>&lt;chr&gt;</th><th scope=col>&lt;chr&gt;</th><th scope=col>&lt;chr&gt;</th><th scope=col>&lt;chr&gt;</th><th scope=col>&lt;chr&gt;</th><th scope=col>&lt;chr&gt;</th><th scope=col>&lt;chr&gt;</th><th scope=col>⋯</th><th scope=col>&lt;chr&gt;</th><th scope=col>&lt;dbl&gt;</th><th scope=col>&lt;dbl&gt;</th><th scope=col>&lt;dbl&gt;</th><th scope=col>&lt;dbl&gt;</th><th scope=col>&lt;dbl&gt;</th><th scope=col>&lt;dbl&gt;</th><th scope=col>&lt;dbl&gt;</th><th scope=col>&lt;dbl&gt;</th><th scope=col>&lt;dbl&gt;</th></tr>\n",
       "</thead>\n",
       "<tbody>\n",
       "\t<tr><td> 2986</td><td>53.00000</td><td>technician   </td><td>single  </td><td>professional.course</td><td>no     </td><td>no     </td><td>no     </td><td>cellular </td><td>jul</td><td>⋯</td><td>nonexistent</td><td> 1.4</td><td>93.918</td><td>-42.7</td><td>4.961</td><td>5228.1</td><td>0</td><td>0</td><td>0</td><td>0</td></tr>\n",
       "\t<tr><td>29710</td><td>32.00000</td><td>blue-collar  </td><td>married </td><td>basic.6y           </td><td>no     </td><td>yes    </td><td>no     </td><td>telephone</td><td>jul</td><td>⋯</td><td>nonexistent</td><td> 1.4</td><td>93.918</td><td>-42.7</td><td>4.963</td><td>5228.1</td><td>0</td><td>0</td><td>0</td><td>0</td></tr>\n",
       "\t<tr><td>38938</td><td>70.00000</td><td>retired      </td><td>married </td><td>high.school        </td><td>no     </td><td>yes    </td><td>no     </td><td>cellular </td><td>aug</td><td>⋯</td><td>nonexistent</td><td>-2.9</td><td>92.201</td><td>-31.4</td><td>0.883</td><td>5076.2</td><td>0</td><td>0</td><td>0</td><td>0</td></tr>\n",
       "\t<tr><td>31313</td><td>46.00000</td><td>services     </td><td>married </td><td>high.school        </td><td>no     </td><td>no     </td><td>no     </td><td>cellular </td><td>apr</td><td>⋯</td><td>failure    </td><td>-1.8</td><td>93.075</td><td>-47.1</td><td>1.405</td><td>5099.1</td><td>0</td><td>0</td><td>0</td><td>0</td></tr>\n",
       "\t<tr><td>24173</td><td>35.00000</td><td>technician   </td><td>single  </td><td>unknown            </td><td>no     </td><td>no     </td><td>no     </td><td>cellular </td><td>may</td><td>⋯</td><td>failure    </td><td>-1.8</td><td>92.893</td><td>-46.2</td><td>1.266</td><td>5099.1</td><td>0</td><td>0</td><td>0</td><td>0</td></tr>\n",
       "\t<tr><td>14426</td><td>24.00000</td><td>student      </td><td>single  </td><td>high.school        </td><td>no     </td><td>yes    </td><td>no     </td><td>cellular </td><td>may</td><td>⋯</td><td>success    </td><td>-1.8</td><td>93.876</td><td>-40.0</td><td>0.668</td><td>5008.7</td><td>0</td><td>0</td><td>0</td><td>0</td></tr>\n",
       "\t<tr><td>40159</td><td>33.00000</td><td>admin.       </td><td>divorced</td><td>high.school        </td><td>no     </td><td>no     </td><td>no     </td><td>telephone</td><td>apr</td><td>⋯</td><td>nonexistent</td><td>-1.8</td><td>93.075</td><td>-47.1</td><td>1.405</td><td>5099.1</td><td>0</td><td>0</td><td>0</td><td>0</td></tr>\n",
       "\t<tr><td>12301</td><td>38.00000</td><td>admin.       </td><td>married </td><td>high.school        </td><td>no     </td><td>yes    </td><td>no     </td><td>telephone</td><td>jul</td><td>⋯</td><td>nonexistent</td><td> 1.4</td><td>93.918</td><td>-42.7</td><td>4.968</td><td>5228.1</td><td>0</td><td>0</td><td>0</td><td>0</td></tr>\n",
       "\t<tr><td> 9640</td><td>37.00000</td><td>blue-collar  </td><td>single  </td><td>basic.9y           </td><td>unknown</td><td>no     </td><td>no     </td><td>telephone</td><td>may</td><td>⋯</td><td>nonexistent</td><td> 1.1</td><td>93.994</td><td>-36.4</td><td>4.860</td><td>5191.0</td><td>0</td><td>0</td><td>0</td><td>0</td></tr>\n",
       "\t<tr><td>19742</td><td>36.00000</td><td>technician   </td><td>married </td><td>university.degree  </td><td>no     </td><td>no     </td><td>no     </td><td>cellular </td><td>jun</td><td>⋯</td><td>success    </td><td>-2.9</td><td>92.963</td><td>-40.8</td><td>1.266</td><td>5076.2</td><td>0</td><td>0</td><td>0</td><td>0</td></tr>\n",
       "\t<tr><td> 5967</td><td>41.00000</td><td>blue-collar  </td><td>divorced</td><td>basic.9y           </td><td>unknown</td><td>no     </td><td>no     </td><td>telephone</td><td>may</td><td>⋯</td><td>nonexistent</td><td> 1.1</td><td>93.994</td><td>-36.4</td><td>4.857</td><td>5191.0</td><td>0</td><td>0</td><td>0</td><td>0</td></tr>\n",
       "\t<tr><td>25559</td><td>44.00000</td><td>management   </td><td>married </td><td>professional.course</td><td>no     </td><td>no     </td><td>no     </td><td>cellular </td><td>apr</td><td>⋯</td><td>failure    </td><td>-1.8</td><td>93.075</td><td>-47.1</td><td>1.405</td><td>5099.1</td><td>0</td><td>0</td><td>0</td><td>0</td></tr>\n",
       "\t<tr><td>34976</td><td>33.00000</td><td>technician   </td><td>married </td><td>high.school        </td><td>no     </td><td>yes    </td><td>yes    </td><td>cellular </td><td>aug</td><td>⋯</td><td>nonexistent</td><td> 1.4</td><td>93.444</td><td>-36.1</td><td>4.965</td><td>5228.1</td><td>0</td><td>0</td><td>0</td><td>0</td></tr>\n",
       "\t<tr><td>38126</td><td>27.00000</td><td>self-employed</td><td>single  </td><td>university.degree  </td><td>no     </td><td>no     </td><td>no     </td><td>telephone</td><td>oct</td><td>⋯</td><td>nonexistent</td><td>-1.1</td><td>94.601</td><td>-49.5</td><td>1.029</td><td>4963.6</td><td>0</td><td>0</td><td>0</td><td>0</td></tr>\n",
       "\t<tr><td>17369</td><td>41.00000</td><td>blue-collar  </td><td>married </td><td>basic.4y           </td><td>no     </td><td>no     </td><td>yes    </td><td>telephone</td><td>jun</td><td>⋯</td><td>nonexistent</td><td> 1.4</td><td>94.465</td><td>-41.8</td><td>4.864</td><td>5228.1</td><td>0</td><td>0</td><td>0</td><td>0</td></tr>\n",
       "\t<tr><td>40632</td><td>34.00000</td><td>services     </td><td>married </td><td>high.school        </td><td>no     </td><td>no     </td><td>no     </td><td>telephone</td><td>jun</td><td>⋯</td><td>nonexistent</td><td> 1.4</td><td>94.465</td><td>-41.8</td><td>4.958</td><td>5228.1</td><td>0</td><td>0</td><td>0</td><td>0</td></tr>\n",
       "\t<tr><td>37544</td><td>44.00000</td><td>blue-collar  </td><td>married </td><td>basic.4y           </td><td>no     </td><td>yes    </td><td>no     </td><td>cellular </td><td>jul</td><td>⋯</td><td>nonexistent</td><td> 1.4</td><td>93.918</td><td>-42.7</td><td>4.962</td><td>5228.1</td><td>0</td><td>0</td><td>0</td><td>0</td></tr>\n",
       "\t<tr><td>11284</td><td>32.00000</td><td>admin.       </td><td>single  </td><td>university.degree  </td><td>no     </td><td>yes    </td><td>no     </td><td>cellular </td><td>aug</td><td>⋯</td><td>nonexistent</td><td> 1.4</td><td>93.444</td><td>-36.1</td><td>4.963</td><td>5228.1</td><td>0</td><td>0</td><td>0</td><td>0</td></tr>\n",
       "\t<tr><td>36717</td><td>39.93562</td><td>technician   </td><td>married </td><td>professional.course</td><td>no     </td><td>yes    </td><td>no     </td><td>telephone</td><td>may</td><td>⋯</td><td>failure    </td><td>-1.8</td><td>92.893</td><td>-46.2</td><td>1.281</td><td>5099.1</td><td>1</td><td>0</td><td>0</td><td>0</td></tr>\n",
       "\t<tr><td>14536</td><td>32.00000</td><td>blue-collar  </td><td>single  </td><td>high.school        </td><td>no     </td><td>unknown</td><td>unknown</td><td>cellular </td><td>nov</td><td>⋯</td><td>nonexistent</td><td>-0.1</td><td>93.200</td><td>-42.0</td><td>4.120</td><td>5195.8</td><td>0</td><td>0</td><td>0</td><td>0</td></tr>\n",
       "\t<tr><td>26503</td><td>41.00000</td><td>blue-collar  </td><td>married </td><td>professional.course</td><td>no     </td><td>yes    </td><td>no     </td><td>telephone</td><td>jun</td><td>⋯</td><td>nonexistent</td><td> 1.4</td><td>94.465</td><td>-41.8</td><td>4.959</td><td>5228.1</td><td>0</td><td>0</td><td>0</td><td>0</td></tr>\n",
       "\t<tr><td>22763</td><td>46.00000</td><td>services     </td><td>married </td><td>high.school        </td><td>no     </td><td>yes    </td><td>yes    </td><td>telephone</td><td>jul</td><td>⋯</td><td>nonexistent</td><td> 1.4</td><td>93.918</td><td>-42.7</td><td>4.963</td><td>5228.1</td><td>0</td><td>0</td><td>0</td><td>0</td></tr>\n",
       "\t<tr><td>32953</td><td>30.00000</td><td>blue-collar  </td><td>married </td><td>basic.9y           </td><td>no     </td><td>yes    </td><td>no     </td><td>cellular </td><td>nov</td><td>⋯</td><td>failure    </td><td>-0.1</td><td>93.200</td><td>-42.0</td><td>4.021</td><td>5195.8</td><td>0</td><td>0</td><td>0</td><td>0</td></tr>\n",
       "\t<tr><td>  413</td><td>47.00000</td><td>management   </td><td>married </td><td>basic.9y           </td><td>no     </td><td>no     </td><td>no     </td><td>cellular </td><td>jun</td><td>⋯</td><td>nonexistent</td><td>-2.9</td><td>92.963</td><td>-40.8</td><td>1.262</td><td>5076.2</td><td>0</td><td>0</td><td>0</td><td>0</td></tr>\n",
       "\t<tr><td>10762</td><td>39.00000</td><td>admin.       </td><td>married </td><td>university.degree  </td><td>unknown</td><td>yes    </td><td>no     </td><td>cellular </td><td>aug</td><td>⋯</td><td>nonexistent</td><td> 1.4</td><td>93.444</td><td>-36.1</td><td>4.964</td><td>5228.1</td><td>0</td><td>0</td><td>0</td><td>0</td></tr>\n",
       "\t<tr><td>14745</td><td>29.00000</td><td>entrepreneur </td><td>married </td><td>basic.9y           </td><td>no     </td><td>yes    </td><td>no     </td><td>cellular </td><td>nov</td><td>⋯</td><td>nonexistent</td><td>-0.1</td><td>93.200</td><td>-42.0</td><td>4.120</td><td>5195.8</td><td>0</td><td>0</td><td>0</td><td>0</td></tr>\n",
       "\t<tr><td>25946</td><td>72.00000</td><td>retired      </td><td>divorced</td><td>basic.4y           </td><td>no     </td><td>yes    </td><td>yes    </td><td>cellular </td><td>aug</td><td>⋯</td><td>failure    </td><td>-2.9</td><td>92.201</td><td>-31.4</td><td>0.873</td><td>5076.2</td><td>0</td><td>0</td><td>0</td><td>0</td></tr>\n",
       "\t<tr><td>14804</td><td>32.00000</td><td>unemployed   </td><td>single  </td><td>professional.course</td><td>no     </td><td>yes    </td><td>yes    </td><td>cellular </td><td>jun</td><td>⋯</td><td>nonexistent</td><td>-1.7</td><td>94.055</td><td>-39.8</td><td>0.704</td><td>4991.6</td><td>0</td><td>0</td><td>0</td><td>0</td></tr>\n",
       "\t<tr><td> 6790</td><td>32.00000</td><td>blue-collar  </td><td>married </td><td>basic.9y           </td><td>no     </td><td>no     </td><td>no     </td><td>telephone</td><td>may</td><td>⋯</td><td>nonexistent</td><td> 1.1</td><td>93.994</td><td>-36.4</td><td>4.857</td><td>5191.0</td><td>0</td><td>0</td><td>0</td><td>0</td></tr>\n",
       "\t<tr><td>30453</td><td>45.00000</td><td>technician   </td><td>single  </td><td>university.degree  </td><td>unknown</td><td>no     </td><td>no     </td><td>cellular </td><td>aug</td><td>⋯</td><td>nonexistent</td><td> 1.4</td><td>93.444</td><td>-36.1</td><td>4.963</td><td>5228.1</td><td>0</td><td>0</td><td>0</td><td>0</td></tr>\n",
       "\t<tr><td>⋮</td><td>⋮</td><td>⋮</td><td>⋮</td><td>⋮</td><td>⋮</td><td>⋮</td><td>⋮</td><td>⋮</td><td>⋮</td><td>⋱</td><td>⋮</td><td>⋮</td><td>⋮</td><td>⋮</td><td>⋮</td><td>⋮</td><td>⋮</td><td>⋮</td><td>⋮</td><td>⋮</td></tr>\n",
       "\t<tr><td> 3688</td><td>43</td><td>admin.       </td><td>married </td><td>university.degree  </td><td>no     </td><td>yes    </td><td>yes</td><td>cellular </td><td>aug</td><td>⋯</td><td>nonexistent</td><td> 1.4</td><td>93.444</td><td>-36.1</td><td>4.970</td><td>5228.1</td><td>0</td><td>0</td><td>0</td><td>0</td></tr>\n",
       "\t<tr><td>13542</td><td>52</td><td>technician   </td><td>married </td><td>professional.course</td><td>no     </td><td>yes    </td><td>no </td><td>cellular </td><td>jul</td><td>⋯</td><td>nonexistent</td><td> 1.4</td><td>93.918</td><td>-42.7</td><td>4.958</td><td>5228.1</td><td>0</td><td>0</td><td>0</td><td>0</td></tr>\n",
       "\t<tr><td>21023</td><td>30</td><td>technician   </td><td>single  </td><td>professional.course</td><td>unknown</td><td>yes    </td><td>no </td><td>cellular </td><td>aug</td><td>⋯</td><td>nonexistent</td><td> 1.4</td><td>93.444</td><td>-36.1</td><td>4.964</td><td>5228.1</td><td>0</td><td>0</td><td>0</td><td>0</td></tr>\n",
       "\t<tr><td> 5277</td><td>25</td><td>unemployed   </td><td>single  </td><td>high.school        </td><td>unknown</td><td>yes    </td><td>no </td><td>telephone</td><td>jun</td><td>⋯</td><td>nonexistent</td><td> 1.4</td><td>94.465</td><td>-41.8</td><td>4.960</td><td>5228.1</td><td>0</td><td>0</td><td>0</td><td>0</td></tr>\n",
       "\t<tr><td>15316</td><td>37</td><td>blue-collar  </td><td>married </td><td>basic.4y           </td><td>unknown</td><td>no     </td><td>no </td><td>telephone</td><td>may</td><td>⋯</td><td>nonexistent</td><td> 1.1</td><td>93.994</td><td>-36.4</td><td>4.857</td><td>5191.0</td><td>0</td><td>0</td><td>0</td><td>0</td></tr>\n",
       "\t<tr><td>  633</td><td>43</td><td>admin.       </td><td>divorced</td><td>university.degree  </td><td>no     </td><td>no     </td><td>no </td><td>cellular </td><td>jul</td><td>⋯</td><td>nonexistent</td><td> 1.4</td><td>93.918</td><td>-42.7</td><td>4.963</td><td>5228.1</td><td>0</td><td>0</td><td>0</td><td>0</td></tr>\n",
       "\t<tr><td> 8520</td><td>29</td><td>admin.       </td><td>single  </td><td>basic.9y           </td><td>unknown</td><td>no     </td><td>no </td><td>cellular </td><td>may</td><td>⋯</td><td>nonexistent</td><td>-1.8</td><td>92.893</td><td>-46.2</td><td>1.266</td><td>5099.1</td><td>0</td><td>0</td><td>0</td><td>0</td></tr>\n",
       "\t<tr><td>38410</td><td>35</td><td>unknown      </td><td>married </td><td>basic.9y           </td><td>no     </td><td>unknown</td><td>no </td><td>telephone</td><td>may</td><td>⋯</td><td>nonexistent</td><td> 1.1</td><td>93.994</td><td>-36.4</td><td>4.860</td><td>5191.0</td><td>0</td><td>0</td><td>0</td><td>0</td></tr>\n",
       "\t<tr><td>31552</td><td>45</td><td>services     </td><td>married </td><td>basic.9y           </td><td>no     </td><td>no     </td><td>yes</td><td>telephone</td><td>may</td><td>⋯</td><td>nonexistent</td><td> 1.1</td><td>93.994</td><td>-36.4</td><td>4.858</td><td>5191.0</td><td>0</td><td>0</td><td>0</td><td>0</td></tr>\n",
       "\t<tr><td>18572</td><td>28</td><td>blue-collar  </td><td>married </td><td>basic.4y           </td><td>no     </td><td>yes    </td><td>no </td><td>cellular </td><td>jul</td><td>⋯</td><td>nonexistent</td><td> 1.4</td><td>93.918</td><td>-42.7</td><td>4.960</td><td>5228.1</td><td>0</td><td>1</td><td>0</td><td>0</td></tr>\n",
       "\t<tr><td> 3054</td><td>49</td><td>admin.       </td><td>married </td><td>university.degree  </td><td>unknown</td><td>yes    </td><td>no </td><td>cellular </td><td>aug</td><td>⋯</td><td>nonexistent</td><td> 1.4</td><td>93.444</td><td>-36.1</td><td>   NA</td><td>5228.1</td><td>0</td><td>0</td><td>0</td><td>0</td></tr>\n",
       "\t<tr><td>14279</td><td>33</td><td>self-employed</td><td>married </td><td>basic.9y           </td><td>unknown</td><td>no     </td><td>no </td><td>cellular </td><td>aug</td><td>⋯</td><td>nonexistent</td><td> 1.4</td><td>93.444</td><td>-36.1</td><td>4.966</td><td>5228.1</td><td>0</td><td>0</td><td>0</td><td>0</td></tr>\n",
       "\t<tr><td> 5006</td><td>40</td><td>services     </td><td>married </td><td>high.school        </td><td>unknown</td><td>yes    </td><td>no </td><td>telephone</td><td>may</td><td>⋯</td><td>nonexistent</td><td> 1.1</td><td>93.994</td><td>-36.4</td><td>4.857</td><td>5191.0</td><td>0</td><td>0</td><td>0</td><td>0</td></tr>\n",
       "\t<tr><td>19290</td><td>31</td><td>admin.       </td><td>married </td><td>university.degree  </td><td>no     </td><td>no     </td><td>no </td><td>cellular </td><td>nov</td><td>⋯</td><td>nonexistent</td><td>-0.1</td><td>93.200</td><td>-42.0</td><td>4.076</td><td>5195.8</td><td>0</td><td>0</td><td>0</td><td>0</td></tr>\n",
       "\t<tr><td>27375</td><td>36</td><td>blue-collar  </td><td>married </td><td>basic.9y           </td><td>no     </td><td>no     </td><td>no </td><td>telephone</td><td>may</td><td>⋯</td><td>nonexistent</td><td> 1.1</td><td>93.994</td><td>-36.4</td><td>4.859</td><td>5191.0</td><td>0</td><td>0</td><td>0</td><td>0</td></tr>\n",
       "\t<tr><td> 8214</td><td>88</td><td>retired      </td><td>divorced</td><td>basic.4y           </td><td>no     </td><td>no     </td><td>no </td><td>cellular </td><td>oct</td><td>⋯</td><td>success    </td><td>-3.4</td><td>92.431</td><td>-26.9</td><td>0.735</td><td>5017.5</td><td>0</td><td>0</td><td>0</td><td>0</td></tr>\n",
       "\t<tr><td>39327</td><td>38</td><td>blue-collar  </td><td>married </td><td>basic.4y           </td><td>no     </td><td>yes    </td><td>no </td><td>cellular </td><td>nov</td><td>⋯</td><td>nonexistent</td><td>-0.1</td><td>93.200</td><td>-42.0</td><td>4.191</td><td>5195.8</td><td>0</td><td>0</td><td>0</td><td>0</td></tr>\n",
       "\t<tr><td>37751</td><td>51</td><td>admin.       </td><td>married </td><td>university.degree  </td><td>no     </td><td>yes    </td><td>no </td><td>cellular </td><td>aug</td><td>⋯</td><td>nonexistent</td><td> 1.4</td><td>93.444</td><td>-36.1</td><td>4.964</td><td>5228.1</td><td>0</td><td>0</td><td>0</td><td>0</td></tr>\n",
       "\t<tr><td>11511</td><td>36</td><td>admin.       </td><td>married </td><td>high.school        </td><td>no     </td><td>yes    </td><td>no </td><td>telephone</td><td>may</td><td>⋯</td><td>nonexistent</td><td> 1.1</td><td>93.994</td><td>-36.4</td><td>4.856</td><td>5191.0</td><td>0</td><td>0</td><td>0</td><td>0</td></tr>\n",
       "\t<tr><td>18459</td><td>53</td><td>services     </td><td>divorced</td><td>basic.9y           </td><td>no     </td><td>yes    </td><td>no </td><td>cellular </td><td>jul</td><td>⋯</td><td>nonexistent</td><td> 1.4</td><td>93.918</td><td>-42.7</td><td>4.957</td><td>5228.1</td><td>0</td><td>0</td><td>0</td><td>0</td></tr>\n",
       "\t<tr><td>18088</td><td>29</td><td>management   </td><td>single  </td><td>university.degree  </td><td>no     </td><td>no     </td><td>no </td><td>cellular </td><td>aug</td><td>⋯</td><td>nonexistent</td><td> 1.4</td><td>93.444</td><td>-36.1</td><td>4.963</td><td>5228.1</td><td>0</td><td>0</td><td>0</td><td>0</td></tr>\n",
       "\t<tr><td>29838</td><td>34</td><td>blue-collar  </td><td>married </td><td>professional.course</td><td>no     </td><td>no     </td><td>no </td><td>cellular </td><td>apr</td><td>⋯</td><td>nonexistent</td><td>-1.8</td><td>93.075</td><td>-47.1</td><td>1.405</td><td>5099.1</td><td>0</td><td>0</td><td>0</td><td>0</td></tr>\n",
       "\t<tr><td>15880</td><td>34</td><td>technician   </td><td>married </td><td>professional.course</td><td>no     </td><td>no     </td><td>no </td><td>cellular </td><td>aug</td><td>⋯</td><td>nonexistent</td><td> 1.4</td><td>93.444</td><td>-36.1</td><td>4.963</td><td>5228.1</td><td>0</td><td>0</td><td>0</td><td>0</td></tr>\n",
       "\t<tr><td>32002</td><td>49</td><td>admin.       </td><td>married </td><td>high.school        </td><td>no     </td><td>yes    </td><td>yes</td><td>cellular </td><td>jul</td><td>⋯</td><td>nonexistent</td><td> 1.4</td><td>93.918</td><td>-42.7</td><td>4.962</td><td>5228.1</td><td>0</td><td>0</td><td>0</td><td>0</td></tr>\n",
       "\t<tr><td>34275</td><td>31</td><td>services     </td><td>married </td><td>university.degree  </td><td>no     </td><td>yes    </td><td>no </td><td>cellular </td><td>aug</td><td>⋯</td><td>nonexistent</td><td> 1.4</td><td>93.444</td><td>-36.1</td><td>4.963</td><td>5228.1</td><td>0</td><td>0</td><td>0</td><td>0</td></tr>\n",
       "\t<tr><td>  880</td><td>31</td><td>admin.       </td><td>divorced</td><td>university.degree  </td><td>no     </td><td>yes    </td><td>yes</td><td>cellular </td><td>may</td><td>⋯</td><td>nonexistent</td><td>-1.8</td><td>92.893</td><td>-46.2</td><td>1.354</td><td>5099.1</td><td>0</td><td>0</td><td>0</td><td>0</td></tr>\n",
       "\t<tr><td>28072</td><td>21</td><td>self-employed</td><td>single  </td><td>university.degree  </td><td>no     </td><td>yes    </td><td>no </td><td>cellular </td><td>apr</td><td>⋯</td><td>nonexistent</td><td>-1.8</td><td>93.075</td><td>-47.1</td><td>1.405</td><td>5099.1</td><td>0</td><td>0</td><td>0</td><td>0</td></tr>\n",
       "\t<tr><td>40491</td><td>39</td><td>housemaid    </td><td>married </td><td>basic.4y           </td><td>no     </td><td>yes    </td><td>yes</td><td>cellular </td><td>aug</td><td>⋯</td><td>nonexistent</td><td> 1.4</td><td>93.444</td><td>-36.1</td><td>4.964</td><td>5228.1</td><td>0</td><td>0</td><td>0</td><td>0</td></tr>\n",
       "\t<tr><td> 5310</td><td>32</td><td>technician   </td><td>single  </td><td>university.degree  </td><td>no     </td><td>yes    </td><td>yes</td><td>cellular </td><td>aug</td><td>⋯</td><td>nonexistent</td><td> 1.4</td><td>93.444</td><td>-36.1</td><td>4.965</td><td>5228.1</td><td>0</td><td>0</td><td>0</td><td>0</td></tr>\n",
       "\t<tr><td> 6154</td><td>50</td><td>technician   </td><td>married </td><td>university.degree  </td><td>no     </td><td>no     </td><td>no </td><td>cellular </td><td>jul</td><td>⋯</td><td>nonexistent</td><td> 1.4</td><td>93.918</td><td>-42.7</td><td>4.962</td><td>5228.1</td><td>0</td><td>0</td><td>0</td><td>0</td></tr>\n",
       "</tbody>\n",
       "</table>\n"
      ],
      "text/latex": [
       "A data.frame: 10000 × 24\n",
       "\\begin{tabular}{lllllllllllllllllllll}\n",
       " client\\_id & age & job & marital & education & default & housing & loan & contact & month & ⋯ & poutcome & emp.var.rate & cons.price.idx & cons.conf.idx & euribor3m & nr.employed & missing\\_age & missing\\_campaign & replace999 & missing\\_pdays\\\\\n",
       " <int> & <dbl> & <chr> & <chr> & <chr> & <chr> & <chr> & <chr> & <chr> & <chr> & ⋯ & <chr> & <dbl> & <dbl> & <dbl> & <dbl> & <dbl> & <dbl> & <dbl> & <dbl> & <dbl>\\\\\n",
       "\\hline\n",
       "\t  2986 & 53.00000 & technician    & single   & professional.course & no      & no      & no      & cellular  & jul & ⋯ & nonexistent &  1.4 & 93.918 & -42.7 & 4.961 & 5228.1 & 0 & 0 & 0 & 0\\\\\n",
       "\t 29710 & 32.00000 & blue-collar   & married  & basic.6y            & no      & yes     & no      & telephone & jul & ⋯ & nonexistent &  1.4 & 93.918 & -42.7 & 4.963 & 5228.1 & 0 & 0 & 0 & 0\\\\\n",
       "\t 38938 & 70.00000 & retired       & married  & high.school         & no      & yes     & no      & cellular  & aug & ⋯ & nonexistent & -2.9 & 92.201 & -31.4 & 0.883 & 5076.2 & 0 & 0 & 0 & 0\\\\\n",
       "\t 31313 & 46.00000 & services      & married  & high.school         & no      & no      & no      & cellular  & apr & ⋯ & failure     & -1.8 & 93.075 & -47.1 & 1.405 & 5099.1 & 0 & 0 & 0 & 0\\\\\n",
       "\t 24173 & 35.00000 & technician    & single   & unknown             & no      & no      & no      & cellular  & may & ⋯ & failure     & -1.8 & 92.893 & -46.2 & 1.266 & 5099.1 & 0 & 0 & 0 & 0\\\\\n",
       "\t 14426 & 24.00000 & student       & single   & high.school         & no      & yes     & no      & cellular  & may & ⋯ & success     & -1.8 & 93.876 & -40.0 & 0.668 & 5008.7 & 0 & 0 & 0 & 0\\\\\n",
       "\t 40159 & 33.00000 & admin.        & divorced & high.school         & no      & no      & no      & telephone & apr & ⋯ & nonexistent & -1.8 & 93.075 & -47.1 & 1.405 & 5099.1 & 0 & 0 & 0 & 0\\\\\n",
       "\t 12301 & 38.00000 & admin.        & married  & high.school         & no      & yes     & no      & telephone & jul & ⋯ & nonexistent &  1.4 & 93.918 & -42.7 & 4.968 & 5228.1 & 0 & 0 & 0 & 0\\\\\n",
       "\t  9640 & 37.00000 & blue-collar   & single   & basic.9y            & unknown & no      & no      & telephone & may & ⋯ & nonexistent &  1.1 & 93.994 & -36.4 & 4.860 & 5191.0 & 0 & 0 & 0 & 0\\\\\n",
       "\t 19742 & 36.00000 & technician    & married  & university.degree   & no      & no      & no      & cellular  & jun & ⋯ & success     & -2.9 & 92.963 & -40.8 & 1.266 & 5076.2 & 0 & 0 & 0 & 0\\\\\n",
       "\t  5967 & 41.00000 & blue-collar   & divorced & basic.9y            & unknown & no      & no      & telephone & may & ⋯ & nonexistent &  1.1 & 93.994 & -36.4 & 4.857 & 5191.0 & 0 & 0 & 0 & 0\\\\\n",
       "\t 25559 & 44.00000 & management    & married  & professional.course & no      & no      & no      & cellular  & apr & ⋯ & failure     & -1.8 & 93.075 & -47.1 & 1.405 & 5099.1 & 0 & 0 & 0 & 0\\\\\n",
       "\t 34976 & 33.00000 & technician    & married  & high.school         & no      & yes     & yes     & cellular  & aug & ⋯ & nonexistent &  1.4 & 93.444 & -36.1 & 4.965 & 5228.1 & 0 & 0 & 0 & 0\\\\\n",
       "\t 38126 & 27.00000 & self-employed & single   & university.degree   & no      & no      & no      & telephone & oct & ⋯ & nonexistent & -1.1 & 94.601 & -49.5 & 1.029 & 4963.6 & 0 & 0 & 0 & 0\\\\\n",
       "\t 17369 & 41.00000 & blue-collar   & married  & basic.4y            & no      & no      & yes     & telephone & jun & ⋯ & nonexistent &  1.4 & 94.465 & -41.8 & 4.864 & 5228.1 & 0 & 0 & 0 & 0\\\\\n",
       "\t 40632 & 34.00000 & services      & married  & high.school         & no      & no      & no      & telephone & jun & ⋯ & nonexistent &  1.4 & 94.465 & -41.8 & 4.958 & 5228.1 & 0 & 0 & 0 & 0\\\\\n",
       "\t 37544 & 44.00000 & blue-collar   & married  & basic.4y            & no      & yes     & no      & cellular  & jul & ⋯ & nonexistent &  1.4 & 93.918 & -42.7 & 4.962 & 5228.1 & 0 & 0 & 0 & 0\\\\\n",
       "\t 11284 & 32.00000 & admin.        & single   & university.degree   & no      & yes     & no      & cellular  & aug & ⋯ & nonexistent &  1.4 & 93.444 & -36.1 & 4.963 & 5228.1 & 0 & 0 & 0 & 0\\\\\n",
       "\t 36717 & 39.93562 & technician    & married  & professional.course & no      & yes     & no      & telephone & may & ⋯ & failure     & -1.8 & 92.893 & -46.2 & 1.281 & 5099.1 & 1 & 0 & 0 & 0\\\\\n",
       "\t 14536 & 32.00000 & blue-collar   & single   & high.school         & no      & unknown & unknown & cellular  & nov & ⋯ & nonexistent & -0.1 & 93.200 & -42.0 & 4.120 & 5195.8 & 0 & 0 & 0 & 0\\\\\n",
       "\t 26503 & 41.00000 & blue-collar   & married  & professional.course & no      & yes     & no      & telephone & jun & ⋯ & nonexistent &  1.4 & 94.465 & -41.8 & 4.959 & 5228.1 & 0 & 0 & 0 & 0\\\\\n",
       "\t 22763 & 46.00000 & services      & married  & high.school         & no      & yes     & yes     & telephone & jul & ⋯ & nonexistent &  1.4 & 93.918 & -42.7 & 4.963 & 5228.1 & 0 & 0 & 0 & 0\\\\\n",
       "\t 32953 & 30.00000 & blue-collar   & married  & basic.9y            & no      & yes     & no      & cellular  & nov & ⋯ & failure     & -0.1 & 93.200 & -42.0 & 4.021 & 5195.8 & 0 & 0 & 0 & 0\\\\\n",
       "\t   413 & 47.00000 & management    & married  & basic.9y            & no      & no      & no      & cellular  & jun & ⋯ & nonexistent & -2.9 & 92.963 & -40.8 & 1.262 & 5076.2 & 0 & 0 & 0 & 0\\\\\n",
       "\t 10762 & 39.00000 & admin.        & married  & university.degree   & unknown & yes     & no      & cellular  & aug & ⋯ & nonexistent &  1.4 & 93.444 & -36.1 & 4.964 & 5228.1 & 0 & 0 & 0 & 0\\\\\n",
       "\t 14745 & 29.00000 & entrepreneur  & married  & basic.9y            & no      & yes     & no      & cellular  & nov & ⋯ & nonexistent & -0.1 & 93.200 & -42.0 & 4.120 & 5195.8 & 0 & 0 & 0 & 0\\\\\n",
       "\t 25946 & 72.00000 & retired       & divorced & basic.4y            & no      & yes     & yes     & cellular  & aug & ⋯ & failure     & -2.9 & 92.201 & -31.4 & 0.873 & 5076.2 & 0 & 0 & 0 & 0\\\\\n",
       "\t 14804 & 32.00000 & unemployed    & single   & professional.course & no      & yes     & yes     & cellular  & jun & ⋯ & nonexistent & -1.7 & 94.055 & -39.8 & 0.704 & 4991.6 & 0 & 0 & 0 & 0\\\\\n",
       "\t  6790 & 32.00000 & blue-collar   & married  & basic.9y            & no      & no      & no      & telephone & may & ⋯ & nonexistent &  1.1 & 93.994 & -36.4 & 4.857 & 5191.0 & 0 & 0 & 0 & 0\\\\\n",
       "\t 30453 & 45.00000 & technician    & single   & university.degree   & unknown & no      & no      & cellular  & aug & ⋯ & nonexistent &  1.4 & 93.444 & -36.1 & 4.963 & 5228.1 & 0 & 0 & 0 & 0\\\\\n",
       "\t ⋮ & ⋮ & ⋮ & ⋮ & ⋮ & ⋮ & ⋮ & ⋮ & ⋮ & ⋮ & ⋱ & ⋮ & ⋮ & ⋮ & ⋮ & ⋮ & ⋮ & ⋮ & ⋮ & ⋮ & ⋮\\\\\n",
       "\t  3688 & 43 & admin.        & married  & university.degree   & no      & yes     & yes & cellular  & aug & ⋯ & nonexistent &  1.4 & 93.444 & -36.1 & 4.970 & 5228.1 & 0 & 0 & 0 & 0\\\\\n",
       "\t 13542 & 52 & technician    & married  & professional.course & no      & yes     & no  & cellular  & jul & ⋯ & nonexistent &  1.4 & 93.918 & -42.7 & 4.958 & 5228.1 & 0 & 0 & 0 & 0\\\\\n",
       "\t 21023 & 30 & technician    & single   & professional.course & unknown & yes     & no  & cellular  & aug & ⋯ & nonexistent &  1.4 & 93.444 & -36.1 & 4.964 & 5228.1 & 0 & 0 & 0 & 0\\\\\n",
       "\t  5277 & 25 & unemployed    & single   & high.school         & unknown & yes     & no  & telephone & jun & ⋯ & nonexistent &  1.4 & 94.465 & -41.8 & 4.960 & 5228.1 & 0 & 0 & 0 & 0\\\\\n",
       "\t 15316 & 37 & blue-collar   & married  & basic.4y            & unknown & no      & no  & telephone & may & ⋯ & nonexistent &  1.1 & 93.994 & -36.4 & 4.857 & 5191.0 & 0 & 0 & 0 & 0\\\\\n",
       "\t   633 & 43 & admin.        & divorced & university.degree   & no      & no      & no  & cellular  & jul & ⋯ & nonexistent &  1.4 & 93.918 & -42.7 & 4.963 & 5228.1 & 0 & 0 & 0 & 0\\\\\n",
       "\t  8520 & 29 & admin.        & single   & basic.9y            & unknown & no      & no  & cellular  & may & ⋯ & nonexistent & -1.8 & 92.893 & -46.2 & 1.266 & 5099.1 & 0 & 0 & 0 & 0\\\\\n",
       "\t 38410 & 35 & unknown       & married  & basic.9y            & no      & unknown & no  & telephone & may & ⋯ & nonexistent &  1.1 & 93.994 & -36.4 & 4.860 & 5191.0 & 0 & 0 & 0 & 0\\\\\n",
       "\t 31552 & 45 & services      & married  & basic.9y            & no      & no      & yes & telephone & may & ⋯ & nonexistent &  1.1 & 93.994 & -36.4 & 4.858 & 5191.0 & 0 & 0 & 0 & 0\\\\\n",
       "\t 18572 & 28 & blue-collar   & married  & basic.4y            & no      & yes     & no  & cellular  & jul & ⋯ & nonexistent &  1.4 & 93.918 & -42.7 & 4.960 & 5228.1 & 0 & 1 & 0 & 0\\\\\n",
       "\t  3054 & 49 & admin.        & married  & university.degree   & unknown & yes     & no  & cellular  & aug & ⋯ & nonexistent &  1.4 & 93.444 & -36.1 &    NA & 5228.1 & 0 & 0 & 0 & 0\\\\\n",
       "\t 14279 & 33 & self-employed & married  & basic.9y            & unknown & no      & no  & cellular  & aug & ⋯ & nonexistent &  1.4 & 93.444 & -36.1 & 4.966 & 5228.1 & 0 & 0 & 0 & 0\\\\\n",
       "\t  5006 & 40 & services      & married  & high.school         & unknown & yes     & no  & telephone & may & ⋯ & nonexistent &  1.1 & 93.994 & -36.4 & 4.857 & 5191.0 & 0 & 0 & 0 & 0\\\\\n",
       "\t 19290 & 31 & admin.        & married  & university.degree   & no      & no      & no  & cellular  & nov & ⋯ & nonexistent & -0.1 & 93.200 & -42.0 & 4.076 & 5195.8 & 0 & 0 & 0 & 0\\\\\n",
       "\t 27375 & 36 & blue-collar   & married  & basic.9y            & no      & no      & no  & telephone & may & ⋯ & nonexistent &  1.1 & 93.994 & -36.4 & 4.859 & 5191.0 & 0 & 0 & 0 & 0\\\\\n",
       "\t  8214 & 88 & retired       & divorced & basic.4y            & no      & no      & no  & cellular  & oct & ⋯ & success     & -3.4 & 92.431 & -26.9 & 0.735 & 5017.5 & 0 & 0 & 0 & 0\\\\\n",
       "\t 39327 & 38 & blue-collar   & married  & basic.4y            & no      & yes     & no  & cellular  & nov & ⋯ & nonexistent & -0.1 & 93.200 & -42.0 & 4.191 & 5195.8 & 0 & 0 & 0 & 0\\\\\n",
       "\t 37751 & 51 & admin.        & married  & university.degree   & no      & yes     & no  & cellular  & aug & ⋯ & nonexistent &  1.4 & 93.444 & -36.1 & 4.964 & 5228.1 & 0 & 0 & 0 & 0\\\\\n",
       "\t 11511 & 36 & admin.        & married  & high.school         & no      & yes     & no  & telephone & may & ⋯ & nonexistent &  1.1 & 93.994 & -36.4 & 4.856 & 5191.0 & 0 & 0 & 0 & 0\\\\\n",
       "\t 18459 & 53 & services      & divorced & basic.9y            & no      & yes     & no  & cellular  & jul & ⋯ & nonexistent &  1.4 & 93.918 & -42.7 & 4.957 & 5228.1 & 0 & 0 & 0 & 0\\\\\n",
       "\t 18088 & 29 & management    & single   & university.degree   & no      & no      & no  & cellular  & aug & ⋯ & nonexistent &  1.4 & 93.444 & -36.1 & 4.963 & 5228.1 & 0 & 0 & 0 & 0\\\\\n",
       "\t 29838 & 34 & blue-collar   & married  & professional.course & no      & no      & no  & cellular  & apr & ⋯ & nonexistent & -1.8 & 93.075 & -47.1 & 1.405 & 5099.1 & 0 & 0 & 0 & 0\\\\\n",
       "\t 15880 & 34 & technician    & married  & professional.course & no      & no      & no  & cellular  & aug & ⋯ & nonexistent &  1.4 & 93.444 & -36.1 & 4.963 & 5228.1 & 0 & 0 & 0 & 0\\\\\n",
       "\t 32002 & 49 & admin.        & married  & high.school         & no      & yes     & yes & cellular  & jul & ⋯ & nonexistent &  1.4 & 93.918 & -42.7 & 4.962 & 5228.1 & 0 & 0 & 0 & 0\\\\\n",
       "\t 34275 & 31 & services      & married  & university.degree   & no      & yes     & no  & cellular  & aug & ⋯ & nonexistent &  1.4 & 93.444 & -36.1 & 4.963 & 5228.1 & 0 & 0 & 0 & 0\\\\\n",
       "\t   880 & 31 & admin.        & divorced & university.degree   & no      & yes     & yes & cellular  & may & ⋯ & nonexistent & -1.8 & 92.893 & -46.2 & 1.354 & 5099.1 & 0 & 0 & 0 & 0\\\\\n",
       "\t 28072 & 21 & self-employed & single   & university.degree   & no      & yes     & no  & cellular  & apr & ⋯ & nonexistent & -1.8 & 93.075 & -47.1 & 1.405 & 5099.1 & 0 & 0 & 0 & 0\\\\\n",
       "\t 40491 & 39 & housemaid     & married  & basic.4y            & no      & yes     & yes & cellular  & aug & ⋯ & nonexistent &  1.4 & 93.444 & -36.1 & 4.964 & 5228.1 & 0 & 0 & 0 & 0\\\\\n",
       "\t  5310 & 32 & technician    & single   & university.degree   & no      & yes     & yes & cellular  & aug & ⋯ & nonexistent &  1.4 & 93.444 & -36.1 & 4.965 & 5228.1 & 0 & 0 & 0 & 0\\\\\n",
       "\t  6154 & 50 & technician    & married  & university.degree   & no      & no      & no  & cellular  & jul & ⋯ & nonexistent &  1.4 & 93.918 & -42.7 & 4.962 & 5228.1 & 0 & 0 & 0 & 0\\\\\n",
       "\\end{tabular}\n"
      ],
      "text/markdown": [
       "\n",
       "A data.frame: 10000 × 24\n",
       "\n",
       "| client_id &lt;int&gt; | age &lt;dbl&gt; | job &lt;chr&gt; | marital &lt;chr&gt; | education &lt;chr&gt; | default &lt;chr&gt; | housing &lt;chr&gt; | loan &lt;chr&gt; | contact &lt;chr&gt; | month &lt;chr&gt; | ⋯ ⋯ | poutcome &lt;chr&gt; | emp.var.rate &lt;dbl&gt; | cons.price.idx &lt;dbl&gt; | cons.conf.idx &lt;dbl&gt; | euribor3m &lt;dbl&gt; | nr.employed &lt;dbl&gt; | missing_age &lt;dbl&gt; | missing_campaign &lt;dbl&gt; | replace999 &lt;dbl&gt; | missing_pdays &lt;dbl&gt; |\n",
       "|---|---|---|---|---|---|---|---|---|---|---|---|---|---|---|---|---|---|---|---|---|\n",
       "|  2986 | 53.00000 | technician    | single   | professional.course | no      | no      | no      | cellular  | jul | ⋯ | nonexistent |  1.4 | 93.918 | -42.7 | 4.961 | 5228.1 | 0 | 0 | 0 | 0 |\n",
       "| 29710 | 32.00000 | blue-collar   | married  | basic.6y            | no      | yes     | no      | telephone | jul | ⋯ | nonexistent |  1.4 | 93.918 | -42.7 | 4.963 | 5228.1 | 0 | 0 | 0 | 0 |\n",
       "| 38938 | 70.00000 | retired       | married  | high.school         | no      | yes     | no      | cellular  | aug | ⋯ | nonexistent | -2.9 | 92.201 | -31.4 | 0.883 | 5076.2 | 0 | 0 | 0 | 0 |\n",
       "| 31313 | 46.00000 | services      | married  | high.school         | no      | no      | no      | cellular  | apr | ⋯ | failure     | -1.8 | 93.075 | -47.1 | 1.405 | 5099.1 | 0 | 0 | 0 | 0 |\n",
       "| 24173 | 35.00000 | technician    | single   | unknown             | no      | no      | no      | cellular  | may | ⋯ | failure     | -1.8 | 92.893 | -46.2 | 1.266 | 5099.1 | 0 | 0 | 0 | 0 |\n",
       "| 14426 | 24.00000 | student       | single   | high.school         | no      | yes     | no      | cellular  | may | ⋯ | success     | -1.8 | 93.876 | -40.0 | 0.668 | 5008.7 | 0 | 0 | 0 | 0 |\n",
       "| 40159 | 33.00000 | admin.        | divorced | high.school         | no      | no      | no      | telephone | apr | ⋯ | nonexistent | -1.8 | 93.075 | -47.1 | 1.405 | 5099.1 | 0 | 0 | 0 | 0 |\n",
       "| 12301 | 38.00000 | admin.        | married  | high.school         | no      | yes     | no      | telephone | jul | ⋯ | nonexistent |  1.4 | 93.918 | -42.7 | 4.968 | 5228.1 | 0 | 0 | 0 | 0 |\n",
       "|  9640 | 37.00000 | blue-collar   | single   | basic.9y            | unknown | no      | no      | telephone | may | ⋯ | nonexistent |  1.1 | 93.994 | -36.4 | 4.860 | 5191.0 | 0 | 0 | 0 | 0 |\n",
       "| 19742 | 36.00000 | technician    | married  | university.degree   | no      | no      | no      | cellular  | jun | ⋯ | success     | -2.9 | 92.963 | -40.8 | 1.266 | 5076.2 | 0 | 0 | 0 | 0 |\n",
       "|  5967 | 41.00000 | blue-collar   | divorced | basic.9y            | unknown | no      | no      | telephone | may | ⋯ | nonexistent |  1.1 | 93.994 | -36.4 | 4.857 | 5191.0 | 0 | 0 | 0 | 0 |\n",
       "| 25559 | 44.00000 | management    | married  | professional.course | no      | no      | no      | cellular  | apr | ⋯ | failure     | -1.8 | 93.075 | -47.1 | 1.405 | 5099.1 | 0 | 0 | 0 | 0 |\n",
       "| 34976 | 33.00000 | technician    | married  | high.school         | no      | yes     | yes     | cellular  | aug | ⋯ | nonexistent |  1.4 | 93.444 | -36.1 | 4.965 | 5228.1 | 0 | 0 | 0 | 0 |\n",
       "| 38126 | 27.00000 | self-employed | single   | university.degree   | no      | no      | no      | telephone | oct | ⋯ | nonexistent | -1.1 | 94.601 | -49.5 | 1.029 | 4963.6 | 0 | 0 | 0 | 0 |\n",
       "| 17369 | 41.00000 | blue-collar   | married  | basic.4y            | no      | no      | yes     | telephone | jun | ⋯ | nonexistent |  1.4 | 94.465 | -41.8 | 4.864 | 5228.1 | 0 | 0 | 0 | 0 |\n",
       "| 40632 | 34.00000 | services      | married  | high.school         | no      | no      | no      | telephone | jun | ⋯ | nonexistent |  1.4 | 94.465 | -41.8 | 4.958 | 5228.1 | 0 | 0 | 0 | 0 |\n",
       "| 37544 | 44.00000 | blue-collar   | married  | basic.4y            | no      | yes     | no      | cellular  | jul | ⋯ | nonexistent |  1.4 | 93.918 | -42.7 | 4.962 | 5228.1 | 0 | 0 | 0 | 0 |\n",
       "| 11284 | 32.00000 | admin.        | single   | university.degree   | no      | yes     | no      | cellular  | aug | ⋯ | nonexistent |  1.4 | 93.444 | -36.1 | 4.963 | 5228.1 | 0 | 0 | 0 | 0 |\n",
       "| 36717 | 39.93562 | technician    | married  | professional.course | no      | yes     | no      | telephone | may | ⋯ | failure     | -1.8 | 92.893 | -46.2 | 1.281 | 5099.1 | 1 | 0 | 0 | 0 |\n",
       "| 14536 | 32.00000 | blue-collar   | single   | high.school         | no      | unknown | unknown | cellular  | nov | ⋯ | nonexistent | -0.1 | 93.200 | -42.0 | 4.120 | 5195.8 | 0 | 0 | 0 | 0 |\n",
       "| 26503 | 41.00000 | blue-collar   | married  | professional.course | no      | yes     | no      | telephone | jun | ⋯ | nonexistent |  1.4 | 94.465 | -41.8 | 4.959 | 5228.1 | 0 | 0 | 0 | 0 |\n",
       "| 22763 | 46.00000 | services      | married  | high.school         | no      | yes     | yes     | telephone | jul | ⋯ | nonexistent |  1.4 | 93.918 | -42.7 | 4.963 | 5228.1 | 0 | 0 | 0 | 0 |\n",
       "| 32953 | 30.00000 | blue-collar   | married  | basic.9y            | no      | yes     | no      | cellular  | nov | ⋯ | failure     | -0.1 | 93.200 | -42.0 | 4.021 | 5195.8 | 0 | 0 | 0 | 0 |\n",
       "|   413 | 47.00000 | management    | married  | basic.9y            | no      | no      | no      | cellular  | jun | ⋯ | nonexistent | -2.9 | 92.963 | -40.8 | 1.262 | 5076.2 | 0 | 0 | 0 | 0 |\n",
       "| 10762 | 39.00000 | admin.        | married  | university.degree   | unknown | yes     | no      | cellular  | aug | ⋯ | nonexistent |  1.4 | 93.444 | -36.1 | 4.964 | 5228.1 | 0 | 0 | 0 | 0 |\n",
       "| 14745 | 29.00000 | entrepreneur  | married  | basic.9y            | no      | yes     | no      | cellular  | nov | ⋯ | nonexistent | -0.1 | 93.200 | -42.0 | 4.120 | 5195.8 | 0 | 0 | 0 | 0 |\n",
       "| 25946 | 72.00000 | retired       | divorced | basic.4y            | no      | yes     | yes     | cellular  | aug | ⋯ | failure     | -2.9 | 92.201 | -31.4 | 0.873 | 5076.2 | 0 | 0 | 0 | 0 |\n",
       "| 14804 | 32.00000 | unemployed    | single   | professional.course | no      | yes     | yes     | cellular  | jun | ⋯ | nonexistent | -1.7 | 94.055 | -39.8 | 0.704 | 4991.6 | 0 | 0 | 0 | 0 |\n",
       "|  6790 | 32.00000 | blue-collar   | married  | basic.9y            | no      | no      | no      | telephone | may | ⋯ | nonexistent |  1.1 | 93.994 | -36.4 | 4.857 | 5191.0 | 0 | 0 | 0 | 0 |\n",
       "| 30453 | 45.00000 | technician    | single   | university.degree   | unknown | no      | no      | cellular  | aug | ⋯ | nonexistent |  1.4 | 93.444 | -36.1 | 4.963 | 5228.1 | 0 | 0 | 0 | 0 |\n",
       "| ⋮ | ⋮ | ⋮ | ⋮ | ⋮ | ⋮ | ⋮ | ⋮ | ⋮ | ⋮ | ⋱ | ⋮ | ⋮ | ⋮ | ⋮ | ⋮ | ⋮ | ⋮ | ⋮ | ⋮ | ⋮ |\n",
       "|  3688 | 43 | admin.        | married  | university.degree   | no      | yes     | yes | cellular  | aug | ⋯ | nonexistent |  1.4 | 93.444 | -36.1 | 4.970 | 5228.1 | 0 | 0 | 0 | 0 |\n",
       "| 13542 | 52 | technician    | married  | professional.course | no      | yes     | no  | cellular  | jul | ⋯ | nonexistent |  1.4 | 93.918 | -42.7 | 4.958 | 5228.1 | 0 | 0 | 0 | 0 |\n",
       "| 21023 | 30 | technician    | single   | professional.course | unknown | yes     | no  | cellular  | aug | ⋯ | nonexistent |  1.4 | 93.444 | -36.1 | 4.964 | 5228.1 | 0 | 0 | 0 | 0 |\n",
       "|  5277 | 25 | unemployed    | single   | high.school         | unknown | yes     | no  | telephone | jun | ⋯ | nonexistent |  1.4 | 94.465 | -41.8 | 4.960 | 5228.1 | 0 | 0 | 0 | 0 |\n",
       "| 15316 | 37 | blue-collar   | married  | basic.4y            | unknown | no      | no  | telephone | may | ⋯ | nonexistent |  1.1 | 93.994 | -36.4 | 4.857 | 5191.0 | 0 | 0 | 0 | 0 |\n",
       "|   633 | 43 | admin.        | divorced | university.degree   | no      | no      | no  | cellular  | jul | ⋯ | nonexistent |  1.4 | 93.918 | -42.7 | 4.963 | 5228.1 | 0 | 0 | 0 | 0 |\n",
       "|  8520 | 29 | admin.        | single   | basic.9y            | unknown | no      | no  | cellular  | may | ⋯ | nonexistent | -1.8 | 92.893 | -46.2 | 1.266 | 5099.1 | 0 | 0 | 0 | 0 |\n",
       "| 38410 | 35 | unknown       | married  | basic.9y            | no      | unknown | no  | telephone | may | ⋯ | nonexistent |  1.1 | 93.994 | -36.4 | 4.860 | 5191.0 | 0 | 0 | 0 | 0 |\n",
       "| 31552 | 45 | services      | married  | basic.9y            | no      | no      | yes | telephone | may | ⋯ | nonexistent |  1.1 | 93.994 | -36.4 | 4.858 | 5191.0 | 0 | 0 | 0 | 0 |\n",
       "| 18572 | 28 | blue-collar   | married  | basic.4y            | no      | yes     | no  | cellular  | jul | ⋯ | nonexistent |  1.4 | 93.918 | -42.7 | 4.960 | 5228.1 | 0 | 1 | 0 | 0 |\n",
       "|  3054 | 49 | admin.        | married  | university.degree   | unknown | yes     | no  | cellular  | aug | ⋯ | nonexistent |  1.4 | 93.444 | -36.1 |    NA | 5228.1 | 0 | 0 | 0 | 0 |\n",
       "| 14279 | 33 | self-employed | married  | basic.9y            | unknown | no      | no  | cellular  | aug | ⋯ | nonexistent |  1.4 | 93.444 | -36.1 | 4.966 | 5228.1 | 0 | 0 | 0 | 0 |\n",
       "|  5006 | 40 | services      | married  | high.school         | unknown | yes     | no  | telephone | may | ⋯ | nonexistent |  1.1 | 93.994 | -36.4 | 4.857 | 5191.0 | 0 | 0 | 0 | 0 |\n",
       "| 19290 | 31 | admin.        | married  | university.degree   | no      | no      | no  | cellular  | nov | ⋯ | nonexistent | -0.1 | 93.200 | -42.0 | 4.076 | 5195.8 | 0 | 0 | 0 | 0 |\n",
       "| 27375 | 36 | blue-collar   | married  | basic.9y            | no      | no      | no  | telephone | may | ⋯ | nonexistent |  1.1 | 93.994 | -36.4 | 4.859 | 5191.0 | 0 | 0 | 0 | 0 |\n",
       "|  8214 | 88 | retired       | divorced | basic.4y            | no      | no      | no  | cellular  | oct | ⋯ | success     | -3.4 | 92.431 | -26.9 | 0.735 | 5017.5 | 0 | 0 | 0 | 0 |\n",
       "| 39327 | 38 | blue-collar   | married  | basic.4y            | no      | yes     | no  | cellular  | nov | ⋯ | nonexistent | -0.1 | 93.200 | -42.0 | 4.191 | 5195.8 | 0 | 0 | 0 | 0 |\n",
       "| 37751 | 51 | admin.        | married  | university.degree   | no      | yes     | no  | cellular  | aug | ⋯ | nonexistent |  1.4 | 93.444 | -36.1 | 4.964 | 5228.1 | 0 | 0 | 0 | 0 |\n",
       "| 11511 | 36 | admin.        | married  | high.school         | no      | yes     | no  | telephone | may | ⋯ | nonexistent |  1.1 | 93.994 | -36.4 | 4.856 | 5191.0 | 0 | 0 | 0 | 0 |\n",
       "| 18459 | 53 | services      | divorced | basic.9y            | no      | yes     | no  | cellular  | jul | ⋯ | nonexistent |  1.4 | 93.918 | -42.7 | 4.957 | 5228.1 | 0 | 0 | 0 | 0 |\n",
       "| 18088 | 29 | management    | single   | university.degree   | no      | no      | no  | cellular  | aug | ⋯ | nonexistent |  1.4 | 93.444 | -36.1 | 4.963 | 5228.1 | 0 | 0 | 0 | 0 |\n",
       "| 29838 | 34 | blue-collar   | married  | professional.course | no      | no      | no  | cellular  | apr | ⋯ | nonexistent | -1.8 | 93.075 | -47.1 | 1.405 | 5099.1 | 0 | 0 | 0 | 0 |\n",
       "| 15880 | 34 | technician    | married  | professional.course | no      | no      | no  | cellular  | aug | ⋯ | nonexistent |  1.4 | 93.444 | -36.1 | 4.963 | 5228.1 | 0 | 0 | 0 | 0 |\n",
       "| 32002 | 49 | admin.        | married  | high.school         | no      | yes     | yes | cellular  | jul | ⋯ | nonexistent |  1.4 | 93.918 | -42.7 | 4.962 | 5228.1 | 0 | 0 | 0 | 0 |\n",
       "| 34275 | 31 | services      | married  | university.degree   | no      | yes     | no  | cellular  | aug | ⋯ | nonexistent |  1.4 | 93.444 | -36.1 | 4.963 | 5228.1 | 0 | 0 | 0 | 0 |\n",
       "|   880 | 31 | admin.        | divorced | university.degree   | no      | yes     | yes | cellular  | may | ⋯ | nonexistent | -1.8 | 92.893 | -46.2 | 1.354 | 5099.1 | 0 | 0 | 0 | 0 |\n",
       "| 28072 | 21 | self-employed | single   | university.degree   | no      | yes     | no  | cellular  | apr | ⋯ | nonexistent | -1.8 | 93.075 | -47.1 | 1.405 | 5099.1 | 0 | 0 | 0 | 0 |\n",
       "| 40491 | 39 | housemaid     | married  | basic.4y            | no      | yes     | yes | cellular  | aug | ⋯ | nonexistent |  1.4 | 93.444 | -36.1 | 4.964 | 5228.1 | 0 | 0 | 0 | 0 |\n",
       "|  5310 | 32 | technician    | single   | university.degree   | no      | yes     | yes | cellular  | aug | ⋯ | nonexistent |  1.4 | 93.444 | -36.1 | 4.965 | 5228.1 | 0 | 0 | 0 | 0 |\n",
       "|  6154 | 50 | technician    | married  | university.degree   | no      | no      | no  | cellular  | jul | ⋯ | nonexistent |  1.4 | 93.918 | -42.7 | 4.962 | 5228.1 | 0 | 0 | 0 | 0 |\n",
       "\n"
      ],
      "text/plain": [
       "      client_id age      job           marital  education           default\n",
       "1      2986     53.00000 technician    single   professional.course no     \n",
       "2     29710     32.00000 blue-collar   married  basic.6y            no     \n",
       "3     38938     70.00000 retired       married  high.school         no     \n",
       "4     31313     46.00000 services      married  high.school         no     \n",
       "5     24173     35.00000 technician    single   unknown             no     \n",
       "6     14426     24.00000 student       single   high.school         no     \n",
       "7     40159     33.00000 admin.        divorced high.school         no     \n",
       "8     12301     38.00000 admin.        married  high.school         no     \n",
       "9      9640     37.00000 blue-collar   single   basic.9y            unknown\n",
       "10    19742     36.00000 technician    married  university.degree   no     \n",
       "11     5967     41.00000 blue-collar   divorced basic.9y            unknown\n",
       "12    25559     44.00000 management    married  professional.course no     \n",
       "13    34976     33.00000 technician    married  high.school         no     \n",
       "14    38126     27.00000 self-employed single   university.degree   no     \n",
       "15    17369     41.00000 blue-collar   married  basic.4y            no     \n",
       "16    40632     34.00000 services      married  high.school         no     \n",
       "17    37544     44.00000 blue-collar   married  basic.4y            no     \n",
       "18    11284     32.00000 admin.        single   university.degree   no     \n",
       "19    36717     39.93562 technician    married  professional.course no     \n",
       "20    14536     32.00000 blue-collar   single   high.school         no     \n",
       "21    26503     41.00000 blue-collar   married  professional.course no     \n",
       "22    22763     46.00000 services      married  high.school         no     \n",
       "23    32953     30.00000 blue-collar   married  basic.9y            no     \n",
       "24      413     47.00000 management    married  basic.9y            no     \n",
       "25    10762     39.00000 admin.        married  university.degree   unknown\n",
       "26    14745     29.00000 entrepreneur  married  basic.9y            no     \n",
       "27    25946     72.00000 retired       divorced basic.4y            no     \n",
       "28    14804     32.00000 unemployed    single   professional.course no     \n",
       "29     6790     32.00000 blue-collar   married  basic.9y            no     \n",
       "30    30453     45.00000 technician    single   university.degree   unknown\n",
       "<U+22EE>     <U+22EE>  <U+22EE> <U+22EE>      <U+22EE> <U+22EE>            <U+22EE>\n",
       "9971   3688     43       admin.        married  university.degree   no     \n",
       "9972  13542     52       technician    married  professional.course no     \n",
       "9973  21023     30       technician    single   professional.course unknown\n",
       "9974   5277     25       unemployed    single   high.school         unknown\n",
       "9975  15316     37       blue-collar   married  basic.4y            unknown\n",
       "9976    633     43       admin.        divorced university.degree   no     \n",
       "9977   8520     29       admin.        single   basic.9y            unknown\n",
       "9978  38410     35       unknown       married  basic.9y            no     \n",
       "9979  31552     45       services      married  basic.9y            no     \n",
       "9980  18572     28       blue-collar   married  basic.4y            no     \n",
       "9981   3054     49       admin.        married  university.degree   unknown\n",
       "9982  14279     33       self-employed married  basic.9y            unknown\n",
       "9983   5006     40       services      married  high.school         unknown\n",
       "9984  19290     31       admin.        married  university.degree   no     \n",
       "9985  27375     36       blue-collar   married  basic.9y            no     \n",
       "9986   8214     88       retired       divorced basic.4y            no     \n",
       "9987  39327     38       blue-collar   married  basic.4y            no     \n",
       "9988  37751     51       admin.        married  university.degree   no     \n",
       "9989  11511     36       admin.        married  high.school         no     \n",
       "9990  18459     53       services      divorced basic.9y            no     \n",
       "9991  18088     29       management    single   university.degree   no     \n",
       "9992  29838     34       blue-collar   married  professional.course no     \n",
       "9993  15880     34       technician    married  professional.course no     \n",
       "9994  32002     49       admin.        married  high.school         no     \n",
       "9995  34275     31       services      married  university.degree   no     \n",
       "9996    880     31       admin.        divorced university.degree   no     \n",
       "9997  28072     21       self-employed single   university.degree   no     \n",
       "9998  40491     39       housemaid     married  basic.4y            no     \n",
       "9999   5310     32       technician    single   university.degree   no     \n",
       "10000  6154     50       technician    married  university.degree   no     \n",
       "      housing loan    contact   month <U+22EF>        poutcome    emp.var.rate\n",
       "1     no      no      cellular  jul   <U+22EF> nonexistent  1.4        \n",
       "2     yes     no      telephone jul   <U+22EF> nonexistent  1.4        \n",
       "3     yes     no      cellular  aug   <U+22EF> nonexistent -2.9        \n",
       "4     no      no      cellular  apr   <U+22EF> failure     -1.8        \n",
       "5     no      no      cellular  may   <U+22EF> failure     -1.8        \n",
       "6     yes     no      cellular  may   <U+22EF> success     -1.8        \n",
       "7     no      no      telephone apr   <U+22EF> nonexistent -1.8        \n",
       "8     yes     no      telephone jul   <U+22EF> nonexistent  1.4        \n",
       "9     no      no      telephone may   <U+22EF> nonexistent  1.1        \n",
       "10    no      no      cellular  jun   <U+22EF> success     -2.9        \n",
       "11    no      no      telephone may   <U+22EF> nonexistent  1.1        \n",
       "12    no      no      cellular  apr   <U+22EF> failure     -1.8        \n",
       "13    yes     yes     cellular  aug   <U+22EF> nonexistent  1.4        \n",
       "14    no      no      telephone oct   <U+22EF> nonexistent -1.1        \n",
       "15    no      yes     telephone jun   <U+22EF> nonexistent  1.4        \n",
       "16    no      no      telephone jun   <U+22EF> nonexistent  1.4        \n",
       "17    yes     no      cellular  jul   <U+22EF> nonexistent  1.4        \n",
       "18    yes     no      cellular  aug   <U+22EF> nonexistent  1.4        \n",
       "19    yes     no      telephone may   <U+22EF> failure     -1.8        \n",
       "20    unknown unknown cellular  nov   <U+22EF> nonexistent -0.1        \n",
       "21    yes     no      telephone jun   <U+22EF> nonexistent  1.4        \n",
       "22    yes     yes     telephone jul   <U+22EF> nonexistent  1.4        \n",
       "23    yes     no      cellular  nov   <U+22EF> failure     -0.1        \n",
       "24    no      no      cellular  jun   <U+22EF> nonexistent -2.9        \n",
       "25    yes     no      cellular  aug   <U+22EF> nonexistent  1.4        \n",
       "26    yes     no      cellular  nov   <U+22EF> nonexistent -0.1        \n",
       "27    yes     yes     cellular  aug   <U+22EF> failure     -2.9        \n",
       "28    yes     yes     cellular  jun   <U+22EF> nonexistent -1.7        \n",
       "29    no      no      telephone may   <U+22EF> nonexistent  1.1        \n",
       "30    no      no      cellular  aug   <U+22EF> nonexistent  1.4        \n",
       "<U+22EE>     <U+22EE> <U+22EE> <U+22EE>  <U+22EE> <U+22F1> <U+22EE>    <U+22EE>    \n",
       "9971  yes     yes     cellular  aug   <U+22EF> nonexistent  1.4        \n",
       "9972  yes     no      cellular  jul   <U+22EF> nonexistent  1.4        \n",
       "9973  yes     no      cellular  aug   <U+22EF> nonexistent  1.4        \n",
       "9974  yes     no      telephone jun   <U+22EF> nonexistent  1.4        \n",
       "9975  no      no      telephone may   <U+22EF> nonexistent  1.1        \n",
       "9976  no      no      cellular  jul   <U+22EF> nonexistent  1.4        \n",
       "9977  no      no      cellular  may   <U+22EF> nonexistent -1.8        \n",
       "9978  unknown no      telephone may   <U+22EF> nonexistent  1.1        \n",
       "9979  no      yes     telephone may   <U+22EF> nonexistent  1.1        \n",
       "9980  yes     no      cellular  jul   <U+22EF> nonexistent  1.4        \n",
       "9981  yes     no      cellular  aug   <U+22EF> nonexistent  1.4        \n",
       "9982  no      no      cellular  aug   <U+22EF> nonexistent  1.4        \n",
       "9983  yes     no      telephone may   <U+22EF> nonexistent  1.1        \n",
       "9984  no      no      cellular  nov   <U+22EF> nonexistent -0.1        \n",
       "9985  no      no      telephone may   <U+22EF> nonexistent  1.1        \n",
       "9986  no      no      cellular  oct   <U+22EF> success     -3.4        \n",
       "9987  yes     no      cellular  nov   <U+22EF> nonexistent -0.1        \n",
       "9988  yes     no      cellular  aug   <U+22EF> nonexistent  1.4        \n",
       "9989  yes     no      telephone may   <U+22EF> nonexistent  1.1        \n",
       "9990  yes     no      cellular  jul   <U+22EF> nonexistent  1.4        \n",
       "9991  no      no      cellular  aug   <U+22EF> nonexistent  1.4        \n",
       "9992  no      no      cellular  apr   <U+22EF> nonexistent -1.8        \n",
       "9993  no      no      cellular  aug   <U+22EF> nonexistent  1.4        \n",
       "9994  yes     yes     cellular  jul   <U+22EF> nonexistent  1.4        \n",
       "9995  yes     no      cellular  aug   <U+22EF> nonexistent  1.4        \n",
       "9996  yes     yes     cellular  may   <U+22EF> nonexistent -1.8        \n",
       "9997  yes     no      cellular  apr   <U+22EF> nonexistent -1.8        \n",
       "9998  yes     yes     cellular  aug   <U+22EF> nonexistent  1.4        \n",
       "9999  yes     yes     cellular  aug   <U+22EF> nonexistent  1.4        \n",
       "10000 no      no      cellular  jul   <U+22EF> nonexistent  1.4        \n",
       "      cons.price.idx cons.conf.idx euribor3m nr.employed missing_age\n",
       "1     93.918         -42.7         4.961     5228.1      0          \n",
       "2     93.918         -42.7         4.963     5228.1      0          \n",
       "3     92.201         -31.4         0.883     5076.2      0          \n",
       "4     93.075         -47.1         1.405     5099.1      0          \n",
       "5     92.893         -46.2         1.266     5099.1      0          \n",
       "6     93.876         -40.0         0.668     5008.7      0          \n",
       "7     93.075         -47.1         1.405     5099.1      0          \n",
       "8     93.918         -42.7         4.968     5228.1      0          \n",
       "9     93.994         -36.4         4.860     5191.0      0          \n",
       "10    92.963         -40.8         1.266     5076.2      0          \n",
       "11    93.994         -36.4         4.857     5191.0      0          \n",
       "12    93.075         -47.1         1.405     5099.1      0          \n",
       "13    93.444         -36.1         4.965     5228.1      0          \n",
       "14    94.601         -49.5         1.029     4963.6      0          \n",
       "15    94.465         -41.8         4.864     5228.1      0          \n",
       "16    94.465         -41.8         4.958     5228.1      0          \n",
       "17    93.918         -42.7         4.962     5228.1      0          \n",
       "18    93.444         -36.1         4.963     5228.1      0          \n",
       "19    92.893         -46.2         1.281     5099.1      1          \n",
       "20    93.200         -42.0         4.120     5195.8      0          \n",
       "21    94.465         -41.8         4.959     5228.1      0          \n",
       "22    93.918         -42.7         4.963     5228.1      0          \n",
       "23    93.200         -42.0         4.021     5195.8      0          \n",
       "24    92.963         -40.8         1.262     5076.2      0          \n",
       "25    93.444         -36.1         4.964     5228.1      0          \n",
       "26    93.200         -42.0         4.120     5195.8      0          \n",
       "27    92.201         -31.4         0.873     5076.2      0          \n",
       "28    94.055         -39.8         0.704     4991.6      0          \n",
       "29    93.994         -36.4         4.857     5191.0      0          \n",
       "30    93.444         -36.1         4.963     5228.1      0          \n",
       "<U+22EE>     <U+22EE>       <U+22EE>      <U+22EE>  <U+22EE>    <U+22EE>   \n",
       "9971  93.444         -36.1         4.970     5228.1      0          \n",
       "9972  93.918         -42.7         4.958     5228.1      0          \n",
       "9973  93.444         -36.1         4.964     5228.1      0          \n",
       "9974  94.465         -41.8         4.960     5228.1      0          \n",
       "9975  93.994         -36.4         4.857     5191.0      0          \n",
       "9976  93.918         -42.7         4.963     5228.1      0          \n",
       "9977  92.893         -46.2         1.266     5099.1      0          \n",
       "9978  93.994         -36.4         4.860     5191.0      0          \n",
       "9979  93.994         -36.4         4.858     5191.0      0          \n",
       "9980  93.918         -42.7         4.960     5228.1      0          \n",
       "9981  93.444         -36.1            NA     5228.1      0          \n",
       "9982  93.444         -36.1         4.966     5228.1      0          \n",
       "9983  93.994         -36.4         4.857     5191.0      0          \n",
       "9984  93.200         -42.0         4.076     5195.8      0          \n",
       "9985  93.994         -36.4         4.859     5191.0      0          \n",
       "9986  92.431         -26.9         0.735     5017.5      0          \n",
       "9987  93.200         -42.0         4.191     5195.8      0          \n",
       "9988  93.444         -36.1         4.964     5228.1      0          \n",
       "9989  93.994         -36.4         4.856     5191.0      0          \n",
       "9990  93.918         -42.7         4.957     5228.1      0          \n",
       "9991  93.444         -36.1         4.963     5228.1      0          \n",
       "9992  93.075         -47.1         1.405     5099.1      0          \n",
       "9993  93.444         -36.1         4.963     5228.1      0          \n",
       "9994  93.918         -42.7         4.962     5228.1      0          \n",
       "9995  93.444         -36.1         4.963     5228.1      0          \n",
       "9996  92.893         -46.2         1.354     5099.1      0          \n",
       "9997  93.075         -47.1         1.405     5099.1      0          \n",
       "9998  93.444         -36.1         4.964     5228.1      0          \n",
       "9999  93.444         -36.1         4.965     5228.1      0          \n",
       "10000 93.918         -42.7         4.962     5228.1      0          \n",
       "      missing_campaign replace999 missing_pdays\n",
       "1     0                0          0            \n",
       "2     0                0          0            \n",
       "3     0                0          0            \n",
       "4     0                0          0            \n",
       "5     0                0          0            \n",
       "6     0                0          0            \n",
       "7     0                0          0            \n",
       "8     0                0          0            \n",
       "9     0                0          0            \n",
       "10    0                0          0            \n",
       "11    0                0          0            \n",
       "12    0                0          0            \n",
       "13    0                0          0            \n",
       "14    0                0          0            \n",
       "15    0                0          0            \n",
       "16    0                0          0            \n",
       "17    0                0          0            \n",
       "18    0                0          0            \n",
       "19    0                0          0            \n",
       "20    0                0          0            \n",
       "21    0                0          0            \n",
       "22    0                0          0            \n",
       "23    0                0          0            \n",
       "24    0                0          0            \n",
       "25    0                0          0            \n",
       "26    0                0          0            \n",
       "27    0                0          0            \n",
       "28    0                0          0            \n",
       "29    0                0          0            \n",
       "30    0                0          0            \n",
       "<U+22EE>     <U+22EE>         <U+22EE>   <U+22EE>     \n",
       "9971  0                0          0            \n",
       "9972  0                0          0            \n",
       "9973  0                0          0            \n",
       "9974  0                0          0            \n",
       "9975  0                0          0            \n",
       "9976  0                0          0            \n",
       "9977  0                0          0            \n",
       "9978  0                0          0            \n",
       "9979  0                0          0            \n",
       "9980  1                0          0            \n",
       "9981  0                0          0            \n",
       "9982  0                0          0            \n",
       "9983  0                0          0            \n",
       "9984  0                0          0            \n",
       "9985  0                0          0            \n",
       "9986  0                0          0            \n",
       "9987  0                0          0            \n",
       "9988  0                0          0            \n",
       "9989  0                0          0            \n",
       "9990  0                0          0            \n",
       "9991  0                0          0            \n",
       "9992  0                0          0            \n",
       "9993  0                0          0            \n",
       "9994  0                0          0            \n",
       "9995  0                0          0            \n",
       "9996  0                0          0            \n",
       "9997  0                0          0            \n",
       "9998  0                0          0            \n",
       "9999  0                0          0            \n",
       "10000 0                0          0            "
      ]
     },
     "metadata": {},
     "output_type": "display_data"
    }
   ],
   "source": [
    "test"
   ]
  },
  {
   "cell_type": "code",
   "execution_count": 72,
   "id": "08c32ef0",
   "metadata": {
    "lines_to_next_cell": 2
   },
   "outputs": [
    {
     "data": {
      "text/html": [
       "<table class=\"dataframe\">\n",
       "<caption>A data.frame: 8 × 2</caption>\n",
       "<thead>\n",
       "\t<tr><th scope=col>Var1</th><th scope=col>Freq</th></tr>\n",
       "\t<tr><th scope=col>&lt;fct&gt;</th><th scope=col>&lt;int&gt;</th></tr>\n",
       "</thead>\n",
       "<tbody>\n",
       "\t<tr><td>0</td><td>8511</td></tr>\n",
       "\t<tr><td>1</td><td>1115</td></tr>\n",
       "\t<tr><td>2</td><td> 188</td></tr>\n",
       "\t<tr><td>3</td><td>  51</td></tr>\n",
       "\t<tr><td>4</td><td>  23</td></tr>\n",
       "\t<tr><td>5</td><td>   4</td></tr>\n",
       "\t<tr><td>6</td><td>   2</td></tr>\n",
       "\t<tr><td>7</td><td>   1</td></tr>\n",
       "</tbody>\n",
       "</table>\n"
      ],
      "text/latex": [
       "A data.frame: 8 × 2\n",
       "\\begin{tabular}{ll}\n",
       " Var1 & Freq\\\\\n",
       " <fct> & <int>\\\\\n",
       "\\hline\n",
       "\t 0 & 8511\\\\\n",
       "\t 1 & 1115\\\\\n",
       "\t 2 &  188\\\\\n",
       "\t 3 &   51\\\\\n",
       "\t 4 &   23\\\\\n",
       "\t 5 &    4\\\\\n",
       "\t 6 &    2\\\\\n",
       "\t 7 &    1\\\\\n",
       "\\end{tabular}\n"
      ],
      "text/markdown": [
       "\n",
       "A data.frame: 8 × 2\n",
       "\n",
       "| Var1 &lt;fct&gt; | Freq &lt;int&gt; |\n",
       "|---|---|\n",
       "| 0 | 8511 |\n",
       "| 1 | 1115 |\n",
       "| 2 |  188 |\n",
       "| 3 |   51 |\n",
       "| 4 |   23 |\n",
       "| 5 |    4 |\n",
       "| 6 |    2 |\n",
       "| 7 |    1 |\n",
       "\n"
      ],
      "text/plain": [
       "  Var1 Freq\n",
       "1 0    8511\n",
       "2 1    1115\n",
       "3 2     188\n",
       "4 3      51\n",
       "5 4      23\n",
       "6 5       4\n",
       "7 6       2\n",
       "8 7       1"
      ]
     },
     "metadata": {},
     "output_type": "display_data"
    }
   ],
   "source": [
    "# For previous variable\n",
    "\n",
    "# We count the unique values frequency first\n",
    "as.data.frame(table(test$previous))"
   ]
  },
  {
   "cell_type": "code",
   "execution_count": 73,
   "id": "f659d9fd",
   "metadata": {
    "lines_to_next_cell": 2
   },
   "outputs": [],
   "source": [
    "# We can either replace missing values by the median + tracking missing or creating categorical variables with a new category\n",
    "# -> We will first try by assigning the median and tracking the missing data, we can improve this later for the modelling\n",
    "\n",
    "# First step: new variable \n",
    "test$missing_previous <- ifelse(is.na(test$previous) == TRUE, 1, 0)\n",
    "\n",
    "# Second step: replacing NA\n",
    "test$previous[is.na(test$previous)]<-median(test$previous,na.rm=TRUE)"
   ]
  },
  {
   "cell_type": "code",
   "execution_count": 74,
   "id": "87d2a677",
   "metadata": {
    "lines_to_next_cell": 2
   },
   "outputs": [],
   "source": [
    "# Finally, emp.var.rate, cons.price.idx, cons.conf.idx, euribor3m, nr.employed will be replaced by the mean\n",
    "\n",
    "# First step: new variables \n",
    "test$missing_emp.var.rate <- ifelse(is.na(test$emp.var.rate) == TRUE, 1, 0)\n",
    "test$missing_cons.price.idx <- ifelse(is.na(test$cons.price.idx) == TRUE, 1, 0)\n",
    "test$missing_cons.conf.idx <- ifelse(is.na(test$cons.conf.idx) == TRUE, 1, 0)\n",
    "test$missing_euribor3m <- ifelse(is.na(test$euribor3m) == TRUE, 1, 0)\n",
    "test$missing_nr.employed <- ifelse(is.na(test$nr.employed) == TRUE, 1, 0)\n",
    "\n",
    "# Second step: replacing NA\n",
    "test$emp.var.rate[is.na(test$emp.var.rate)]<-mean(test$emp.var.rate,na.rm=TRUE)\n",
    "test$cons.price.idx[is.na(test$cons.price.idx)]<-mean(test$cons.price.idx,na.rm=TRUE)\n",
    "test$cons.conf.idx[is.na(test$cons.conf.idx)]<-mean(test$cons.conf.idx,na.rm=TRUE)\n",
    "test$euribor3m[is.na(test$euribor3m)]<-mean(test$euribor3m,na.rm=TRUE)\n",
    "test$nr.employed[is.na(test$nr.employed)]<-mean(test$nr.employed,na.rm=TRUE)"
   ]
  },
  {
   "cell_type": "code",
   "execution_count": 75,
   "id": "98192c6a",
   "metadata": {
    "lines_to_next_cell": 2
   },
   "outputs": [
    {
     "data": {
      "text/html": [
       "<style>\n",
       ".dl-inline {width: auto; margin:0; padding: 0}\n",
       ".dl-inline>dt, .dl-inline>dd {float: none; width: auto; display: inline-block}\n",
       ".dl-inline>dt::after {content: \":\\0020\"; padding-right: .5ex}\n",
       ".dl-inline>dt:not(:first-of-type) {padding-left: .5ex}\n",
       "</style><dl class=dl-inline><dt>client_id</dt><dd>0</dd><dt>age</dt><dd>0</dd><dt>job</dt><dd>0</dd><dt>marital</dt><dd>0</dd><dt>education</dt><dd>0</dd><dt>default</dt><dd>0</dd><dt>housing</dt><dd>0</dd><dt>loan</dt><dd>0</dd><dt>contact</dt><dd>0</dd><dt>month</dt><dd>0</dd><dt>day_of_week</dt><dd>0</dd><dt>campaign</dt><dd>0</dd><dt>pdays</dt><dd>0</dd><dt>previous</dt><dd>0</dd><dt>poutcome</dt><dd>0</dd><dt>emp.var.rate</dt><dd>0</dd><dt>cons.price.idx</dt><dd>0</dd><dt>cons.conf.idx</dt><dd>0</dd><dt>euribor3m</dt><dd>0</dd><dt>nr.employed</dt><dd>0</dd><dt>missing_age</dt><dd>0</dd><dt>missing_campaign</dt><dd>0</dd><dt>replace999</dt><dd>0</dd><dt>missing_pdays</dt><dd>0</dd><dt>missing_previous</dt><dd>0</dd><dt>missing_emp.var.rate</dt><dd>0</dd><dt>missing_cons.price.idx</dt><dd>0</dd><dt>missing_cons.conf.idx</dt><dd>0</dd><dt>missing_euribor3m</dt><dd>0</dd><dt>missing_nr.employed</dt><dd>0</dd></dl>\n"
      ],
      "text/latex": [
       "\\begin{description*}\n",
       "\\item[client\\textbackslash{}\\_id] 0\n",
       "\\item[age] 0\n",
       "\\item[job] 0\n",
       "\\item[marital] 0\n",
       "\\item[education] 0\n",
       "\\item[default] 0\n",
       "\\item[housing] 0\n",
       "\\item[loan] 0\n",
       "\\item[contact] 0\n",
       "\\item[month] 0\n",
       "\\item[day\\textbackslash{}\\_of\\textbackslash{}\\_week] 0\n",
       "\\item[campaign] 0\n",
       "\\item[pdays] 0\n",
       "\\item[previous] 0\n",
       "\\item[poutcome] 0\n",
       "\\item[emp.var.rate] 0\n",
       "\\item[cons.price.idx] 0\n",
       "\\item[cons.conf.idx] 0\n",
       "\\item[euribor3m] 0\n",
       "\\item[nr.employed] 0\n",
       "\\item[missing\\textbackslash{}\\_age] 0\n",
       "\\item[missing\\textbackslash{}\\_campaign] 0\n",
       "\\item[replace999] 0\n",
       "\\item[missing\\textbackslash{}\\_pdays] 0\n",
       "\\item[missing\\textbackslash{}\\_previous] 0\n",
       "\\item[missing\\textbackslash{}\\_emp.var.rate] 0\n",
       "\\item[missing\\textbackslash{}\\_cons.price.idx] 0\n",
       "\\item[missing\\textbackslash{}\\_cons.conf.idx] 0\n",
       "\\item[missing\\textbackslash{}\\_euribor3m] 0\n",
       "\\item[missing\\textbackslash{}\\_nr.employed] 0\n",
       "\\end{description*}\n"
      ],
      "text/markdown": [
       "client_id\n",
       ":   0age\n",
       ":   0job\n",
       ":   0marital\n",
       ":   0education\n",
       ":   0default\n",
       ":   0housing\n",
       ":   0loan\n",
       ":   0contact\n",
       ":   0month\n",
       ":   0day_of_week\n",
       ":   0campaign\n",
       ":   0pdays\n",
       ":   0previous\n",
       ":   0poutcome\n",
       ":   0emp.var.rate\n",
       ":   0cons.price.idx\n",
       ":   0cons.conf.idx\n",
       ":   0euribor3m\n",
       ":   0nr.employed\n",
       ":   0missing_age\n",
       ":   0missing_campaign\n",
       ":   0replace999\n",
       ":   0missing_pdays\n",
       ":   0missing_previous\n",
       ":   0missing_emp.var.rate\n",
       ":   0missing_cons.price.idx\n",
       ":   0missing_cons.conf.idx\n",
       ":   0missing_euribor3m\n",
       ":   0missing_nr.employed\n",
       ":   0\n",
       "\n"
      ],
      "text/plain": [
       "             client_id                    age                    job \n",
       "                     0                      0                      0 \n",
       "               marital              education                default \n",
       "                     0                      0                      0 \n",
       "               housing                   loan                contact \n",
       "                     0                      0                      0 \n",
       "                 month            day_of_week               campaign \n",
       "                     0                      0                      0 \n",
       "                 pdays               previous               poutcome \n",
       "                     0                      0                      0 \n",
       "          emp.var.rate         cons.price.idx          cons.conf.idx \n",
       "                     0                      0                      0 \n",
       "             euribor3m            nr.employed            missing_age \n",
       "                     0                      0                      0 \n",
       "      missing_campaign             replace999          missing_pdays \n",
       "                     0                      0                      0 \n",
       "      missing_previous   missing_emp.var.rate missing_cons.price.idx \n",
       "                     0                      0                      0 \n",
       " missing_cons.conf.idx      missing_euribor3m    missing_nr.employed \n",
       "                     0                      0                      0 "
      ]
     },
     "metadata": {},
     "output_type": "display_data"
    }
   ],
   "source": [
    "# Checking missing values per variables in test\n",
    "missing_values <- sapply(test, function(x) sum(is.na(x)))\n",
    "missing_values"
   ]
  },
  {
   "cell_type": "code",
   "execution_count": 76,
   "id": "aef12a8f",
   "metadata": {
    "lines_to_next_cell": 2
   },
   "outputs": [
    {
     "name": "stdout",
     "output_type": "stream",
     "text": [
      "'data.frame':\t10000 obs. of  30 variables:\n",
      " $ client_id             : int  2986 29710 38938 31313 24173 14426 40159 12301 9640 19742 ...\n",
      " $ age                   : num  53 32 70 46 35 24 33 38 37 36 ...\n",
      " $ job                   : chr  \"technician\" \"blue-collar\" \"retired\" \"services\" ...\n",
      " $ marital               : chr  \"single\" \"married\" \"married\" \"married\" ...\n",
      " $ education             : chr  \"professional.course\" \"basic.6y\" \"high.school\" \"high.school\" ...\n",
      " $ default               : chr  \"no\" \"no\" \"no\" \"no\" ...\n",
      " $ housing               : chr  \"no\" \"yes\" \"yes\" \"no\" ...\n",
      " $ loan                  : chr  \"no\" \"no\" \"no\" \"no\" ...\n",
      " $ contact               : chr  \"cellular\" \"telephone\" \"cellular\" \"cellular\" ...\n",
      " $ month                 : chr  \"jul\" \"jul\" \"aug\" \"apr\" ...\n",
      " $ day_of_week           : chr  \"tue\" \"wed\" \"tue\" \"mon\" ...\n",
      " $ campaign              : num  1 2 1 1 1 2 3 18 5 1 ...\n",
      " $ pdays                 : num  0 0 0 0 0 6 0 0 0 3 ...\n",
      " $ previous              : int  0 0 0 1 1 2 0 0 0 1 ...\n",
      " $ poutcome              : chr  \"nonexistent\" \"nonexistent\" \"nonexistent\" \"failure\" ...\n",
      " $ emp.var.rate          : num  1.4 1.4 -2.9 -1.8 -1.8 -1.8 -1.8 1.4 1.1 -2.9 ...\n",
      " $ cons.price.idx        : num  93.9 93.9 92.2 93.1 92.9 ...\n",
      " $ cons.conf.idx         : num  -42.7 -42.7 -31.4 -47.1 -46.2 -40 -47.1 -42.7 -36.4 -40.8 ...\n",
      " $ euribor3m             : num  4.961 4.963 0.883 1.405 1.266 ...\n",
      " $ nr.employed           : num  5228 5228 5076 5099 5099 ...\n",
      " $ missing_age           : num  0 0 0 0 0 0 0 0 0 0 ...\n",
      " $ missing_campaign      : num  0 0 0 0 0 0 0 0 0 0 ...\n",
      " $ replace999            : num  0 0 0 0 0 0 0 0 0 0 ...\n",
      " $ missing_pdays         : num  0 0 0 0 0 0 0 0 0 0 ...\n",
      " $ missing_previous      : num  0 0 0 0 0 0 0 0 0 0 ...\n",
      " $ missing_emp.var.rate  : num  0 0 0 0 0 0 0 0 0 0 ...\n",
      " $ missing_cons.price.idx: num  0 0 0 0 0 0 0 0 0 0 ...\n",
      " $ missing_cons.conf.idx : num  0 0 0 0 0 0 0 0 0 0 ...\n",
      " $ missing_euribor3m     : num  0 0 0 0 0 0 0 0 0 0 ...\n",
      " $ missing_nr.employed   : num  0 0 0 0 0 0 0 0 0 0 ...\n"
     ]
    }
   ],
   "source": [
    "# See final test table \n",
    "\n",
    "str(test)"
   ]
  },
  {
   "cell_type": "code",
   "execution_count": 77,
   "id": "87f4e931",
   "metadata": {
    "lines_to_next_cell": 2
   },
   "outputs": [],
   "source": [
    "# From the correlation in train set we decided to remove some variables not correlated to our target. We will also delete them for our test set. It was day, loan and trackers variables\n",
    "\n",
    "test = subset(test, select=-c(client_id, loan, day_of_week, missing_age, missing_campaign, replace999, missing_pdays, missing_previous, missing_emp.var.rate, missing_cons.price.idx, missing_cons.conf.idx, missing_euribor3m , missing_nr.employed))"
   ]
  },
  {
   "cell_type": "markdown",
   "id": "b090da7c",
   "metadata": {
    "lines_to_next_cell": 2
   },
   "source": [
    "\n",
    "### Last steps before Modeling Test"
   ]
  },
  {
   "cell_type": "code",
   "execution_count": 78,
   "id": "21647b1f",
   "metadata": {
    "lines_to_next_cell": 2
   },
   "outputs": [
    {
     "name": "stdout",
     "output_type": "stream",
     "text": [
      "'data.frame':\t10000 obs. of  17 variables:\n",
      " $ age           : num  53 32 70 46 35 24 33 38 37 36 ...\n",
      " $ job           : chr  \"technician\" \"blue-collar\" \"retired\" \"services\" ...\n",
      " $ marital       : chr  \"single\" \"married\" \"married\" \"married\" ...\n",
      " $ education     : chr  \"professional.course\" \"basic.6y\" \"high.school\" \"high.school\" ...\n",
      " $ default       : chr  \"no\" \"no\" \"no\" \"no\" ...\n",
      " $ housing       : chr  \"no\" \"yes\" \"yes\" \"no\" ...\n",
      " $ contact       : chr  \"cellular\" \"telephone\" \"cellular\" \"cellular\" ...\n",
      " $ month         : chr  \"jul\" \"jul\" \"aug\" \"apr\" ...\n",
      " $ campaign      : num  1 2 1 1 1 2 3 18 5 1 ...\n",
      " $ pdays         : num  0 0 0 0 0 6 0 0 0 3 ...\n",
      " $ previous      : int  0 0 0 1 1 2 0 0 0 1 ...\n",
      " $ poutcome      : chr  \"nonexistent\" \"nonexistent\" \"nonexistent\" \"failure\" ...\n",
      " $ emp.var.rate  : num  1.4 1.4 -2.9 -1.8 -1.8 -1.8 -1.8 1.4 1.1 -2.9 ...\n",
      " $ cons.price.idx: num  93.9 93.9 92.2 93.1 92.9 ...\n",
      " $ cons.conf.idx : num  -42.7 -42.7 -31.4 -47.1 -46.2 -40 -47.1 -42.7 -36.4 -40.8 ...\n",
      " $ euribor3m     : num  4.961 4.963 0.883 1.405 1.266 ...\n",
      " $ nr.employed   : num  5228 5228 5076 5099 5099 ...\n"
     ]
    }
   ],
   "source": [
    "str(test)"
   ]
  },
  {
   "cell_type": "markdown",
   "id": "aa9fda6c",
   "metadata": {
    "lines_to_next_cell": 2
   },
   "source": [
    "\n",
    "#### 1. Replacing categorical string by numerical category"
   ]
  },
  {
   "cell_type": "markdown",
   "id": "50af0095",
   "metadata": {
    "lines_to_next_cell": 2
   },
   "source": [
    "\n",
    "These variables are job, marital, education, default, housing, contact, month and poutcome "
   ]
  },
  {
   "cell_type": "code",
   "execution_count": 79,
   "id": "6a7f9bc2",
   "metadata": {
    "lines_to_next_cell": 2
   },
   "outputs": [
    {
     "data": {
      "text/html": [
       "<style>\n",
       ".list-inline {list-style: none; margin:0; padding: 0}\n",
       ".list-inline>li {display: inline-block}\n",
       ".list-inline>li:not(:last-child)::after {content: \"\\00b7\"; padding: 0 .5ex}\n",
       "</style>\n",
       "<ol class=list-inline><li>'6'</li><li>'4'</li><li>'3'</li><li>'8'</li><li>'2'</li><li>'9'</li><li>'11'</li><li>'7'</li><li>'10'</li><li>'1'</li><li>'5'</li><li>'0'</li></ol>\n"
      ],
      "text/latex": [
       "\\begin{enumerate*}\n",
       "\\item '6'\n",
       "\\item '4'\n",
       "\\item '3'\n",
       "\\item '8'\n",
       "\\item '2'\n",
       "\\item '9'\n",
       "\\item '11'\n",
       "\\item '7'\n",
       "\\item '10'\n",
       "\\item '1'\n",
       "\\item '5'\n",
       "\\item '0'\n",
       "\\end{enumerate*}\n"
      ],
      "text/markdown": [
       "1. '6'\n",
       "2. '4'\n",
       "3. '3'\n",
       "4. '8'\n",
       "5. '2'\n",
       "6. '9'\n",
       "7. '11'\n",
       "8. '7'\n",
       "9. '10'\n",
       "10. '1'\n",
       "11. '5'\n",
       "12. '0'\n",
       "\n",
       "\n"
      ],
      "text/plain": [
       " [1] \"6\"  \"4\"  \"3\"  \"8\"  \"2\"  \"9\"  \"11\" \"7\"  \"10\" \"1\"  \"5\"  \"0\" "
      ]
     },
     "metadata": {},
     "output_type": "display_data"
    }
   ],
   "source": [
    "# Jobs\n",
    "\n",
    "# Replacing job category in numerical category\n",
    "\n",
    "test[\"job\"][test[\"job\"] == \"management\"] <- 11\n",
    "test[\"job\"][test[\"job\"] == \"entrepreneur\"] <- 10\n",
    "test[\"job\"][test[\"job\"] == \"admin.\"] <- 9\n",
    "test[\"job\"][test[\"job\"] == \"services\"] <- 8\n",
    "test[\"job\"][test[\"job\"] == \"self-employed\"] <- 7\n",
    "test[\"job\"][test[\"job\"] == \"technician\"] <- 6\n",
    "test[\"job\"][test[\"job\"] == \"housemaid\"] <- 5\n",
    "test[\"job\"][test[\"job\"] == \"blue-collar\"] <- 4\n",
    "test[\"job\"][test[\"job\"] == \"retired\"] <- 3\n",
    "test[\"job\"][test[\"job\"] == \"student\"] <- 2\n",
    "test[\"job\"][test[\"job\"] == \"unemployed\"] <- 1\n",
    "test[\"job\"][test[\"job\"] == \"unknown\"] <- 0\n",
    "\n",
    "# Checking for unique value \n",
    "unique(test$job)"
   ]
  },
  {
   "cell_type": "code",
   "execution_count": 80,
   "id": "dd52d3a6",
   "metadata": {
    "lines_to_next_cell": 2
   },
   "outputs": [
    {
     "data": {
      "text/html": [
       "<style>\n",
       ".list-inline {list-style: none; margin:0; padding: 0}\n",
       ".list-inline>li {display: inline-block}\n",
       ".list-inline>li:not(:last-child)::after {content: \"\\00b7\"; padding: 0 .5ex}\n",
       "</style>\n",
       "<ol class=list-inline><li>'1'</li><li>'3'</li><li>'2'</li><li>'0'</li></ol>\n"
      ],
      "text/latex": [
       "\\begin{enumerate*}\n",
       "\\item '1'\n",
       "\\item '3'\n",
       "\\item '2'\n",
       "\\item '0'\n",
       "\\end{enumerate*}\n"
      ],
      "text/markdown": [
       "1. '1'\n",
       "2. '3'\n",
       "3. '2'\n",
       "4. '0'\n",
       "\n",
       "\n"
      ],
      "text/plain": [
       "[1] \"1\" \"3\" \"2\" \"0\""
      ]
     },
     "metadata": {},
     "output_type": "display_data"
    }
   ],
   "source": [
    "# Marital\n",
    "\n",
    "# Replacing with numerical category\n",
    "test[\"marital\"][test[\"marital\"] == \"married\"] <- 3\n",
    "test[\"marital\"][test[\"marital\"] == \"divorced\"] <- 2\n",
    "test[\"marital\"][test[\"marital\"] == \"single\"] <- 1\n",
    "test[\"marital\"][test[\"marital\"] == \"unknown\"] <- 0\n",
    "\n",
    "# Checking for unique value \n",
    "unique(test$marital)"
   ]
  },
  {
   "cell_type": "code",
   "execution_count": 81,
   "id": "5577a80f",
   "metadata": {
    "lines_to_next_cell": 2
   },
   "outputs": [
    {
     "data": {
      "text/html": [
       "<style>\n",
       ".list-inline {list-style: none; margin:0; padding: 0}\n",
       ".list-inline>li {display: inline-block}\n",
       ".list-inline>li:not(:last-child)::after {content: \"\\00b7\"; padding: 0 .5ex}\n",
       "</style>\n",
       "<ol class=list-inline><li>'7'</li><li>'3'</li><li>'5'</li><li>'0'</li><li>'4'</li><li>'6'</li><li>'2'</li><li>'1'</li></ol>\n"
      ],
      "text/latex": [
       "\\begin{enumerate*}\n",
       "\\item '7'\n",
       "\\item '3'\n",
       "\\item '5'\n",
       "\\item '0'\n",
       "\\item '4'\n",
       "\\item '6'\n",
       "\\item '2'\n",
       "\\item '1'\n",
       "\\end{enumerate*}\n"
      ],
      "text/markdown": [
       "1. '7'\n",
       "2. '3'\n",
       "3. '5'\n",
       "4. '0'\n",
       "5. '4'\n",
       "6. '6'\n",
       "7. '2'\n",
       "8. '1'\n",
       "\n",
       "\n"
      ],
      "text/plain": [
       "[1] \"7\" \"3\" \"5\" \"0\" \"4\" \"6\" \"2\" \"1\""
      ]
     },
     "metadata": {},
     "output_type": "display_data"
    }
   ],
   "source": [
    "# Education\n",
    "\n",
    "# Replacing with numerical category\n",
    "test[\"education\"][test[\"education\"] == \"professional.course\"] <- 7\n",
    "test[\"education\"][test[\"education\"] == \"university.degree\"] <- 6\n",
    "test[\"education\"][test[\"education\"] == \"high.school\"] <- 5\n",
    "test[\"education\"][test[\"education\"] == \"basic.9y\"] <- 4\n",
    "test[\"education\"][test[\"education\"] == \"basic.6y\"] <- 3\n",
    "test[\"education\"][test[\"education\"] == \"basic.4y\"] <- 2\n",
    "test[\"education\"][test[\"education\"] == \"illiterate\"] <- 1\n",
    "test[\"education\"][test[\"education\"] == \"unknown\"] <- 0\n",
    "\n",
    "# Checking for unique value \n",
    "unique(test$education)"
   ]
  },
  {
   "cell_type": "code",
   "execution_count": 82,
   "id": "89d9db63",
   "metadata": {},
   "outputs": [
    {
     "data": {
      "text/html": [
       "<style>\n",
       ".list-inline {list-style: none; margin:0; padding: 0}\n",
       ".list-inline>li {display: inline-block}\n",
       ".list-inline>li:not(:last-child)::after {content: \"\\00b7\"; padding: 0 .5ex}\n",
       "</style>\n",
       "<ol class=list-inline><li>'no'</li><li>'unknown'</li></ol>\n"
      ],
      "text/latex": [
       "\\begin{enumerate*}\n",
       "\\item 'no'\n",
       "\\item 'unknown'\n",
       "\\end{enumerate*}\n"
      ],
      "text/markdown": [
       "1. 'no'\n",
       "2. 'unknown'\n",
       "\n",
       "\n"
      ],
      "text/plain": [
       "[1] \"no\"      \"unknown\""
      ]
     },
     "metadata": {},
     "output_type": "display_data"
    }
   ],
   "source": [
    "unique(test$default)"
   ]
  },
  {
   "cell_type": "code",
   "execution_count": 83,
   "id": "d3806b70",
   "metadata": {
    "lines_to_next_cell": 2
   },
   "outputs": [
    {
     "data": {
      "text/html": [
       "<style>\n",
       ".list-inline {list-style: none; margin:0; padding: 0}\n",
       ".list-inline>li {display: inline-block}\n",
       ".list-inline>li:not(:last-child)::after {content: \"\\00b7\"; padding: 0 .5ex}\n",
       "</style>\n",
       "<ol class=list-inline><li>'1'</li><li>'0'</li></ol>\n"
      ],
      "text/latex": [
       "\\begin{enumerate*}\n",
       "\\item '1'\n",
       "\\item '0'\n",
       "\\end{enumerate*}\n"
      ],
      "text/markdown": [
       "1. '1'\n",
       "2. '0'\n",
       "\n",
       "\n"
      ],
      "text/plain": [
       "[1] \"1\" \"0\""
      ]
     },
     "metadata": {},
     "output_type": "display_data"
    }
   ],
   "source": [
    "# Default\n",
    "\n",
    "# Replacing with numerical category\n",
    "test[\"default\"][test[\"default\"] == \"yes\"] <- 2\n",
    "test[\"default\"][test[\"default\"] == \"no\"] <- 1\n",
    "test[\"default\"][test[\"default\"] == \"unknown\"] <- 0\n",
    "levels(test$default) <- levels(train_data$default)\n",
    "# Checking for unique value \n",
    "unique(test$default)"
   ]
  },
  {
   "cell_type": "code",
   "execution_count": 84,
   "id": "676fbd38",
   "metadata": {
    "lines_to_next_cell": 2
   },
   "outputs": [
    {
     "data": {
      "text/html": [
       "<style>\n",
       ".list-inline {list-style: none; margin:0; padding: 0}\n",
       ".list-inline>li {display: inline-block}\n",
       ".list-inline>li:not(:last-child)::after {content: \"\\00b7\"; padding: 0 .5ex}\n",
       "</style>\n",
       "<ol class=list-inline><li>'1'</li><li>'2'</li><li>'0'</li></ol>\n"
      ],
      "text/latex": [
       "\\begin{enumerate*}\n",
       "\\item '1'\n",
       "\\item '2'\n",
       "\\item '0'\n",
       "\\end{enumerate*}\n"
      ],
      "text/markdown": [
       "1. '1'\n",
       "2. '2'\n",
       "3. '0'\n",
       "\n",
       "\n"
      ],
      "text/plain": [
       "[1] \"1\" \"2\" \"0\""
      ]
     },
     "metadata": {},
     "output_type": "display_data"
    }
   ],
   "source": [
    "# Housing\n",
    "\n",
    "# Replacing with numerical category\n",
    "test[\"housing\"][test[\"housing\"] == \"yes\"] <- 2\n",
    "test[\"housing\"][test[\"housing\"] == \"no\"] <- 1\n",
    "test[\"housing\"][test[\"housing\"] == \"unknown\"] <- 0\n",
    "\n",
    "# Checking for unique value \n",
    "unique(test$housing)"
   ]
  },
  {
   "cell_type": "code",
   "execution_count": 85,
   "id": "548d8cf0",
   "metadata": {
    "lines_to_next_cell": 2
   },
   "outputs": [
    {
     "data": {
      "text/html": [
       "<style>\n",
       ".list-inline {list-style: none; margin:0; padding: 0}\n",
       ".list-inline>li {display: inline-block}\n",
       ".list-inline>li:not(:last-child)::after {content: \"\\00b7\"; padding: 0 .5ex}\n",
       "</style>\n",
       "<ol class=list-inline><li>'2'</li><li>'1'</li><li>'0'</li></ol>\n"
      ],
      "text/latex": [
       "\\begin{enumerate*}\n",
       "\\item '2'\n",
       "\\item '1'\n",
       "\\item '0'\n",
       "\\end{enumerate*}\n"
      ],
      "text/markdown": [
       "1. '2'\n",
       "2. '1'\n",
       "3. '0'\n",
       "\n",
       "\n"
      ],
      "text/plain": [
       "[1] \"2\" \"1\" \"0\""
      ]
     },
     "metadata": {},
     "output_type": "display_data"
    }
   ],
   "source": [
    "# Contact\n",
    "\n",
    "# Replacing with numerical category\n",
    "test[\"contact\"][test[\"contact\"] == \"cellular\"] <- 2\n",
    "test[\"contact\"][test[\"contact\"] == \"telephone\"] <- 1\n",
    "test[\"contact\"][test[\"contact\"] == \"unknown\"] <- 0\n",
    "\n",
    "# Checking for unique value \n",
    "unique(test$contact)"
   ]
  },
  {
   "cell_type": "code",
   "execution_count": 86,
   "id": "e499a848",
   "metadata": {
    "lines_to_next_cell": 2
   },
   "outputs": [
    {
     "data": {
      "text/html": [
       "<style>\n",
       ".list-inline {list-style: none; margin:0; padding: 0}\n",
       ".list-inline>li {display: inline-block}\n",
       ".list-inline>li:not(:last-child)::after {content: \"\\00b7\"; padding: 0 .5ex}\n",
       "</style>\n",
       "<ol class=list-inline><li>'5'</li><li>'6'</li><li>'2'</li><li>'3'</li><li>'4'</li><li>'8'</li><li>'9'</li><li>'0'</li><li>'1'</li><li>'10'</li><li>'7'</li></ol>\n"
      ],
      "text/latex": [
       "\\begin{enumerate*}\n",
       "\\item '5'\n",
       "\\item '6'\n",
       "\\item '2'\n",
       "\\item '3'\n",
       "\\item '4'\n",
       "\\item '8'\n",
       "\\item '9'\n",
       "\\item '0'\n",
       "\\item '1'\n",
       "\\item '10'\n",
       "\\item '7'\n",
       "\\end{enumerate*}\n"
      ],
      "text/markdown": [
       "1. '5'\n",
       "2. '6'\n",
       "3. '2'\n",
       "4. '3'\n",
       "5. '4'\n",
       "6. '8'\n",
       "7. '9'\n",
       "8. '0'\n",
       "9. '1'\n",
       "10. '10'\n",
       "11. '7'\n",
       "\n",
       "\n"
      ],
      "text/plain": [
       " [1] \"5\"  \"6\"  \"2\"  \"3\"  \"4\"  \"8\"  \"9\"  \"0\"  \"1\"  \"10\" \"7\" "
      ]
     },
     "metadata": {},
     "output_type": "display_data"
    }
   ],
   "source": [
    "# Month\n",
    "\n",
    "# Replacing with numerical category\n",
    "test[\"month\"][test[\"month\"] == \"dec\"] <- 10\n",
    "test[\"month\"][test[\"month\"] == \"nov\"] <- 9\n",
    "test[\"month\"][test[\"month\"] == \"oct\"] <- 8\n",
    "test[\"month\"][test[\"month\"] == \"sep\"] <- 7\n",
    "test[\"month\"][test[\"month\"] == \"aug\"] <- 6\n",
    "test[\"month\"][test[\"month\"] == \"jul\"] <- 5\n",
    "test[\"month\"][test[\"month\"] == \"jun\"] <- 4\n",
    "test[\"month\"][test[\"month\"] == \"may\"] <- 3\n",
    "test[\"month\"][test[\"month\"] == \"apr\"] <- 2\n",
    "test[\"month\"][test[\"month\"] == \"mar\"] <- 1\n",
    "test[\"month\"][test[\"month\"] == \"unknown\"] <- 0\n",
    "\n",
    "# Checking for unique value \n",
    "unique(test$month)"
   ]
  },
  {
   "cell_type": "code",
   "execution_count": 87,
   "id": "b7bdf9ab",
   "metadata": {
    "lines_to_next_cell": 2
   },
   "outputs": [
    {
     "data": {
      "text/html": [
       "<style>\n",
       ".list-inline {list-style: none; margin:0; padding: 0}\n",
       ".list-inline>li {display: inline-block}\n",
       ".list-inline>li:not(:last-child)::after {content: \"\\00b7\"; padding: 0 .5ex}\n",
       "</style>\n",
       "<ol class=list-inline><li>'0'</li><li>'1'</li><li>'2'</li></ol>\n"
      ],
      "text/latex": [
       "\\begin{enumerate*}\n",
       "\\item '0'\n",
       "\\item '1'\n",
       "\\item '2'\n",
       "\\end{enumerate*}\n"
      ],
      "text/markdown": [
       "1. '0'\n",
       "2. '1'\n",
       "3. '2'\n",
       "\n",
       "\n"
      ],
      "text/plain": [
       "[1] \"0\" \"1\" \"2\""
      ]
     },
     "metadata": {},
     "output_type": "display_data"
    }
   ],
   "source": [
    "# Poutcome\n",
    "\n",
    "# Replacing with numerical category\n",
    "test[\"poutcome\"][test[\"poutcome\"] == \"success\"] <- 2\n",
    "test[\"poutcome\"][test[\"poutcome\"] == \"failure\"] <- 1\n",
    "test[\"poutcome\"][test[\"poutcome\"] == \"nonexistent\"] <- 0\n",
    "\n",
    "# Checking for unique value \n",
    "unique(test$poutcome)"
   ]
  },
  {
   "cell_type": "markdown",
   "id": "c1407a09",
   "metadata": {
    "lines_to_next_cell": 2
   },
   "source": [
    "\n",
    "##### 2. Factorization"
   ]
  },
  {
   "cell_type": "code",
   "execution_count": 88,
   "id": "99f53843",
   "metadata": {
    "lines_to_next_cell": 2
   },
   "outputs": [],
   "source": [
    "# Creating factors for our categorical data \n",
    "test$job = as.factor(test$job)\n",
    "test$marital = as.factor(test$marital)\n",
    "test$education = as.factor(test$education)\n",
    "test$contact = as.factor(test$contact)\n",
    "test$month = as.factor(test$month)\n",
    "test$poutcome = as.factor(test$poutcome)\n",
    "\n",
    "\n",
    "# Creating factors for our logical data \n",
    "test$default = as.factor(test$default)\n",
    "test$housing = as.factor(test$housing)"
   ]
  },
  {
   "cell_type": "code",
   "execution_count": 89,
   "id": "e1ebd43c",
   "metadata": {
    "lines_to_next_cell": 0
   },
   "outputs": [
    {
     "name": "stderr",
     "output_type": "stream",
     "text": [
      "Warning message in names(train_data) == names(test):\n",
      "\"longer object length is not a multiple of shorter object length\"\n"
     ]
    },
    {
     "data": {
      "text/html": [
       "<style>\n",
       ".list-inline {list-style: none; margin:0; padding: 0}\n",
       ".list-inline>li {display: inline-block}\n",
       ".list-inline>li:not(:last-child)::after {content: \"\\00b7\"; padding: 0 .5ex}\n",
       "</style>\n",
       "<ol class=list-inline><li>TRUE</li><li>TRUE</li><li>TRUE</li><li>TRUE</li><li>TRUE</li><li>TRUE</li><li>TRUE</li><li>TRUE</li><li>TRUE</li><li>TRUE</li><li>TRUE</li><li>TRUE</li><li>TRUE</li><li>TRUE</li><li>TRUE</li><li>TRUE</li><li>TRUE</li><li>FALSE</li></ol>\n"
      ],
      "text/latex": [
       "\\begin{enumerate*}\n",
       "\\item TRUE\n",
       "\\item TRUE\n",
       "\\item TRUE\n",
       "\\item TRUE\n",
       "\\item TRUE\n",
       "\\item TRUE\n",
       "\\item TRUE\n",
       "\\item TRUE\n",
       "\\item TRUE\n",
       "\\item TRUE\n",
       "\\item TRUE\n",
       "\\item TRUE\n",
       "\\item TRUE\n",
       "\\item TRUE\n",
       "\\item TRUE\n",
       "\\item TRUE\n",
       "\\item TRUE\n",
       "\\item FALSE\n",
       "\\end{enumerate*}\n"
      ],
      "text/markdown": [
       "1. TRUE\n",
       "2. TRUE\n",
       "3. TRUE\n",
       "4. TRUE\n",
       "5. TRUE\n",
       "6. TRUE\n",
       "7. TRUE\n",
       "8. TRUE\n",
       "9. TRUE\n",
       "10. TRUE\n",
       "11. TRUE\n",
       "12. TRUE\n",
       "13. TRUE\n",
       "14. TRUE\n",
       "15. TRUE\n",
       "16. TRUE\n",
       "17. TRUE\n",
       "18. FALSE\n",
       "\n",
       "\n"
      ],
      "text/plain": [
       " [1]  TRUE  TRUE  TRUE  TRUE  TRUE  TRUE  TRUE  TRUE  TRUE  TRUE  TRUE  TRUE\n",
       "[13]  TRUE  TRUE  TRUE  TRUE  TRUE FALSE"
      ]
     },
     "metadata": {},
     "output_type": "display_data"
    }
   ],
   "source": [
    "names(train_data)==names(test)"
   ]
  },
  {
   "cell_type": "code",
   "execution_count": 91,
   "id": "4ca3c9c4",
   "metadata": {},
   "outputs": [],
   "source": [
    "#giving same number of levels to test data set default\n",
    "levels(test$default) <- levels(train_data$default)"
   ]
  },
  {
   "cell_type": "code",
   "execution_count": 92,
   "id": "8ddaa3b2",
   "metadata": {},
   "outputs": [
    {
     "name": "stdout",
     "output_type": "stream",
     "text": [
      "'data.frame':\t10000 obs. of  17 variables:\n",
      " $ age           : num  53 32 70 46 35 24 33 38 37 36 ...\n",
      " $ job           : Factor w/ 12 levels \"0\",\"1\",\"10\",\"11\",..: 9 7 6 11 9 5 12 12 7 9 ...\n",
      " $ marital       : Factor w/ 4 levels \"0\",\"1\",\"2\",\"3\": 2 4 4 4 2 2 3 4 2 4 ...\n",
      " $ education     : Factor w/ 8 levels \"0\",\"1\",\"2\",\"3\",..: 8 4 6 6 1 6 6 6 5 7 ...\n",
      " $ default       : Factor w/ 3 levels \"0\",\"1\",\"2\": 2 2 2 2 2 2 2 2 1 2 ...\n",
      " $ housing       : Factor w/ 3 levels \"0\",\"1\",\"2\": 2 3 3 2 2 3 2 3 2 2 ...\n",
      " $ contact       : Factor w/ 3 levels \"0\",\"1\",\"2\": 3 2 3 3 3 3 2 2 2 3 ...\n",
      " $ month         : Factor w/ 11 levels \"0\",\"1\",\"10\",\"2\",..: 7 7 8 4 5 5 4 7 5 6 ...\n",
      " $ campaign      : num  1 2 1 1 1 2 3 18 5 1 ...\n",
      " $ pdays         : num  0 0 0 0 0 6 0 0 0 3 ...\n",
      " $ previous      : int  0 0 0 1 1 2 0 0 0 1 ...\n",
      " $ poutcome      : Factor w/ 3 levels \"0\",\"1\",\"2\": 1 1 1 2 2 3 1 1 1 3 ...\n",
      " $ emp.var.rate  : num  1.4 1.4 -2.9 -1.8 -1.8 -1.8 -1.8 1.4 1.1 -2.9 ...\n",
      " $ cons.price.idx: num  93.9 93.9 92.2 93.1 92.9 ...\n",
      " $ cons.conf.idx : num  -42.7 -42.7 -31.4 -47.1 -46.2 -40 -47.1 -42.7 -36.4 -40.8 ...\n",
      " $ euribor3m     : num  4.961 4.963 0.883 1.405 1.266 ...\n",
      " $ nr.employed   : num  5228 5228 5076 5099 5099 ...\n"
     ]
    }
   ],
   "source": [
    "str(test)"
   ]
  },
  {
   "cell_type": "markdown",
   "id": "dc961a72",
   "metadata": {},
   "source": [
    "### Creating the 'subscribe' target variable and assigning prediction to it"
   ]
  },
  {
   "cell_type": "markdown",
   "id": "d3c0a62f",
   "metadata": {},
   "source": [
    "We will use our best algorithm in terms of AUC and accuracy from the train table models"
   ]
  },
  {
   "cell_type": "code",
   "execution_count": 96,
   "id": "ec9857a5",
   "metadata": {},
   "outputs": [
    {
     "data": {
      "text/plain": [
       "                Length Class  Mode     \n",
       "call                4  -none- call     \n",
       "type                1  -none- character\n",
       "predicted       20000  factor numeric  \n",
       "err.rate          150  -none- numeric  \n",
       "confusion           6  -none- numeric  \n",
       "votes           40000  matrix numeric  \n",
       "oob.times       20000  -none- numeric  \n",
       "classes             2  -none- character\n",
       "importance         17  -none- numeric  \n",
       "importanceSD        0  -none- NULL     \n",
       "localImportance     0  -none- NULL     \n",
       "proximity           0  -none- NULL     \n",
       "ntree               1  -none- numeric  \n",
       "mtry                1  -none- numeric  \n",
       "forest             14  -none- list     \n",
       "y               20000  factor numeric  \n",
       "test                0  -none- NULL     \n",
       "inbag               0  -none- NULL     \n",
       "terms               3  terms  call     "
      ]
     },
     "metadata": {},
     "output_type": "display_data"
    }
   ],
   "source": [
    "# Fitting the random forest to our training set\n",
    "\n",
    "randomforestmodel = randomForest(formula = subscribe ~., \n",
    "                           data = train, ntree = 50)\n",
    "\n",
    "summary(randomforestmodel)"
   ]
  },
  {
   "cell_type": "code",
   "execution_count": 109,
   "id": "2bd5a5ef",
   "metadata": {},
   "outputs": [],
   "source": [
    "test_client <- read.csv(\"../Data/bank_mkt_test.csv\")\n",
    "test_client<-data.frame(test_client$client_id)\n"
   ]
  },
  {
   "cell_type": "code",
   "execution_count": null,
   "id": "b7bba06a",
   "metadata": {},
   "outputs": [],
   "source": []
  },
  {
   "cell_type": "code",
   "execution_count": 102,
   "id": "727cb9a4",
   "metadata": {},
   "outputs": [],
   "source": [
    "\n",
    "FP<-predict(randomforestmodel, newdata = test, type = \"prob\")\n",
    "FP<-data.frame(FP)\n"
   ]
  },
  {
   "cell_type": "code",
   "execution_count": 106,
   "id": "b132d15c",
   "metadata": {},
   "outputs": [],
   "source": [
    "Final<-NULL\n",
    "Final$client_id<-test_client\n",
    "Final$subscribe<-FP$X1\n",
    "Final<-data.frame(Final)\n",
    "Final<-Final%>%rename(client_id=1)\n",
    "fwrite(Final,'../Data/fifth_try.csv')"
   ]
  },
  {
   "cell_type": "code",
   "execution_count": 104,
   "id": "9a8d26f8",
   "metadata": {},
   "outputs": [
    {
     "name": "stdout",
     "output_type": "stream",
     "text": [
      "'data.frame':\t10000 obs. of  2 variables:\n",
      " $ X0: num  0.98 1 0.78 0.96 0.96 0.14 0.94 0.98 0.94 0.28 ...\n",
      " $ X1: num  0.02 0 0.22 0.04 0.04 0.86 0.06 0.02 0.06 0.72 ...\n"
     ]
    }
   ],
   "source": [
    "str(FP)"
   ]
  },
  {
   "cell_type": "markdown",
   "id": "0c68b160",
   "metadata": {},
   "source": [
    "## GAM\n"
   ]
  },
  {
   "cell_type": "code",
   "execution_count": 126,
   "id": "7701f04d",
   "metadata": {},
   "outputs": [
    {
     "data": {
      "text/plain": [
       "\n",
       "Call:\n",
       "glm(formula = I(subscribe) ~ I(age^2) + ., family = \"binomial\", \n",
       "    data = train)\n",
       "\n",
       "Deviance Residuals: \n",
       "    Min       1Q   Median       3Q      Max  \n",
       "-2.0773  -0.3988  -0.3266  -0.2635   2.9720  \n",
       "\n",
       "Coefficients:\n",
       "                 Estimate Std. Error z value Pr(>|z|)    \n",
       "(Intercept)    -2.850e+01  2.279e+01  -1.250 0.211187    \n",
       "I(age^2)        4.178e-04  1.457e-04   2.866 0.004151 ** \n",
       "age            -3.381e-02  1.336e-02  -2.531 0.011366 *  \n",
       "job1            1.776e-01  2.505e-01   0.709 0.478412    \n",
       "job10           1.201e-01  2.451e-01   0.490 0.624168    \n",
       "job11           1.613e-01  2.224e-01   0.725 0.468177    \n",
       "job2            2.910e-01  2.439e-01   1.193 0.232848    \n",
       "job3            1.298e-01  2.386e-01   0.544 0.586573    \n",
       "job4           -8.769e-02  2.139e-01  -0.410 0.681789    \n",
       "job5            8.212e-02  2.618e-01   0.314 0.753794    \n",
       "job6            8.983e-02  2.133e-01   0.421 0.673660    \n",
       "job7           -1.071e-01  2.461e-01  -0.435 0.663429    \n",
       "job8           -5.490e-02  2.223e-01  -0.247 0.804955    \n",
       "job9            8.499e-02  2.081e-01   0.408 0.683006    \n",
       "marital1       -3.718e-01  2.075e-01  -1.792 0.073187 .  \n",
       "marital2       -5.061e-01  2.161e-01  -2.342 0.019167 *  \n",
       "marital3       -4.564e-01  2.040e-01  -2.237 0.025298 *  \n",
       "education1      1.626e-02  1.105e+00   0.015 0.988263    \n",
       "education2     -1.850e-01  1.462e-01  -1.266 0.205686    \n",
       "education3     -1.779e-02  1.689e-01  -0.105 0.916126    \n",
       "education4     -7.155e-02  1.372e-01  -0.521 0.602083    \n",
       "education5     -4.525e-02  1.268e-01  -0.357 0.721187    \n",
       "education6     -1.082e-02  1.252e-01  -0.086 0.931089    \n",
       "education7     -8.544e-02  1.392e-01  -0.614 0.539291    \n",
       "default1        2.105e-01  7.844e-02   2.684 0.007274 ** \n",
       "default2       -8.408e+00  1.391e+02  -0.060 0.951809    \n",
       "housing1       -1.180e-01  1.415e-01  -0.834 0.404464    \n",
       "housing2       -1.397e-01  1.406e-01  -0.994 0.320407    \n",
       "contact1       -2.379e-01  2.443e-01  -0.974 0.330133    \n",
       "contact2        1.592e-01  2.360e-01   0.674 0.500060    \n",
       "month1          1.300e+00  3.108e-01   4.185 2.86e-05 ***\n",
       "month10         4.780e-01  3.585e-01   1.333 0.182435    \n",
       "month2          2.431e-01  2.860e-01   0.850 0.395206    \n",
       "month3         -2.655e-01  2.784e-01  -0.954 0.340240    \n",
       "month4          2.892e-01  2.912e-01   0.993 0.320689    \n",
       "month5          5.252e-01  2.825e-01   1.859 0.063027 .  \n",
       "month6          2.997e-01  2.870e-01   1.044 0.296427    \n",
       "month7          1.355e-01  3.114e-01   0.435 0.663377    \n",
       "month8          2.045e-01  3.033e-01   0.674 0.500176    \n",
       "month9          1.508e-02  2.868e-01   0.053 0.958072    \n",
       "campaign       -4.375e-02  1.300e-02  -3.366 0.000764 ***\n",
       "pdays           3.388e-02  1.786e-02   1.897 0.057802 .  \n",
       "previous        8.640e-02  7.387e-02   1.170 0.242173    \n",
       "poutcome1      -5.815e-01  1.220e-01  -4.768 1.86e-06 ***\n",
       "poutcome2       1.075e+00  1.643e-01   6.539 6.20e-11 ***\n",
       "emp.var.rate   -4.029e-01  1.012e-01  -3.980 6.90e-05 ***\n",
       "cons.price.idx  5.339e-01  1.599e-01   3.340 0.000837 ***\n",
       "cons.conf.idx   2.145e-02  7.418e-03   2.891 0.003837 ** \n",
       "euribor3m      -2.553e-02  8.460e-02  -0.302 0.762863    \n",
       "nr.employed    -4.244e-03  1.788e-03  -2.373 0.017647 *  \n",
       "---\n",
       "Signif. codes:  0 '***' 0.001 '**' 0.01 '*' 0.05 '.' 0.1 ' ' 1\n",
       "\n",
       "(Dispersion parameter for binomial family taken to be 1)\n",
       "\n",
       "    Null deviance: 14155  on 19999  degrees of freedom\n",
       "Residual deviance: 11180  on 19950  degrees of freedom\n",
       "AIC: 11280\n",
       "\n",
       "Number of Fisher Scoring iterations: 10\n"
      ]
     },
     "metadata": {},
     "output_type": "display_data"
    }
   ],
   "source": [
    "# Build Logistic Model\n",
    "logreg <- glm(I(subscribe) ~I(age^2)+ ., family = \"binomial\", data = train)\n",
    "\n",
    "summary(logreg)"
   ]
  },
  {
   "cell_type": "code",
   "execution_count": 132,
   "id": "dc9016cc",
   "metadata": {},
   "outputs": [
    {
     "name": "stdout",
     "output_type": "stream",
     "text": [
      "'data.frame':\t10000 obs. of  1 variable:\n",
      " $ LR_prediction: num  0.0834 0.0435 0.3674 0.1157 0.0877 ...\n"
     ]
    }
   ],
   "source": [
    "# Predictions\n",
    "LR_prediction <- predict(logreg, newdata = test, type = \"response\")\n",
    "LR_prediction<-data.frame(LR_prediction)\n",
    "str(LR_prediction)"
   ]
  },
  {
   "cell_type": "code",
   "execution_count": 133,
   "id": "8424d519",
   "metadata": {},
   "outputs": [],
   "source": [
    "Final<-NULL\n",
    "Final$client_id<-test_client\n",
    "Final$subscribe<-LR_prediction$LR_prediction\n",
    "Final<-data.frame(Final)\n",
    "Final<-Final%>%rename(client_id=1)\n",
    "fwrite(Final,'../Data/sixth_try.csv')"
   ]
  },
  {
   "cell_type": "markdown",
   "id": "164fd3c3",
   "metadata": {},
   "source": [
    "### XGBoost"
   ]
  },
  {
   "cell_type": "code",
   "execution_count": 95,
   "id": "02d1e54a",
   "metadata": {},
   "outputs": [],
   "source": [
    "if(!require(\"xgboost\")) install.packages(\"xgboost\"); library(\"xgboost\")\n",
    "#library(xgboost)\n",
    "#install.packages('DiagrammeR')\n",
    "#library(DiagrammeR)"
   ]
  },
  {
   "cell_type": "code",
   "execution_count": 96,
   "id": "2e83eccc",
   "metadata": {},
   "outputs": [],
   "source": [
    "train_data_x <- data.matrix(train_data[, -18])\n",
    "train_data_y = as.numeric(as.character(train_data[,18]))\n",
    "\n",
    "test_data_x <- data.matrix(test_data[, -18])\n",
    "test_data_y = as.numeric(as.character(test_data[,18]))\n",
    "\n",
    "xgb_train = xgb.DMatrix(data = train_data_x, label = train_data_y)\n",
    "xgb_test = xgb.DMatrix(data = test_data_x, label = test_data_y)"
   ]
  },
  {
   "cell_type": "code",
   "execution_count": 166,
   "id": "20150447",
   "metadata": {},
   "outputs": [
    {
     "name": "stdout",
     "output_type": "stream",
     "text": [
      "[1]\ttrain-error:0.099806\ttrain-logloss:0.518707\ttest-error:0.103026\ttest-logloss:0.521442 \n",
      "[2]\ttrain-error:0.099556\ttrain-logloss:0.424770\ttest-error:0.103276\ttest-logloss:0.429772 \n",
      "[3]\ttrain-error:0.099244\ttrain-logloss:0.368669\ttest-error:0.103026\ttest-logloss:0.375411 \n",
      "[4]\ttrain-error:0.099556\ttrain-logloss:0.333858\ttest-error:0.103276\ttest-logloss:0.342019 \n",
      "[5]\ttrain-error:0.099181\ttrain-logloss:0.311878\ttest-error:0.103026\ttest-logloss:0.321184 \n",
      "[6]\ttrain-error:0.099556\ttrain-logloss:0.298125\ttest-error:0.103276\ttest-logloss:0.308168 \n",
      "[7]\ttrain-error:0.099431\ttrain-logloss:0.289236\ttest-error:0.103276\ttest-logloss:0.300808 \n",
      "[8]\ttrain-error:0.098806\ttrain-logloss:0.283470\ttest-error:0.104526\ttest-logloss:0.295837 \n",
      "[9]\ttrain-error:0.098681\ttrain-logloss:0.279507\ttest-error:0.104776\ttest-logloss:0.292671 \n",
      "[10]\ttrain-error:0.098681\ttrain-logloss:0.276897\ttest-error:0.103526\ttest-logloss:0.290833 \n",
      "[11]\ttrain-error:0.098619\ttrain-logloss:0.273811\ttest-error:0.103526\ttest-logloss:0.288590 \n",
      "[12]\ttrain-error:0.098181\ttrain-logloss:0.272142\ttest-error:0.103026\ttest-logloss:0.288200 \n",
      "[13]\ttrain-error:0.097619\ttrain-logloss:0.271193\ttest-error:0.103776\ttest-logloss:0.288109 \n",
      "[14]\ttrain-error:0.097556\ttrain-logloss:0.270312\ttest-error:0.104526\ttest-logloss:0.288856 \n",
      "[15]\ttrain-error:0.096869\ttrain-logloss:0.269618\ttest-error:0.105276\ttest-logloss:0.288990 \n",
      "[16]\ttrain-error:0.097244\ttrain-logloss:0.269040\ttest-error:0.105276\ttest-logloss:0.288858 \n",
      "[17]\ttrain-error:0.097056\ttrain-logloss:0.268448\ttest-error:0.105026\ttest-logloss:0.288908 \n",
      "[18]\ttrain-error:0.095994\ttrain-logloss:0.268143\ttest-error:0.104776\ttest-logloss:0.288876 \n",
      "[19]\ttrain-error:0.095494\ttrain-logloss:0.267516\ttest-error:0.104526\ttest-logloss:0.289036 \n",
      "[20]\ttrain-error:0.095557\ttrain-logloss:0.267099\ttest-error:0.104276\ttest-logloss:0.288991 \n",
      "[21]\ttrain-error:0.095057\ttrain-logloss:0.266819\ttest-error:0.104526\ttest-logloss:0.289125 \n",
      "[22]\ttrain-error:0.094932\ttrain-logloss:0.266224\ttest-error:0.104526\ttest-logloss:0.289054 \n",
      "[23]\ttrain-error:0.095244\ttrain-logloss:0.266085\ttest-error:0.104776\ttest-logloss:0.288955 \n",
      "[24]\ttrain-error:0.094932\ttrain-logloss:0.265623\ttest-error:0.104776\ttest-logloss:0.288793 \n",
      "[25]\ttrain-error:0.095057\ttrain-logloss:0.265315\ttest-error:0.105776\ttest-logloss:0.288885 \n",
      "[26]\ttrain-error:0.094807\ttrain-logloss:0.264846\ttest-error:0.105276\ttest-logloss:0.289409 \n",
      "[27]\ttrain-error:0.094432\ttrain-logloss:0.264475\ttest-error:0.105526\ttest-logloss:0.289605 \n",
      "[28]\ttrain-error:0.094369\ttrain-logloss:0.264041\ttest-error:0.105276\ttest-logloss:0.289450 \n",
      "[29]\ttrain-error:0.093994\ttrain-logloss:0.263609\ttest-error:0.105026\ttest-logloss:0.289705 \n",
      "[30]\ttrain-error:0.093869\ttrain-logloss:0.263411\ttest-error:0.105276\ttest-logloss:0.289905 \n",
      "[31]\ttrain-error:0.093932\ttrain-logloss:0.263310\ttest-error:0.105526\ttest-logloss:0.289914 \n",
      "[32]\ttrain-error:0.093932\ttrain-logloss:0.263249\ttest-error:0.105276\ttest-logloss:0.289943 \n",
      "[33]\ttrain-error:0.093869\ttrain-logloss:0.263016\ttest-error:0.105276\ttest-logloss:0.290016 \n",
      "[34]\ttrain-error:0.093432\ttrain-logloss:0.262600\ttest-error:0.105026\ttest-logloss:0.289787 \n",
      "[35]\ttrain-error:0.093182\ttrain-logloss:0.262229\ttest-error:0.104776\ttest-logloss:0.289680 \n",
      "[36]\ttrain-error:0.093182\ttrain-logloss:0.261955\ttest-error:0.104526\ttest-logloss:0.289426 \n",
      "[37]\ttrain-error:0.093244\ttrain-logloss:0.261624\ttest-error:0.106027\ttest-logloss:0.289365 \n",
      "[38]\ttrain-error:0.093182\ttrain-logloss:0.261322\ttest-error:0.106277\ttest-logloss:0.289419 \n",
      "[39]\ttrain-error:0.092994\ttrain-logloss:0.261147\ttest-error:0.106027\ttest-logloss:0.289332 \n",
      "[40]\ttrain-error:0.092994\ttrain-logloss:0.261076\ttest-error:0.106027\ttest-logloss:0.289313 \n",
      "[41]\ttrain-error:0.092932\ttrain-logloss:0.260692\ttest-error:0.105776\ttest-logloss:0.289433 \n",
      "[42]\ttrain-error:0.092744\ttrain-logloss:0.260209\ttest-error:0.105776\ttest-logloss:0.289613 \n",
      "[43]\ttrain-error:0.092307\ttrain-logloss:0.259868\ttest-error:0.106527\ttest-logloss:0.289688 \n",
      "[44]\ttrain-error:0.091994\ttrain-logloss:0.259489\ttest-error:0.106027\ttest-logloss:0.289745 \n",
      "[45]\ttrain-error:0.091744\ttrain-logloss:0.259291\ttest-error:0.106027\ttest-logloss:0.290037 \n",
      "[46]\ttrain-error:0.091557\ttrain-logloss:0.259221\ttest-error:0.106027\ttest-logloss:0.290024 \n",
      "[47]\ttrain-error:0.091244\ttrain-logloss:0.258981\ttest-error:0.106277\ttest-logloss:0.290329 \n",
      "[48]\ttrain-error:0.091432\ttrain-logloss:0.258763\ttest-error:0.106527\ttest-logloss:0.290427 \n",
      "[49]\ttrain-error:0.091432\ttrain-logloss:0.258415\ttest-error:0.106527\ttest-logloss:0.290526 \n",
      "[50]\ttrain-error:0.091307\ttrain-logloss:0.258344\ttest-error:0.106527\ttest-logloss:0.290584 \n",
      "[51]\ttrain-error:0.090994\ttrain-logloss:0.258122\ttest-error:0.106027\ttest-logloss:0.290399 \n",
      "[52]\ttrain-error:0.091244\ttrain-logloss:0.257574\ttest-error:0.106527\ttest-logloss:0.290641 \n",
      "[53]\ttrain-error:0.091119\ttrain-logloss:0.257240\ttest-error:0.106277\ttest-logloss:0.290851 \n",
      "[54]\ttrain-error:0.091182\ttrain-logloss:0.256950\ttest-error:0.106277\ttest-logloss:0.291182 \n",
      "[55]\ttrain-error:0.090932\ttrain-logloss:0.256644\ttest-error:0.106277\ttest-logloss:0.291311 \n",
      "[56]\ttrain-error:0.091057\ttrain-logloss:0.255904\ttest-error:0.106527\ttest-logloss:0.290401 \n",
      "[57]\ttrain-error:0.090869\ttrain-logloss:0.255564\ttest-error:0.106527\ttest-logloss:0.290503 \n",
      "[58]\ttrain-error:0.090807\ttrain-logloss:0.255323\ttest-error:0.106777\ttest-logloss:0.290383 \n",
      "[59]\ttrain-error:0.090682\ttrain-logloss:0.255220\ttest-error:0.107027\ttest-logloss:0.290289 \n",
      "[60]\ttrain-error:0.090557\ttrain-logloss:0.254726\ttest-error:0.106277\ttest-logloss:0.290720 \n",
      "[61]\ttrain-error:0.090432\ttrain-logloss:0.254672\ttest-error:0.106527\ttest-logloss:0.290699 \n",
      "[62]\ttrain-error:0.090307\ttrain-logloss:0.254438\ttest-error:0.106777\ttest-logloss:0.290618 \n",
      "[63]\ttrain-error:0.090307\ttrain-logloss:0.254380\ttest-error:0.106777\ttest-logloss:0.290660 \n",
      "[64]\ttrain-error:0.090557\ttrain-logloss:0.254139\ttest-error:0.106777\ttest-logloss:0.291189 \n",
      "[65]\ttrain-error:0.090369\ttrain-logloss:0.253997\ttest-error:0.107027\ttest-logloss:0.291182 \n",
      "[66]\ttrain-error:0.090369\ttrain-logloss:0.253963\ttest-error:0.107027\ttest-logloss:0.291179 \n",
      "[67]\ttrain-error:0.090182\ttrain-logloss:0.253825\ttest-error:0.106527\ttest-logloss:0.291441 \n",
      "[68]\ttrain-error:0.089994\ttrain-logloss:0.253597\ttest-error:0.106277\ttest-logloss:0.291307 \n",
      "[69]\ttrain-error:0.089994\ttrain-logloss:0.253423\ttest-error:0.106277\ttest-logloss:0.291251 \n",
      "[70]\ttrain-error:0.089807\ttrain-logloss:0.253254\ttest-error:0.106277\ttest-logloss:0.291249 \n",
      "[71]\ttrain-error:0.089494\ttrain-logloss:0.253110\ttest-error:0.106527\ttest-logloss:0.291336 \n",
      "[72]\ttrain-error:0.089119\ttrain-logloss:0.252830\ttest-error:0.105776\ttest-logloss:0.291287 \n",
      "[73]\ttrain-error:0.089244\ttrain-logloss:0.252587\ttest-error:0.105276\ttest-logloss:0.291261 \n",
      "[74]\ttrain-error:0.088994\ttrain-logloss:0.252235\ttest-error:0.105776\ttest-logloss:0.290876 \n",
      "[75]\ttrain-error:0.089119\ttrain-logloss:0.252156\ttest-error:0.105776\ttest-logloss:0.290852 \n",
      "[76]\ttrain-error:0.088994\ttrain-logloss:0.251908\ttest-error:0.106277\ttest-logloss:0.290709 \n",
      "[77]\ttrain-error:0.088994\ttrain-logloss:0.251879\ttest-error:0.106277\ttest-logloss:0.290686 \n",
      "[78]\ttrain-error:0.088994\ttrain-logloss:0.251683\ttest-error:0.106027\ttest-logloss:0.290905 \n",
      "[79]\ttrain-error:0.088994\ttrain-logloss:0.251638\ttest-error:0.106027\ttest-logloss:0.290955 \n",
      "[80]\ttrain-error:0.088682\ttrain-logloss:0.251339\ttest-error:0.106027\ttest-logloss:0.290728 \n",
      "[81]\ttrain-error:0.088744\ttrain-logloss:0.251025\ttest-error:0.105776\ttest-logloss:0.290832 \n",
      "[82]\ttrain-error:0.088994\ttrain-logloss:0.250951\ttest-error:0.105526\ttest-logloss:0.290863 \n",
      "[83]\ttrain-error:0.088869\ttrain-logloss:0.250769\ttest-error:0.106027\ttest-logloss:0.290902 \n",
      "[84]\ttrain-error:0.088869\ttrain-logloss:0.250630\ttest-error:0.106277\ttest-logloss:0.291016 \n",
      "[85]\ttrain-error:0.088494\ttrain-logloss:0.250529\ttest-error:0.106027\ttest-logloss:0.290968 \n",
      "[86]\ttrain-error:0.088557\ttrain-logloss:0.250402\ttest-error:0.106277\ttest-logloss:0.291055 \n",
      "[87]\ttrain-error:0.088494\ttrain-logloss:0.250212\ttest-error:0.106527\ttest-logloss:0.291085 \n",
      "[88]\ttrain-error:0.088119\ttrain-logloss:0.250106\ttest-error:0.106277\ttest-logloss:0.290931 \n",
      "[89]\ttrain-error:0.088244\ttrain-logloss:0.249809\ttest-error:0.106027\ttest-logloss:0.290903 \n",
      "[90]\ttrain-error:0.088244\ttrain-logloss:0.249676\ttest-error:0.105776\ttest-logloss:0.291015 \n",
      "[91]\ttrain-error:0.088244\ttrain-logloss:0.249585\ttest-error:0.105776\ttest-logloss:0.291122 \n",
      "[92]\ttrain-error:0.088057\ttrain-logloss:0.249378\ttest-error:0.105276\ttest-logloss:0.291148 \n",
      "[93]\ttrain-error:0.088119\ttrain-logloss:0.249317\ttest-error:0.105276\ttest-logloss:0.291057 \n",
      "[94]\ttrain-error:0.087932\ttrain-logloss:0.249124\ttest-error:0.105526\ttest-logloss:0.291177 \n",
      "[95]\ttrain-error:0.087807\ttrain-logloss:0.248856\ttest-error:0.105026\ttest-logloss:0.290892 \n",
      "[96]\ttrain-error:0.087745\ttrain-logloss:0.248579\ttest-error:0.104776\ttest-logloss:0.290496 \n",
      "[97]\ttrain-error:0.087620\ttrain-logloss:0.248280\ttest-error:0.105276\ttest-logloss:0.290604 \n",
      "[98]\ttrain-error:0.087620\ttrain-logloss:0.248121\ttest-error:0.104776\ttest-logloss:0.290838 \n",
      "[99]\ttrain-error:0.087745\ttrain-logloss:0.247988\ttest-error:0.105026\ttest-logloss:0.290849 \n",
      "[100]\ttrain-error:0.087932\ttrain-logloss:0.247834\ttest-error:0.105276\ttest-logloss:0.290864 \n",
      "[101]\ttrain-error:0.087807\ttrain-logloss:0.247804\ttest-error:0.105276\ttest-logloss:0.290851 \n",
      "[102]\ttrain-error:0.087745\ttrain-logloss:0.247666\ttest-error:0.105526\ttest-logloss:0.290879 \n",
      "[103]\ttrain-error:0.087745\ttrain-logloss:0.247533\ttest-error:0.105776\ttest-logloss:0.290852 \n",
      "[104]\ttrain-error:0.087682\ttrain-logloss:0.247439\ttest-error:0.105776\ttest-logloss:0.290931 \n",
      "[105]\ttrain-error:0.087557\ttrain-logloss:0.247287\ttest-error:0.105776\ttest-logloss:0.290714 \n",
      "[106]\ttrain-error:0.087557\ttrain-logloss:0.247206\ttest-error:0.105776\ttest-logloss:0.290695 \n",
      "[107]\ttrain-error:0.087432\ttrain-logloss:0.246897\ttest-error:0.105526\ttest-logloss:0.291143 \n",
      "[108]\ttrain-error:0.087620\ttrain-logloss:0.246643\ttest-error:0.105526\ttest-logloss:0.291307 \n",
      "[109]\ttrain-error:0.087182\ttrain-logloss:0.246359\ttest-error:0.105026\ttest-logloss:0.291368 \n",
      "[110]\ttrain-error:0.087057\ttrain-logloss:0.246162\ttest-error:0.105026\ttest-logloss:0.291399 \n",
      "[111]\ttrain-error:0.087057\ttrain-logloss:0.245868\ttest-error:0.105276\ttest-logloss:0.291711 \n",
      "[112]\ttrain-error:0.087370\ttrain-logloss:0.245708\ttest-error:0.105026\ttest-logloss:0.291603 \n",
      "[113]\ttrain-error:0.087245\ttrain-logloss:0.245520\ttest-error:0.105026\ttest-logloss:0.291749 \n",
      "[114]\ttrain-error:0.087245\ttrain-logloss:0.245429\ttest-error:0.105026\ttest-logloss:0.291931 \n",
      "[115]\ttrain-error:0.087245\ttrain-logloss:0.245413\ttest-error:0.105026\ttest-logloss:0.291952 \n",
      "[116]\ttrain-error:0.086432\ttrain-logloss:0.245238\ttest-error:0.105026\ttest-logloss:0.292074 \n",
      "[117]\ttrain-error:0.086557\ttrain-logloss:0.245031\ttest-error:0.104776\ttest-logloss:0.292003 \n",
      "[118]\ttrain-error:0.086432\ttrain-logloss:0.244813\ttest-error:0.104776\ttest-logloss:0.292189 \n",
      "[119]\ttrain-error:0.086057\ttrain-logloss:0.244591\ttest-error:0.105776\ttest-logloss:0.292315 \n",
      "[120]\ttrain-error:0.086245\ttrain-logloss:0.244389\ttest-error:0.105526\ttest-logloss:0.292224 \n",
      "[121]\ttrain-error:0.086245\ttrain-logloss:0.244165\ttest-error:0.105526\ttest-logloss:0.292404 \n",
      "[122]\ttrain-error:0.086182\ttrain-logloss:0.244066\ttest-error:0.105776\ttest-logloss:0.292485 \n",
      "[123]\ttrain-error:0.085932\ttrain-logloss:0.244012\ttest-error:0.106277\ttest-logloss:0.292480 \n",
      "[124]\ttrain-error:0.085870\ttrain-logloss:0.243933\ttest-error:0.105776\ttest-logloss:0.292449 \n",
      "[125]\ttrain-error:0.085620\ttrain-logloss:0.243793\ttest-error:0.105526\ttest-logloss:0.292492 \n",
      "[126]\ttrain-error:0.085557\ttrain-logloss:0.243716\ttest-error:0.105026\ttest-logloss:0.292471 \n",
      "[127]\ttrain-error:0.085682\ttrain-logloss:0.243632\ttest-error:0.105026\ttest-logloss:0.292503 \n",
      "[128]\ttrain-error:0.085620\ttrain-logloss:0.243596\ttest-error:0.105026\ttest-logloss:0.292517 \n",
      "[129]\ttrain-error:0.085745\ttrain-logloss:0.243528\ttest-error:0.104776\ttest-logloss:0.292506 \n",
      "[130]\ttrain-error:0.085557\ttrain-logloss:0.243337\ttest-error:0.104526\ttest-logloss:0.292476 \n",
      "[131]\ttrain-error:0.085432\ttrain-logloss:0.243154\ttest-error:0.104526\ttest-logloss:0.292365 \n",
      "[132]\ttrain-error:0.085245\ttrain-logloss:0.242984\ttest-error:0.104776\ttest-logloss:0.292306 \n",
      "[133]\ttrain-error:0.085245\ttrain-logloss:0.242959\ttest-error:0.104526\ttest-logloss:0.292344 \n",
      "[134]\ttrain-error:0.085370\ttrain-logloss:0.242752\ttest-error:0.104526\ttest-logloss:0.292230 \n",
      "[135]\ttrain-error:0.085495\ttrain-logloss:0.242712\ttest-error:0.104526\ttest-logloss:0.292228 \n",
      "[136]\ttrain-error:0.085307\ttrain-logloss:0.242621\ttest-error:0.104276\ttest-logloss:0.292209 \n",
      "[137]\ttrain-error:0.085307\ttrain-logloss:0.242329\ttest-error:0.104026\ttest-logloss:0.292217 \n",
      "[138]\ttrain-error:0.085120\ttrain-logloss:0.242048\ttest-error:0.104276\ttest-logloss:0.292091 \n",
      "[139]\ttrain-error:0.085307\ttrain-logloss:0.241837\ttest-error:0.104276\ttest-logloss:0.292273 \n",
      "[140]\ttrain-error:0.084870\ttrain-logloss:0.241584\ttest-error:0.103776\ttest-logloss:0.292412 \n",
      "[141]\ttrain-error:0.084807\ttrain-logloss:0.241358\ttest-error:0.105276\ttest-logloss:0.292442 \n",
      "[142]\ttrain-error:0.084995\ttrain-logloss:0.241172\ttest-error:0.105026\ttest-logloss:0.292349 \n",
      "[143]\ttrain-error:0.084995\ttrain-logloss:0.241048\ttest-error:0.105026\ttest-logloss:0.292512 \n",
      "[144]\ttrain-error:0.084870\ttrain-logloss:0.240960\ttest-error:0.105276\ttest-logloss:0.292414 \n",
      "[145]\ttrain-error:0.084932\ttrain-logloss:0.240893\ttest-error:0.105026\ttest-logloss:0.292476 \n",
      "[146]\ttrain-error:0.084932\ttrain-logloss:0.240725\ttest-error:0.105276\ttest-logloss:0.292530 \n",
      "[147]\ttrain-error:0.084932\ttrain-logloss:0.240686\ttest-error:0.105026\ttest-logloss:0.292548 \n",
      "[148]\ttrain-error:0.084807\ttrain-logloss:0.240592\ttest-error:0.105026\ttest-logloss:0.292507 \n",
      "[149]\ttrain-error:0.084870\ttrain-logloss:0.240508\ttest-error:0.105026\ttest-logloss:0.292495 \n",
      "[150]\ttrain-error:0.084807\ttrain-logloss:0.240434\ttest-error:0.104776\ttest-logloss:0.292561 \n",
      "[151]\ttrain-error:0.084870\ttrain-logloss:0.240257\ttest-error:0.104026\ttest-logloss:0.292635 \n",
      "[152]\ttrain-error:0.084995\ttrain-logloss:0.240193\ttest-error:0.104026\ttest-logloss:0.292624 \n",
      "[153]\ttrain-error:0.084557\ttrain-logloss:0.240020\ttest-error:0.104276\ttest-logloss:0.292486 \n",
      "[154]\ttrain-error:0.084557\ttrain-logloss:0.239858\ttest-error:0.103026\ttest-logloss:0.292379 \n",
      "[155]\ttrain-error:0.084307\ttrain-logloss:0.239649\ttest-error:0.102026\ttest-logloss:0.292362 \n",
      "[156]\ttrain-error:0.084245\ttrain-logloss:0.239546\ttest-error:0.102026\ttest-logloss:0.292358 \n",
      "[157]\ttrain-error:0.084057\ttrain-logloss:0.239346\ttest-error:0.101775\ttest-logloss:0.292297 \n",
      "[158]\ttrain-error:0.083870\ttrain-logloss:0.239114\ttest-error:0.101525\ttest-logloss:0.292160 \n",
      "[159]\ttrain-error:0.083870\ttrain-logloss:0.239034\ttest-error:0.101275\ttest-logloss:0.292086 \n",
      "[160]\ttrain-error:0.083807\ttrain-logloss:0.238958\ttest-error:0.101775\ttest-logloss:0.292115 \n",
      "[161]\ttrain-error:0.083807\ttrain-logloss:0.238892\ttest-error:0.101525\ttest-logloss:0.292206 \n",
      "[162]\ttrain-error:0.083807\ttrain-logloss:0.238729\ttest-error:0.101775\ttest-logloss:0.292759 \n",
      "[163]\ttrain-error:0.083682\ttrain-logloss:0.238636\ttest-error:0.101775\ttest-logloss:0.292728 \n",
      "[164]\ttrain-error:0.083807\ttrain-logloss:0.238513\ttest-error:0.102026\ttest-logloss:0.292688 \n",
      "[165]\ttrain-error:0.083807\ttrain-logloss:0.238496\ttest-error:0.102026\ttest-logloss:0.292723 \n",
      "[166]\ttrain-error:0.083807\ttrain-logloss:0.238363\ttest-error:0.102026\ttest-logloss:0.292727 \n",
      "[167]\ttrain-error:0.083870\ttrain-logloss:0.238233\ttest-error:0.102026\ttest-logloss:0.292671 \n",
      "[168]\ttrain-error:0.083807\ttrain-logloss:0.238135\ttest-error:0.102276\ttest-logloss:0.292656 \n",
      "[169]\ttrain-error:0.083807\ttrain-logloss:0.238068\ttest-error:0.102526\ttest-logloss:0.292675 \n",
      "[170]\ttrain-error:0.083682\ttrain-logloss:0.238006\ttest-error:0.102276\ttest-logloss:0.292585 \n",
      "[171]\ttrain-error:0.083495\ttrain-logloss:0.237885\ttest-error:0.102276\ttest-logloss:0.292365 \n",
      "[172]\ttrain-error:0.083245\ttrain-logloss:0.237697\ttest-error:0.102026\ttest-logloss:0.292305 \n",
      "[173]\ttrain-error:0.083432\ttrain-logloss:0.237552\ttest-error:0.101775\ttest-logloss:0.292530 \n",
      "[174]\ttrain-error:0.083432\ttrain-logloss:0.237356\ttest-error:0.101775\ttest-logloss:0.293023 \n",
      "[175]\ttrain-error:0.083182\ttrain-logloss:0.237295\ttest-error:0.102026\ttest-logloss:0.293067 \n",
      "[176]\ttrain-error:0.083182\ttrain-logloss:0.237185\ttest-error:0.102026\ttest-logloss:0.293006 \n",
      "[177]\ttrain-error:0.083057\ttrain-logloss:0.237130\ttest-error:0.102276\ttest-logloss:0.292965 \n",
      "[178]\ttrain-error:0.083307\ttrain-logloss:0.236930\ttest-error:0.101775\ttest-logloss:0.292950 \n",
      "[179]\ttrain-error:0.082932\ttrain-logloss:0.236803\ttest-error:0.101525\ttest-logloss:0.292931 \n",
      "[180]\ttrain-error:0.082932\ttrain-logloss:0.236682\ttest-error:0.101525\ttest-logloss:0.293453 \n",
      "[181]\ttrain-error:0.082870\ttrain-logloss:0.236559\ttest-error:0.101025\ttest-logloss:0.293568 \n",
      "[182]\ttrain-error:0.082557\ttrain-logloss:0.236389\ttest-error:0.101025\ttest-logloss:0.293685 \n",
      "[183]\ttrain-error:0.082432\ttrain-logloss:0.236289\ttest-error:0.101025\ttest-logloss:0.293847 \n",
      "[184]\ttrain-error:0.082370\ttrain-logloss:0.236275\ttest-error:0.101025\ttest-logloss:0.293852 \n",
      "[185]\ttrain-error:0.082245\ttrain-logloss:0.236084\ttest-error:0.101025\ttest-logloss:0.294180 \n",
      "[186]\ttrain-error:0.082057\ttrain-logloss:0.235935\ttest-error:0.100775\ttest-logloss:0.294277 \n",
      "[187]\ttrain-error:0.082182\ttrain-logloss:0.235812\ttest-error:0.100775\ttest-logloss:0.294421 \n",
      "[188]\ttrain-error:0.082182\ttrain-logloss:0.235702\ttest-error:0.101025\ttest-logloss:0.294600 \n",
      "[189]\ttrain-error:0.082182\ttrain-logloss:0.235585\ttest-error:0.101025\ttest-logloss:0.294651 \n",
      "[190]\ttrain-error:0.082370\ttrain-logloss:0.235480\ttest-error:0.100275\ttest-logloss:0.294694 \n",
      "[191]\ttrain-error:0.082370\ttrain-logloss:0.235469\ttest-error:0.100525\ttest-logloss:0.294680 \n",
      "[192]\ttrain-error:0.082370\ttrain-logloss:0.235458\ttest-error:0.100525\ttest-logloss:0.294696 \n",
      "[193]\ttrain-error:0.082307\ttrain-logloss:0.235333\ttest-error:0.100525\ttest-logloss:0.294982 \n",
      "[194]\ttrain-error:0.082370\ttrain-logloss:0.235208\ttest-error:0.099275\ttest-logloss:0.294884 \n"
     ]
    }
   ],
   "source": [
    "#define watchlist\n",
    "watchlist = list(train=xgb_train, test=xgb_test)\n",
    "\n",
    "#fit XGBoost model and display training and testing data at each round\n",
    "model_xgb = xgb.train(data = xgb_train, max.depth = 3, watchlist=watchlist,eval.metric = \"error\", eval.metric = \"logloss\", nrounds = 194, objective = \"binary:logistic\")"
   ]
  },
  {
   "cell_type": "code",
   "execution_count": 167,
   "id": "1bd3018f",
   "metadata": {},
   "outputs": [
    {
     "data": {
      "text/plain": [
       "Confusion Matrix and Statistics\n",
       "\n",
       "          Reference\n",
       "Prediction    0    1\n",
       "         0 3477  329\n",
       "         1   68  125\n",
       "                                         \n",
       "               Accuracy : 0.9007         \n",
       "                 95% CI : (0.891, 0.9098)\n",
       "    No Information Rate : 0.8865         \n",
       "    P-Value [Acc > NIR] : 0.002094       \n",
       "                                         \n",
       "                  Kappa : 0.3418         \n",
       "                                         \n",
       " Mcnemar's Test P-Value : < 2.2e-16      \n",
       "                                         \n",
       "            Sensitivity : 0.27533        \n",
       "            Specificity : 0.98082        \n",
       "         Pos Pred Value : 0.64767        \n",
       "         Neg Pred Value : 0.91356        \n",
       "              Precision : 0.64767        \n",
       "                 Recall : 0.27533        \n",
       "                     F1 : 0.38640        \n",
       "             Prevalence : 0.11353        \n",
       "         Detection Rate : 0.03126        \n",
       "   Detection Prevalence : 0.04826        \n",
       "      Balanced Accuracy : 0.62807        \n",
       "                                         \n",
       "       'Positive' Class : 1              \n",
       "                                         "
      ]
     },
     "metadata": {},
     "output_type": "display_data"
    }
   ],
   "source": [
    "# Predictions\n",
    "xgb_prediction <- predict(model_xgb, newdata = xgb_test)\n",
    "\n",
    "xgb_pred <- ifelse(xgb_prediction > 0.5, 1, 0)\n",
    "xgb_pred <- factor(xgb_pred, levels=c(0, 1))\n",
    "\n",
    "# confusion Matrix \n",
    "confusionMatrix(xgb_pred, test_data$subscribe, mode = \"everything\", positive=\"1\")"
   ]
  },
  {
   "cell_type": "code",
   "execution_count": 170,
   "id": "c5228e0b",
   "metadata": {},
   "outputs": [
    {
     "name": "stderr",
     "output_type": "stream",
     "text": [
      "Setting levels: control = 0, case = 1\n",
      "\n",
      "Setting direction: controls < cases\n",
      "\n"
     ]
    },
    {
     "name": "stdout",
     "output_type": "stream",
     "text": [
      "[1] \"AUC = 0.768512765388989\"\n"
     ]
    }
   ],
   "source": [
    "# Printing AUC\n",
    "print(paste0('AUC = ', pROC::auc(pROC::roc(test_data$subscribe, xgb_prediction))))"
   ]
  },
  {
   "cell_type": "markdown",
   "id": "69463e33",
   "metadata": {},
   "source": [
    "## GAMs"
   ]
  },
  {
   "cell_type": "code",
   "execution_count": 101,
   "id": "a7d3ab53",
   "metadata": {},
   "outputs": [
    {
     "name": "stderr",
     "output_type": "stream",
     "text": [
      "Loading required package: splines\n",
      "\n",
      "Loading required package: foreach\n",
      "\n",
      "\n",
      "Attaching package: 'foreach'\n",
      "\n",
      "\n",
      "The following objects are masked from 'package:purrr':\n",
      "\n",
      "    accumulate, when\n",
      "\n",
      "\n",
      "Loaded gam 1.20\n",
      "\n",
      "\n"
     ]
    }
   ],
   "source": [
    "library(gam)"
   ]
  },
  {
   "cell_type": "code",
   "execution_count": 145,
   "id": "023e7956",
   "metadata": {},
   "outputs": [],
   "source": [
    "gam_mod <- gam(I(subscribe)~s(age)\n",
    "               +s(campaign)+s(pdays)+s(emp.var.rate)+s(cons.price.idx)+s(cons.conf.idx)+s(euribor3m)+s(nr.employed)\n",
    "               +s(previous)+.\n",
    "               , data =train, family=binomial)"
   ]
  },
  {
   "cell_type": "code",
   "execution_count": 149,
   "id": "ed36f82a",
   "metadata": {},
   "outputs": [
    {
     "data": {
      "text/plain": [
       "\n",
       "Call: gam(formula = I(subscribe) ~ s(age) + s(campaign) + s(pdays) + \n",
       "    s(emp.var.rate) + s(cons.price.idx) + s(cons.conf.idx) + \n",
       "    s(euribor3m) + s(nr.employed) + s(previous) + ., family = binomial, \n",
       "    data = train)\n",
       "Deviance Residuals:\n",
       "    Min      1Q  Median      3Q     Max \n",
       "-2.1607 -0.3991 -0.3255 -0.2618  3.1486 \n",
       "\n",
       "(Dispersion Parameter for binomial family taken to be 1)\n",
       "\n",
       "    Null Deviance: 14154.95 on 19999 degrees of freedom\n",
       "Residual Deviance: 11111.15 on 19924 degrees of freedom\n",
       "AIC: 11263.15 \n",
       "\n",
       "Number of Local Scoring Iterations: NA \n",
       "\n",
       "Anova for Parametric Effects\n",
       "                     Df  Sum Sq Mean Sq   F value    Pr(>F)    \n",
       "s(age)                1    26.0   25.96   25.7912 3.839e-07 ***\n",
       "s(campaign)           1   102.7  102.73  102.0718 < 2.2e-16 ***\n",
       "s(pdays)              1   504.2  504.18  500.9449 < 2.2e-16 ***\n",
       "s(emp.var.rate)       1  1126.6 1126.60 1119.3830 < 2.2e-16 ***\n",
       "s(cons.price.idx)     1   151.7  151.74  150.7651 < 2.2e-16 ***\n",
       "s(cons.conf.idx)      1     7.1    7.14    7.0956  0.007733 ** \n",
       "s(euribor3m)          1     9.5    9.51    9.4526  0.002111 ** \n",
       "s(nr.employed)        1    56.8   56.80   56.4318 6.063e-14 ***\n",
       "s(previous)           1     2.5    2.50    2.4879  0.114737    \n",
       "job                  11    40.0    3.64    3.6147 3.976e-05 ***\n",
       "marital               3     9.9    3.29    3.2665  0.020371 *  \n",
       "education             7     5.2    0.74    0.7313  0.645429    \n",
       "default               2    11.5    5.73    5.6965  0.003363 ** \n",
       "housing               2     0.6    0.30    0.2999  0.740865    \n",
       "contact               2    67.4   33.70   33.4841 3.037e-15 ***\n",
       "month                10   155.2   15.52   15.4241 < 2.2e-16 ***\n",
       "poutcome              2    94.3   47.15   46.8461 < 2.2e-16 ***\n",
       "Residuals         19924 20052.5    1.01                        \n",
       "---\n",
       "Signif. codes:  0 '***' 0.001 '**' 0.01 '*' 0.05 '.' 0.1 ' ' 1\n",
       "\n",
       "Anova for Nonparametric Effects\n",
       "                  Npar Df Npar Chisq    P(Chi)    \n",
       "(Intercept)                                       \n",
       "s(age)                  3    13.0107  0.004615 ** \n",
       "s(campaign)             3     2.8818  0.410233    \n",
       "s(pdays)                3    12.4372  0.006026 ** \n",
       "s(emp.var.rate)         3     3.1602  0.367586    \n",
       "s(cons.price.idx)       3     6.3646  0.095157 .  \n",
       "s(cons.conf.idx)        3    30.6096 1.027e-06 ***\n",
       "s(euribor3m)            3    13.1671  0.004288 ** \n",
       "s(nr.employed)          3     9.3320  0.025189 *  \n",
       "s(previous)             3     2.4695  0.480811    \n",
       "age                                               \n",
       "job                                               \n",
       "marital                                           \n",
       "education                                         \n",
       "default                                           \n",
       "housing                                           \n",
       "contact                                           \n",
       "month                                             \n",
       "campaign                                          \n",
       "pdays                                             \n",
       "previous                                          \n",
       "poutcome                                          \n",
       "emp.var.rate                                      \n",
       "cons.price.idx                                    \n",
       "cons.conf.idx                                     \n",
       "euribor3m                                         \n",
       "nr.employed                                       \n",
       "---\n",
       "Signif. codes:  0 '***' 0.001 '**' 0.01 '*' 0.05 '.' 0.1 ' ' 1"
      ]
     },
     "metadata": {},
     "output_type": "display_data"
    }
   ],
   "source": [
    "summary(gam_mod)"
   ]
  },
  {
   "cell_type": "code",
   "execution_count": 147,
   "id": "3939da58",
   "metadata": {},
   "outputs": [
    {
     "name": "stderr",
     "output_type": "stream",
     "text": [
      "Warning message in predict.lm(object, newdata, se.fit, scale = 1, type = if (type == :\n",
      "\"prediction from a rank-deficient fit may be misleading\"\n"
     ]
    },
    {
     "name": "stdout",
     "output_type": "stream",
     "text": [
      "'data.frame':\t10000 obs. of  1 variable:\n",
      " $ gam_prediction: num  0.0847 0.0461 0.3708 0.1098 0.0811 ...\n"
     ]
    }
   ],
   "source": [
    "# Predictions\n",
    "gam_prediction <- predict(gam_mod, newdata = test, type = \"response\")\n",
    "gam_prediction<-data.frame(gam_prediction)\n",
    "str(gam_prediction)"
   ]
  },
  {
   "cell_type": "code",
   "execution_count": 148,
   "id": "218b108b",
   "metadata": {},
   "outputs": [],
   "source": [
    "Final<-NULL\n",
    "Final$client_id<-test_client\n",
    "Final$subscribe<-gam_prediction$gam_prediction\n",
    "Final<-data.frame(Final)\n",
    "Final<-Final%>%rename(client_id=1)\n",
    "fwrite(Final,'../Data/seventh_try.csv')"
   ]
  },
  {
   "cell_type": "code",
   "execution_count": 154,
   "id": "a7fe1e0a",
   "metadata": {},
   "outputs": [
    {
     "data": {
      "text/plain": [
       "\n",
       "Call: gam(formula = I(subscribe) ~ s(age) + s(campaign) + s(pdays) + \n",
       "    s(emp.var.rate) + s(cons.price.idx) + s(cons.conf.idx) + \n",
       "    s(euribor3m) + s(nr.employed) + s(previous) + marital + education + \n",
       "    default + contact + month, family = binomial, data = train)\n",
       "Deviance Residuals:\n",
       "   Min     1Q Median     3Q    Max \n",
       "-2.291 -0.400 -0.326 -0.262  3.133 \n",
       "\n",
       "(Dispersion Parameter for binomial family taken to be 1)\n",
       "\n",
       "    Null Deviance: 14154.95 on 19999 degrees of freedom\n",
       "Residual Deviance: 11140.03 on 19939 degrees of freedom\n",
       "AIC: 11262.03 \n",
       "\n",
       "Number of Local Scoring Iterations: NA \n",
       "\n",
       "Anova for Parametric Effects\n",
       "                     Df  Sum Sq Mean Sq   F value    Pr(>F)    \n",
       "s(age)                1    23.5   23.48   23.4736 1.276e-06 ***\n",
       "s(campaign)           1   100.1  100.07  100.0346 < 2.2e-16 ***\n",
       "s(pdays)              1   554.7  554.71  554.5383 < 2.2e-16 ***\n",
       "s(emp.var.rate)       1  1116.9 1116.94 1116.5966 < 2.2e-16 ***\n",
       "s(cons.price.idx)     1   130.7  130.66  130.6240 < 2.2e-16 ***\n",
       "s(cons.conf.idx)      1     2.9    2.90    2.9016  0.088509 .  \n",
       "s(euribor3m)          1     9.5    9.52    9.5133  0.002043 ** \n",
       "s(nr.employed)        1    50.5   50.51   50.4927 1.236e-12 ***\n",
       "s(previous)           1    23.6   23.65   23.6401 1.170e-06 ***\n",
       "marital               3    13.0    4.33    4.3259  0.004694 ** \n",
       "education             7    19.0    2.72    2.7171  0.008147 ** \n",
       "default               2    13.2    6.61    6.6073  0.001353 ** \n",
       "contact               2    69.6   34.78   34.7663 8.462e-16 ***\n",
       "month                10   159.8   15.98   15.9743 < 2.2e-16 ***\n",
       "Residuals         19939 19945.1    1.00                        \n",
       "---\n",
       "Signif. codes:  0 '***' 0.001 '**' 0.01 '*' 0.05 '.' 0.1 ' ' 1\n",
       "\n",
       "Anova for Nonparametric Effects\n",
       "                  Npar Df Npar Chisq    P(Chi)    \n",
       "(Intercept)                                       \n",
       "s(age)                  3     21.277 9.225e-05 ***\n",
       "s(campaign)             3      2.860  0.413793    \n",
       "s(pdays)                3    143.742 < 2.2e-16 ***\n",
       "s(emp.var.rate)         3      3.147  0.369512    \n",
       "s(cons.price.idx)       3      6.584  0.086405 .  \n",
       "s(cons.conf.idx)        3     31.039 8.342e-07 ***\n",
       "s(euribor3m)            3     13.265  0.004097 ** \n",
       "s(nr.employed)          3      8.705  0.033482 *  \n",
       "s(previous)             3     11.588  0.008935 ** \n",
       "marital                                           \n",
       "education                                         \n",
       "default                                           \n",
       "contact                                           \n",
       "month                                             \n",
       "---\n",
       "Signif. codes:  0 '***' 0.001 '**' 0.01 '*' 0.05 '.' 0.1 ' ' 1"
      ]
     },
     "metadata": {},
     "output_type": "display_data"
    }
   ],
   "source": [
    "gam_mod_2 <- gam(I(subscribe)~s(age)\n",
    "               +s(campaign)+s(pdays)+s(emp.var.rate)+s(cons.price.idx)+s(cons.conf.idx)+s(euribor3m)+s(nr.employed)\n",
    "               +s(previous)+\n",
    "                 marital+education+default+contact\n",
    "                 +month\n",
    "               , data =train, family=binomial)\n",
    "summary(gam_mod_2)"
   ]
  },
  {
   "cell_type": "code",
   "execution_count": 155,
   "id": "c7c3e937",
   "metadata": {},
   "outputs": [
    {
     "name": "stdout",
     "output_type": "stream",
     "text": [
      "'data.frame':\t10000 obs. of  1 variable:\n",
      " $ gam_prediction: num  0.0828 0.0496 0.3769 0.1284 0.0823 ...\n"
     ]
    }
   ],
   "source": [
    "# Predictions\n",
    "gam_prediction <- predict(gam_mod_2, newdata = test, type = \"response\")\n",
    "gam_prediction<-data.frame(gam_prediction)\n",
    "str(gam_prediction)"
   ]
  },
  {
   "cell_type": "code",
   "execution_count": 157,
   "id": "5633e7ce",
   "metadata": {},
   "outputs": [],
   "source": [
    "Final<-NULL\n",
    "Final$client_id<-test_client\n",
    "Final$subscribe<-gam_prediction$gam_prediction\n",
    "Final<-data.frame(Final)\n",
    "Final<-Final%>%rename(client_id=1)\n",
    "fwrite(Final,'../Data/eigth_try.csv')"
   ]
  },
  {
   "cell_type": "markdown",
   "id": "3f2cee66",
   "metadata": {},
   "source": [
    "## Mixing"
   ]
  },
  {
   "cell_type": "code",
   "execution_count": 97,
   "id": "70131c8c",
   "metadata": {},
   "outputs": [
    {
     "name": "stdout",
     "output_type": "stream",
     "text": [
      "[1]\ttrain-error:0.096744\ttrain-logloss:0.517084\ttest-error:0.101025\ttest-logloss:0.518293 \n",
      "[2]\ttrain-error:0.095619\ttrain-logloss:0.421693\ttest-error:0.099525\ttest-logloss:0.423767 \n",
      "[3]\ttrain-error:0.095869\ttrain-logloss:0.364682\ttest-error:0.098275\ttest-logloss:0.367849 \n",
      "[4]\ttrain-error:0.094869\ttrain-logloss:0.328895\ttest-error:0.098525\ttest-logloss:0.332946 \n",
      "[5]\ttrain-error:0.094619\ttrain-logloss:0.305861\ttest-error:0.099025\ttest-logloss:0.311362 \n",
      "[6]\ttrain-error:0.094994\ttrain-logloss:0.291160\ttest-error:0.099025\ttest-logloss:0.297382 \n",
      "[7]\ttrain-error:0.095119\ttrain-logloss:0.281689\ttest-error:0.098025\ttest-logloss:0.288469 \n",
      "[8]\ttrain-error:0.095432\ttrain-logloss:0.275307\ttest-error:0.098525\ttest-logloss:0.283261 \n",
      "[9]\ttrain-error:0.095307\ttrain-logloss:0.269679\ttest-error:0.098525\ttest-logloss:0.278986 \n",
      "[10]\ttrain-error:0.094682\ttrain-logloss:0.266102\ttest-error:0.096774\ttest-logloss:0.276790 \n",
      "[11]\ttrain-error:0.092932\ttrain-logloss:0.263881\ttest-error:0.099775\ttest-logloss:0.276493 \n",
      "[12]\ttrain-error:0.092682\ttrain-logloss:0.261634\ttest-error:0.100275\ttest-logloss:0.276237 \n",
      "[13]\ttrain-error:0.091369\ttrain-logloss:0.259852\ttest-error:0.100275\ttest-logloss:0.276189 \n",
      "[14]\ttrain-error:0.091369\ttrain-logloss:0.258712\ttest-error:0.100775\ttest-logloss:0.275510 \n",
      "[15]\ttrain-error:0.091119\ttrain-logloss:0.257306\ttest-error:0.099275\ttest-logloss:0.275770 \n",
      "[16]\ttrain-error:0.090307\ttrain-logloss:0.255758\ttest-error:0.099275\ttest-logloss:0.276124 \n",
      "[17]\ttrain-error:0.089869\ttrain-logloss:0.255211\ttest-error:0.099025\ttest-logloss:0.275988 \n",
      "[18]\ttrain-error:0.089682\ttrain-logloss:0.254708\ttest-error:0.099275\ttest-logloss:0.275961 \n",
      "[19]\ttrain-error:0.089307\ttrain-logloss:0.253544\ttest-error:0.099525\ttest-logloss:0.276338 \n",
      "[20]\ttrain-error:0.089432\ttrain-logloss:0.253041\ttest-error:0.099275\ttest-logloss:0.276466 \n",
      "[21]\ttrain-error:0.088932\ttrain-logloss:0.252171\ttest-error:0.098525\ttest-logloss:0.276415 \n",
      "[22]\ttrain-error:0.087995\ttrain-logloss:0.250586\ttest-error:0.099775\ttest-logloss:0.276843 \n",
      "[23]\ttrain-error:0.087307\ttrain-logloss:0.249810\ttest-error:0.099275\ttest-logloss:0.276798 \n",
      "[24]\ttrain-error:0.087245\ttrain-logloss:0.249341\ttest-error:0.100025\ttest-logloss:0.277279 \n",
      "[25]\ttrain-error:0.086995\ttrain-logloss:0.248188\ttest-error:0.101525\ttest-logloss:0.277641 \n",
      "[26]\ttrain-error:0.087370\ttrain-logloss:0.247362\ttest-error:0.101275\ttest-logloss:0.278263 \n",
      "[27]\ttrain-error:0.086870\ttrain-logloss:0.246810\ttest-error:0.100775\ttest-logloss:0.278353 \n",
      "[28]\ttrain-error:0.086620\ttrain-logloss:0.246122\ttest-error:0.100775\ttest-logloss:0.278119 \n",
      "[29]\ttrain-error:0.086120\ttrain-logloss:0.245608\ttest-error:0.101025\ttest-logloss:0.278374 \n",
      "[30]\ttrain-error:0.085807\ttrain-logloss:0.244252\ttest-error:0.100525\ttest-logloss:0.277969 \n",
      "[31]\ttrain-error:0.085245\ttrain-logloss:0.243164\ttest-error:0.100025\ttest-logloss:0.277738 \n",
      "[32]\ttrain-error:0.085057\ttrain-logloss:0.242668\ttest-error:0.099775\ttest-logloss:0.278059 \n",
      "[33]\ttrain-error:0.084682\ttrain-logloss:0.242412\ttest-error:0.099275\ttest-logloss:0.278056 \n",
      "[34]\ttrain-error:0.084557\ttrain-logloss:0.241791\ttest-error:0.099275\ttest-logloss:0.278312 \n",
      "[35]\ttrain-error:0.083807\ttrain-logloss:0.240951\ttest-error:0.100275\ttest-logloss:0.278800 \n",
      "[36]\ttrain-error:0.083745\ttrain-logloss:0.240226\ttest-error:0.099775\ttest-logloss:0.279180 \n",
      "[37]\ttrain-error:0.083307\ttrain-logloss:0.239664\ttest-error:0.100025\ttest-logloss:0.279050 \n",
      "[38]\ttrain-error:0.082932\ttrain-logloss:0.239060\ttest-error:0.100025\ttest-logloss:0.279348 \n",
      "[39]\ttrain-error:0.083120\ttrain-logloss:0.238439\ttest-error:0.100525\ttest-logloss:0.279063 \n",
      "[40]\ttrain-error:0.082870\ttrain-logloss:0.237564\ttest-error:0.101275\ttest-logloss:0.279043 \n",
      "[41]\ttrain-error:0.082870\ttrain-logloss:0.237092\ttest-error:0.101525\ttest-logloss:0.279158 \n",
      "[42]\ttrain-error:0.082620\ttrain-logloss:0.236762\ttest-error:0.101525\ttest-logloss:0.279380 \n",
      "[43]\ttrain-error:0.082307\ttrain-logloss:0.236404\ttest-error:0.101275\ttest-logloss:0.279311 \n",
      "[44]\ttrain-error:0.082057\ttrain-logloss:0.235715\ttest-error:0.101775\ttest-logloss:0.279535 \n",
      "[45]\ttrain-error:0.081120\ttrain-logloss:0.234990\ttest-error:0.101525\ttest-logloss:0.279516 \n",
      "[46]\ttrain-error:0.080620\ttrain-logloss:0.234688\ttest-error:0.101525\ttest-logloss:0.279791 \n",
      "[47]\ttrain-error:0.080370\ttrain-logloss:0.234100\ttest-error:0.101025\ttest-logloss:0.279596 \n",
      "[48]\ttrain-error:0.080245\ttrain-logloss:0.233747\ttest-error:0.101025\ttest-logloss:0.279586 \n",
      "[49]\ttrain-error:0.080370\ttrain-logloss:0.233283\ttest-error:0.102026\ttest-logloss:0.279777 \n",
      "[50]\ttrain-error:0.080307\ttrain-logloss:0.233135\ttest-error:0.101525\ttest-logloss:0.279807 \n",
      "[51]\ttrain-error:0.079745\ttrain-logloss:0.232542\ttest-error:0.101275\ttest-logloss:0.279933 \n",
      "[52]\ttrain-error:0.079933\ttrain-logloss:0.232280\ttest-error:0.101525\ttest-logloss:0.280178 \n",
      "[53]\ttrain-error:0.079808\ttrain-logloss:0.232173\ttest-error:0.101275\ttest-logloss:0.280223 \n",
      "[54]\ttrain-error:0.079808\ttrain-logloss:0.230901\ttest-error:0.101775\ttest-logloss:0.280258 \n",
      "[55]\ttrain-error:0.079620\ttrain-logloss:0.230179\ttest-error:0.101025\ttest-logloss:0.280445 \n",
      "[56]\ttrain-error:0.079370\ttrain-logloss:0.229576\ttest-error:0.101775\ttest-logloss:0.280843 \n",
      "[57]\ttrain-error:0.079245\ttrain-logloss:0.229421\ttest-error:0.101525\ttest-logloss:0.280977 \n",
      "[58]\ttrain-error:0.079058\ttrain-logloss:0.229356\ttest-error:0.101775\ttest-logloss:0.281086 \n",
      "[59]\ttrain-error:0.078683\ttrain-logloss:0.228621\ttest-error:0.101525\ttest-logloss:0.281041 \n",
      "[60]\ttrain-error:0.078245\ttrain-logloss:0.228116\ttest-error:0.101525\ttest-logloss:0.281202 \n",
      "[61]\ttrain-error:0.078183\ttrain-logloss:0.227410\ttest-error:0.101775\ttest-logloss:0.281202 \n",
      "[62]\ttrain-error:0.077870\ttrain-logloss:0.226215\ttest-error:0.102276\ttest-logloss:0.281550 \n",
      "[63]\ttrain-error:0.077683\ttrain-logloss:0.225170\ttest-error:0.103276\ttest-logloss:0.281816 \n",
      "[64]\ttrain-error:0.077558\ttrain-logloss:0.224391\ttest-error:0.103276\ttest-logloss:0.282683 \n",
      "[65]\ttrain-error:0.077245\ttrain-logloss:0.223933\ttest-error:0.102026\ttest-logloss:0.282721 \n",
      "[66]\ttrain-error:0.076995\ttrain-logloss:0.223081\ttest-error:0.102276\ttest-logloss:0.282754 \n",
      "[67]\ttrain-error:0.076933\ttrain-logloss:0.222332\ttest-error:0.102526\ttest-logloss:0.283003 \n",
      "[68]\ttrain-error:0.076745\ttrain-logloss:0.221350\ttest-error:0.104026\ttest-logloss:0.283299 \n",
      "[69]\ttrain-error:0.076495\ttrain-logloss:0.220282\ttest-error:0.104276\ttest-logloss:0.283806 \n",
      "[70]\ttrain-error:0.076120\ttrain-logloss:0.220011\ttest-error:0.105026\ttest-logloss:0.283872 \n",
      "[71]\ttrain-error:0.075870\ttrain-logloss:0.219617\ttest-error:0.105276\ttest-logloss:0.284026 \n",
      "[72]\ttrain-error:0.075870\ttrain-logloss:0.219113\ttest-error:0.105026\ttest-logloss:0.284363 \n",
      "[73]\ttrain-error:0.075683\ttrain-logloss:0.218698\ttest-error:0.105026\ttest-logloss:0.284413 \n",
      "[74]\ttrain-error:0.075495\ttrain-logloss:0.218569\ttest-error:0.104776\ttest-logloss:0.284443 \n",
      "[75]\ttrain-error:0.075558\ttrain-logloss:0.218323\ttest-error:0.104526\ttest-logloss:0.284504 \n",
      "[76]\ttrain-error:0.074620\ttrain-logloss:0.217345\ttest-error:0.104276\ttest-logloss:0.285110 \n",
      "[77]\ttrain-error:0.074308\ttrain-logloss:0.216309\ttest-error:0.103776\ttest-logloss:0.285624 \n",
      "[78]\ttrain-error:0.074183\ttrain-logloss:0.215777\ttest-error:0.103526\ttest-logloss:0.285589 \n",
      "[79]\ttrain-error:0.074058\ttrain-logloss:0.215673\ttest-error:0.103276\ttest-logloss:0.285614 \n",
      "[80]\ttrain-error:0.073808\ttrain-logloss:0.215327\ttest-error:0.105026\ttest-logloss:0.286050 \n",
      "[81]\ttrain-error:0.073308\ttrain-logloss:0.214873\ttest-error:0.105026\ttest-logloss:0.286269 \n",
      "[82]\ttrain-error:0.073308\ttrain-logloss:0.214552\ttest-error:0.104776\ttest-logloss:0.286476 \n",
      "[83]\ttrain-error:0.072808\ttrain-logloss:0.214173\ttest-error:0.105026\ttest-logloss:0.286674 \n",
      "[84]\ttrain-error:0.072745\ttrain-logloss:0.213982\ttest-error:0.105276\ttest-logloss:0.286985 \n",
      "[85]\ttrain-error:0.072495\ttrain-logloss:0.213473\ttest-error:0.105026\ttest-logloss:0.287517 \n",
      "[86]\ttrain-error:0.072370\ttrain-logloss:0.213311\ttest-error:0.105026\ttest-logloss:0.287335 \n",
      "[87]\ttrain-error:0.072370\ttrain-logloss:0.212598\ttest-error:0.105026\ttest-logloss:0.288087 \n",
      "[88]\ttrain-error:0.072745\ttrain-logloss:0.212314\ttest-error:0.105026\ttest-logloss:0.288044 \n",
      "[89]\ttrain-error:0.072870\ttrain-logloss:0.211939\ttest-error:0.105026\ttest-logloss:0.288023 \n",
      "[90]\ttrain-error:0.072620\ttrain-logloss:0.211807\ttest-error:0.105026\ttest-logloss:0.288230 \n",
      "[91]\ttrain-error:0.072620\ttrain-logloss:0.211712\ttest-error:0.105276\ttest-logloss:0.288201 \n",
      "[92]\ttrain-error:0.072370\ttrain-logloss:0.211501\ttest-error:0.105526\ttest-logloss:0.288357 \n",
      "[93]\ttrain-error:0.072308\ttrain-logloss:0.211413\ttest-error:0.105276\ttest-logloss:0.288324 \n",
      "[94]\ttrain-error:0.071871\ttrain-logloss:0.211061\ttest-error:0.105276\ttest-logloss:0.288722 \n",
      "[95]\ttrain-error:0.071933\ttrain-logloss:0.210932\ttest-error:0.105276\ttest-logloss:0.288669 \n",
      "[96]\ttrain-error:0.071433\ttrain-logloss:0.210794\ttest-error:0.105776\ttest-logloss:0.288676 \n",
      "[97]\ttrain-error:0.071371\ttrain-logloss:0.210622\ttest-error:0.105776\ttest-logloss:0.288893 \n",
      "[98]\ttrain-error:0.070683\ttrain-logloss:0.209815\ttest-error:0.105526\ttest-logloss:0.288559 \n",
      "[99]\ttrain-error:0.071371\ttrain-logloss:0.209183\ttest-error:0.105776\ttest-logloss:0.288919 \n",
      "[100]\ttrain-error:0.070808\ttrain-logloss:0.208740\ttest-error:0.106527\ttest-logloss:0.289050 \n",
      "[101]\ttrain-error:0.070683\ttrain-logloss:0.208317\ttest-error:0.106027\ttest-logloss:0.289235 \n",
      "[102]\ttrain-error:0.070683\ttrain-logloss:0.208033\ttest-error:0.106277\ttest-logloss:0.289459 \n",
      "[103]\ttrain-error:0.070496\ttrain-logloss:0.207894\ttest-error:0.106527\ttest-logloss:0.289531 \n",
      "[104]\ttrain-error:0.070371\ttrain-logloss:0.207634\ttest-error:0.106527\ttest-logloss:0.289418 \n",
      "[105]\ttrain-error:0.070246\ttrain-logloss:0.207311\ttest-error:0.106277\ttest-logloss:0.289724 \n",
      "[106]\ttrain-error:0.069871\ttrain-logloss:0.206886\ttest-error:0.106777\ttest-logloss:0.289859 \n",
      "[107]\ttrain-error:0.069621\ttrain-logloss:0.206700\ttest-error:0.106777\ttest-logloss:0.290050 \n",
      "[108]\ttrain-error:0.069433\ttrain-logloss:0.206334\ttest-error:0.107027\ttest-logloss:0.290392 \n",
      "[109]\ttrain-error:0.069246\ttrain-logloss:0.206027\ttest-error:0.107277\ttest-logloss:0.290628 \n",
      "[110]\ttrain-error:0.069121\ttrain-logloss:0.205601\ttest-error:0.106777\ttest-logloss:0.290952 \n",
      "[111]\ttrain-error:0.068746\ttrain-logloss:0.205206\ttest-error:0.106777\ttest-logloss:0.290960 \n",
      "[112]\ttrain-error:0.068746\ttrain-logloss:0.204519\ttest-error:0.106527\ttest-logloss:0.291289 \n",
      "[113]\ttrain-error:0.068371\ttrain-logloss:0.203855\ttest-error:0.107027\ttest-logloss:0.290938 \n",
      "[114]\ttrain-error:0.068371\ttrain-logloss:0.203460\ttest-error:0.107277\ttest-logloss:0.291317 \n",
      "[115]\ttrain-error:0.067871\ttrain-logloss:0.202813\ttest-error:0.107027\ttest-logloss:0.291270 \n",
      "[116]\ttrain-error:0.067433\ttrain-logloss:0.202474\ttest-error:0.106527\ttest-logloss:0.291365 \n",
      "[117]\ttrain-error:0.067433\ttrain-logloss:0.202082\ttest-error:0.106527\ttest-logloss:0.291149 \n",
      "[118]\ttrain-error:0.067246\ttrain-logloss:0.201691\ttest-error:0.106277\ttest-logloss:0.291500 \n",
      "[119]\ttrain-error:0.066933\ttrain-logloss:0.201125\ttest-error:0.107277\ttest-logloss:0.292185 \n",
      "[120]\ttrain-error:0.067058\ttrain-logloss:0.200858\ttest-error:0.107277\ttest-logloss:0.292209 \n",
      "[121]\ttrain-error:0.066871\ttrain-logloss:0.200474\ttest-error:0.107277\ttest-logloss:0.292609 \n",
      "[122]\ttrain-error:0.066871\ttrain-logloss:0.199837\ttest-error:0.107527\ttest-logloss:0.293238 \n",
      "[123]\ttrain-error:0.066808\ttrain-logloss:0.199207\ttest-error:0.108027\ttest-logloss:0.293312 \n",
      "[124]\ttrain-error:0.066808\ttrain-logloss:0.199094\ttest-error:0.108527\ttest-logloss:0.293281 \n",
      "[125]\ttrain-error:0.066621\ttrain-logloss:0.198785\ttest-error:0.107527\ttest-logloss:0.293229 \n",
      "[126]\ttrain-error:0.066121\ttrain-logloss:0.198053\ttest-error:0.107027\ttest-logloss:0.292859 \n",
      "[127]\ttrain-error:0.066183\ttrain-logloss:0.197794\ttest-error:0.107277\ttest-logloss:0.292925 \n",
      "[128]\ttrain-error:0.065308\ttrain-logloss:0.197454\ttest-error:0.107277\ttest-logloss:0.293036 \n",
      "[129]\ttrain-error:0.064933\ttrain-logloss:0.196989\ttest-error:0.107527\ttest-logloss:0.292992 \n",
      "[130]\ttrain-error:0.064683\ttrain-logloss:0.196430\ttest-error:0.107777\ttest-logloss:0.292750 \n",
      "[131]\ttrain-error:0.064496\ttrain-logloss:0.196180\ttest-error:0.107777\ttest-logloss:0.292656 \n",
      "[132]\ttrain-error:0.064746\ttrain-logloss:0.195697\ttest-error:0.107277\ttest-logloss:0.292769 \n",
      "[133]\ttrain-error:0.064746\ttrain-logloss:0.195549\ttest-error:0.106777\ttest-logloss:0.292833 \n",
      "[134]\ttrain-error:0.064121\ttrain-logloss:0.195074\ttest-error:0.106027\ttest-logloss:0.292858 \n",
      "[135]\ttrain-error:0.064183\ttrain-logloss:0.194980\ttest-error:0.106277\ttest-logloss:0.292856 \n",
      "[136]\ttrain-error:0.063496\ttrain-logloss:0.194595\ttest-error:0.105776\ttest-logloss:0.293156 \n",
      "[137]\ttrain-error:0.063559\ttrain-logloss:0.194390\ttest-error:0.105776\ttest-logloss:0.293311 \n",
      "[138]\ttrain-error:0.063246\ttrain-logloss:0.193688\ttest-error:0.105276\ttest-logloss:0.293769 \n",
      "[139]\ttrain-error:0.063121\ttrain-logloss:0.193373\ttest-error:0.105276\ttest-logloss:0.294196 \n",
      "[140]\ttrain-error:0.062746\ttrain-logloss:0.192893\ttest-error:0.105276\ttest-logloss:0.294581 \n",
      "[141]\ttrain-error:0.062934\ttrain-logloss:0.192394\ttest-error:0.105276\ttest-logloss:0.294584 \n",
      "[142]\ttrain-error:0.062684\ttrain-logloss:0.192051\ttest-error:0.105276\ttest-logloss:0.294449 \n",
      "[143]\ttrain-error:0.062621\ttrain-logloss:0.191957\ttest-error:0.105526\ttest-logloss:0.294533 \n",
      "[144]\ttrain-error:0.062496\ttrain-logloss:0.191505\ttest-error:0.106027\ttest-logloss:0.294616 \n",
      "[145]\ttrain-error:0.062496\ttrain-logloss:0.191455\ttest-error:0.106027\ttest-logloss:0.294784 \n",
      "[146]\ttrain-error:0.062496\ttrain-logloss:0.191325\ttest-error:0.106027\ttest-logloss:0.295084 \n",
      "[147]\ttrain-error:0.062434\ttrain-logloss:0.191223\ttest-error:0.106027\ttest-logloss:0.295009 \n",
      "[148]\ttrain-error:0.062121\ttrain-logloss:0.190977\ttest-error:0.106027\ttest-logloss:0.295207 \n",
      "[149]\ttrain-error:0.062121\ttrain-logloss:0.190753\ttest-error:0.105776\ttest-logloss:0.295087 \n",
      "[150]\ttrain-error:0.062121\ttrain-logloss:0.190660\ttest-error:0.105526\ttest-logloss:0.295078 \n",
      "[151]\ttrain-error:0.062121\ttrain-logloss:0.190127\ttest-error:0.103776\ttest-logloss:0.294642 \n",
      "[152]\ttrain-error:0.061996\ttrain-logloss:0.189853\ttest-error:0.103276\ttest-logloss:0.294710 \n",
      "[153]\ttrain-error:0.061559\ttrain-logloss:0.189521\ttest-error:0.102776\ttest-logloss:0.294825 \n",
      "[154]\ttrain-error:0.061559\ttrain-logloss:0.189111\ttest-error:0.103276\ttest-logloss:0.295232 \n",
      "[155]\ttrain-error:0.061371\ttrain-logloss:0.188819\ttest-error:0.103276\ttest-logloss:0.295120 \n",
      "[156]\ttrain-error:0.061184\ttrain-logloss:0.187814\ttest-error:0.103526\ttest-logloss:0.295782 \n",
      "[157]\ttrain-error:0.061059\ttrain-logloss:0.187235\ttest-error:0.103276\ttest-logloss:0.296024 \n",
      "[158]\ttrain-error:0.060996\ttrain-logloss:0.186700\ttest-error:0.104026\ttest-logloss:0.295977 \n",
      "[159]\ttrain-error:0.060809\ttrain-logloss:0.186258\ttest-error:0.103776\ttest-logloss:0.296026 \n",
      "[160]\ttrain-error:0.061184\ttrain-logloss:0.185680\ttest-error:0.104026\ttest-logloss:0.296400 \n",
      "[161]\ttrain-error:0.060996\ttrain-logloss:0.185281\ttest-error:0.103526\ttest-logloss:0.296569 \n",
      "[162]\ttrain-error:0.061059\ttrain-logloss:0.184782\ttest-error:0.103276\ttest-logloss:0.297065 \n",
      "[163]\ttrain-error:0.060746\ttrain-logloss:0.184627\ttest-error:0.104276\ttest-logloss:0.297099 \n",
      "[164]\ttrain-error:0.060746\ttrain-logloss:0.184231\ttest-error:0.104026\ttest-logloss:0.297294 \n",
      "[165]\ttrain-error:0.060621\ttrain-logloss:0.184037\ttest-error:0.105026\ttest-logloss:0.297393 \n",
      "[166]\ttrain-error:0.060496\ttrain-logloss:0.183864\ttest-error:0.104526\ttest-logloss:0.297345 \n",
      "[167]\ttrain-error:0.060434\ttrain-logloss:0.183788\ttest-error:0.104526\ttest-logloss:0.297519 \n",
      "[168]\ttrain-error:0.060496\ttrain-logloss:0.183481\ttest-error:0.104776\ttest-logloss:0.297763 \n",
      "[169]\ttrain-error:0.060434\ttrain-logloss:0.182971\ttest-error:0.104776\ttest-logloss:0.297990 \n",
      "[170]\ttrain-error:0.060559\ttrain-logloss:0.182530\ttest-error:0.104776\ttest-logloss:0.298295 \n",
      "[171]\ttrain-error:0.060371\ttrain-logloss:0.182294\ttest-error:0.105026\ttest-logloss:0.298522 \n",
      "[172]\ttrain-error:0.060121\ttrain-logloss:0.181981\ttest-error:0.105026\ttest-logloss:0.298532 \n",
      "[173]\ttrain-error:0.060121\ttrain-logloss:0.181935\ttest-error:0.105276\ttest-logloss:0.298652 \n",
      "[174]\ttrain-error:0.060059\ttrain-logloss:0.181595\ttest-error:0.104776\ttest-logloss:0.298451 \n",
      "[175]\ttrain-error:0.059871\ttrain-logloss:0.181164\ttest-error:0.104276\ttest-logloss:0.298652 \n",
      "[176]\ttrain-error:0.059684\ttrain-logloss:0.181035\ttest-error:0.104026\ttest-logloss:0.298770 \n",
      "[177]\ttrain-error:0.059621\ttrain-logloss:0.180817\ttest-error:0.104026\ttest-logloss:0.299116 \n",
      "[178]\ttrain-error:0.059559\ttrain-logloss:0.180387\ttest-error:0.104026\ttest-logloss:0.299700 \n",
      "[179]\ttrain-error:0.059559\ttrain-logloss:0.180129\ttest-error:0.104026\ttest-logloss:0.299646 \n",
      "[180]\ttrain-error:0.059621\ttrain-logloss:0.180101\ttest-error:0.104026\ttest-logloss:0.299704 \n",
      "[181]\ttrain-error:0.059371\ttrain-logloss:0.179741\ttest-error:0.105026\ttest-logloss:0.300152 \n",
      "[182]\ttrain-error:0.059309\ttrain-logloss:0.179541\ttest-error:0.105526\ttest-logloss:0.300036 \n",
      "[183]\ttrain-error:0.059309\ttrain-logloss:0.179362\ttest-error:0.105526\ttest-logloss:0.300127 \n",
      "[184]\ttrain-error:0.059184\ttrain-logloss:0.178666\ttest-error:0.106027\ttest-logloss:0.300461 \n",
      "[185]\ttrain-error:0.059184\ttrain-logloss:0.178246\ttest-error:0.105776\ttest-logloss:0.300305 \n",
      "[186]\ttrain-error:0.058934\ttrain-logloss:0.178004\ttest-error:0.105526\ttest-logloss:0.300489 \n",
      "[187]\ttrain-error:0.058996\ttrain-logloss:0.177943\ttest-error:0.105526\ttest-logloss:0.300593 \n",
      "[188]\ttrain-error:0.058934\ttrain-logloss:0.177671\ttest-error:0.105776\ttest-logloss:0.300705 \n",
      "[189]\ttrain-error:0.058684\ttrain-logloss:0.177193\ttest-error:0.106277\ttest-logloss:0.301110 \n",
      "[190]\ttrain-error:0.058246\ttrain-logloss:0.176259\ttest-error:0.106027\ttest-logloss:0.301503 \n",
      "[191]\ttrain-error:0.058184\ttrain-logloss:0.176000\ttest-error:0.105776\ttest-logloss:0.301572 \n",
      "[192]\ttrain-error:0.058121\ttrain-logloss:0.175467\ttest-error:0.105026\ttest-logloss:0.301532 \n",
      "[193]\ttrain-error:0.057934\ttrain-logloss:0.175219\ttest-error:0.104776\ttest-logloss:0.301630 \n",
      "[194]\ttrain-error:0.057559\ttrain-logloss:0.174990\ttest-error:0.105776\ttest-logloss:0.301736 \n"
     ]
    }
   ],
   "source": [
    "#define watchlist\n",
    "watchlist = list(train=xgb_train, test=xgb_test)\n",
    "\n",
    "#fit XGBoost model and display training and testing data at each round\n",
    "model_xgb = xgb.train(data = xgb_train, max.depth = 5,\n",
    "                      watchlist=watchlist,eval.metric = \"error\",\n",
    "                      eval.metric = \"logloss\", nrounds = 194, objective = \"binary:logistic\")\n"
   ]
  },
  {
   "cell_type": "code",
   "execution_count": 114,
   "id": "1f3186eb",
   "metadata": {},
   "outputs": [
    {
     "data": {
      "text/html": [
       "<table class=\"dataframe\">\n",
       "<caption>A data.frame: 3999 × 1</caption>\n",
       "<thead>\n",
       "\t<tr><th scope=col>xgb_prediction_2</th></tr>\n",
       "\t<tr><th scope=col>&lt;dbl&gt;</th></tr>\n",
       "</thead>\n",
       "<tbody>\n",
       "\t<tr><td>0.0471677259</td></tr>\n",
       "\t<tr><td>0.0376315042</td></tr>\n",
       "\t<tr><td>0.0738262087</td></tr>\n",
       "\t<tr><td>0.0184125286</td></tr>\n",
       "\t<tr><td>0.0179929789</td></tr>\n",
       "\t<tr><td>0.1794251204</td></tr>\n",
       "\t<tr><td>0.0464124568</td></tr>\n",
       "\t<tr><td>0.0315046981</td></tr>\n",
       "\t<tr><td>0.0255300719</td></tr>\n",
       "\t<tr><td>0.0133486772</td></tr>\n",
       "\t<tr><td>0.0624433756</td></tr>\n",
       "\t<tr><td>0.1209082007</td></tr>\n",
       "\t<tr><td>0.0683788657</td></tr>\n",
       "\t<tr><td>0.0207974389</td></tr>\n",
       "\t<tr><td>0.0407325178</td></tr>\n",
       "\t<tr><td>0.0696850121</td></tr>\n",
       "\t<tr><td>0.0321836136</td></tr>\n",
       "\t<tr><td>0.0008731963</td></tr>\n",
       "\t<tr><td>0.0740502626</td></tr>\n",
       "\t<tr><td>0.0049201776</td></tr>\n",
       "\t<tr><td>0.9714686871</td></tr>\n",
       "\t<tr><td>0.0153511278</td></tr>\n",
       "\t<tr><td>0.0087635620</td></tr>\n",
       "\t<tr><td>0.0071844799</td></tr>\n",
       "\t<tr><td>0.0154882558</td></tr>\n",
       "\t<tr><td>0.4716865718</td></tr>\n",
       "\t<tr><td>0.1827485710</td></tr>\n",
       "\t<tr><td>0.0073708892</td></tr>\n",
       "\t<tr><td>0.0360899568</td></tr>\n",
       "\t<tr><td>0.2589545250</td></tr>\n",
       "\t<tr><td>⋮</td></tr>\n",
       "\t<tr><td>0.012678796</td></tr>\n",
       "\t<tr><td>0.139524177</td></tr>\n",
       "\t<tr><td>0.031633720</td></tr>\n",
       "\t<tr><td>0.035896469</td></tr>\n",
       "\t<tr><td>0.011216090</td></tr>\n",
       "\t<tr><td>0.963918090</td></tr>\n",
       "\t<tr><td>0.053172793</td></tr>\n",
       "\t<tr><td>0.049282011</td></tr>\n",
       "\t<tr><td>0.086991690</td></tr>\n",
       "\t<tr><td>0.081598088</td></tr>\n",
       "\t<tr><td>0.049802244</td></tr>\n",
       "\t<tr><td>0.036327731</td></tr>\n",
       "\t<tr><td>0.032252073</td></tr>\n",
       "\t<tr><td>0.046005350</td></tr>\n",
       "\t<tr><td>0.011363611</td></tr>\n",
       "\t<tr><td>0.034555700</td></tr>\n",
       "\t<tr><td>0.078546330</td></tr>\n",
       "\t<tr><td>0.006973635</td></tr>\n",
       "\t<tr><td>0.064246528</td></tr>\n",
       "\t<tr><td>0.060586087</td></tr>\n",
       "\t<tr><td>0.041744869</td></tr>\n",
       "\t<tr><td>0.054530706</td></tr>\n",
       "\t<tr><td>0.110686556</td></tr>\n",
       "\t<tr><td>0.071703553</td></tr>\n",
       "\t<tr><td>0.017201053</td></tr>\n",
       "\t<tr><td>0.748525739</td></tr>\n",
       "\t<tr><td>0.011870318</td></tr>\n",
       "\t<tr><td>0.002203015</td></tr>\n",
       "\t<tr><td>0.344614714</td></tr>\n",
       "\t<tr><td>0.047528937</td></tr>\n",
       "</tbody>\n",
       "</table>\n"
      ],
      "text/latex": [
       "A data.frame: 3999 × 1\n",
       "\\begin{tabular}{l}\n",
       " xgb\\_prediction\\_2\\\\\n",
       " <dbl>\\\\\n",
       "\\hline\n",
       "\t 0.0471677259\\\\\n",
       "\t 0.0376315042\\\\\n",
       "\t 0.0738262087\\\\\n",
       "\t 0.0184125286\\\\\n",
       "\t 0.0179929789\\\\\n",
       "\t 0.1794251204\\\\\n",
       "\t 0.0464124568\\\\\n",
       "\t 0.0315046981\\\\\n",
       "\t 0.0255300719\\\\\n",
       "\t 0.0133486772\\\\\n",
       "\t 0.0624433756\\\\\n",
       "\t 0.1209082007\\\\\n",
       "\t 0.0683788657\\\\\n",
       "\t 0.0207974389\\\\\n",
       "\t 0.0407325178\\\\\n",
       "\t 0.0696850121\\\\\n",
       "\t 0.0321836136\\\\\n",
       "\t 0.0008731963\\\\\n",
       "\t 0.0740502626\\\\\n",
       "\t 0.0049201776\\\\\n",
       "\t 0.9714686871\\\\\n",
       "\t 0.0153511278\\\\\n",
       "\t 0.0087635620\\\\\n",
       "\t 0.0071844799\\\\\n",
       "\t 0.0154882558\\\\\n",
       "\t 0.4716865718\\\\\n",
       "\t 0.1827485710\\\\\n",
       "\t 0.0073708892\\\\\n",
       "\t 0.0360899568\\\\\n",
       "\t 0.2589545250\\\\\n",
       "\t ⋮\\\\\n",
       "\t 0.012678796\\\\\n",
       "\t 0.139524177\\\\\n",
       "\t 0.031633720\\\\\n",
       "\t 0.035896469\\\\\n",
       "\t 0.011216090\\\\\n",
       "\t 0.963918090\\\\\n",
       "\t 0.053172793\\\\\n",
       "\t 0.049282011\\\\\n",
       "\t 0.086991690\\\\\n",
       "\t 0.081598088\\\\\n",
       "\t 0.049802244\\\\\n",
       "\t 0.036327731\\\\\n",
       "\t 0.032252073\\\\\n",
       "\t 0.046005350\\\\\n",
       "\t 0.011363611\\\\\n",
       "\t 0.034555700\\\\\n",
       "\t 0.078546330\\\\\n",
       "\t 0.006973635\\\\\n",
       "\t 0.064246528\\\\\n",
       "\t 0.060586087\\\\\n",
       "\t 0.041744869\\\\\n",
       "\t 0.054530706\\\\\n",
       "\t 0.110686556\\\\\n",
       "\t 0.071703553\\\\\n",
       "\t 0.017201053\\\\\n",
       "\t 0.748525739\\\\\n",
       "\t 0.011870318\\\\\n",
       "\t 0.002203015\\\\\n",
       "\t 0.344614714\\\\\n",
       "\t 0.047528937\\\\\n",
       "\\end{tabular}\n"
      ],
      "text/markdown": [
       "\n",
       "A data.frame: 3999 × 1\n",
       "\n",
       "| xgb_prediction_2 &lt;dbl&gt; |\n",
       "|---|\n",
       "| 0.0471677259 |\n",
       "| 0.0376315042 |\n",
       "| 0.0738262087 |\n",
       "| 0.0184125286 |\n",
       "| 0.0179929789 |\n",
       "| 0.1794251204 |\n",
       "| 0.0464124568 |\n",
       "| 0.0315046981 |\n",
       "| 0.0255300719 |\n",
       "| 0.0133486772 |\n",
       "| 0.0624433756 |\n",
       "| 0.1209082007 |\n",
       "| 0.0683788657 |\n",
       "| 0.0207974389 |\n",
       "| 0.0407325178 |\n",
       "| 0.0696850121 |\n",
       "| 0.0321836136 |\n",
       "| 0.0008731963 |\n",
       "| 0.0740502626 |\n",
       "| 0.0049201776 |\n",
       "| 0.9714686871 |\n",
       "| 0.0153511278 |\n",
       "| 0.0087635620 |\n",
       "| 0.0071844799 |\n",
       "| 0.0154882558 |\n",
       "| 0.4716865718 |\n",
       "| 0.1827485710 |\n",
       "| 0.0073708892 |\n",
       "| 0.0360899568 |\n",
       "| 0.2589545250 |\n",
       "| ⋮ |\n",
       "| 0.012678796 |\n",
       "| 0.139524177 |\n",
       "| 0.031633720 |\n",
       "| 0.035896469 |\n",
       "| 0.011216090 |\n",
       "| 0.963918090 |\n",
       "| 0.053172793 |\n",
       "| 0.049282011 |\n",
       "| 0.086991690 |\n",
       "| 0.081598088 |\n",
       "| 0.049802244 |\n",
       "| 0.036327731 |\n",
       "| 0.032252073 |\n",
       "| 0.046005350 |\n",
       "| 0.011363611 |\n",
       "| 0.034555700 |\n",
       "| 0.078546330 |\n",
       "| 0.006973635 |\n",
       "| 0.064246528 |\n",
       "| 0.060586087 |\n",
       "| 0.041744869 |\n",
       "| 0.054530706 |\n",
       "| 0.110686556 |\n",
       "| 0.071703553 |\n",
       "| 0.017201053 |\n",
       "| 0.748525739 |\n",
       "| 0.011870318 |\n",
       "| 0.002203015 |\n",
       "| 0.344614714 |\n",
       "| 0.047528937 |\n",
       "\n"
      ],
      "text/plain": [
       "     xgb_prediction_2\n",
       "1    0.0471677259    \n",
       "2    0.0376315042    \n",
       "3    0.0738262087    \n",
       "4    0.0184125286    \n",
       "5    0.0179929789    \n",
       "6    0.1794251204    \n",
       "7    0.0464124568    \n",
       "8    0.0315046981    \n",
       "9    0.0255300719    \n",
       "10   0.0133486772    \n",
       "11   0.0624433756    \n",
       "12   0.1209082007    \n",
       "13   0.0683788657    \n",
       "14   0.0207974389    \n",
       "15   0.0407325178    \n",
       "16   0.0696850121    \n",
       "17   0.0321836136    \n",
       "18   0.0008731963    \n",
       "19   0.0740502626    \n",
       "20   0.0049201776    \n",
       "21   0.9714686871    \n",
       "22   0.0153511278    \n",
       "23   0.0087635620    \n",
       "24   0.0071844799    \n",
       "25   0.0154882558    \n",
       "26   0.4716865718    \n",
       "27   0.1827485710    \n",
       "28   0.0073708892    \n",
       "29   0.0360899568    \n",
       "30   0.2589545250    \n",
       "<U+22EE>    <U+22EE>        \n",
       "3970 0.012678796     \n",
       "3971 0.139524177     \n",
       "3972 0.031633720     \n",
       "3973 0.035896469     \n",
       "3974 0.011216090     \n",
       "3975 0.963918090     \n",
       "3976 0.053172793     \n",
       "3977 0.049282011     \n",
       "3978 0.086991690     \n",
       "3979 0.081598088     \n",
       "3980 0.049802244     \n",
       "3981 0.036327731     \n",
       "3982 0.032252073     \n",
       "3983 0.046005350     \n",
       "3984 0.011363611     \n",
       "3985 0.034555700     \n",
       "3986 0.078546330     \n",
       "3987 0.006973635     \n",
       "3988 0.064246528     \n",
       "3989 0.060586087     \n",
       "3990 0.041744869     \n",
       "3991 0.054530706     \n",
       "3992 0.110686556     \n",
       "3993 0.071703553     \n",
       "3994 0.017201053     \n",
       "3995 0.748525739     \n",
       "3996 0.011870318     \n",
       "3997 0.002203015     \n",
       "3998 0.344614714     \n",
       "3999 0.047528937     "
      ]
     },
     "metadata": {},
     "output_type": "display_data"
    }
   ],
   "source": [
    "xgb_prediction_2 <- predict(model_xgb, newdata = xgb_test)\n",
    "xgb_prediction_2<-data.frame(xgb_prediction_2)\n",
    "xgb_prediction_2"
   ]
  },
  {
   "cell_type": "code",
   "execution_count": 106,
   "id": "edc73fac",
   "metadata": {},
   "outputs": [
    {
     "data": {
      "text/plain": [
       "\n",
       "Call: gam(formula = I(subscribe) ~ s(age^3) + s(pdays) + s(cons.price.idx) + \n",
       "    s(cons.conf.idx) + s(euribor3m^2) + s(nr.employed) + s(previous), \n",
       "    family = binomial, data = train, sp = 1e-04)\n",
       "Deviance Residuals:\n",
       "    Min      1Q  Median      3Q     Max \n",
       "-1.9961 -0.3760 -0.3339 -0.2804  2.6264 \n",
       "\n",
       "(Dispersion Parameter for binomial family taken to be 1)\n",
       "\n",
       "    Null Deviance: 14154.95 on 19999 degrees of freedom\n",
       "Residual Deviance: 11306.31 on 19971 degrees of freedom\n",
       "AIC: 11364.31 \n",
       "\n",
       "Number of Local Scoring Iterations: NA \n",
       "\n",
       "Anova for Parametric Effects\n",
       "                     Df  Sum Sq Mean Sq  F value    Pr(>F)    \n",
       "s(age^3)              1    70.9   70.91   72.548 < 2.2e-16 ***\n",
       "s(pdays)              1   577.1  577.14  590.458 < 2.2e-16 ***\n",
       "s(cons.price.idx)     1   427.0  427.02  436.868 < 2.2e-16 ***\n",
       "s(cons.conf.idx)      1    19.1   19.13   19.567 9.762e-06 ***\n",
       "s(euribor3m^2)        1  1074.6 1074.60 1099.391 < 2.2e-16 ***\n",
       "s(nr.employed)        1    28.5   28.49   29.147 6.787e-08 ***\n",
       "s(previous)           1    28.6   28.62   29.277 6.345e-08 ***\n",
       "Residuals         19971 19520.6    0.98                       \n",
       "---\n",
       "Signif. codes:  0 '***' 0.001 '**' 0.01 '*' 0.05 '.' 0.1 ' ' 1\n",
       "\n",
       "Anova for Nonparametric Effects\n",
       "                  Npar Df Npar Chisq    P(Chi)    \n",
       "(Intercept)                                       \n",
       "s(age^3)                3     22.719 4.622e-05 ***\n",
       "s(pdays)                3    149.407 < 2.2e-16 ***\n",
       "s(cons.price.idx)       3     17.852 0.0004719 ***\n",
       "s(cons.conf.idx)        3     76.362 2.220e-16 ***\n",
       "s(euribor3m^2)          3      8.055 0.0448798 *  \n",
       "s(nr.employed)          3    119.890 < 2.2e-16 ***\n",
       "s(previous)             3     11.269 0.0103566 *  \n",
       "---\n",
       "Signif. codes:  0 '***' 0.001 '**' 0.01 '*' 0.05 '.' 0.1 ' ' 1"
      ]
     },
     "metadata": {},
     "output_type": "display_data"
    }
   ],
   "source": [
    "gam_mod_f <- gam(I(subscribe)~s(age^3)\n",
    "               +s(pdays)+s(cons.price.idx)+s(cons.conf.idx)+s(euribor3m^2)+s(nr.employed)\n",
    "               +s(previous)\n",
    "               , data =train, family=binomial,sp=0.0001)\n",
    "summary(gam_mod_f)"
   ]
  },
  {
   "cell_type": "code",
   "execution_count": 107,
   "id": "e29a5eb1",
   "metadata": {},
   "outputs": [
    {
     "name": "stdout",
     "output_type": "stream",
     "text": [
      "'data.frame':\t10000 obs. of  1 variable:\n",
      " $ gam_prediction_f: num  0.0548 0.0577 0.3572 0.097 0.0911 ...\n"
     ]
    }
   ],
   "source": [
    "# Predictions\n",
    "gam_prediction_f <- predict(gam_mod_f, newdata = test, type = \"response\")\n",
    "gam_prediction_f<-data.frame(gam_prediction_f)\n",
    "str(gam_prediction_f)"
   ]
  },
  {
   "cell_type": "code",
   "execution_count": 111,
   "id": "9c6d6123",
   "metadata": {},
   "outputs": [
    {
     "data": {
      "text/html": [
       "<table class=\"dataframe\">\n",
       "<caption>A data.frame: 10000 × 2</caption>\n",
       "<thead>\n",
       "\t<tr><th scope=col>client_id</th><th scope=col>subscribe</th></tr>\n",
       "\t<tr><th scope=col>&lt;int&gt;</th><th scope=col>&lt;dbl&gt;</th></tr>\n",
       "</thead>\n",
       "<tbody>\n",
       "\t<tr><td> 2986</td><td>0.05479125</td></tr>\n",
       "\t<tr><td>29710</td><td>0.05771595</td></tr>\n",
       "\t<tr><td>38938</td><td>0.35719178</td></tr>\n",
       "\t<tr><td>31313</td><td>0.09700933</td></tr>\n",
       "\t<tr><td>24173</td><td>0.09105248</td></tr>\n",
       "\t<tr><td>14426</td><td>0.81316728</td></tr>\n",
       "\t<tr><td>40159</td><td>0.15325817</td></tr>\n",
       "\t<tr><td>12301</td><td>0.05396635</td></tr>\n",
       "\t<tr><td> 9640</td><td>0.03679252</td></tr>\n",
       "\t<tr><td>19742</td><td>0.58733836</td></tr>\n",
       "\t<tr><td> 5967</td><td>0.03547930</td></tr>\n",
       "\t<tr><td>25559</td><td>0.09722819</td></tr>\n",
       "\t<tr><td>34976</td><td>0.05972472</td></tr>\n",
       "\t<tr><td>38126</td><td>0.39270466</td></tr>\n",
       "\t<tr><td>17369</td><td>0.04156403</td></tr>\n",
       "\t<tr><td>40632</td><td>0.04445134</td></tr>\n",
       "\t<tr><td>37544</td><td>0.05181787</td></tr>\n",
       "\t<tr><td>11284</td><td>0.06040920</td></tr>\n",
       "\t<tr><td>36717</td><td>0.08707271</td></tr>\n",
       "\t<tr><td>14536</td><td>0.05875043</td></tr>\n",
       "\t<tr><td>26503</td><td>0.04141437</td></tr>\n",
       "\t<tr><td>22763</td><td>0.05169523</td></tr>\n",
       "\t<tr><td>32953</td><td>0.04280697</td></tr>\n",
       "\t<tr><td>  413</td><td>0.26345077</td></tr>\n",
       "\t<tr><td>10762</td><td>0.05595873</td></tr>\n",
       "\t<tr><td>14745</td><td>0.06065844</td></tr>\n",
       "\t<tr><td>25946</td><td>0.27332716</td></tr>\n",
       "\t<tr><td>14804</td><td>0.45595289</td></tr>\n",
       "\t<tr><td> 6790</td><td>0.03900252</td></tr>\n",
       "\t<tr><td>30453</td><td>0.05414169</td></tr>\n",
       "\t<tr><td>⋮</td><td>⋮</td></tr>\n",
       "\t<tr><td> 3688</td><td>0.05444472</td></tr>\n",
       "\t<tr><td>13542</td><td>0.05396351</td></tr>\n",
       "\t<tr><td>21023</td><td>0.06173674</td></tr>\n",
       "\t<tr><td> 5277</td><td>0.04869916</td></tr>\n",
       "\t<tr><td>15316</td><td>0.03680694</td></tr>\n",
       "\t<tr><td>  633</td><td>0.05200278</td></tr>\n",
       "\t<tr><td> 8520</td><td>0.14027732</td></tr>\n",
       "\t<tr><td>38410</td><td>0.03763679</td></tr>\n",
       "\t<tr><td>31552</td><td>0.03486886</td></tr>\n",
       "\t<tr><td>18572</td><td>0.06017076</td></tr>\n",
       "\t<tr><td> 3054</td><td>0.09549730</td></tr>\n",
       "\t<tr><td>14279</td><td>0.05972466</td></tr>\n",
       "\t<tr><td> 5006</td><td>0.03575270</td></tr>\n",
       "\t<tr><td>19290</td><td>0.06082930</td></tr>\n",
       "\t<tr><td>27375</td><td>0.03720885</td></tr>\n",
       "\t<tr><td> 8214</td><td>0.76867472</td></tr>\n",
       "\t<tr><td>39327</td><td>0.05329613</td></tr>\n",
       "\t<tr><td>37751</td><td>0.05577515</td></tr>\n",
       "\t<tr><td>11511</td><td>0.03722378</td></tr>\n",
       "\t<tr><td>18459</td><td>0.05479227</td></tr>\n",
       "\t<tr><td>18088</td><td>0.06236752</td></tr>\n",
       "\t<tr><td>29838</td><td>0.15167120</td></tr>\n",
       "\t<tr><td>15880</td><td>0.05903896</td></tr>\n",
       "\t<tr><td>32002</td><td>0.05228441</td></tr>\n",
       "\t<tr><td>34275</td><td>0.06108233</td></tr>\n",
       "\t<tr><td>  880</td><td>0.14077611</td></tr>\n",
       "\t<tr><td>28072</td><td>0.16822038</td></tr>\n",
       "\t<tr><td>40491</td><td>0.05595873</td></tr>\n",
       "\t<tr><td> 5310</td><td>0.06040897</td></tr>\n",
       "\t<tr><td> 6154</td><td>0.05271900</td></tr>\n",
       "</tbody>\n",
       "</table>\n"
      ],
      "text/latex": [
       "A data.frame: 10000 × 2\n",
       "\\begin{tabular}{ll}\n",
       " client\\_id & subscribe\\\\\n",
       " <int> & <dbl>\\\\\n",
       "\\hline\n",
       "\t  2986 & 0.05479125\\\\\n",
       "\t 29710 & 0.05771595\\\\\n",
       "\t 38938 & 0.35719178\\\\\n",
       "\t 31313 & 0.09700933\\\\\n",
       "\t 24173 & 0.09105248\\\\\n",
       "\t 14426 & 0.81316728\\\\\n",
       "\t 40159 & 0.15325817\\\\\n",
       "\t 12301 & 0.05396635\\\\\n",
       "\t  9640 & 0.03679252\\\\\n",
       "\t 19742 & 0.58733836\\\\\n",
       "\t  5967 & 0.03547930\\\\\n",
       "\t 25559 & 0.09722819\\\\\n",
       "\t 34976 & 0.05972472\\\\\n",
       "\t 38126 & 0.39270466\\\\\n",
       "\t 17369 & 0.04156403\\\\\n",
       "\t 40632 & 0.04445134\\\\\n",
       "\t 37544 & 0.05181787\\\\\n",
       "\t 11284 & 0.06040920\\\\\n",
       "\t 36717 & 0.08707271\\\\\n",
       "\t 14536 & 0.05875043\\\\\n",
       "\t 26503 & 0.04141437\\\\\n",
       "\t 22763 & 0.05169523\\\\\n",
       "\t 32953 & 0.04280697\\\\\n",
       "\t   413 & 0.26345077\\\\\n",
       "\t 10762 & 0.05595873\\\\\n",
       "\t 14745 & 0.06065844\\\\\n",
       "\t 25946 & 0.27332716\\\\\n",
       "\t 14804 & 0.45595289\\\\\n",
       "\t  6790 & 0.03900252\\\\\n",
       "\t 30453 & 0.05414169\\\\\n",
       "\t ⋮ & ⋮\\\\\n",
       "\t  3688 & 0.05444472\\\\\n",
       "\t 13542 & 0.05396351\\\\\n",
       "\t 21023 & 0.06173674\\\\\n",
       "\t  5277 & 0.04869916\\\\\n",
       "\t 15316 & 0.03680694\\\\\n",
       "\t   633 & 0.05200278\\\\\n",
       "\t  8520 & 0.14027732\\\\\n",
       "\t 38410 & 0.03763679\\\\\n",
       "\t 31552 & 0.03486886\\\\\n",
       "\t 18572 & 0.06017076\\\\\n",
       "\t  3054 & 0.09549730\\\\\n",
       "\t 14279 & 0.05972466\\\\\n",
       "\t  5006 & 0.03575270\\\\\n",
       "\t 19290 & 0.06082930\\\\\n",
       "\t 27375 & 0.03720885\\\\\n",
       "\t  8214 & 0.76867472\\\\\n",
       "\t 39327 & 0.05329613\\\\\n",
       "\t 37751 & 0.05577515\\\\\n",
       "\t 11511 & 0.03722378\\\\\n",
       "\t 18459 & 0.05479227\\\\\n",
       "\t 18088 & 0.06236752\\\\\n",
       "\t 29838 & 0.15167120\\\\\n",
       "\t 15880 & 0.05903896\\\\\n",
       "\t 32002 & 0.05228441\\\\\n",
       "\t 34275 & 0.06108233\\\\\n",
       "\t   880 & 0.14077611\\\\\n",
       "\t 28072 & 0.16822038\\\\\n",
       "\t 40491 & 0.05595873\\\\\n",
       "\t  5310 & 0.06040897\\\\\n",
       "\t  6154 & 0.05271900\\\\\n",
       "\\end{tabular}\n"
      ],
      "text/markdown": [
       "\n",
       "A data.frame: 10000 × 2\n",
       "\n",
       "| client_id &lt;int&gt; | subscribe &lt;dbl&gt; |\n",
       "|---|---|\n",
       "|  2986 | 0.05479125 |\n",
       "| 29710 | 0.05771595 |\n",
       "| 38938 | 0.35719178 |\n",
       "| 31313 | 0.09700933 |\n",
       "| 24173 | 0.09105248 |\n",
       "| 14426 | 0.81316728 |\n",
       "| 40159 | 0.15325817 |\n",
       "| 12301 | 0.05396635 |\n",
       "|  9640 | 0.03679252 |\n",
       "| 19742 | 0.58733836 |\n",
       "|  5967 | 0.03547930 |\n",
       "| 25559 | 0.09722819 |\n",
       "| 34976 | 0.05972472 |\n",
       "| 38126 | 0.39270466 |\n",
       "| 17369 | 0.04156403 |\n",
       "| 40632 | 0.04445134 |\n",
       "| 37544 | 0.05181787 |\n",
       "| 11284 | 0.06040920 |\n",
       "| 36717 | 0.08707271 |\n",
       "| 14536 | 0.05875043 |\n",
       "| 26503 | 0.04141437 |\n",
       "| 22763 | 0.05169523 |\n",
       "| 32953 | 0.04280697 |\n",
       "|   413 | 0.26345077 |\n",
       "| 10762 | 0.05595873 |\n",
       "| 14745 | 0.06065844 |\n",
       "| 25946 | 0.27332716 |\n",
       "| 14804 | 0.45595289 |\n",
       "|  6790 | 0.03900252 |\n",
       "| 30453 | 0.05414169 |\n",
       "| ⋮ | ⋮ |\n",
       "|  3688 | 0.05444472 |\n",
       "| 13542 | 0.05396351 |\n",
       "| 21023 | 0.06173674 |\n",
       "|  5277 | 0.04869916 |\n",
       "| 15316 | 0.03680694 |\n",
       "|   633 | 0.05200278 |\n",
       "|  8520 | 0.14027732 |\n",
       "| 38410 | 0.03763679 |\n",
       "| 31552 | 0.03486886 |\n",
       "| 18572 | 0.06017076 |\n",
       "|  3054 | 0.09549730 |\n",
       "| 14279 | 0.05972466 |\n",
       "|  5006 | 0.03575270 |\n",
       "| 19290 | 0.06082930 |\n",
       "| 27375 | 0.03720885 |\n",
       "|  8214 | 0.76867472 |\n",
       "| 39327 | 0.05329613 |\n",
       "| 37751 | 0.05577515 |\n",
       "| 11511 | 0.03722378 |\n",
       "| 18459 | 0.05479227 |\n",
       "| 18088 | 0.06236752 |\n",
       "| 29838 | 0.15167120 |\n",
       "| 15880 | 0.05903896 |\n",
       "| 32002 | 0.05228441 |\n",
       "| 34275 | 0.06108233 |\n",
       "|   880 | 0.14077611 |\n",
       "| 28072 | 0.16822038 |\n",
       "| 40491 | 0.05595873 |\n",
       "|  5310 | 0.06040897 |\n",
       "|  6154 | 0.05271900 |\n",
       "\n"
      ],
      "text/plain": [
       "      client_id subscribe \n",
       "1      2986     0.05479125\n",
       "2     29710     0.05771595\n",
       "3     38938     0.35719178\n",
       "4     31313     0.09700933\n",
       "5     24173     0.09105248\n",
       "6     14426     0.81316728\n",
       "7     40159     0.15325817\n",
       "8     12301     0.05396635\n",
       "9      9640     0.03679252\n",
       "10    19742     0.58733836\n",
       "11     5967     0.03547930\n",
       "12    25559     0.09722819\n",
       "13    34976     0.05972472\n",
       "14    38126     0.39270466\n",
       "15    17369     0.04156403\n",
       "16    40632     0.04445134\n",
       "17    37544     0.05181787\n",
       "18    11284     0.06040920\n",
       "19    36717     0.08707271\n",
       "20    14536     0.05875043\n",
       "21    26503     0.04141437\n",
       "22    22763     0.05169523\n",
       "23    32953     0.04280697\n",
       "24      413     0.26345077\n",
       "25    10762     0.05595873\n",
       "26    14745     0.06065844\n",
       "27    25946     0.27332716\n",
       "28    14804     0.45595289\n",
       "29     6790     0.03900252\n",
       "30    30453     0.05414169\n",
       "<U+22EE>     <U+22EE>  <U+22EE>  \n",
       "9971   3688     0.05444472\n",
       "9972  13542     0.05396351\n",
       "9973  21023     0.06173674\n",
       "9974   5277     0.04869916\n",
       "9975  15316     0.03680694\n",
       "9976    633     0.05200278\n",
       "9977   8520     0.14027732\n",
       "9978  38410     0.03763679\n",
       "9979  31552     0.03486886\n",
       "9980  18572     0.06017076\n",
       "9981   3054     0.09549730\n",
       "9982  14279     0.05972466\n",
       "9983   5006     0.03575270\n",
       "9984  19290     0.06082930\n",
       "9985  27375     0.03720885\n",
       "9986   8214     0.76867472\n",
       "9987  39327     0.05329613\n",
       "9988  37751     0.05577515\n",
       "9989  11511     0.03722378\n",
       "9990  18459     0.05479227\n",
       "9991  18088     0.06236752\n",
       "9992  29838     0.15167120\n",
       "9993  15880     0.05903896\n",
       "9994  32002     0.05228441\n",
       "9995  34275     0.06108233\n",
       "9996    880     0.14077611\n",
       "9997  28072     0.16822038\n",
       "9998  40491     0.05595873\n",
       "9999   5310     0.06040897\n",
       "10000  6154     0.05271900"
      ]
     },
     "metadata": {},
     "output_type": "display_data"
    }
   ],
   "source": [
    "Final<-NULL\n",
    "Final$client_id<-test_client\n",
    "Final$subscribe<-gam_prediction_f$gam_prediction_f\n",
    "Final<-data.frame(Final)\n",
    "Final_gam<-Final%>%rename(client_id=1)\n",
    "Final_gam\n",
    "#fwrite(Final,'../Data/eigth_try.csv')"
   ]
  },
  {
   "cell_type": "code",
   "execution_count": 115,
   "id": "e2093dfe",
   "metadata": {},
   "outputs": [
    {
     "ename": "ERROR",
     "evalue": "Error in (function (..., row.names = NULL, check.rows = FALSE, check.names = TRUE, : arguments imply differing number of rows: 10000, 3999\n",
     "output_type": "error",
     "traceback": [
      "Error in (function (..., row.names = NULL, check.rows = FALSE, check.names = TRUE, : arguments imply differing number of rows: 10000, 3999\nTraceback:\n",
      "1. data.frame(Final)",
      "2. as.data.frame(x[[i]], optional = TRUE, stringsAsFactors = stringsAsFactors)",
      "3. as.data.frame.list(x[[i]], optional = TRUE, stringsAsFactors = stringsAsFactors)",
      "4. do.call(data.frame, c(x, alis))",
      "5. (function (..., row.names = NULL, check.rows = FALSE, check.names = TRUE, \n .     fix.empty.names = TRUE, stringsAsFactors = default.stringsAsFactors()) \n . {\n .     data.row.names <- if (check.rows && is.null(row.names)) \n .         function(current, new, i) {\n .             if (is.character(current)) \n .                 new <- as.character(new)\n .             if (is.character(new)) \n .                 current <- as.character(current)\n .             if (anyDuplicated(new)) \n .                 return(current)\n .             if (is.null(current)) \n .                 return(new)\n .             if (all(current == new) || all(current == \"\")) \n .                 return(new)\n .             stop(gettextf(\"mismatch of row names in arguments of 'data.frame', item %d\", \n .                 i), domain = NA)\n .         }\n .     else function(current, new, i) {\n .         if (is.null(current)) {\n .             if (anyDuplicated(new)) {\n .                 warning(gettextf(\"some row.names duplicated: %s --> row.names NOT used\", \n .                   paste(which(duplicated(new)), collapse = \",\")), \n .                   domain = NA)\n .                 current\n .             }\n .             else new\n .         }\n .         else current\n .     }\n .     object <- as.list(substitute(list(...)))[-1L]\n .     mirn <- missing(row.names)\n .     mrn <- is.null(row.names)\n .     x <- list(...)\n .     n <- length(x)\n .     if (n < 1L) {\n .         if (!mrn) {\n .             if (is.object(row.names) || !is.integer(row.names)) \n .                 row.names <- as.character(row.names)\n .             if (anyNA(row.names)) \n .                 stop(\"row names contain missing values\")\n .             if (anyDuplicated(row.names)) \n .                 stop(gettextf(\"duplicate row.names: %s\", paste(unique(row.names[duplicated(row.names)]), \n .                   collapse = \", \")), domain = NA)\n .         }\n .         else row.names <- integer()\n .         return(structure(list(), names = character(), row.names = row.names, \n .             class = \"data.frame\"))\n .     }\n .     vnames <- names(x)\n .     if (length(vnames) != n) \n .         vnames <- character(n)\n .     no.vn <- !nzchar(vnames)\n .     vlist <- vnames <- as.list(vnames)\n .     nrows <- ncols <- integer(n)\n .     for (i in seq_len(n)) {\n .         xi <- if (is.character(x[[i]]) || is.list(x[[i]])) \n .             as.data.frame(x[[i]], optional = TRUE, stringsAsFactors = stringsAsFactors)\n .         else as.data.frame(x[[i]], optional = TRUE)\n .         nrows[i] <- .row_names_info(xi)\n .         ncols[i] <- length(xi)\n .         namesi <- names(xi)\n .         if (ncols[i] > 1L) {\n .             if (length(namesi) == 0L) \n .                 namesi <- seq_len(ncols[i])\n .             vnames[[i]] <- if (no.vn[i]) \n .                 namesi\n .             else paste(vnames[[i]], namesi, sep = \".\")\n .         }\n .         else if (length(namesi)) {\n .             vnames[[i]] <- namesi\n .         }\n .         else if (fix.empty.names && no.vn[[i]]) {\n .             tmpname <- deparse(object[[i]], nlines = 1L)[1L]\n .             if (startsWith(tmpname, \"I(\") && endsWith(tmpname, \n .                 \")\")) {\n .                 ntmpn <- nchar(tmpname, \"c\")\n .                 tmpname <- substr(tmpname, 3L, ntmpn - 1L)\n .             }\n .             vnames[[i]] <- tmpname\n .         }\n .         if (mirn && nrows[i] > 0L) {\n .             rowsi <- attr(xi, \"row.names\")\n .             if (any(nzchar(rowsi))) \n .                 row.names <- data.row.names(row.names, rowsi, \n .                   i)\n .         }\n .         nrows[i] <- abs(nrows[i])\n .         vlist[[i]] <- xi\n .     }\n .     nr <- max(nrows)\n .     for (i in seq_len(n)[nrows < nr]) {\n .         xi <- vlist[[i]]\n .         if (nrows[i] > 0L && (nr%%nrows[i] == 0L)) {\n .             xi <- unclass(xi)\n .             fixed <- TRUE\n .             for (j in seq_along(xi)) {\n .                 xi1 <- xi[[j]]\n .                 if (is.vector(xi1) || is.factor(xi1)) \n .                   xi[[j]] <- rep(xi1, length.out = nr)\n .                 else if (is.character(xi1) && inherits(xi1, \"AsIs\")) \n .                   xi[[j]] <- structure(rep(xi1, length.out = nr), \n .                     class = class(xi1))\n .                 else if (inherits(xi1, \"Date\") || inherits(xi1, \n .                   \"POSIXct\")) \n .                   xi[[j]] <- rep(xi1, length.out = nr)\n .                 else {\n .                   fixed <- FALSE\n .                   break\n .                 }\n .             }\n .             if (fixed) {\n .                 vlist[[i]] <- xi\n .                 next\n .             }\n .         }\n .         stop(gettextf(\"arguments imply differing number of rows: %s\", \n .             paste(unique(nrows), collapse = \", \")), domain = NA)\n .     }\n .     value <- unlist(vlist, recursive = FALSE, use.names = FALSE)\n .     vnames <- as.character(unlist(vnames[ncols > 0L]))\n .     if (fix.empty.names && any(noname <- !nzchar(vnames))) \n .         vnames[noname] <- paste0(\"Var.\", seq_along(vnames))[noname]\n .     if (check.names) {\n .         if (fix.empty.names) \n .             vnames <- make.names(vnames, unique = TRUE)\n .         else {\n .             nz <- nzchar(vnames)\n .             vnames[nz] <- make.names(vnames[nz], unique = TRUE)\n .         }\n .     }\n .     names(value) <- vnames\n .     if (!mrn) {\n .         if (length(row.names) == 1L && nr != 1L) {\n .             if (is.character(row.names)) \n .                 row.names <- match(row.names, vnames, 0L)\n .             if (length(row.names) != 1L || row.names < 1L || \n .                 row.names > length(vnames)) \n .                 stop(\"'row.names' should specify one of the variables\")\n .             i <- row.names\n .             row.names <- value[[i]]\n .             value <- value[-i]\n .         }\n .         else if (!is.null(row.names) && length(row.names) != \n .             nr) \n .             stop(\"row names supplied are of the wrong length\")\n .     }\n .     else if (!is.null(row.names) && length(row.names) != nr) {\n .         warning(\"row names were found from a short variable and have been discarded\")\n .         row.names <- NULL\n .     }\n .     class(value) <- \"data.frame\"\n .     if (is.null(row.names)) \n .         attr(value, \"row.names\") <- .set_row_names(nr)\n .     else {\n .         if (is.object(row.names) || !is.integer(row.names)) \n .             row.names <- as.character(row.names)\n .         if (anyNA(row.names)) \n .             stop(\"row names contain missing values\")\n .         if (anyDuplicated(row.names)) \n .             stop(gettextf(\"duplicate row.names: %s\", paste(unique(row.names[duplicated(row.names)]), \n .                 collapse = \", \")), domain = NA)\n .         row.names(value) <- row.names\n .     }\n .     value\n . })(client_id = structure(list(test_client.client_id = c(2986L, \n . 29710L, 38938L, 31313L, 24173L, 14426L, 40159L, 12301L, 9640L, \n . 19742L, 5967L, 25559L, 34976L, 38126L, 17369L, 40632L, 37544L, \n . 11284L, 36717L, 14536L, 26503L, 22763L, 32953L, 413L, 10762L, \n . 14745L, 25946L, 14804L, 6790L, 30453L, 27455L, 29826L, 13689L, \n . 13795L, 1835L, 41043L, 10563L, 38265L, 10848L, 41155L, 22925L, \n . 28583L, 29133L, 7588L, 5242L, 11667L, 22369L, 5409L, 25931L, \n . 19851L, 17993L, 6007L, 38467L, 27753L, 32117L, 38191L, 3984L, \n . 22119L, 6333L, 2894L, 23883L, 27380L, 25244L, 4913L, 13238L, \n . 36086L, 11187L, 16635L, 38210L, 6312L, 24671L, 34134L, 40160L, \n . 20698L, 79L, 4518L, 9448L, 1230L, 3080L, 31315L, 4972L, 3509L, \n . 17220L, 28577L, 2777L, 30712L, 17749L, 11126L, 2748L, 13376L, \n . 39084L, 32128L, 19927L, 10216L, 27913L, 9174L, 7657L, 7132L, \n . 38920L, 22344L, 20878L, 29851L, 36385L, 8539L, 36671L, 24243L, \n . 8905L, 1963L, 23294L, 8482L, 13102L, 16011L, 3804L, 24378L, 26034L, \n . 38947L, 33285L, 14816L, 28852L, 2761L, 37853L, 40302L, 4297L, \n . 8946L, 6529L, 7053L, 20995L, 40459L, 11166L, 39155L, 1627L, 31167L, \n . 28613L, 38376L, 11735L, 12053L, 40133L, 12336L, 30541L, 32580L, \n . 28535L, 25008L, 41164L, 32661L, 25948L, 7348L, 28676L, 36480L, \n . 39116L, 27525L, 887L, 28360L, 914L, 16385L, 15198L, 31218L, 5799L, \n . 25932L, 20474L, 10943L, 38854L, 11688L, 8181L, 30774L, 22642L, \n . 15017L, 12248L, 18671L, 39113L, 5459L, 40332L, 4176L, 33598L, \n . 24730L, 12921L, 39404L, 384L, 24163L, 1191L, 30006L, 16707L, \n . 30933L, 40197L, 33442L, 39150L, 29444L, 303L, 31566L, 1003L, \n . 15390L, 4676L, 21973L, 14632L, 9008L, 16090L, 40269L, 5392L, \n . 24790L, 18937L, 16886L, 31072L, 16021L, 23569L, 30092L, 9046L, \n . 29573L, 29397L, 14539L, 15886L, 12893L, 13092L, 31389L, 41003L, \n . 10666L, 17674L, 25855L, 20665L, 1762L, 18420L, 14303L, 9813L, \n . 3271L, 10557L, 26367L, 29417L, 30526L, 11276L, 8412L, 18535L, \n . 21542L, 30549L, 16087L, 35716L, 27644L, 328L, 15127L, 13835L, \n . 4798L, 10247L, 4809L, 30856L, 16225L, 528L, 24743L, 663L, 20475L, \n . 793L, 41098L, 22232L, 25036L, 32489L, 34867L, 16007L, 3632L, \n . 29532L, 39728L, 13054L, 22253L, 40988L, 38557L, 32411L, 20316L, \n . 40964L, 17670L, 21634L, 32798L, 27056L, 36904L, 5081L, 9386L, \n . 37023L, 10355L, 10870L, 6440L, 17089L, 4738L, 11683L, 35532L, \n . 29127L, 23053L, 38288L, 22510L, 10956L, 11978L, 7748L, 24581L, \n . 27049L, 4288L, 613L, 30504L, 39739L, 25356L, 14130L, 36997L, \n . 26602L, 17161L, 26557L, 13596L, 11181L, 5291L, 18575L, 24008L, \n . 5251L, 28283L, 12285L, 5087L, 29587L, 1936L, 18559L, 8980L, 4399L, \n . 27818L, 9940L, 21650L, 13800L, 5456L, 7432L, 3527L, 28362L, 15786L, \n . 8314L, 37223L, 22340L, 27772L, 21811L, 40404L, 8062L, 14964L, \n . 41160L, 2539L, 1055L, 22262L, 34250L, 35546L, 21846L, 22781L, \n . 34845L, 316L, 33190L, 18669L, 22345L, 19935L, 18585L, 9546L, \n . 39794L, 27695L, 6531L, 40360L, 6431L, 1004L, 39077L, 29649L, \n . 8259L, 31978L, 30398L, 11496L, 12716L, 16766L, 36871L, 9248L, \n . 37983L, 25641L, 16151L, 23979L, 16444L, 10865L, 23947L, 4427L, \n . 26921L, 37389L, 854L, 3831L, 28509L, 35421L, 1158L, 29049L, 18217L, \n . 5932L, 25788L, 31410L, 37807L, 19126L, 23631L, 12976L, 31805L, \n . 21512L, 7354L, 27649L, 9901L, 10610L, 21502L, 17458L, 33439L, \n . 10358L, 1746L, 20497L, 5103L, 287L, 18818L, 8313L, 2963L, 3214L, \n . 7902L, 40215L, 23797L, 38791L, 33495L, 31519L, 41163L, 15971L, \n . 22363L, 39285L, 29515L, 25306L, 7188L, 5072L, 22158L, 16438L, \n . 718L, 12411L, 10241L, 30318L, 8024L, 33857L, 21719L, 19463L, \n . 12143L, 9659L, 910L, 39014L, 19193L, 24738L, 23380L, 16245L, \n . 20997L, 5858L, 11430L, 24530L, 26194L, 28260L, 13584L, 10478L, \n . 22248L, 20256L, 25479L, 11602L, 37857L, 22132L, 1278L, 23897L, \n . 26439L, 5264L, 40231L, 35321L, 20230L, 9411L, 1714L, 8464L, 1604L, \n . 38443L, 32614L, 17138L, 36933L, 13472L, 10454L, 26379L, 10267L, \n . 22999L, 5008L, 13071L, 9745L, 34890L, 19128L, 4002L, 26299L, \n . 36290L, 28521L, 22506L, 36231L, 206L, 25012L, 15792L, 36456L, \n . 27920L, 20222L, 37986L, 6875L, 38258L, 11799L, 16856L, 34256L, \n . 33859L, 20170L, 7083L, 30880L, 40989L, 32929L, 32826L, 10391L, \n . 18135L, 36182L, 20921L, 6397L, 22430L, 2960L, 15179L, 532L, 20578L, \n . 16858L, 1682L, 7828L, 28789L, 15211L, 33127L, 2356L, 26889L, \n . 2413L, 27849L, 4638L, 25431L, 32371L, 22542L, 21302L, 28786L, \n . 20816L, 34421L, 23704L, 28841L, 21234L, 29435L, 24364L, 37561L, \n . 2391L, 23172L, 39591L, 12020L, 21645L, 11138L, 17384L, 32691L, \n . 17248L, 26795L, 36499L, 33484L, 18311L, 20746L, 10625L, 35518L, \n . 39678L, 24302L, 19061L, 27524L, 17438L, 38931L, 37998L, 32635L, \n . 29907L, 30287L, 29870L, 29576L, 3948L, 27058L, 28692L, 15861L, \n . 34397L, 19274L, 17351L, 12647L, 8149L, 29626L, 17783L, 36461L, \n . 3108L, 38760L, 13581L, 2172L, 35240L, 36502L, 32345L, 4982L, \n . 37683L, 26476L, 24006L, 13032L, 26851L, 22610L, 6063L, 19554L, \n . 15195L, 27081L, 19954L, 34911L, 24876L, 39751L, 16936L, 33378L, \n . 9265L, 18978L, 8527L, 9311L, 33096L, 3847L, 6882L, 22107L, 17443L, \n . 24024L, 29493L, 13888L, 38181L, 21619L, 35273L, 9468L, 38385L, \n . 27848L, 15271L, 30981L, 5750L, 13752L, 18318L, 30193L, 37685L, \n . 33943L, 13867L, 37814L, 31364L, 25742L, 4713L, 33777L, 39878L, \n . 7045L, 32336L, 21430L, 27711L, 6337L, 39716L, 12151L, 16340L, \n . 21329L, 18926L, 25501L, 14775L, 35152L, 27864L, 1674L, 27595L, \n . 39452L, 12018L, 17354L, 3523L, 11111L, 32712L, 15159L, 27323L, \n . 34613L, 31636L, 15710L, 13459L, 36358L, 33560L, 16369L, 24986L, \n . 1993L, 32728L, 17092L, 34292L, 13119L, 5944L, 13144L, 18638L, \n . 13971L, 36345L, 17744L, 40837L, 16015L, 28969L, 36792L, 21461L, \n . 354L, 31999L, 13723L, 5583L, 25817L, 7153L, 14830L, 8373L, 10726L, \n . 57L, 25118L, 36015L, 33685L, 3420L, 28152L, 6004L, 16668L, 9765L, \n . 5879L, 7920L, 7272L, 33135L, 29604L, 1660L, 9921L, 2747L, 11379L, \n . 32194L, 40361L, 34109L, 10946L, 19672L, 5013L, 19705L, 20349L, \n . 7918L, 8847L, 24409L, 7599L, 29312L, 23652L, 10722L, 30164L, \n . 27035L, 6774L, 26707L, 37186L, 28168L, 27860L, 5360L, 13473L, \n . 21008L, 10879L, 28932L, 28844L, 17683L, 3374L, 9453L, 18021L, \n . 11374L, 16897L, 34263L, 24634L, 38427L, 12832L, 21607L, 4606L, \n . 25941L, 12297L, 27487L, 37861L, 18767L, 1755L, 37101L, 39903L, \n . 18714L, 15349L, 38234L, 3758L, 33330L, 486L, 32624L, 36743L, \n . 2458L, 38828L, 22898L, 22900L, 9452L, 16016L, 4631L, 7384L, 12615L, \n . 37791L, 18188L, 30262L, 32012L, 26838L, 1573L, 40661L, 11306L, \n . 27276L, 24597L, 1872L, 37468L, 28622L, 31022L, 22163L, 36256L, \n . 26520L, 8395L, 15742L, 10362L, 39700L, 26029L, 19494L, 11120L, \n . 9968L, 2026L, 24325L, 1616L, 4991L, 7953L, 3526L, 5608L, 23539L, \n . 3221L, 19190L, 15001L, 12793L, 27880L, 21942L, 12438L, 24545L, \n . 14786L, 18080L, 40657L, 33855L, 28224L, 15481L, 1532L, 8794L, \n . 11487L, 24275L, 13052L, 29217L, 19028L, 1151L, 37367L, 27726L, \n . 3756L, 21486L, 33923L, 15839L, 21395L, 32582L, 39904L, 29162L, \n . 22350L, 4489L, 38489L, 11843L, 4749L, 27728L, 15226L, 39839L, \n . 10141L, 9018L, 16691L, 21642L, 21893L, 17289L, 24075L, 38426L, \n . 28574L, 7446L, 33450L, 33980L, 20001L, 32454L, 1907L, 31554L, \n . 31731L, 30779L, 37123L, 32711L, 10825L, 37756L, 41007L, 31012L, \n . 37951L, 5817L, 3864L, 8625L, 19179L, 35252L, 21471L, 18859L, \n . 17586L, 26321L, 10210L, 7888L, 32188L, 16086L, 40931L, 21399L, \n . 39615L, 11594L, 17383L, 39400L, 20639L, 15213L, 17363L, 34035L, \n . 14516L, 23385L, 744L, 13664L, 13720L, 33551L, 36523L, 36767L, \n . 8334L, 39866L, 7914L, 6339L, 14401L, 7078L, 883L, 17498L, 25555L, \n . 9352L, 37496L, 8447L, 37605L, 4659L, 14097L, 27983L, 11466L, \n . 36495L, 15743L, 506L, 7186L, 12058L, 17173L, 29747L, 24479L, \n . 14641L, 10538L, 1099L, 8563L, 31146L, 7932L, 3357L, 40521L, 37873L, \n . 12748L, 11428L, 25646L, 20053L, 21629L, 32007L, 31911L, 2401L, \n . 35901L, 324L, 18325L, 40646L, 20757L, 12631L, 1098L, 5871L, 28411L, \n . 7525L, 7022L, 38865L, 11954L, 27574L, 30913L, 2610L, 10783L, \n . 10702L, 32357L, 13258L, 31390L, 32123L, 27098L, 18957L, 34522L, \n . 2112L, 39246L, 15472L, 8985L, 10049L, 33485L, 1593L, 18376L, \n . 4782L, 6331L, 2040L, 12866L, 28379L, 13158L, 5850L, 33809L, 27396L, \n . 1223L, 34608L, 6408L, 36441L, 35788L, 36322L, 25989L, 37833L, \n . 40016L, 32356L, 38371L, 13151L, 19748L, 14472L, 34393L, 23520L, \n . 26593L, 26609L, 25104L, 12663L, 11899L, 35493L, 36104L, 28680L, \n . 9280L, 40839L, 27321L, 19103L, 19478L, 28305L, 39534L, 21427L, \n . 30563L, 21540L, 23346L, 12176L, 27331L, 7822L, 38136L, 18239L, \n . 38477L, 33694L, 30689L, 12926L, 16979L, 22148L, 27117L, 26175L, \n . 18350L, 24997L, 24070L, 14156L, 2622L, 17435L, 31118L, 10688L, \n . 16252L, 7279L, 9808L, 9865L, 40487L, 14099L, 22541L, 12683L, \n . 31582L, 30716L, 21125L, 31222L, 11693L, 37850L, 32095L, 1833L, \n . 11158L, 41013L, 1131L, 18645L, 25252L, 18647L, 37799L, 35294L, \n . 19986L, 19476L, 28116L, 17531L, 3944L, 19162L, 24091L, 3788L, \n . 37007L, 8759L, 30621L, 34029L, 18600L, 7214L, 39377L, 16749L, \n . 4338L, 39475L, 13434L, 28108L, 9137L, 37457L, 14371L, 13037L, \n . 40252L, 11016L, 39971L, 40101L, 31111L, 30938L, 11973L, 28648L, \n . 10222L, 29474L, 29124L, 33646L, 7041L, 25170L, 16191L, 34667L, \n . 35083L, 6023L, 13944L, 22341L, 19520L, 32564L, 33627L, 9277L, \n . 39681L, 5673L, 10093L, 20464L, 218L, 35303L, 14198L, 36341L, \n . 23866L, 40580L, 1612L, 37956L, 40257L, 6666L, 5373L, 8590L, 10412L, \n . 9215L, 38127L, 1710L, 1892L, 24682L, 6586L, 25216L, 17419L, 31773L, \n . 4450L, 31882L, 38716L, 475L, 30705L, 1846L, 6267L, 27379L, 9582L, \n . 36666L, 41044L, 10754L, 40739L, 8944L, 4477L, 32024L, 23337L, \n . 12780L, 19507L, 6189L, 5864L, 40061L, 1571L, 34513L, 21417L, \n . 22876L, 19483L, 22339L, 1976L, 39730L, 13836L, 38650L, 33482L, \n . 2123L, 2719L, 36307L, 8243L, 29880L, 38328L, 1702L, 36701L, 13374L, \n . 13403L, 1819L, 25265L, 12064L, 31302L, 21983L, 23441L, 31141L, \n . 5218L, 38363L, 9872L, 9539L, 40966L, 39614L, 24505L, 35097L, \n . 29104L, 32065L, 20138L, 3075L, 39861L, 21880L, 29438L, 3959L, \n . 7971L, 22256L, 28912L, 24948L, 12595L, 29996L, 12430L, 31584L, \n . 29701L, 23729L, 32525L, 9906L, 13582L, 30219L, 29147L, 18406L, \n . 4365L, 5056L, 4449L, 6840L, 17224L, 26077L, 9015L, 38109L, 35209L, \n . 32621L, 35832L, 27798L, 19690L, 15943L, 13850L, 36023L, 7642L, \n . 21017L, 17473L, 27560L, 31537L, 8125L, 21677L, 24750L, 8041L, \n . 24561L, 27061L, 18778L, 6862L, 34554L, 16724L, 15843L, 2023L, \n . 4146L, 19590L, 25068L, 3896L, 24152L, 33171L, 24678L, 22403L, \n . 1825L, 40631L, 28834L, 4841L, 5455L, 11309L, 3294L, 17307L, 1750L, \n . 36140L, 37449L, 24846L, 11766L, 32126L, 36277L, 22326L, 17751L, \n . 24701L, 14411L, 38248L, 27369L, 27240L, 12121L, 20427L, 23589L, \n . 4410L, 41081L, 4353L, 40822L, 25952L, 25261L, 15214L, 13525L, \n . 31956L, 28968L, 24307L, 29346L, 26968L, 21444L, 29674L, 32015L, \n . 33412L, 9551L, 31591L, 5306L, 30208L, 23595L, 19694L, 6129L, \n . 9526L, 29364L, 2920L, 37125L, 26523L, 7280L, 11088L, 37359L, \n . 8731L, 14136L, 14995L, 30056L, 615L, 17083L, 33825L, 9814L, 38008L, \n . 4648L, 37827L, 8309L, 40081L, 15888L, 10889L, 12200L, 14260L, \n . 5899L, 37176L, 19514L, 15798L, 40031L, 2463L, 32221L, 12262L, \n . 20114L, 20994L, 32131L, 37384L, 16551L, 17160L, 933L, 29837L, \n . 33789L, 9407L, 30294L, 26766L, 10L, 2148L, 12664L, 30401L, 7486L, \n . 18775L, 7960L, 26911L, 39840L, 32898L, 6911L, 17314L, 20149L, \n . 15473L, 18362L, 25021L, 8789L, 40195L, 39618L, 39763L, 31706L, \n . 17906L, 27425L, 2056L, 30700L, 21927L, 10352L, 3829L, 8511L, \n . 8201L, 18205L, 41080L, 39012L, 33371L, 1491L, 38604L, 16787L, \n . 26412L, 3743L, 39389L, 10162L, 38697L, 18008L, 38128L, 38L, 2649L, \n . 18849L, 38063L, 5691L, 38241L, 20590L, 17102L, 9635L, 11825L, \n . 36173L, 37966L, 25759L, 25623L, 29980L, 32897L, 28858L, 6081L, \n . 9103L, 26649L, 37617L, 39742L, 26057L, 25656L, 5403L, 34438L, \n . 30304L, 30217L, 29780L, 1416L, 8522L, 19370L, 16122L, 14852L, \n . 1779L, 23613L, 25664L, 3551L, 3748L, 25193L, 17076L, 22682L, \n . 20569L, 22985L, 35325L, 23723L, 15777L, 20223L, 16434L, 6780L, \n . 27723L, 16765L, 27346L, 40064L, 23891L, 338L, 34707L, 33243L, \n . 39152L, 9201L, 1362L, 27234L, 13402L, 5136L, 18040L, 30075L, \n . 3945L, 23496L, 27816L, 3937L, 15247L, 30070L, 4454L, 31861L, \n . 33078L, 21721L, 6439L, 5974L, 16789L, 27411L, 11424L, 35600L, \n . 31097L, 9945L, 4109L, 19491L, 16300L, 21237L, 8088L, 35055L, \n . 10624L, 16838L, 11665L, 9242L, 15698L, 6083L, 36711L, 31642L, \n . 32457L, 40722L, 34251L, 20737L, 13589L, 12128L, 724L, 2306L, \n . 34566L, 9601L, 8108L, 9476L, 15304L, 25823L, 40599L, 30760L, \n . 8995L, 34876L, 307L, 29789L, 34274L, 27688L, 8976L, 35475L, 9785L, \n . 15458L, 26390L, 33687L, 33976L, 20674L, 2102L, 40475L, 36998L, \n . 37629L, 9957L, 8469L, 20419L, 26340L, 22160L, 24564L, 12463L, \n . 608L, 29502L, 11599L, 10258L, 8725L, 5385L, 17308L, 36582L, 8287L, \n . 30409L, 19678L, 20021L, 35183L, 2966L, 29073L, 28203L, 38669L, \n . 4521L, 22911L, 7160L, 17389L, 25085L, 26025L, 21104L, 20741L, \n . 33675L, 31928L, 37260L, 31117L, 38062L, 40294L, 32566L, 32019L, \n . 41156L, 31781L, 28701L, 13701L, 6698L, 1740L, 39648L, 19620L, \n . 36370L, 37346L, 10399L, 20250L, 14921L, 574L, 40382L, 24046L, \n . 36096L, 21433L, 30954L, 26959L, 17635L, 14134L, 2007L, 6174L, \n . 12868L, 5235L, 11075L, 20785L, 40974L, 30790L, 31736L, 19051L, \n . 15652L, 29512L, 24756L, 34651L, 7039L, 184L, 3369L, 29948L, 10675L, \n . 30053L, 11427L, 16171L, 37028L, 13493L, 18506L, 19643L, 14990L, \n . 30360L, 25139L, 13902L, 12642L, 11173L, 35041L, 38558L, 31593L, \n . 23885L, 4231L, 32785L, 13293L, 11983L, 37259L, 12162L, 25329L, \n . 11977L, 26903L, 5191L, 20342L, 20729L, 34772L, 23868L, 39898L, \n . 7979L, 32533L, 26017L, 28175L, 23683L, 6341L, 13101L, 30494L, \n . 22709L, 36559L, 31472L, 7192L, 12525L, 3657L, 31168L, 23040L, \n . 31682L, 36769L, 23171L, 37563L, 33443L, 1964L, 32451L, 21300L, \n . 18664L, 2205L, 11046L, 4355L, 36755L, 35818L, 4008L, 20899L, \n . 3637L, 36261L, 16711L, 24873L, 8353L, 24178L, 13904L, 16106L, \n . 37917L, 37596L, 26984L, 38616L, 20263L, 13803L, 16633L, 18566L, \n . 37933L, 19846L, 7719L, 32272L, 34787L, 23303L, 29319L, 12092L, \n . 27563L, 28173L, 23626L, 22141L, 13023L, 17075L, 40374L, 35809L, \n . 27143L, 26348L, 29250L, 7562L, 37440L, 11134L, 40635L, 14531L, \n . 13680L, 32447L, 33634L, 9234L, 31807L, 3401L, 26278L, 25904L, \n . 20951L, 18816L, 37503L, 14529L, 23584L, 30442L, 12784L, 35859L, \n . 27459L, 17997L, 27458L, 1693L, 27784L, 29835L, 34734L, 25136L, \n . 18476L, 5925L, 14865L, 29956L, 36818L, 3436L, 28296L, 34806L, \n . 3689L, 12008L, 8455L, 8505L, 21667L, 4960L, 22822L, 15787L, 30021L, \n . 13721L, 33396L, 5904L, 23473L, 18871L, 36360L, 14579L, 2456L, \n . 11508L, 29971L, 24598L, 12237L, 20404L, 2778L, 18152L, 33941L, \n . 15234L, 6799L, 35195L, 3503L, 4545L, 20047L, 16497L, 26259L, \n . 451L, 40781L, 20612L, 35284L, 24721L, 14034L, 10466L, 10818L, \n . 6318L, 38519L, 8468L, 10992L, 18114L, 1681L, 12351L, 30480L, \n . 7319L, 14797L, 29788L, 35138L, 37537L, 14820L, 670L, 28596L, \n . 36969L, 39884L, 38623L, 39454L, 20742L, 39826L, 15389L, 11562L, \n . 37974L, 14427L, 35765L, 31161L, 20964L, 32364L, 15488L, 9473L, \n . 29218L, 36730L, 27260L, 5977L, 29935L, 5531L, 14700L, 13945L, \n . 32930L, 20984L, 3439L, 21901L, 9001L, 28501L, 17915L, 40720L, \n . 4057L, 39161L, 15654L, 13756L, 33097L, 20379L, 16581L, 12115L, \n . 8292L, 762L, 37502L, 40161L, 31133L, 38607L, 306L, 4802L, 6233L, \n . 13573L, 15402L, 5579L, 35221L, 35658L, 11383L, 3229L, 1462L, \n . 18316L, 32295L, 3722L, 25430L, 28605L, 31349L, 21824L, 34933L, \n . 23254L, 23896L, 23465L, 8667L, 37128L, 11359L, 30973L, 36069L, \n . 37985L, 35958L, 36741L, 21679L, 7469L, 11270L, 9016L, 7627L, \n . 40511L, 1715L, 40652L, 37243L, 22904L, 22884L, 19598L, 19258L, \n . 26116L, 971L, 11813L, 34316L, 22364L, 22317L, 16155L, 1514L, \n . 8602L, 28243L, 17972L, 1533L, 1712L, 1985L, 40667L, 13640L, 25685L, \n . 464L, 28062L, 16566L, 7716L, 30501L, 27383L, 39813L, 4188L, 25362L, \n . 24985L, 13251L, 3337L, 4451L, 6631L, 25375L, 8924L, 20646L, 8153L, \n . 31272L, 15157L, 18018L, 18999L, 32775L, 18010L, 33224L, 18742L, \n . 34314L, 7536L, 26937L, 3906L, 32563L, 8773L, 35215L, 6914L, 34629L, \n . 38162L, 14626L, 8928L, 4863L, 33277L, 359L, 10923L, 7809L, 8376L, \n . 14288L, 17082L, 38839L, 40510L, 23132L, 20457L, 29228L, 7237L, \n . 7391L, 10574L, 15322L, 10493L, 12789L, 8221L, 14177L, 22394L, \n . 16212L, 35925L, 10130L, 2034L, 1645L, 7047L, 30043L, 9446L, 9795L, \n . 12694L, 29632L, 3669L, 24923L, 32484L, 27800L, 5936L, 10035L, \n . 28687L, 11544L, 23843L, 7824L, 26964L, 23237L, 4476L, 40513L, \n . 28238L, 39309L, 37805L, 2400L, 6638L, 22988L, 21532L, 4259L, \n . 14553L, 23393L, 21499L, 7612L, 35397L, 4999L, 32020L, 18218L, \n . 12252L, 25035L, 3046L, 9447L, 9851L, 28917L, 24531L, 33265L, \n . 20824L, 36157L, 40108L, 11352L, 23503L, 28184L, 31320L, 9630L, \n . 33989L, 9336L, 39350L, 7492L, 4656L, 4361L, 28048L, 10869L, 20600L, \n . 24088L, 1248L, 12454L, 31910L, 12559L, 27388L, 14740L, 5486L, \n . 20371L, 545L, 30425L, 4822L, 38788L, 26472L, 11299L, 4513L, 36644L, \n . 5881L, 37696L, 13427L, 27917L, 6742L, 25466L, 10521L, 16516L, \n . 40339L, 7175L, 38242L, 1394L, 39135L, 20632L, 34655L, 12142L, \n . 18893L, 30032L, 13232L, 23495L, 31867L, 14142L, 15729L, 31259L, \n . 38017L, 34549L, 13015L, 1241L, 802L, 8630L, 13332L, 38053L, 10017L, \n . 21240L, 8737L, 32630L, 6974L, 22235L, 14866L, 28075L, 3413L, \n . 22108L, 13245L, 9469L, 27222L, 35009L, 9846L, 13760L, 41132L, \n . 4384L, 31414L, 344L, 14437L, 14547L, 11797L, 7912L, 31893L, 24428L, \n . 28762L, 13909L, 15755L, 10292L, 23647L, 11020L, 17874L, 26521L, \n . 22724L, 153L, 40806L, 8322L, 13453L, 37859L, 16378L, 28266L, \n . 4045L, 238L, 1629L, 19527L, 766L, 5128L, 20022L, 28176L, 24396L, \n . 5418L, 26003L, 18885L, 31878L, 25424L, 40271L, 16769L, 15118L, \n . 29150L, 14207L, 37991L, 27936L, 4310L, 23710L, 20020L, 5208L, \n . 36530L, 19045L, 18173L, 15181L, 19158L, 146L, 3825L, 2512L, 31817L, \n . 742L, 5745L, 28919L, 28576L, 27493L, 26886L, 5488L, 31359L, 23965L, \n . 2702L, 8168L, 4579L, 8987L, 24885L, 13484L, 30828L, 18280L, 39522L, \n . 1222L, 38459L, 4587L, 34319L, 2525L, 5919L, 15054L, 27207L, 13899L, \n . 16794L, 8634L, 24732L, 30380L, 17546L, 3552L, 28137L, 3143L, \n . 40622L, 20664L, 14098L, 10836L, 13579L, 19904L, 14108L, 18442L, \n . 27291L, 37172L, 15085L, 21734L, 2065L, 25025L, 35452L, 281L, \n . 29738L, 39836L, 9537L, 26262L, 3936L, 18484L, 38745L, 14262L, \n . 8748L, 40034L, 15849L, 11008L, 27271L, 652L, 16435L, 32005L, \n . 19916L, 5956L, 36895L, 19730L, 6649L, 26008L, 1774L, 1605L, 10270L, \n . 38855L, 33364L, 19498L, 1765L, 37401L, 30282L, 16664L, 21340L, \n . 10356L, 16314L, 39403L, 35740L, 28396L, 15369L, 27952L, 21227L, \n . 28797L, 22847L, 8531L, 3106L, 5913L, 22707L, 22913L, 22556L, \n . 18754L, 20935L, 32142L, 2973L, 30547L, 6836L, 26922L, 28872L, \n . 1657L, 24266L, 12560L, 30L, 30663L, 29892L, 1260L, 16835L, 20486L, \n . 20542L, 40114L, 34851L, 40485L, 40620L, 7259L, 37065L, 34758L, \n . 22802L, 37484L, 30695L, 40091L, 6203L, 7472L, 9183L, 19809L, \n . 30505L, 14601L, 37916L, 16008L, 7470L, 3105L, 9581L, 12002L, \n . 39924L, 32750L, 11695L, 39346L, 18439L, 13120L, 34737L, 1820L, \n . 13462L, 27841L, 11772L, 18948L, 23654L, 19758L, 29031L, 34889L, \n . 13435L, 33693L, 10600L, 40378L, 19347L, 32824L, 15540L, 36447L, \n . 35079L, 32623L, 25416L, 41006L, 11254L, 1145L, 12886L, 38041L, \n . 6300L, 24095L, 37907L, 31368L, 6212L, 14455L, 29621L, 30311L, \n . 26717L, 34934L, 24503L, 4301L, 23482L, 30374L, 31500L, 39023L, \n . 7258L, 9566L, 23586L, 10009L, 38299L, 30108L, 37516L, 29589L, \n . 33957L, 13731L, 40337L, 36062L, 40072L, 39526L, 8486L, 39821L, \n . 3993L, 25561L, 10855L, 1121L, 20016L, 31683L, 35732L, 35101L, \n . 14955L, 24526L, 4699L, 23663L, 27040L, 20516L, 21735L, 24207L, \n . 22567L, 4962L, 18755L, 23169L, 20358L, 35973L, 19637L, 31417L, \n . 27286L, 33729L, 27494L, 27087L, 25146L, 37231L, 27781L, 2887L, \n . 23184L, 18607L, 24041L, 17253L, 792L, 23853L, 12879L, 17124L, \n . 28009L, 40007L, 13633L, 36413L, 4896L, 16778L, 13070L, 32042L, \n . 22039L, 21355L, 4275L, 7738L, 37088L, 25301L, 40866L, 7425L, \n . 19623L, 12575L, 10091L, 18175L, 36025L, 163L, 7233L, 28470L, \n . 17085L, 27492L, 18640L, 23332L, 27578L, 16325L, 38310L, 29719L, \n . 5428L, 14282L, 10056L, 16154L, 5764L, 27576L, 19141L, 34212L, \n . 16338L, 27799L, 38452L, 14854L, 25506L, 26514L, 21733L, 29475L, \n . 7005L, 35208L, 8357L, 33308L, 1742L, 37021L, 22874L, 4059L, 40473L, \n . 32806L, 25849L, 26599L, 34679L, 8179L, 2790L, 18331L, 4607L, \n . 4480L, 14833L, 11976L, 10669L, 9804L, 18499L, 19181L, 29824L, \n . 30426L, 15737L, 15622L, 4819L, 3259L, 22109L, 17270L, 2654L, \n . 4786L, 11318L, 41179L, 39949L, 12152L, 14267L, 22771L, 8127L, \n . 25575L, 26081L, 21970L, 14476L, 16293L, 14213L, 1688L, 6264L, \n . 35008L, 8107L, 15252L, 35116L, 27999L, 24348L, 24761L, 2292L, \n . 35419L, 2195L, 8186L, 34146L, 39195L, 19755L, 4244L, 19493L, \n . 12415L, 39067L, 30447L, 14135L, 13085L, 7012L, 26352L, 9589L, \n . 25276L, 2657L, 26036L, 3745L, 2343L, 3836L, 23270L, 20418L, 32767L, \n . 22997L, 10536L, 26042L, 14484L, 23889L, 230L, 13616L, 26313L, \n . 19549L, 11865L, 7082L, 39290L, 27660L, 40472L, 17010L, 4311L, \n . 20723L, 28317L, 31244L, 34843L, 1664L, 22093L, 30078L, 2890L, \n . 7068L, 21742L, 17042L, 19108L, 35861L, 1799L, 35014L, 17682L, \n . 30267L, 34526L, 9057L, 37100L, 16344L, 25497L, 6990L, 2214L, \n . 24933L, 35268L, 33569L, 36637L, 30578L, 39007L, 8889L, 16303L, \n . 35396L, 18425L, 28439L, 30860L, 191L, 36471L, 956L, 21820L, 1525L, \n . 1451L, 1756L, 7609L, 17511L, 30140L, 29973L, 14800L, 13443L, \n . 7969L, 9823L, 33807L, 11033L, 28188L, 29089L, 8330L, 19524L, \n . 9773L, 27518L, 8628L, 30742L, 38102L, 35179L, 35764L, 29387L, \n . 26420L, 14016L, 8296L, 18120L, 38366L, 27195L, 21963L, 9267L, \n . 7225L, 25526L, 38637L, 31803L, 16975L, 20004L, 28189L, 10226L, \n . 278L, 1189L, 4630L, 31848L, 34159L, 38774L, 9884L, 28618L, 10829L, \n . 26202L, 30272L, 40537L, 30606L, 32982L, 9135L, 30903L, 39846L, \n . 270L, 3156L, 16426L, 40666L, 27347L, 35690L, 34064L, 38464L, \n . 17538L, 26709L, 28950L, 36714L, 34046L, 10973L, 36123L, 39981L, \n . 30400L, 24011L, 30486L, 29153L, 886L, 26133L, 40609L, 17403L, \n . 38478L, 31007L, 12596L, 5226L, 8325L, 26193L, 12979L, 19547L, \n . 20435L, 3681L, 30728L, 15944L, 27704L, 6356L, 40570L, 18599L, \n . 19154L, 33959L, 33540L, 2432L, 2194L, 20594L, 37964L, 12080L, \n . 10786L, 14256L, 37116L, 5479L, 14239L, 34887L, 26725L, 8501L, \n . 6453L, 29462L, 31966L, 30589L, 32854L, 16042L, 12186L, 11108L, \n . 39772L, 22131L, 2030L, 23440L, 39874L, 16387L, 14365L, 5032L, \n . 14524L, 7955L, 34918L, 31651L, 32518L, 35214L, 40852L, 17878L, \n . 22982L, 27614L, 27865L, 35282L, 11606L, 1730L, 29713L, 30623L, \n . 15190L, 4947L, 19121L, 37700L, 23817L, 3618L, 10065L, 19163L, \n . 39564L, 38631L, 31147L, 18722L, 40893L, 27478L, 9873L, 34555L, \n . 22492L, 26134L, 33290L, 20914L, 6568L, 29388L, 40346L, 35619L, \n . 5728L, 30020L, 14397L, 8788L, 10937L, 7998L, 24574L, 24060L, \n . 7480L, 16740L, 6800L, 38416L, 40923L, 13301L, 8138L, 14234L, \n . 28634L, 38845L, 36266L, 35997L, 18189L, 11413L, 39887L, 33833L, \n . 32843L, 8875L, 39745L, 18342L, 39120L, 13002L, 6334L, 28471L, \n . 10532L, 7289L, 13141L, 36638L, 4623L, 24314L, 18756L, 31303L, \n . 19725L, 6031L, 31760L, 13538L, 14418L, 892L, 13104L, 29161L, \n . 40127L, 11105L, 2511L, 5259L, 23959L, 5124L, 24053L, 7943L, 26688L, \n . 38521L, 31722L, 27632L, 38280L, 31078L, 7471L, 11958L, 11235L, \n . 18452L, 23570L, 25603L, 1481L, 12977L, 2536L, 10393L, 37205L, \n . 52L, 39847L, 5313L, 25654L, 12959L, 27979L, 17750L, 28250L, 20094L, \n . 11012L, 1415L, 6421L, 18087L, 30003L, 4318L, 18071L, 24685L, \n . 31533L, 19377L, 19735L, 29078L, 12805L, 32470L, 29390L, 23836L, \n . 38391L, 11986L, 31489L, 37058L, 23705L, 21479L, 39594L, 4765L, \n . 13830L, 22182L, 9024L, 29855L, 1429L, 39216L, 15113L, 28239L, \n . 33580L, 33894L, 16893L, 11878L, 6656L, 35573L, 37011L, 4349L, \n . 11901L, 19925L, 34004L, 26882L, 648L, 29057L, 23153L, 6213L, \n . 11211L, 38867L, 27175L, 31297L, 19070L, 11364L, 37748L, 3123L, \n . 26545L, 2134L, 6416L, 35794L, 36184L, 32810L, 40962L, 33815L, \n . 34769L, 10028L, 11265L, 8144L, 28354L, 10153L, 549L, 32137L, \n . 18539L, 2464L, 39139L, 20801L, 11308L, 16676L, 8479L, 17507L, \n . 40040L, 33611L, 14342L, 25969L, 34638L, 16094L, 22799L, 34252L, \n . 23717L, 21708L, 32905L, 1902L, 3958L, 5468L, 29823L, 7271L, 27473L, \n . 14063L, 1592L, 17892L, 33875L, 39159L, 7353L, 11497L, 5739L, \n . 23996L, 2224L, 31678L, 20719L, 8632L, 33335L, 7665L, 8853L, 24146L, \n . 20394L, 34485L, 39513L, 39209L, 39298L, 2204L, 40227L, 38333L, \n . 17332L, 6423L, 24987L, 28406L, 33499L, 13220L, 10392L, 16987L, \n . 36038L, 4461L, 40669L, 25051L, 29884L, 1312L, 22679L, 10381L, \n . 2277L, 30627L, 14746L, 875L, 11147L, 40654L, 33961L, 15751L, \n . 10086L, 18154L, 3747L, 19326L, 24801L, 17257L, 14670L, 17119L, \n . 33267L, 1882L, 25838L, 32756L, 928L, 5761L, 18427L, 3258L, 15641L, \n . 9573L, 29157L, 4175L, 2114L, 22324L, 21731L, 2265L, 14248L, 1105L, \n . 4018L, 39420L, 16244L, 20209L, 25819L, 36363L, 4758L, 34464L, \n . 13315L, 15824L, 19826L, 9155L, 26895L, 7170L, 36068L, 34094L, \n . 6380L, 17301L, 35157L, 40616L, 7462L, 36073L, 28192L, 21044L, \n . 31994L, 14360L, 14574L, 10375L, 19746L, 6998L, 39923L, 34493L, \n . 30139L, 14984L, 38820L, 14956L, 26434L, 33733L, 12015L, 3016L, \n . 36936L, 19823L, 23678L, 36158L, 4956L, 7543L, 30539L, 11607L, \n . 37556L, 8011L, 5439L, 11087L, 36814L, 40819L, 30684L, 22868L, \n . 12938L, 5639L, 34822L, 28672L, 33418L, 17341L, 3065L, 19066L, \n . 25735L, 8268L, 6420L, 29801L, 20297L, 35088L, 26453L, 19203L, \n . 623L, 13297L, 30675L, 28754L, 3283L, 26220L, 15987L, 808L, 12470L, \n . 18254L, 27790L, 8658L, 34339L, 19026L, 33185L, 9025L, 14278L, \n . 15249L, 5920L, 11219L, 22779L, 28201L, 24653L, 41027L, 28101L, \n . 39252L, 9621L, 15093L, 36654L, 31626L, 24039L, 9938L, 24009L, \n . 38050L, 17986L, 22155L, 5633L, 20770L, 3510L, 34266L, 38964L, \n . 27017L, 19704L, 37569L, 32725L, 23083L, 21110L, 11733L, 22418L, \n . 31907L, 1218L, 4367L, 37764L, 11548L, 23510L, 36692L, 8021L, \n . 6298L, 21090L, 5245L, 28494L, 21604L, 13282L, 9895L, 7463L, 4184L, \n . 22110L, 19536L, 24586L, 1347L, 4418L, 40795L, 35880L, 9915L, \n . 39727L, 26239L, 40186L, 21774L, 26837L, 25778L, 35845L, 39758L, \n . 30456L, 2351L, 32978L, 15424L, 24343L, 26361L, 5494L, 28763L, \n . 19724L, 27188L, 22589L, 40366L, 38199L, 21990L, 3819L, 13533L, \n . 19830L, 39288L, 33579L, 5986L, 85L, 13919L, 17474L, 9833L, 14035L, \n . 40005L, 24476L, 29282L, 24828L, 27083L, 34340L, 4071L, 2089L, \n . 15474L, 31015L, 33735L, 1545L, 36455L, 36537L, 22727L, 5117L, \n . 25739L, 39081L, 38796L, 30395L, 35728L, 17284L, 34033L, 38841L, \n . 14871L, 5230L, 34268L, 12419L, 28306L, 24665L, 33095L, 37238L, \n . 22966L, 9216L, 15636L, 30202L, 29793L, 6468L, 40279L, 1319L, \n . 33161L, 36002L, 33011L, 29760L, 14675L, 6163L, 8048L, 36746L, \n . 17491L, 18974L, 25159L, 15400L, 34602L, 20188L, 34964L, 24601L, \n . 1264L, 27571L, 34535L, 33992L, 23258L, 2133L, 2942L, 8952L, 12329L, \n . 8566L, 12266L, 29850L, 25667L, 25180L, 26746L, 1288L, 34185L, \n . 24854L, 31492L, 13618L, 3441L, 30749L, 18747L, 23670L, 22708L, \n . 6939L, 35422L, 3659L, 28886L, 2893L, 2783L, 31498L, 35520L, 35270L, \n . 2952L, 39339L, 25119L, 1808L, 8940L, 11347L, 31838L, 29403L, \n . 35151L, 28299L, 2564L, 4142L, 19038L, 34022L, 29623L, 22055L, \n . 27483L, 21764L, 17529L, 14317L, 32251L, 31856L, 23322L, 4546L, \n . 18730L, 4689L, 5300L, 26086L, 20155L, 34945L, 29827L, 15262L, \n . 32652L, 15080L, 13917L, 22872L, 25260L, 19329L, 577L, 1815L, \n . 25657L, 35964L, 32851L, 25004L, 6868L, 25827L, 9351L, 22014L, \n . 39871L, 25439L, 19652L, 19819L, 27150L, 35106L, 38734L, 30186L, \n . 4601L, 34173L, 3175L, 5825L, 6630L, 35524L, 35561L, 8960L, 31336L, \n . 790L, 32078L, 30473L, 32475L, 38142L, 28681L, 30847L, 3373L, \n . 27850L, 22450L, 21478L, 28488L, 10490L, 13323L, 28788L, 6981L, \n . 29295L, 3725L, 33102L, 40559L, 6378L, 11081L, 40869L, 21442L, \n . 2812L, 14953L, 12190L, 25059L, 13958L, 2633L, 8100L, 29681L, \n . 36310L, 5187L, 31671L, 34798L, 4144L, 31623L, 9040L, 237L, 1066L, \n . 17991L, 11517L, 9368L, 8378L, 867L, 13174L, 39860L, 34201L, 3313L, \n . 26395L, 3671L, 958L, 4077L, 9516L, 32061L, 1614L, 25660L, 25563L, \n . 24044L, 13602L, 9627L, 9840L, 26407L, 36813L, 3879L, 6020L, 33470L, \n . 23138L, 12529L, 10116L, 38904L, 6442L, 2990L, 26459L, 12395L, \n . 5476L, 9288L, 14249L, 473L, 3903L, 23662L, 23930L, 26373L, 23903L, \n . 20645L, 2968L, 35357L, 13127L, 18434L, 13766L, 17441L, 469L, \n . 9866L, 313L, 9899L, 18146L, 30610L, 29496L, 32847L, 15478L, 14883L, \n . 6817L, 28666L, 35581L, 15354L, 14117L, 13197L, 9165L, 14410L, \n . 11877L, 35701L, 17189L, 11554L, 2484L, 10380L, 28484L, 23563L, \n . 34670L, 27255L, 24943L, 20576L, 25354L, 24861L, 27692L, 4576L, \n . 15484L, 843L, 6461L, 37118L, 26875L, 36027L, 30724L, 10098L, \n . 3137L, 37392L, 12963L, 19296L, 18447L, 10286L, 383L, 36424L, \n . 35416L, 27092L, 28220L, 24410L, 32846L, 25109L, 38575L, 13485L, \n . 9847L, 19184L, 16309L, 40583L, 19727L, 12476L, 14640L, 34017L, \n . 9824L, 16374L, 16144L, 13813L, 37592L, 11002L, 19505L, 1709L, \n . 503L, 7454L, 22828L, 19917L, 10555L, 5144L, 20877L, 40341L, 25262L, \n . 15529L, 27027L, 36245L, 23128L, 4711L, 35372L, 39355L, 13107L, \n . 21490L, 17460L, 21233L, 16853L, 8703L, 35804L, 40728L, 32497L, \n . 14231L, 38465L, 31175L, 959L, 26426L, 27273L, 31032L, 5345L, \n . 28874L, 4364L, 32809L, 19231L, 29877L, 7236L, 3112L, 3448L, 10903L, \n . 11112L, 8504L, 19387L, 11151L, 31467L, 24296L, 30962L, 37067L, \n . 14216L, 1848L, 15451L, 16592L, 29661L, 34410L, 12417L, 7747L, \n . 19972L, 34832L, 15759L, 922L, 13391L, 33474L, 26392L, 30429L, \n . 31872L, 35500L, 9580L, 38187L, 853L, 11807L, 9139L, 32542L, 12782L, \n . 5901L, 36641L, 4950L, 25860L, 39862L, 4447L, 28018L, 23114L, \n . 5615L, 5585L, 31170L, 28830L, 16505L, 15289L, 20238L, 13185L, \n . 32771L, 7203L, 1687L, 28335L, 2957L, 12593L, 20529L, 17756L, \n . 29904L, 7551L, 13714L, 5454L, 29236L, 16823L, 39398L, 10554L, \n . 11773L, 17605L, 16098L, 26386L, 39076L, 3844L, 18972L, 14433L, \n . 3685L, 8558L, 38494L, 22628L, 17037L, 28044L, 23163L, 22881L, \n . 9004L, 11467L, 32534L, 12486L, 5377L, 1880L, 19332L, 39578L, \n . 32450L, 3495L, 19984L, 4266L, 34508L, 13852L, 14219L, 37530L, \n . 31458L, 19612L, 1033L, 33730L, 8116L, 16816L, 8817L, 1068L, 59L, \n . 37539L, 11527L, 12972L, 582L, 18086L, 26760L, 26827L, 7643L, \n . 34295L, 31992L, 15383L, 38683L, 41028L, 26172L, 24717L, 18949L, \n . 10541L, 1662L, 40112L, 24461L, 20509L, 22184L, 13956L, 14421L, \n . 9080L, 21314L, 13843L, 12114L, 5888L, 28996L, 9817L, 26248L, \n . 22659L, 18624L, 8106L, 32394L, 21112L, 41058L, 1866L, 13111L, \n . 24142L, 7790L, 1423L, 3570L, 15935L, 2584L, 20126L, 6859L, 1370L, \n . 23105L, 1116L, 19910L, 4200L, 3739L, 15802L, 900L, 8512L, 12619L, \n . 22648L, 38546L, 28031L, 4621L, 30465L, 37219L, 12712L, 24729L, \n . 35734L, 19322L, 3878L, 13845L, 17836L, 16386L, 25610L, 36857L, \n . 32442L, 23701L, 33134L, 40140L, 24151L, 6066L, 17263L, 32347L, \n . 29741L, 5866L, 36146L, 31516L, 10110L, 11438L, 39005L, 7296L, \n . 33452L, 6381L, 11742L, 20793L, 39948L, 19420L, 9049L, 21225L, \n . 40649L, 31260L, 22209L, 26784L, 24813L, 26483L, 12122L, 21813L, \n . 20117L, 2180L, 32818L, 659L, 3343L, 23957L, 11326L, 5422L, 11969L, \n . 726L, 21528L, 38502L, 8270L, 29977L, 34063L, 4189L, 39064L, 24944L, \n . 32612L, 11539L, 19653L, 22231L, 19922L, 19256L, 24398L, 11751L, \n . 15894L, 21408L, 25186L, 29305L, 29459L, 5783L, 37378L, 5267L, \n . 30327L, 5902L, 21197L, 1471L, 16616L, 12731L, 37982L, 7508L, \n . 7548L, 18139L, 32286L, 33318L, 3154L, 18625L, 34689L, 31312L, \n . 15794L, 5473L, 19957L, 8729L, 1207L, 38757L, 29542L, 33455L, \n . 25480L, 7799L, 36742L, 27172L, 35708L, 6173L, 38842L, 11943L, \n . 5961L, 3133L, 3282L, 31150L, 24521L, 32947L, 30276L, 26256L, \n . 30448L, 20743L, 20198L, 23359L, 30300L, 8783L, 12674L, 13844L, \n . 41122L, 35875L, 38939L, 34086L, 23366L, 967L, 33595L, 21328L, \n . 36751L, 33887L, 13003L, 75L, 9781L, 32473L, 26749L, 34885L, 18475L, \n . 4023L, 6106L, 40759L, 19397L, 4561L, 7714L, 20595L, 20802L, 33975L, \n . 7051L, 5948L, 39879L, 27501L, 23218L, 38409L, 34627L, 21982L, \n . 36219L, 28094L, 1331L, 1209L, 19424L, 21554L, 2595L, 16112L, \n . 22601L, 31998L, 31860L, 18100L, 39091L, 25062L, 28682L, 25220L, \n . 31301L, 8312L, 18994L, 33336L, 13614L, 10031L, 19638L, 5665L, \n . 15657L, 2982L, 455L, 26640L, 26588L, 32393L, 13927L, 3454L, 18214L, \n . 31749L, 13693L, 23174L, 38763L, 30437L, 40462L, 18518L, 36339L, \n . 8425L, 33548L, 22156L, 40554L, 10029L, 15343L, 18833L, 10579L, \n . 38450L, 40217L, 17159L, 4L, 12139L, 14841L, 29785L, 7503L, 28914L, \n . 36587L, 38840L, 29205L, 29350L, 27064L, 6479L, 31196L, 32038L, \n . 6286L, 483L, 10959L, 19799L, 10145L, 6344L, 14027L, 18846L, 29059L, \n . 30897L, 16705L, 22940L, 31276L, 2177L, 7962L, 10233L, 17040L, \n . 27867L, 35104L, 33541L, 18332L, 13932L, 8371L, 23865L, 24436L, \n . 15126L, 27264L, 14044L, 35722L, 14442L, 15748L, 33204L, 30997L, \n . 11897L, 1602L, 4715L, 23168L, 34516L, 442L, 9366L, 456L, 29406L, \n . 24843L, 15147L, 7571L, 16133L, 32227L, 177L, 9142L, 21823L, 23801L, \n . 22729L, 32231L, 16384L, 15981L, 13768L, 13817L, 38736L, 3370L, \n . 18314L, 5889L, 6218L, 6739L, 19270L, 4731L, 24388L, 24114L, 37825L, \n . 26474L, 30587L, 8494L, 22421L, 35223L, 6055L, 11418L, 14357L, \n . 31291L, 30917L, 33507L, 25570L, 35779L, 27776L, 22640L, 37654L, \n . 6521L, 31126L, 27114L, 29331L, 36683L, 35125L, 3159L, 331L, 21050L, \n . 20775L, 5346L, 39608L, 24273L, 31026L, 11290L, 12552L, 19858L, \n . 25217L, 27817L, 10941L, 5318L, 1505L, 30259L, 40553L, 37940L, \n . 9533L, 40465L, 40253L, 36368L, 16695L, 17761L, 25409L, 5805L, \n . 658L, 6038L, 32764L, 40118L, 5333L, 25550L, 40925L, 23830L, 17608L, \n . 36449L, 4793L, 1114L, 25227L, 7764L, 1501L, 26946L, 31725L, 21349L, \n . 7303L, 26495L, 2234L, 3417L, 10190L, 7938L, 12261L, 36337L, 35072L, \n . 9472L, 26506L, 21531L, 4073L, 18658L, 5578L, 635L, 20472L, 1439L, \n . 4199L, 39333L, 16570L, 18989L, 27722L, 5567L, 37441L, 11482L, \n . 27690L, 40157L, 4875L, 38790L, 35039L, 35261L, 32404L, 35946L, \n . 35572L, 18019L, 32397L, 15008L, 27206L, 33276L, 14555L, 31395L, \n . 4371L, 40970L, 8635L, 3565L, 23199L, 9218L, 1791L, 12948L, 6394L, \n . 23272L, 39932L, 30163L, 34327L, 2147L, 33217L, 25042L, 40050L, \n . 17920L, 18728L, 34158L, 7853L, 769L, 22523L, 36000L, 36293L, \n . 28449L, 7028L, 38731L, 28683L, 40911L, 5493L, 3915L, 31545L, \n . 29783L, 37698L, 25523L, 32435L, 24254L, 22239L, 35404L, 18564L, \n . 40578L, 40104L, 25121L, 25828L, 14078L, 29989L, 40322L, 29301L, \n . 7617L, 1344L, 21383L, 6740L, 12375L, 22298L, 27013L, 1397L, 29526L, \n . 10323L, 27466L, 32267L, 25697L, 27993L, 10095L, 13554L, 10124L, \n . 9085L, 10571L, 24339L, 34702L, 22653L, 11568L, 26682L, 23997L, \n . 28465L, 16947L, 39508L, 24448L, 879L, 24932L, 33811L, 7249L, \n . 28307L, 10819L, 12612L, 2861L, 35400L, 34514L, 16895L, 19236L, \n . 6225L, 12503L, 40505L, 20220L, 2800L, 3316L, 651L, 6265L, 19238L, \n . 11486L, 13712L, 30715L, 8240L, 2278L, 4066L, 30521L, 7176L, 6783L, \n . 876L, 33781L, 4933L, 24469L, 32673L, 14082L, 612L, 14927L, 2308L, \n . 7754L, 27766L, 31809L, 33709L, 37051L, 17203L, 23976L, 38876L, \n . 37165L, 26669L, 1217L, 13118L, 17250L, 16035L, 16708L, 38314L, \n . 3620L, 17298L, 13933L, 5647L, 20830L, 30654L, 5648L, 31847L, \n . 31230L, 18320L, 33662L, 10050L, 14550L, 38998L, 8160L, 20445L, \n . 37013L, 20063L, 27403L, 8537L, 17026L, 29214L, 32613L, 40864L, \n . 16043L, 19865L, 2046L, 1584L, 5281L, 10221L, 7554L, 9536L, 35584L, \n . 32550L, 103L, 10125L, 898L, 9788L, 14594L, 13646L, 37803L, 24539L, \n . 26515L, 22462L, 26015L, 526L, 23143L, 3863L, 38531L, 10012L, \n . 23247L, 15378L, 27886L, 32901L, 30609L, 7812L, 31229L, 41099L, \n . 9797L, 27485L, 3325L, 5726L, 35383L, 36211L, 38646L, 23945L, \n . 15158L, 24762L, 9312L, 36869L, 31083L, 15132L, 39717L, 7320L, \n . 3876L, 30231L, 10811L, 7772L, 21578L, 30352L, 28285L, 6256L, \n . 12379L, 18734L, 2210L, 13629L, 25058L, 27028L, 29612L, 11795L, \n . 39565L, 7939L, 20078L, 6177L, 4262L, 11449L, 24295L, 2740L, 35461L, \n . 8518L, 11053L, 19764L, 13840L, 40204L, 8679L, 22106L, 40355L, \n . 20973L, 17147L, 10926L, 23449L, 23058L, 19044L, 2818L, 28294L, \n . 14265L, 1566L, 10987L, 22057L, 15012L, 35299L, 40987L, 2409L, \n . 20077L, 7842L, 24078L, 31428L, 30989L, 10320L, 11069L, 31038L, \n . 29238L, 25043L, 10139L, 8293L, 37055L, 11566L, 24305L, 12666L, \n . 32374L, 23146L, 19302L, 34497L, 2618L, 28864L, 29866L, 15739L, \n . 9959L, 18078L, 15905L, 30748L, 15603L, 19213L, 12372L, 16709L, \n . 1280L, 37185L, 2480L, 41089L, 1L, 24636L, 1167L, 20621L, 31031L, \n . 6107L, 4646L, 29155L, 30892L, 9937L, 39639L, 25741L, 37124L, \n . 35023L, 19029L, 19192L, 7086L, 15362L, 27717L, 38641L, 1655L, \n . 9114L, 31082L, 34299L, 22284L, 16173L, 26771L, 39766L, 16927L, \n . 30103L, 8693L, 29265L, 6982L, 37314L, 24234L, 33240L, 7443L, \n . 7478L, 37415L, 7949L, 35142L, 14116L, 5068L, 17132L, 29298L, \n . 5302L, 11142L, 3263L, 39156L, 30882L, 20459L, 19700L, 40354L, \n . 25642L, 5448L, 38967L, 39912L, 38755L, 33089L, 12309L, 38262L, \n . 9800L, 24989L, 19870L, 20405L, 34999L, 2415L, 15499L, 32974L, \n . 39968L, 27438L, 10341L, 2726L, 40724L, 34817L, 23241L, 40001L, \n . 33835L, 13894L, 37500L, 29012L, 24775L, 7919L, 21L, 19169L, 38530L, \n . 24240L, 20582L, 490L, 20406L, 17747L, 38935L, 19847L, 14501L, \n . 38980L, 7837L, 34402L, 33582L, 39133L, 18415L, 1536L, 33447L, \n . 7905L, 37197L, 12509L, 32828L, 20527L, 25459L, 27559L, 31208L, \n . 10349L, 1117L, 28056L, 14451L, 13872L, 11208L, 22545L, 16313L, \n . 12561L, 40915L, 38117L, 37193L, 7096L, 13805L, 18984L, 8619L, \n . 15637L, 30852L, 346L, 13556L, 1132L, 40028L, 33429L, 28776L, \n . 6767L, 5822L, 8355L, 36079L, 14923L, 13076L, 17545L, 36804L, \n . 17620L, 40030L, 7431L, 33362L, 8784L, 2918L, 9562L, 19683L, 37674L, \n . 36723L, 6167L, 12537L, 2640L, 34114L, 17295L, 31577L, 1149L, \n . 35688L, 29274L, 12648L, 9568L, 15070L, 15352L, 2377L, 28448L, \n . 25201L, 39516L, 23336L, 11848L, 3553L, 6604L, 35743L, 31270L, \n . 4093L, 34720L, 15757L, 21558L, 39722L, 10764L, 32140L, 5292L, \n . 20857L, 28665L, 18153L, 28028L, 39697L, 37031L, 3933L, 37161L, \n . 17646L, 35815L, 4906L, 21024L, 28536L, 2494L, 40336L, 28643L, \n . 16675L, 34691L, 11325L, 33250L, 5715L, 32437L, 34401L, 3139L, \n . 20693L, 18096L, 37122L, 23397L, 39800L, 494L, 33983L, 40933L, \n . 40411L, 16291L, 16135L, 17337L, 30845L, 17126L, 32804L, 23821L, \n . 32175L, 23234L, 23841L, 40068L, 3253L, 22227L, 35567L, 10805L, \n . 31188L, 7537L, 4522L, 35276L, 30558L, 7701L, 37405L, 32699L, \n . 15686L, 36276L, 17544L, 9920L, 7909L, 30926L, 33731L, 35265L, \n . 6751L, 12256L, 37174L, 15288L, 434L, 23788L, 20690L, 5030L, 19403L, \n . 35915L, 8198L, 8261L, 35201L, 21241L, 5463L, 37804L, 33516L, \n . 16267L, 19502L, 16158L, 4777L, 4106L, 31310L, 36557L, 30613L, \n . 17930L, 10755L, 8682L, 5981L, 32032L, 21369L, 18611L, 18431L, \n . 28649L, 35066L, 1865L, 9816L, 12574L, 17953L, 39361L, 32220L, \n . 4496L, 24068L, 4185L, 18456L, 22157L, 25204L, 6781L, 23888L, \n . 9010L, 15493L, 17309L, 27891L, 33427L, 7803L, 26447L, 20468L, \n . 38615L, 39867L, 5111L, 321L, 39997L, 31289L, 16726L, 1388L, 3409L, \n . 15891L, 975L, 38673L, 13406L, 26031L, 16817L, 36565L, 32045L, \n . 19265L, 33481L, 22199L, 11579L, 8690L, 37338L, 13401L, 10982L, \n . 15202L, 23386L, 22358L, 38969L, 32855L, 2055L, 38219L, 32706L, \n . 29871L, 1586L, 4563L, 21065L, 34615L, 39761L, 5716L, 8381L, 10150L, \n . 18540L, 11065L, 12487L, 39894L, 32520L, 13743L, 14810L, 26897L, \n . 25351L, 35633L, 5819L, 31045L, 11577L, 8283L, 27385L, 39872L, \n . 36744L, 36274L, 3929L, 37962L, 8567L, 12786L, 2949L, 26137L, \n . 6893L, 25833L, 32877L, 3031L, 36244L, 26825L, 41107L, 34420L, \n . 30365L, 35406L, 27672L, 14828L, 12947L, 14877L, 31266L, 14225L, \n . 5522L, 31179L, 26779L, 3614L, 18289L, 40522L, 22573L, 4463L, \n . 36475L, 32689L, 10204L, 22011L, 15216L, 20208L, 24977L, 9783L, \n . 32236L, 17218L, 12745L, 12623L, 37921L, 11161L, 24419L, 39125L, \n . 135L, 1583L, 26251L, 180L, 35557L, 12000L, 18377L, 2663L, 7343L, \n . 40245L, 1497L, 19943L, 19800L, 11920L, 7182L, 24520L, 34525L, \n . 38356L, 37927L, 35812L, 11883L, 21372L, 32282L, 39115L, 24035L, \n . 20610L, 23674L, 22903L, 10064L, 16830L, 3372L, 35940L, 13317L, \n . 24065L, 2853L, 15979L, 32872L, 2240L, 2037L, 2062L, 24613L, 40449L, \n . 39937L, 27747L, 28300L, 36350L, 16793L, 11201L, 39793L, 25812L, \n . 37622L, 1539L, 37840L, 23072L, 30862L, 13124L, 2718L, 22824L, \n . 36949L, 23535L, 28924L, 18735L, 34199L, 17096L, 18379L, 35563L, \n . 6845L, 25706L, 7725L, 20432L, 14351L, 6155L, 65L, 39922L, 28226L, \n . 6475L, 19848L, 40168L, 10499L, 23398L, 2801L, 32726L, 2529L, \n . 21209L, 37739L, 957L, 25302L, 15235L, 35971L, 34113L, 30310L, \n . 18354L, 16215L, 611L, 25546L, 14712L, 24492L, 10542L, 17387L, \n . 27645L, 41051L, 39000L, 38357L, 24827L, 36094L, 5140L, 8734L, \n . 11556L, 24144L, 4660L, 9923L, 21301L, 1069L, 35813L, 29825L, \n . 22220L, 14201L, 16328L, 18164L, 18763L, 40409L, 3151L, 20711L, \n . 20998L, 31005L, 5188L, 23160L, 11802L, 24090L, 11970L, 35266L, \n . 26144L, 30015L, 13605L, 22291L, 40117L, 30358L, 24499L, 37054L, \n . 5793L, 20330L, 40280L, 10791L, 2679L, 38838L, 40834L, 33219L, \n . 31820L, 39627L, 9665L, 4104L, 19842L, 38193L, 387L, 39281L, 7275L, \n . 10303L, 1659L, 33L, 22310L, 39087L, 39040L, 8695L, 21865L, 21022L, \n . 20367L, 28353L, 9379L, 35494L, 16363L, 3262L, 7423L, 28846L, \n . 1032L, 6838L, 26235L, 34198L, 38098L, 2009L, 25236L, 26210L, \n . 31687L, 33247L, 30325L, 27830L, 37793L, 26465L, 30785L, 6283L, \n . 7929L, 37980L, 35744L, 24221L, 28856L, 30355L, 35479L, 12457L, \n . 21253L, 1552L, 20248L, 32415L, 33015L, 16609L, 25212L, 15467L, \n . 13567L, 27142L, 9631L, 2589L, 9209L, 3913L, 18471L, 14597L, 40748L, \n . 33388L, 2996L, 6016L, 29759L, 23263L, 29115L, 38858L, 11477L, \n . 9494L, 12765L, 25917L, 9598L, 9822L, 4417L, 40202L, 24067L, 11622L, \n . 19515L, 25164L, 37798L, 29489L, 37195L, 25285L, 29254L, 39366L, \n . 5828L, 29625L, 41061L, 30908L, 636L, 27350L, 29622L, 9896L, 19545L, \n . 12760L, 16238L, 3416L, 584L, 33488L, 22330L, 37L, 938L, 7023L, \n . 4377L, 36606L, 20462L, 25073L, 12003L, 37026L, 6613L, 30524L, \n . 4820L, 16418L, 31694L, 22938L, 5636L, 28106L, 26180L, 7496L, \n . 34400L, 19194L, 8716L, 20273L, 33837L, 23547L, 3158L, 33987L, \n . 27786L, 3897L, 15297L, 33009L, 939L, 36568L, 18865L, 10001L, \n . 17094L, 37649L, 20854L, 15875L, 35582L, 10585L, 14835L, 22283L, \n . 25092L, 23285L, 40755L, 25796L, 14058L, 6087L, 22920L, 22703L, \n . 28217L, 2058L, 35483L, 5987L, 5207L, 35091L, 7655L, 3172L, 13075L, \n . 26845L, 8513L, 2607L, 12197L, 18463L, 268L, 8223L, 2202L, 11811L, \n . 18291L, 37928L, 20048L, 28698L, 24356L, 35407L, 23250L, 27145L, \n . 27597L, 6224L, 36977L, 31034L, 34088L, 29784L, 31938L, 15184L, \n . 26578L, 13266L, 22652L, 28928L, 10464L, 28313L, 40906L, 37678L, \n . 33626L, 20895L, 32686L, 20618L, 20040L, 31261L, 13545L, 39928L, \n . 5444L, 16321L, 39049L, 1122L, 28209L, 2769L, 11585L, 39254L, \n . 35550L, 24306L, 6128L, 10018L, 13439L, 37545L, 6370L, 35957L, \n . 29418L, 2802L, 17903L, 35752L, 2692L, 16716L, 29244L, 1109L, \n . 12296L, 31791L, 5237L, 16204L, 3835L, 4198L, 35949L, 25272L, \n . 40732L, 11238L, 5558L, 38781L, 32852L, 21776L, 3461L, 31752L, \n . 1601L, 32719L, 7389L, 21760L, 41173L, 19246L, 26442L, 29562L, \n . 29722L, 40097L, 17088L, 41133L, 6679L, 12089L, 18222L, 40760L, \n . 35512L, 6727L, 29990L, 33461L, 6564L, 10407L, 16207L, 25977L, \n . 13903L, 2590L, 10066L, 24693L, 6043L, 4532L, 5544L, 34683L, 23255L, \n . 18527L, 30436L, 20234L, 1540L, 2852L, 22705L, 12681L, 38800L, \n . 7796L, 15336L, 1625L, 31402L, 13555L, 21693L, 2571L, 34595L, \n . 18944L, 18279L, 40187L, 22901L, 20430L, 30410L, 27522L, 35482L, \n . 23484L, 14750L, 15920L, 11526L, 935L, 27731L, 19251L, 9388L, \n . 23081L, 40927L, 11685L, 21794L, 10005L, 1786L, 27763L, 3636L, \n . 20438L, 21398L, 11851L, 14792L, 21618L, 4804L, 6077L, 4304L, \n . 9914L, 8583L, 15926L, 2806L, 31609L, 9862L, 7367L, 4282L, 38064L, \n . 35629L, 8424L, 21248L, 33908L, 16332L, 28423L, 888L, 33938L, \n . 20993L, 11646L, 29248L, 33056L, 31603L, 20617L, 36420L, 32553L, \n . 2846L, 18252L, 19969L, 660L, 13123L, 34596L, 4140L, 10294L, 311L, \n . 4649L, 23239L, 10953L, 37386L, 11677L, 32875L, 15804L, 35522L, \n . 3119L, 8311L, 22991L, 33118L, 1556L, 25634L, 31896L, 23825L, \n . 17216L, 36169L, 20336L, 39062L, 34904L, 21568L, 38066L, 17366L, \n . 1836L, 29365L, 17453L, 8006L, 4362L, 4063L, 9318L, 36477L, 23695L, \n . 13649L, 38309L, 17056L, 2774L, 38313L, 5595L, 24740L, 16594L, \n . 8196L, 4238L, 26637L, 13767L, 23727L, 34076L, 16450L, 28430L, \n . 37992L, 8892L, 40918L, 30199L, 29653L, 41175L, 19614L, 10201L, \n . 12758L, 19146L, 5725L, 4243L, 38104L, 36944L, 21229L, 35857L, \n . 9200L, 18472L, 19252L, 21357L, 25987L, 24837L, 21841L, 28811L, \n . 25752L, 20968L, 16720L, 32751L, 12714L, 31855L, 29172L, 32653L, \n . 26406L, 21297L, 41144L, 7685L, 6215L, 33810L, 16057L, 9623L, \n . 560L, 24715L, 18943L, 15666L, 9885L, 24776L, 10040L, 17659L, \n . 2429L, 38566L, 25154L, 30470L, 30944L, 15072L, 13667L, 25173L, \n . 12604L, 40840L, 15752L, 11816L, 20386L, 12638L, 20820L, 11202L, \n . 1470L, 4628L, 15206L, 37464L, 6949L, 35178L, 18619L, 2036L, 38769L, \n . 33631L, 11089L, 1036L, 32036L, 3319L, 33142L, 14358L, 997L, 34487L, \n . 31645L, 25673L, 21510L, 36531L, 7232L, 31523L, 28154L, 17901L, \n . 32665L, 40945L, 28774L, 35158L, 32519L, 25189L, 6575L, 23354L, \n . 13636L, 20752L, 23942L, 40357L, 26192L, 39426L, 22062L, 38013L, \n . 604L, 4397L, 37689L, 5670L, 8490L, 14939L, 12327L, 40885L, 32990L, \n . 18464L, 23796L, 8368L, 11880L, 28002L, 1013L, 34644L, 33594L, \n . 26372L, 28760L, 1030L, 10798L, 23936L, 26712L, 24961L, 14319L, \n . 667L, 6530L, 23990L, 40463L, 23963L, 20701L, 22035L, 1178L, 19564L, \n . 16807L, 4046L, 39101L, 37560L, 36993L, 27922L, 36311L, 4220L, \n . 32234L, 26932L, 9L, 22678L, 32720L, 14159L, 6810L, 22650L, 40948L, \n . 34225L, 22706L, 5350L, 11188L, 37396L, 3891L, 15685L, 30203L, \n . 34633L, 1284L, 26572L, 15497L, 7688L, 14985L, 20965L, 39601L, \n . 9600L, 8222L, 31793L, 394L, 28780L, 20259L, 23211L, 21638L, 40556L, \n . 31719L, 13302L, 19982L, 39097L, 20881L, 38545L, 4719L, 18035L, \n . 33023L, 226L, 10777L, 323L, 30669L, 13778L, 12210L, 32225L, 38635L, \n . 15778L, 12667L, 34621L, 1853L, 30250L, 14123L, 3528L, 40827L, \n . 13666L, 26871L, 30708L, 24849L, 39799L, 9079L, 22373L, 2820L, \n . 1455L, 34623L, 39541L, 10309L, 17918L, 5149L, 33137L, 28341L, \n . 38172L, 28388L, 41034L, 21765L, 6432L, 35868L, 13681L, 27088L, \n . 9966L, 17133L, 32279L, 36619L, 23981L, 16922L, 5107L, 228L, 31740L, \n . 24959L, 36669L, 9742L, 18914L, 10230L, 32912L, 3882L, 15333L, \n . 16077L, 1694L, 290L, 1503L, 17470L, 12742L, 2146L, 8420L, 30027L, \n . 15433L, 16539L, 13236L, 37287L, 23021L, 1329L, 21781L, 28779L, \n . 22702L, 24225L, 9944L, 40776L, 25255L, 19055L, 35171L, 40842L, \n . 27399L, 16519L, 335L, 40476L, 22395L, 41097L, 1518L, 14718L, \n . 11872L, 27639L, 17706L, 8508L, 2711L, 20812L, 10457L, 28236L, \n . 29028L, 13477L, 10871L, 37443L, 34386L, 9228L, 14782L, 18216L, \n . 35331L, 3759L, 23206L, 9634L, 3594L, 17775L, 4296L, 11869L, 35714L, \n . 14375L, 8607L, 29601L, 8610L, 31387L, 25532L, 36896L, 26246L, \n . 14344L, 12622L, 36950L, 40946L, 18593L, 40723L, 11369L, 465L, \n . 5811L, 34841L, 35506L, 32752L, 1735L, 10707L, 826L, 32264L, 21018L, \n . 7611L, 25478L, 24261L, 4505L, 11376L, 33229L, 19269L, 27448L, \n . 8081L, 19645L, 5074L, 6273L, 3704L, 13360L, 4035L, 26839L, 14250L, \n . 1999L, 17099L, 1640L, 27749L, 40182L, 37597L, 4108L, 26554L, \n . 5185L, 6797L, 18838L, 3292L, 28959L, 28245L, 30921L, 5023L, 39529L, \n . 41031L, 12842L, 10008L, 12611L, 23771L, 9553L, 33125L, 40749L, \n . 16783L, 9941L, 34842L, 39138L, 31561L, 8554L, 10034L, 39387L, \n . 13747L, 21407L, 17073L, 3381L, 22365L, 15818L, 13645L, 9664L, \n . 8L, 14562L, 1454L, 11763L, 30076L, 9658L, 20910L, 30780L, 3609L, \n . 23991L, 2029L, 12424L, 17485L, 23598L, 3593L, 33790L, 1642L, \n . 20946L, 11442L, 11555L, 11605L, 2570L, 19151L, 11761L, 23765L, \n . 5815L, 35528L, 10406L, 19805L, 5946L, 23135L, 39100L, 15307L, \n . 11195L, 15502L, 3769L, 182L, 6925L, 31997L, 17343L, 36989L, 22643L, \n . 28962L, 18457L, 16573L, 22725L, 9203L, 21373L, 5288L, 15368L, \n . 12923L, 31732L, 29181L, 1580L, 30225L, 12668L, 40607L, 14412L, \n . 10441L, 20304L, 23955L, 3971L, 16463L, 19558L, 37922L, 7064L, \n . 38444L, 2093L, 16148L, 1406L, 39629L, 15902L, 20107L, 38192L, \n . 5515L, 32859L, 22084L, 25067L, 39987L, 36604L, 12831L, 18494L, \n . 7889L, 26538L, 5290L, 11874L, 27540L, 1103L, 8419L, 5564L, 9715L, \n . 22145L, 29753L, 19317L, 35244L, 28365L, 1689L, 6492L, 33696L, \n . 15955L, 17961L, 7325L, 40904L, 31397L, 11524L, 8089L, 28155L, \n . 16849L, 33690L, 946L, 20787L, 23438L, 28041L, 277L, 30941L, 34808L, \n . 15549L, 993L, 11055L, 14148L, 20744L, 33518L, 39509L, 28455L, \n . 1560L, 36946L, 22285L, 5569L, 27994L, 19313L, 35490L, 19124L, \n . 20503L, 264L, 31274L, 40333L, 32732L, 12953L, 13812L, 24919L, \n . 19682L, 3988L, 3379L, 23279L, 589L, 11638L, 40838L, 17086L, 31864L, \n . 25743L, 31338L, 414L, 21524L, 6513L, 23779L, 36796L, 18831L, \n . 14475L, 36571L, 34213L, 9207L, 18514L, 32729L, 18570L, 32903L, \n . 1469L, 9479L, 27030L, 10859L, 27899L, 26160L, 40934L, 3218L, \n . 8871L, 11719L, 10206L, 13025L, 31556L, 17106L, 32722L, 12513L, \n . 23343L, 14991L, 16454L, 36855L, 16811L, 35755L, 34723L, 12386L, \n . 12014L, 15373L, 25079L, 41141L, 29123L, 21710L, 3451L, 25854L, \n . 2053L, 25233L, 11391L, 33933L, 30502L, 31879L, 11598L, 21111L, \n . 17304L, 33621L, 22699L, 1019L, 31427L, 39470L, 5265L, 20538L, \n . 2636L, 7195L, 7324L, 521L, 424L, 29858L, 32995L, 21460L, 21844L, \n . 5512L, 28946L, 40533L, 11162L, 29386L, 36881L, 20731L, 3697L, \n . 7141L, 19714L, 25127L, 14872L, 12699L, 8814L, 2554L, 7940L, 35380L, \n . 22134L, 21124L, 14331L, 11810L, 25274L, 7818L, 11034L, 9548L, \n . 20493L, 40831L, 14962L, 23054L, 22233L, 40135L, 24102L, 11297L, \n . 21728L, 34100L, 32499L, 28631L, 27732L, 15995L, 23344L, 41153L, \n . 7169L, 24662L, 35887L, 11227L, 13656L, 25358L, 22469L, 30838L, \n . 40707L, 33629L, 33331L, 22544L, 2237L, 18317L, 20774L, 11280L, \n . 19189L, 3950L, 6392L, 24807L, 7760L, 18092L, 10636L, 23538L, \n . 31661L, 26666L, 18352L, 3408L, 36520L, 8413L, 2758L, 25994L, \n . 17799L, 33706L, 28195L, 2165L, 16732L, 15961L, 25163L, 9017L, \n . 39229L, 7928L, 15769L, 1623L, 35305L, 13041L, 1517L, 14304L, \n . 20110L, 33462L, 30918L, 15556L, 21763L, 17929L, 29841L, 30559L, \n . 19114L, 4907L, 9736L, 29565L, 23937L, 35224L, 21910L, 12855L, \n . 12515L, 17276L, 25200L, 4252L, 6907L, 31981L, 39934L, 15881L, \n . 15621L, 38906L, 26831L, 682L, 9043L, 3398L, 28466L, 2500L, 5547L, \n . 14083L, 38490L, 33575L, 16955L, 23550L, 33214L, 3592L, 20844L, \n . 9836L, 20455L, 31762L, 32779L, 29362L, 7305L, 36843L, 983L, 12564L, \n . 39512L, 16001L, 3336L, 30198L, 13437L, 10631L, 36294L, 19253L, \n . 3024L, 17145L, 193L, 14898L, 18834L, 30359L, 7766L, 1832L, 31374L, \n . 7514L, 21167L, 7273L, 28308L, 764L, 30968L, 24688L, 23785L, 41039L, \n . 33839L, 38129L, 35078L, 20270L, 26493L, 10104L, 9420L, 24579L, \n . 26552L, 15799L, 39732L, 7331L, 13210L, 19897L, 15469L, 35919L, \n . 6709L, 21025L, 19723L, 22420L, 7403L, 588L, 18917L, 31748L, 30787L, \n . 22885L, 36545L, 4986L, 14453L, 19796L, 33555L, 35316L, 31898L, \n . 1784L, 35175L, 23491L, 12885L, 38209L, 29535L, 36556L, 24767L, \n . 5005L, 20066L, 1157L, 13578L, 37731L, 25268L, 39292L, 30081L, \n . 10074L, 17640L, 5484L, 14503L, 7767L, 35536L, 36964L, 36884L, \n . 9002L, 40036L, 15719L, 37244L, 10622L, 14570L, 304L, 13751L, \n . 10568L, 26573L, 32448L, 28882L, 29833L, 11315L, 1513L, 38586L, \n . 17884L, 35926L, 9333L, 31792L, 29967L, 1357L, 8202L, 20287L, \n . 25055L, 3320L, 32092L, 27504L, 7148L, 26592L, 18589L, 11292L, \n . 25363L, 25679L, 16127L, 24945L, 25815L, 31741L, 22121L, 22173L, \n . 11971L, 34220L, 30128L, 31439L, 13750L, 14894L, 22762L, 4774L, \n . 21392L, 38860L, 36865L, 35980L, 21056L, 22092L, 40032L, 9592L, \n . 21414L, 2743L, 25049L, 30580L, 23583L, 28639L, 38609L, 2600L, \n . 12367L, 34069L, 23085L, 35530L, 13826L, 5199L, 15160L, 11198L, \n . 34658L, 20L, 12317L, 10553L, 8900L, 36722L, 10299L, 32384L, 3560L, \n . 1077L, 40659L, 2074L, 19039L, 21396L, 33817L, 26738L, 27971L, \n . 10379L, 14762L, 3735L, 17429L, 14902L, 33337L, 4363L, 25738L, \n . 12396L, 6756L, 31524L, 36612L, 34950L, 23253L, 15372L, 18654L, \n . 38030L, 1378L, 6086L, 12389L, 31202L, 16610L, 12384L, 3534L, \n . 22424L, 10866L, 33116L, 17172L, 2840L, 17334L, 13997L, 11062L, \n . 8740L, 27550L, 18637L, 25096L, 25246L, 38945L, 29572L, 14650L, \n . 23023L, 35742L, 23486L, 14599L, 22564L, 2446L, 31685L, 2619L, \n . 27325L, 29309L, 35193L, 37079L, 32969L, 6938L, 27526L, 38285L, \n . 20768L, 21988L, 7560L, 40403L, 31989L, 29323L, 22667L, 28057L, \n . 6814L, 22438L, 3450L, 31909L, 655L, 19110L, 10262L, 28431L, 5180L, \n . 33028L, 6543L, 15084L, 22083L, 27038L, 3504L, 8459L, 34812L, \n . 140L, 16044L, 34175L, 247L, 5620L, 7291L, 27521L, 20108L, 7567L, \n . 24026L, 34363L, 33650L, 35340L, 29950L, 15923L, 8799L, 11747L, \n . 16176L, 9876L, 4964L, 10465L, 34403L, 21928L, 18122L, 37364L, \n . 8642L, 11741L, 985L, 40489L, 29270L, 23080L, 10300L, 34597L, \n . 29170L, 33577L, 18685L, 29015L, 24554L, 13669L, 29758L, 26991L, \n . 14912L, 39869L, 4639L, 17234L, 13458L, 17444L, 362L, 15334L, \n . 37070L, 31379L, 4766L, 17287L, 36429L, 11925L, 34871L, 9357L, \n . 20796L, 4762L, 7952L, 12919L, 39381L, 11826L, 29651L, 7165L, \n . 9875L, 3377L, 24726L, 17372L, 9608L, 13988L, 2459L, 27871L, 7193L, \n . 5767L, 11951L, 28303L, 26803L, 19853L, 610L, 28541L, 21579L, \n . 28510L, 7416L, 26821L, 40633L, 37221L, 5998L, 37433L, 33358L, \n . 18198L, 27491L, 2559L, 13870L, 30796L, 18247L, 9387L, 16411L, \n . 29663L, 25647L, 26356L, 39965L, 4805L, 16586L, 17936L, 12894L, \n . 35736L, 36232L, 1214L, 20453L, 26764L, 38139L, 34610L, 38644L, \n . 23968L, 32103L, 7639L, 15747L, 26079L, 32232L, 32551L, 39915L, \n . 34647L, 17345L, 31875L, 21868L, 10165L, 28520L, 29355L, 35854L, \n . 17205L, 16370L, 34968L, 9574L, 12669L, 1277L, 16198L, 10107L, \n . 12884L, 13132L, 16364L, 35149L, 38837L, 3941L, 26840L, 20068L, \n . 11488L, 1889L, 28505L, 4825L, 21247L, 17790L, 34304L, 23003L, \n . 12325L, 33726L, 11184L, 3041L, 32514L, 12880L, 11540L, 30923L, \n . 30080L, 23500L, 13285L, 30540L, 12484L, 29318L, 24210L, 38194L, \n . 23601L, 38270L, 13687L, 33379L, 31964L, 11863L, 37624L, 5971L, \n . 6062L, 13514L, 8765L, 3927L, 23952L, 31501L, 7050L, 23445L, 32257L, \n . 29660L, 29173L, 19939L, 22500L, 31484L, 28269L, 9925L, 31958L, \n . 33780L, 29352L, 22813L, 38404L, 27315L, 33057L, 15831L, 27958L, \n . 17684L, 23127L, 16453L, 28452L, 26084L, 28051L, 35830L, 5962L, \n . 19936L, 21158L, 619L, 14004L, 16725L, 7414L, 27568L, 33745L, \n . 15165L, 27413L, 13553L, 6190L, 24079L, 31669L, 34128L, 21598L, \n . 23619L, 12872L, 31769L, 24304L, 35241L, 15725L, 29920L, 29416L, \n . 21797L, 31273L, 15707L, 11993L, 2631L, 23193L, 27217L, 4926L, \n . 622L, 33851L, 12224L, 5160L, 38386L, 22425L, 8206L, 12937L, 2868L, \n . 13156L, 37835L, 38812L, 2416L, 37033L, 950L, 1430L, 40266L, 37865L, \n . 38431L, 18480L, 9358L, 31018L, 35001L, 34704L, 28442L, 4924L, \n . 9436L, 12271L, 13457L, 38007L, 21801L, 9309L, 13278L, 11371L, \n . 18840L, 39061L, 19575L, 30733L, 24326L, 33017L, 16665L, 27716L, \n . 15087L, 37429L, 13628L, 21744L, 34440L, 21150L, 23754L, 36668L, \n . 5896L, 21191L, 18567L, 22174L, 33590L, 8862L, 10719L, 26487L, \n . 20233L, 2922L, 21258L, 13702L, 30412L, 1010L, 18221L, 41042L, \n . 34580L, 28741L, 16702L, 37016L, 17003L, 5415L, 26482L, 34705L, \n . 32842L, 2167L, 36141L, 10690L, 3312L, 34943L, 40483L, 26078L, \n . 6622L, 10115L, 3930L, 4543L, 37498L, 34774L, 35984L, 37723L, \n . 24913L, 30028L, 5393L, 19336L, 6458L, 27754L, 20532L, 24204L, \n . 40308L, 17524L, 18339L, 26828L, 38825L, 39160L, 27116L, 31144L, \n . 28319L, 32718L, 20410L, 7594L, 29504L, 5058L, 15589L, 34293L, \n . 33019L, 29105L, 21341L, 21698L, 24844L, 9844L, 13164L, 36991L, \n . 25740L, 2553L, 20565L, 30670L, 18960L, 248L, 32419L, 36994L, \n . 33663L, 34111L, 26347L, 14313L, 13661L, 8305L, 26971L, 4102L, \n . 24621L, 12992L, 40952L, 23857L, 29375L, 5625L, 17834L, 6522L, \n . 7497L, 12601L, 34143L, 25168L, 8333L, 38249L, 13996L, 11537L, \n . 624L, 36016L, 12230L, 37691L, 9527L, 24372L, 9777L, 25586L, 15245L, \n . 14812L, 24797L, 30106L, 23970L, 26054L, 16501L, 13691L, 23129L, \n . 12520L, 35841L, 2620L, 21347L, 11812L, 6150L, 11535L, 41083L, \n . 4787L, 20789L, 462L, 12185L, 35198L, 32107L, 10621L, 9743L, 10327L, \n . 40619L, 36359L, 548L, 18270L, 37332L, 7593L, 37656L, 27147L, \n . 34883L, 9543L, 24888L, 4383L, 41059L, 32086L, 31346L, 7483L, \n . 40047L, 5917L, 25169L, 10159L, 35972L, 39294L, 2753L, 15672L, \n . 15412L, 13780L, 12566L, 11593L, 5177L, 26927L, 36635L, 34711L, \n . 10046L, 23494L, 1912L, 39217L, 20416L, 111L, 10743L, 39286L, \n . 5470L, 32212L, 36773L, 29094L, 10917L, 27387L, 12935L, 6536L, \n . 35667L, 15822L, 14634L, 10455L, 34085L, 21772L, 37078L, 26731L, \n . 20602L, 5335L, 524L, 13863L, 14498L, 35267L, 29522L, 40218L, \n . 12899L, 26553L, 36905L, 6887L, 25254L, 35007L, 6467L, 38704L, \n . 39450L, 19048L, 24495L, 19887L, 11854L, 22830L, 4315L, 29792L, \n . 25983L, 2059L, 22639L, 30734L, 23909L, 3361L, 31499L, 39619L, \n . 7027L, 7360L, 1413L, 37188L, 16302L, 1811L, 38658L, 21312L, 18072L, \n . 13423L, 31352L, 4733L, 8272L, 12987L, 10696L, 13821L, 7375L, \n . 23553L, 22945L, 2064L, 6291L, 10548L, 39207L, 5873L, 23355L, \n . 32308L, 31650L, 20322L, 33643L, 11631L, 16421L, 5033L, 13759L, \n . 11022L, 21571L, 37593L, 29046L, 10173L, 13382L, 5098L, 13336L, \n . 29426L, 30522L, 60L, 5021L, 19894L, 8154L, 9459L, 36797L, 23542L, \n . 822L, 4092L, 8507L, 9826L, 15821L, 15311L, 8400L, 9492L, 11L, \n . 6121L, 30702L, 20749L, 36192L, 28244L, 40880L, 24057L, 29423L, \n . 1271L, 23557L, 12304L, 5067L, 13020L, 21469L, 5447L, 33752L, \n . 16020L, 20463L, 28732L, 13659L, 18804L, 15204L, 13408L, 6281L, \n . 22013L, 10293L, 26540L, 25084L, 14904L, 32001L, 10193L, 11224L, \n . 3144L, 34469L, 34582L, 2696L, 10070L, 39323L, 26676L, 20221L, \n . 56L, 31091L, 1508L, 28339L, 36542L, 25536L, 41088L, 15313L, 8681L, \n . 5957L, 7942L, 13634L, 38451L, 37936L, 33342L, 5003L, 4021L, 25360L, \n . 31441L, 36621L, 11930L, 16507L, 24052L, 39571L, 33530L, 3380L, \n . 21956L, 1862L, 31419L, 8080L, 8393L, 9704L, 25447L, 37304L, 28235L, \n . 8529L, 9677L, 5976L, 26468L, 18701L, 40818L, 5714L, 27646L, 33046L, \n . 12532L, 40241L, 15048L, 8121L, 1043L, 24593L, 22066L, 3340L, \n . 8751L, 40200L, 12087L, 18064L, 17519L, 8571L, 25384L, 2254L, \n . 29068L, 32805L, 38859L, 1345L, 19669L, 11272L, 8721L, 23048L, \n . 3679L, 32657L, 33648L, 15237L, 21838L, 36269L, 9238L, 29277L, \n . 27881L, 40534L, 36144L, 4597L, 7507L, 17781L, 27616L, 29911L, \n . 37481L, 19021L, 13348L, 38567L, 40457L, 4169L, 32943L, 19792L, \n . 28104L, 12692L, 36747L, 25090L, 3378L, 31670L, 25040L, 16544L, \n . 39032L, 24815L, 25457L, 26616L, 89L, 27099L, 8054L, 20353L, 35420L, \n . 1179L, 23986L, 18115L, 18385L, 10742L, 25577L, 18651L, 34511L, \n . 19346L, 12848L, 31373L, 8211L, 6741L, 25081L, 31354L, 16597L, \n . 19271L, 35026L, 34002L, 32899L, 20348L, 26149L, 32176L, 19239L, \n . 17302L, 5170L, 17260L, 15931L, 8597L, 29371L, 29640L, 15444L, \n . 9534L, 32966L, 21980L, 71L, 5573L, 18802L, 31063L, 36681L, 13024L, \n . 3662L, 20409L, 34657L, 9767L, 34180L, 24368L, 12202L, 12339L, \n . 17894L, 7315L, 2703L, 15976L, 12141L, 34108L, 3995L, 22263L, \n . 14535L, 11104L, 40815L, 39036L, 4707L, 37781L, 24804L, 19528L, \n . 26982L, 11749L, 9995L, 32252L, 35784L, 5391L, 12514L, 19348L, \n . 25589L, 17693L, 22839L, 2266L, 4001L, 27131L, 8696L, 20374L, \n . 8572L, 27793L, 21515L, 14867L, 5682L, 2407L, 18703L, 20345L, \n . 9094L, 36725L, 3968L, 11850L, 33724L, 21914L, 20720L, 10177L, \n . 7541L, 17910L, 20760L, 8733L, 38071L, 15380L, 4194L, 1924L, 38077L, \n . 16576L, 18927L, 9415L, 37752L, 34921L, 35828L, 40224L, 22518L, \n . 6873L, 6695L, 3210L, 33866L, 20989L, 28540L, 21088L, 8111L, 28399L, \n . 29011L, 25942L, 15061L, 23879L, 12861L, 4003L, 20803L, 18648L, \n . 40542L, 9894L, 20454L, 31251L, 33343L, 38813L, 20017L, 40788L, \n . 10947L, 6855L, 5771L, 38015L, 33441L, 36454L, 40677L, 23418L, \n . 22375L, 19215L, 27434L, 3147L, 2695L, 36511L, 20267L, 13528L, \n . 32127L, 36059L, 1065L, 40265L, 19372L, 30717L, 21281L, 1671L, \n . 34637L, 27964L, 32124L, 26267L, 12974L, 11145L, 26496L, 36218L, \n . 33615L, 25402L, 10209L, 12567L, 5833L, 18093L, 22548L, 40075L, \n . 38727L, 16578L, 16859L, 40624L, 18058L, 38027L, 4498L, 14713L, \n . 3781L, 31295L, 130L, 2941L, 1585L, 33073L, 40484L, 27230L, 36343L, \n . 8229L, 15688L, 37404L, 4255L, 29030L, 20293L, 6812L, 2829L, 40771L, \n . 3832L, 13829L, 28883L, 24186L, 16840L, 33867L, 4984L, 9210L, \n . 3635L, 13847L, 21720L, 40916L, 36498L, 26729L, 1624L, 12925L, \n . 7863L, 39759L, 26022L, 40926L, 5587L, 21316L, 27729L, 18113L, \n . 24408L, 11959L, 17697L, 10983L, 32770L, 18361L, 21520L, 21342L, \n . 29908L, 32216L, 32554L, 40772L, 33456L, 23097L, 18695L, 26627L, \n . 30907L, 14229L, 32052L, 8910L, 30233L, 3085L, 38871L, 9044L, \n . 8728L, 28021L, 29021L, 2841L, 38525L, 35569L, 29510L, 15277L, \n . 14592L, 15095L, 5953L, 23973L, 9077L, 10769L, 6454L, 30016L, \n . 18992L, 38569L, 13341L, 27933L, 27553L, 4391L, 21551L, 10519L, \n . 17256L, 36423L, 3599L, 31873L, 31287L, 23148L, 8790L, 16770L, \n . 275L, 34701L, 34919L, 35090L, 15004L, 18550L, 2838L, 6477L, 18602L, \n . 17486L, 23340L, 16046L, 21669L, 30169L, 33003L, 34973L, 1637L, \n . 11267L, 35864L, 17024L, 34767L, 39797L, 31166L, 5069L, 29070L, \n . 30842L, 30950L, 23810L, 36132L, 26966L, 21319L, 30951L, 926L, \n . 37297L, 7660L, 23130L, 11454L, 5550L, 10630L, 24203L, 26812L, \n . 30158L, 14880L, 12281L, 8932L, 35076L, 10912L, 8825L, 25625L, \n . 34026L, 25883L, 29551L, 21160L, 19183L, 32100L, 27162L, 20381L, \n . 19477L, 22844L, 33672L, 38001L, 7858L, 5580L, 28102L, 29326L, \n . 8257L, 16236L, 2637L, 27239L, 17227L, 29702L, 25500L, 12649L, \n . 38135L, 22387L, 23687L, 33422L, 10423L, 10468L, 29487L, 12747L, \n . 23181L, 30116L, 17956L, 231L, 11561L, 35811L, 34840L, 38619L, \n . 32311L, 10105L, 9607L, 23806L, 12778L, 18759L, 26502L, 20488L, \n . 28945L, 38944L, 4168L, 21860L, 17048L, 305L, 16498L, 11196L, \n . 18196L, 34584L, 29316L, 20556L, 32906L, 6554L, 26150L, 904L, \n . 15687L, 3008L, 27601L, 25467L, 15342L, 4260L, 15683L, 13399L, \n . 25399L, 16684L, 24960L, 11406L, 15815L, 29955L, 2033L, 20269L, \n . 35749L, 8124L, 34313L, 774L, 24870L, 23145L, 28529L, 22404L, \n . 33965L, 38093L, 25764L, 32670L, 19461L, 18973L, 25016L, 37614L, \n . 6640L, 31973L, 22226L, 19368L, 39488L, 15791L, 20262L, 24663L, \n . 35968L, 32821L, 19013L, 23666L, 38985L, 39208L, 36579L, 35369L, \n . 7700L, 34182L, 6792L, 14519L, 36539L, 15647L, 10274L, 22665L, \n . 31473L, 3404L, 15812L, 12047L, 6823L, 38758L, 5937L, 4898L, 34431L, \n . 7063L, 10933L, 15131L, 19071L, 33299L, 112L, 10931L, 15671L, \n . 3230L, 27698L, 27609L, 3871L, 36954L, 4943L, 24283L, 39188L, \n . 35862L, 30321L, 9882L, 649L, 32640L, 7419L, 38222L, 30121L, 27209L, \n . 35754L, 13077L, 9081L, 35415L, 30635L, 37572L, 13194L, 37777L, \n . 1787L, 15496L, 35081L, 34512L, 26387L, 31990L, 5238L, 36390L, \n . 13231L, 13001L, 37311L, 4229L, 7252L, 28658L, 2495L, 10436L, \n . 374L, 34557L, 11627L, 27718L, 17300L, 2251L, 9858L, 23223L, 5438L, \n . 39762L, 33858L, 10353L, 3064L, 4652L, 17880L, 30671L, 24049L, \n . 13856L, 5340L, 570L, 15042L, 25499L, 23531L, 17846L, 3809L, 29764L, \n . 24389L, 1547L, 11322L, 33498L, 2090L, 23308L, 39163L, 10502L, \n . 16339L, 27392L, 1385L, 2967L, 15203L, 22555L, 7378L, 4686L, 37179L, \n . 23621L, 7713L, 26231L, 26533L, 11096L, 36153L, 6114L, 29129L, \n . 37904L, 40094L, 5012L, 20771L, 12177L, 26585L, 36318L, 39664L, \n . 30093L, 7455L, 16941L, 15975L, 37467L, 11966L, 33506L, 2313L, \n . 13781L, 28450L, 38025L, 13910L, 31454L, 1646L, 10913L, 1998L, \n . 9864L, 17317L, 37321L, 14076L, 22696L, 27008L, 16930L, 6133L, \n . 38961L, 38584L, 28923L, 36516L, 13388L, 39938L, 20866L, 24742L, \n . 31802L, 37988L, 36372L, 446L, 24440L, 10043L, 33072L, 4847L, \n . 19335L, 12643L, 31970L, 7476L, 34646L, 6326L, 1054L, 23507L, \n . 14032L, 24480L, 17190L, 7159L, 15133L, 37784L, 31119L, 36677L, \n . 12068L, 7309L, 2436L, 10227L, 8612L, 38091L, 2621L, 17925L, 18947L, \n . 12033L, 34219L, 37461L, 33544L, 31976L, 13549L, 1526L, 30597L, \n . 28289L, 2678L, 28600L, 36932L, 22833L, 15608L, 28281L, 30383L, \n . 16485L, 35675L, 12549L, 6000L, 37909L, 5053L, 14910L, 10683L, \n . 8736L, 40520L, 38323L, 24285L, 1041L, 15709L, 3516L, 33022L, \n . 9487L, 15031L, 19626L, 17596L, 18873L, 33045L, 21500L, 3074L, \n . 30961L, 14057L, 25L, 39636L, 25915L, 8605L, 6975L, 39345L, 988L, \n . 34760L, 14813L, 27904L, 6872L, 22215L, 36909L, 8370L, 7835L, \n . 2245L, 3032L, 25412L, 10041L, 36237L, 25567L, 15323L, 40317L, \n . 26059L, 36659L, 634L, 28052L, 211L, 16543L, 10651L, 22953L, 2439L, \n . 23375L, 19156L, 19283L, 21218L, 22701L, 23079L, 32989L, 30045L, \n . 19713L, 10603L, 34604L, 29290L, 18782L, 16905L, 22704L, 33361L, \n . 21351L, 39239L, 19933L, 7510L, 9692L, 820L, 34365L, 3572L, 16412L, \n . 31795L, 25888L, 17564L, 25581L, 1941L, 9054L, 7976L, 32758L, \n . 7841L, 234L, 2700L, 26397L, 32790L, 5303L, 34282L, 40384L, 29376L, \n . 15810L, 13362L, 29106L, 26488L, 31800L, 16647L, 12764L, 19877L, \n . 26782L, 4983L, 34583L, 24529L, 24224L, 2816L, 31358L, 33504L, \n . 22089L, 24346L, 31858L, 39778L, 5911L, 14399L, 13529L, 34797L, \n . 27389L, 15239L, 4694L, 29281L, 24123L, 8991L, 16701L, 27900L, \n . 39173L, 41069L, 26960L, 5272L, 17870L, 30965L, 19077L, 4836L, \n . 28745L, 18378L, 29742L, 3352L, 23726L, 10131L, 30871L, 6377L, \n . 11278L, 6870L, 11529L, 33591L, 29814L, 23240L, 34726L, 39479L, \n . 32502L, 25177L, 11498L, 4180L, 21089L, 4269L, 41166L, 7894L, \n . 31174L, 21031L, 2542L, 30874L, 3145L, 37877L, 29538L, 18623L, \n . 38039L, 23751L, 32980L, 16265L, 29952L, 7155L, 36696L, 26822L, \n . 10601L, 33063L, 31143L, 35717L, 39478L, 20839L, 24190L, 25968L, \n . 1322L, 23703L, 10077L, 28092L, 14131L, 15615L, 6371L, 13642L, \n . 6921L, 10167L, 29703L, 6336L, 10531L, 8544L, 39202L, 24213L, \n . 27461L, 16337L, 20818L, 5630L, 17952L, 21121L, 29523L, 16393L, \n . 30487L, 9443L, 6551L, 11283L, 3890L, 20947L, 4504L, 357L, 26543L, \n . 36973L, 15287L, 16911L, 22918L, 25277L, 26788L, 5204L, 23860L, \n . 21879L, 21913L, 34217L, 39746L, 13678L, 5624L, 18523L, 20983L, \n . 34325L, 3962L, 39066L, 31457L, 17541L, 32480L, 23671L, 26310L, \n . 31922L, 1327L, 26429L, 19523L, 33630L, 18405L, 34665L, 7300L, \n . 34223L, 8172L, 15172L, 37040L, 36174L, 5685L, 13983L, 17036L, \n . 16009L, 962L, 16205L, 5320L, 204L, 10902L, 20051L, 26428L, 40166L, \n . 99L, 16980L, 22747L, 37263L, 34700L, 38636L, 9414L, 38807L, 1711L, \n . 3252L, 5592L, 27443L, 28096L, 32561L, 30367L, 9258L, 4791L, 36575L, \n . 20347L, 5472L, 28565L, 37896L, 25208L, 16580L, 40872L, 33750L, \n . 26016L, 39544L, 39468L, 30991L, 28743L, 14084L, 963L, 24830L, \n . 3150L, 29634L, 12658L, 31153L, 13414L, 13334L, 15416L, 7095L, \n . 27266L, 24802L, 21665L, 9624L, 675L, 17006L, 16443L, 38429L, \n . 13234L, 39753L, 15325L, 21130L, 29056L, 19280L, 915L, 21696L, \n . 26701L, 7077L, 17009L, 34231L, 30736L, 35995L, 29809L, 30068L, \n . 1215L, 4889L, 11569L, 9347L, 5222L, 40206L, 37874L, 35665L, 17104L, \n . 10852L, 22856L, 32620L, 27721L, 11440L, 12787L, 3525L, 15294L, \n . 40832L, 31684L, 31366L, 8315L, 19359L, 37253L, 6752L, 3762L, \n . 20054L, 7181L, 38715L, 21631L, 3840L, 18579L, 9726L, 36388L, \n . 35167L, 37970L, 23736L, 6059L, 31598L, 41136L, 9517L, 36503L, \n . 40400L, 4308L, 10120L, 9831L, 30970L, 15692L, 37046L, 24965L, \n . 37762L, 9390L, 19926L, 28191L, 14885L, 22736L, 36353L, 28129L, \n . 41063L, 4911L, 30751L, 9056L, 1321L, 34786L, 11378L, 10749L, \n . 9290L, 16246L, 6338L, 1478L, 35792L, 165L, 32491L, 37121L, 22423L, \n . 13703L, 7650L, 21859L, 17728L, 21791L, 14829L, 26535L, 4226L, \n . 11996L, 17382L, 20280L, 29707L, 17446L, 3424L, 16052L, 26452L, \n . 376L, 20658L, 40694L, 35188L, 625L, 10014L, 32577L, 24139L, 36500L, \n . 14905L, 24553L, 21834L, 23763L, 38553L, 18290L, 30987L, 23934L, \n . 36642L, 18055L, 38481L, 10734L, 7892L, 30313L, 4764L, 23472L, \n . 7563L, 21543L, 1861L, 14557L, 23311L, 28063L, 38913L, 39280L, \n . 15830L, 39266L, 16598L, 27496L, 5038L, 20113L, 6436L, 1922L, \n . 2006L, 36418L, 25339L, 2001L, 2717L, 24363L, 16549L, 15887L, \n . 20498L, 11864L, 23809L, 2521L, 7351L, 22328L, 8707L, 16677L, \n . 38701L, 19456L, 36066L, 28211L, 8833L, 36967L, 32933L, 24622L, \n . 15144L, 8710L, 6787L, 1016L, 23027L, 37360L, 24199L, 16061L, \n . 6786L, 3567L, 4264L, 5894L, 27118L, 32579L, 1748L, 27838L, 27888L, \n . 22910L, 30809L, 3613L, 21193L, 21467L, 6036L, 39525L, 19843L, \n . 33727L, 19676L, 26100L, 36509L, 23383L, 10679L, 3566L, 28068L, \n . 19137L, 19635L, 21941L, 32731L, 41178L, 2833L, 9675L, 23106L, \n . 30759L, 38396L, 32672L, 41041L, 4584L, 23610L, 18389L, 23648L, \n . 16590L, 37210L, 14850L, 19504L, 12397L, 29944L, 33094L, 31529L, \n . 23546L, 3611L, 39963L, 40901L, 21663L, 18433L, 20889L, 5960L, \n . 21354L, 10219L, 22038L, 1057L, 15273L, 12941L, 16960L, 7654L, \n . 26047L, 14049L, 23411L, 11786L, 16110L, 39977L, 33871L, 5710L, \n . 21686L, 9843L, 3969L, 39511L, 31204L, 23071L, 19529L, 38047L, \n . 11890L, 6399L, 10614L, 37462L, 2424L, 38225L, 6315L, 7784L, 25773L, \n . 40715L, 27242L, 11785L, 8850L, 36213L, 7493L, 24272L, 3899L, \n . 14688L, 1541L, 19795L, 2749L, 13877L, 12845L, 40432L, 39888L, \n . 1020L, 4552L, 13626L, 38928L, 30792L, 18516L, 15989L, 2281L, \n . 37018L, 23025L, 23119L, 20197L, 32222L, 23755L, 27854L, 30120L, \n . 16991L, 16934L, 20476L, 28381L, 12435L, 30058L, 30390L, 5712L, \n . 21054L, 16074L, 38544L, 25766L, 12705L, 325L, 31496L, 21851L, \n . 28627L, 28836L, 8191L, 2754L, 30161L, 28033L, 18223L, 37664L, \n . 11460L, 22228L, 8045L, 1292L, 22685L, 38583L, 116L, 39780L, 9845L, \n . 32628L, 34761L, 11361L, 16735L, 21539L, 17152L, 5861L, 14836L, \n . 8697L, 26450L, 27579L, 24043L, 35385L, 12991L, 22661L, 32166L, \n . 13257L, 36236L, 34763L, 38374L, 28820L, 10467L, 38276L, 19445L, \n . 12420L, 22191L, 40120L, 33252L, 34226L, 34261L, 33392L, 11493L, \n . 10108L, 21250L, 8472L, 31024L, 25694L, 13184L, 37603L, 10799L, \n . 4602L, 28326L, 20710L, 24051L, 23424L, 34507L, 2323L, 4491L, \n . 28147L, 21525L, 34603L, 7352L, 8895L, 27174L, 27832L, 21655L, \n . 29165L, 12223L, 24257L, 26303L, 14895L, 20599L, 20340L, 12864L, \n . 5993L, 22859L, 20763L, 25125L, 14311L, 16879L, 31953L, 39259L, \n . 8616L, 14954L, 27557L, 3648L, 36974L, 21975L, 9467L, 38951L, \n . 18009L, 4957L, 30055L, 33393L, 13735L, 29226L, 40751L, 16572L, \n . 3678L, 11666L, 3197L, 29647L, 29536L, 7821L, 8003L, 12846L, 10886L, \n . 11885L, 27822L, 39187L, 24384L, 15111L, 4089L, 24988L, 16283L, \n . 8598L, 3980L, 27453L, 23098L, 2329L, 6966L, 23203L, 6962L, 31968L, \n . 30168L, 33316L, 19435L, 11092L, 19601L, 5445L, 6980L, 2705L, \n . 20402L, 19553L, 6372L, 26273L, 18372L, 23800L, 31886L, 31265L, \n . 12365L, 24866L, 21877L, 1577L, 1721L, 9161L, 18995L, 30508L, \n . 34606L, 29255L, 40141L, 30090L, 15079L, 7810L, 22198L, 38893L, \n . 41137L, 19275L, 25465L, 25101L, 37824L, 29017L, 38414L, 15197L, \n . 12159L, 33160L, 23014L, 2530L, 18412L, 1854L, 27873L, 40713L, \n . 6901L, 29367L, 1195L, 6080L, 22774L, 20930L, 29545L, 35888L, \n . 6886L, 4993L, 8824L, 24362L, 34666L, 27059L, 29613L, 32108L, \n . 25939L, 2098L, 40391L, 5406L, 17310L, 22797L, 8032L, 22306L, \n . 25377L, 27669L, 2632L, 17207L, 16898L, 7781L, 3192L, 6335L, 13354L, \n . 9594L, 3326L, 13010L, 27697L, 6255L, 32424L, 6912L, 695L, 18780L, \n . 27183L, 19242L, 23668L, 29537L, 32986L, 17097L, 13639L, 34147L, \n . 20552L, 39740L, 37147L, 18097L, 34686L, 39506L, 27053L, 7412L, \n . 1807L, 5897L, 24588L, 22411L, 18936L, 9324L, 15384L, 35669L, \n . 12055L, 33410L, 12730L, 16145L, 6051L, 24566L, 33521L, 33928L, \n . 18244L, 30588L, 18768L, 4604L, 28933L, 16971L, 20852L, 4600L, \n . 17848L, 29341L, 16481L, 19825L, 36605L, 12201L, 38486L, 30173L, \n . 5206L, 25959L, 30710L, 9519L, 37837L, 25953L, 1675L, 8849L, 7895L, \n . 3114L, 31321L, 32130L, 11056L, 7844L, 5181L, 17813L, 22175L, \n . 4626L, 34362L, 29492L, 2490L, 19089L, 39803L, 16866L, 23514L, \n . 14435L, 778L, 37823L, 28759L, 37499L, 40412L, 6864L, 27770L, \n . 34886L, 20035L, 29268L, 1988L, 27748L, 8497L, 37418L, 13512L, \n . 5126L, 6352L, 6495L, 516L, 39174L, 4640L, 9518L, 37069L, 33529L, \n . 8277L, 2426L, 12136L, 3168L, 20295L, 11129L, 36305L, 18169L, \n . 30376L, 32874L, 30000L, 3120L, 21647L, 28659L, 27072L, 27218L, \n . 4143L, 24086L, 34678L, 460L, 1185L, 15768L, 20395L, 21421L, 18815L, \n . 33297L, 28083L, 20853L, 27780L, 17141L, 24172L, 12361L, 39767L, \n . 40821L, 17008L, 40248L, 7126L, 23089L, 5007L, 22621L, 34809L, \n . 22333L, 6770L, 1477L, 27391L, 37606L, 26835L, 760L, 29984L, 27256L, \n . 39340L, 37681L, 5457L, 13429L, 33519L, 33803L, 18417L, 20096L, \n . 25792L, 32863L, 39261L, 24937L, 22710L, 9698L, 15360L, 33390L, \n . 27419L, 16577L, 31525L, 1136L, 38337L, 6231L, 31192L, 30619L, \n . 22646L, 19794L, 8802L, 12257L, 31837L, 39563L, 32737L, 16125L, \n . 10934L, 28991L, 9628L, 14915L, 40592L, 29795L, 12063L, 18725L, \n . 15584L, 34264L, 15543L, 22334L, 794L, 25622L, 22860L, 3002L, \n . 36588L, 10686L, 5229L, 26621L, 7260L, 24501L, 8556L, 17560L, \n . 29023L, 38174L, 32714L, 27436L, 32648L, 14070L, 38303L, 223L, \n . 14876L, 25710L, 34816L, 6469L, 16889L, 36049L, 40039L, 12654L, \n . 25655L, 10590L, 38170L, 16005L, 24260L, 19024L, 6500L, 28986L, \n . 29727L, 17860L, 34011L, 974L, 41008L, 6471L, 8856L, 34156L, 39050L, \n . 32378L, 36113L, 1008L, 16234L, 32815L, 11182L, 33197L, 16712L, \n . 7605L, 2336L, 17165L, 10828L, 7778L, 21094L, 34529L, 16242L, \n . 25498L, 11365L, 18548L, 13897L, 14468L, 24735L, 18691L, 23280L, \n . 25560L, 2366L, 24329L, 23737L, 1475L, 23847L, 15568L, 36990L, \n . 26530L, 38770L, 20986L, 20635L, 21405L, 10055L, 23890L, 20871L, \n . 38283L, 30604L, 21415L, 39248L, 3707L, 15572L, 37218L, 12802L, \n . 26106L, 19098L, 24664L, 19697L, 39247L, 26790L, 10796L, 24211L, \n . 35437L, 12222L, 34166L, 10084L, 13004L, 30599L, 4507L, 28989L, \n . 11743L, 20911L, 13655L, 14596L, 8166L, 34488L, 19412L, 36570L, \n . 9870L, 26223L, 30082L, 14630L, 34369L, 34995L, 17087L, 18940L, \n . 11214L, 23543L, 12074L, 39905L, 46L, 1379L, 25607L, 39660L, 571L, \n . 1921L, 40782L, 5772L, 22987L, 16756L, 36919L, 12112L, 23313L, \n . 34520L, 36561L, 38319L, 26295L, 26648L, 138L, 12358L, 20924L, \n . 11191L, 16037L, 16640L, 32350L, 6033L, 19967L, 22095L, 26369L, \n . 40230L, 29187L, 24569L, 36097L, 1777L, 21685L, 13510L, 29275L, \n . 14314L, 32539L, 38080L, 489L, 30725L, 9557L, 33049L, 1052L, 21082L, \n . 1691L, 8096L, 41130L, 20650L, 35951L, 27414L, 27981L, 6457L, \n . 36794L, 22733L, 11611L, 31703L, 27237L, 10560L, 10417L, 1340L, \n . 9243L, 37189L, 17510L, 16964L, 23068L, 39890L, 4894L, 33487L, \n . 25802L, 40066L, 28955L, 25878L, 34575L, 36816L, 3597L, 3051L, \n . 26574L, 4745L, 17730L, 10576L, 22536L, 28849L, 4712L, 18140L, \n . 6277L, 15175L, 25922L, 14235L, 4267L, 2659L, 4677L, 4807L, 110L, \n . 19577L, 39379L, 30344L, 4029L, 21049L, 11025L, 32840L, 8650L, \n . 36223L, 9708L, 35311L, 34777L, 457L, 36801L, 4610L, 16813L, 33721L, \n . 29099L, 34348L, 29571L, 12763L, 6251L, 9074L, 25264L, 7691L, \n . 20299L, 31066L, 33852L, 37132L, 16359L, 25761L, 32428L, 16096L, \n . 19566L, 30363L, 14849L, 26203L, 40305L, 27475L, 12016L, 18185L, \n . 13209L, 39520L, 15535L, 12150L, 31555L, 31884L, 32396L, 31178L, \n . 36101L, 2475L, 22347L, 2895L, 10663L, 25464L, 4990L, 8930L, 29778L, \n . 6494L, 1600L, 3898L, 34948L, 21703L, 26544L, 14977L, 37282L, \n . 27281L, 36555L, 18380L, 12183L, 10996L, 33834L, 22818L, 32403L, \n . 12416L, 28911L, 35852L, 17330L, 28691L, 25341L, 28558L, 11547L, \n . 36118L, 39657L, 30750L, 31729L, 3391L, 1743L, 40529L, 14073L, \n . 25578L, 38571L, 16272L, 29138L, 31915L, 19430L, 28630L, 20845L, \n . 840L, 25387L, 25755L, 15187L, 17108L, 15859L, 8070L, 40977L, \n . 26415L, 9898L, 4114L, 29399L, 40073L, 40982L, 24487L, 24672L, \n . 8437L, 33221L, 31952L, 650L, 18631L, 34735L, 27942L, 18268L, \n . 7409L, 31062L, 7847L, 20896L, 5829L, 20003L, 9435L, 28337L, 22167L, \n . 37914L, 28721L, 30180L, 18426L, 31676L, 14361L, 17734L, 32452L, \n . 5851L, 27497L, 19115L, 27123L, 12810L, 38999L, 21423L, 31526L, \n . 13960L, 36584L, 5556L, 12746L, 38907L, 25933L, 22527L, 35045L, \n . 5308L, 6660L, 19439L, 11604L, 37233L, 12897L, 22367L, 40343L, \n . 15885L, 36945L, 33758L, 6979L, 30205L, 9254L, 40395L, 11014L, \n . 17712L, 14404L, 35570L, 9199L, 12161L, 20276L, 21505L, 12345L, \n . 10415L, 39194L, 14462L, 22103L, 11093L, 39110L, 14960L, 23063L, \n . 38044L, 4312L, 10047L, 6928L, 10254L, 19679L, 33453L, 29179L, \n . 40787L, 21364L, 10781L, 14L, 7494L, 16343L, 33120L, 13166L, 1772L, \n . 24032L, 5404L, 12908L, 26045L, 19129L, 3110L, 33280L, 29177L, \n . 39630L, 41100L, 26752L, 40801L, 27108L, 40453L, 34449L, 7668L, \n . 25724L, 24984L, 25044L, 20185L, 31926L, 3019L, 30665L, 23186L, \n . 5557L, 18502L, 4181L, 16692L, 9579L, 776L, 18149L, 17994L, 35016L, \n . 12425L, 39755L, 28539L, 18799L, 24700L, 9167L, 30658L, 24375L, \n . 17306L, 26985L, 1744L, 5708L, 6412L, 40995L, 2998L, 29810L, 18568L, \n . 15547L, 37248L, 6022L, 2658L, 20306L, 8133L, 11669L, 17518L, \n . 15790L, 25048L, 15863L, 18344L, 22428L, 3166L, 1369L, 24369L, \n . 29658L, 27182L, 1893L, 1767L, 15370L, 34908L, 14334L, 33176L, \n . 40080L, 8321L, 18682L, 30418L, 22569L, 18306L, 23018L, 28282L, \n . 28222L, 18758L, 26233L, 14590L, 18478L, 18556L, 8151L, 27104L, \n . 36098L, 834L, 3060L, 23686L, 41060L, 22579L, 14182L, 30137L, \n . 35647L, 34317L, 3342L, 2866L, 14924L, 24880L, 4444L, 10430L, \n . 6830L, 10537L, 13327L, 39851L, 467L, 16901L, 12025L, 11489L, \n . 26776L, 1874L, 36265L, 10203L, 39792L, 19216L, 34253L, 25018L, \n . 11242L, 40469L, 38051L, 15341L, 14167L, 8730L, 37010L, 12510L, \n . 6401L, 15750L, 7819L, 18051L, 25482L, 11032L, 31607L, 34815L, \n . 1059L, 22687L, 15135L, 19980L, 26620L, 24165L, 35534L, 22951L, \n . 6319L, 21221L, 38699L, 30955L, 17709L, 10439L, 4406L, 17501L, \n . 30781L, 19555L, 30957L, 2835L, 17213L, 4305L, 15242L, 1886L, \n . 18894L, 4250L, 13225L, 8957L, 15032L, 32603L, 11483L, 24779L, \n . 27969L, 832L, 9383L, 7287L, 30264L, 38296L, 18675L, 21466L, 36203L, \n . 17052L, 10277L, 28005L, 18792L, 32681L, 4839L, 31778L, 3813L, \n . 9924L, 35591L, 14464L, 32616L, 28496L, 1670L, 30896L, 23881L, \n . 356L, 9815L, 30766L, 15525L, 35467L, 20489L, 3894L, 12390L, 3458L, \n . 17412L, 8746L, 35202L, 39235L, 3810L, 27537L, 31030L, 21123L, \n . 15736L, 39190L, 31002L, 35070L, 32517L, 23899L, 3868L, 26341L, \n . 10473L, 452L, 12318L, 28149L, 26902L, 1785L, 632L, 10037L, 34936L, \n . 26977L, 6942L, 4016L, 30330L, 1920L, 26899L, 12187L, 23747L, \n . 24906L, 10990L, 36622L, 13223L, 24379L, 17044L, 30244L, 28854L, \n . 37292L, 11362L, 2939L, 33107L, 953L, 22432L, 13924L, 13716L, \n . 7689L, 19053L, 29058L, 28475L, 36361L, 24703L, 16629L, 21118L, \n . 32983L, 23326L, 12057L, 4642L, 6413L, 28861L, 39709L, 36497L, \n . 17673L, 28079L, 29766L, 12380L, 31340L, 29191L, 20615L, 27197L, \n . 12349L, 3228L, 29845L, 94L, 11950L, 25190L, 25171L, 19647L, 14381L, \n . 33585L, 17855L, 17835L, 23302L, 12401L, 19987L, 2974L, 19289L, \n . 1549L, 38301L, 5278L, 40478L, 38493L, 20275L, 40674L, 10802L, \n . 4202L, 913L, 27144L, 15714L, 34479L, 23693L, 20321L, 16470L, \n . 9712L, 3209L, 36419L, 11216L, 19144L, 27068L, 9721L, 10980L, \n . 4967L, 18006L, 6711L, 9626L, 17153L, 32059L, 3095L, 38797L, 25918L, \n . 26215L, 40941L, 37934L, 36935L, 24745L, 10319L, 24450L, 40368L, \n . 9119L, 40914L, 32572L, 10951L, 17499L, 40605L, 38236L, 13259L, \n . 9346L, 14533L, 13216L, 12022L, 35330L, 39712L, 13974L, 37305L, \n . 41120L, 10156L, 10170L, 28131L, 25448L, 36667L, 5475L, 38642L, \n . 18574L, 18841L, 38890L, 16926L, 8396L, 6826L, 40828L, 26019L, \n . 9031L, 6400L, 11672L, 26807L, 4536L, 28545L, 39646L, 37619L, \n . 17543L, 23437L, 30438L, 18787L, 3245L, 10228L, 35022L, 34960L, \n . 24713L, 32993L, 16179L, 36041L, 26164L, 29582L, 32761L, 4862L, \n . 8117L, 40340L, 13126L, 30089L, 38215L, 34573L, 32936L, 27607L, \n . 27233L, 40106L, 34530L, 19382L, 3131L, 30972L, 19785L, 22260L, \n . 38711L, 35806L, 10552L, 19546L, 11426L, 14771L, 7788L, 17571L, \n . 5938L, 25608L, 39275L, 9055L, 8429L, 29796L, 2372L, 17830L, 38344L, \n . 34332L, 4437L, 4770L, 4223L, 17644L, 15149L, 25975L, 732L, 18177L, \n . 5025L, 32198L, 11247L, 6229L, 23120L, 19602L, 26626L, 26661L, \n . 21981L, 27564L, 7589L, 33353L, 30134L, 38448L, 36181L, 14773L, \n . 21759L, 27926L, 31186L, 12108L, 9264L, 1017L, 30822L, 11828L, \n . 37045L, 13550L, 21362L, 24736L, 5782L, 4022L, 15278L, 9289L, \n . 20291L, 30319L, 15077L, 29670L, 5781L, 17192L, 13709L, 4527L, \n . 8365L, 37778L, 13114L, 40680L, 33397L, 9334L, 15140L, 8672L, \n . 15684L, 15819L, 32443L, 9732L, 17724L, 17534L, 31482L, 38719L, \n . 19284L, 3142L, 5699L, 16645L, 2566L, 26703L, 23961L, 13476L, \n . 19228L, 21762L, 3463L, 15075L, 10186L, 15862L, 23762L, 38726L, \n . 37514L, 29605L, 32253L, 16142L, 18541L, 22222L, 28765L, 16141L, \n . 34956L, 14676L, 24386L, 8015L, 392L, 1733L, 27821L, 29799L, 27299L, \n . 39568L, 8470L, 10774L, 16241L, 6165L, 14845L, 17718L, 24169L, \n . 13237L, 13494L, 39538L, 20706L, 15733L, 38226L, 22970L, 25347L, \n . 26357L, 25202L, 3799L, 16524L, 29699L, 14721L, 27337L, 20592L, \n . 31610L, 24455L, 4860L, 13564L, 40567L, 20906L, 14489L, 11017L, \n . 6829L, 5891L, 33216L, 14749L, 7978L, 4794L, 26979L, 31177L, 11015L, \n . 14947L, 39306L, 10382L, 16392L, 4684L, 17675L, 8405L, 33840L, \n . 23092L, 6478L, 39147L, 13592L, 32201L, 9014L, 5816L, 2744L, 22877L, \n . 696L, 6956L, 31095L, 28492L, 16844L, 39228L, 27065L, 10703L, \n . 28458L, 12311L, 18732L, 6682L, 19112L, 12584L, 5380L, 5000L, \n . 40653L, 26708L, 23062L, 151L, 19457L, 29140L, 29131L, 11921L, \n . 34677L, 34289L, 4876L, 14212L, 23967L, 15266L, 27990L, 20596L, \n . 30132L, 40550L, 288L, 39410L, 19002L, 16953L, 20272L, 34641L, \n . 18121L, 37160L, 38472L, 12531L, 21220L, 10680L, 40433L, 25456L, \n . 27637L, 209L, 28740L, 38995L, 38295L, 2947L, 6206L, 40024L, 13272L, \n . 32907L, 18996L, 10515L, 37704L, 2169L, 40650L, 9900L, 7954L, \n . 35932L, 2671L, 37659L, 40847L, 2088L, 29256L, 21273L, 24764L, \n . 5770L, 25205L, 35065L, 15392L, 31588L, 33440L, 38316L, 36189L, \n . 30030L, 9300L, 31380L, 24246L, 25209L, 37371L, 24335L, 14627L, \n . 19687L, 26362L, 34141L, 24382L, 17623L, 22922L, 38010L, 13163L, \n . 775L, 19224L, 39954L, 9375L, 18307L, 32755L, 35579L, 11803L, \n . 13824L, 3660L, 23679L, 38412L, 37642L, 2573L, 3148L, 3749L, 5914L, \n . 4078L, 4997L, 37546L, 29215L, 639L, 15447L, 21059L, 8533L, 32456L, \n . 14674L, 32185L, 13959L, 9560L, 21323L, 34153L, 33223L, 14436L, \n . 18629L, 22189L, 30419L, 16663L, 28416L, 28291L, 22033L, 4336L, \n . 10329L, 24116L, 3688L, 13542L, 21023L, 5277L, 15316L, 633L, 8520L, \n . 38410L, 31552L, 18572L, 3054L, 14279L, 5006L, 19290L, 27375L, \n . 8214L, 39327L, 37751L, 11511L, 18459L, 18088L, 29838L, 15880L, \n . 32002L, 34275L, 880L, 28072L, 40491L, 5310L, 6154L)), class = \"data.frame\", row.names = c(NA, \n . -10000L)), subscribe = c(0.0471677258610725, 0.0376315042376518, \n . 0.0738262087106705, 0.0184125285595655, 0.0179929789155722, 0.179425120353699, \n . 0.0464124567806721, 0.0315046980977058, 0.0255300719290972, 0.0133486771956086, \n . 0.0624433755874634, 0.120908200740814, 0.0683788657188416, 0.0207974389195442, \n . 0.0407325178384781, 0.0696850121021271, 0.032183613628149, 0.000873196288011968, \n . 0.0740502625703812, 0.00492017762735486, 0.971468687057495, 0.015351127833128, \n . 0.00876356195658445, 0.00718447985127568, 0.0154882557690144, \n . 0.471686571836472, 0.182748571038246, 0.00737088918685913, 0.0360899567604065, \n . 0.258954524993896, 0.0144105488434434, 0.0254622604697943, 0.0103377299383283, \n . 0.0816684737801552, 0.0213008318096399, 0.0216099247336388, 0.141149342060089, \n . 0.0322007872164249, 0.0198124069720507, 0.0211485084146261, 0.0423467457294464, \n . 0.514634191989899, 0.014381917193532, 0.0745140239596367, 0.00273491372354329, \n . 0.0181332845240831, 0.207593098282814, 0.0496372729539871, 0.092459961771965, \n . 0.0758509710431099, 0.407971262931824, 0.0780237764120102, 0.0942614302039146, \n . 0.0916155949234962, 0.0467222929000854, 0.0237528681755066, 0.147814199328423, \n . 0.0185804329812527, 0.187400192022324, 0.0424910746514797, 0.529075086116791, \n . 0.0440645441412926, 0.0189059861004353, 0.0287864077836275, 0.00746102491393685, \n . 0.438004612922668, 0.15308353304863, 0.704780638217926, 0.0782260894775391, \n . 0.0924139618873596, 0.0872800052165985, 0.980926871299744, 0.0107317855581641, \n . 0.030712403357029, 0.0374376215040684, 0.0541249588131905, 0.0327169485390186, \n . 0.0905011594295502, 0.0674057006835938, 0.0902018770575523, 0.0516776256263256, \n . 0.0282491892576218, 0.0649625584483147, 0.0555429719388485, 0.218057855963707, \n . 0.111550658941269, 0.0127898929640651, 0.2465740442276, 0.0291083045303822, \n . 0.0298007372766733, 0.0353063382208347, 0.0939053446054459, 0.0390580892562866, \n . 0.157218128442764, 0.371733486652374, 0.0116166891530156, 0.0539710260927677, \n . 0.0207013320177794, 0.0279110074043274, 0.188030511140823, 0.107543312013149, \n . 0.0683262720704079, 0.326773762702942, 0.0911092013120651, 0.504769504070282, \n . 0.0652531683444977, 0.0624657608568668, 0.0330729894340038, 0.0144997024908662, \n . 0.0526488982141018, 0.0536222979426384, 0.0217522904276848, 0.0932496637105942, \n . 0.077058345079422, 0.0244369991123676, 0.0619489103555679, 0.0201443638652563, \n . 0.0375432781875134, 0.0554530322551727, 0.039995338767767, 0.028284939005971, \n . 0.0348134338855743, 0.0707293525338173, 0.0243992134928703, 0.0168109908699989, \n . 0.0581311918795109, 0.9429572224617, 0.0675820931792259, 0.0189230069518089, \n . 0.0566581971943378, 0.0276465732604265, 0.0406867079436779, 0.056663740426302, \n . 0.00875059794634581, 0.0392899252474308, 0.159518659114838, 0.17197260260582, \n . 0.011192006058991, 0.190834820270538, 0.00160169694572687, 0.0289231203496456, \n . 0.0177956037223339, 0.0380036942660809, 0.0479086823761463, 0.03538453951478, \n . 0.0159941539168358, 0.0814966782927513, 0.0159975383430719, 0.0265381168574095, \n . 0.0701391398906708, 0.0392654947936535, 0.0403918325901031, 0.0157788433134556, \n . 0.0166719257831573, 0.309774070978165, 0.0550280101597309, 0.000963666301686317, \n . 0.0300328526645899, 0.0340359732508659, 0.0176101960241795, 0.114693507552147, \n . 0.0275624860078096, 0.123016007244587, 0.10293822735548, 0.098379485309124, \n . 0.314871340990067, 0.0490013249218464, 0.0316792614758015, 0.0274626910686493, \n . 0.0309767983853817, 0.00993536785244942, 0.042016863822937, 0.0855551585555077, \n . 0.0153347393497825, 0.033664308488369, 0.0595679059624672, 0.0205030329525471, \n . 0.414215624332428, 0.0145968934521079, 0.0768782421946526, 0.0156789273023605, \n . 0.02620186842978, 0.0344612039625645, 0.0182498786598444, 0.00585369439795613, \n . 0.0258951727300882, 0.170770570635796, 0.0595737807452679, 0.14080385863781, \n . 0.0425715334713459, 0.0398718938231468, 0.955263555049896, 0.0347024276852608, \n . 0.552317917346954, 0.0139611251652241, 0.102664932608604, 0.0820855721831322, \n . 0.0462132319808006, 0.0147041454911232, 0.0546502508223057, 0.126903802156448, \n . 0.396610081195831, 0.0976202413439751, 0.0128605514764786, 0.0414786301553249, \n . 0.00754428468644619, 0.0355891510844231, 0.0194493848830462, \n . 0.00693591823801398, 0.140981763601303, 0.0203674547374249, 0.0211568530648947, \n . 0.0108916629105806, 0.022326996549964, 0.0139649789780378, 0.0269916523247957, \n . 0.0676983073353767, 0.183797627687454, 0.0859855562448502, 0.0434947125613689, \n . 0.0173813086003065, 0.428086578845978, 0.0510060079395771, 0.0217773821204901, \n . 0.0376512780785561, 0.149076208472252, 0.0186932347714901, 0.0630267933011055, \n . 0.0525772161781788, 0.0520651526749134, 0.0141875967383385, 0.102229364216328, \n . 0.126258909702301, 0.297692209482193, 0.0197718292474747, 0.077900193631649, \n . 0.102663658559322, 0.0483220592141151, 0.0923861637711525, 0.580560505390167, \n . 0.0734790563583374, 0.0892164930701256, 0.0973138213157654, 0.0284773744642735, \n . 0.610120236873627, 0.00955102872103453, 0.092330627143383, 0.0725277289748192, \n . 0.00168897223193198, 0.0096963532269001, 0.689363241195679, 0.0355360358953476, \n . 0.0789556801319122, 0.0989960357546806, 0.023702509701252, 0.00858139526098967, \n . 0.020956926047802, 0.00742228236049414, 0.361487179994583, 0.0102594662457705, \n . 0.0259776059538126, 0.112165257334709, 0.0795053094625473, 0.0167093481868505, \n . 0.0136996870860457, 0.0178833603858948, 0.0349967367947102, 0.0120111862197518, \n . 0.0531137064099312, 0.150971978902817, 0.123746283352375, 0.350617051124573, \n . 0.0164389759302139, 0.0867732465267181, 0.144419476389885, 0.652607202529907, \n . 0.109896682202816, 0.0534081719815731, 0.0277689304202795, 0.0862894505262375, \n . 0.0651160404086113, 0.0116145154461265, 0.0672042071819305, 0.470360785722733, \n . 0.00637886626645923, 0.0937583968043327, 0.0595114193856716, \n . 0.0212651751935482, 0.108502224087715, 0.0428695268929005, 0.339658915996552, \n . 0.0211608409881592, 0.0179654862731695, 0.0240635555237532, 0.0355823412537575, \n . 0.214577749371529, 0.107114478945732, 0.0693698078393936, 0.0385020114481449, \n . 0.0453802347183228, 0.0239077731966972, 0.0193306542932987, 0.327567040920258, \n . 0.155199006199837, 0.0358105413615704, 0.110375411808491, 0.0617799125611782, \n . 0.010342774912715, 0.0116159003227949, 0.0183111112564802, 0.00453122286126018, \n . 0.0576004646718502, 0.0857625976204872, 0.0433511063456535, 0.272025942802429, \n . 0.0155864935368299, 0.0817073583602905, 0.052927166223526, 0.0773968324065208, \n . 0.0763360932469368, 0.0346645191311836, 0.100544184446335, 0.0650317594408989, \n . 0.0169270802289248, 0.0576475188136101, 0.0565161444246769, 0.209943741559982, \n . 0.0633921325206757, 0.0873528942465782, 0.863414645195007, 0.656350791454315, \n . 0.0129544269293547, 0.0261066183447838, 0.2898228764534, 0.187249168753624, \n . 0.000422245968366042, 0.0892883688211441, 0.12108838558197, 0.0192862041294575, \n . 0.0093289390206337, 0.0272746924310923, 0.448287576436996, 0.216532960534096, \n . 0.0299867279827595, 0.092447891831398, 0.0369144640862942, 0.0128877107053995, \n . 0.0904960483312607, 0.0330361165106297, 0.0473394468426704, 0.00852358900010586, \n . 0.0279648695141077, 0.249234795570374, 0.0168386846780777, 0.101485624909401, \n . 0.0937298610806465, 0.947227597236633, 0.0484684407711029, 0.176751807332039, \n . 0.0851940214633942, 0.0328215360641479, 0.0711686313152313, 0.0418248623609543, \n . 0.0411629192531109, 0.0436906516551971, 0.018893625587225, 0.060268085449934, \n . 0.499551475048065, 0.0220923405140638, 0.0822282433509827, 0.0283273328095675, \n . 0.0138272922486067, 0.0189293511211872, 0.648158550262451, 0.0403975620865822, \n . 0.712721765041351, 0.0183246713131666, 0.0730713084340096, 0.0894601196050644, \n . 0.0822617560625076, 0.014491718262434, 0.0793372392654419, 0.732315957546234, \n . 0.0398199670016766, 0.00287556857801974, 0.167595311999321, 0.0852408036589622, \n . 0.00628166645765305, 0.0150598837062716, 0.538752198219299, 0.0259184632450342, \n . 0.0217636320739985, 0.0611635111272335, 0.077051967382431, 0.0433425903320312, \n . 0.268173575401306, 0.0019420322496444, 0.0331659242510796, 0.0690006986260414, \n . 0.928481161594391, 0.00883589684963226, 0.9693284034729, 0.08597731590271, \n . 0.140707015991211, 0.0396526642143726, 0.0236471090465784, 0.0360269099473953, \n . 0.0609839595854282, 0.304053485393524, 0.0602637715637684, 0.00655569462105632, \n . 0.1531932502985, 0.0315607376396656, 0.0166832413524389, 0.404278844594955, \n . 0.0630724802613258, 0.058991976082325, 0.727745831012726, 0.164770185947418, \n . 0.528700172901154, 0.0583787560462952, 0.0280701294541359, 0.134506270289421, \n . 0.0399563238024712, 0.0460634045302868, 0.043045412749052, 0.0149264931678772, \n . 0.0138927474617958, 0.045891135931015, 0.0278841089457273, 0.13680973649025, \n . 0.114498235285282, 0.0216820351779461, 0.0880611464381218, 0.0213447380810976, \n . 0.00119181687477976, 0.0608406253159046, 0.0148837920278311, \n . 0.102235801517963, 0.171394929289818, 0.079344354569912, 0.0585389956831932, \n . 0.0203826539218426, 0.0425892509520054, 0.101575396955013, 0.246388331055641, \n . 0.0985850095748901, 0.00369431311264634, 0.176911309361458, 0.10785885900259, \n . 0.0791881009936333, 0.0181642733514309, 0.0981835201382637, 0.00753971887752414, \n . 0.0367530360817909, 0.0670485943555832, 0.0412392728030682, 0.0355105511844158, \n . 0.0450558587908745, 0.679420948028564, 0.018188901245594, 0.0219320133328438, \n . 0.0749068707227707, 0.0682322829961777, 0.0293882358819246, 0.0481322817504406, \n . 0.0227837357670069, 0.210232079029083, 0.0249123983085155, 0.0706300064921379, \n . 0.104694165289402, 0.174866810441017, 0.0286380555480719, 0.0196999330073595, \n . 0.571036100387573, 0.144956558942795, 0.0201193802058697, 0.0917936488986015, \n . 0.46980157494545, 0.0287468265742064, 0.538238704204559, 0.383520364761353, \n . 0.383470803499222, 0.0310605615377426, 0.0911520570516586, 0.52442991733551, \n . 0.469976365566254, 0.784288346767426, 0.0425386689603329, 0.286377876996994, \n . 0.139444962143898, 0.0412937365472317, 0.0400739200413227, 0.106258608400822, \n . 0.0369227901101112, 0.00723943673074245, 0.00898617599159479, \n . 0.0206825360655785, 0.0446428842842579, 0.0449810549616814, 0.0714343339204788, \n . 0.219126433134079, 0.0761021450161934, 0.0617196299135685, 0.0403407216072083, \n . 0.019988015294075, 0.992325663566589, 0.623139917850494, 0.0136556988582015, \n . 0.0440554954111576, 0.0364168100059032, 0.0399520173668861, 0.34269192814827, \n . 0.0318821482360363, 0.0133931394666433, 0.0235787462443113, 0.0857487097382545, \n . 0.00138570624403656, 0.142156988382339, 0.129839926958084, 0.00525804329663515, \n . 0.0192493088543415, 0.0411540195345879, 0.736133217811584, 0.0281074773520231, \n . 0.089534118771553, 0.102542087435722, 0.708577156066895, 0.0115232113748789, \n . 0.013712365180254, 0.0362134650349617, 0.000279646774288267, \n . 0.0452766045928001, 0.203012734651566, 0.0239930246025324, 0.0522294491529465, \n . 0.0311751961708069, 0.102915592491627, 0.0578617602586746, 0.80864292383194, \n . 0.0458230450749397, 0.0571559593081474, 0.0460602641105652, 0.0102346567437053, \n . 0.0435576811432838, 0.0313609279692173, 0.0830055996775627, 0.0756462886929512, \n . 0.0469173565506935, 0.0513370744884014, 0.300140917301178, 0.0108280871063471, \n . 0.0222183614969254, 0.00513182673603296, 0.0490414015948772, \n . 0.0444751530885696, 0.0109183667227626, 0.0141311138868332, 0.0909498631954193, \n . 0.062096580862999, 0.155097469687462, 0.0255773458629847, 0.0310717467218637, \n . 0.00511819962412119, 0.0565233193337917, 0.122923865914345, 0.0160134881734848, \n . 0.854277610778809, 0.102164335548878, 0.0129269938915968, 0.178875982761383, \n . 0.0048496425151825, 0.0114424945786595, 0.0663985833525658, 0.0310289580374956, \n . 0.239802002906799, 0.282931953668594, 0.000953862036112696, 0.0242461618036032, \n . 0.0209891181439161, 0.0911192744970322, 0.0506622418761253, 0.0834695845842361, \n . 0.0041401325725019, 0.0329439491033554, 0.0405184328556061, 0.0460595525801182, \n . 0.0252165850251913, 0.158397540450096, 0.069668710231781, 0.0567514076828957, \n . 0.0111383134499192, 0.02730499394238, 0.368737161159515, 0.0624214969575405, \n . 0.71964031457901, 0.0111110368743539, 0.00334254140034318, 0.187255471944809, \n . 0.045290045440197, 0.0617381632328033, 0.0812427029013634, 0.05865228921175, \n . 0.00488527351990342, 0.0455554164946079, 0.0583866313099861, \n . 0.0402108989655972, 0.0862731486558914, 0.012288898229599, 0.0105477022007108, \n . 0.00842041149735451, 0.288170278072357, 0.0377495214343071, 0.0988728776574135, \n . 0.0193516686558723, 0.0704555660486221, 0.00272876909002662, \n . 0.020501434803009, 0.461355328559875, 0.115438461303711, 0.12532950937748, \n . 0.0661338195204735, 0.0804896801710129, 0.0762462019920349, 0.0199544951319695, \n . 0.0274613536894321, 0.0254265405237675, 0.0718664526939392, 0.0640318468213081, \n . 0.0351254232227802, 0.0107707185670733, 0.0425425134599209, 0.0301056280732155, \n . 0.0309285912662745, 0.15522600710392, 0.349012017250061, 0.0408657193183899, \n . 0.0245513636618853, 0.434980422258377, 0.0367616303265095, 0.0834112539887428, \n . 0.0273359082639217, 0.0920993983745575, 0.033138707280159, 0.0112187983468175, \n . 0.197275727987289, 0.852440416812897, 0.0121944323182106, 0.135980993509293, \n . 0.0198647193610668, 0.0342664271593094, 0.0139435958117247, 0.0460937060415745, \n . 0.0487718768417835, 0.044415544718504, 0.25265246629715, 0.461479187011719, \n . 0.159808441996574, 0.0248606465756893, 0.016795739531517, 0.076814241707325, \n . 0.111407488584518, 0.0379865318536758, 0.000930364010855556, \n . 0.048952903598547, 0.0376999191939831, 0.0194997601211071, 0.0531926937401295, \n . 0.032621156424284, 0.0504573807120323, 0.0308440625667572, 0.0111462371423841, \n . 0.487088799476624, 0.0517740435898304, 0.028494581580162, 0.0964554101228714, \n . 0.089348740875721, 0.0210426952689886, 0.0725247710943222, 0.149237424135208, \n . 0.0615339837968349, 0.0850515589118004, 0.00933955702930689, \n . 0.0354066081345081, 0.0213260762393475, 0.0338709428906441, 0.0663809478282928, \n . 0.0482434593141079, 0.0656268075108528, 0.0573944859206676, 0.00995947793126106, \n . 0.0200650691986084, 0.0550609454512596, 0.215347483754158, 0.0385100580751896, \n . 0.00493721477687359, 0.0347492732107639, 0.0651058778166771, \n . 0.0775178670883179, 0.0435447879135609, 0.287414789199829, 0.0334539152681828, \n . 0.113602787256241, 0.0409070625901222, 0.0600884705781937, 0.0114758051931858, \n . 0.0492822788655758, 0.00808052252978086, 0.0154289258643985, \n . 0.107483938336372, 0.332989066839218, 0.0299280993640423, 0.826354444026947, \n . 0.0453361198306084, 0.0536985732614994, 0.574727594852448, 0.043207198381424, \n . 0.0239632949233055, 0.442758321762085, 0.250395655632019, 0.0148273855447769, \n . 0.0548589751124382, 0.0917659625411034, 0.0127642340958118, 0.0226700026541948, \n . 0.0144629403948784, 0.0440781600773335, 0.0226778425276279, 0.0317298099398613, \n . 0.0105741498991847, 0.00828446913510561, 0.122906610369682, 0.0275454018265009, \n . 0.0205365717411041, 0.0464069582521915, 0.926772594451904, 0.0179774016141891, \n . 0.00576538825407624, 0.0570509359240532, 0.163681536912918, 0.0378802679479122, \n . 0.00706707686185837, 0.0250337943434715, 0.0125285629183054, \n . 0.858660578727722, 0.00996942631900311, 0.178265392780304, 0.0524140261113644, \n . 0.01213772688061, 0.125476494431496, 0.00707062473520637, 0.0160949062556028, \n . 0.314259737730026, 0.0103620132431388, 0.0342554897069931, 0.0282963439822197, \n . 0.0592637471854687, 0.0749361887574196, 0.0369939096271992, 0.0382062308490276, \n . 0.0910288169980049, 0.00916117429733276, 0.00299632805399597, \n . 0.120675586163998, 0.010727240704, 0.0208487696945667, 0.0845552384853363, \n . 0.0555529668927193, 0.0153365982696414, 0.198831722140312, 0.316208988428116, \n . 0.0203838627785444, 0.11461515724659, 0.197250381112099, 0.0499987788498402, \n . 0.0108935022726655, 0.0457733795046806, 0.124845877289772, 0.131401136517525, \n . 0.026219354942441, 0.0219512619078159, 0.0918635576963425, 0.0295846443623304, \n . 0.0667031034827232, 0.0431980416178703, 0.101583898067474, 0.0433996468782425, \n . 0.0472808890044689, 0.00462859775871038, 0.00821125786751509, \n . 0.44388073682785, 0.0610151216387749, 0.0689453706145287, 0.0551164709031582, \n . 0.0298294145613909, 0.00854901410639286, 0.0447557680308819, \n . 0.0172412917017937, 0.0122438240796328, 0.320588618516922, 0.0172954741865396, \n . 0.52831244468689, 0.0933444127440453, 0.071594700217247, 0.0322697125375271, \n . 0.0133962081745267, 0.0137778278440237, 0.0137620260939002, 0.0327199697494507, \n . 0.084449015557766, 0.0209941510111094, 0.0100536681711674, 0.0411728471517563, \n . 0.0700949132442474, 0.106624394655228, 0.0152732366696, 0.0466456823050976, \n . 0.00962722674012184, 0.304364770650864, 0.181800693273544, 0.0226005166769028, \n . 0.0453619956970215, 0.100507251918316, 0.0623762682080269, 0.0401061251759529, \n . 0.129519999027252, 0.125881776213646, 0.0607016943395138, 0.0798658430576324, \n . 0.119699038565159, 0.0498507246375084, 0.0200313497334719, 0.0734153911471367, \n . 0.0263189449906349, 0.0478603579103947, 0.0419798493385315, 0.0431782193481922, \n . 0.0175614599138498, 0.0488230101764202, 0.704581260681152, 0.0349029898643494, \n . 0.270595401525497, 0.0851872563362122, 0.0685905888676643, 0.038346204906702, \n . 0.0663834288716316, 0.0158022083342075, 0.0894050374627113, 0.0528384298086166, \n . 0.00249547767452896, 0.0451860390603542, 0.0239688064903021, \n . 0.0293554272502661, 0.0312323439866304, 0.0271332785487175, 0.0180212240666151, \n . 0.0219118688255548, 0.991881549358368, 0.498075246810913, 0.0947148203849792, \n . 0.0493179932236671, 0.0294966083019972, 0.998172879219055, 0.0309792570769787, \n . 0.0344419069588184, 0.0145243750885129, 0.0207941997796297, 0.0970691591501236, \n . 0.0181422866880894, 0.438093900680542, 0.0627856329083443, 0.0105376038700342, \n . 0.00372197921387851, 0.0567227266728878, 0.0242843888700008, \n . 0.668844521045685, 0.0539616942405701, 0.00195174803957343, 0.0020778349135071, \n . 0.0534348785877228, 0.0454871281981468, 0.166306257247925, 0.0620615743100643, \n . 0.145899027585983, 0.0775988847017288, 0.120498716831207, 0.103590376675129, \n . 0.0308766290545464, 0.0406012944877148, 0.106792032718658, 0.0264821741729975, \n . 0.214806020259857, 0.0185930449515581, 0.0241727903485298, 0.0144581431522965, \n . 0.0451430529356003, 0.541633248329163, 0.0245339386165142, 0.664008736610413, \n . 0.00981505308300257, 0.156421720981598, 0.103347912430763, 0.442380011081696, \n . 0.0164489708840847, 0.027206176891923, 0.129482984542847, 0.00339149148203433, \n . 0.0299688708037138, 0.017715111374855, 0.129240497946739, 0.0625458508729935, \n . 0.289064228534698, 0.0423259437084198, 0.0660057887434959, 0.0818803682923317, \n . 0.109896682202816, 0.143436223268509, 0.50769579410553, 0.021483413875103, \n . 0.0969365909695625, 0.160361289978027, 0.0724911168217659, 0.152332082390785, \n . 0.0326554626226425, 0.0238912664353848, 0.0558252185583115, 0.0619397461414337, \n . 0.0305282566696405, 0.0325258076190948, 0.441594839096069, 0.0755238309502602, \n . 0.201994061470032, 0.0156360883265734, 0.139878645539284, 0.0640655905008316, \n . 0.166257441043854, 0.110954396426678, 0.0362215451896191, 0.0204759854823351, \n . 0.134084805846214, 0.216082364320755, 0.659385204315186, 0.022694943472743, \n . 0.253729641437531, 0.0266302265226841, 0.0689313933253288, 0.0231546852737665, \n . 0.0336572676897049, 0.484808534383774, 0.0156513974070549, 0.0280824415385723, \n . 0.0193874537944794, 0.0358645915985107, 0.0398760735988617, 0.0411094538867474, \n . 0.0289174411445856, 0.0964384973049164, 0.0145287364721298, 0.0897549167275429, \n . 0.0282447785139084, 0.361618459224701, 0.00961075071245432, 0.100581906735897, \n . 0.06307552754879, 0.0541349314153194, 0.329554885625839, 0.248684868216515, \n . 0.0400719679892063, 0.0579944960772991, 0.0016844590427354, 0.0967973619699478, \n . 0.037519920617342, 0.124283365905285, 0.103285938501358, 0.870045602321625, \n . 0.0161079671233892, 0.312657862901688, 0.0503395237028599, 0.0376606099307537, \n . 0.0217424910515547, 0.023791516199708, 0.440553396940231, 0.126903146505356, \n . 0.145944833755493, 0.0367449596524239, 0.0215870551764965, 0.0848975107073784, \n . 0.0583752393722534, 0.0439510568976402, 0.0310973562300205, 0.0047829239629209, \n . 0.0210705995559692, 0.126076072454453, 0.0259490888565779, 0.02782310731709, \n . 0.0109032578766346, 0.0187626909464598, 0.0672447755932808, 0.0356911271810532, \n . 0.0358566120266914, 0.0593587979674339, 0.0523184202611446, 0.0521630719304085, \n . 0.0311613511294127, 0.0387366414070129, 0.0459916107356548, 0.0510595105588436, \n . 0.0168248191475868, 0.148495629429817, 0.988092720508575, 0.0288319494575262, \n . 0.0328972525894642, 0.00389513140544295, 0.0119341686367989, \n . 0.0364554598927498, 0.0358286984264851, 0.0139551591128111, 0.140014708042145, \n . 0.00398184638470411, 0.085809513926506, 0.0537525489926338, 0.112089887261391, \n . 0.643174469470978, 0.150140970945358, 0.120821475982666, 0.0255135968327522, \n . 0.0192487835884094, 0.379045248031616, 0.0328215360641479, 0.0978510603308678, \n . 0.269900441169739, 0.0585079193115234, 0.0439895130693913, 0.055662963539362, \n . 0.193624034523964, 0.0825588703155518, 0.0125201772898436, 0.0830320566892624, \n . 0.0488900318741798, 0.103060126304626, 0.279873073101044, 0.0753893479704857, \n . 0.0479291975498199, 0.271647959947586, 0.0365897752344608, 0.0735890045762062, \n . 0.0983542203903198, 0.0516418553888798, 0.0143810724839568, 0.0496006533503532, \n . 0.0247445553541183, 0.00130600715056062, 0.0495281666517258, \n . 0.164696902036667, 0.0773657187819481, 0.0872307121753693, 0.0283069387078285, \n . 0.0139975240454078, 0.0425675101578236, 0.0890960991382599, 0.0548423118889332, \n . 0.0410186164081097, 0.041398499161005, 0.0441949814558029, 0.0453338995575905, \n . 0.0438803322613239, 0.0269689168781042, 0.0391383022069931, 0.468484669923782, \n . 0.0315429046750069, 0.0118780778720975, 0.0602028146386147, 0.0243666749447584, \n . 0.0556108355522156, 0.0230138208717108, 0.12418644875288, 0.00747805694118142, \n . 0.110426388680935, 0.0742243379354477, 0.0994609668850899, 0.0494335368275642, \n . 0.00765150552615523, 0.0166633911430836, 0.0108538269996643, \n . 0.0283728986978531, 0.0157735124230385, 0.0135749392211437, 0.106204390525818, \n . 0.0319184958934784, 0.0117034893482924, 0.070634625852108, 0.0414580665528774, \n . 0.0104104159399867, 0.0361592061817646, 0.101370550692081, 0.0457280501723289, \n . 0.0966626927256584, 0.0274718813598156, 0.0243296008557081, 0.0214826967567205, \n . 0.227168679237366, 0.0225132293999195, 0.963530361652374, 0.497769922018051, \n . 0.0257066655904055, 0.112798377871513, 0.161740884184837, 0.00705853989347816, \n . 0.117389358580112, 0.223134085536003, 0.0542148761451244, 0.0872211903333664, \n . 0.186288639903069, 0.00984733551740646, 0.912896931171417, 0.107386253774166, \n . 0.453234970569611, 0.0185230262577534, 0.0268834736198187, 0.000904918706510216, \n . 0.0648516714572906, 0.0214134119451046, 0.0326617173850536, 0.144586786627769, \n . 0.0128904171288013, 0.040126945823431, 0.0755619928240776, 0.0206947308033705, \n . 0.0432650037109852, 0.0432795733213425, 0.0125749744474888, 0.362702131271362, \n . 0.0541853606700897, 0.0237073004245758, 0.154672607779503, 0.0363277308642864, \n . 0.123001761734486, 0.0567995309829712, 0.0301835425198078, 0.0628654211759567, \n . 0.0216306317597628, 0.0127569176256657, 0.0137184672057629, 0.0233429409563541, \n . 0.949508965015411, 0.0133549338206649, 0.0751695707440376, 0.170466035604477, \n . 0.0285069085657597, 0.0268682911992073, 0.0211480613797903, 0.0170493926852942, \n . 0.0550776198506355, 0.142067670822144, 0.120129153132439, 0.0312385782599449, \n . 0.0125568341463804, 0.0209809578955173, 0.123824171721935, 0.0225017219781876, \n . 0.226683706045151, 0.0371418930590153, 0.0978237986564636, 0.0134722106158733, \n . 0.0761501863598824, 0.207833841443062, 0.0771745964884758, 0.0555593110620975, \n . 0.125159710645676, 0.0464216805994511, 0.012664120644331, 0.00409770058467984, \n . 0.0355376377701759, 0.00876013282686472, 0.0604166053235531, \n . 0.222048714756966, 0.341656744480133, 0.0135269993916154, 0.0513137318193913, \n . 0.0489557944238186, 0.000825864379294217, 0.041883610188961, \n . 0.595649719238281, 0.0144777111709118, 0.0521715357899666, 0.00111314537934959, \n . 0.0158594585955143, 0.0771080106496811, 0.0636329650878906, 0.047528937458992, \n . 0.0105763906612992, 0.0893285945057869, 0.0385334268212318, 0.110769383609295, \n . 0.0229366682469845, 0.0770486146211624, 0.588748216629028, 0.0427387170493603, \n . 0.057826790958643, 0.0664053782820702, 0.743933260440826, 0.0388097167015076, \n . 0.134548887610435, 0.00667708879336715, 0.0883145481348038, 0.0412234403192997, \n . 0.0512364767491817, 0.0272860117256641, 0.989366948604584, 0.154072865843773, \n . 0.0860472247004509, 0.0677812397480011, 0.0347879193723202, 0.0831914022564888, \n . 0.336920350790024, 0.069265604019165, 0.0687273442745209, 0.0546207167208195, \n . 0.0424256063997746, 0.714486181735992, 0.113631770014763, 0.0164694953709841, \n . 0.0264926441013813, 0.0186802241951227, 0.0278570167720318, 0.00573801621794701, \n . 0.0265779551118612, 0.105086520314217, 0.536881625652313, 0.132473826408386, \n . 0.0675911083817482, 0.0499157980084419, 0.00643915496766567, \n . 0.0244172066450119, 0.028968783095479, 0.0155003005638719, 0.105127513408661, \n . 0.431951552629471, 0.0673025101423264, 0.00894261058419943, 0.0513152070343494, \n . 0.0336163491010666, 0.0174899790436029, 0.0264350157231092, 0.0452617667615414, \n . 0.359469354152679, 0.0297868438065052, 0.0347761102020741, 0.0204584077000618, \n . 0.169443383812904, 0.0431758984923363, 0.104158520698547, 0.229840010404587, \n . 0.0180815700441599, 0.0834209695458412, 0.0421416535973549, 0.0341296121478081, \n . 0.0156473945826292, 0.0370636321604252, 0.0584504082798958, 0.205405175685883, \n . 0.0330369025468826, 0.0876854658126831, 0.0430827587842941, 0.0152682671323419, \n . 0.0447925515472889, 0.110653251409531, 0.166067019104958, 0.0288138948380947, \n . 0.0392413623631001, 0.0324380993843079, 0.289016157388687, 0.108001045882702, \n . 0.0598988048732281, 0.143623828887939, 0.0201520156115294, 0.0191595517098904, \n . 0.0733248591423035, 0.0630822628736496, 0.428705215454102, 0.0244609341025352, \n . 0.0870073735713959, 0.0479273274540901, 0.00827488396316767, \n . 0.0430097244679928, 0.0680630281567574, 0.0256910901516676, 0.276863873004913, \n . 0.0508162342011929, 0.0265981685370207, 0.0191332921385765, 0.010316957719624, \n . 0.0949124023318291, 0.0661316588521004, 0.0441588722169399, 0.0708035603165627, \n . 0.0246508065611124, 0.571281015872955, 0.0573657900094986, 0.896050214767456, \n . 0.0134515091776848, 0.0467835702002048, 0.0771136432886124, 0.100507251918316, \n . 0.0944671779870987, 0.737105846405029, 0.057332307100296, 0.161324203014374, \n . 0.0357453003525734, 0.0037787202745676, 0.0111687900498509, 0.722112655639648, \n . 0.0264773443341255, 0.0253798328340054, 0.0197061765938997, 0.00561841623857617, \n . 0.00547166634351015, 0.0324777364730835, 0.0158082544803619, \n . 0.149571672081947, 0.50895768404007, 0.0271213538944721, 0.0906296223402023, \n . 0.0532563403248787, 0.00735881412401795, 0.610602796077728, 0.0210324954241514, \n . 0.408867418766022, 0.0173841509968042, 0.140386164188385, 0.0233450438827276, \n . 0.0803177505731583, 0.0373864583671093, 0.0534371361136436, 0.0224988423287868, \n . 0.0323835909366608, 0.0290668625384569, 0.013833406381309, 0.0137265790253878, \n . 0.0331887751817703, 0.495465010404587, 0.0693945735692978, 0.0237590875476599, \n . 0.0148951429873705, 0.139537259936333, 0.042350247502327, 0.0102530047297478, \n . 0.0183442514389753, 0.00675599416717887, 0.0514290519058704, \n . 0.0645893737673759, 0.142086148262024, 0.735071420669556, 0.07588180154562, \n . 0.078150674700737, 0.0222819577902555, 0.0565639473497868, 0.953890800476074, \n . 0.0333256796002388, 0.0581891909241676, 0.304858773946762, 0.0281085148453712, \n . 0.0104306498542428, 0.0466104969382286, 0.213804289698601, 0.164206549525261, \n . 0.0452257432043552, 0.0221475996077061, 0.0527350008487701, 0.0270856451243162, \n . 0.0443963631987572, 0.110850989818573, 0.0470494665205479, 0.038107804954052, \n . 0.0564394928514957, 0.188415735960007, 0.4851293861866, 0.0273272413760424, \n . 0.0713313743472099, 0.4478919506073, 0.0708278939127922, 0.348545849323273, \n . 0.0245478115975857, 0.0203288067132235, 0.120388433337212, 0.0730149894952774, \n . 0.0586447194218636, 0.0473525747656822, 0.030602240934968, 0.0310599580407143, \n . 0.0363050438463688, 0.027375353500247, 0.0726091489195824, 0.0253217052668333, \n . 0.00650764768943191, 0.031969141215086, 0.866151750087738, 0.0453564114868641, \n . 0.0296550840139389, 0.0333355478942394, 0.0886494666337967, 0.167402014136314, \n . 0.0928983837366104, 0.0284712817519903, 0.0103894369676709, 0.0111604882404208, \n . 0.0891290828585625, 0.047942940145731, 0.0437528230249882, 0.118604473769665, \n . 0.0218462627381086, 0.0170735660940409, 0.0647587925195694, 0.0425904765725136, \n . 0.0311096757650375, 0.0924055948853493, 0.0736276805400848, 0.0274677630513906, \n . 0.0841333046555519, 0.0535976588726044, 0.0370006561279297, 0.0575092099606991, \n . 0.00610248232260346, 0.0998038053512573, 0.0821310728788376, \n . 0.0185483302921057, 0.0643391087651253, 0.0228994786739349, 0.334459215402603, \n . 0.0283252615481615, 0.0639343038201332, 0.713080823421478, 0.0713783651590347, \n . 0.0281366184353828, 0.0313776694238186, 0.0456171147525311, 0.0319254584610462, \n . 0.0284152328968048, 0.00596972927451134, 0.00157807802315801, \n . 0.163602903485298, 0.128775998950005, 0.0294833313673735, 0.0615999773144722, \n . 0.375014573335648, 0.0351624898612499, 0.0573335587978363, 0.0982458516955376, \n . 0.062999852001667, 0.0134564330801368, 0.279690712690353, 0.0747750103473663, \n . 0.0135261211544275, 0.0355100370943546, 0.0724980980157852, 0.0585092045366764, \n . 0.146551012992859, 0.12185775488615, 0.00838783103972673, 0.0128455050289631, \n . 0.0203127209097147, 0.13210029900074, 0.0122725404798985, 0.206790208816528, \n . 0.061941109597683, 0.064908429980278, 0.577877640724182, 0.0455001294612885, \n . 0.666237711906433, 0.0434102900326252, 0.932955324649811, 0.0883796513080597, \n . 0.00805446412414312, 0.168317526578903, 0.539929568767548, 0.0673076286911964, \n . 0.0377538278698921, 0.0164860729128122, 0.067800298333168, 0.0568774454295635, \n . 0.0593288131058216, 0.0746955052018166, 0.297857016324997, 0.0186171792447567, \n . 0.00987512618303299, 0.0136100957170129, 0.0843524187803268, \n . 0.0304133072495461, 0.030406516045332, 0.0312141999602318, 0.0962222144007683, \n . 0.0715699642896652, 0.00111532188020647, 0.0529313832521439, \n . 0.0171630214899778, 0.0740708634257317, 0.0524937175214291, 0.0404027216136456, \n . 0.0215069632977247, 0.0173430722206831, 0.0895194858312607, 0.0786112546920776, \n . 0.679061114788055, 0.0433271788060665, 0.0162858702242374, 0.0406107269227505, \n . 0.373325407505035, 0.0320025309920311, 0.0227814596146345, 0.197717353701591, \n . 0.0301807653158903, 0.323771268129349, 0.633846342563629, 0.934626758098602, \n . 0.027802960947156, 0.0468802601099014, 0.239538177847862, 0.0311652272939682, \n . 0.0949237868189812, 0.0307760033756495, 0.00523446965962648, \n . 0.0286360122263432, 0.0193489901721478, 0.601423919200897, 0.0410439148545265, \n . 0.0654967352747917, 0.226105734705925, 0.0529709085822105, 0.0697241425514221, \n . 0.0150374732911587, 0.100211381912231, 0.0544159524142742, 0.0897487625479698, \n . 0.0390689484775066, 0.0405819527804852, 0.0647099986672401, 0.0298777837306261, \n . 0.0408375784754753, 0.0449228659272194, 0.012893226929009, 0.0450089611113071, \n . 0.110405288636684, 0.0240090135484934, 0.0788133144378662, 0.0290930140763521, \n . 0.124825097620487, 0.0808745548129082, 0.156104609370232, 0.0410626977682114, \n . 0.0169879533350468, 0.00669040065258741, 0.0644027516245842, \n . 0.0497416369616985, 0.105969741940498, 0.0443901121616364, 0.04950150847435, \n . 0.0588275156915188, 0.00257433066144586, 0.427553713321686, 0.108812943100929, \n . 0.015284851193428, 0.00717254774644971, 0.0858282595872879, 0.0151945054531097, \n . 0.401270359754562, 0.0242571346461773, 0.026549207046628, 0.0109032578766346, \n . 0.0893509909510612, 0.0668825060129166, 0.986307919025421, 0.0916748717427254, \n . 0.0903381854295731, 0.801300227642059, 0.0533289536833763, 0.0661304891109467, \n . 0.0478068217635155, 0.0144929923117161, 0.189977318048477, 0.0492614917457104, \n . 0.015267550945282, 0.0267897117882967, 0.0368509292602539, 0.00863022264093161, \n . 0.627971470355988, 0.0367306433618069, 0.0329920835793018, 0.058113656938076, \n . 0.00351903983391821, 0.0165992397814989, 0.148599103093147, 0.900198936462402, \n . 0.0142792696133256, 0.0275735761970282, 0.020989328622818, 0.0219959318637848, \n . 0.00757098337635398, 0.0608400404453278, 0.140064537525177, 0.136485904455185, \n . 0.0203963406383991, 0.139551311731339, 0.00717364763841033, 0.0522431582212448, \n . 0.0391629189252853, 0.0223673917353153, 0.0110599184408784, 0.0722168311476707, \n . 0.0769509300589561, 0.016523526981473, 0.12587670981884, 0.0389731861650944, \n . 0.182913094758987, 0.00851897243410349, 0.00977014284580946, \n . 0.0117997024208307, 0.0161696597933769, 0.0261002611368895, 0.037100475281477, \n . 0.0165939405560493, 0.0568738989531994, 0.0217372793704271, 0.213829278945923, \n . 0.0185700450092554, 0.0395518280565739, 0.0762541592121124, 0.0245884191244841, \n . 0.237124711275101, 0.0319705717265606, 0.0855470970273018, 0.900462448596954, \n . 0.0398744866251945, 0.067415252327919, 0.0367306433618069, 0.0799405872821808, \n . 0.0421809405088425, 0.0141938142478466, 0.0816769525408745, 0.059971209615469, \n . 0.326151192188263, 0.0263213217258453, 0.108948431909084, 0.00869753491133451, \n . 0.130122795701027, 0.0945514589548111, 0.0544325672090054, 0.0292901992797852, \n . 0.0131850838661194, 0.678192853927612, 0.00824538432061672, 0.0957102179527283, \n . 0.0421814285218716, 0.0321297869086266, 0.026514882221818, 0.052596315741539, \n . 0.106517523527145, 0.00843476876616478, 0.0661376193165779, 0.0759812816977501, \n . 0.0718564167618752, 0.0456597618758678, 0.0250536967068911, 0.0407746806740761, \n . 0.182689636945724, 0.0824539810419083, 0.132012367248535, 0.0394148901104927, \n . 0.0146130956709385, 0.0710800737142563, 0.0270159877836704, 0.912525415420532, \n . 0.0456311069428921, 0.0956503078341484, 0.0783932507038116, 0.065245546400547, \n . 0.25123804807663, 0.0302737113088369, 0.117447279393673, 0.0630616322159767, \n . 0.922684192657471, 0.0866586118936539, 0.489120244979858, 0.0816680490970612, \n . 0.0721409097313881, 0.0523247681558132, 0.0179021302610636, 0.00377760361880064, \n . 0.0668833404779434, 0.382639110088348, 0.0255427658557892, 0.0132430018857121, \n . 0.247159227728844, 0.510686755180359, 0.104592613875866, 0.0478993877768517, \n . 0.0602637715637684, 0.0723974853754044, 0.0450108200311661, 0.409285932779312, \n . 0.816056370735168, 0.055050503462553, 0.00935413129627705, 0.224042162299156, \n . 0.0272627845406532, 0.0147781306877732, 0.0593317672610283, 0.235394477844238, \n . 0.0147983394563198, 0.0568879954516888, 0.0216722916811705, 0.0204673781991005, \n . 0.197911038994789, 0.0339618735015392, 0.0164950974285603, 0.0111921122297645, \n . 0.103986971080303, 0.278026014566422, 0.0940008386969566, 0.667734503746033, \n . 0.0358396768569946, 0.0645262077450752, 0.0451055951416492, 0.224085822701454, \n . 0.0206729453057051, 0.0152664184570312, 0.012419082224369, 0.0636803433299065, \n . 0.39316588640213, 0.0432039685547352, 0.015810813754797, 0.0429245121777058, \n . 0.0416275076568127, 0.0258699972182512, 0.00107047625351697, \n . 0.0342240333557129, 0.0390433184802532, 0.0538313649594784, 0.940933883190155, \n . 0.0249894373118877, 0.450652420520782, 0.0306839682161808, 0.050156619399786, \n . 0.0212703160941601, 0.0569883659482002, 0.0159970801323652, 0.0349465198814869, \n . 0.0696938037872314, 0.293852657079697, 0.0510787814855576, 0.344509392976761, \n . 0.00837909802794456, 0.00930746644735336, 0.136441826820374, \n . 0.0356866009533405, 0.0210632234811783, 0.277996569871902, 0.96303391456604, \n . 0.0101512325927615, 0.0574984326958656, 0.0127286873757839, 0.0398672930896282, \n . 0.0494015365839005, 0.066836342215538, 0.511368155479431, 0.0384982749819756, \n . 0.0568755157291889, 0.897603690624237, 0.193386599421501, 0.164634495973587, \n . 0.0307516418397427, 0.228670716285706, 0.0304948035627604, 0.0687290653586388, \n . 0.0320717021822929, 0.0370263457298279, 0.236170813441277, 0.0315582752227783, \n . 0.0924959555268288, 0.665674209594727, 0.0663829892873764, 0.0650372877717018, \n . 0.0353449061512947, 0.0509002171456814, 0.0521368682384491, 0.0505531802773476, \n . 0.0268732588738203, 0.0325975157320499, 0.491694957017899, 0.0141445258632302, \n . 0.0106187574565411, 0.0187617149204016, 0.0414166636765003, 0.0380517393350601, \n . 0.0321517623960972, 0.0112297628074884, 0.0390474945306778, 0.0185749717056751, \n . 0.0307561978697777, 0.00523406732827425, 0.0226047988981009, \n . 0.0621390752494335, 0.00381709495559335, 0.0165079049766064, \n . 0.0390797071158886, 0.00514704268425703, 0.989834725856781, 0.011655536480248, \n . 0.0691560730338097, 0.0897780209779739, 0.201432108879089, 0.0520970858633518, \n . 0.284338682889938, 0.0663663074374199, 0.103601112961769, 0.13223047554493, \n . 0.0949785113334656, 0.0197684969753027, 0.145207166671753, 0.0960020795464516, \n . 0.224056661128998, 0.0972490236163139, 0.0123328706249595, 0.159796625375748, \n . 0.13369682431221, 0.0402084961533546, 0.190440386533737, 0.040351863950491, \n . 0.0439544431865215, 0.0343016535043716, 0.0835801810026169, 0.0129279792308807, \n . 0.266852229833603, 0.0149630596861243, 0.104517906904221, 0.0657347440719604, \n . 0.0244280993938446, 0.0247856583446264, 0.00802136771380901, \n . 0.0132870841771364, 0.0283990446478128, 0.89986515045166, 0.0281935390084982, \n . 0.0651054158806801, 0.396084845066071, 0.0298842377960682, 0.02670893445611, \n . 0.0418457351624966, 0.0314143635332584, 0.444335788488388, 0.0331840142607689, \n . 0.0214564241468906, 0.282813400030136, 0.0508612506091595, 0.0610657371580601, \n . 0.730879604816437, 0.084126889705658, 0.0286096483469009, 0.0726465508341789, \n . 0.0491041615605354, 0.0200277082622051, 0.0265542976558208, 0.0230267811566591, \n . 0.228901788592339, 0.242006912827492, 0.0424506328999996, 0.0408315099775791, \n . 0.0118670966476202, 0.0261607673019171, 0.0196417681872845, 0.0151107804849744, \n . 0.0699478909373283, 0.128864213824272, 0.051042914390564, 0.0999497920274734, \n . 0.0939796641469002, 0.0136946551501751, 0.0492466762661934, 0.0518479272723198, \n . 0.395527333021164, 0.0747622102499008, 0.000778659014031291, \n . 0.0689737647771835, 0.0149242570623755, 0.0437476597726345, 0.00895942561328411, \n . 0.0213523022830486, 0.123375669121742, 0.0455988608300686, 0.391379475593567, \n . 0.0579050816595554, 0.01552714407444, 0.0862405300140381, 0.0180327296257019, \n . 0.023914972320199, 0.0403903536498547, 0.0119463996961713, 0.000409089669119567, \n . 0.1060761064291, 0.740732789039612, 0.0565801486372948, 0.035596314817667, \n . 0.147154316306114, 0.864774882793427, 0.0655053481459618, 0.20541524887085, \n . 0.363703787326813, 0.0726091489195824, 0.4905985891819, 0.0701105371117592, \n . 0.0185170900076628, 0.087042361497879, 0.0262508932501078, 0.0255158916115761, \n . 0.0622366108000278, 0.0328156724572182, 0.0217293761670589, 0.523553013801575, \n . 0.0259334724396467, 0.0668713003396988, 0.067976675927639, 0.05624083802104, \n . 0.458814531564713, 0.0198153927922249, 0.874938368797302, 0.520592749118805, \n . 0.116696298122406, 0.0166114810854197, 0.845730662345886, 0.0170591846108437, \n . 0.0895246118307114, 0.0976435542106628, 0.0572175309062004, 0.0233281068503857, \n . 0.0525714196264744, 0.481254130601883, 0.0857234448194504, 0.310286074876785, \n . 0.1227136105299, 0.00506071140989661, 0.0915143266320229, 0.0210848711431026, \n . 0.0165973883122206, 0.00887645967304707, 0.0308650471270084, \n . 0.0401331074535847, 0.0341124199330807, 0.0117693655192852, 0.0963746532797813, \n . 0.0293611250817776, 0.0597490444779396, 0.131627783179283, 0.0708331912755966, \n . 0.209000647068024, 0.0414174497127533, 0.0336198955774307, 0.0102394539862871, \n . 0.065737210214138, 0.0108497580513358, 0.0284133702516556, 0.0850656181573868, \n . 0.00754947355017066, 0.0174643509089947, 0.019601508975029, 0.08621995896101, \n . 0.0245117004960775, 0.15240915119648, 0.0334129706025124, 0.0287864077836275, \n . 0.0703025087714195, 0.00395998265594244, 0.278581976890564, 0.0348808541893959, \n . 0.223183736205101, 0.0607076212763786, 0.131082758307457, 0.0297868438065052, \n . 0.00114722619764507, 0.0332390181720257, 0.0371655076742172, \n . 0.00622103596106172, 0.0212235134094954, 0.00626502279192209, \n . 0.0378689132630825, 0.635516583919525, 0.0339540913701057, 0.594104170799255, \n . 0.635914981365204, 0.983497381210327, 0.948010802268982, 0.0373805984854698, \n . 0.134095087647438, 0.0383850671350956, 0.105658568441868, 0.0152698876336217, \n . 0.0855745226144791, 0.458512544631958, 0.00336605566553771, 0.0305276848375797, \n . 0.0493810400366783, 0.034457128494978, 0.0726678520441055, 0.0326078049838543, \n . 0.0614614225924015, 0.0252686310559511, 0.641106128692627, 0.0195543225854635, \n . 0.0820029899477959, 0.0417609214782715, 0.0457495898008347, 0.00160481873899698, \n . 0.0208600591868162, 0.122885949909687, 0.024549936875701, 0.0207777209579945, \n . 0.00195949035696685, 0.112571783363819, 0.043055597692728, 0.021631883457303, \n . 0.0307740923017263, 0.0394255593419075, 0.0567058622837067, 0.548705518245697, \n . 0.12091252207756, 0.0294620655477047, 0.0334559082984924, 0.245862692594528, \n . 0.00362130161374807, 0.135849937796593, 0.0693415403366089, 0.0494718328118324, \n . 0.0221236068755388, 0.36836913228035, 0.0163948647677898, 0.381756782531738, \n . 0.0215558502823114, 0.0646875202655792, 0.0268164779990911, 0.0411597117781639, \n . 0.0630557760596275, 0.0556068085134029, 0.0465365052223206, 0.0215566903352737, \n . 0.017846155911684, 0.0237250570207834, 0.511241614818573, 0.0538413599133492, \n . 0.0224056411534548, 0.0243449453264475, 0.0409927107393742, 0.0566357746720314, \n . 0.0313352756202221, 0.0313891768455505, 0.0169472638517618, 0.012920156121254, \n . 0.0102279745042324, 0.0977575778961182, 0.036773357540369, 0.01091945823282, \n . 0.0190705005079508, 0.0132465604692698, 0.0262444652616978, 0.0367640629410744, \n . 0.0426528565585613, 0.0407170653343201, 0.0461505129933357, 0.0294379238039255, \n . 0.02182886749506, 0.0226101242005825, 0.0196742750704288, 0.0440457873046398, \n . 0.0498709864914417, 0.0281630791723728, 0.0143856620416045, 0.0220792926847935, \n . 0.038041990250349, 0.0194120574742556, 0.163122922182083, 0.0591586530208588, \n . 0.0389693006873131, 0.00435096072033048, 0.0392383970320225, \n . 0.00787753332406282, 0.00131606194190681, 0.0745885819196701, \n . 0.0191751271486282, 0.833261668682098, 0.50793993473053, 0.266600996255875, \n . 0.056177657097578, 0.013977624475956, 0.0171646792441607, 0.0446864664554596, \n . 0.00897280126810074, 0.0153271025046706, 0.053718626499176, 0.0360771827399731, \n . 0.207060843706131, 0.0385312177240849, 0.352387130260468, 0.0176320131868124, \n . 0.0415724888443947, 0.0323132388293743, 0.048257127404213, 0.250611484050751, \n . 0.110331855714321, 0.0211051981896162, 0.0643038600683212, 0.190472409129143, \n . 0.0297767780721188, 0.0526423007249832, 0.054121483117342, 0.0121991718187928, \n . 0.0482680313289165, 0.0623421035706997, 0.0434019155800343, 0.0643829703330994, \n . 0.0646467134356499, 0.0327767468988895, 0.0448278784751892, 0.0145435873419046, \n . 0.24523900449276, 0.00991794466972351, 0.030698636546731, 0.0220113042742014, \n . 0.021210627630353, 0.131586253643036, 0.0150703983381391, 0.00597314303740859, \n . 0.97975218296051, 0.0696844533085823, 0.0127665475010872, 0.228063359856606, \n . 0.0202875230461359, 0.147226497530937, 0.0696667432785034, 0.0854157358407974, \n . 0.165983751416206, 0.0686845034360886, 0.0647328719496727, 0.0346005260944366, \n . 0.459912449121475, 0.04278464615345, 0.199837073683739, 0.00306319678202271, \n . 0.10393264144659, 0.119819976389408, 0.0350176766514778, 0.00513559719547629, \n . 0.0849597379565239, 0.2141352891922, 0.0180376283824444, 0.0776044800877571, \n . 0.183684721589088, 0.0514325611293316, 0.278075605630875, 0.932550847530365, \n . 0.367020785808563, 0.17077524960041, 0.0252314917743206, 0.0280858054757118, \n . 0.0104100434109569, 0.247707664966583, 0.0235869977623224, 0.0222030561417341, \n . 0.00834336970001459, 0.015243767760694, 0.0579388290643692, 0.000432214903412387, \n . 0.0215184316039085, 0.0857487097382545, 0.0211643539369106, 0.0538793057203293, \n . 0.426914304494858, 0.0260517969727516, 0.0276052635163069, 0.0313207842409611, \n . 0.0203069224953651, 0.0150706460699439, 0.0411994569003582, 0.164016723632812, \n . 0.0488405972719193, 0.035482544451952, 0.0609074383974075, 0.163489907979965, \n . 0.0670088082551956, 0.00128749245777726, 0.941269516944885, 0.0233814567327499, \n . 0.0512597300112247, 0.184018328785896, 0.144861876964569, 0.0370617508888245, \n . 0.0117835495620966, 0.093580462038517, 0.00398618495091796, 0.0908459424972534, \n . 0.0573256239295006, 0.0165661219507456, 0.438063234090805, 0.0234517510980368, \n . 0.0211574845016003, 0.024715643376112, 0.21063894033432, 0.133085757493973, \n . 0.0350295417010784, 0.0725154653191566, 0.0210623722523451, 0.031042642891407, \n . 0.0778347104787827, 0.0199365615844727, 0.114196285605431, 0.286299139261246, \n . 0.0103112487122416, 0.0360987223684788, 0.124598667025566, 0.105287775397301, \n . 0.054095022380352, 0.0305922478437424, 0.0684373006224632, 0.06539136916399, \n . 0.0498022437095642, 0.965532720088959, 0.123873203992844, 0.0453480072319508, \n . 0.0977961048483849, 0.0945716574788094, 0.0103111509233713, 0.0452512055635452, \n . 0.0376540198922157, 0.0218166820704937, 0.00998355634510517, \n . 0.948645770549774, 0.433434307575226, 0.00249480828642845, 0.732141315937042, \n . 0.0312458127737045, 0.0922384858131409, 0.044486328959465, 0.0193776916712523, \n . 0.0472561195492744, 0.144726201891899, 0.0605886913836002, 0.0298130735754967, \n . 0.012390399351716, 0.0757694914937019, 0.0193391125649214, 0.0826270654797554, \n . 0.0306463036686182, 0.459455400705338, 0.0876529663801193, 0.0296732783317566, \n . 0.164937168359756, 0.0439999140799046, 0.110681600868702, 0.0862837135791779, \n . 0.0431925468146801, 0.0239661280065775, 0.0354966819286346, 0.456126600503922, \n . 0.0172678679227829, 0.02830695733428, 0.0782964155077934, 0.0430376455187798, \n . 0.285015791654587, 0.0327157527208328, 0.0997563973069191, 0.0347209759056568, \n . 0.104491084814072, 0.00330254295840859, 0.0879843756556511, 0.0745745003223419, \n . 0.00955832935869694, 0.052218109369278, 0.00742521649226546, \n . 0.0997377932071686, 0.0104726776480675, 0.182989805936813, 0.118500210344791, \n . 0.0383053533732891, 0.139982298016548, 0.329940438270569, 0.0545580126345158, \n . 0.0550914593040943, 0.0122458310797811, 0.080237902700901, 0.025864914059639, \n . 0.0181014761328697, 0.0528644248843193, 0.026029059663415, 0.0332377776503563, \n . 0.031267948448658, 0.0138707291334867, 0.00795267429202795, 0.040794625878334, \n . 0.0634322166442871, 0.00381781323812902, 0.0130332233384252, \n . 0.910686433315277, 0.0829268842935562, 0.0120147187262774, 0.0188385453075171, \n . 0.0702430829405785, 0.0272764265537262, 0.0230902153998613, 0.158981412649155, \n . 0.0235133338719606, 0.033046942204237, 0.0402779765427113, 0.737428486347198, \n . 0.0420518331229687, 0.0170417074114084, 0.0478470399975777, 0.0459752418100834, \n . 0.0462676212191582, 0.0237328074872494, 0.0248434208333492, 0.0251714456826448, \n . 0.149660974740982, 0.035494476556778, 0.0362168848514557, 0.0375386439263821, \n . 0.944847762584686, 0.0174478143453598, 0.0501339286565781, 0.0179073717445135, \n . 0.389934301376343, 0.0537530817091465, 0.028283478692174, 0.0919423848390579, \n . 0.054530706256628, 0.0731846913695335, 0.0390944369137287, 0.0274206772446632, \n . 0.203414365649223, 0.0383115373551846, 0.0504122525453568, 0.018693970516324, \n . 0.425697952508926, 0.035479124635458, 0.0770083740353584, 0.0228337254375219, \n . 0.0441148355603218, 0.00625496404245496, 0.0587121844291687, \n . 0.0145458206534386, 0.0154984388500452, 0.0814109072089195, 0.014614543877542, \n . 0.182022720575333, 0.0269028954207897, 0.306306898593903, 0.0172487255185843, \n . 0.0426358692348003, 0.0346611104905605, 0.492349475622177, 0.174469798803329, \n . 0.0136963687837124, 0.0576962046325207, 0.0435935817658901, 0.0430732443928719, \n . 0.0732320100069046, 0.000877898477483541, 0.114480651915073, \n . 0.10869025439024, 0.446321338415146, 0.0228248909115791, 0.011734189465642, \n . 0.0224573984742165, 0.0440987534821033, 0.0858095660805702, 0.00471270969137549, \n . 0.0379799567162991, 0.0225842371582985, 0.113058224320412, 0.0598794519901276, \n . 0.0365715511143208, 0.0192757751792669, 0.195860862731934, 0.0210002660751343, \n . 0.0695403441786766, 0.0580212138593197, 0.805441677570343, 0.0498290508985519, \n . 0.0906067937612534, 0.0279303938150406, 0.0134292403236032, 0.012273870408535, \n . 0.0376902781426907, 0.171843215823174, 0.0361325368285179, 0.0745551064610481, \n . 0.00322826090268791, 0.0218419954180717, 0.0347868390381336, \n . 0.0586854554712772, 0.0197552368044853, 0.035722903907299, 0.643183827400208, \n . 0.115751788020134, 0.0181901566684246, 0.0283174179494381, 0.0201772712171078, \n . 0.0426478236913681, 0.0251930486410856, 0.0225215312093496, 0.0130749195814133, \n . 0.0171288549900055, 0.00628247670829296, 0.0250763781368732, \n . 0.0751054361462593, 0.039401613175869, 0.0396225675940514, 0.0633618161082268, \n . 0.655823171138763, 0.0179117396473885, 0.038928996771574, 0.0337360017001629, \n . 0.755562782287598, 0.013709650374949, 0.116130106151104, 0.105304889380932, \n . 0.0287243407219648, 0.0338685400784016, 0.029556205496192, 0.0295974109321833, \n . 0.00521694729104638, 0.0588943585753441, 0.0191732719540596, \n . 0.0506452172994614, 0.0466008894145489, 0.00708306534215808, \n . 0.037015900015831, 0.0187335144728422, 0.0381325669586658, 0.0849722325801849, \n . 0.181409120559692, 0.377198904752731, 0.0242861676961184, 0.063197173178196, \n . 0.022179102525115, 0.451763570308685, 0.0129369525238872, 0.068618081510067, \n . 0.610031962394714, 0.819972634315491, 0.0356875024735928, 0.470917284488678, \n . 0.117353372275829, 0.0324302203953266, 0.0287915263324976, 0.0327406115829945, \n . 0.0371257029473782, 0.115164801478386, 0.0101661970838904, 0.0178121700882912, \n . 0.0266011077910662, 0.0644529461860657, 0.025589220225811, 0.544062495231628, \n . 0.0542898401618004, 0.0260256826877594, 0.0239776186645031, 0.0454632118344307, \n . 0.0873677730560303, 0.0272078178822994, 0.0229503028094769, 0.134260699152946, \n . 0.0482485182583332, 0.0158001463860273, 0.0182824470102787, 0.0196559876203537, \n . 0.244394883513451, 0.042011346668005, 0.0316105559468269, 0.515821397304535, \n . 0.135153591632843, 0.0654525831341743, 0.0660901069641113, 0.259312570095062, \n . 0.0466222055256367, 0.0209272783249617, 0.0493192076683044, 0.0205980762839317, \n . 0.0343702957034111, 0.159216776490211, 0.0247484222054482, 0.0358939617872238, \n . 0.277130097150803, 0.0365390814840794, 0.0327125899493694, 0.521106243133545, \n . 0.0308215357363224, 0.0470356121659279, 0.178994059562683, 0.00879442971199751, \n . 0.014594697393477, 0.0670119151473045, 0.0554449148476124, 0.125019118189812, \n . 0.00585506251081824, 0.0529089048504829, 0.0265269838273525, \n . 0.0233661457896233, 0.00531920418143272, 0.0580443926155567, \n . 0.0111845843493938, 0.0785286650061607, 0.0573502741754055, 0.0443530678749084, \n . 0.0707367062568665, 0.0251950398087502, 0.0206148400902748, 0.278175055980682, \n . 0.0271361507475376, 0.0393381789326668, 0.0318883694708347, 0.0608788020908833, \n . 0.0873700380325317, 0.0209412965923548, 0.0469418950378895, 0.426567554473877, \n . 0.118751235306263, 0.059799037873745, 0.0413391515612602, 0.0495248474180698, \n . 0.0194468721747398, 0.0136985788121819, 0.0480161793529987, 0.0193871892988682, \n . 0.0269270986318588, 0.0212728027254343, 0.30677455663681, 0.0297937355935574, \n . 0.00745085161179304, 0.385684549808502, 0.00911525636911392, \n . 0.700393319129944, 0.0435836724936962, 0.0144773432984948, 0.0848807990550995, \n . 0.0213462430983782, 0.0721832886338234, 0.0325552076101303, 0.0595661327242851, \n . 0.0586882084608078, 0.0075645656324923, 0.132164463400841, 0.893763422966003, \n . 0.0969737023115158, 0.0436787493526936, 0.00943577289581299, \n . 0.0258316807448864, 0.0574522092938423, 0.649623513221741, 0.0101730236783624, \n . 0.0124320490285754, 0.0154436007142067, 0.0558196604251862, 0.053916223347187, \n . 0.0847597792744637, 0.0228727720677853, 0.199562236666679, 0.0318099372088909, \n . 0.207340002059937, 0.0760084241628647, 0.0675523802638054, 0.0510096549987793, \n . 0.606177806854248, 0.502602458000183, 0.105450019240379, 0.0456150062382221, \n . 0.0531678311526775, 0.00959734711796045, 0.034954946488142, 0.0624701380729675, \n . 0.0113302050158381, 0.167287945747375, 0.0972744822502136, 0.0170119069516659, \n . 0.993213295936584, 0.477795630693436, 0.0384467355906963, 0.219075784087181, \n . 0.049176812171936, 0.0547935292124748, 0.0243994407355785, 0.0113480221480131, \n . 0.00081963645061478, 0.0184365808963776, 0.0494737848639488, \n . 0.0281148329377174, 0.207286104559898, 0.676949024200439, 0.178516000509262, \n . 0.1471316665411, 0.029621209949255, 0.0192601997405291, 0.14218008518219, \n . 0.0190271399915218, 0.0638384073972702, 0.0131162581965327, 0.0372205674648285, \n . 0.0177575703710318, 0.073606364428997, 0.0320426225662231, 0.0184998475015163, \n . 0.0161789301782846, 0.342597752809525, 0.0343926325440407, 0.0235297176986933, \n . 0.348165065050125, 0.0190270598977804, 0.00934118032455444, 0.0167566407471895, \n . 0.0354424081742764, 0.0266650095582008, 0.0499932058155537, 0.0578215196728706, \n . 0.0123885674402118, 0.327294141054153, 0.0363849997520447, 0.658475637435913, \n . 0.0375826805830002, 0.048455324023962, 0.465828597545624, 0.030424065887928, \n . 0.0145342750474811, 0.077169194817543, 0.0190865807235241, 0.0789335295557976, \n . 0.81591135263443, 0.0360549055039883, 0.220336839556694, 0.393919378519058, \n . 0.0111037455499172, 0.0387167856097221, 0.0164345037192106, 0.0760018080472946, \n . 0.0299064423888922, 0.0497213676571846, 0.0599677823483944, 0.00789767969399691, \n . 0.0406459309160709, 0.0553982816636562, 0.0463658906519413, 0.00829827040433884, \n . 0.0090545667335391, 0.845529913902283, 0.0116701293736696, 0.0116964261978865, \n . 0.0647866055369377, 0.142211198806763, 0.10577530413866, 0.0295274667441845, \n . 0.00973130576312542, 0.0283647645264864, 0.0446603484451771, \n . 0.0460047125816345, 0.0403405837714672, 0.0200991369783878, 0.0320792458951473, \n . 0.0727569609880447, 0.0236587598919868, 0.0534816011786461, 0.739522814750671, \n . 0.0972524136304855, 0.0534180961549282, 0.115812882781029, 0.135683566331863, \n . 0.0182498786598444, 0.0344190001487732, 0.657962441444397, 0.0573847368359566, \n . 0.208574011921883, 0.171111091971397, 0.0469861775636673, 0.0267778672277927, \n . 0.189944893121719, 0.0515468120574951, 0.02411256916821, 0.0301991570740938, \n . 0.838198781013489, 0.00635979091748595, 0.0748815014958382, 0.138266354799271, \n . 0.0993131995201111, 0.0296074990183115, 0.0386515744030476, 0.0690452679991722, \n . 0.0340899042785168, 0.153491422533989, 0.271188855171204, 0.0184613540768623, \n . 0.378178387880325, 0.0453984551131725, 0.053311001509428, 0.02533701620996, \n . 0.00942625291645527, 0.0335429906845093, 0.0246843341737986, \n . 0.0357040278613567, 0.0129299573600292, 0.0179449450224638, 0.145517557859421, \n . 0.0153307737782598, 0.0600514337420464, 0.0511021316051483, 0.935706198215485, \n . 0.0647331476211548, 0.193999171257019, 0.0410843417048454, 0.000948656059335917, \n . 0.0683561190962791, 0.275466114282608, 0.0187194421887398, 0.0837997868657112, \n . 0.0192817933857441, 0.351471751928329, 0.005697937682271, 0.420579433441162, \n . 0.0211056973785162, 0.0296443961560726, 0.0205531474202871, 0.436049729585648, \n . 0.0667316690087318, 0.0505342222750187, 0.502476513385773, 0.0190487205982208, \n . 0.0420529581606388, 0.0119779594242573, 0.0639215260744095, 0.13593652844429, \n . 0.710837602615356, 0.0624321699142456, 0.0133529677987099, 0.0146231362596154, \n . 0.456620782613754, 0.0991702377796173, 0.10516944527626, 0.513845562934875, \n . 0.0594921559095383, 0.00461105350404978, 0.0241995453834534, \n . 0.055364940315485, 0.047763753682375, 0.0536017939448357, 0.0315079800784588, \n . 0.0374816171824932, 0.0238380078226328, 0.0466424152255058, 0.0209190286695957, \n . 0.0448422655463219, 0.118607118725777, 0.0436179116368294, 0.036518782377243, \n . 0.0342721119523048, 0.00493464292958379, 0.0584322772920132, \n . 0.0780836939811707, 0.00469891401007771, 0.0116698555648327, \n . 0.0433424413204193, 0.0219925679266453, 0.018145615234971, 0.0596583560109138, \n . 0.00761318998411298, 0.441952288150787, 0.055891502648592, 0.00868137180805206, \n . 0.0218452177941799, 0.169416382908821, 0.156921818852425, 0.0779276713728905, \n . 0.013205586001277, 0.0848570093512535, 0.206728428602219, 0.00367697468027472, \n . 0.0157411936670542, 0.0360466837882996, 0.0403109192848206, 0.0862368643283844, \n . 0.0204593259841204, 0.0083180284127593, 0.286295741796494, 0.112575002014637, \n . 0.247419193387032, 0.0244748052209616, 0.0249258503317833, 0.0323213711380959, \n . 0.107843481004238, 0.0176687221974134, 0.0159591976553202, 0.069152407348156, \n . 0.0275774113833904, 0.097105361521244, 0.00516038201749325, 0.042111475020647, \n . 0.0148906940594316, 0.0437435507774353, 0.00848061870783567, \n . 0.465182811021805, 0.073583573102951, 0.296678990125656, 0.146468356251717, \n . 0.0258715879172087, 0.00445599248632789, 0.173636242747307, 0.0424053966999054, \n . 0.0175000205636024, 0.0566481053829193, 0.000738640432246029, \n . 0.12434609234333, 0.0175996981561184, 0.0394447520375252, 0.0260984469205141, \n . 0.00970598310232162, 0.145208224654198, 0.0231562908738852, 0.0507560931146145, \n . 0.0145033746957779, 0.0187125094234943, 0.0623868368566036, 0.0536952055990696, \n . 0.0296120475977659, 0.0315359868109226, 0.00446824636310339, \n . 0.0605996288359165, 0.0482350513339043, 0.015426579862833, 0.00492560863494873, \n . 0.0648738592863083, 0.0553345270454884, 0.669687688350677, 0.0948384627699852, \n . 0.0244193468242884, 0.0222033150494099, 0.550098538398743, 0.050204336643219, \n . 0.333302170038223, 0.178364768624306, 0.0732504576444626, 0.282413423061371, \n . 0.0156542621552944, 0.0196037776768208, 0.0446596369147301, 0.727696180343628, \n . 0.0158981904387474, 0.0347856841981411, 0.092441014945507, 0.0662762075662613, \n . 0.0180293526500463, 0.61167323589325, 0.00559763284400105, 0.0401173047721386, \n . 0.0147725623100996, 0.0643099397420883, 0.0943931490182877, 0.498249471187592, \n . 0.0633730813860893, 0.0215144343674183, 0.0157153662294149, 0.0572081841528416, \n . 0.338758885860443, 0.0383799970149994, 0.0405210927128792, 0.0170485768467188, \n . 0.0509070791304111, 0.162068322300911, 0.0109350942075253, 0.0416101925075054, \n . 0.701241075992584, 0.593727707862854, 0.0304400976747274, 0.0429105162620544, \n . 0.00716373138129711, 0.783752262592316, 0.0113511029630899, 0.0267620533704758, \n . 0.0347592383623123, 0.0759921967983246, 0.0322720222175121, 0.0334966853260994, \n . 0.448666244745255, 0.0104784900322556, 0.254216492176056, 0.0356409773230553, \n . 0.0277531836181879, 0.0608568266034126, 0.0310185309499502, 0.161007300019264, \n . 0.0386698432266712, 0.00746299512684345, 0.0158810559660196, \n . 0.0248669795691967, 0.00738976337015629, 0.036461628973484, 0.0523059591650963, \n . 0.0983996018767357, 0.0389420241117477, 0.0698269009590149, 0.156308770179749, \n . 0.0655885264277458, 0.0215677674859762, 0.0122776748612523, 0.0521000064909458, \n . 0.00292306463234127, 0.0231332294642925, 0.0809575691819191, \n . 0.0335109084844589, 0.041932687163353, 0.0444162078201771, 0.589338004589081, \n . 0.0410072021186352, 0.0887446030974388, 0.0140976058319211, 0.0249091722071171, \n . 0.0232458226382732, 0.0402403995394707, 0.163862198591232, 0.0295731872320175, \n . 0.000502272567246109, 0.0119025772437453, 0.0631999000906944, \n . 0.00721725961193442, 0.0129300188273191, 0.0412341840565205, \n . 0.344173789024353, 0.0592395663261414, 0.0542483329772949, 0.0695456191897392, \n . 0.193101823329926, 0.00984055083245039, 0.0243487730622292, 0.077709011733532, \n . 0.195594176650047, 0.0460264906287193, 0.0236181225627661, 0.0332691930234432, \n . 0.0816814750432968, 0.410106867551804, 0.0254724100232124, 0.396610081195831, \n . 0.0475600324571133, 0.122804060578346, 0.0401008464396, 0.888194799423218, \n . 0.0977175831794739, 0.910172641277313, 0.0952574908733368, 0.00371548836119473, \n . 0.465801179409027, 0.123958952724934, 0.0670821666717529, 0.048650536686182, \n . 0.138402387499809, 0.0456956326961517, 0.0567587055265903, 0.00695199752226472, \n . 0.0498700961470604, 0.0665936097502708, 0.0258391387760639, 0.290579199790955, \n . 0.0400725267827511, 0.023178456351161, 0.0250211879611015, 0.00795533508062363, \n . 0.013719828799367, 0.0267154183238745, 0.167770579457283, 0.0274017471820116, \n . 0.26279279589653, 0.0979756563901901, 0.0204226709902287, 0.0314765796065331, \n . 0.026431679725647, 0.00347669725306332, 0.021554684266448, 0.155605420470238, \n . 0.131458580493927, 0.304011225700378, 0.00256605120375752, 0.0396289005875587, \n . 0.244092792272568, 0.713190615177155, 0.0395566374063492, 0.0182880125939846, \n . 0.0267584826797247, 0.0705917477607727, 0.0440814606845379, 0.0946231931447983, \n . 0.239248871803284, 0.0731391608715057, 0.225907206535339, 0.669320940971375, \n . 0.780519306659698, 0.133358374238014, 0.189966797828674, 0.135034710168839, \n . 0.3592629134655, 0.0416835881769657, 0.0545718632638454, 0.0371686294674873, \n . 0.000952651433181018, 0.0489889942109585, 0.214806020259857, \n . 0.0410163700580597, 0.0156387072056532, 0.00546784559264779, \n . 0.0159684773534536, 0.127672031521797, 0.0884354487061501, 0.188954025506973, \n . 0.268280953168869, 0.116257518529892, 0.0193362943828106, 0.0224360059946775, \n . 0.0308695528656244, 0.058455616235733, 0.0496877990663052, 0.0711439549922943, \n . 0.473230451345444, 0.0500679165124893, 0.161020487546921, 0.0323086306452751, \n . 0.0338804759085178, 0.0399223975837231, 0.13092315196991, 0.0278976187109947, \n . 0.231174528598785, 0.017757486552, 0.0628306791186333, 0.0250249560922384, \n . 0.695536613464355, 0.0957010313868523, 0.05961599573493, 0.0787184610962868, \n . 0.839126229286194, 0.0343393124639988, 0.0798658430576324, 0.880601763725281, \n . 0.0609005242586136, 0.142627954483032, 0.437829673290253, 0.0231063775718212, \n . 0.0343529619276524, 0.268967688083649, 0.0306419245898724, 0.00952987372875214, \n . 0.0277744028717279, 0.0347729735076427, 0.103265404701233, 0.0295524001121521, \n . 0.316915243864059, 0.0125133348628879, 0.0742556527256966, 0.138134464621544, \n . 0.0401281118392944, 0.0228202547878027, 0.0153783606365323, 0.0867973193526268, \n . 0.071284644305706, 0.0323097854852676, 0.0247966554015875, 0.205612435936928, \n . 0.0934340879321098, 0.0526170171797276, 0.0601665824651718, 0.0695701539516449, \n . 0.00947020575404167, 0.0132148722186685, 0.226049691438675, 0.0176070537418127, \n . 0.0480206273496151, 0.0229723546653986, 0.0180589612573385, 0.041677214205265, \n . 0.62259304523468, 0.00531786493957043, 0.103158682584763, 0.00869917590171099, \n . 0.029210178181529, 0.883179664611816, 0.0444561801850796, 0.0444033220410347, \n . 0.0676804631948471, 0.129173174500465, 0.938775539398193, 0.0257931239902973, \n . 0.475927144289017, 0.0222217347472906, 0.0704396739602089, 0.0157807096838951, \n . 0.191127508878708, 0.0286700651049614, 0.0518456771969795, 0.0172905083745718, \n . 0.0215400923043489, 0.0145151969045401, 0.944765865802765, 0.0106194093823433, \n . 0.0699433609843254, 0.0410817787051201, 0.0925987586379051, 0.0925039425492287, \n . 0.0426108464598656, 0.0448743812739849, 0.149396449327469, 0.737402617931366, \n . 0.033233180642128, 0.0170429293066263, 0.77730393409729, 0.0212644152343273, \n . 0.0458999015390873, 0.0130232907831669, 0.0447324253618717, 0.135585874319077, \n . 0.0144982300698757, 0.000266552582615986, 0.0928280800580978, \n . 0.0482102148234844, 0.1865124553442, 0.00376987038180232, 0.234788075089455, \n . 0.0198077354580164, 0.0239335373044014, 0.0233809929341078, 0.0348418615758419, \n . 0.0543306767940521, 0.024203984066844, 0.0241734441369772, 0.326052844524384, \n . 0.0835463851690292, 0.114649601280689, 0.0414204485714436, 0.0157502628862858, \n . 0.0872878357768059, 0.0783732086420059, 0.0650549456477165, 0.0333590060472488, \n . 0.0625249221920967, 0.01893275603652, 0.0497363954782486, 0.83212012052536, \n . 0.0025717681273818, 0.0307137928903103, 0.0481528416275978, 0.296141505241394, \n . 0.0196499414741993, 0.0321529805660248, 0.0323635898530483, 0.00926195085048676, \n . 0.00136615626979619, 0.079647533595562, 0.0606780201196671, 0.0112459613010287, \n . 0.133218050003052, 0.123650439083576, 0.0645731091499329, 0.0302078202366829, \n . 0.478798866271973, 0.0419330038130283, 0.936114490032196, 0.0664449855685234, \n . 0.33249568939209, 0.0457809790968895, 0.0238950178027153, 0.0689418464899063, \n . 0.128218695521355, 0.0647233501076698, 0.0465860180556774, 0.483961760997772, \n . 0.323328614234924, 0.0202507209032774, 0.00781307555735111, 0.0132071143016219, \n . 0.479898303747177, 0.00864096637815237, 0.220367729663849, 0.0202103722840548, \n . 0.625684440135956, 0.0432341359555721, 0.0210209097713232, 0.0369304530322552, \n . 0.822352111339569, 0.0902927070856094, 0.0268963370472193, 0.0124893533065915, \n . 0.0296626575291157, 0.0244113001972437, 0.0678343251347542, 0.023356081917882, \n . 0.629496157169342, 0.0869597718119621, 0.49594509601593, 0.03347197920084, \n . 0.022802609950304, 0.0277745053172112, 0.0545661672949791, 0.0220080874860287, \n . 0.0564245022833347, 0.120202094316483, 0.034977313131094, 0.0107826953753829, \n . 0.181960567831993, 0.0340306125581264, 0.0893788412213326, 0.0357880406081676, \n . 0.0152113195508718, 0.0382338799536228, 0.107487209141254, 0.0518111139535904, \n . 0.053287398070097, 0.145553261041641, 0.0409869365394115, 0.139655411243439, \n . 0.0563377514481544, 0.873125493526459, 0.0999210998415947, 0.0275249425321817, \n . 0.0431342907249928, 0.0720826387405396, 0.091246984899044, 0.0149259679019451, \n . 0.0226578768342733, 0.224549546837807, 0.0232735499739647, 0.0434281714260578, \n . 0.100096732378006, 0.0160216521471739, 0.0361574701964855, 0.0598349682986736, \n . 0.0299529228359461, 0.0570321269333363, 0.0478442125022411, 0.0438731126487255, \n . 0.0632670074701309, 0.0291528459638357, 0.042676255106926, 0.00403996696695685, \n . 0.51465892791748, 0.00934256613254547, 0.0381387732923031, 0.510943055152893, \n . 0.362949877977371, 0.0530483722686768, 0.0306331664323807, 0.0158806387335062, \n . 0.0243658442050219, 0.0549993440508842, 0.028629207983613, 0.0615754500031471, \n . 0.024198841303587, 0.00207085534930229, 0.0215809531509876, 0.0444679297506809, \n . 0.0582491792738438, 0.0486298464238644, 0.0455776788294315, 0.0981303676962852, \n . 0.0172188598662615, 0.0521740093827248, 0.0228536929935217, 0.0395967587828636, \n . 0.0502726621925831, 0.0112886754795909, 0.0398802272975445, 0.00727288238704205, \n . 0.0511702485382557, 0.00772523088380694, 0.110048696398735, 0.143624916672707, \n . 0.616434454917908, 0.0301851481199265, 0.0711100101470947, 0.0207899138331413, \n . 0.0506943501532078, 0.0584152527153492, 0.0601043552160263, 0.0556823313236237, \n . 0.0377223119139671, 0.020181942731142, 0.0723119974136353, 0.321214556694031, \n . 0.0244010649621487, 0.0445371940732002, 0.0386887080967426, 0.0221053343266249, \n . 0.0536149069666862, 0.0351311154663563, 0.0292459446936846, 0.0164049938321114, \n . 0.0149415824562311, 0.0438398495316505, 0.0141025511547923, 0.091242715716362, \n . 0.041460357606411, 0.0753436908125877, 0.00634396355599165, 0.0244135484099388, \n . 0.255958408117294, 0.0623577944934368, 0.0406741574406624, 0.00893855933099985, \n . 0.724602699279785, 0.0430244952440262, 0.369789630174637, 0.255261301994324, \n . 0.042101975530386, 0.0204288642853498, 0.0100592654198408, 0.00960888061672449, \n . 0.0401866622269154, 0.0200234968215227, 0.0218227040022612, 0.953823626041412, \n . 0.143346458673477, 0.03515300527215, 0.0760044530034065, 0.0188084524124861, \n . 0.0393512696027756, 0.912223339080811, 0.50616329908371, 0.350709527730942, \n . 0.0171058140695095, 0.027866180986166, 0.0192717872560024, 0.0162008795887232, \n . 0.0776076391339302, 0.0149512924253941, 0.0570300593972206, 0.0174983385950327, \n . 0.0201265811920166, 0.0527262017130852, 0.0339327268302441, 0.0732263475656509, \n . 0.0627440735697746, 0.0563395656645298, 0.0200035776942968, 0.0909734964370728, \n . 0.0774446129798889, 0.0409308187663555, 0.0182432942092419, 0.0265041943639517, \n . 0.0319575741887093, 0.0649761632084846, 0.075390100479126, 0.0577675104141235, \n . 0.0447608642280102, 0.0712215080857277, 0.0344893857836723, 0.200630754232407, \n . 0.956384360790253, 0.0443598628044128, 0.0630434080958366, 0.710927069187164, \n . 0.144146963953972, 0.0239060427993536, 0.984738111495972, 0.020873200148344, \n . 0.412227064371109, 0.266393303871155, 0.0569892525672913, 0.100615471601486, \n . 0.177765935659409, 0.0741551592946053, 0.0404123440384865, 0.0792478621006012, \n . 0.0605608373880386, 0.128213852643967, 0.0386476032435894, 0.467016786336899, \n . 0.0846041366457939, 0.104949250817299, 0.0701847970485687, 0.0187001079320908, \n . 0.0145557215437293, 0.047794084995985, 0.0105056101456285, 0.0200924333184958, \n . 0.00255649955943227, 0.0208699069917202, 0.0249895378947258, \n . 0.034790825098753, 0.0230291374027729, 0.0937043204903603, 0.0404096692800522, \n . 0.0158949606120586, 0.347113072872162, 0.0714933276176453, 0.0113639961928129, \n . 0.0431391820311546, 0.703913390636444, 0.022776847705245, 0.224705725908279, \n . 0.0322280451655388, 0.0666083097457886, 0.247018799185753, 0.0203250832855701, \n . 0.0380966290831566, 0.113652974367142, 0.0263829585164785, 0.0221773441880941, \n . 0.0489788092672825, 0.020198667421937, 0.0682008191943169, 0.0148623073473573, \n . 0.0709777697920799, 0.180618718266487, 0.0333392433822155, 0.109417237341404, \n . 0.0300200469791889, 0.064672626554966, 0.450175583362579, 0.0743333622813225, \n . 0.480803638696671, 0.027826925739646, 0.0138404909521341, 0.773450493812561, \n . 0.120269194245338, 0.0581484884023666, 0.0725208967924118, 0.0222413241863251, \n . 0.103568308055401, 0.0304743833839893, 0.0437435507774353, 0.94263631105423, \n . 0.0540522709488869, 0.237856954336166, 0.0135512445122004, 0.0367333851754665, \n . 0.328846365213394, 0.0476811714470387, 0.3015456199646, 0.0473453067243099, \n . 0.0476994030177593, 0.143885985016823, 0.019406771287322, 0.0861005112528801, \n . 0.0246877055615187, 0.112887345254421, 0.02334607206285, 0.0492745265364647, \n . 0.032118733972311, 0.719492554664612, 0.0421391725540161, 0.178235292434692, \n . 0.0214789938181639, 0.519802987575531, 0.0245491247624159, 0.0169141441583633, \n . 0.510274648666382, 0.00114424165803939, 0.23722118139267, 0.0715389028191566, \n . 0.0885723903775215, 0.0641826912760735, 0.130370616912842, 0.0429295748472214, \n . 0.0319330878555775, 0.136549726128578, 0.102827519178391, 0.0338843949139118, \n . 0.0965824276208878, 0.0826001092791557, 0.0182124003767967, 0.0517294332385063, \n . 0.0169900469481945, 0.101965054869652, 0.0179693643003702, 0.0280410889536142, \n . 0.232339099049568, 0.0554863177239895, 0.0723692625761032, 0.43348291516304, \n . 0.0786546468734741, 0.0090786861255765, 0.0475673452019691, 0.0167064815759659, \n . 0.286624878644943, 0.0203259252011776, 0.0358551032841206, 0.0265644602477551, \n . 0.0314728580415249, 0.0179211869835854, 0.00271703256294131, \n . 0.0477282404899597, 0.0439547374844551, 0.0305364076048136, 0.0112130604684353, \n . 0.0122438184916973, 0.0387250892817974, 0.0188937727361917, 0.0857846364378929, \n . 0.0371593162417412, 0.0669580772519112, 0.2113097012043, 0.0216470919549465, \n . 0.0279777068644762, 0.847637057304382, 0.0219640955328941, 0.0461504980921745, \n . 0.0322378911077976, 0.0683517307043076, 0.0477777123451233, 0.0645359754562378, \n . 0.0856617838144302, 0.0250976048409939, 0.0517192929983139, 0.150236874818802, \n . 0.00739629613235593, 0.0695744603872299, 0.0143072633072734, \n . 0.079717256128788, 0.00845568720251322, 0.0812844857573509, 0.0928762629628181, \n . 0.0627419427037239, 0.514913380146027, 0.056401327252388, 0.0495056435465813, \n . 0.0362657494843006, 0.0536680892109871, 0.0163423512130976, 0.116912178695202, \n . 0.0545998811721802, 0.108610846102238, 0.095327690243721, 0.0235505104064941, \n . 0.0145958364009857, 0.0536713339388371, 0.0421088300645351, 0.118164278566837, \n . 0.406260281801224, 0.070730447769165, 0.0206056572496891, 0.00547907175496221, \n . 0.0155534567311406, 0.03244424238801, 0.125952988862991, 0.0675766095519066, \n . 0.0718943029642105, 0.100910805165768, 0.0173412598669529, 0.00845391675829887, \n . 0.0330508872866631, 0.0781038105487823, 0.438137382268906, 0.272641867399216, \n . 0.0576942972838879, 0.0201334338635206, 0.0712736174464226, 0.00692196330055594, \n . 0.00615374743938446, 0.813048124313354, 0.00830395892262459, \n . 0.0858495309948921, 0.272300481796265, 0.00720392959192395, 0.0721409097313881, \n . 0.0152738308534026, 0.0141504304483533, 0.0238946136087179, 0.00735874474048615, \n . 0.807601630687714, 0.0110173160210252, 0.0108271008357406, 0.0915613621473312, \n . 0.0377032570540905, 0.00626502279192209, 0.025199631229043, 0.0665744319558144, \n . 0.0810498595237732, 0.00741034047678113, 0.0415402129292488, \n . 0.172449305653572, 0.19619657099247, 0.126358926296234, 0.00287732994183898, \n . 0.0250040870159864, 0.0711459740996361, 0.0302319582551718, 0.070590078830719, \n . 0.0560568422079086, 0.239192962646484, 0.00140693422872573, 0.0421689786016941, \n . 0.0432287827134132, 0.0374124236404896, 0.286575049161911, 0.0375892519950867, \n . 0.0350483469665051, 0.0155683141201735, 0.0805648788809776, 0.0512142181396484, \n . 0.0697290301322937, 0.0300954449921846, 0.0764429271221161, 0.0310957971960306, \n . 0.0453127920627594, 0.82130628824234, 0.0466224066913128, 0.097282811999321, \n . 0.0165163688361645, 0.1865124553442, 0.0253816023468971, 0.0519762188196182, \n . 0.0521207191050053, 0.844386398792267, 0.0217790938913822, 0.0265396945178509, \n . 0.0200700666755438, 0.0177871286869049, 0.764903545379639, 0.544061243534088, \n . 0.00646224664524198, 0.0153303844854236, 0.0100452015176415, \n . 0.0672966167330742, 0.0865419134497643, 0.296376317739487, 0.0100385313853621, \n . 0.0223406832665205, 0.11402890086174, 0.0145112276077271, 0.133575633168221, \n . 0.225976318120956, 0.0413945280015469, 0.0478867217898369, 0.158779084682465, \n . 0.0181356500834227, 0.0170294176787138, 0.0494058169424534, 0.23253670334816, \n . 0.0261881332844496, 0.129263490438461, 0.184917762875557, 0.370724022388458, \n . 0.0134567618370056, 0.229757502675056, 0.0344596095383167, 0.0025987580884248, \n . 0.0182543620467186, 0.0438000485301018, 0.0347626283764839, 0.0856918469071388, \n . 0.0903467684984207, 0.541002213954926, 0.0891648754477501, 0.0457197465002537, \n . 0.236607268452644, 0.0141561003401875, 0.0339245498180389, 0.0258426386862993, \n . 0.0235778242349625, 0.354132235050201, 0.066376268863678, 0.0202855430543423, \n . 0.0301146432757378, 0.655322551727295, 0.0125437146052718, 0.0464569330215454, \n . 0.0247179642319679, 0.028987230733037, 0.176725655794144, 0.0106138847768307, \n . 0.020077059045434, 0.0483810789883137, 0.0817827880382538, 0.139990821480751, \n . 0.301210850477219, 0.0494046211242676, 0.0487588010728359, 0.0536861568689346, \n . 0.0378331132233143, 0.0088860122486949, 0.0678288415074348, 0.0259707197546959, \n . 0.205029770731926, 0.0598531812429428, 0.035842165350914, 0.178848177194595, \n . 0.0285389889031649, 0.208916217088699, 0.0410971343517303, 0.118841499090195, \n . 0.0468591637909412, 0.0205342080444098, 0.0485227219760418, 0.037640854716301, \n . 0.0630991607904434, 0.0732099413871765, 0.0198852904140949, 0.0359297916293144, \n . 0.386303693056107, 0.0247462820261717, 0.0592422112822533, 0.0207038335502148, \n . 0.0319597646594048, 0.0254599768668413, 0.0297716669738293, 0.0203706789761782, \n . 0.178195297718048, 0.0265102740377188, 0.150144502520561, 0.135654240846634, \n . 0.0530773736536503, 0.0213832762092352, 0.145807981491089, 0.0906590446829796, \n . 0.0918812975287437, 0.0463630966842175, 0.0285870358347893, 0.0877225920557976, \n . 0.0383078381419182, 0.0154172172769904, 0.138987809419632, 0.0455598495900631, \n . 0.0157012399286032, 0.201349183917046, 0.0175623651593924, 0.0656487420201302, \n . 0.231856599450111, 0.317705512046814, 0.0199367348104715, 0.0417634248733521, \n . 0.147906884551048, 0.0207678806036711, 0.0917327627539635, 0.0479621067643166, \n . 0.074668176472187, 0.0350648872554302, 0.015150124207139, 0.114326275885105, \n . 0.0611165128648281, 0.0344476811587811, 0.0387980155646801, 0.0584555752575397, \n . 0.0614222660660744, 0.0287190731614828, 0.170322075486183, 0.0209891181439161, \n . 0.0380927175283432, 0.00299621280282736, 0.0149587234482169, \n . 0.114479921758175, 0.0301211625337601, 0.0603374540805817, 0.201404720544815, \n . 0.24660986661911, 0.0371820889413357, 0.0435307323932648, 0.0145812770351768, \n . 0.102664731442928, 0.0873173028230667, 0.0052272891625762, 0.140048936009407, \n . 0.0690663307905197, 0.061853650957346, 0.0471599400043488, 0.0361800938844681, \n . 0.164213284850121, 0.0355842150747776, 0.0373864956200123, 0.0106171099469066, \n . 0.101725749671459, 0.240004643797874, 0.0796502530574799, 0.0707152336835861, \n . 0.0190607402473688, 0.384167790412903, 0.0116853471845388, 0.0333198420703411, \n . 0.131532967090607, 0.0133160231634974, 0.0420397035777569, 0.0618123821914196, \n . 0.0880574807524681, 0.00193929020315409, 0.0120883816853166, \n . 0.0161500014364719, 0.0215887017548084, 0.0610641911625862, 0.063870869576931, \n . 0.0504023805260658, 0.0755547434091568, 0.0094078378751874, 0.210421368479729, \n . 0.0431698672473431, 0.0254974085837603, 0.19211483001709, 0.0364379249513149, \n . 0.0869034305214882, 0.020903579890728, 0.0633067637681961, 0.122385635972023, \n . 0.0104203931987286, 0.0774207040667534, 0.889619529247284, 0.0938890427350998, \n . 0.00344908563420177, 0.0414122901856899, 0.106319688260555, 0.0221224520355463, \n . 0.0653431564569473, 0.00297185173258185, 0.00185753195546567, \n . 0.0678486675024033, 0.0523747280240059, 0.0626469105482101, 0.235091656446457, \n . 0.000974869646597654, 0.0191740561276674, 0.0458728782832623, \n . 0.840516269207001, 0.0123647637665272, 0.0301851481199265, 0.0394545271992683, \n . 0.0710821077227592, 0.0216175969690084, 0.0163678657263517, 0.072373203933239, \n . 0.0108577543869615, 0.0465226583182812, 0.00938376504927874, \n . 0.0895311087369919, 0.227099537849426, 0.10956434160471, 0.0452273264527321, \n . 0.0439843200147152, 0.0232651978731155, 0.0433821119368076, 0.00486608268693089, \n . 0.0422280952334404, 0.0275087933987379, 0.0712150931358337, 0.348393470048904, \n . 0.0345403216779232, 0.221121788024902, 0.0770294740796089, 0.0683667361736298, \n . 0.354194492101669, 0.00640112441033125, 0.0263871774077415, 0.00676799472421408, \n . 0.134576186537743, 0.0401706174015999, 0.464796960353851, 0.0248130820691586, \n . 0.110255345702171, 0.2426967471838, 0.0278606973588467, 0.327633947134018, \n . 0.0143354935571551, 0.0443896763026714, 0.889527678489685, 0.0652415901422501, \n . 0.00133960891980678, 0.0557071678340435, 0.0358517803251743, \n . 0.0193793680518866, 0.0770814567804337, 0.0160322617739439, 0.00552744511514902, \n . 0.0961580500006676, 0.0597115159034729, 0.0744163021445274, 0.088222548365593, \n . 0.050924189388752, 0.400300085544586, 0.0688117742538452, 0.0444681718945503, \n . 0.0166476927697659, 0.130361095070839, 0.0585107915103436, 0.036994181573391, \n . 0.0420481115579605, 0.0357962101697922, 0.047295618802309, 0.0625538602471352, \n . 0.0249004289507866, 0.00581439724192023, 0.0959784984588623, \n . 0.0339465215802193, 0.0400335118174553, 0.0199026484042406, 0.0683262720704079, \n . 0.141944125294685, 0.0244062691926956, 0.0182109903544188, 0.189073920249939, \n . 0.111477181315422, 0.861885845661163, 0.11024110019207, 0.0145902754738927, \n . 0.0411994569003582, 0.0157473869621754, 0.454807221889496, 0.0160494428128004, \n . 0.137462705373764, 0.0362982377409935, 0.00663846731185913, 0.031860239803791, \n . 0.0657245665788651, 0.0264181531965733, 0.853468537330627, 0.038394071161747, \n . 0.0494705438613892, 0.024124201387167, 0.0160979647189379, 0.267128199338913, \n . 0.0883068516850471, 0.359480619430542, 0.0842285752296448, 0.0153989372774959, \n . 0.0454062148928642, 0.024077020585537, 0.0811913087964058, 0.0484916381537914, \n . 0.0773027688264847, 0.0274649914354086, 0.517338991165161, 0.269901216030121, \n . 0.0317890979349613, 0.0285835154354572, 0.0258673168718815, 0.139843329787254, \n . 0.0249733794480562, 0.0671084970235825, 0.0165135096758604, 0.0482801683247089, \n . 0.000322643754770979, 0.969637811183929, 0.0369445532560349, \n . 0.0228322669863701, 0.0412891618907452, 0.0489180162549019, 0.313911348581314, \n . 0.0217966753989458, 0.261913657188416, 0.0106090391054749, 0.0312748774886131, \n . 0.0353703908622265, 0.0144414911046624, 0.0223943516612053, 0.0456286892294884, \n . 0.00737458188086748, 0.13593652844429, 0.0123286601155996, 0.066914476454258, \n . 0.00765909813344479, 0.0194212812930346, 0.0562274903059006, \n . 0.310304880142212, 0.329424500465393, 0.0219312645494938, 0.0614866502583027, \n . 0.00991164334118366, 0.0877372995018959, 0.39079549908638, 0.0182113982737064, \n . 0.0132816964760423, 0.084607720375061, 0.0374140553176403, 0.577662944793701, \n . 0.599835395812988, 0.0809168145060539, 0.0606478005647659, 0.0395395755767822, \n . 0.209632098674774, 0.0126787964254618, 0.139524176716805, 0.0316337198019028, \n . 0.0358964689075947, 0.0112160900607705, 0.963918089866638, 0.0531727932393551, \n . 0.0492820106446743, 0.0869916900992393, 0.081598088145256, 0.0498022437095642, \n . 0.0363277308642864, 0.0322520732879639, 0.0460053496062756, 0.011363610625267, \n . 0.0345556996762753, 0.078546330332756, 0.00697363540530205, 0.0642465278506279, \n . 0.0605860874056816, 0.0417448692023754, 0.054530706256628, 0.110686555504799, \n . 0.0717035531997681, 0.0172010529786348, 0.748525738716125, 0.0118703180924058, \n . 0.0022030146792531, 0.344614714384079, 0.047528937458992), check.names = FALSE, \n .     fix.empty.names = TRUE, stringsAsFactors = FALSE)",
      "6. stop(gettextf(\"arguments imply differing number of rows: %s\", \n .     paste(unique(nrows), collapse = \", \")), domain = NA)"
     ]
    }
   ],
   "source": [
    "Final<-NULL\n",
    "Final$client_id<-test_client\n",
    "Final$subscribe<-xgb_prediction_2$xgb_prediction_2\n",
    "Final<-data.frame(Final)\n",
    "Final_XGB<-Final%>%rename(client_id=1)\n",
    "Final_XGB"
   ]
  },
  {
   "cell_type": "code",
   "execution_count": null,
   "id": "2333e88f",
   "metadata": {},
   "outputs": [],
   "source": []
  }
 ],
 "metadata": {
  "interpreter": {
   "hash": "8effc62d758f986d145f40618ec510e8a0d88cc8a9331313bf5a04284bc0cc43"
  },
  "jupytext": {
   "cell_metadata_filter": "-all",
   "main_language": "R",
   "notebook_metadata_filter": "-all"
  },
  "kernelspec": {
   "display_name": "R",
   "language": "R",
   "name": "ir"
  },
  "language_info": {
   "codemirror_mode": "r",
   "file_extension": ".r",
   "mimetype": "text/x-r-source",
   "name": "R",
   "pygments_lexer": "r",
   "version": "4.0.5"
  }
 },
 "nbformat": 4,
 "nbformat_minor": 5
}
